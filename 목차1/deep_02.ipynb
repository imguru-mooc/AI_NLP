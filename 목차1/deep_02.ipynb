{
 "cells": [
  {
   "cell_type": "markdown",
   "metadata": {},
   "source": [
    "### 케라스로 구현한 로지스틱 회귀"
   ]
  },
  {
   "cell_type": "code",
   "execution_count": null,
   "metadata": {},
   "outputs": [],
   "source": [
    "!pip install tensorflow"
   ]
  },
  {
   "cell_type": "code",
   "execution_count": null,
   "metadata": {},
   "outputs": [],
   "source": [
    "from keras.models import Sequential # 케라스의 Sequential()을 임포트\n",
    "from keras.layers import Dense      # 케라스의 Dense()를 임포트\n",
    "from keras import optimizers        # 케라스의 옵티마이저를 임포트\n",
    "import numpy as np # Numpy를 임포트\n",
    "import matplotlib.pyplot as plt\n",
    "\n",
    "X=np.array([1,2,3,4,5,6,7,8]) \n",
    "Y=np.array([0,0,0,0,1,1,1,1]) \n",
    "\n",
    "model=Sequential()\n",
    "model.add(Dense(1, input_dim=1, activation='sigmoid'))\n",
    "RMSprop=optimizers.RMSprop(lr=0.01)\n",
    "model.compile(optimizer=RMSprop ,loss='binary_crossentropy',metrics=['accuracy'])\n",
    "model.fit(X,Y, batch_size=1, epochs=200, shuffle=False)\n",
    "\n",
    "plt.plot(X, Y, 'rx')\n",
    "print(X)\n",
    "print(model.predict(X))\n",
    "plt.show()"
   ]
  },
  {
   "cell_type": "code",
   "execution_count": null,
   "metadata": {},
   "outputs": [],
   "source": [
    "import matplotlib.pyplot as  plt\n",
    "import numpy as np\n",
    "\n",
    "class Neuron:\n",
    "    \n",
    "    def __init__(self):\n",
    "        self.w = 1.0     # 가중치를 초기화합니다\n",
    "        self.b = 1.0     # 절편을 초기화합니다\n",
    "    \n",
    "    def forpass(self, x):\n",
    "        y_hat = x * self.w + self.b       # 직선 방정식을 계산합니다\n",
    "        return y_hat\n",
    "    \n",
    "    def backprop(self, x, err):\n",
    "        w_grad = x * err    # 가중치에 대한 그래디언트를 계산합니다\n",
    "        b_grad = 1 * err    # 절편에 대한 그래디언트를 계산합니다\n",
    "        return w_grad, b_grad\n",
    "\n",
    "    def activation(self, z):\n",
    "        return z\n",
    "    \n",
    "    def fit(self, x, y, epochs=200):\n",
    "        for i in range(epochs):           # 에포크만큼 반복합니다\n",
    "            for x_i, y_i in zip(x, y):    # 모든 샘플에 대해 반복합니다\n",
    "                y_hat = self.forpass(x_i) # 정방향 계산\n",
    "                y_hat = self.activation(y_hat)\n",
    "                err = y_hat - y_i      # 오차 계산\n",
    "                w_grad, b_grad = self.backprop(x_i, err)  # 역방향 계산\n",
    "                self.w -= 0.01*w_grad          # 가중치 업데이트\n",
    "                self.b -= 0.01*b_grad          # 절편 업데이트\n",
    "\n",
    "# x = np.array([1,2,3,4,5,6,7,8])\n",
    "# y = np.array([0,0,0,0,1,1,1,1])\n",
    "x = np.array([1,2,3,4,5,6,7,8,12])\n",
    "y = np.array([0,0,0,0,1,1,1,1,1])                \n",
    "\n",
    "neuron = Neuron()\n",
    "neuron.fit(x, y)\n",
    "\n",
    "for xi, yi in zip(x,y):\n",
    "    plt.plot(xi,yi,\"rx\")\n",
    "\n",
    "y_temp = []\n",
    "for x_i in x:\n",
    "    y_hat = neuron.forpass(x_i)\n",
    "    if( y_hat >= 0.5 ):\n",
    "        print(\"%d : 악성종양\"%x_i)\n",
    "    else:\n",
    "        print(\"%d : 양성종양\"%x_i)\n",
    "    y_temp.append(y_hat)\n",
    "\n",
    "plt.plot(x,y_temp)\n",
    "plt.show()"
   ]
  },
  {
   "cell_type": "markdown",
   "metadata": {},
   "source": [
    "### 오즈비 그래프"
   ]
  },
  {
   "cell_type": "code",
   "execution_count": null,
   "metadata": {},
   "outputs": [],
   "source": [
    "import numpy as np\n",
    "probs = np.arange(0, 1, 0.01)\n",
    "print(type(probs))\n",
    "print(probs.ndim)\n",
    "print(probs.shape)\n",
    "print(probs)"
   ]
  },
  {
   "cell_type": "code",
   "execution_count": null,
   "metadata": {},
   "outputs": [],
   "source": [
    "import numpy as np\n",
    "import matplotlib.pyplot as plt\n",
    "np.random.seed(42)\n",
    "probs = np.arange(0, 1, 0.01)\n",
    "odds = [p/(1-p) for p in probs]\n",
    "plt.plot(probs, odds)\n",
    "plt.xlabel('p')\n",
    "plt.ylabel('p/(1-p)')\n",
    "plt.show()"
   ]
  },
  {
   "cell_type": "markdown",
   "metadata": {},
   "source": [
    "### 로짓 그래프"
   ]
  },
  {
   "cell_type": "code",
   "execution_count": null,
   "metadata": {},
   "outputs": [],
   "source": [
    "probs  = np.arange(0.001, 0.999, 0.001)\n",
    "logit = [np.log(p/(1-p)) for p in probs]\n",
    "plt.plot(probs, logit)\n",
    "plt.xlabel('p')\n",
    "plt.ylabel('log(p/(1-p))')\n",
    "plt.show()"
   ]
  },
  {
   "cell_type": "markdown",
   "metadata": {},
   "source": [
    "### 시그모이드 그래프"
   ]
  },
  {
   "cell_type": "code",
   "execution_count": null,
   "metadata": {
    "scrolled": true
   },
   "outputs": [],
   "source": [
    "zs = np.arange(-10., 10., 0.1)\n",
    "gs = [1/(1+np.exp(-z)) for z in zs]\n",
    "plt.plot(zs, gs)\n",
    "plt.xlabel('z')\n",
    "plt.ylabel('1/(1+e^-z)')\n",
    "plt.show()"
   ]
  },
  {
   "cell_type": "markdown",
   "metadata": {},
   "source": [
    "### 로지스틱 회귀 구현"
   ]
  },
  {
   "cell_type": "code",
   "execution_count": null,
   "metadata": {},
   "outputs": [],
   "source": [
    "import matplotlib.pyplot as  plt\n",
    "import numpy as np\n",
    "\n",
    "class Neuron:\n",
    "    \n",
    "    def __init__(self):\n",
    "        self.w = 1.0     # 가중치를 초기화합니다\n",
    "        self.b = 1.0     # 절편을 초기화합니다\n",
    "    \n",
    "    def forpass(self, x):\n",
    "        z = x * self.w + self.b       # 직선 방정식을 계산합니다\n",
    "        return z\n",
    "    \n",
    "    def backprop(self, x, err):\n",
    "        w_grad = x * err    # 가중치에 대한 그래디언트를 계산합니다\n",
    "        b_grad = 1 * err    # 절편에 대한 그래디언트를 계산합니다\n",
    "        return w_grad, b_grad\n",
    "\n",
    "    def activation(self, z):\n",
    "#         a = z;\n",
    "        a = 1/(1+np.exp(-z))\n",
    "        return a\n",
    "    \n",
    "    def fit(self, x, y, epochs=200):\n",
    "        for i in range(epochs):           # 에포크만큼 반복합니다\n",
    "            for x_i, y_i in zip(x, y):    # 모든 샘플에 대해 반복합니다\n",
    "                z = self.forpass(x_i) # 정방향 계산\n",
    "                a = self.activation(z)\n",
    "                err = a - y_i       # 오차 계산\n",
    "                w_grad, b_grad = self.backprop(x_i, err)  # 역방향 계산\n",
    "                self.w -= 0.01*w_grad          # 가중치 업데이트\n",
    "                self.b -= 0.01*b_grad          # 절편 업데이트\n",
    "\n",
    "# x = np.array([1,2,3,4,5,6,7,8])\n",
    "# y = np.array([0,0,0,0,1,1,1,1])\n",
    "x = np.array([1,2,3,4,5,6,7,8,30])\n",
    "y = np.array([0,0,0,0,1,1,1,1,1])                \n",
    "\n",
    "neuron = Neuron()\n",
    "neuron.fit(x, y, epochs=1000)\n",
    "\n",
    "for xi, yi in zip(x,y):\n",
    "    plt.plot(xi,yi,\"rx\")\n",
    "\n",
    "for x_i in x:\n",
    "    y_hat = neuron.forpass(x_i)\n",
    "    a = neuron.activation(y_hat)\n",
    "    if( a >= 0.5 ):\n",
    "        print(\"%d : 악성종양\"%x_i)\n",
    "    else:\n",
    "        print(\"%d : 양성종양\"%x_i)\n",
    "    y_temp.append(a)\n",
    "\n",
    "x = np.arange(0,x[-1],0.1)\n",
    "y_temp = []\n",
    "  \n",
    "for i, x_i in enumerate(x):\n",
    "    y_hat = neuron.forpass(x_i)\n",
    "    a = neuron.activation(y_hat)\n",
    "    y_temp.append(a)    \n",
    "    \n",
    "plt.plot(x,y_temp)\n",
    "plt.show()"
   ]
  },
  {
   "cell_type": "markdown",
   "metadata": {},
   "source": [
    "### 로그 그래프 "
   ]
  },
  {
   "cell_type": "code",
   "execution_count": null,
   "metadata": {},
   "outputs": [],
   "source": [
    "# a = np.linspace(0, 10, 10)\n",
    "# print(a)\n",
    "\n",
    "b = np.arange(0,10,1)\n",
    "print(b)"
   ]
  },
  {
   "cell_type": "code",
   "execution_count": null,
   "metadata": {},
   "outputs": [],
   "source": [
    "zs = np.arange(0.01, 10., 0.01)\n",
    "gs = [np.log(z) for z in zs]\n",
    "# print(gs)\n",
    "plt.plot(zs, gs)\n",
    "plt.xlim(0,1)\n",
    "plt.ylim(-5,0)\n",
    "plt.xlabel('z')\n",
    "plt.ylabel('(np.log(z)')\n",
    "plt.show()"
   ]
  },
  {
   "cell_type": "code",
   "execution_count": null,
   "metadata": {},
   "outputs": [],
   "source": [
    "zs = np.arange(0.01, 10., 0.01)\n",
    "gs = [-np.log(z) for z in zs]\n",
    "plt.plot(zs, gs)\n",
    "plt.xlim(0,1)\n",
    "plt.ylim(0,5)\n",
    "plt.xlabel('z')\n",
    "plt.ylabel('(np.log(z)')\n",
    "plt.show()"
   ]
  },
  {
   "cell_type": "code",
   "execution_count": null,
   "metadata": {},
   "outputs": [],
   "source": [
    "zs = np.arange(0.01, 10., 0.01)\n",
    "gs = [-np.log(1-z) for z in zs]\n",
    "plt.plot(zs, gs)\n",
    "plt.xlim(0,1)\n",
    "plt.ylim(0,5)\n",
    "plt.xlabel('z')\n",
    "plt.ylabel('-(np.log(1-z)')\n",
    "plt.show()"
   ]
  },
  {
   "cell_type": "code",
   "execution_count": null,
   "metadata": {
    "scrolled": true
   },
   "outputs": [],
   "source": [
    "from sklearn.datasets import load_breast_cancer\n",
    "cancer = load_breast_cancer()\n",
    "print(cancer.data.shape, cancer.target.shape)"
   ]
  },
  {
   "cell_type": "code",
   "execution_count": null,
   "metadata": {
    "scrolled": true
   },
   "outputs": [],
   "source": [
    "print(cancer.data[:3].shape)  # (569,30)\n",
    "print(cancer.data[:3])"
   ]
  },
  {
   "cell_type": "code",
   "execution_count": null,
   "metadata": {},
   "outputs": [],
   "source": [
    "import matplotlib.pyplot as  plt\n",
    "import numpy as np\n",
    "\n",
    "plt.boxplot(cancer.data)\n",
    "plt.xlabel('feature')\n",
    "plt.ylabel('value')\n",
    "plt.show()"
   ]
  },
  {
   "cell_type": "code",
   "execution_count": null,
   "metadata": {},
   "outputs": [],
   "source": [
    "cancer.feature_names"
   ]
  },
  {
   "cell_type": "code",
   "execution_count": null,
   "metadata": {},
   "outputs": [],
   "source": [
    "cancer.feature_names[[3,23]]"
   ]
  },
  {
   "cell_type": "code",
   "execution_count": null,
   "metadata": {},
   "outputs": [],
   "source": [
    "cancer.target"
   ]
  },
  {
   "cell_type": "code",
   "execution_count": null,
   "metadata": {},
   "outputs": [],
   "source": [
    "np.unique(cancer.target, return_counts=True)"
   ]
  },
  {
   "cell_type": "code",
   "execution_count": null,
   "metadata": {},
   "outputs": [],
   "source": [
    "x = cancer.data\n",
    "print(x.shape)\n",
    "y = cancer.target\n",
    "print(y.ndim)\n",
    "print(y.shape)"
   ]
  },
  {
   "cell_type": "code",
   "execution_count": null,
   "metadata": {},
   "outputs": [],
   "source": [
    "from sklearn.model_selection import train_test_split\n",
    "\n",
    "x_train, x_test, y_train, y_test = train_test_split(x, y, stratify=y, \n",
    "test_size=0.2, random_state=42)"
   ]
  },
  {
   "cell_type": "code",
   "execution_count": null,
   "metadata": {},
   "outputs": [],
   "source": [
    "print(x_train.shape, x_test.shape)"
   ]
  },
  {
   "cell_type": "code",
   "execution_count": null,
   "metadata": {},
   "outputs": [],
   "source": [
    "np.unique(y_train, return_counts=True)"
   ]
  },
  {
   "cell_type": "code",
   "execution_count": null,
   "metadata": {},
   "outputs": [],
   "source": [
    "np.unique(y_test, return_counts=True)"
   ]
  },
  {
   "cell_type": "code",
   "execution_count": null,
   "metadata": {},
   "outputs": [],
   "source": [
    "x = np.arange(455*30).reshape(455,30)\n",
    "print(x.shape)\n",
    "w = np.ones(x.shape[1])\n",
    "print(w.shape)\n",
    "print(w)"
   ]
  },
  {
   "cell_type": "code",
   "execution_count": null,
   "metadata": {},
   "outputs": [],
   "source": [
    "x = np.arange(455*30).reshape(455,30)\n",
    "y = np.arange(455)\n",
    "print(x.shape)\n",
    "print(y.shape)\n",
    "for x_i, y_i in zip(x,y):\n",
    "    print(x_i.shape)\n",
    "    print(y_i.shape)\n",
    "    print(x_i)\n",
    "    break"
   ]
  },
  {
   "cell_type": "code",
   "execution_count": null,
   "metadata": {},
   "outputs": [],
   "source": [
    "a = [1,2,3,4,5]\n",
    "b = [6,7,8,9,10]\n",
    "for i,j in zip(a,b):\n",
    "    print(i,j)"
   ]
  },
  {
   "cell_type": "code",
   "execution_count": null,
   "metadata": {},
   "outputs": [],
   "source": [
    "x = np.array([1,2,3,4,5])\n",
    "w = np.array([2,2,2,2,2])\n",
    "x*w   # 아다마르의 곱\n",
    "sum(x*w)+10"
   ]
  },
  {
   "cell_type": "code",
   "execution_count": null,
   "metadata": {},
   "outputs": [],
   "source": [
    "x = np.arange(30)\n",
    "w = np.arange(30)\n",
    "b = 10\n",
    "x*w   # 아다마르의 곱\n",
    "np.sum(x*w) + b"
   ]
  },
  {
   "cell_type": "code",
   "execution_count": null,
   "metadata": {},
   "outputs": [],
   "source": [
    "z = np.arange(30)\n",
    "print(z)\n",
    "z = np.clip(z, 10, 20)\n",
    "print(z)"
   ]
  },
  {
   "cell_type": "code",
   "execution_count": null,
   "metadata": {},
   "outputs": [],
   "source": [
    "z = 1000\n",
    "a = np.exp(z)\n",
    "print(a)"
   ]
  },
  {
   "cell_type": "code",
   "execution_count": null,
   "metadata": {},
   "outputs": [],
   "source": [
    "z = -1000\n",
    "z = np.clip(z, -100, 0)\n",
    "print(z)\n",
    "a = np.exp(-z)\n",
    "print(a)"
   ]
  },
  {
   "cell_type": "code",
   "execution_count": null,
   "metadata": {},
   "outputs": [],
   "source": [
    "x = np.array([1,2,3,4])\n",
    "err = 0\n",
    "w_grad = x*err  # [1,2,3,4]*[0,0,0,0] , broad cast 연산,  repeat 연산\n",
    "print(w_grad)"
   ]
  },
  {
   "cell_type": "code",
   "execution_count": null,
   "metadata": {},
   "outputs": [],
   "source": [
    "x = np.array([1,2,3,4])\n",
    "err = -0.9\n",
    "w_grad = x*err  # [1,2,3,4]*[-0.9,-0.9,-0.9,-0.9] , broad cast 연산,  repeat 연산\n",
    "print(w_grad)"
   ]
  },
  {
   "cell_type": "code",
   "execution_count": null,
   "metadata": {},
   "outputs": [],
   "source": [
    "a = np.arange(4)\n",
    "print(a)\n",
    "print(a.shape)"
   ]
  },
  {
   "cell_type": "code",
   "execution_count": null,
   "metadata": {},
   "outputs": [],
   "source": [
    "a = np.arange(4).reshape(2,2)\n",
    "print(a.shape)\n",
    "print(len(a))\n",
    "print(a.shape[0])\n",
    "print(a[0].shape)\n",
    "print(a[0])\n",
    "print(a[1])"
   ]
  },
  {
   "cell_type": "code",
   "execution_count": null,
   "metadata": {},
   "outputs": [],
   "source": [
    "class LogisticNeuron:\n",
    "    \n",
    "    def __init__(self):\n",
    "        self.w = None\n",
    "        self.b = None\n",
    "\n",
    "    def forpass(self, x):  # x.shape => (30,), self.w.shape => (30,)\n",
    "        z = np.sum(x * self.w) + self.b  # 직선 방정식을 계산합니다\n",
    "        return z\n",
    "\n",
    "    def backprop(self, x, err):\n",
    "        w_grad = x * err    # 가중치에 대한 그래디언트를 계산합니다\n",
    "        b_grad = 1 * err    # 절편에 대한 그래디언트를 계산합니다\n",
    "        return w_grad, b_grad\n",
    "\n",
    "    def activation(self, z):\n",
    "        z = np.clip(z, -100, None) # 안전한 np.exp() 계산을 위해\n",
    "        a = 1 / (1 + np.exp(-z))  # 시그모이드 계산\n",
    "        return a\n",
    "        \n",
    "    def fit(self, x, y, epochs=100, lr=0.01): # x.shape (455,30)\n",
    "#         print(\"x.shape=\", x.shape)\n",
    "        self.w = np.ones(x.shape[1])      # 가중치를 초기화합니다.\n",
    "#         print(\"self.w.shape=\", self.w.shape) # self.w.shape (30,)\n",
    "        self.b = 0                        # 절편을 초기화합니다.\n",
    "        for i in range(epochs):           # epochs만큼 반복합니다\n",
    "            for x_i, y_i in zip(x, y):    # (455,30) , (455,)   x_i = x[0] , y_i = y[0]\n",
    "#                 print(\"x_i.shape=\", x_i.shape)\n",
    "                z = self.forpass(x_i)     # 정방향 계산 (30,)\n",
    "#                 print(\"z=\", z)\n",
    "                a = self.activation(z)    # 활성화 함수 적용\n",
    "#                 print(\"a=\", a)\n",
    "#                 print(\"y_i=\",y_i)\n",
    "                err = (a - y_i)           # (0.1 - 1 )\n",
    "                w_grad, b_grad = self.backprop(x_i, err) # 역방향 계산\n",
    "#                 print(\"w_grad=\", w_grad)\n",
    "                self.w -= lr*w_grad          # 가중치 업데이트\n",
    "                self.b -= lr*b_grad          # 절편 업데이트\n",
    "                \n",
    "#                 if( err > 0 and err < 1 ):\n",
    "#                 break\n",
    "#             break\n",
    "    \n",
    "    def predict(self, x):\n",
    "        z = [self.forpass(x_i) for x_i in x]    # 정방향 계산\n",
    "        a = self.activation(np.array(z))        # 활성화 함수 적용\n",
    "        return a >= 0.5"
   ]
  },
  {
   "cell_type": "code",
   "execution_count": null,
   "metadata": {},
   "outputs": [],
   "source": [
    "print(x_train.shape)"
   ]
  },
  {
   "cell_type": "code",
   "execution_count": null,
   "metadata": {},
   "outputs": [],
   "source": [
    "neuron = LogisticNeuron()\n",
    "neuron.fit(x_train, y_train) # (455,30) , (455,)"
   ]
  },
  {
   "cell_type": "code",
   "execution_count": null,
   "metadata": {},
   "outputs": [],
   "source": [
    "print(neuron.predict(x_test))\n",
    "print(y_test)"
   ]
  },
  {
   "cell_type": "code",
   "execution_count": null,
   "metadata": {},
   "outputs": [],
   "source": [
    "print(neuron.predict(x_test) == y_test)"
   ]
  },
  {
   "cell_type": "code",
   "execution_count": null,
   "metadata": {},
   "outputs": [],
   "source": [
    "np.mean(neuron.predict(x_test) == y_test)"
   ]
  },
  {
   "cell_type": "markdown",
   "metadata": {},
   "source": [
    "### 단일층 신경망 구현"
   ]
  },
  {
   "cell_type": "code",
   "execution_count": null,
   "metadata": {},
   "outputs": [],
   "source": [
    "losses = []\n",
    "\n",
    "for i in range(7):\n",
    "    losses.append(i+1)\n",
    "\n",
    "print(losses)"
   ]
  },
  {
   "cell_type": "code",
   "execution_count": null,
   "metadata": {},
   "outputs": [],
   "source": [
    "np.random.permutation(10)"
   ]
  },
  {
   "cell_type": "code",
   "execution_count": null,
   "metadata": {},
   "outputs": [],
   "source": [
    "a = [1,2,3,4,5]\n",
    "print(a)"
   ]
  },
  {
   "cell_type": "code",
   "execution_count": null,
   "metadata": {},
   "outputs": [],
   "source": [
    "a = np.array([1,2,3,4,5])\n",
    "print(a.shape)\n",
    "print(a)  # [1 2 3 4 5]\n",
    "print(a[0])        # 인덱싱\n",
    "print(a[0:2])      # 슬라이싱\n",
    "print(a[[0,2,4]])  # 정수 리스트 인덱싱"
   ]
  },
  {
   "cell_type": "code",
   "execution_count": null,
   "metadata": {},
   "outputs": [],
   "source": [
    "x = np.array([3,4,2,5,1,6,23,7])\n",
    "print(x)\n",
    "indexes = np.random.permutation(len(x))\n",
    "print(indexes)\n",
    "print(x[indexes])  # x[[4 6 3 5 1 0 2 7]]"
   ]
  },
  {
   "cell_type": "code",
   "execution_count": null,
   "metadata": {},
   "outputs": [],
   "source": [
    "x = np.arange(20*10).reshape(20,10)\n",
    "# print(x)\n",
    "indexes = np.random.permutation(len(x))  # len(x) => x.shape[0]\n",
    "print(indexes)\n",
    "print(x[indexes])"
   ]
  },
  {
   "cell_type": "code",
   "execution_count": null,
   "metadata": {},
   "outputs": [],
   "source": [
    "import numpy as np\n",
    "import matplotlib.pyplot as plt\n",
    "from sklearn.datasets import load_breast_cancer\n",
    "from sklearn.model_selection import train_test_split\n",
    "\n",
    "cancer = load_breast_cancer()\n",
    "x = cancer.data\n",
    "y = cancer.target\n",
    "x_train, x_test, y_train, y_test = train_test_split(x, y, stratify=y, \n",
    "                                                    test_size=0.2, random_state=42)\n",
    "\n",
    "class SingleLayer:\n",
    "    \n",
    "    def __init__(self, rand_flag=0):\n",
    "        self.w = None\n",
    "        self.b = None\n",
    "        self.losses = []\n",
    "        self.rand_flag = rand_flag\n",
    "\n",
    "    def forpass(self, x):\n",
    "        z = np.sum(x * self.w) + self.b  # 직선 방정식을 계산합니다\n",
    "        return z\n",
    "\n",
    "    def backprop(self, x, err):\n",
    "        w_grad = x * err    # 가중치에 대한 그래디언트를 계산합니다\n",
    "        b_grad = 1 * err    # 절편에 대한 그래디언트를 계산합니다\n",
    "        return w_grad, b_grad\n",
    "\n",
    "    def activation(self, z):\n",
    "        z = np.clip(z, -100, None) # 안전한 np.exp() 계산을 위해\n",
    "        a = 1 / (1 + np.exp(-z))  # 시그모이드 계산\n",
    "        return a\n",
    "        \n",
    "    def fit(self, x, y, epochs=100):\n",
    "        self.w = np.ones(x.shape[1])               # 가중치를 초기화합니다.\n",
    "        self.b = 0                                 # 절편을 초기화합니다.\n",
    "        for i in range(epochs):                    # epochs만큼 반복합니다\n",
    "            loss = 0\n",
    "            # 인덱스를 섞습니다\n",
    "            \n",
    "            if( self.rand_flag == 1 ):\n",
    "                indexes = np.random.permutation(len(x))\n",
    "            else:\n",
    "                indexes = np.arange(len(x))\n",
    "                \n",
    "            for i in indexes:                      # 모든 샘플에 대해 반복합니다\n",
    "                z = self.forpass(x[i])             # 정방향 계산\n",
    "                a = self.activation(z)             # 활성화 함수 적용\n",
    "                err = a - y[i]                     # 오차 계산\n",
    "                w_grad, b_grad = self.backprop(x[i], err) # 역방향 계산\n",
    "                self.w -= w_grad                   # 가중치 업데이트\n",
    "                self.b -= b_grad                   # 절편 업데이트\n",
    "                # 안전한 로그 계산을 위해 클리핑한 후 손실을 누적합니다\n",
    "                a = np.clip(a, 1e-10, 1-1e-10)\n",
    "                loss += -(y[i]*np.log(a)+(1-y[i])*np.log(1-a))\n",
    "            # 에포크마다 평균 손실을 저장합니다\n",
    "            self.losses.append(loss/len(y))\n",
    "    \n",
    "    def predict(self, x):\n",
    "        z = [self.forpass(x_i) for x_i in x]     # 정방향 계산\n",
    "        return np.array(z) > 0                   # 스텝 함수 적용\n",
    "    \n",
    "    def score(self, x, y):\n",
    "        return np.mean(self.predict(x) == y)\n",
    "\n",
    "layer1 = SingleLayer(rand_flag=0)\n",
    "layer1.fit(x_train, y_train,60)\n",
    "print(layer1.score(x_test, y_test))\n",
    "\n",
    "layer2 = SingleLayer(rand_flag=1)\n",
    "layer2.fit(x_train, y_train,60)\n",
    "print(layer2.score(x_test, y_test))"
   ]
  },
  {
   "cell_type": "code",
   "execution_count": null,
   "metadata": {
    "scrolled": true
   },
   "outputs": [],
   "source": [
    "plt.plot(layer1.losses)\n",
    "plt.plot(layer2.losses)\n",
    "plt.xlabel('epoch')\n",
    "plt.ylabel('loss')\n",
    "plt.show()"
   ]
  },
  {
   "cell_type": "markdown",
   "metadata": {},
   "source": [
    "### 스케일 테스트"
   ]
  },
  {
   "cell_type": "code",
   "execution_count": null,
   "metadata": {},
   "outputs": [],
   "source": [
    "import numpy as np\n",
    "x_train = np.arange(100)\n",
    "print(x_train)\n",
    "\n",
    "train_mean = np.mean(x_train)\n",
    "print(train_mean)\n",
    "train_std = np.std(x_train)\n",
    "print(train_std)\n",
    "x_train_scaled = (x_train - train_mean) / train_std\n",
    "print(x_train_scaled)\n",
    "print(np.mean(x_train_scaled))\n",
    "print(np.std(x_train_scaled))"
   ]
  },
  {
   "cell_type": "code",
   "execution_count": null,
   "metadata": {},
   "outputs": [],
   "source": [
    "a = np.array([[1,2,3],\n",
    "              [4,5,6]])\n",
    "\n",
    "print(np.sum(a))        # 21\n",
    "print(np.sum(a,axis=1)) # [6 15]\n",
    "print(np.sum(a,axis=0)) # [5 7 9]"
   ]
  },
  {
   "cell_type": "code",
   "execution_count": null,
   "metadata": {},
   "outputs": [],
   "source": [
    "import numpy as np\n",
    "x_train = np.arange(10*2).reshape(10,2)\n",
    "print(x_train)\n",
    "x_train[:,1] *= 100\n",
    "print(x_train)\n",
    "train_mean = np.mean(x_train, axis=0)\n",
    "print(train_mean)\n",
    "train_std = np.std(x_train, axis=0)\n",
    "print(train_std)\n",
    "x_train_scaled = (x_train - train_mean) / train_std\n",
    "print(x_train_scaled)\n",
    "print(np.mean(x_train_scaled, axis=0))\n",
    "print(np.std(x_train_scaled, axis=0))"
   ]
  },
  {
   "cell_type": "code",
   "execution_count": null,
   "metadata": {
    "scrolled": true
   },
   "outputs": [],
   "source": [
    "import numpy as np\n",
    "import matplotlib.pyplot as plt\n",
    "\n",
    "from sklearn.datasets import load_breast_cancer\n",
    "from sklearn.model_selection import train_test_split\n",
    "cancer = load_breast_cancer()\n",
    "\n",
    "x = cancer.data\n",
    "y = cancer.target\n",
    "x_train, x_test, y_train, y_test = train_test_split(x, y, stratify=y, \n",
    "                                                            test_size=0.2, random_state=42)\n",
    "print(cancer.feature_names[[2,3]])\n",
    "plt.boxplot(x_train[:, 2:4])\n",
    "plt.xlabel('feature')\n",
    "plt.ylabel('value')\n",
    "plt.show()"
   ]
  },
  {
   "cell_type": "code",
   "execution_count": null,
   "metadata": {},
   "outputs": [],
   "source": [
    "a = np.array([1,2,3,4,5])\n",
    "print( np.sum(a) )"
   ]
  },
  {
   "cell_type": "code",
   "execution_count": null,
   "metadata": {},
   "outputs": [],
   "source": [
    "a = np.arange(100,400,3)\n",
    "print(a)\n",
    "std = np.std(a)\n",
    "print(std)\n",
    "mean = np.mean(a)\n",
    "print(mean)\n",
    "z = (a - mean)/std\n",
    "print(np.std(z))\n",
    "print(np.mean(z)) #\n",
    "print(z)"
   ]
  },
  {
   "cell_type": "code",
   "execution_count": null,
   "metadata": {},
   "outputs": [],
   "source": [
    "a = np.array([[1,2,3],   # 6\n",
    "              [4,5,6]])  # 15\n",
    "print(a.shape)\n",
    "print(np.sum(a))\n",
    "print(np.sum(a, axis=0)) # 행끼리 더하라.  , 세로로 더하라\n",
    "print(np.sum(a, axis=1)) # 열끼리 더하라.  , 가로로 더하라"
   ]
  },
  {
   "cell_type": "code",
   "execution_count": null,
   "metadata": {},
   "outputs": [],
   "source": [
    "# x.shape => (455,30) \n",
    "\n",
    "a = np.array([[1,4000],\n",
    "              [2,3000],\n",
    "              [3,5000]])\n",
    "print(a.shape)\n",
    "print(a)\n",
    "train_mean = np.mean(a, axis=0)\n",
    "print(train_mean)\n",
    "train_std = np.std(a, axis=0)\n",
    "print(train_std)\n",
    "a_scaled = (a - train_mean) / train_std\n",
    "print(a_scaled)"
   ]
  },
  {
   "cell_type": "code",
   "execution_count": null,
   "metadata": {},
   "outputs": [],
   "source": [
    "import numpy as np\n",
    "import matplotlib.pyplot as plt\n",
    "\n",
    "from sklearn.datasets import load_breast_cancer\n",
    "from sklearn.model_selection import train_test_split\n",
    "cancer = load_breast_cancer()\n",
    "x = cancer.data\n",
    "y = cancer.target\n",
    "x_train_all, x_test, y_train_all, y_test = train_test_split(x, y, stratify=y, \n",
    "                                                            test_size=0.2, random_state=42)\n",
    "\n",
    "x_train, x_val, y_train, y_val = train_test_split(x_train_all, y_train_all, stratify=y_train_all, \n",
    "                                                  test_size=0.2, random_state=42)\n",
    "print(len(x_train), len(x_val))"
   ]
  },
  {
   "cell_type": "code",
   "execution_count": 82,
   "metadata": {},
   "outputs": [],
   "source": [
    "class SingleLayer:\n",
    "    \n",
    "    def __init__(self, learning_rate=0.1, l1=0, l2=0):\n",
    "        self.w = None\n",
    "        self.b = None\n",
    "        self.losses = []\n",
    "        self.val_losses = []\n",
    "        self.w_history = []\n",
    "        self.lr = learning_rate\n",
    "        self.l1 = l1\n",
    "        self.l2 = l2\n",
    "\n",
    "    def forpass(self, x):\n",
    "        z = np.sum(x * self.w) + self.b    # 직선 방정식을 계산합니다\n",
    "        return z\n",
    "\n",
    "    def backprop(self, x, err):\n",
    "        w_grad = x * err          # 가중치에 대한 그래디언트를 계산합니다\n",
    "        b_grad = 1 * err    # 절편에 대한 그래디언트를 계산합니다\n",
    "        return w_grad, b_grad\n",
    "\n",
    "    def activation(self, z):\n",
    "        z = np.clip(z, -100, None) # 안전한 np.exp() 계산을 위해\n",
    "        a = 1 / (1 + np.exp(-z))  # 시그모이드 계산\n",
    "        return a\n",
    "        \n",
    "    def fit(self, x, y, epochs=100, x_val=None, y_val=None):\n",
    "        self.w = np.ones(x.shape[1])               # 가중치를 초기화합니다.\n",
    "        self.b = 0                                 # 절편을 초기화합니다.\n",
    "        self.w_history.append(self.w.copy())       # 가중치를 기록합니다.\n",
    "        np.random.seed(42)                         # 랜덤 시드를 지정합니다.\n",
    "        for i in range(epochs):                    # epochs만큼 반복합니다.\n",
    "            loss = 0\n",
    "            # 인덱스를 섞습니다\n",
    "            indexes = np.random.permutation(np.arange(len(x)))\n",
    "            for i in indexes:                      # 모든 샘플에 대해 반복합니다\n",
    "                z = self.forpass(x[i])             # 정방향 계산\n",
    "                a = self.activation(z)             # 활성화 함수 적용\n",
    "                err = (a - y[i])                  # 오차 계산\n",
    "                w_grad, b_grad = self.backprop(x[i], err) # 역방향 계산\n",
    "                # 그래디언트에서 페널티 항의 미분 값을 더합니다\n",
    "                w_grad += self.l1 * np.sign(self.w) + self.l2 * self.w\n",
    "                self.w -= self.lr * w_grad         # 가중치 업데이트\n",
    "                self.b -= b_grad                   # 절편 업데이트\n",
    "                # 가중치를 기록합니다.\n",
    "                self.w_history.append(self.w.copy())\n",
    "                # 안전한 로그 계산을 위해 클리핑한 후 손실을 누적합니다\n",
    "                a = np.clip(a, 1e-10, 1-1e-10)\n",
    "                loss += -(y[i]*np.log(a)+(1-y[i])*np.log(1-a))\n",
    "            # 에포크마다 평균 손실을 저장합니다\n",
    "            self.losses.append(loss/len(y) + self.reg_loss())\n",
    "            # 검증 세트에 대한 손실을 계산합니다\n",
    "            self.update_val_loss(x_val, y_val)\n",
    "    \n",
    "    def predict(self, x):\n",
    "        z = [self.forpass(x_i) for x_i in x]     # 정방향 계산\n",
    "        return np.array(z) >= 0                   # 스텝 함수 적용\n",
    "    \n",
    "    def score(self, x, y):\n",
    "        return np.mean(self.predict(x) == y)\n",
    "    \n",
    "    def reg_loss(self):\n",
    "        return self.l1 * np.sum(np.abs(self.w)) + self.l2 / 2 * np.sum(self.w**2)\n",
    "    \n",
    "    def update_val_loss(self, x_val, y_val):\n",
    "        if x_val is None:\n",
    "            return\n",
    "        val_loss = 0\n",
    "        for i in range(len(x_val)):\n",
    "            z = self.forpass(x_val[i])     # 정방향 계산\n",
    "            a = self.activation(z)         # 활성화 함수 적용\n",
    "            a = np.clip(a, 1e-10, 1-1e-10)\n",
    "            val_loss += -(y_val[i]*np.log(a)+(1-y_val[i])*np.log(1-a))\n",
    "        self.val_losses.append(val_loss/len(y_val) + self.reg_loss())"
   ]
  },
  {
   "cell_type": "code",
   "execution_count": null,
   "metadata": {},
   "outputs": [],
   "source": [
    "layer1 = SingleLayer()\n",
    "layer1.fit(x_train, y_train)\n",
    "layer1.score(x_val, y_val)"
   ]
  },
  {
   "cell_type": "code",
   "execution_count": null,
   "metadata": {},
   "outputs": [],
   "source": [
    "w2 = []\n",
    "w3 = []\n",
    "for w in layer1.w_history:\n",
    "    w2.append(w[2])\n",
    "    w3.append(w[3])\n",
    "plt.plot(w2, w3)\n",
    "plt.plot(w2[-1], w3[-1], 'ro')\n",
    "plt.xlabel('w[2]')\n",
    "plt.ylabel('w[3]')\n",
    "plt.show()"
   ]
  },
  {
   "cell_type": "code",
   "execution_count": null,
   "metadata": {},
   "outputs": [],
   "source": [
    "train_mean = np.mean(x_train, axis=0)\n",
    "train_std = np.std(x_train, axis=0)\n",
    "x_train_scaled = (x_train - train_mean) / train_std"
   ]
  },
  {
   "cell_type": "code",
   "execution_count": null,
   "metadata": {},
   "outputs": [],
   "source": [
    "layer2 = SingleLayer()\n",
    "layer2.fit(x_train_scaled, y_train)"
   ]
  },
  {
   "cell_type": "code",
   "execution_count": null,
   "metadata": {},
   "outputs": [],
   "source": [
    "w2 = []\n",
    "w3 = []\n",
    "for w in layer2.w_history:\n",
    "    w2.append(w[2])\n",
    "    w3.append(w[3])\n",
    "plt.plot(w2, w3)\n",
    "plt.plot(w2[-1], w3[-1], 'ro')\n",
    "plt.xlabel('w[2]')\n",
    "plt.ylabel('w[3]')\n",
    "plt.show()"
   ]
  },
  {
   "cell_type": "code",
   "execution_count": null,
   "metadata": {},
   "outputs": [],
   "source": [
    "layer2.score(x_val, y_val)"
   ]
  },
  {
   "cell_type": "code",
   "execution_count": null,
   "metadata": {},
   "outputs": [],
   "source": [
    "val_mean = np.mean(x_val, axis=0)\n",
    "val_std = np.std(x_val, axis=0)\n",
    "x_val_scaled = (x_val - val_mean) / val_std"
   ]
  },
  {
   "cell_type": "code",
   "execution_count": null,
   "metadata": {},
   "outputs": [],
   "source": [
    "layer2.score(x_val_scaled, y_val)"
   ]
  },
  {
   "cell_type": "code",
   "execution_count": null,
   "metadata": {},
   "outputs": [],
   "source": [
    "x_val_scaled = (x_val - train_mean) / train_std"
   ]
  },
  {
   "cell_type": "code",
   "execution_count": null,
   "metadata": {},
   "outputs": [],
   "source": [
    "layer2.score(x_val_scaled, y_val)"
   ]
  },
  {
   "cell_type": "code",
   "execution_count": null,
   "metadata": {},
   "outputs": [],
   "source": [
    "layer3 = SingleLayer()\n",
    "layer3.fit(x_train_scaled, y_train, x_val=x_val_scaled, y_val=y_val)\n",
    "plt.ylim(0, 0.3)\n",
    "plt.plot(layer3.losses)\n",
    "plt.plot(layer3.val_losses)\n",
    "plt.ylabel('loss')\n",
    "plt.xlabel('epoch')\n",
    "plt.legend(['train_loss', 'val_loss'])\n",
    "plt.show()"
   ]
  },
  {
   "cell_type": "code",
   "execution_count": null,
   "metadata": {},
   "outputs": [],
   "source": [
    "layer4 = SingleLayer()\n",
    "layer4.fit(x_train_scaled, y_train, epochs=20)\n",
    "layer4.score(x_val_scaled, y_val)"
   ]
  },
  {
   "cell_type": "code",
   "execution_count": 83,
   "metadata": {},
   "outputs": [
    {
     "data": {
      "image/png": "[encoded data removed]",
      "text/plain": [
       "<Figure size 432x288 with 1 Axes>"
      ]
     },
     "metadata": {
      "needs_background": "light"
     },
     "output_type": "display_data"
    },
    {
     "data": {
      "image/png": "[encoded data removed]",
      "text/plain": [
       "<Figure size 432x288 with 1 Axes>"
      ]
     },
     "metadata": {
      "needs_background": "light"
     },
     "output_type": "display_data"
    },
    {
     "data": {
      "image/png": "[encoded data removed]",
      "text/plain": [
       "<Figure size 432x288 with 1 Axes>"
      ]
     },
     "metadata": {
      "needs_background": "light"
     },
     "output_type": "display_data"
    },
    {
     "data": {
      "image/png": "[encoded data removed]",
      "text/plain": [
       "<Figure size 432x288 with 1 Axes>"
      ]
     },
     "metadata": {
      "needs_background": "light"
     },
     "output_type": "display_data"
    },
    {
     "data": {
      "image/png": "[encoded data removed]",
      "text/plain": [
       "<Figure size 432x288 with 1 Axes>"
      ]
     },
     "metadata": {
      "needs_background": "light"
     },
     "output_type": "display_data"
    },
    {
     "data": {
      "image/png": "[encoded data removed]",
      "text/plain": [
       "<Figure size 432x288 with 1 Axes>"
      ]
     },
     "metadata": {
      "needs_background": "light"
     },
     "output_type": "display_data"
    }
   ],
   "source": [
    "l1_list = [0.0001, 0.001, 0.01]\n",
    "\n",
    "for l1 in l1_list:\n",
    "    lyr = SingleLayer(l1=l1)\n",
    "    lyr.fit(x_train_scaled, y_train, x_val=x_val_scaled, y_val=y_val)\n",
    "    \n",
    "    plt.plot(lyr.losses)\n",
    "    plt.plot(lyr.val_losses)\n",
    "    plt.title('Learning Curve (l1={})'.format(l1))\n",
    "    plt.ylabel('loss')\n",
    "    plt.xlabel('epoch')\n",
    "    plt.legend(['train_loss', 'val_loss'])\n",
    "    plt.ylim(0, 0.3)\n",
    "    plt.show()\n",
    "    \n",
    "    plt.plot(lyr.w, 'bo')\n",
    "    plt.title('Weight (l1={})'.format(l1))\n",
    "    plt.ylabel('value')\n",
    "    plt.xlabel('weight')\n",
    "    plt.ylim(-4, 4)\n",
    "    plt.show()"
   ]
  },
  {
   "cell_type": "code",
   "execution_count": 84,
   "metadata": {},
   "outputs": [
    {
     "data": {
      "image/png": "[encoded data removed]",
      "text/plain": [
       "<Figure size 432x288 with 1 Axes>"
      ]
     },
     "metadata": {
      "needs_background": "light"
     },
     "output_type": "display_data"
    },
    {
     "data": {
      "image/png": "[encoded data removed]",
      "text/plain": [
       "<Figure size 432x288 with 1 Axes>"
      ]
     },
     "metadata": {
      "needs_background": "light"
     },
     "output_type": "display_data"
    },
    {
     "data": {
      "image/png": "[encoded data removed]",
      "text/plain": [
       "<Figure size 432x288 with 1 Axes>"
      ]
     },
     "metadata": {
      "needs_background": "light"
     },
     "output_type": "display_data"
    },
    {
     "data": {
      "image/png": "[encoded data removed]",
      "text/plain": [
       "<Figure size 432x288 with 1 Axes>"
      ]
     },
     "metadata": {
      "needs_background": "light"
     },
     "output_type": "display_data"
    },
    {
     "data": {
      "image/png": "[encoded data removed]",
      "text/plain": [
       "<Figure size 432x288 with 1 Axes>"
      ]
     },
     "metadata": {
      "needs_background": "light"
     },
     "output_type": "display_data"
    },
    {
     "data": {
      "image/png": "[encoded data removed]",
      "text/plain": [
       "<Figure size 432x288 with 1 Axes>"
      ]
     },
     "metadata": {
      "needs_background": "light"
     },
     "output_type": "display_data"
    }
   ],
   "source": [
    "l2_list = [0.0001, 0.001, 0.01]\n",
    "\n",
    "for l2 in l2_list:\n",
    "    lyr = SingleLayer(l2=l2)\n",
    "    lyr.fit(x_train_scaled, y_train, x_val=x_val_scaled, y_val=y_val)\n",
    "    \n",
    "    plt.plot(lyr.losses)\n",
    "    plt.plot(lyr.val_losses)\n",
    "    plt.title('Learning Curve (l2={})'.format(l2))\n",
    "    plt.ylabel('loss')\n",
    "    plt.xlabel('epoch')\n",
    "    plt.legend(['train_loss', 'val_loss'])\n",
    "    plt.ylim(0, 0.3)\n",
    "    plt.show()\n",
    "    \n",
    "    plt.plot(lyr.w, 'bo')\n",
    "    plt.title('Weight (l2={})'.format(l2))\n",
    "    plt.ylabel('value')\n",
    "    plt.xlabel('weight')\n",
    "    plt.ylim(-4, 4)\n",
    "    plt.show()"
   ]
  },
  {
   "cell_type": "code",
   "execution_count": 94,
   "metadata": {},
   "outputs": [
    {
     "name": "stdout",
     "output_type": "stream",
     "text": [
      "[0, 1, 2, 6, 7, 8]\n",
      "[10 20 30 70 80 90]\n"
     ]
    }
   ],
   "source": [
    "# a = np.array([1,2,3])\n",
    "# b = np.array([4,5,6])\n",
    "# print(a+b)\n",
    "\n",
    "# a = [1,2,3]\n",
    "# b = [4,5,6]\n",
    "# print(a+b)\n",
    "\n",
    "# print(range(10))\n",
    "# for i in range(10):\n",
    "#     print(i, end=\" \")\n",
    "    \n",
    "# l1 = list(range(10))\n",
    "# print(l1)\n",
    "\n",
    "# a = 'hello '\n",
    "# b = 'world'\n",
    "# print(a+b)\n",
    "\n",
    "array = np.array([10,20,30,40,50,60,70,80,90])\n",
    "a= [0,1,2]\n",
    "b= [6,7,8]\n",
    "index = a+b\n",
    "print(index)\n",
    "print(array[index])  # a[ [0,1,2,6,7,8] ]"
   ]
  },
  {
   "cell_type": "code",
   "execution_count": 99,
   "metadata": {},
   "outputs": [
    {
     "name": "stdout",
     "output_type": "stream",
     "text": [
      "[100 101 102 103 104 105 106 107 108 109 110 111 112 113 114 115 116 117\n",
      " 118 119 120 121 122 123 124 125 126 127 128 129 130 131 132 133 134 135\n",
      " 136 137 138 139 140 141 142 143 144 145 146 147 148 149 150 151 152 153\n",
      " 154 155 156 157 158 159 160 161 162 163 164 165 166 167 168 169 170 171\n",
      " 172 173 174 175 176 177 178 179 180 181 182 183 184 185 186 187 188 189\n",
      " 190 191 192 193 194 195 196 197 198 199]\n",
      "[110 111 112 113 114 115 116 117 118 119]\n",
      "[0, 1, 2, 3, 4, 5, 6, 7, 8, 9, 20, 21, 22, 23, 24, 25, 26, 27, 28, 29, 30, 31, 32, 33, 34, 35, 36, 37, 38, 39, 40, 41, 42, 43, 44, 45, 46, 47, 48, 49, 50, 51, 52, 53, 54, 55, 56, 57, 58, 59, 60, 61, 62, 63, 64, 65, 66, 67, 68, 69, 70, 71, 72, 73, 74, 75, 76, 77, 78, 79, 80, 81, 82, 83, 84, 85, 86, 87, 88, 89, 90, 91, 92, 93, 94, 95, 96, 97, 98, 99]\n",
      "[100 101 102 103 104 105 106 107 108 109 120 121 122 123 124 125 126 127\n",
      " 128 129 130 131 132 133 134 135 136 137 138 139 140 141 142 143 144 145\n",
      " 146 147 148 149 150 151 152 153 154 155 156 157 158 159 160 161 162 163\n",
      " 164 165 166 167 168 169 170 171 172 173 174 175 176 177 178 179 180 181\n",
      " 182 183 184 185 186 187 188 189 190 191 192 193 194 195 196 197 198 199]\n"
     ]
    }
   ],
   "source": [
    "a = np.arange(100,200)\n",
    "print(a)\n",
    "start=10\n",
    "end = 20\n",
    "val = a[start:end]\n",
    "print(val)\n",
    "index = list(range(0, start))+list(range(end, len(a)))\n",
    "print(index)\n",
    "# # # # b = list(a)\n",
    "fold = a[np.array(index)]\n",
    "print(fold)\n",
    "# fold[0] = 999\n",
    "# print(fold)\n",
    "# print(a)\n",
    "\n"
   ]
  },
  {
   "cell_type": "code",
   "execution_count": 100,
   "metadata": {},
   "outputs": [
    {
     "name": "stdout",
     "output_type": "stream",
     "text": [
      "(455, 30)\n",
      "0.9711111111111113\n"
     ]
    }
   ],
   "source": [
    "print(x_train_all.shape)\n",
    "validation_scores = []\n",
    "k = 10\n",
    "bins = len(x_train_all) // k\n",
    "\n",
    "for i in range(k):\n",
    "    start = i*bins\n",
    "    end = (i+1)*bins\n",
    "    val_fold = x_train_all[start:end]\n",
    "    val_target = y_train_all[start:end]\n",
    "    \n",
    "    train_index = list(range(0, start))+list(range(end, len(x_train)))\n",
    "    train_fold = x_train_all[train_index]\n",
    "    train_target = y_train_all[train_index]\n",
    "    train_mean = np.mean(train_fold, axis=0)\n",
    "    train_std = np.std(train_fold, axis=0)\n",
    "    train_fold_scaled = (train_fold - train_mean) / train_std\n",
    "    val_fold_scaled = (val_fold - train_mean) / train_std\n",
    "    \n",
    "    lyr = SingleLayer(l2=0.01)\n",
    "    lyr.fit(train_fold_scaled, train_target, epochs=50)\n",
    "    score = lyr.score(val_fold_scaled, val_target)\n",
    "    validation_scores.append(score)\n",
    "\n",
    "print(np.mean(validation_scores))"
   ]
  },
  {
   "cell_type": "code",
   "execution_count": null,
   "metadata": {},
   "outputs": [],
   "source": []
  }
 ],
 "metadata": {
  "kernelspec": {
   "display_name": "Python 3 (ipykernel)",
   "language": "python",
   "name": "python3"
  },
  "language_info": {
   "codemirror_mode": {
    "name": "ipython",
    "version": 3
   },
   "file_extension": ".py",
   "mimetype": "text/x-python",
   "name": "python",
   "nbconvert_exporter": "python",
   "pygments_lexer": "ipython3",
   "version": "3.9.7"
  }
 },
 "nbformat": 4,
 "nbformat_minor": 4
}
