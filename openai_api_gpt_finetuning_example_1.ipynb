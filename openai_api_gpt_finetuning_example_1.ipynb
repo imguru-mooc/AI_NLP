{
  "nbformat": 4,
  "nbformat_minor": 0,
  "metadata": {
    "colab": {
      "provenance": []
    },
    "kernelspec": {
      "name": "python3",
      "display_name": "Python 3"
    },
    "language_info": {
      "name": "python"
    }
  },
  "cells": [
    {
      "cell_type": "markdown",
      "source": [
        "# OpenAI API를 이용한 GPT Fine-Tuning 기초 예제\n",
        "## 작성자 : AISchool ( https://www.udemy.com/course/llm-part-1-llama-2-fine-tuning/?referralCode=32804C68FEF005E82BCF )"
      ],
      "metadata": {
        "id": "pJ6i2qcdZ0Ow"
      }
    },
    {
      "cell_type": "code",
      "execution_count": null,
      "metadata": {
        "id": "zjfqB6AOlpTP"
      },
      "outputs": [],
      "source": [
        "!pip install openai"
      ]
    },
    {
      "cell_type": "markdown",
      "source": [
        "# 학습 데이터 uplaod\n",
        "## mydata.jsonl 파일 링크 : https://drive.google.com/file/d/1wYTLakSnBF_kA6TyUjgXy52r360KSaSL/view?usp=sharing"
      ],
      "metadata": {
        "id": "5mD6jwiImSDL"
      }
    },
    {
      "cell_type": "code",
      "source": [
        "import os\n",
        "import openai\n",
        "openai.api_key = \"여러분의_OPEN_API_KEY\"\n",
        "openai.File.create(\n",
        "  file=open(\"mydata.jsonl\", \"rb\"),\n",
        "  purpose='fine-tune'\n",
        ")"
      ],
      "metadata": {
        "id": "7UCqdAaEmLq-"
      },
      "execution_count": null,
      "outputs": []
    },
    {
      "cell_type": "markdown",
      "source": [
        "# 업로드한 File Id 확인"
      ],
      "metadata": {
        "id": "kygFWMmTncx5"
      }
    },
    {
      "cell_type": "code",
      "source": [
        "openai.File.list()"
      ],
      "metadata": {
        "id": "-W4D0Kb6nQVZ"
      },
      "execution_count": null,
      "outputs": []
    },
    {
      "cell_type": "markdown",
      "source": [
        "# Fine-Tuning 작업 시작"
      ],
      "metadata": {
        "id": "y8GTve87nqWp"
      }
    },
    {
      "cell_type": "code",
      "source": [
        "openai.FineTuningJob.create(training_file=\"여러분의_File_Id\", model=\"gpt-3.5-turbo\")"
      ],
      "metadata": {
        "id": "99N3OZB6nhkh"
      },
      "execution_count": null,
      "outputs": []
    },
    {
      "cell_type": "markdown",
      "source": [
        "# Fine-Tuning된 모델 Inference"
      ],
      "metadata": {
        "id": "cSW_h-Wgn7TB"
      }
    },
    {
      "cell_type": "markdown",
      "source": [
        "## Sarcastic 한 자아를 가진 챗봇으로 요청"
      ],
      "metadata": {
        "id": "bJg-W-mGoOZD"
      }
    },
    {
      "cell_type": "code",
      "source": [
        "completion = openai.ChatCompletion.create(\n",
        "  model=\"여러분의_모델_id\",\n",
        "  messages=[\n",
        "    {\"role\": \"system\", \"content\": \"Marv is a factual chatbot that is also sarcastic.\"},\n",
        "    {\"role\": \"user\", \"content\": \"What's the capital of France?\"}\n",
        "  ]\n",
        ")\n",
        "print(completion.choices[0].message)"
      ],
      "metadata": {
        "id": "PDZRMWLbn0d2"
      },
      "execution_count": null,
      "outputs": []
    },
    {
      "cell_type": "markdown",
      "source": [
        "## Helpful 한 자아를 가진 챗봇으로 요청"
      ],
      "metadata": {
        "id": "dmaIITGNoQfH"
      }
    },
    {
      "cell_type": "code",
      "source": [
        "completion = openai.ChatCompletion.create(\n",
        "  model=\"여러분의_모델_id\",\n",
        "  messages=[\n",
        "    {\"role\": \"system\", \"content\": \"You are a helpful assistant.\"},\n",
        "    {\"role\": \"user\", \"content\": \"What's the capital of France?\"}\n",
        "  ]\n",
        ")\n",
        "print(completion.choices[0].message)"
      ],
      "metadata": {
        "id": "xA9sf_hDoLUo"
      },
      "execution_count": null,
      "outputs": []
    },
    {
      "cell_type": "markdown",
      "source": [
        "# Fine-Tuning 작업 취소하기"
      ],
      "metadata": {
        "id": "7A7oidbxrXyQ"
      }
    },
    {
      "cell_type": "code",
      "source": [
        "openai.FineTuningJob.cancel(\"여러분의_job_id\")"
      ],
      "metadata": {
        "id": "QiNx-yr7oZJN"
      },
      "execution_count": null,
      "outputs": []
    }
  ]
}