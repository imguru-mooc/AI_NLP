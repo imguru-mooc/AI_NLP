{
  "nbformat": 4,
  "nbformat_minor": 0,
  "metadata": {
    "colab": {
      "provenance": []
    },
    "kernelspec": {
      "name": "python3",
      "display_name": "Python 3"
    },
    "language_info": {
      "name": "python"
    }
  },
  "cells": [
    {
      "cell_type": "markdown",
      "source": [
        "# 랭체인(LangChain) Entity Extraction 예제 - 리뷰감정분석GPT 만들기(SentimentGPT)\n",
        "## 작성자 : AISchool ( http://aischool.ai/%ec%98%a8%eb%9d%bc%ec%9d%b8-%ea%b0%95%ec%9d%98-%ec%b9%b4%ed%85%8c%ea%b3%a0%eb%a6%ac/ )\n",
        "## 속성기반 감정분석 데이터 다운받기 : https://www.aihub.or.kr/aihubdata/data/view.do?currMenu=115&topMenu=100&aihubDataSe=data&dataSetSn=71603"
      ],
      "metadata": {
        "id": "pJ6i2qcdZ0Ow"
      }
    },
    {
      "cell_type": "markdown",
      "source": [
        "# LangChain 라이브러리 설치"
      ],
      "metadata": {
        "id": "4hniXcElvMif"
      }
    },
    {
      "cell_type": "code",
      "source": [
        "!pip install langchain openai chromadb tiktoken pypdf unstructured sentence-transformers jq"
      ],
      "metadata": {
        "colab": {
          "base_uri": "https://localhost:8080/"
        },
        "id": "FSTi00anFGqf",
        "outputId": "d16a4f30-0189-4544-bd44-ef299e7c2e2f"
      },
      "execution_count": null,
      "outputs": [
        {
          "output_type": "stream",
          "name": "stdout",
          "text": [
            "Collecting langchain\n",
            "  Downloading langchain-0.0.348-py3-none-any.whl (2.0 MB)\n",
            "\u001b[2K     \u001b[90m━━━━━━━━━━━━━━━━━━━━━━━━━━━━━━━━━━━━━━━━\u001b[0m \u001b[32m2.0/2.0 MB\u001b[0m \u001b[31m11.7 MB/s\u001b[0m eta \u001b[36m0:00:00\u001b[0m\n",
            "\u001b[?25hCollecting openai\n",
            "  Downloading openai-1.3.8-py3-none-any.whl (221 kB)\n",
            "\u001b[2K     \u001b[90m━━━━━━━━━━━━━━━━━━━━━━━━━━━━━━━━━━━━━━━━\u001b[0m \u001b[32m221.5/221.5 kB\u001b[0m \u001b[31m15.6 MB/s\u001b[0m eta \u001b[36m0:00:00\u001b[0m\n",
            "\u001b[?25hCollecting chromadb\n",
            "  Downloading chromadb-0.4.18-py3-none-any.whl (502 kB)\n",
            "\u001b[2K     \u001b[90m━━━━━━━━━━━━━━━━━━━━━━━━━━━━━━━━━━━━━━━━\u001b[0m \u001b[32m502.4/502.4 kB\u001b[0m \u001b[31m39.9 MB/s\u001b[0m eta \u001b[36m0:00:00\u001b[0m\n",
            "\u001b[?25hCollecting tiktoken\n",
            "  Downloading tiktoken-0.5.2-cp310-cp310-manylinux_2_17_x86_64.manylinux2014_x86_64.whl (2.0 MB)\n",
            "\u001b[2K     \u001b[90m━━━━━━━━━━━━━━━━━━━━━━━━━━━━━━━━━━━━━━━━\u001b[0m \u001b[32m2.0/2.0 MB\u001b[0m \u001b[31m65.1 MB/s\u001b[0m eta \u001b[36m0:00:00\u001b[0m\n",
            "\u001b[?25hCollecting pypdf\n",
            "  Downloading pypdf-3.17.1-py3-none-any.whl (277 kB)\n",
            "\u001b[2K     \u001b[90m━━━━━━━━━━━━━━━━━━━━━━━━━━━━━━━━━━━━━━━━\u001b[0m \u001b[32m277.6/277.6 kB\u001b[0m \u001b[31m26.8 MB/s\u001b[0m eta \u001b[36m0:00:00\u001b[0m\n",
            "\u001b[?25hCollecting unstructured\n",
            "  Downloading unstructured-0.11.2-py3-none-any.whl (1.7 MB)\n",
            "\u001b[2K     \u001b[90m━━━━━━━━━━━━━━━━━━━━━━━━━━━━━━━━━━━━━━━━\u001b[0m \u001b[32m1.7/1.7 MB\u001b[0m \u001b[31m58.1 MB/s\u001b[0m eta \u001b[36m0:00:00\u001b[0m\n",
            "\u001b[?25hCollecting sentence-transformers\n",
            "  Downloading sentence-transformers-2.2.2.tar.gz (85 kB)\n",
            "\u001b[2K     \u001b[90m━━━━━━━━━━━━━━━━━━━━━━━━━━━━━━━━━━━━━━━━\u001b[0m \u001b[32m86.0/86.0 kB\u001b[0m \u001b[31m10.4 MB/s\u001b[0m eta \u001b[36m0:00:00\u001b[0m\n",
            "\u001b[?25h  Preparing metadata (setup.py) ... \u001b[?25l\u001b[?25hdone\n",
            "Collecting jq\n",
            "  Downloading jq-1.6.0-cp310-cp310-manylinux_2_17_x86_64.manylinux2014_x86_64.whl (656 kB)\n",
            "\u001b[2K     \u001b[90m━━━━━━━━━━━━━━━━━━━━━━━━━━━━━━━━━━━━━━━━\u001b[0m \u001b[32m656.0/656.0 kB\u001b[0m \u001b[31m46.4 MB/s\u001b[0m eta \u001b[36m0:00:00\u001b[0m\n",
            "\u001b[?25hRequirement already satisfied: PyYAML>=5.3 in /usr/local/lib/python3.10/dist-packages (from langchain) (6.0.1)\n",
            "Requirement already satisfied: SQLAlchemy<3,>=1.4 in /usr/local/lib/python3.10/dist-packages (from langchain) (2.0.23)\n",
            "Requirement already satisfied: aiohttp<4.0.0,>=3.8.3 in /usr/local/lib/python3.10/dist-packages (from langchain) (3.9.1)\n",
            "Requirement already satisfied: async-timeout<5.0.0,>=4.0.0 in /usr/local/lib/python3.10/dist-packages (from langchain) (4.0.3)\n",
            "Collecting dataclasses-json<0.7,>=0.5.7 (from langchain)\n",
            "  Downloading dataclasses_json-0.6.3-py3-none-any.whl (28 kB)\n",
            "Collecting jsonpatch<2.0,>=1.33 (from langchain)\n",
            "  Downloading jsonpatch-1.33-py2.py3-none-any.whl (12 kB)\n",
            "Collecting langchain-core<0.1,>=0.0.12 (from langchain)\n",
            "  Downloading langchain_core-0.0.12-py3-none-any.whl (181 kB)\n",
            "\u001b[2K     \u001b[90m━━━━━━━━━━━━━━━━━━━━━━━━━━━━━━━━━━━━━━━━\u001b[0m \u001b[32m181.5/181.5 kB\u001b[0m \u001b[31m19.3 MB/s\u001b[0m eta \u001b[36m0:00:00\u001b[0m\n",
            "\u001b[?25hCollecting langsmith<0.1.0,>=0.0.63 (from langchain)\n",
            "  Downloading langsmith-0.0.69-py3-none-any.whl (48 kB)\n",
            "\u001b[2K     \u001b[90m━━━━━━━━━━━━━━━━━━━━━━━━━━━━━━━━━━━━━━━━\u001b[0m \u001b[32m48.2/48.2 kB\u001b[0m \u001b[31m5.9 MB/s\u001b[0m eta \u001b[36m0:00:00\u001b[0m\n",
            "\u001b[?25hRequirement already satisfied: numpy<2,>=1 in /usr/local/lib/python3.10/dist-packages (from langchain) (1.23.5)\n",
            "Requirement already satisfied: pydantic<3,>=1 in /usr/local/lib/python3.10/dist-packages (from langchain) (1.10.13)\n",
            "Requirement already satisfied: requests<3,>=2 in /usr/local/lib/python3.10/dist-packages (from langchain) (2.31.0)\n",
            "Requirement already satisfied: tenacity<9.0.0,>=8.1.0 in /usr/local/lib/python3.10/dist-packages (from langchain) (8.2.3)\n",
            "Requirement already satisfied: anyio<5,>=3.5.0 in /usr/local/lib/python3.10/dist-packages (from openai) (3.7.1)\n",
            "Requirement already satisfied: distro<2,>=1.7.0 in /usr/lib/python3/dist-packages (from openai) (1.7.0)\n",
            "Collecting httpx<1,>=0.23.0 (from openai)\n",
            "  Downloading httpx-0.25.2-py3-none-any.whl (74 kB)\n",
            "\u001b[2K     \u001b[90m━━━━━━━━━━━━━━━━━━━━━━━━━━━━━━━━━━━━━━━━\u001b[0m \u001b[32m75.0/75.0 kB\u001b[0m \u001b[31m9.3 MB/s\u001b[0m eta \u001b[36m0:00:00\u001b[0m\n",
            "\u001b[?25hRequirement already satisfied: sniffio in /usr/local/lib/python3.10/dist-packages (from openai) (1.3.0)\n",
            "Requirement already satisfied: tqdm>4 in /usr/local/lib/python3.10/dist-packages (from openai) (4.66.1)\n",
            "Requirement already satisfied: typing-extensions<5,>=4.5 in /usr/local/lib/python3.10/dist-packages (from openai) (4.5.0)\n",
            "Collecting chroma-hnswlib==0.7.3 (from chromadb)\n",
            "  Downloading chroma_hnswlib-0.7.3-cp310-cp310-manylinux_2_17_x86_64.manylinux2014_x86_64.whl (2.4 MB)\n",
            "\u001b[2K     \u001b[90m━━━━━━━━━━━━━━━━━━━━━━━━━━━━━━━━━━━━━━━━\u001b[0m \u001b[32m2.4/2.4 MB\u001b[0m \u001b[31m81.1 MB/s\u001b[0m eta \u001b[36m0:00:00\u001b[0m\n",
            "\u001b[?25hCollecting fastapi>=0.95.2 (from chromadb)\n",
            "  Downloading fastapi-0.104.1-py3-none-any.whl (92 kB)\n",
            "\u001b[2K     \u001b[90m━━━━━━━━━━━━━━━━━━━━━━━━━━━━━━━━━━━━━━━━\u001b[0m \u001b[32m92.9/92.9 kB\u001b[0m \u001b[31m10.1 MB/s\u001b[0m eta \u001b[36m0:00:00\u001b[0m\n",
            "\u001b[?25hCollecting uvicorn[standard]>=0.18.3 (from chromadb)\n",
            "  Downloading uvicorn-0.24.0.post1-py3-none-any.whl (59 kB)\n",
            "\u001b[2K     \u001b[90m━━━━━━━━━━━━━━━━━━━━━━━━━━━━━━━━━━━━━━━━\u001b[0m \u001b[32m59.7/59.7 kB\u001b[0m \u001b[31m6.3 MB/s\u001b[0m eta \u001b[36m0:00:00\u001b[0m\n",
            "\u001b[?25hCollecting posthog>=2.4.0 (from chromadb)\n",
            "  Downloading posthog-3.1.0-py2.py3-none-any.whl (37 kB)\n",
            "Collecting pulsar-client>=3.1.0 (from chromadb)\n",
            "  Downloading pulsar_client-3.3.0-cp310-cp310-manylinux_2_17_x86_64.manylinux2014_x86_64.whl (5.4 MB)\n",
            "\u001b[2K     \u001b[90m━━━━━━━━━━━━━━━━━━━━━━━━━━━━━━━━━━━━━━━━\u001b[0m \u001b[32m5.4/5.4 MB\u001b[0m \u001b[31m87.1 MB/s\u001b[0m eta \u001b[36m0:00:00\u001b[0m\n",
            "\u001b[?25hCollecting onnxruntime>=1.14.1 (from chromadb)\n",
            "  Downloading onnxruntime-1.16.3-cp310-cp310-manylinux_2_17_x86_64.manylinux2014_x86_64.whl (6.4 MB)\n",
            "\u001b[2K     \u001b[90m━━━━━━━━━━━━━━━━━━━━━━━━━━━━━━━━━━━━━━━━\u001b[0m \u001b[32m6.4/6.4 MB\u001b[0m \u001b[31m87.2 MB/s\u001b[0m eta \u001b[36m0:00:00\u001b[0m\n",
            "\u001b[?25hCollecting opentelemetry-api>=1.2.0 (from chromadb)\n",
            "  Downloading opentelemetry_api-1.21.0-py3-none-any.whl (57 kB)\n",
            "\u001b[2K     \u001b[90m━━━━━━━━━━━━━━━━━━━━━━━━━━━━━━━━━━━━━━━━\u001b[0m \u001b[32m57.9/57.9 kB\u001b[0m \u001b[31m6.1 MB/s\u001b[0m eta \u001b[36m0:00:00\u001b[0m\n",
            "\u001b[?25hCollecting opentelemetry-exporter-otlp-proto-grpc>=1.2.0 (from chromadb)\n",
            "  Downloading opentelemetry_exporter_otlp_proto_grpc-1.21.0-py3-none-any.whl (18 kB)\n",
            "Collecting opentelemetry-instrumentation-fastapi>=0.41b0 (from chromadb)\n",
            "  Downloading opentelemetry_instrumentation_fastapi-0.42b0-py3-none-any.whl (11 kB)\n",
            "Collecting opentelemetry-sdk>=1.2.0 (from chromadb)\n",
            "  Downloading opentelemetry_sdk-1.21.0-py3-none-any.whl (105 kB)\n",
            "\u001b[2K     \u001b[90m━━━━━━━━━━━━━━━━━━━━━━━━━━━━━━━━━━━━━━━━\u001b[0m \u001b[32m105.3/105.3 kB\u001b[0m \u001b[31m11.6 MB/s\u001b[0m eta \u001b[36m0:00:00\u001b[0m\n",
            "\u001b[?25hRequirement already satisfied: tokenizers>=0.13.2 in /usr/local/lib/python3.10/dist-packages (from chromadb) (0.15.0)\n",
            "Collecting pypika>=0.48.9 (from chromadb)\n",
            "  Downloading PyPika-0.48.9.tar.gz (67 kB)\n",
            "\u001b[2K     \u001b[90m━━━━━━━━━━━━━━━━━━━━━━━━━━━━━━━━━━━━━━━━\u001b[0m \u001b[32m67.3/67.3 kB\u001b[0m \u001b[31m8.2 MB/s\u001b[0m eta \u001b[36m0:00:00\u001b[0m\n",
            "\u001b[?25h  Installing build dependencies ... \u001b[?25l\u001b[?25hdone\n",
            "  Getting requirements to build wheel ... \u001b[?25l\u001b[?25hdone\n",
            "  Preparing metadata (pyproject.toml) ... \u001b[?25l\u001b[?25hdone\n",
            "Collecting overrides>=7.3.1 (from chromadb)\n",
            "  Downloading overrides-7.4.0-py3-none-any.whl (17 kB)\n",
            "Requirement already satisfied: importlib-resources in /usr/local/lib/python3.10/dist-packages (from chromadb) (6.1.1)\n",
            "Requirement already satisfied: grpcio>=1.58.0 in /usr/local/lib/python3.10/dist-packages (from chromadb) (1.59.3)\n",
            "Collecting bcrypt>=4.0.1 (from chromadb)\n",
            "  Downloading bcrypt-4.1.1-cp37-abi3-manylinux_2_28_x86_64.whl (699 kB)\n",
            "\u001b[2K     \u001b[90m━━━━━━━━━━━━━━━━━━━━━━━━━━━━━━━━━━━━━━━━\u001b[0m \u001b[32m699.4/699.4 kB\u001b[0m \u001b[31m39.0 MB/s\u001b[0m eta \u001b[36m0:00:00\u001b[0m\n",
            "\u001b[?25hRequirement already satisfied: typer>=0.9.0 in /usr/local/lib/python3.10/dist-packages (from chromadb) (0.9.0)\n",
            "Collecting kubernetes>=28.1.0 (from chromadb)\n",
            "  Downloading kubernetes-28.1.0-py2.py3-none-any.whl (1.6 MB)\n",
            "\u001b[2K     \u001b[90m━━━━━━━━━━━━━━━━━━━━━━━━━━━━━━━━━━━━━━━━\u001b[0m \u001b[32m1.6/1.6 MB\u001b[0m \u001b[31m71.7 MB/s\u001b[0m eta \u001b[36m0:00:00\u001b[0m\n",
            "\u001b[?25hCollecting mmh3>=4.0.1 (from chromadb)\n",
            "  Downloading mmh3-4.0.1-cp310-cp310-manylinux_2_5_x86_64.manylinux1_x86_64.manylinux_2_17_x86_64.manylinux2014_x86_64.whl (72 kB)\n",
            "\u001b[2K     \u001b[90m━━━━━━━━━━━━━━━━━━━━━━━━━━━━━━━━━━━━━━━━\u001b[0m \u001b[32m72.6/72.6 kB\u001b[0m \u001b[31m7.8 MB/s\u001b[0m eta \u001b[36m0:00:00\u001b[0m\n",
            "\u001b[?25hRequirement already satisfied: regex>=2022.1.18 in /usr/local/lib/python3.10/dist-packages (from tiktoken) (2023.6.3)\n",
            "Requirement already satisfied: chardet in /usr/local/lib/python3.10/dist-packages (from unstructured) (5.2.0)\n",
            "Collecting filetype (from unstructured)\n",
            "  Downloading filetype-1.2.0-py2.py3-none-any.whl (19 kB)\n",
            "Collecting python-magic (from unstructured)\n",
            "  Downloading python_magic-0.4.27-py2.py3-none-any.whl (13 kB)\n",
            "Requirement already satisfied: lxml in /usr/local/lib/python3.10/dist-packages (from unstructured) (4.9.3)\n",
            "Requirement already satisfied: nltk in /usr/local/lib/python3.10/dist-packages (from unstructured) (3.8.1)\n",
            "Requirement already satisfied: tabulate in /usr/local/lib/python3.10/dist-packages (from unstructured) (0.9.0)\n",
            "Requirement already satisfied: beautifulsoup4 in /usr/local/lib/python3.10/dist-packages (from unstructured) (4.11.2)\n",
            "Collecting emoji (from unstructured)\n",
            "  Downloading emoji-2.9.0-py2.py3-none-any.whl (397 kB)\n",
            "\u001b[2K     \u001b[90m━━━━━━━━━━━━━━━━━━━━━━━━━━━━━━━━━━━━━━━━\u001b[0m \u001b[32m397.5/397.5 kB\u001b[0m \u001b[31m37.9 MB/s\u001b[0m eta \u001b[36m0:00:00\u001b[0m\n",
            "\u001b[?25hCollecting python-iso639 (from unstructured)\n",
            "  Downloading python_iso639-2023.6.15-py3-none-any.whl (275 kB)\n",
            "\u001b[2K     \u001b[90m━━━━━━━━━━━━━━━━━━━━━━━━━━━━━━━━━━━━━━━━\u001b[0m \u001b[32m275.1/275.1 kB\u001b[0m \u001b[31m29.3 MB/s\u001b[0m eta \u001b[36m0:00:00\u001b[0m\n",
            "\u001b[?25hCollecting langdetect (from unstructured)\n",
            "  Downloading langdetect-1.0.9.tar.gz (981 kB)\n",
            "\u001b[2K     \u001b[90m━━━━━━━━━━━━━━━━━━━━━━━━━━━━━━━━━━━━━━━━\u001b[0m \u001b[32m981.5/981.5 kB\u001b[0m \u001b[31m61.9 MB/s\u001b[0m eta \u001b[36m0:00:00\u001b[0m\n",
            "\u001b[?25h  Preparing metadata (setup.py) ... \u001b[?25l\u001b[?25hdone\n",
            "Collecting rapidfuzz (from unstructured)\n",
            "  Downloading rapidfuzz-3.5.2-cp310-cp310-manylinux_2_17_x86_64.manylinux2014_x86_64.whl (3.3 MB)\n",
            "\u001b[2K     \u001b[90m━━━━━━━━━━━━━━━━━━━━━━━━━━━━━━━━━━━━━━━━\u001b[0m \u001b[32m3.3/3.3 MB\u001b[0m \u001b[31m79.7 MB/s\u001b[0m eta \u001b[36m0:00:00\u001b[0m\n",
            "\u001b[?25hCollecting backoff (from unstructured)\n",
            "  Downloading backoff-2.2.1-py3-none-any.whl (15 kB)\n",
            "Requirement already satisfied: wrapt in /usr/local/lib/python3.10/dist-packages (from unstructured) (1.14.1)\n",
            "Requirement already satisfied: transformers<5.0.0,>=4.6.0 in /usr/local/lib/python3.10/dist-packages (from sentence-transformers) (4.35.2)\n",
            "Requirement already satisfied: torch>=1.6.0 in /usr/local/lib/python3.10/dist-packages (from sentence-transformers) (2.1.0+cu118)\n",
            "Requirement already satisfied: torchvision in /usr/local/lib/python3.10/dist-packages (from sentence-transformers) (0.16.0+cu118)\n",
            "Requirement already satisfied: scikit-learn in /usr/local/lib/python3.10/dist-packages (from sentence-transformers) (1.2.2)\n",
            "Requirement already satisfied: scipy in /usr/local/lib/python3.10/dist-packages (from sentence-transformers) (1.11.4)\n",
            "Collecting sentencepiece (from sentence-transformers)\n",
            "  Downloading sentencepiece-0.1.99-cp310-cp310-manylinux_2_17_x86_64.manylinux2014_x86_64.whl (1.3 MB)\n",
            "\u001b[2K     \u001b[90m━━━━━━━━━━━━━━━━━━━━━━━━━━━━━━━━━━━━━━━━\u001b[0m \u001b[32m1.3/1.3 MB\u001b[0m \u001b[31m64.2 MB/s\u001b[0m eta \u001b[36m0:00:00\u001b[0m\n",
            "\u001b[?25hRequirement already satisfied: huggingface-hub>=0.4.0 in /usr/local/lib/python3.10/dist-packages (from sentence-transformers) (0.19.4)\n",
            "Requirement already satisfied: attrs>=17.3.0 in /usr/local/lib/python3.10/dist-packages (from aiohttp<4.0.0,>=3.8.3->langchain) (23.1.0)\n",
            "Requirement already satisfied: multidict<7.0,>=4.5 in /usr/local/lib/python3.10/dist-packages (from aiohttp<4.0.0,>=3.8.3->langchain) (6.0.4)\n",
            "Requirement already satisfied: yarl<2.0,>=1.0 in /usr/local/lib/python3.10/dist-packages (from aiohttp<4.0.0,>=3.8.3->langchain) (1.9.3)\n",
            "Requirement already satisfied: frozenlist>=1.1.1 in /usr/local/lib/python3.10/dist-packages (from aiohttp<4.0.0,>=3.8.3->langchain) (1.4.0)\n",
            "Requirement already satisfied: aiosignal>=1.1.2 in /usr/local/lib/python3.10/dist-packages (from aiohttp<4.0.0,>=3.8.3->langchain) (1.3.1)\n",
            "Requirement already satisfied: idna>=2.8 in /usr/local/lib/python3.10/dist-packages (from anyio<5,>=3.5.0->openai) (3.6)\n",
            "Requirement already satisfied: exceptiongroup in /usr/local/lib/python3.10/dist-packages (from anyio<5,>=3.5.0->openai) (1.2.0)\n",
            "Collecting marshmallow<4.0.0,>=3.18.0 (from dataclasses-json<0.7,>=0.5.7->langchain)\n",
            "  Downloading marshmallow-3.20.1-py3-none-any.whl (49 kB)\n",
            "\u001b[2K     \u001b[90m━━━━━━━━━━━━━━━━━━━━━━━━━━━━━━━━━━━━━━━━\u001b[0m \u001b[32m49.4/49.4 kB\u001b[0m \u001b[31m4.9 MB/s\u001b[0m eta \u001b[36m0:00:00\u001b[0m\n",
            "\u001b[?25hCollecting typing-inspect<1,>=0.4.0 (from dataclasses-json<0.7,>=0.5.7->langchain)\n",
            "  Downloading typing_inspect-0.9.0-py3-none-any.whl (8.8 kB)\n",
            "Collecting starlette<0.28.0,>=0.27.0 (from fastapi>=0.95.2->chromadb)\n",
            "  Downloading starlette-0.27.0-py3-none-any.whl (66 kB)\n",
            "\u001b[2K     \u001b[90m━━━━━━━━━━━━━━━━━━━━━━━━━━━━━━━━━━━━━━━━\u001b[0m \u001b[32m67.0/67.0 kB\u001b[0m \u001b[31m7.5 MB/s\u001b[0m eta \u001b[36m0:00:00\u001b[0m\n",
            "\u001b[?25hCollecting typing-extensions<5,>=4.5 (from openai)\n",
            "  Downloading typing_extensions-4.8.0-py3-none-any.whl (31 kB)\n",
            "Requirement already satisfied: certifi in /usr/local/lib/python3.10/dist-packages (from httpx<1,>=0.23.0->openai) (2023.11.17)\n",
            "Collecting httpcore==1.* (from httpx<1,>=0.23.0->openai)\n",
            "  Downloading httpcore-1.0.2-py3-none-any.whl (76 kB)\n",
            "\u001b[2K     \u001b[90m━━━━━━━━━━━━━━━━━━━━━━━━━━━━━━━━━━━━━━━━\u001b[0m \u001b[32m76.9/76.9 kB\u001b[0m \u001b[31m8.3 MB/s\u001b[0m eta \u001b[36m0:00:00\u001b[0m\n",
            "\u001b[?25hCollecting h11<0.15,>=0.13 (from httpcore==1.*->httpx<1,>=0.23.0->openai)\n",
            "  Downloading h11-0.14.0-py3-none-any.whl (58 kB)\n",
            "\u001b[2K     \u001b[90m━━━━━━━━━━━━━━━━━━━━━━━━━━━━━━━━━━━━━━━━\u001b[0m \u001b[32m58.3/58.3 kB\u001b[0m \u001b[31m6.8 MB/s\u001b[0m eta \u001b[36m0:00:00\u001b[0m\n",
            "\u001b[?25hRequirement already satisfied: filelock in /usr/local/lib/python3.10/dist-packages (from huggingface-hub>=0.4.0->sentence-transformers) (3.13.1)\n",
            "Requirement already satisfied: fsspec>=2023.5.0 in /usr/local/lib/python3.10/dist-packages (from huggingface-hub>=0.4.0->sentence-transformers) (2023.6.0)\n",
            "Requirement already satisfied: packaging>=20.9 in /usr/local/lib/python3.10/dist-packages (from huggingface-hub>=0.4.0->sentence-transformers) (23.2)\n",
            "Collecting jsonpointer>=1.9 (from jsonpatch<2.0,>=1.33->langchain)\n",
            "  Downloading jsonpointer-2.4-py2.py3-none-any.whl (7.8 kB)\n",
            "Requirement already satisfied: six>=1.9.0 in /usr/local/lib/python3.10/dist-packages (from kubernetes>=28.1.0->chromadb) (1.16.0)\n",
            "Requirement already satisfied: python-dateutil>=2.5.3 in /usr/local/lib/python3.10/dist-packages (from kubernetes>=28.1.0->chromadb) (2.8.2)\n",
            "Requirement already satisfied: google-auth>=1.0.1 in /usr/local/lib/python3.10/dist-packages (from kubernetes>=28.1.0->chromadb) (2.17.3)\n",
            "Requirement already satisfied: websocket-client!=0.40.0,!=0.41.*,!=0.42.*,>=0.32.0 in /usr/local/lib/python3.10/dist-packages (from kubernetes>=28.1.0->chromadb) (1.6.4)\n",
            "Requirement already satisfied: requests-oauthlib in /usr/local/lib/python3.10/dist-packages (from kubernetes>=28.1.0->chromadb) (1.3.1)\n",
            "Requirement already satisfied: oauthlib>=3.2.2 in /usr/local/lib/python3.10/dist-packages (from kubernetes>=28.1.0->chromadb) (3.2.2)\n",
            "Collecting urllib3<2.0,>=1.24.2 (from kubernetes>=28.1.0->chromadb)\n",
            "  Downloading urllib3-1.26.18-py2.py3-none-any.whl (143 kB)\n",
            "\u001b[2K     \u001b[90m━━━━━━━━━━━━━━━━━━━━━━━━━━━━━━━━━━━━━━━━\u001b[0m \u001b[32m143.8/143.8 kB\u001b[0m \u001b[31m14.4 MB/s\u001b[0m eta \u001b[36m0:00:00\u001b[0m\n",
            "\u001b[?25hCollecting coloredlogs (from onnxruntime>=1.14.1->chromadb)\n",
            "  Downloading coloredlogs-15.0.1-py2.py3-none-any.whl (46 kB)\n",
            "\u001b[2K     \u001b[90m━━━━━━━━━━━━━━━━━━━━━━━━━━━━━━━━━━━━━━━━\u001b[0m \u001b[32m46.0/46.0 kB\u001b[0m \u001b[31m5.1 MB/s\u001b[0m eta \u001b[36m0:00:00\u001b[0m\n",
            "\u001b[?25hRequirement already satisfied: flatbuffers in /usr/local/lib/python3.10/dist-packages (from onnxruntime>=1.14.1->chromadb) (23.5.26)\n",
            "Requirement already satisfied: protobuf in /usr/local/lib/python3.10/dist-packages (from onnxruntime>=1.14.1->chromadb) (3.20.3)\n",
            "Requirement already satisfied: sympy in /usr/local/lib/python3.10/dist-packages (from onnxruntime>=1.14.1->chromadb) (1.12)\n",
            "Collecting deprecated>=1.2.6 (from opentelemetry-api>=1.2.0->chromadb)\n",
            "  Downloading Deprecated-1.2.14-py2.py3-none-any.whl (9.6 kB)\n",
            "Requirement already satisfied: importlib-metadata<7.0,>=6.0 in /usr/local/lib/python3.10/dist-packages (from opentelemetry-api>=1.2.0->chromadb) (6.8.0)\n",
            "Requirement already satisfied: googleapis-common-protos~=1.52 in /usr/local/lib/python3.10/dist-packages (from opentelemetry-exporter-otlp-proto-grpc>=1.2.0->chromadb) (1.61.0)\n",
            "Collecting opentelemetry-exporter-otlp-proto-common==1.21.0 (from opentelemetry-exporter-otlp-proto-grpc>=1.2.0->chromadb)\n",
            "  Downloading opentelemetry_exporter_otlp_proto_common-1.21.0-py3-none-any.whl (17 kB)\n",
            "Collecting opentelemetry-proto==1.21.0 (from opentelemetry-exporter-otlp-proto-grpc>=1.2.0->chromadb)\n",
            "  Downloading opentelemetry_proto-1.21.0-py3-none-any.whl (50 kB)\n",
            "\u001b[2K     \u001b[90m━━━━━━━━━━━━━━━━━━━━━━━━━━━━━━━━━━━━━━━━\u001b[0m \u001b[32m50.8/50.8 kB\u001b[0m \u001b[31m5.4 MB/s\u001b[0m eta \u001b[36m0:00:00\u001b[0m\n",
            "\u001b[?25hCollecting opentelemetry-instrumentation-asgi==0.42b0 (from opentelemetry-instrumentation-fastapi>=0.41b0->chromadb)\n",
            "  Downloading opentelemetry_instrumentation_asgi-0.42b0-py3-none-any.whl (13 kB)\n",
            "Collecting opentelemetry-instrumentation==0.42b0 (from opentelemetry-instrumentation-fastapi>=0.41b0->chromadb)\n",
            "  Downloading opentelemetry_instrumentation-0.42b0-py3-none-any.whl (25 kB)\n",
            "Collecting opentelemetry-semantic-conventions==0.42b0 (from opentelemetry-instrumentation-fastapi>=0.41b0->chromadb)\n",
            "  Downloading opentelemetry_semantic_conventions-0.42b0-py3-none-any.whl (36 kB)\n",
            "Collecting opentelemetry-util-http==0.42b0 (from opentelemetry-instrumentation-fastapi>=0.41b0->chromadb)\n",
            "  Downloading opentelemetry_util_http-0.42b0-py3-none-any.whl (6.9 kB)\n",
            "Requirement already satisfied: setuptools>=16.0 in /usr/local/lib/python3.10/dist-packages (from opentelemetry-instrumentation==0.42b0->opentelemetry-instrumentation-fastapi>=0.41b0->chromadb) (67.7.2)\n",
            "Collecting asgiref~=3.0 (from opentelemetry-instrumentation-asgi==0.42b0->opentelemetry-instrumentation-fastapi>=0.41b0->chromadb)\n",
            "  Downloading asgiref-3.7.2-py3-none-any.whl (24 kB)\n",
            "Collecting monotonic>=1.5 (from posthog>=2.4.0->chromadb)\n",
            "  Downloading monotonic-1.6-py2.py3-none-any.whl (8.2 kB)\n",
            "Requirement already satisfied: charset-normalizer<4,>=2 in /usr/local/lib/python3.10/dist-packages (from requests<3,>=2->langchain) (3.3.2)\n",
            "Requirement already satisfied: greenlet!=0.4.17 in /usr/local/lib/python3.10/dist-packages (from SQLAlchemy<3,>=1.4->langchain) (3.0.1)\n",
            "Requirement already satisfied: networkx in /usr/local/lib/python3.10/dist-packages (from torch>=1.6.0->sentence-transformers) (3.2.1)\n",
            "Requirement already satisfied: jinja2 in /usr/local/lib/python3.10/dist-packages (from torch>=1.6.0->sentence-transformers) (3.1.2)\n",
            "Requirement already satisfied: triton==2.1.0 in /usr/local/lib/python3.10/dist-packages (from torch>=1.6.0->sentence-transformers) (2.1.0)\n",
            "Requirement already satisfied: safetensors>=0.3.1 in /usr/local/lib/python3.10/dist-packages (from transformers<5.0.0,>=4.6.0->sentence-transformers) (0.4.1)\n",
            "Requirement already satisfied: click<9.0.0,>=7.1.1 in /usr/local/lib/python3.10/dist-packages (from typer>=0.9.0->chromadb) (8.1.7)\n",
            "Collecting httptools>=0.5.0 (from uvicorn[standard]>=0.18.3->chromadb)\n",
            "  Downloading httptools-0.6.1-cp310-cp310-manylinux_2_5_x86_64.manylinux1_x86_64.manylinux_2_17_x86_64.manylinux2014_x86_64.whl (341 kB)\n",
            "\u001b[2K     \u001b[90m━━━━━━━━━━━━━━━━━━━━━━━━━━━━━━━━━━━━━━━━\u001b[0m \u001b[32m341.4/341.4 kB\u001b[0m \u001b[31m26.8 MB/s\u001b[0m eta \u001b[36m0:00:00\u001b[0m\n",
            "\u001b[?25hCollecting python-dotenv>=0.13 (from uvicorn[standard]>=0.18.3->chromadb)\n",
            "  Downloading python_dotenv-1.0.0-py3-none-any.whl (19 kB)\n",
            "Collecting uvloop!=0.15.0,!=0.15.1,>=0.14.0 (from uvicorn[standard]>=0.18.3->chromadb)\n",
            "  Downloading uvloop-0.19.0-cp310-cp310-manylinux_2_17_x86_64.manylinux2014_x86_64.whl (3.4 MB)\n",
            "\u001b[2K     \u001b[90m━━━━━━━━━━━━━━━━━━━━━━━━━━━━━━━━━━━━━━━━\u001b[0m \u001b[32m3.4/3.4 MB\u001b[0m \u001b[31m90.7 MB/s\u001b[0m eta \u001b[36m0:00:00\u001b[0m\n",
            "\u001b[?25hCollecting watchfiles>=0.13 (from uvicorn[standard]>=0.18.3->chromadb)\n",
            "  Downloading watchfiles-0.21.0-cp310-cp310-manylinux_2_17_x86_64.manylinux2014_x86_64.whl (1.3 MB)\n",
            "\u001b[2K     \u001b[90m━━━━━━━━━━━━━━━━━━━━━━━━━━━━━━━━━━━━━━━━\u001b[0m \u001b[32m1.3/1.3 MB\u001b[0m \u001b[31m68.5 MB/s\u001b[0m eta \u001b[36m0:00:00\u001b[0m\n",
            "\u001b[?25hCollecting websockets>=10.4 (from uvicorn[standard]>=0.18.3->chromadb)\n",
            "  Downloading websockets-12.0-cp310-cp310-manylinux_2_5_x86_64.manylinux1_x86_64.manylinux_2_17_x86_64.manylinux2014_x86_64.whl (130 kB)\n",
            "\u001b[2K     \u001b[90m━━━━━━━━━━━━━━━━━━━━━━━━━━━━━━━━━━━━━━━━\u001b[0m \u001b[32m130.2/130.2 kB\u001b[0m \u001b[31m3.3 MB/s\u001b[0m eta \u001b[36m0:00:00\u001b[0m\n",
            "\u001b[?25hRequirement already satisfied: soupsieve>1.2 in /usr/local/lib/python3.10/dist-packages (from beautifulsoup4->unstructured) (2.5)\n",
            "Requirement already satisfied: joblib in /usr/local/lib/python3.10/dist-packages (from nltk->unstructured) (1.3.2)\n",
            "Requirement already satisfied: threadpoolctl>=2.0.0 in /usr/local/lib/python3.10/dist-packages (from scikit-learn->sentence-transformers) (3.2.0)\n",
            "Requirement already satisfied: pillow!=8.3.*,>=5.3.0 in /usr/local/lib/python3.10/dist-packages (from torchvision->sentence-transformers) (9.4.0)\n",
            "Requirement already satisfied: cachetools<6.0,>=2.0.0 in /usr/local/lib/python3.10/dist-packages (from google-auth>=1.0.1->kubernetes>=28.1.0->chromadb) (5.3.2)\n",
            "Requirement already satisfied: pyasn1-modules>=0.2.1 in /usr/local/lib/python3.10/dist-packages (from google-auth>=1.0.1->kubernetes>=28.1.0->chromadb) (0.3.0)\n",
            "Requirement already satisfied: rsa<5,>=3.1.4 in /usr/local/lib/python3.10/dist-packages (from google-auth>=1.0.1->kubernetes>=28.1.0->chromadb) (4.9)\n",
            "Requirement already satisfied: zipp>=0.5 in /usr/local/lib/python3.10/dist-packages (from importlib-metadata<7.0,>=6.0->opentelemetry-api>=1.2.0->chromadb) (3.17.0)\n",
            "Collecting mypy-extensions>=0.3.0 (from typing-inspect<1,>=0.4.0->dataclasses-json<0.7,>=0.5.7->langchain)\n",
            "  Downloading mypy_extensions-1.0.0-py3-none-any.whl (4.7 kB)\n",
            "Collecting humanfriendly>=9.1 (from coloredlogs->onnxruntime>=1.14.1->chromadb)\n",
            "  Downloading humanfriendly-10.0-py2.py3-none-any.whl (86 kB)\n",
            "\u001b[2K     \u001b[90m━━━━━━━━━━━━━━━━━━━━━━━━━━━━━━━━━━━━━━━━\u001b[0m \u001b[32m86.8/86.8 kB\u001b[0m \u001b[31m10.3 MB/s\u001b[0m eta \u001b[36m0:00:00\u001b[0m\n",
            "\u001b[?25hRequirement already satisfied: MarkupSafe>=2.0 in /usr/local/lib/python3.10/dist-packages (from jinja2->torch>=1.6.0->sentence-transformers) (2.1.3)\n",
            "Requirement already satisfied: mpmath>=0.19 in /usr/local/lib/python3.10/dist-packages (from sympy->onnxruntime>=1.14.1->chromadb) (1.3.0)\n",
            "Requirement already satisfied: pyasn1<0.6.0,>=0.4.6 in /usr/local/lib/python3.10/dist-packages (from pyasn1-modules>=0.2.1->google-auth>=1.0.1->kubernetes>=28.1.0->chromadb) (0.5.1)\n",
            "Building wheels for collected packages: sentence-transformers, pypika, langdetect\n",
            "  Building wheel for sentence-transformers (setup.py) ... \u001b[?25l\u001b[?25hdone\n",
            "  Created wheel for sentence-transformers: filename=sentence_transformers-2.2.2-py3-none-any.whl size=125923 sha256=f6e3ac6e3b0e88ac82b5590e3c421679289600725b23d2e807940aec14820d78\n",
            "  Stored in directory: /root/.cache/pip/wheels/62/f2/10/1e606fd5f02395388f74e7462910fe851042f97238cbbd902f\n",
            "  Building wheel for pypika (pyproject.toml) ... \u001b[?25l\u001b[?25hdone\n",
            "  Created wheel for pypika: filename=PyPika-0.48.9-py2.py3-none-any.whl size=53723 sha256=6cc09e7a22cd7356413d211d848f472a26a5ca4c54ddceb664945f91a18010cc\n",
            "  Stored in directory: /root/.cache/pip/wheels/e1/26/51/d0bffb3d2fd82256676d7ad3003faea3bd6dddc9577af665f4\n",
            "  Building wheel for langdetect (setup.py) ... \u001b[?25l\u001b[?25hdone\n",
            "  Created wheel for langdetect: filename=langdetect-1.0.9-py3-none-any.whl size=993225 sha256=c3cd6cf78792f507be82324370933095a2c85d8c08c927b4516caaec4e48364b\n",
            "  Stored in directory: /root/.cache/pip/wheels/95/03/7d/59ea870c70ce4e5a370638b5462a7711ab78fba2f655d05106\n",
            "Successfully built sentence-transformers pypika langdetect\n",
            "Installing collected packages: sentencepiece, pypika, monotonic, mmh3, filetype, websockets, uvloop, urllib3, typing-extensions, rapidfuzz, python-magic, python-iso639, python-dotenv, pypdf, pulsar-client, overrides, opentelemetry-util-http, opentelemetry-semantic-conventions, opentelemetry-proto, mypy-extensions, marshmallow, langdetect, jsonpointer, jq, humanfriendly, httptools, h11, emoji, deprecated, chroma-hnswlib, bcrypt, backoff, watchfiles, uvicorn, typing-inspect, starlette, opentelemetry-exporter-otlp-proto-common, opentelemetry-api, jsonpatch, httpcore, coloredlogs, asgiref, tiktoken, posthog, opentelemetry-sdk, opentelemetry-instrumentation, onnxruntime, langsmith, httpx, fastapi, dataclasses-json, unstructured, opentelemetry-instrumentation-asgi, opentelemetry-exporter-otlp-proto-grpc, openai, langchain-core, kubernetes, opentelemetry-instrumentation-fastapi, langchain, sentence-transformers, chromadb\n",
            "  Attempting uninstall: urllib3\n",
            "    Found existing installation: urllib3 2.0.7\n",
            "    Uninstalling urllib3-2.0.7:\n",
            "      Successfully uninstalled urllib3-2.0.7\n",
            "  Attempting uninstall: typing-extensions\n",
            "    Found existing installation: typing_extensions 4.5.0\n",
            "    Uninstalling typing_extensions-4.5.0:\n",
            "      Successfully uninstalled typing_extensions-4.5.0\n",
            "\u001b[31mERROR: pip's dependency resolver does not currently take into account all the packages that are installed. This behaviour is the source of the following dependency conflicts.\n",
            "lida 0.0.10 requires kaleido, which is not installed.\n",
            "lida 0.0.10 requires python-multipart, which is not installed.\n",
            "llmx 0.0.15a0 requires cohere, which is not installed.\n",
            "tensorflow-probability 0.22.0 requires typing-extensions<4.6.0, but you have typing-extensions 4.8.0 which is incompatible.\u001b[0m\u001b[31m\n",
            "\u001b[0mSuccessfully installed asgiref-3.7.2 backoff-2.2.1 bcrypt-4.1.1 chroma-hnswlib-0.7.3 chromadb-0.4.18 coloredlogs-15.0.1 dataclasses-json-0.6.3 deprecated-1.2.14 emoji-2.9.0 fastapi-0.104.1 filetype-1.2.0 h11-0.14.0 httpcore-1.0.2 httptools-0.6.1 httpx-0.25.2 humanfriendly-10.0 jq-1.6.0 jsonpatch-1.33 jsonpointer-2.4 kubernetes-28.1.0 langchain-0.0.348 langchain-core-0.0.12 langdetect-1.0.9 langsmith-0.0.69 marshmallow-3.20.1 mmh3-4.0.1 monotonic-1.6 mypy-extensions-1.0.0 onnxruntime-1.16.3 openai-1.3.8 opentelemetry-api-1.21.0 opentelemetry-exporter-otlp-proto-common-1.21.0 opentelemetry-exporter-otlp-proto-grpc-1.21.0 opentelemetry-instrumentation-0.42b0 opentelemetry-instrumentation-asgi-0.42b0 opentelemetry-instrumentation-fastapi-0.42b0 opentelemetry-proto-1.21.0 opentelemetry-sdk-1.21.0 opentelemetry-semantic-conventions-0.42b0 opentelemetry-util-http-0.42b0 overrides-7.4.0 posthog-3.1.0 pulsar-client-3.3.0 pypdf-3.17.1 pypika-0.48.9 python-dotenv-1.0.0 python-iso639-2023.6.15 python-magic-0.4.27 rapidfuzz-3.5.2 sentence-transformers-2.2.2 sentencepiece-0.1.99 starlette-0.27.0 tiktoken-0.5.2 typing-extensions-4.8.0 typing-inspect-0.9.0 unstructured-0.11.2 urllib3-1.26.18 uvicorn-0.24.0.post1 uvloop-0.19.0 watchfiles-0.21.0 websockets-12.0\n"
          ]
        }
      ]
    },
    {
      "cell_type": "markdown",
      "source": [
        "# create_tagging_chain 살펴보기"
      ],
      "metadata": {
        "id": "sV3MTbDrj7ls"
      }
    },
    {
      "cell_type": "markdown",
      "source": [
        "## Reference : https://python.langchain.com/docs/use_cases/tagging"
      ],
      "metadata": {
        "id": "PG9NRZ05jxc1"
      }
    },
    {
      "cell_type": "markdown",
      "source": [
        "## OpenAI API Key 설정"
      ],
      "metadata": {
        "id": "cbkpmpQ5NDX3"
      }
    },
    {
      "cell_type": "code",
      "source": [
        "OPENAI_KEY = \"여러분의_OPENAI_API_KEY\""
      ],
      "metadata": {
        "id": "uoYu5NVt-mwi"
      },
      "execution_count": null,
      "outputs": []
    },
    {
      "cell_type": "code",
      "source": [
        "from langchain.chains import create_tagging_chain\n",
        "from langchain.chat_models import ChatOpenAI"
      ],
      "metadata": {
        "id": "VBu_kwBX_Xq2"
      },
      "execution_count": null,
      "outputs": []
    },
    {
      "cell_type": "code",
      "source": [
        "# Schema\n",
        "schema = {\n",
        "    \"properties\": {\n",
        "        \"sentiment\": {\"type\": \"string\"},\n",
        "        \"aggressiveness\": {\"type\": \"integer\"},\n",
        "        \"language\": {\"type\": \"string\"},\n",
        "    }\n",
        "}\n",
        "\n",
        "# LLM\n",
        "llm = ChatOpenAI(temperature=0, model=\"gpt-3.5-turbo\", openai_api_key=OPENAI_KEY)\n",
        "chain = create_tagging_chain(schema, llm)"
      ],
      "metadata": {
        "id": "24Ft-ApL_XoI"
      },
      "execution_count": null,
      "outputs": []
    },
    {
      "cell_type": "code",
      "source": [
        "inp = \"너를 만나게 되어 정말 기쁘다. 우리가 정말 좋은 친구가 될 거라고 생각해!\"\n",
        "chain.run(inp)"
      ],
      "metadata": {
        "colab": {
          "base_uri": "https://localhost:8080/"
        },
        "id": "G3tnu3kJ_XlZ",
        "outputId": "02444261-b22b-4e7d-c3b7-d9c7bd927874"
      },
      "execution_count": null,
      "outputs": [
        {
          "output_type": "execute_result",
          "data": {
            "text/plain": [
              "{'sentiment': 'positive'}"
            ]
          },
          "metadata": {},
          "execution_count": 42
        }
      ]
    },
    {
      "cell_type": "code",
      "source": [
        "inp = \"너에게 정말 화가 났어! 너에게 마땅한 대가를 치르게 할 거야!\"\n",
        "chain.run(inp)"
      ],
      "metadata": {
        "colab": {
          "base_uri": "https://localhost:8080/"
        },
        "id": "4LS-ixyg_Xfb",
        "outputId": "408d02e2-7be3-40a2-8e7b-1d4a1fc40671"
      },
      "execution_count": null,
      "outputs": [
        {
          "output_type": "execute_result",
          "data": {
            "text/plain": [
              "{'sentiment': 'negative', 'aggressiveness': 1}"
            ]
          },
          "metadata": {},
          "execution_count": 43
        }
      ]
    },
    {
      "cell_type": "markdown",
      "source": [
        "## enum값 지정하기"
      ],
      "metadata": {
        "id": "sQb9G53wr7BD"
      }
    },
    {
      "cell_type": "code",
      "source": [
        "schema = {\n",
        "    \"properties\": {\n",
        "        \"aggressiveness\": {\n",
        "            \"type\": \"integer\",\n",
        "            \"enum\": [1, 2, 3, 4, 5],\n",
        "            \"description\": \"describes how aggressive the statement is, the higher the number the more aggressive\",\n",
        "        },\n",
        "        \"language\": {\n",
        "            \"type\": \"string\",\n",
        "            \"enum\": [\"spanish\", \"english\", \"french\", \"german\", \"italian\", \"korean\"],\n",
        "        },\n",
        "        \"sentiment\": {\n",
        "            \"type\": \"string\",\n",
        "            \"enum\": [\"positive\", \"negative\"],\n",
        "        },\n",
        "        },\n",
        "    \"required\": [\"language\", \"sentiment\", \"aggressiveness\"],\n",
        "}"
      ],
      "metadata": {
        "id": "MH3qm9S4_Xcf"
      },
      "execution_count": null,
      "outputs": []
    },
    {
      "cell_type": "code",
      "source": [
        "chain = create_tagging_chain(schema, llm)"
      ],
      "metadata": {
        "id": "nEr9AZEtAxCa"
      },
      "execution_count": null,
      "outputs": []
    },
    {
      "cell_type": "code",
      "source": [
        "inp = \"너를 만나서 정말 기쁘다! 우리가 정말 좋은 친구가 될 것 같아!\"\n",
        "chain.run(inp)"
      ],
      "metadata": {
        "colab": {
          "base_uri": "https://localhost:8080/"
        },
        "id": "_m3UdsX3B2nA",
        "outputId": "32221a35-bcb8-4560-ed62-e99ec65ed2ba"
      },
      "execution_count": null,
      "outputs": [
        {
          "output_type": "execute_result",
          "data": {
            "text/plain": [
              "{'aggressiveness': '3', 'language': 'korean', 'sentiment': 'positive'}"
            ]
          },
          "metadata": {},
          "execution_count": 46
        }
      ]
    },
    {
      "cell_type": "code",
      "source": [
        "inp = \"너에게 정말 화가 나! 네가 받을 만한 것을 줄 거야!\"\n",
        "chain.run(inp)"
      ],
      "metadata": {
        "colab": {
          "base_uri": "https://localhost:8080/"
        },
        "id": "v180AjEeB8YU",
        "outputId": "1905da20-a316-45f8-a533-ea84ecddd389"
      },
      "execution_count": null,
      "outputs": [
        {
          "output_type": "execute_result",
          "data": {
            "text/plain": [
              "{'aggressiveness': '5', 'language': 'korean', 'sentiment': 'negative'}"
            ]
          },
          "metadata": {},
          "execution_count": 47
        }
      ]
    },
    {
      "cell_type": "code",
      "source": [
        "inp = \"여기 날씨가 괜찮아, 외투만 입고 밖에 나갈 수 있어\"\n",
        "chain.run(inp)"
      ],
      "metadata": {
        "colab": {
          "base_uri": "https://localhost:8080/"
        },
        "id": "i18e_4TYCL_9",
        "outputId": "049b8ec4-3c00-4d1f-b890-9ccf81f0edf6"
      },
      "execution_count": null,
      "outputs": [
        {
          "output_type": "execute_result",
          "data": {
            "text/plain": [
              "{'aggressiveness': '3', 'language': 'korean', 'sentiment': 'positive'}"
            ]
          },
          "metadata": {},
          "execution_count": 48
        }
      ]
    },
    {
      "cell_type": "code",
      "source": [],
      "metadata": {
        "id": "bB1uZj6S_XUg"
      },
      "execution_count": null,
      "outputs": []
    },
    {
      "cell_type": "code",
      "source": [],
      "metadata": {
        "id": "c-9ttclawqla"
      },
      "execution_count": null,
      "outputs": []
    },
    {
      "cell_type": "code",
      "source": [],
      "metadata": {
        "id": "tZsWnD0AwqiW"
      },
      "execution_count": null,
      "outputs": []
    },
    {
      "cell_type": "code",
      "source": [],
      "metadata": {
        "id": "ELOV9fwKwqfY"
      },
      "execution_count": null,
      "outputs": []
    },
    {
      "cell_type": "markdown",
      "source": [
        "# 리뷰감정분석GPT(SentimentGPT) 만들기"
      ],
      "metadata": {
        "id": "aqVRNwJKwupd"
      }
    },
    {
      "cell_type": "markdown",
      "source": [
        "# 상품 리뷰 데이터 다운로드 & 업로드하기"
      ],
      "metadata": {
        "id": "bRAkU52sth0F"
      }
    },
    {
      "cell_type": "code",
      "source": [
        "# /속성기반 감정분석 데이터/02.라벨링데이터/쇼핑몰/01. 패션/1-1. 여성의류/1-1.여성의류(1).json"
      ],
      "metadata": {
        "id": "GQa_E7e7LL1P"
      },
      "execution_count": null,
      "outputs": []
    },
    {
      "cell_type": "markdown",
      "source": [
        "# 여성의류 리뷰 데이터 읽어오기"
      ],
      "metadata": {
        "id": "U_2uhmXHoUKm"
      }
    },
    {
      "cell_type": "code",
      "source": [
        "from langchain.document_loaders import JSONLoader\n",
        "\n",
        "loader = JSONLoader(\n",
        "    file_path='/content/1-1.여성의류(1).json',\n",
        "    jq_schema='.[]',\n",
        "    text_content=False)\n",
        "docs = loader.load()\n",
        "docs"
      ],
      "metadata": {
        "colab": {
          "base_uri": "https://localhost:8080/"
        },
        "outputId": "c09ee23e-3fab-42ad-8501-699b105e5284",
        "id": "ZBzAUuCOoUK6"
      },
      "execution_count": null,
      "outputs": [
        {
          "output_type": "execute_result",
          "data": {
            "text/plain": [
              "[Document(page_content='{\"Index\": \"7\", \"RawText\": \"\\\\uac00\\\\uaca9\\\\uc774 \\\\ucc29\\\\ud558\\\\uace0 \\\\ub514\\\\uc790\\\\uc778\\\\uc774 \\\\uc608\\\\uc069\\\\ub2c8\\\\ub2e4\", \"Source\": \"\\\\uc1fc\\\\ud551\\\\ubab0\", \"Domain\": \"\\\\ud328\\\\uc158\", \"MainCategory\": \"\\\\uc5ec\\\\uc131\\\\uc758\\\\ub958\", \"ProductName\": \"OO \\\\ud50c** \\\\ubca0\\\\uc2a4\\\\ud2b8 \\\\ud480\\\\ucf54\\\\ub514 3\\\\uc885\", \"ReviewScore\": \"100\", \"Syllable\": \"17\", \"Word\": \"4\", \"RDate\": \"20210815\", \"GeneralPolarity\": \"1\", \"Aspects\": [{\"Aspect\": \"\\\\uac00\\\\uaca9\", \"SentimentText\": \"\\\\uac00\\\\uaca9\\\\uc774 \\\\ucc29\\\\ud558\\\\uace0\", \"SentimentWord\": \"2\", \"SentimentPolarity\": \"1\"}, {\"Aspect\": \"\\\\ub514\\\\uc790\\\\uc778\", \"SentimentText\": \"\\\\ub514\\\\uc790\\\\uc778\\\\uc774 \\\\uc608\\\\uc069\\\\ub2c8\\\\ub2e4\", \"SentimentWord\": \"2\", \"SentimentPolarity\": \"1\"}]}', metadata={'source': '/content/1-1.여성의류(1).json', 'seq_num': 1}),\n",
              " Document(page_content='{\"Index\": \"9\", \"RawText\": \"\\\\uc2f8\\\\uace0  \\\\ub514\\\\uc790\\\\uc778\\\\uc774 \\\\uc608\\\\ubed0\\\\uc694. . \\\\uc815\\\\ub9d0  \\\\uac00\\\\uc131\\\\ube44 \\\\uac00\\\\uc2ec\\\\ube44 \\\\uc785\\\\ub2c8\\\\ub2e4\", \"Source\": \"\\\\uc1fc\\\\ud551\\\\ubab0\", \"Domain\": \"\\\\ud328\\\\uc158\", \"MainCategory\": \"\\\\uc5ec\\\\uc131\\\\uc758\\\\ub958\", \"ProductName\": \"OO \\\\ud50c** \\\\ubca0\\\\uc2a4\\\\ud2b8 \\\\ud480\\\\ucf54\\\\ub514 3\\\\uc885\", \"ReviewScore\": \"100\", \"Syllable\": \"31\", \"Word\": \"8\", \"RDate\": \"20210807\", \"GeneralPolarity\": \"1\", \"Aspects\": [{\"Aspect\": \"\\\\uac00\\\\uaca9\", \"SentimentText\": \"\\\\uc2f8\\\\uace0\", \"SentimentWord\": \"1\", \"SentimentPolarity\": \"1\"}, {\"Aspect\": \"\\\\ub514\\\\uc790\\\\uc778\", \"SentimentText\": \"\\\\ub514\\\\uc790\\\\uc778\\\\uc774 \\\\uc608\\\\ubed0\\\\uc694\", \"SentimentWord\": \"2\", \"SentimentPolarity\": \"1\"}, {\"Aspect\": \"\\\\uac00\\\\uaca9\", \"SentimentText\": \"\\\\uac00\\\\uc131\\\\ube44 \\\\uac00\\\\uc2ec\\\\ube44 \\\\uc785\\\\ub2c8\\\\ub2e4\", \"SentimentWord\": \"3\", \"SentimentPolarity\": \"1\"}]}', metadata={'source': '/content/1-1.여성의류(1).json', 'seq_num': 2}),\n",
              " Document(page_content='{\"Index\": \"15\", \"RawText\": \"\\\\ud3b8\\\\ud558\\\\uace0  \\\\ub514\\\\uc790\\\\uc778\\\\uc774 \\\\uc608\\\\ubed0\\\\uc694  \\\\uac00\\\\uaca9\\\\ub3c4  \\\\uc88b\\\\uc544\\\\uc694   \\\\uc2dc\\\\uc6d0\\\\ud574\\\\uc694  \\\\ube68\\\\ub9ac \\\\ub9c8\\\\ub974\\\\uace0  \\\\uc774\\\\uac83\\\\ub9cc  \\\\uc785\\\\uac8c\\\\ub418\\\\uc694\", \"Source\": \"\\\\uc1fc\\\\ud551\\\\ubab0\", \"Domain\": \"\\\\ud328\\\\uc158\", \"MainCategory\": \"\\\\uc5ec\\\\uc131\\\\uc758\\\\ub958\", \"ProductName\": \"OO \\\\ud50c** \\\\ubca0\\\\uc2a4\\\\ud2b8 \\\\ud480\\\\ucf54\\\\ub514 3\\\\uc885\", \"ReviewScore\": \"100\", \"Syllable\": \"49\", \"Word\": \"10\", \"RDate\": \"20210804\", \"GeneralPolarity\": \"1\", \"Aspects\": [{\"Aspect\": \"\\\\ucc29\\\\uc6a9\\\\uac10\", \"SentimentText\": \"\\\\ud3b8\\\\ud558\\\\uace0\", \"SentimentWord\": \"1\", \"SentimentPolarity\": \"1\"}, {\"Aspect\": \"\\\\ub514\\\\uc790\\\\uc778\", \"SentimentText\": \"\\\\ub514\\\\uc790\\\\uc778\\\\uc774 \\\\uc608\\\\ubed0\\\\uc694\", \"SentimentWord\": \"2\", \"SentimentPolarity\": \"1\"}, {\"Aspect\": \"\\\\uac00\\\\uaca9\", \"SentimentText\": \"\\\\uac00\\\\uaca9\\\\ub3c4  \\\\uc88b\\\\uc544\\\\uc694\", \"SentimentWord\": \"2\", \"SentimentPolarity\": \"1\"}, {\"Aspect\": \"\\\\uae30\\\\ub2a5\", \"SentimentText\": \"\\\\uc2dc\\\\uc6d0\\\\ud574\\\\uc694\", \"SentimentWord\": \"1\", \"SentimentPolarity\": \"1\"}, {\"Aspect\": \"\\\\uc18c\\\\uc7ac\", \"SentimentText\": \"\\\\ube68\\\\ub9ac \\\\ub9c8\\\\ub974\\\\uace0\", \"SentimentWord\": \"2\", \"SentimentPolarity\": \"1\"}, {\"Aspect\": \"\\\\ud65c\\\\uc6a9\\\\uc131\", \"SentimentText\": \"\\\\uc774\\\\uac83\\\\ub9cc  \\\\uc785\\\\uac8c\\\\ub418\\\\uc694\", \"SentimentWord\": \"2\", \"SentimentPolarity\": \"1\"}]}', metadata={'source': '/content/1-1.여성의류(1).json', 'seq_num': 3}),\n",
              " Document(page_content='{\"Index\": \"17\", \"RawText\": \"\\\\ub108\\\\ubb34 \\\\ucc29\\\\ud55c\\\\uac00\\\\uaca9\\\\uc5d0 \\\\uac10\\\\uc0ac\\\\ud569\\\\ub2c8\\\\ub2e4 \\\\uc708\\\\ud558\\\\ub294 \\\\uc0c9\\\\uc740 \\\\uc5c6\\\\uc9c0\\\\ub9cc\", \"Source\": \"\\\\uc1fc\\\\ud551\\\\ubab0\", \"Domain\": \"\\\\ud328\\\\uc158\", \"MainCategory\": \"\\\\uc5ec\\\\uc131\\\\uc758\\\\ub958\", \"ProductName\": \"OO \\\\ud50c** \\\\ubca0\\\\uc2a4\\\\ud2b8 \\\\ud480\\\\ucf54\\\\ub514 3\\\\uc885\", \"ReviewScore\": \"100\", \"Syllable\": \"25\", \"Word\": \"6\", \"RDate\": \"20210803\", \"GeneralPolarity\": \"1\", \"Aspects\": [{\"Aspect\": \"\\\\uac00\\\\uaca9\", \"SentimentText\": \"\\\\ub108\\\\ubb34 \\\\ucc29\\\\ud55c\\\\uac00\\\\uaca9\\\\uc5d0 \\\\uac10\\\\uc0ac\\\\ud569\\\\ub2c8\\\\ub2e4\", \"SentimentWord\": \"3\", \"SentimentPolarity\": \"1\"}, {\"Aspect\": \"\\\\uc0c9\\\\uc0c1\", \"SentimentText\": \"\\\\uc708\\\\ud558\\\\ub294 \\\\uc0c9\\\\uc740 \\\\uc5c6\\\\uc9c0\\\\ub9cc\", \"SentimentWord\": \"3\", \"SentimentPolarity\": \"-1\"}]}', metadata={'source': '/content/1-1.여성의류(1).json', 'seq_num': 4}),\n",
              " Document(page_content='{\"Index\": \"18\", \"RawText\": \"\\\\uac00\\\\uaca9\\\\uc774  \\\\ub108\\\\ubb34 \\\\uc88b\\\\uc544\\\\uc11c  \\\\ube14\\\\ub799 \\\\uad6c\\\\ub9e4\\\\ud588\\\\uc2b5\\\\ub2c8\\\\ub2e4  \\\\uadf8\\\\ub7f0\\\\ub370 \\\\uc18c\\\\uc7ac\\\\ub3c4  \\\\ub9d8\\\\uc5d0  \\\\ub4e4\\\\uc5b4  \\\\ud770\\\\uc0c9\\\\ub3c4  \\\\uad6c\\\\ub9e4\\\\ud588\\\\uc2b5\\\\ub2c8\\\\ub2e4\", \"Source\": \"\\\\uc1fc\\\\ud551\\\\ubab0\", \"Domain\": \"\\\\ud328\\\\uc158\", \"MainCategory\": \"\\\\uc5ec\\\\uc131\\\\uc758\\\\ub958\", \"ProductName\": \"OO \\\\ud50c** \\\\ubca0\\\\uc2a4\\\\ud2b8 \\\\ud480\\\\ucf54\\\\ub514 3\\\\uc885\", \"ReviewScore\": \"100\", \"Syllable\": \"52\", \"Word\": \"11\", \"RDate\": \"20210717\", \"GeneralPolarity\": \"1\", \"Aspects\": [{\"Aspect\": \"\\\\uac00\\\\uaca9\", \"SentimentText\": \"\\\\uac00\\\\uaca9\\\\uc774  \\\\ub108\\\\ubb34 \\\\uc88b\\\\uc544\\\\uc11c\", \"SentimentWord\": \"3\", \"SentimentPolarity\": \"1\"}, {\"Aspect\": \"\\\\uc18c\\\\uc7ac\", \"SentimentText\": \"\\\\uc18c\\\\uc7ac\\\\ub3c4  \\\\ub9d8\\\\uc5d0  \\\\ub4e4\\\\uc5b4  \\\\ud770\\\\uc0c9\\\\ub3c4  \\\\uad6c\\\\ub9e4\\\\ud588\\\\uc2b5\\\\ub2c8\\\\ub2e4\", \"SentimentWord\": \"5\", \"SentimentPolarity\": \"1\"}]}', metadata={'source': '/content/1-1.여성의류(1).json', 'seq_num': 5}),\n",
              " Document(page_content='{\"Index\": \"21\", \"RawText\": \"\\\\uc678\\\\ucd9c\\\\ud560\\\\ub54c \\\\uc785\\\\uae30\\\\uc5d0\\\\ub294 \\\\uc7ac\\\\uc9c8\\\\ub3c4 \\\\ub514\\\\uc790\\\\uc778\\\\ub3c4 \\\\uc880~\\\\uadf8\\\\ub7ec\\\\ub124\\\\uc694 \\\\uadf8\\\\ub0e5 \\\\uc9d1\\\\uc5d0\\\\uc11c \\\\ud3b8\\\\ud558\\\\uac8c \\\\uc785\\\\uc744\\\\uc218\\\\ub294 \\\\uc788\\\\uc744\\\\uac83 \\\\uac19\\\\uc544\\\\uc694\", \"Source\": \"\\\\uc1fc\\\\ud551\\\\ubab0\", \"Domain\": \"\\\\ud328\\\\uc158\", \"MainCategory\": \"\\\\uc5ec\\\\uc131\\\\uc758\\\\ub958\", \"ProductName\": \"OO \\\\ud50c** \\\\ubca0\\\\uc2a4\\\\ud2b8 \\\\ud480\\\\ucf54\\\\ub514 3\\\\uc885\", \"ReviewScore\": \"60\", \"Syllable\": \"49\", \"Word\": \"11\", \"RDate\": \"20210511\", \"GeneralPolarity\": \"-1\", \"Aspects\": [{\"Aspect\": \"\\\\uc18c\\\\uc7ac\", \"SentimentText\": \"\\\\uc7ac\\\\uc9c8\\\\ub3c4 \\\\ub514\\\\uc790\\\\uc778\\\\ub3c4 \\\\uc880~\\\\uadf8\\\\ub7ec\\\\ub124\\\\uc694\", \"SentimentWord\": \"3\", \"SentimentPolarity\": \"-1\"}, {\"Aspect\": \"\\\\ub514\\\\uc790\\\\uc778\", \"SentimentText\": \"\\\\ub514\\\\uc790\\\\uc778\\\\ub3c4 \\\\uc880~\\\\uadf8\\\\ub7ec\\\\ub124\\\\uc694\", \"SentimentWord\": \"2\", \"SentimentPolarity\": \"-1\"}, {\"Aspect\": \"\\\\ud65c\\\\uc6a9\\\\uc131\", \"SentimentText\": \"\\\\uc9d1\\\\uc5d0\\\\uc11c \\\\ud3b8\\\\ud558\\\\uac8c \\\\uc785\\\\uc744\\\\uc218\\\\ub294 \\\\uc788\\\\uc744\\\\uac83 \\\\uac19\\\\uc544\\\\uc694\", \"SentimentWord\": \"5\", \"SentimentPolarity\": \"0\"}]}', metadata={'source': '/content/1-1.여성의류(1).json', 'seq_num': 6}),\n",
              " Document(page_content='{\"Index\": \"27\", \"RawText\": \"\\\\ud2b9\\\\ud788 \\\\uc790\\\\ucf13\\\\uc774 \\\\ub118\\\\uc791\\\\uace0 \\\\uc9e7\\\\uc73c\\\\ub124\\\\uc694. \\\\uc0c1\\\\uc758\\\\ub294 \\\\uc880\\\\uc791\\\\uad6c \\\\ubc14\\\\uc9c0\\\\ub294 \\\\uc798\\\\ub9de\\\\uc544\\\\uc694.\", \"Source\": \"\\\\uc1fc\\\\ud551\\\\ubab0\", \"Domain\": \"\\\\ud328\\\\uc158\", \"MainCategory\": \"\\\\uc5ec\\\\uc131\\\\uc758\\\\ub958\", \"ProductName\": \"OO \\\\ud50c** \\\\ubca0\\\\uc2a4\\\\ud2b8 \\\\ud480\\\\ucf54\\\\ub514 3\\\\uc885\", \"ReviewScore\": \"80\", \"Syllable\": \"34\", \"Word\": \"8\", \"RDate\": \"20210415\", \"GeneralPolarity\": \"-1\", \"Aspects\": [{\"Aspect\": \"\\\\uc0ac\\\\uc774\\\\uc988\", \"SentimentText\": \"\\\\uc790\\\\ucf13\\\\uc774 \\\\ub118\\\\uc791\\\\uace0\", \"SentimentWord\": \"2\", \"SentimentPolarity\": \"-1\"}, {\"Aspect\": \"\\\\uae38\\\\uc774\", \"SentimentText\": \"\\\\uc9e7\\\\uc73c\\\\ub124\\\\uc694.\", \"SentimentWord\": \"1\", \"SentimentPolarity\": \"-1\"}, {\"Aspect\": \"\\\\uc0ac\\\\uc774\\\\uc988\", \"SentimentText\": \"\\\\uc0c1\\\\uc758\\\\ub294 \\\\uc880\\\\uc791\\\\uad6c\", \"SentimentWord\": \"2\", \"SentimentPolarity\": \"-1\"}, {\"Aspect\": \"\\\\uc0ac\\\\uc774\\\\uc988\", \"SentimentText\": \"\\\\ubc14\\\\uc9c0\\\\ub294 \\\\uc798\\\\ub9de\\\\uc544\\\\uc694.\", \"SentimentWord\": \"2\", \"SentimentPolarity\": \"1\"}]}', metadata={'source': '/content/1-1.여성의류(1).json', 'seq_num': 7}),\n",
              " Document(page_content='{\"Index\": \"30\", \"RawText\": \"\\\\uc2f8\\\\uace0\\\\ud488\\\\uc9c8\\\\uc774\\\\uc88b\\\\uc544\\\\uc694\\\\u11a2\\\\uc0ac\\\\uc774\\\\uc988\\\\ub294\\\\uc880\\\\ud070\\\\ub4ef\\\\ud558\\\\uad6c\\\\uc694\\\\u11a2\\\\ubc18\\\\uc0ac\\\\uc774\\\\uc988\\\\ub294\\\\ub0b4\\\\ub824\\\\uc11c\\\\uc8fc\\\\ubb38\\\\ud558\\\\uc2ec\\\\uc88b\\\\uc744\\\\ub4ef\\\\ud574\\\\uc694\", \"Source\": \"\\\\uc1fc\\\\ud551\\\\ubab0\", \"Domain\": \"\\\\ud328\\\\uc158\", \"MainCategory\": \"\\\\uc5ec\\\\uc131\\\\uc758\\\\ub958\", \"ProductName\": \"OO \\\\ud50c** \\\\ubca0\\\\uc2a4\\\\ud2b8 \\\\ud480\\\\ucf54\\\\ub514 3\\\\uc885\", \"ReviewScore\": \"100\", \"Syllable\": \"37\", \"Word\": \"1\", \"RDate\": \"20210618\", \"GeneralPolarity\": \"0\", \"Aspects\": [{\"Aspect\": \"\\\\uac00\\\\uaca9\", \"SentimentText\": \"\\\\uc2f8\\\\uace0\", \"SentimentWord\": \"1\", \"SentimentPolarity\": \"1\"}, {\"Aspect\": \"\\\\ud488\\\\uc9c8\", \"SentimentText\": \"\\\\ud488\\\\uc9c8\\\\uc774\\\\uc88b\\\\uc544\\\\uc694\\\\u11a2\", \"SentimentWord\": \"1\", \"SentimentPolarity\": \"1\"}, {\"Aspect\": \"\\\\uc0ac\\\\uc774\\\\uc988\", \"SentimentText\": \"\\\\uc0ac\\\\uc774\\\\uc988\\\\ub294\\\\uc880\\\\ud070\\\\ub4ef\\\\ud558\\\\uad6c\\\\uc694\\\\u11a2\", \"SentimentWord\": \"1\", \"SentimentPolarity\": \"0\"}, {\"Aspect\": \"\\\\uc0ac\\\\uc774\\\\uc988\", \"SentimentText\": \"\\\\ubc18\\\\uc0ac\\\\uc774\\\\uc988\\\\ub294\\\\ub0b4\\\\ub824\\\\uc11c\\\\uc8fc\\\\ubb38\\\\ud558\\\\uc2ec\\\\uc88b\\\\uc744\\\\ub4ef\\\\ud574\\\\uc694\", \"SentimentWord\": \"1\", \"SentimentPolarity\": \"0\"}]}', metadata={'source': '/content/1-1.여성의류(1).json', 'seq_num': 8}),\n",
              " Document(page_content='{\"Index\": \"38\", \"RawText\": \"\\\\ubc14\\\\uc9c0\\\\uac00 \\\\ub108\\\\ubb34 \\\\ud3b8\\\\ud558\\\\uace0 \\\\uc88b\\\\uc544\\\\uc694 \\\\ud2f0\\\\uc154\\\\uce20\\\\ub294 \\\\uc5ec\\\\ub984\\\\uc5d0 \\\\uc798 \\\\uc785\\\\uc744 \\\\ub4ef \\\\ubca0\\\\uc2a4\\\\ud2b8\\\\ub294 \\\\ub514\\\\uc790\\\\uc778\\\\uc740 \\\\ubcc4\\\\ub85c\\\\uc9c0\\\\ub9cc \\\\uac00\\\\uaca9\\\\uc774 \\\\ucc29\\\\ud574\\\\uc11c \\\\ub9cc\\\\uc871\", \"Source\": \"\\\\uc1fc\\\\ud551\\\\ubab0\", \"Domain\": \"\\\\ud328\\\\uc158\", \"MainCategory\": \"\\\\uc5ec\\\\uc131\\\\uc758\\\\ub958\", \"ProductName\": \"OO \\\\ud50c** \\\\ubca0\\\\uc2a4\\\\ud2b8 \\\\ud480\\\\ucf54\\\\ub514 3\\\\uc885\", \"ReviewScore\": \"70\", \"Syllable\": \"56\", \"Word\": \"15\", \"RDate\": \"20210408\", \"GeneralPolarity\": \"1\", \"Aspects\": [{\"Aspect\": \"\\\\ucc29\\\\uc6a9\\\\uac10\", \"SentimentText\": \"\\\\ubc14\\\\uc9c0\\\\uac00 \\\\ub108\\\\ubb34 \\\\ud3b8\\\\ud558\\\\uace0 \\\\uc88b\\\\uc544\\\\uc694\", \"SentimentWord\": \"4\", \"SentimentPolarity\": \"1\"}, {\"Aspect\": \"\\\\uae30\\\\ub2a5\", \"SentimentText\": \"\\\\ud2f0\\\\uc154\\\\uce20\\\\ub294 \\\\uc5ec\\\\ub984\\\\uc5d0 \\\\uc798 \\\\uc785\\\\uc744 \\\\ub4ef\", \"SentimentWord\": \"5\", \"SentimentPolarity\": \"1\"}, {\"Aspect\": \"\\\\ub514\\\\uc790\\\\uc778\", \"SentimentText\": \"\\\\ubca0\\\\uc2a4\\\\ud2b8\\\\ub294 \\\\ub514\\\\uc790\\\\uc778\\\\uc740 \\\\ubcc4\\\\ub85c\\\\uc9c0\\\\ub9cc\", \"SentimentWord\": \"3\", \"SentimentPolarity\": \"-1\"}, {\"Aspect\": \"\\\\uac00\\\\uaca9\", \"SentimentText\": \"\\\\uac00\\\\uaca9\\\\uc774 \\\\ucc29\\\\ud574\\\\uc11c \\\\ub9cc\\\\uc871\", \"SentimentWord\": \"3\", \"SentimentPolarity\": \"1\"}]}', metadata={'source': '/content/1-1.여성의류(1).json', 'seq_num': 9}),\n",
              " Document(page_content='{\"Index\": \"54\", \"RawText\": \"\\\\ub514\\\\uc790\\\\uc778\\\\uc774 \\\\uc608\\\\ubed0\\\\uc694. \\\\uc0ac\\\\uc774\\\\uc988 \\\\uc798 \\\\ub9de\\\\uc2b5\\\\ub2c8\\\\ub2e4.\", \"Source\": \"\\\\uc1fc\\\\ud551\\\\ubab0\", \"Domain\": \"\\\\ud328\\\\uc158\", \"MainCategory\": \"\\\\uc5ec\\\\uc131\\\\uc758\\\\ub958\", \"ProductName\": \"OO \\\\uc5ec\\\\uc131 \\\\uc18c\\\\ud504\\\\ud2b8 \\\\uc9c4\\\\uc8fc \\\\uc544** \\\\ub2c8\\\\ud2b8 2\\\\uc885 \\\\ud0dd1\", \"ReviewScore\": \"100\", \"Syllable\": \"21\", \"Word\": \"5\", \"RDate\": \"20211027\", \"GeneralPolarity\": \"1\", \"Aspects\": [{\"Aspect\": \"\\\\ub514\\\\uc790\\\\uc778\", \"SentimentText\": \"\\\\ub514\\\\uc790\\\\uc778\\\\uc774 \\\\uc608\\\\ubed0\\\\uc694.\", \"SentimentWord\": \"2\", \"SentimentPolarity\": \"1\"}, {\"Aspect\": \"\\\\uc0ac\\\\uc774\\\\uc988\", \"SentimentText\": \"\\\\uc0ac\\\\uc774\\\\uc988 \\\\uc798 \\\\ub9de\\\\uc2b5\\\\ub2c8\\\\ub2e4.\", \"SentimentWord\": \"3\", \"SentimentPolarity\": \"1\"}]}', metadata={'source': '/content/1-1.여성의류(1).json', 'seq_num': 10}),\n",
              " Document(page_content='{\"Index\": \"55\", \"RawText\": \"\\\\uc0ac\\\\uc774\\\\uc988 \\\\ub531 \\\\ub9de\\\\uad6c\\\\uc694.  \\\\ub108\\\\ubb34 \\\\uc608\\\\uc058\\\\uace0  \\\\uc587\\\\uc9c0\\\\ub3c4 \\\\ub450\\\\uaecd\\\\uc9c0\\\\ub3c4 \\\\uc54a\\\\uc73c\\\\ub124\\\\uc694.\", \"Source\": \"\\\\uc1fc\\\\ud551\\\\ubab0\", \"Domain\": \"\\\\ud328\\\\uc158\", \"MainCategory\": \"\\\\uc5ec\\\\uc131\\\\uc758\\\\ub958\", \"ProductName\": \"OO \\\\uc5ec\\\\uc131 \\\\uc18c\\\\ud504\\\\ud2b8 \\\\uc9c4\\\\uc8fc \\\\uc544** \\\\ub2c8\\\\ud2b8 2\\\\uc885 \\\\ud0dd1\", \"ReviewScore\": \"100\", \"Syllable\": \"34\", \"Word\": \"8\", \"RDate\": \"20211027\", \"GeneralPolarity\": \"1\", \"Aspects\": [{\"Aspect\": \"\\\\uc0ac\\\\uc774\\\\uc988\", \"SentimentText\": \"\\\\uc0ac\\\\uc774\\\\uc988 \\\\ub531 \\\\ub9de\\\\uad6c\\\\uc694\", \"SentimentWord\": \"3\", \"SentimentPolarity\": \"1\"}, {\"Aspect\": \"\\\\ub514\\\\uc790\\\\uc778\", \"SentimentText\": \"\\\\ub108\\\\ubb34 \\\\uc608\\\\uc058\\\\uace0\", \"SentimentWord\": \"2\", \"SentimentPolarity\": \"1\"}, {\"Aspect\": \"\\\\ub450\\\\uaed8\", \"SentimentText\": \"\\\\uc587\\\\uc9c0\\\\ub3c4 \\\\ub450\\\\uaecd\\\\uc9c0\\\\ub3c4 \\\\uc54a\\\\uc73c\\\\ub124\\\\uc694.\", \"SentimentWord\": \"3\", \"SentimentPolarity\": \"1\"}]}', metadata={'source': '/content/1-1.여성의류(1).json', 'seq_num': 11}),\n",
              " Document(page_content='{\"Index\": \"57\", \"RawText\": \"\\\\uc800\\\\ub834\\\\ud558\\\\uac8c \\\\uad6c\\\\uc785\\\\ud574\\\\uc11c \\\\uaca8\\\\uc6b8\\\\uc5d0 \\\\uc798 \\\\uc785\\\\uc744\\\\uac70 \\\\uac19\\\\uc544\\\\uc694\", \"Source\": \"\\\\uc1fc\\\\ud551\\\\ubab0\", \"Domain\": \"\\\\ud328\\\\uc158\", \"MainCategory\": \"\\\\uc5ec\\\\uc131\\\\uc758\\\\ub958\", \"ProductName\": \"OO \\\\uc5ec\\\\uc131 \\\\uc18c\\\\ud504\\\\ud2b8 \\\\uc9c4\\\\uc8fc \\\\uc544** \\\\ub2c8\\\\ud2b8 2\\\\uc885 \\\\ud0dd1\", \"ReviewScore\": \"70\", \"Syllable\": \"23\", \"Word\": \"6\", \"RDate\": \"20210910\", \"GeneralPolarity\": \"1\", \"Aspects\": [{\"Aspect\": \"\\\\uac00\\\\uaca9\", \"SentimentText\": \"\\\\uc800\\\\ub834\\\\ud558\\\\uac8c \\\\uad6c\\\\uc785\\\\ud574\\\\uc11c\", \"SentimentWord\": \"2\", \"SentimentPolarity\": \"1\"}, {\"Aspect\": \"\\\\uae30\\\\ub2a5\", \"SentimentText\": \"\\\\uaca8\\\\uc6b8\\\\uc5d0 \\\\uc798 \\\\uc785\\\\uc744\\\\uac70 \\\\uac19\\\\uc544\\\\uc694\", \"SentimentWord\": \"4\", \"SentimentPolarity\": \"1\"}]}', metadata={'source': '/content/1-1.여성의류(1).json', 'seq_num': 12}),\n",
              " Document(page_content='{\"Index\": \"61\", \"RawText\": \"\\\\ud138\\\\uc774 \\\\uc5c4\\\\uccad\\\\ub098\\\\uac8c \\\\ube60\\\\uc9d1\\\\ub2c8\\\\ub2e4 \\\\uba74 \\\\ubc14\\\\ubc14\\\\ub9ac\\\\uc5d0 \\\\uc5c4\\\\uccad\\\\ub098\\\\uac8c \\\\ubb3b\\\\uc5b4\\\\ub098\\\\uace0  \\\\ud558\\\\ub8e8\\\\uc785\\\\uace0\\\\ubc97\\\\uc5c8\\\\ub354\\\\ub2c8 \\\\uaca8\\\\ub4dc\\\\ub791\\\\uc774\\\\uac19\\\\uc740\\\\uacf3\\\\ub3c4 \\\\uc5c4\\\\uccad \\\\ubb49\\\\ucc98\\\\uc788\\\\ub2c8\\\\uc5d0\\\\uc694 \\\\uadf8\\\\ub798\\\\uc11c \\\\uc138\\\\ud0c1\\\\uc744 \\\\ud588\\\\ub354\\\\ub2c8 \\\\ub05d\\\\ub3c4\\\\uc5c6\\\\uc774 \\\\uc190\\\\uc5d0 \\\\ud138\\\\ubb49\\\\uce58???? \\\\ub4e4\\\\uc774 \\\\ubb3b\\\\uc5b4\\\\ub098\\\\uc11c \\\\ud3ec\\\\uae30\\\\ud588\\\\uc2b5\\\\ub2c8\\\\ub2e4 \\\\uc774\\\\uac8c\\\\ubd88\\\\ub7c9\\\\uc778\\\\uac00\\\\uc694 \\\\uc65c\\\\uc774\\\\ub807\\\\uac8c \\\\ub9cc\\\\ub4dc\\\\uc2e0\\\\uac74\\\\uac00\\\\uc694 \\\\uc637\\\\ub514\\\\uc790\\\\uc778\\\\uc740 \\\\ub108\\\\ubb34\\\\ub9d8\\\\uc5d0\\\\ub4dc\\\\ub294\\\\ub370 \\\\ud138\\\\ube60\\\\uc9d0\\\\ub54c\\\\ub9e4 \\\\uc637\\\\uc774\\\\uc544\\\\ub2c8\\\\ub124\\\\uc5ec\", \"Source\": \"\\\\uc1fc\\\\ud551\\\\ubab0\", \"Domain\": \"\\\\ud328\\\\uc158\", \"MainCategory\": \"\\\\uc5ec\\\\uc131\\\\uc758\\\\ub958\", \"ProductName\": \"OO \\\\uc5ec\\\\uc131 \\\\uc18c\\\\ud504\\\\ud2b8 \\\\uc9c4\\\\uc8fc \\\\uc544** \\\\ub2c8\\\\ud2b8 2\\\\uc885 \\\\ud0dd1\", \"ReviewScore\": \"10\", \"Syllable\": \"148\", \"Word\": \"27\", \"RDate\": \"20210421\", \"GeneralPolarity\": \"-1\", \"Aspects\": [{\"Aspect\": \"\\\\ud488\\\\uc9c8\", \"SentimentText\": \"\\\\ud138\\\\uc774 \\\\uc5c4\\\\uccad\\\\ub098\\\\uac8c \\\\ube60\\\\uc9d1\\\\ub2c8\\\\ub2e4 \\\\uba74 \\\\ubc14\\\\ubc14\\\\ub9ac\\\\uc5d0 \\\\uc5c4\\\\uccad\\\\ub098\\\\uac8c \\\\ubb3b\\\\uc5b4\\\\ub098\\\\uace0\", \"SentimentWord\": \"7\", \"SentimentPolarity\": \"-1\"}, {\"Aspect\": \"\\\\ud488\\\\uc9c8\", \"SentimentText\": \"\\\\ud558\\\\ub8e8\\\\uc785\\\\uace0\\\\ubc97\\\\uc5c8\\\\ub354\\\\ub2c8 \\\\uaca8\\\\ub4dc\\\\ub791\\\\uc774\\\\uac19\\\\uc740\\\\uacf3\\\\ub3c4 \\\\uc5c4\\\\uccad \\\\ubb49\\\\ucc98\\\\uc788\\\\ub2c8\\\\uc5d0\\\\uc694\", \"SentimentWord\": \"4\", \"SentimentPolarity\": \"-1\"}, {\"Aspect\": \"\\\\ud488\\\\uc9c8\", \"SentimentText\": \"\\\\uc138\\\\ud0c1\\\\uc744 \\\\ud588\\\\ub354\\\\ub2c8 \\\\ub05d\\\\ub3c4\\\\uc5c6\\\\uc774 \\\\uc190\\\\uc5d0 \\\\ud138\\\\ubb49\\\\uce58???? \\\\ub4e4\\\\uc774 \\\\ubb3b\\\\uc5b4\\\\ub098\\\\uc11c \\\\ud3ec\\\\uae30\\\\ud588\\\\uc2b5\\\\ub2c8\\\\ub2e4\", \"SentimentWord\": \"8\", \"SentimentPolarity\": \"-1\"}, {\"Aspect\": \"\\\\ub514\\\\uc790\\\\uc778\", \"SentimentText\": \"\\\\uc637\\\\ub514\\\\uc790\\\\uc778\\\\uc740 \\\\ub108\\\\ubb34\\\\ub9d8\\\\uc5d0\\\\ub4dc\\\\ub294\\\\ub370 \", \"SentimentWord\": \"2\", \"SentimentPolarity\": \"1\"}, {\"Aspect\": \"\\\\ud488\\\\uc9c8\", \"SentimentText\": \"\\\\ud138\\\\ube60\\\\uc9d0\\\\ub54c\\\\ub9e4 \\\\uc637\\\\uc774\\\\uc544\\\\ub2c8\\\\ub124\\\\uc5ec\", \"SentimentWord\": \"2\", \"SentimentPolarity\": \"-1\"}]}', metadata={'source': '/content/1-1.여성의류(1).json', 'seq_num': 13}),\n",
              " Document(page_content='{\"Index\": \"63\", \"RawText\": \"\\\\ub514\\\\uc790\\\\uc778\\\\uc774 \\\\uc5ec\\\\uc131\\\\uc2a4\\\\ub7ec\\\\uc6b4 \\\\ubd84\\\\uc704\\\\uae30\\\\uac00 \\\\ub0a9\\\\ub2c8\\\\ub2e4 \\\\uad6c\\\\uaca8\\\\uc838\\\\uc640\\\\uc11c \\\\ub2e4\\\\ub9bc\\\\uc9c8 \\\\ud544\\\\uc694\\\\ud588\\\\uc5b4\\\\uc694\", \"Source\": \"\\\\uc1fc\\\\ud551\\\\ubab0\", \"Domain\": \"\\\\ud328\\\\uc158\", \"MainCategory\": \"\\\\uc5ec\\\\uc131\\\\uc758\\\\ub958\", \"ProductName\": \"OO \\\\ud06c** \\\\uae34\\\\ud314 \\\\ub2c8\\\\ud2b8 \\\\ud2f0\\\\uc154\\\\uce20 \\\\ubca0\\\\uc774\\\\uc9c0\", \"ReviewScore\": \"90\", \"Syllable\": \"35\", \"Word\": \"7\", \"RDate\": \"20210916\", \"GeneralPolarity\": \"0\", \"Aspects\": [{\"Aspect\": \"\\\\ub514\\\\uc790\\\\uc778\", \"SentimentText\": \"\\\\ub514\\\\uc790\\\\uc778\\\\uc774 \\\\uc5ec\\\\uc131\\\\uc2a4\\\\ub7ec\\\\uc6b4 \\\\ubd84\\\\uc704\\\\uae30\\\\uac00 \\\\ub0a9\\\\ub2c8\\\\ub2e4\", \"SentimentWord\": \"4\", \"SentimentPolarity\": \"1\"}, {\"Aspect\": \"\\\\ud488\\\\uc9c8\", \"SentimentText\": \"\\\\uad6c\\\\uaca8\\\\uc838\\\\uc640\\\\uc11c \\\\ub2e4\\\\ub9bc\\\\uc9c8 \\\\ud544\\\\uc694\\\\ud588\\\\uc5b4\\\\uc694\", \"SentimentWord\": \"3\", \"SentimentPolarity\": \"-1\"}]}', metadata={'source': '/content/1-1.여성의류(1).json', 'seq_num': 14}),\n",
              " Document(page_content='{\"Index\": \"64\", \"RawText\": \"99\\\\uc0ac\\\\uc774\\\\uc988 \\\\uc785\\\\ub294\\\\ub370 88 \\\\uc0ac\\\\uc774\\\\uc988 \\\\uc798\\\\ub9de\\\\uace0~ \\\\uae30\\\\uc7a5\\\\uc774 \\\\uc0b4\\\\uc9dd \\\\uc9e7\\\\uc740\\\\ub4ef \\\\ud558\\\\uc9c0\\\\ub9cc \\\\ubc1d\\\\uc740\\\\uc0c9\\\\ub3c4 \\\\uc788\\\\uace0~ \\\\uae4c\\\\uc2e4\\\\uae4c\\\\uc2e4\\\\ud558\\\\ub2c8 \\\\uc88b\\\\uc73c\\\\ub124\\\\uc694~\", \"Source\": \"\\\\uc1fc\\\\ud551\\\\ubab0\", \"Domain\": \"\\\\ud328\\\\uc158\", \"MainCategory\": \"\\\\uc5ec\\\\uc131\\\\uc758\\\\ub958\", \"ProductName\": \"OO \\\\uc0e4** \\\\uc378\\\\uba38 \\\\ucfe8\\\\ub2c8\\\\ud2b8 4\\\\uc885\", \"ReviewScore\": \"100\", \"Syllable\": \"58\", \"Word\": \"13\", \"RDate\": \"20210707\", \"GeneralPolarity\": \"1\", \"Aspects\": [{\"Aspect\": \"\\\\uc0ac\\\\uc774\\\\uc988\", \"SentimentText\": \"99\\\\uc0ac\\\\uc774\\\\uc988 \\\\uc785\\\\ub294\\\\ub370 88 \\\\uc0ac\\\\uc774\\\\uc988 \\\\uc798\\\\ub9de\\\\uace0\", \"SentimentWord\": \"5\", \"SentimentPolarity\": \"1\"}, {\"Aspect\": \"\\\\uae38\\\\uc774\", \"SentimentText\": \"\\\\uae30\\\\uc7a5\\\\uc774 \\\\uc0b4\\\\uc9dd \\\\uc9e7\\\\uc740\\\\ub4ef \", \"SentimentWord\": \"3\", \"SentimentPolarity\": \"-1\"}, {\"Aspect\": \"\\\\uc0c9\\\\uc0c1\", \"SentimentText\": \"\\\\ubc1d\\\\uc740\\\\uc0c9\\\\ub3c4 \\\\uc788\\\\uace0\", \"SentimentWord\": \"2\", \"SentimentPolarity\": \"1\"}, {\"Aspect\": \"\\\\ucd09\\\\uac10\", \"SentimentText\": \"\\\\uae4c\\\\uc2e4\\\\uae4c\\\\uc2e4\\\\ud558\\\\ub2c8 \\\\uc88b\\\\uc73c\\\\ub124\\\\uc694~\", \"SentimentWord\": \"2\", \"SentimentPolarity\": \"1\"}]}', metadata={'source': '/content/1-1.여성의류(1).json', 'seq_num': 15}),\n",
              " Document(page_content='{\"Index\": \"65\", \"RawText\": \"4\\\\uc885 \\\\ub9c8\\\\uc74c\\\\uc5d0 \\\\ub4e4\\\\uc5b4\\\\uc694 \\\\uc0c9\\\\uae54\\\\ub3c4 \\\\uc774\\\\uc058\\\\uace0 \\\\uc5ec\\\\ub984\\\\ub2c8\\\\ud2b8 \\\\uc785\\\\ub2c8\\\\ub2e4\", \"Source\": \"\\\\uc1fc\\\\ud551\\\\ubab0\", \"Domain\": \"\\\\ud328\\\\uc158\", \"MainCategory\": \"\\\\uc5ec\\\\uc131\\\\uc758\\\\ub958\", \"ProductName\": \"OO \\\\uc0e4** \\\\uc378\\\\uba38 \\\\ucfe8\\\\ub2c8\\\\ud2b8 4\\\\uc885\", \"ReviewScore\": \"100\", \"Syllable\": \"27\", \"Word\": \"7\", \"RDate\": \"20210830\", \"GeneralPolarity\": \"1\", \"Aspects\": [{\"Aspect\": \"\\\\uc81c\\\\ud488\\\\uad6c\\\\uc131\", \"SentimentText\": \"4\\\\uc885 \\\\ub9c8\\\\uc74c\\\\uc5d0 \\\\ub4e4\\\\uc5b4\\\\uc694\", \"SentimentWord\": \"3\", \"SentimentPolarity\": \"1\"}, {\"Aspect\": \"\\\\uc0c9\\\\uc0c1\", \"SentimentText\": \"\\\\uc0c9\\\\uae54\\\\ub3c4 \\\\uc774\\\\uc058\\\\uace0\", \"SentimentWord\": \"2\", \"SentimentPolarity\": \"1\"}]}', metadata={'source': '/content/1-1.여성의류(1).json', 'seq_num': 16}),\n",
              " Document(page_content='{\"Index\": \"69\", \"RawText\": \"\\\\uc0c9\\\\uc0c1\\\\uc774 \\\\uc608\\\\uc058\\\\uace0  \\\\uad6c\\\\uae40\\\\uc774\\\\uc5c6\\\\uc5b4\\\\uc694\", \"Source\": \"\\\\uc1fc\\\\ud551\\\\ubab0\", \"Domain\": \"\\\\ud328\\\\uc158\", \"MainCategory\": \"\\\\uc5ec\\\\uc131\\\\uc758\\\\ub958\", \"ProductName\": \"OO \\\\uc0e4** \\\\uc378\\\\uba38 \\\\ucfe8\\\\ub2c8\\\\ud2b8 4\\\\uc885\", \"ReviewScore\": \"100\", \"Syllable\": \"15\", \"Word\": \"3\", \"RDate\": \"20210811\", \"GeneralPolarity\": \"1\", \"Aspects\": [{\"Aspect\": \"\\\\uc0c9\\\\uc0c1\", \"SentimentText\": \"\\\\uc0c9\\\\uc0c1\\\\uc774 \\\\uc608\\\\uc058\\\\uace0\", \"SentimentWord\": \"2\", \"SentimentPolarity\": \"1\"}, {\"Aspect\": \"\\\\ud488\\\\uc9c8\", \"SentimentText\": \"\\\\uad6c\\\\uae40\\\\uc774\\\\uc5c6\\\\uc5b4\\\\uc694\", \"SentimentWord\": \"1\", \"SentimentPolarity\": \"1\"}]}', metadata={'source': '/content/1-1.여성의류(1).json', 'seq_num': 17}),\n",
              " Document(page_content='{\"Index\": \"71\", \"RawText\": \"\\\\uc0c9\\\\uc0c1 \\\\ub514\\\\uc790\\\\uc778 \\\\uc608\\\\uc058\\\\uace0 \\\\ub9d8\\\\uc5d0\\\\ub4e4\\\\uc5b4\\\\uc694\", \"Source\": \"\\\\uc1fc\\\\ud551\\\\ubab0\", \"Domain\": \"\\\\ud328\\\\uc158\", \"MainCategory\": \"\\\\uc5ec\\\\uc131\\\\uc758\\\\ub958\", \"ProductName\": \"OO \\\\uc0e4** \\\\uc378\\\\uba38 \\\\ucfe8\\\\ub2c8\\\\ud2b8 4\\\\uc885\", \"ReviewScore\": \"80\", \"Syllable\": \"16\", \"Word\": \"4\", \"RDate\": \"20210810\", \"GeneralPolarity\": \"1\", \"Aspects\": [{\"Aspect\": \"\\\\uc0c9\\\\uc0c1\", \"SentimentText\": \"\\\\uc0c9\\\\uc0c1 \\\\ub514\\\\uc790\\\\uc778 \\\\uc608\\\\uc058\\\\uace0\", \"SentimentWord\": \"3\", \"SentimentPolarity\": \"1\"}, {\"Aspect\": \"\\\\ub514\\\\uc790\\\\uc778\", \"SentimentText\": \"\\\\ub514\\\\uc790\\\\uc778 \\\\uc608\\\\uc058\\\\uace0\", \"SentimentWord\": \"2\", \"SentimentPolarity\": \"1\"}]}', metadata={'source': '/content/1-1.여성의류(1).json', 'seq_num': 18}),\n",
              " Document(page_content='{\"Index\": \"74\", \"RawText\": \"\\\\uac00\\\\uc131\\\\ube44 \\\\uac11\\\\uc785\\\\ub2c8\\\\ub2e4 \\\\uac00\\\\ub85c\\\\ud328\\\\ud134\\\\uc774\\\\ub77c \\\\ub354\\\\ucee4 \\\\ubcf4\\\\uc774\\\\uba74 \\\\uc5b4\\\\uca4c\\\\ub098 \\\\uc2f6\\\\uc5c8\\\\ub294\\\\ub370 \\\\uce7c\\\\ub77c\\\\uace0 \\\\ub514\\\\uc790\\\\uc778\\\\uc774\\\\uace0 \\\\ub2e4 \\\\ub9cc\\\\uc871\\\\ud569\\\\ub2c8\\\\ub2e4  \\\\uac00\\\\uc2b4\\\\ub3c4  \\\\uc880\\\\uc788\\\\ub294\\\\ud3b8\\\\uc774\\\\ub77c  \\\\uac71\\\\uc815\\\\ud588\\\\ub294\\\\ub370 \\\\ud54f\\\\uc774 \\\\uad38\\\\ucc2e\\\\uc544\\\\uc694  \\\\ube44\\\\uce58\\\\uc9c0 \\\\uc54a\\\\uc544\\\\uc11c \\\\ud558\\\\ub098\\\\ub9cc \\\\uc785\\\\uace0 \\\\ub2e4\\\\ub140\\\\ub3c4\\\\ub420\\\\ub9cc \\\\ud569\\\\ub2c8\\\\ub2e4\", \"Source\": \"\\\\uc1fc\\\\ud551\\\\ubab0\", \"Domain\": \"\\\\ud328\\\\uc158\", \"MainCategory\": \"\\\\uc5ec\\\\uc131\\\\uc758\\\\ub958\", \"ProductName\": \"OO \\\\uc0e4** \\\\uc378\\\\uba38 \\\\ucfe8\\\\ub2c8\\\\ud2b8 4\\\\uc885\", \"ReviewScore\": \"100\", \"Syllable\": \"103\", \"Word\": \"22\", \"RDate\": \"20210714\", \"GeneralPolarity\": \"1\", \"Aspects\": [{\"Aspect\": \"\\\\uac00\\\\uaca9\", \"SentimentText\": \"\\\\uac00\\\\uc131\\\\ube44 \\\\uac11\\\\uc785\\\\ub2c8\\\\ub2e4\", \"SentimentWord\": \"2\", \"SentimentPolarity\": \"1\"}, {\"Aspect\": \"\\\\uc0c9\\\\uc0c1\", \"SentimentText\": \"\\\\uce7c\\\\ub77c\\\\uace0 \\\\ub514\\\\uc790\\\\uc778\\\\uc774\\\\uace0 \\\\ub2e4 \\\\ub9cc\\\\uc871\\\\ud569\\\\ub2c8\\\\ub2e4\", \"SentimentWord\": \"4\", \"SentimentPolarity\": \"1\"}, {\"Aspect\": \"\\\\ub514\\\\uc790\\\\uc778\", \"SentimentText\": \"\\\\ub514\\\\uc790\\\\uc778\\\\uc774\\\\uace0 \\\\ub2e4 \\\\ub9cc\\\\uc871\\\\ud569\\\\ub2c8\\\\ub2e4\", \"SentimentWord\": \"3\", \"SentimentPolarity\": \"1\"}, {\"Aspect\": \"\\\\ud54f\", \"SentimentText\": \"\\\\ud54f\\\\uc774 \\\\uad38\\\\ucc2e\\\\uc544\\\\uc694\", \"SentimentWord\": \"2\", \"SentimentPolarity\": \"1\"}, {\"Aspect\": \"\\\\uc18c\\\\uc7ac\", \"SentimentText\": \"\\\\ube44\\\\uce58\\\\uc9c0 \\\\uc54a\\\\uc544\\\\uc11c \\\\ud558\\\\ub098\\\\ub9cc \\\\uc785\\\\uace0 \\\\ub2e4\\\\ub140\\\\ub3c4\\\\ub420\\\\ub9cc \\\\ud569\\\\ub2c8\\\\ub2e4\", \"SentimentWord\": \"6\", \"SentimentPolarity\": \"1\"}]}', metadata={'source': '/content/1-1.여성의류(1).json', 'seq_num': 19}),\n",
              " Document(page_content='{\"Index\": \"77\", \"RawText\": \"\\\\uc624 \\\\uc88b\\\\uc544\\\\uc694 \\\\uc774\\\\uac00\\\\uaca9\\\\uc5d0 \\\\ub4dd\\\\ud15c \\\\ud588\\\\ub124\\\\uc694 \\\\uc0b4\\\\uc774\\\\uca84\\\\uc11c \\\\uace0\\\\ubbfc\\\\uc774\\\\uc5c8\\\\ub294\\\\ub370 \\\\uc5b4\\\\uc9c0\\\\uac04\\\\ud788 \\\\ucee4\\\\ubc84\\\\ub3c4 \\\\ub418\\\\uace0 \\\\uac00\\\\ubccd\\\\uace0 \\\\uc2dc\\\\uc6d0\\\\ud560\\\\ub4ef \\\\ud574\\\\uc694 \\\\uc798 \\\\uc785\\\\uc744\\\\uaed8\\\\uc694 \\\\ubc14\\\\ub85c \\\\uc138\\\\ud0c1\\\\ud558\\\\ub290\\\\ub77c \\\\uc2dc\\\\ucc29\\\\ub9cc \\\\ud574\\\\uc11c \\\\uc0ac\\\\uc9c4\\\\uc740 \\\\uc2a4\\\\ud06c\\\\ub9b0\\\\uc0f7 \\\\uc73c\\\\ub85c \\\\ub300\\\\uccb4\\\\ud574\\\\uc694 \\\\uc0ac\\\\uc9c4\\\\ud558\\\\uace0 \\\\ub611 \\\\uac19\\\\uc73c\\\\ub2c8 \\\\uac71\\\\uc815\\\\ub9c8\\\\uc138\\\\uc694 \\\\ucd94\\\\ucc9c \\\\ud569\\\\ub2c8\\\\ub2e4\", \"Source\": \"\\\\uc1fc\\\\ud551\\\\ubab0\", \"Domain\": \"\\\\ud328\\\\uc158\", \"MainCategory\": \"\\\\uc5ec\\\\uc131\\\\uc758\\\\ub958\", \"ProductName\": \"OO \\\\uc0e4** \\\\uc378\\\\uba38 \\\\ucfe8\\\\ub2c8\\\\ud2b8 4\\\\uc885\", \"ReviewScore\": \"100\", \"Syllable\": \"117\", \"Word\": \"29\", \"RDate\": \"20210706\", \"GeneralPolarity\": \"1\", \"Aspects\": [{\"Aspect\": \"\\\\uac00\\\\uaca9\", \"SentimentText\": \"\\\\uc774\\\\uac00\\\\uaca9\\\\uc5d0 \\\\ub4dd\\\\ud15c \\\\ud588\\\\ub124\\\\uc694\", \"SentimentWord\": \"3\", \"SentimentPolarity\": \"1\"}, {\"Aspect\": \"\\\\uc0ac\\\\uc774\\\\uc988\", \"SentimentText\": \"\\\\uc5b4\\\\uc9c0\\\\uac04\\\\ud788 \\\\ucee4\\\\ubc84\\\\ub3c4 \\\\ub418\\\\uace0\", \"SentimentWord\": \"3\", \"SentimentPolarity\": \"1\"}, {\"Aspect\": \"\\\\ubb34\\\\uac8c\", \"SentimentText\": \"\\\\uac00\\\\ubccd\\\\uace0\", \"SentimentWord\": \"1\", \"SentimentPolarity\": \"1\"}, {\"Aspect\": \"\\\\uae30\\\\ub2a5\", \"SentimentText\": \"\\\\uc2dc\\\\uc6d0\\\\ud560\\\\ub4ef \\\\ud574\\\\uc694\", \"SentimentWord\": \"2\", \"SentimentPolarity\": \"1\"}]}', metadata={'source': '/content/1-1.여성의류(1).json', 'seq_num': 20}),\n",
              " Document(page_content='{\"Index\": \"89\", \"RawText\": \"\\\\uac00\\\\uaca9\\\\ub300\\\\ube44 \\\\ucd5c\\\\uace0\\\\uc608\\\\uc694 \\\\uac00\\\\ubccd\\\\uace0 \\\\uc88b\\\\uc544\\\\uc694\", \"Source\": \"\\\\uc1fc\\\\ud551\\\\ubab0\", \"Domain\": \"\\\\ud328\\\\uc158\", \"MainCategory\": \"\\\\uc5ec\\\\uc131\\\\uc758\\\\ub958\", \"ProductName\": \"OO \\\\uc0e4** \\\\uc378\\\\uba38 \\\\ucfe8\\\\ub2c8\\\\ud2b8 4\\\\uc885\", \"ReviewScore\": \"100\", \"Syllable\": \"17\", \"Word\": \"4\", \"RDate\": \"20210708\", \"GeneralPolarity\": \"1\", \"Aspects\": [{\"Aspect\": \"\\\\uac00\\\\uaca9\", \"SentimentText\": \"\\\\uac00\\\\uaca9\\\\ub300\\\\ube44 \\\\ucd5c\\\\uace0\\\\uc608\\\\uc694\", \"SentimentWord\": \"2\", \"SentimentPolarity\": \"1\"}, {\"Aspect\": \"\\\\ubb34\\\\uac8c\", \"SentimentText\": \"\\\\uac00\\\\ubccd\\\\uace0 \\\\uc88b\\\\uc544\\\\uc694\", \"SentimentWord\": \"2\", \"SentimentPolarity\": \"1\"}]}', metadata={'source': '/content/1-1.여성의류(1).json', 'seq_num': 21}),\n",
              " Document(page_content='{\"Index\": \"92\", \"RawText\": \"\\\\uadf8\\\\ub808\\\\uc774\\\\uc0c1\\\\uc758\\\\ub294 \\\\ube44\\\\uce68\\\\uc774 \\\\uc57d\\\\uac04\\\\uc788\\\\uc9c0\\\\ub9cc \\\\uac00\\\\uaca9\\\\ub300\\\\ube44 \\\\uc9f1\\\\uc774\\\\uc5d0\\\\uc694.  \\\\uc0c1\\\\uc758\\\\ub294\\\\ub798\\\\uc774\\\\uc628\\\\uc778\\\\ub370 \\\\ub9c8\\\\uc7ac\\\\uc9c8 \\\\ub290\\\\ub08c\\\\uc785\\\\ub2c8\\\\ub2e4\", \"Source\": \"\\\\uc1fc\\\\ud551\\\\ubab0\", \"Domain\": \"\\\\ud328\\\\uc158\", \"MainCategory\": \"\\\\uc5ec\\\\uc131\\\\uc758\\\\ub958\", \"ProductName\": \"OO \\\\ub808** \\\\uce74\\\\ub77c \\\\uc0c1\\\\ud558\\\\uc138\\\\ud2b8 3\\\\uc885 \\\\ud0dd1\", \"ReviewScore\": \"100\", \"Syllable\": \"47\", \"Word\": \"8\", \"RDate\": \"20210619\", \"GeneralPolarity\": \"1\", \"Aspects\": [{\"Aspect\": \"\\\\uc18c\\\\uc7ac\", \"SentimentText\": \"\\\\uadf8\\\\ub808\\\\uc774\\\\uc0c1\\\\uc758\\\\ub294 \\\\ube44\\\\uce68\\\\uc774 \\\\uc57d\\\\uac04\\\\uc788\\\\uc9c0\\\\ub9cc\", \"SentimentWord\": \"3\", \"SentimentPolarity\": \"0\"}, {\"Aspect\": \"\\\\uac00\\\\uaca9\", \"SentimentText\": \"\\\\uac00\\\\uaca9\\\\ub300\\\\ube44 \\\\uc9f1\\\\uc774\\\\uc5d0\\\\uc694.\", \"SentimentWord\": \"2\", \"SentimentPolarity\": \"1\"}, {\"Aspect\": \"\\\\uc18c\\\\uc7ac\", \"SentimentText\": \"\\\\uc0c1\\\\uc758\\\\ub294\\\\ub798\\\\uc774\\\\uc628\\\\uc778\\\\ub370 \\\\ub9c8\\\\uc7ac\\\\uc9c8 \\\\ub290\\\\ub08c\\\\uc785\\\\ub2c8\\\\ub2e4\", \"SentimentWord\": \"3\", \"SentimentPolarity\": \"1\"}]}', metadata={'source': '/content/1-1.여성의류(1).json', 'seq_num': 22}),\n",
              " Document(page_content='{\"Index\": \"93\", \"RawText\": \"\\\\uc2f8\\\\uac8c \\\\uc798\\\\uc0c0\\\\uc5b4\\\\uc694~ \\\\uc5ec\\\\ub984\\\\ub0b4 \\\\uc2dc\\\\uc6d0\\\\ud558\\\\uac8c \\\\uc798\\\\uc785\\\\uc5c8\\\\uc2b5\\\\ub2c8\\\\ub2e4.\", \"Source\": \"\\\\uc1fc\\\\ud551\\\\ubab0\", \"Domain\": \"\\\\ud328\\\\uc158\", \"MainCategory\": \"\\\\uc5ec\\\\uc131\\\\uc758\\\\ub958\", \"ProductName\": \"OO \\\\ub808** \\\\uce74\\\\ub77c \\\\uc0c1\\\\ud558\\\\uc138\\\\ud2b8 3\\\\uc885 \\\\ud0dd1\", \"ReviewScore\": \"100\", \"Syllable\": \"25\", \"Word\": \"5\", \"RDate\": \"20211030\", \"GeneralPolarity\": \"1\", \"Aspects\": [{\"Aspect\": \"\\\\uac00\\\\uaca9\", \"SentimentText\": \"\\\\uc2f8\\\\uac8c \\\\uc798\\\\uc0c0\\\\uc5b4\\\\uc694~\", \"SentimentWord\": \"2\", \"SentimentPolarity\": \"1\"}, {\"Aspect\": \"\\\\uae30\\\\ub2a5\", \"SentimentText\": \"\\\\uc5ec\\\\ub984\\\\ub0b4 \\\\uc2dc\\\\uc6d0\\\\ud558\\\\uac8c \\\\uc798\\\\uc785\\\\uc5c8\\\\uc2b5\\\\ub2c8\\\\ub2e4.\", \"SentimentWord\": \"3\", \"SentimentPolarity\": \"1\"}]}', metadata={'source': '/content/1-1.여성의류(1).json', 'seq_num': 23}),\n",
              " Document(page_content='{\"Index\": \"94\", \"RawText\": \"\\\\ub108~~\\\\ubb34 \\\\uc587\\\\uace0 \\\\ud6c4\\\\ub4e4\\\\ud6c4\\\\ub4e4.\\\\uc774\\\\ub7f0\\\\uac74 \\\\ud314\\\\uc9c0\\\\ub9c8\\\\uc138\\\\uc694. \\\\uc0c9\\\\uc0c1\\\\ub3c4 \\\\ubcc4\\\\ub85c\\\\ub124\\\\uc694.\", \"Source\": \"\\\\uc1fc\\\\ud551\\\\ubab0\", \"Domain\": \"\\\\ud328\\\\uc158\", \"MainCategory\": \"\\\\uc5ec\\\\uc131\\\\uc758\\\\ub958\", \"ProductName\": \"OO \\\\ub808** \\\\uce74\\\\ub77c \\\\uc0c1\\\\ud558\\\\uc138\\\\ud2b8 3\\\\uc885 \\\\ud0dd1\", \"ReviewScore\": \"20\", \"Syllable\": \"33\", \"Word\": \"6\", \"RDate\": \"20210831\", \"GeneralPolarity\": \"-1\", \"Aspects\": [{\"Aspect\": \"\\\\ub450\\\\uaed8\", \"SentimentText\": \"\\\\ub108~~\\\\ubb34 \\\\uc587\\\\uace0 \\\\ud6c4\\\\ub4e4\\\\ud6c4\\\\ub4e4\", \"SentimentWord\": \"3\", \"SentimentPolarity\": \"-1\"}, {\"Aspect\": \"\\\\uc0c9\\\\uc0c1\", \"SentimentText\": \"\\\\uc0c9\\\\uc0c1\\\\ub3c4 \\\\ubcc4\\\\ub85c\\\\ub124\\\\uc694.\", \"SentimentWord\": \"2\", \"SentimentPolarity\": \"-1\"}]}', metadata={'source': '/content/1-1.여성의류(1).json', 'seq_num': 24}),\n",
              " Document(page_content='{\"Index\": \"97\", \"RawText\": \"\\\\uad6c\\\\uae40\\\\uc774 \\\\uc2ec\\\\ud558\\\\uace0 \\\\uc0c1\\\\uc758\\\\ub294 66\\\\uc0ac\\\\uc774\\\\uc988 \\\\uc2dc\\\\ucf30\\\\ub294\\\\ub370 \\\\uae30\\\\uc874 \\\\uaddc\\\\uaca9\\\\ubcf4\\\\ub2e4 \\\\ub108\\\\ubb34 \\\\ucee4\\\\uc11c \\\\ubabb \\\\uc785\\\\uace0 \\\\uc788\\\\uc5b4\\\\uc694\\\\u3160\", \"Source\": \"\\\\uc1fc\\\\ud551\\\\ubab0\", \"Domain\": \"\\\\ud328\\\\uc158\", \"MainCategory\": \"\\\\uc5ec\\\\uc131\\\\uc758\\\\ub958\", \"ProductName\": \"OO \\\\ub808** \\\\uce74\\\\ub77c \\\\uc0c1\\\\ud558\\\\uc138\\\\ud2b8 3\\\\uc885 \\\\ud0dd1\", \"ReviewScore\": \"70\", \"Syllable\": \"46\", \"Word\": \"12\", \"RDate\": \"20210825\", \"GeneralPolarity\": \"-1\", \"Aspects\": [{\"Aspect\": \"\\\\uc18c\\\\uc7ac\", \"SentimentText\": \"\\\\uad6c\\\\uae40\\\\uc774 \\\\uc2ec\\\\ud558\\\\uace0\", \"SentimentWord\": \"2\", \"SentimentPolarity\": \"-1\"}, {\"Aspect\": \"\\\\uc0ac\\\\uc774\\\\uc988\", \"SentimentText\": \"\\\\ub108\\\\ubb34 \\\\ucee4\\\\uc11c \\\\ubabb \\\\uc785\\\\uace0 \\\\uc788\\\\uc5b4\\\\uc694\\\\u3160\", \"SentimentWord\": \"5\", \"SentimentPolarity\": \"-1\"}]}', metadata={'source': '/content/1-1.여성의류(1).json', 'seq_num': 25}),\n",
              " Document(page_content='{\"Index\": \"98\", \"RawText\": \"\\\\uac00\\\\ubccd\\\\uace0 \\\\ucd09\\\\uac10\\\\uc774 \\\\ubd80\\\\ub4dc\\\\ub7ec\\\\uc6cc \\\\uc798 \\\\uc785\\\\uace0\\\\uc788\\\\uc2b5\\\\ub2c8\\\\ub2e4\", \"Source\": \"\\\\uc1fc\\\\ud551\\\\ubab0\", \"Domain\": \"\\\\ud328\\\\uc158\", \"MainCategory\": \"\\\\uc5ec\\\\uc131\\\\uc758\\\\ub958\", \"ProductName\": \"OO \\\\ub808** \\\\uce74\\\\ub77c \\\\uc0c1\\\\ud558\\\\uc138\\\\ud2b8 3\\\\uc885 \\\\ud0dd1\", \"ReviewScore\": \"60\", \"Syllable\": \"21\", \"Word\": \"5\", \"RDate\": \"20210808\", \"GeneralPolarity\": \"1\", \"Aspects\": [{\"Aspect\": \"\\\\ubb34\\\\uac8c\", \"SentimentText\": \"\\\\uac00\\\\ubccd\\\\uace0\", \"SentimentWord\": \"1\", \"SentimentPolarity\": \"1\"}, {\"Aspect\": \"\\\\ucd09\\\\uac10\", \"SentimentText\": \"\\\\ucd09\\\\uac10\\\\uc774 \\\\ubd80\\\\ub4dc\\\\ub7ec\\\\uc6cc\", \"SentimentWord\": \"2\", \"SentimentPolarity\": \"1\"}]}', metadata={'source': '/content/1-1.여성의류(1).json', 'seq_num': 26}),\n",
              " Document(page_content='{\"Index\": \"100\", \"RawText\": \"\\\\ud3b8\\\\ud558\\\\uace0 \\\\uac04\\\\ud3b8\\\\ud558\\\\uac8c \\\\uc785\\\\uc744 \\\\uc218 \\\\uc788\\\\uc5b4\\\\uc11c  \\\\uc88b\\\\uc544\\\\uc694 \\\\ub124\\\\uc774\\\\ube44\\\\ub85c \\\\uad6c\\\\ub9e4\\\\ud588\\\\ub294\\\\ub370 \\\\uc154\\\\uce20\\\\uc640 \\\\ubc14\\\\uc9c0\\\\uac00 \\\\uc0c9\\\\uc774 \\\\uc870\\\\uae08  \\\\ub2ec\\\\ub77c\\\\uc11c \\\\ubcc4\\\\uc810 \\\\ud558\\\\ub098 \\\\ube90\\\\uc5b4\\\\uc694\", \"Source\": \"\\\\uc1fc\\\\ud551\\\\ubab0\", \"Domain\": \"\\\\ud328\\\\uc158\", \"MainCategory\": \"\\\\uc5ec\\\\uc131\\\\uc758\\\\ub958\", \"ProductName\": \"OO \\\\ub808** \\\\uce74\\\\ub77c \\\\uc0c1\\\\ud558\\\\uc138\\\\ud2b8 3\\\\uc885 \\\\ud0dd1\", \"ReviewScore\": \"80\", \"Syllable\": \"62\", \"Word\": \"16\", \"RDate\": \"20210811\", \"GeneralPolarity\": \"0\", \"Aspects\": [{\"Aspect\": \"\\\\ud65c\\\\uc6a9\\\\uc131\", \"SentimentText\": \"\\\\ud3b8\\\\ud558\\\\uace0 \\\\uac04\\\\ud3b8\\\\ud558\\\\uac8c \\\\uc785\\\\uc744 \\\\uc218 \\\\uc788\\\\uc5b4\\\\uc11c  \\\\uc88b\\\\uc544\\\\uc694\", \"SentimentWord\": \"6\", \"SentimentPolarity\": \"1\"}, {\"Aspect\": \"\\\\uc0c9\\\\uc0c1\", \"SentimentText\": \"\\\\uc154\\\\uce20\\\\uc640 \\\\ubc14\\\\uc9c0\\\\uac00 \\\\uc0c9\\\\uc774 \\\\uc870\\\\uae08  \\\\ub2ec\\\\ub77c\\\\uc11c \\\\ubcc4\\\\uc810 \\\\ud558\\\\ub098 \\\\ube90\\\\uc5b4\\\\uc694\", \"SentimentWord\": \"8\", \"SentimentPolarity\": \"0\"}]}', metadata={'source': '/content/1-1.여성의류(1).json', 'seq_num': 27}),\n",
              " Document(page_content='{\"Index\": \"102\", \"RawText\": \"\\\\uc0ac\\\\uc774\\\\uc988  \\\\ub531 \\\\ub9de\\\\uace0  \\\\ub514\\\\uc790\\\\uc778\\\\ub3c4 \\\\uc774\\\\uc058\\\\uace0 ~! \\\\ucd5c\\\\uace0!!~~ \\\\uac15\\\\ucd94\\\\ud569\\\\ub2c8\\\\ub2e4\", \"Source\": \"\\\\uc1fc\\\\ud551\\\\ubab0\", \"Domain\": \"\\\\ud328\\\\uc158\", \"MainCategory\": \"\\\\uc5ec\\\\uc131\\\\uc758\\\\ub958\", \"ProductName\": \"OO \\\\ub808** \\\\uce74\\\\ub77c \\\\uc0c1\\\\ud558\\\\uc138\\\\ud2b8 3\\\\uc885 \\\\ud0dd1\", \"ReviewScore\": \"100\", \"Syllable\": \"35\", \"Word\": \"8\", \"RDate\": \"20210808\", \"GeneralPolarity\": \"1\", \"Aspects\": [{\"Aspect\": \"\\\\uc0ac\\\\uc774\\\\uc988\", \"SentimentText\": \"\\\\uc0ac\\\\uc774\\\\uc988  \\\\ub531 \\\\ub9de\\\\uace0 \", \"SentimentWord\": \"3\", \"SentimentPolarity\": \"1\"}, {\"Aspect\": \"\\\\ub514\\\\uc790\\\\uc778\", \"SentimentText\": \"\\\\ub514\\\\uc790\\\\uc778\\\\ub3c4 \\\\uc774\\\\uc058\\\\uace0 ~!\", \"SentimentWord\": \"3\", \"SentimentPolarity\": \"1\"}]}', metadata={'source': '/content/1-1.여성의류(1).json', 'seq_num': 28}),\n",
              " Document(page_content='{\"Index\": \"108\", \"RawText\": \"\\\\uc7ac\\\\uc9c8\\\\uc740 \\\\uae4c\\\\uce60\\\\ud558\\\\uace0 \\\\ubc14\\\\uc9c0\\\\ub294 \\\\ud54f\\\\uc774 \\\\ubcc4\\\\ub85c \\\\uc784\", \"Source\": \"\\\\uc1fc\\\\ud551\\\\ubab0\", \"Domain\": \"\\\\ud328\\\\uc158\", \"MainCategory\": \"\\\\uc5ec\\\\uc131\\\\uc758\\\\ub958\", \"ProductName\": \"OO \\\\ub808** \\\\uce74\\\\ub77c \\\\uc0c1\\\\ud558\\\\uc138\\\\ud2b8 3\\\\uc885 \\\\ud0dd1\", \"ReviewScore\": \"60\", \"Syllable\": \"20\", \"Word\": \"6\", \"RDate\": \"20210803\", \"GeneralPolarity\": \"-1\", \"Aspects\": [{\"Aspect\": \"\\\\uc18c\\\\uc7ac\", \"SentimentText\": \"\\\\uc7ac\\\\uc9c8\\\\uc740 \\\\uae4c\\\\uce60\\\\ud558\\\\uace0\", \"SentimentWord\": \"2\", \"SentimentPolarity\": \"-1\"}, {\"Aspect\": \"\\\\ud54f\", \"SentimentText\": \"\\\\ubc14\\\\uc9c0\\\\ub294 \\\\ud54f\\\\uc774 \\\\ubcc4\\\\ub85c \\\\uc784\", \"SentimentWord\": \"4\", \"SentimentPolarity\": \"-1\"}]}', metadata={'source': '/content/1-1.여성의류(1).json', 'seq_num': 29}),\n",
              " Document(page_content='{\"Index\": \"112\", \"RawText\": \"\\\\ubc14\\\\uc9c0 \\\\uc57d\\\\uac04 \\\\ube44\\\\uce68\\\\uc788\\\\uc5b4\\\\uc694.. \\\\uad6c\\\\uae40\\\\uac00\\\\ub294 \\\\ub808\\\\uc774\\\\uc628\\\\uc774\\\\uace0..\\\\uadf8\\\\ub807\\\\uac8c \\\\uac01\\\\uc7a1\\\\ud78c\\\\uc637\\\\uc774 \\\\uc544\\\\ub2c8\\\\ub77c\\\\uc11c \\\\ub2e4\\\\ub9bc\\\\uc9c8\\\\ud574\\\\uc57c\\\\ud558\\\\uace0 \\\\ucd95\\\\ucd95 \\\\uccd0\\\\uc9c0\\\\ub294 \\\\ub290\\\\ub08c..\\\\ubb50 \\\\uac00\\\\uaca9\\\\ub300\\\\ube44 \\\\uc785\\\\uc744\\\\ub9cc\\\\uc740 \\\\ud574\\\\uc694\", \"Source\": \"\\\\uc1fc\\\\ud551\\\\ubab0\", \"Domain\": \"\\\\ud328\\\\uc158\", \"MainCategory\": \"\\\\uc5ec\\\\uc131\\\\uc758\\\\ub958\", \"ProductName\": \"OO \\\\ub808** \\\\uce74\\\\ub77c \\\\uc0c1\\\\ud558\\\\uc138\\\\ud2b8 3\\\\uc885 \\\\ud0dd1\", \"ReviewScore\": \"60\", \"Syllable\": \"74\", \"Word\": \"14\", \"RDate\": \"20210608\", \"GeneralPolarity\": \"-1\", \"Aspects\": [{\"Aspect\": \"\\\\uc18c\\\\uc7ac\", \"SentimentText\": \"\\\\uc57d\\\\uac04 \\\\ube44\\\\uce68\\\\uc788\\\\uc5b4\\\\uc694\", \"SentimentWord\": \"2\", \"SentimentPolarity\": \"-1\"}, {\"Aspect\": \"\\\\uc18c\\\\uc7ac\", \"SentimentText\": \"\\\\uad6c\\\\uae40\\\\uac00\\\\ub294 \\\\ub808\\\\uc774\\\\uc628\\\\uc774\\\\uace0\", \"SentimentWord\": \"2\", \"SentimentPolarity\": \"-1\"}, {\"Aspect\": \"\\\\ucd09\\\\uac10\", \"SentimentText\": \"\\\\ucd95\\\\ucd95 \\\\uccd0\\\\uc9c0\\\\ub294 \\\\ub290\\\\ub08c\", \"SentimentWord\": \"3\", \"SentimentPolarity\": \"-1\"}, {\"Aspect\": \"\\\\uac00\\\\uaca9\", \"SentimentText\": \"\\\\uac00\\\\uaca9\\\\ub300\\\\ube44 \\\\uc785\\\\uc744\\\\ub9cc\\\\uc740 \\\\ud574\\\\uc694\", \"SentimentWord\": \"3\", \"SentimentPolarity\": \"0\"}]}', metadata={'source': '/content/1-1.여성의류(1).json', 'seq_num': 30}),\n",
              " Document(page_content='{\"Index\": \"113\", \"RawText\": \"\\\\uc18c\\\\uc7ac,\\\\ub514\\\\uc790\\\\uc778\\\\ub3c4 \\\\uc88b\\\\uc544\\\\uc694 \\\\uc0ac\\\\uc774\\\\uc988\\\\uac00 \\\\uc880 \\\\ud070\\\\ub4ef\\\\ud574\\\\uc11c \\\\ud551\\\\ud06c\\\\ub85c \\\\uc791\\\\uc740\\\\uc0ac\\\\uc774\\\\uc988\\\\ub97c \\\\uad6c\\\\ub9e4\\\\ud560\\\\uae4c\\\\ud588\\\\ub294\\\\ub370 \\\\ud488\\\\uc808\\\\uc778\\\\ub4ef\\\\ud574\\\\uc11c \\\\uadf8\\\\ub808\\\\uc774\\\\ub85c \\\\uc7ac\\\\uad6c\\\\ub9e4 \\\\ud588\\\\uc5b4\\\\uc694  \\\\uc88b\\\\uc740 \\\\uc0c1\\\\ud488 \\\\uc800\\\\ub834\\\\ud558\\\\uac8c \\\\uad6c\\\\ub9e4\\\\ud574\\\\uc11c \\\\uc88b\\\\uc544\\\\uc694\", \"Source\": \"\\\\uc1fc\\\\ud551\\\\ubab0\", \"Domain\": \"\\\\ud328\\\\uc158\", \"MainCategory\": \"\\\\uc5ec\\\\uc131\\\\uc758\\\\ub958\", \"ProductName\": \"OO \\\\ub808** \\\\uce74\\\\ub77c \\\\uc0c1\\\\ud558\\\\uc138\\\\ud2b8 3\\\\uc885 \\\\ud0dd1\", \"ReviewScore\": \"100\", \"Syllable\": \"83\", \"Word\": \"17\", \"RDate\": \"20210609\", \"GeneralPolarity\": \"1\", \"Aspects\": [{\"Aspect\": \"\\\\uc18c\\\\uc7ac\", \"SentimentText\": \"\\\\uc18c\\\\uc7ac,\\\\ub514\\\\uc790\\\\uc778\\\\ub3c4 \\\\uc88b\\\\uc544\\\\uc694\", \"SentimentWord\": \"2\", \"SentimentPolarity\": \"1\"}, {\"Aspect\": \"\\\\ub514\\\\uc790\\\\uc778\", \"SentimentText\": \"\\\\ub514\\\\uc790\\\\uc778\\\\ub3c4 \\\\uc88b\\\\uc544\\\\uc694\", \"SentimentWord\": \"2\", \"SentimentPolarity\": \"1\"}, {\"Aspect\": \"\\\\uc0ac\\\\uc774\\\\uc988\", \"SentimentText\": \"\\\\uc0ac\\\\uc774\\\\uc988\\\\uac00 \\\\uc880 \\\\ud070\\\\ub4ef\\\\ud574\\\\uc11c\", \"SentimentWord\": \"3\", \"SentimentPolarity\": \"0\"}, {\"Aspect\": \"\\\\uac00\\\\uaca9\", \"SentimentText\": \"\\\\uc800\\\\ub834\\\\ud558\\\\uac8c \\\\uad6c\\\\ub9e4\\\\ud574\\\\uc11c \\\\uc88b\\\\uc544\\\\uc694\", \"SentimentWord\": \"3\", \"SentimentPolarity\": \"1\"}]}', metadata={'source': '/content/1-1.여성의류(1).json', 'seq_num': 31}),\n",
              " Document(page_content='{\"Index\": \"117\", \"RawText\": \"\\\\ub124\\\\uc774\\\\ube44 \\\\uc785\\\\uc5b4\\\\ubcf4\\\\uace0 \\\\ucc29\\\\ud55c\\\\uac00\\\\uaca9\\\\uc5d0 \\\\uc88b\\\\uc740\\\\ud488\\\\uc9c8\\\\uc5d0 \\\\uc7ac\\\\uad6c\\\\ub9e4 \\\\ud569\\\\ub2c8\\\\ub2e4\", \"Source\": \"\\\\uc1fc\\\\ud551\\\\ubab0\", \"Domain\": \"\\\\ud328\\\\uc158\", \"MainCategory\": \"\\\\uc5ec\\\\uc131\\\\uc758\\\\ub958\", \"ProductName\": \"OO \\\\ub808** \\\\uce74\\\\ub77c \\\\uc0c1\\\\ud558\\\\uc138\\\\ud2b8 3\\\\uc885 \\\\ud0dd1\", \"ReviewScore\": \"100\", \"Syllable\": \"28\", \"Word\": \"6\", \"RDate\": \"20210620\", \"GeneralPolarity\": \"1\", \"Aspects\": [{\"Aspect\": \"\\\\uac00\\\\uaca9\", \"SentimentText\": \"\\\\ucc29\\\\ud55c\\\\uac00\\\\uaca9\\\\uc5d0 \\\\uc88b\\\\uc740\\\\ud488\\\\uc9c8\\\\uc5d0 \\\\uc7ac\\\\uad6c\\\\ub9e4 \\\\ud569\\\\ub2c8\\\\ub2e4\", \"SentimentWord\": \"4\", \"SentimentPolarity\": \"1\"}, {\"Aspect\": \"\\\\ud488\\\\uc9c8\", \"SentimentText\": \"\\\\uc88b\\\\uc740\\\\ud488\\\\uc9c8\\\\uc5d0 \\\\uc7ac\\\\uad6c\\\\ub9e4 \\\\ud569\\\\ub2c8\\\\ub2e4\", \"SentimentWord\": \"3\", \"SentimentPolarity\": \"1\"}]}', metadata={'source': '/content/1-1.여성의류(1).json', 'seq_num': 32}),\n",
              " Document(page_content='{\"Index\": \"124\", \"RawText\": \"\\\\uc18c\\\\uc7ac\\\\uac00 \\\\uc778\\\\uacac 100% \\\\ub77c \\\\ucd09\\\\uac10\\\\uc774 \\\\ubd80\\\\ub4dc\\\\ub7fd\\\\uace0 \\\\uc2dc\\\\uc6d0\\\\ud569\\\\ub2c8\\\\ub2e4  \\\\ub514\\\\uc790\\\\uc778\\\\ub3c4 \\\\uc608\\\\uc058\\\\uace0 \\\\ub2e4 \\\\ub2ec\\\\ub77c \\\\uc88b\\\\uc2b5\\\\ub2c8\\\\ub2e4  \\\\ub2e4\\\\ub9cc \\\\ub808\\\\ub4dc\\\\uc640 \\\\ube14\\\\ub8e8\\\\ub294 \\\\ubaa9\\\\uc120\\\\uc774 \\\\uc881\\\\uc544 \\\\uc785\\\\uc744\\\\ub54c \\\\uc870\\\\uae08 \\\\ubd88\\\\ud3b8\\\\ud569\\\\ub2c8\\\\ub2e4  \\\\ub4a4\\\\uc9d1\\\\uc5b4 \\\\ubcf4\\\\ub2c8 \\\\uc8fc\\\\uba38\\\\ub2c8 \\\\ud55c\\\\ucabd\\\\uba74\\\\uc774 \\\\uc624\\\\ubc84\\\\ub8e9 \\\\ucc98\\\\ub9ac\\\\uac00 \\\\uc548\\\\ub418\\\\uc5b4 \\\\uc644\\\\uc131\\\\ub3c4\\\\uac00 \\\\uc644\\\\ubcbd\\\\ud558\\\\uc9c0\\\\ub294 \\\\uc54a\\\\uc740\\\\ub4ef \\\\ud558\\\\ub124\\\\uc694 \\\\ubaa8\\\\ub450 \\\\uc8fc\\\\uba38\\\\ub2c8\\\\uac00 \\\\uc788\\\\uc5b4 \\\\ud65c\\\\uc6a9\\\\ub3c4\\\\uac00 \\\\uc88b\\\\uc2b5\\\\ub2c8\\\\ub2e4  \\\\ud0c0\\\\uc0ac\\\\ubcf4\\\\ub2e4 \\\\uac00\\\\uaca9\\\\uc774 \\\\ube44\\\\uc2f8\\\\uc9c0\\\\ub9cc \\\\ucfe0\\\\ud3f0 \\\\uc801\\\\ub9bd\\\\uae08 \\\\uc0ac\\\\uc6a9\\\\ud558\\\\uc5ec \\\\uc800\\\\ub834\\\\ud558\\\\uac8c \\\\uad6c\\\\uc785\\\\ud588\\\\uc2b5\\\\ub2c8\\\\ub2e4  \\\\uc798 \\\\uc785\\\\uaca0\\\\uc2b5\\\\ub2c8\\\\ub2e4 ~^^\", \"Source\": \"\\\\uc1fc\\\\ud551\\\\ubab0\", \"Domain\": \"\\\\ud328\\\\uc158\", \"MainCategory\": \"\\\\uc5ec\\\\uc131\\\\uc758\\\\ub958\", \"ProductName\": \"OO \\\\uc5ec\\\\uc131 \\\\uc778\\\\uacac \\\\uc6d0\\\\ud53c\\\\uc2a4 3\\\\uc885\\\\uc138\\\\ud2b8\", \"ReviewScore\": \"100\", \"Syllable\": \"201\", \"Word\": \"47\", \"RDate\": \"20210714\", \"GeneralPolarity\": \"0\", \"Aspects\": [{\"Aspect\": \"\\\\ucd09\\\\uac10\", \"SentimentText\": \"\\\\ucd09\\\\uac10\\\\uc774 \\\\ubd80\\\\ub4dc\\\\ub7fd\\\\uace0\", \"SentimentWord\": \"2\", \"SentimentPolarity\": \"1\"}, {\"Aspect\": \"\\\\uae30\\\\ub2a5\", \"SentimentText\": \"\\\\uc2dc\\\\uc6d0\\\\ud569\\\\ub2c8\\\\ub2e4 \", \"SentimentWord\": \"1\", \"SentimentPolarity\": \"1\"}, {\"Aspect\": \"\\\\ub514\\\\uc790\\\\uc778\", \"SentimentText\": \"\\\\ub514\\\\uc790\\\\uc778\\\\ub3c4 \\\\uc608\\\\uc058\\\\uace0\", \"SentimentWord\": \"2\", \"SentimentPolarity\": \"1\"}, {\"Aspect\": \"\\\\uc2e0\\\\ucd95\\\\uc131\", \"SentimentText\": \"\\\\ub808\\\\ub4dc\\\\uc640 \\\\ube14\\\\ub8e8\\\\ub294 \\\\ubaa9\\\\uc120\\\\uc774 \\\\uc881\\\\uc544 \\\\uc785\\\\uc744\\\\ub54c \\\\uc870\\\\uae08 \\\\ubd88\\\\ud3b8\\\\ud569\\\\ub2c8\\\\ub2e4\", \"SentimentWord\": \"7\", \"SentimentPolarity\": \"-1\"}, {\"Aspect\": \"\\\\ub9c8\\\\uac10\", \"SentimentText\": \"\\\\uc8fc\\\\uba38\\\\ub2c8 \\\\ud55c\\\\ucabd\\\\uba74\\\\uc774 \\\\uc624\\\\ubc84\\\\ub8e9 \\\\ucc98\\\\ub9ac\\\\uac00 \\\\uc548\\\\ub418\\\\uc5b4 \\\\uc644\\\\uc131\\\\ub3c4\\\\uac00 \\\\uc644\\\\ubcbd\\\\ud558\\\\uc9c0\\\\ub294 \\\\uc54a\\\\uc740\\\\ub4ef \\\\ud558\\\\ub124\\\\uc694\", \"SentimentWord\": \"9\", \"SentimentPolarity\": \"-1\"}, {\"Aspect\": \"\\\\ud65c\\\\uc6a9\\\\uc131\", \"SentimentText\": \"\\\\ubaa8\\\\ub450 \\\\uc8fc\\\\uba38\\\\ub2c8\\\\uac00 \\\\uc788\\\\uc5b4 \\\\ud65c\\\\uc6a9\\\\ub3c4\\\\uac00 \\\\uc88b\\\\uc2b5\\\\ub2c8\\\\ub2e4 \", \"SentimentWord\": \"5\", \"SentimentPolarity\": \"1\"}, {\"Aspect\": \"\\\\uac00\\\\uaca9\", \"SentimentText\": \"\\\\uac00\\\\uaca9\\\\uc774 \\\\ube44\\\\uc2f8\\\\uc9c0\\\\ub9cc\", \"SentimentWord\": \"2\", \"SentimentPolarity\": \"-1\"}, {\"Aspect\": \"\\\\uac00\\\\uaca9\", \"SentimentText\": \"\\\\ucfe0\\\\ud3f0 \\\\uc801\\\\ub9bd\\\\uae08 \\\\uc0ac\\\\uc6a9\\\\ud558\\\\uc5ec \\\\uc800\\\\ub834\\\\ud558\\\\uac8c \\\\uad6c\\\\uc785\\\\ud588\\\\uc2b5\\\\ub2c8\\\\ub2e4 \", \"SentimentWord\": \"5\", \"SentimentPolarity\": \"1\"}, {\"Aspect\": \"\\\\ub514\\\\uc790\\\\uc778\", \"SentimentText\": \"\\\\ub2e4 \\\\ub2ec\\\\ub77c \\\\uc88b\\\\uc2b5\\\\ub2c8\\\\ub2e4 \", \"SentimentWord\": \"3\", \"SentimentPolarity\": \"1\"}]}', metadata={'source': '/content/1-1.여성의류(1).json', 'seq_num': 33}),\n",
              " Document(page_content='{\"Index\": \"127\", \"RawText\": \"\\\\uac00\\\\uc131\\\\ube44 \\\\ucd5c\\\\uace0~^^ \\\\uc2dc\\\\uc6d0\\\\ud558\\\\uace0 \\\\ub514\\\\uc790\\\\uc778\\\\ub3c4 \\\\uc88b\\\\uc544\\\\uc694\", \"Source\": \"\\\\uc1fc\\\\ud551\\\\ubab0\", \"Domain\": \"\\\\ud328\\\\uc158\", \"MainCategory\": \"\\\\uc5ec\\\\uc131\\\\uc758\\\\ub958\", \"ProductName\": \"OO \\\\uc5ec\\\\uc131 \\\\uc778\\\\uacac \\\\uc6d0\\\\ud53c\\\\uc2a4 3\\\\uc885\\\\uc138\\\\ud2b8\", \"ReviewScore\": \"100\", \"Syllable\": \"23\", \"Word\": \"5\", \"RDate\": \"20210901\", \"GeneralPolarity\": \"1\", \"Aspects\": [{\"Aspect\": \"\\\\uac00\\\\uaca9\", \"SentimentText\": \"\\\\uac00\\\\uc131\\\\ube44 \\\\ucd5c\\\\uace0~^^\", \"SentimentWord\": \"2\", \"SentimentPolarity\": \"1\"}, {\"Aspect\": \"\\\\uae30\\\\ub2a5\", \"SentimentText\": \"\\\\uc2dc\\\\uc6d0\\\\ud558\\\\uace0 \\\\ub514\\\\uc790\\\\uc778\\\\ub3c4 \\\\uc88b\\\\uc544\\\\uc694\", \"SentimentWord\": \"3\", \"SentimentPolarity\": \"1\"}, {\"Aspect\": \"\\\\ub514\\\\uc790\\\\uc778\", \"SentimentText\": \"\\\\ub514\\\\uc790\\\\uc778\\\\ub3c4 \\\\uc88b\\\\uc544\\\\uc694\", \"SentimentWord\": \"2\", \"SentimentPolarity\": \"1\"}]}', metadata={'source': '/content/1-1.여성의류(1).json', 'seq_num': 34}),\n",
              " Document(page_content='{\"Index\": \"128\", \"RawText\": \"\\\\uc2dc\\\\uc6d0\\\\ud558\\\\uace0 \\\\ub514\\\\uc790\\\\uc778\\\\uc774 \\\\ub118 \\\\uc608\\\\ubed0\\\\uc694 \\\\uc790\\\\uafb8\\\\uc785\\\\uac8c\\\\ub418\\\\uc694\", \"Source\": \"\\\\uc1fc\\\\ud551\\\\ubab0\", \"Domain\": \"\\\\ud328\\\\uc158\", \"MainCategory\": \"\\\\uc5ec\\\\uc131\\\\uc758\\\\ub958\", \"ProductName\": \"OO \\\\uc5ec\\\\uc131 \\\\uc778\\\\uacac \\\\uc6d0\\\\ud53c\\\\uc2a4 3\\\\uc885\\\\uc138\\\\ud2b8\", \"ReviewScore\": \"100\", \"Syllable\": \"22\", \"Word\": \"5\", \"RDate\": \"20210907\", \"GeneralPolarity\": \"1\", \"Aspects\": [{\"Aspect\": \"\\\\uae30\\\\ub2a5\", \"SentimentText\": \"\\\\uc2dc\\\\uc6d0\\\\ud558\\\\uace0\", \"SentimentWord\": \"1\", \"SentimentPolarity\": \"1\"}, {\"Aspect\": \"\\\\ub514\\\\uc790\\\\uc778\", \"SentimentText\": \"\\\\ub514\\\\uc790\\\\uc778\\\\uc774 \\\\ub118 \\\\uc608\\\\ubed0\\\\uc694\", \"SentimentWord\": \"3\", \"SentimentPolarity\": \"1\"}, {\"Aspect\": \"\\\\ud65c\\\\uc6a9\\\\uc131\", \"SentimentText\": \"\\\\uc790\\\\uafb8\\\\uc785\\\\uac8c\\\\ub418\\\\uc694\", \"SentimentWord\": \"1\", \"SentimentPolarity\": \"1\"}]}', metadata={'source': '/content/1-1.여성의류(1).json', 'seq_num': 35}),\n",
              " Document(page_content='{\"Index\": \"129\", \"RawText\": \"\\\\uc2dc\\\\uc6d0\\\\ud558\\\\uace0 \\\\uae38\\\\uc774\\\\ub3c4 \\\\uc801\\\\ub2f9\\\\ud574\\\\uc694.\", \"Source\": \"\\\\uc1fc\\\\ud551\\\\ubab0\", \"Domain\": \"\\\\ud328\\\\uc158\", \"MainCategory\": \"\\\\uc5ec\\\\uc131\\\\uc758\\\\ub958\", \"ProductName\": \"OO \\\\uc5ec\\\\uc131 \\\\uc778\\\\uacac \\\\uc6d0\\\\ud53c\\\\uc2a4 3\\\\uc885\\\\uc138\\\\ud2b8\", \"ReviewScore\": \"100\", \"Syllable\": \"14\", \"Word\": \"3\", \"RDate\": \"20210910\", \"GeneralPolarity\": \"1\", \"Aspects\": [{\"Aspect\": \"\\\\uae30\\\\ub2a5\", \"SentimentText\": \"\\\\uc2dc\\\\uc6d0\\\\ud558\\\\uace0\", \"SentimentWord\": \"1\", \"SentimentPolarity\": \"1\"}, {\"Aspect\": \"\\\\uae38\\\\uc774\", \"SentimentText\": \"\\\\uae38\\\\uc774\\\\ub3c4 \\\\uc801\\\\ub2f9\\\\ud574\\\\uc694.\", \"SentimentWord\": \"2\", \"SentimentPolarity\": \"1\"}]}', metadata={'source': '/content/1-1.여성의류(1).json', 'seq_num': 36}),\n",
              " Document(page_content='{\"Index\": \"131\", \"RawText\": \"\\\\uc0dd\\\\uac01\\\\ubcf4\\\\ub2e4 \\\\uc6d0\\\\ub2e8\\\\uc774 \\\\uc88b\\\\ub124\\\\uc694 \\\\ubd80\\\\ub4dc\\\\ub7fd\\\\uace0 \\\\uc0c9\\\\uac10\\\\ub3c4\\\\uc88b\\\\uc544\\\\uc694 \\\\ud3b8\\\\ud558\\\\ub124\\\\uc694\", \"Source\": \"\\\\uc1fc\\\\ud551\\\\ubab0\", \"Domain\": \"\\\\ud328\\\\uc158\", \"MainCategory\": \"\\\\uc5ec\\\\uc131\\\\uc758\\\\ub958\", \"ProductName\": \"OO \\\\uc5ec\\\\uc131 \\\\uc778\\\\uacac \\\\uc6d0\\\\ud53c\\\\uc2a4 3\\\\uc885\\\\uc138\\\\ud2b8\", \"ReviewScore\": \"100\", \"Syllable\": \"29\", \"Word\": \"6\", \"RDate\": \"20210818\", \"GeneralPolarity\": \"1\", \"Aspects\": [{\"Aspect\": \"\\\\uc18c\\\\uc7ac\", \"SentimentText\": \"\\\\uc0dd\\\\uac01\\\\ubcf4\\\\ub2e4 \\\\uc6d0\\\\ub2e8\\\\uc774 \\\\uc88b\\\\ub124\\\\uc694\", \"SentimentWord\": \"3\", \"SentimentPolarity\": \"1\"}, {\"Aspect\": \"\\\\ucd09\\\\uac10\", \"SentimentText\": \"\\\\ubd80\\\\ub4dc\\\\ub7fd\\\\uace0\", \"SentimentWord\": \"1\", \"SentimentPolarity\": \"1\"}, {\"Aspect\": \"\\\\uc0c9\\\\uc0c1\", \"SentimentText\": \"\\\\uc0c9\\\\uac10\\\\ub3c4\\\\uc88b\\\\uc544\\\\uc694\", \"SentimentWord\": \"1\", \"SentimentPolarity\": \"1\"}, {\"Aspect\": \"\\\\ucc29\\\\uc6a9\\\\uac10\", \"SentimentText\": \"\\\\ud3b8\\\\ud558\\\\ub124\\\\uc694\", \"SentimentWord\": \"1\", \"SentimentPolarity\": \"1\"}]}', metadata={'source': '/content/1-1.여성의류(1).json', 'seq_num': 37}),\n",
              " Document(page_content='{\"Index\": \"132\", \"RawText\": \"\\\\ub514\\\\uc790\\\\uc778\\\\ub3c4 \\\\uc0c9\\\\uc0c1\\\\ub3c4 \\\\ubaa8\\\\ub450\\\\ub9c8\\\\uc74c\\\\uc5d0\\\\ub4ed\\\\ub2c8\\\\ub2e4~  \\\\uc2dc\\\\uc6d0\\\\ud560\\\\uac70\\\\uac19\\\\uc544\\\\uc694\", \"Source\": \"\\\\uc1fc\\\\ud551\\\\ubab0\", \"Domain\": \"\\\\ud328\\\\uc158\", \"MainCategory\": \"\\\\uc5ec\\\\uc131\\\\uc758\\\\ub958\", \"ProductName\": \"OO \\\\uc5ec\\\\uc131 \\\\uc778\\\\uacac \\\\uc6d0\\\\ud53c\\\\uc2a4 3\\\\uc885\\\\uc138\\\\ud2b8\", \"ReviewScore\": \"100\", \"Syllable\": \"27\", \"Word\": \"4\", \"RDate\": \"20210822\", \"GeneralPolarity\": \"1\", \"Aspects\": [{\"Aspect\": \"\\\\ub514\\\\uc790\\\\uc778\", \"SentimentText\": \"\\\\ub514\\\\uc790\\\\uc778\\\\ub3c4 \\\\uc0c9\\\\uc0c1\\\\ub3c4 \\\\ubaa8\\\\ub450\\\\ub9c8\\\\uc74c\\\\uc5d0\\\\ub4ed\\\\ub2c8\\\\ub2e4~\", \"SentimentWord\": \"3\", \"SentimentPolarity\": \"1\"}, {\"Aspect\": \"\\\\uc0c9\\\\uc0c1\", \"SentimentText\": \"\\\\uc0c9\\\\uc0c1\\\\ub3c4 \\\\ubaa8\\\\ub450\\\\ub9c8\\\\uc74c\\\\uc5d0\\\\ub4ed\\\\ub2c8\\\\ub2e4~\", \"SentimentWord\": \"2\", \"SentimentPolarity\": \"1\"}, {\"Aspect\": \"\\\\uc18c\\\\uc7ac\", \"SentimentText\": \"\\\\uc2dc\\\\uc6d0\\\\ud560\\\\uac70\\\\uac19\\\\uc544\\\\uc694\", \"SentimentWord\": \"1\", \"SentimentPolarity\": \"1\"}]}', metadata={'source': '/content/1-1.여성의류(1).json', 'seq_num': 38}),\n",
              " Document(page_content='{\"Index\": \"134\", \"RawText\": \"\\\\uc774\\\\ub807\\\\uac8c \\\\ub514\\\\uc790\\\\uc778 \\\\uc88b\\\\uc740 \\\\uc637\\\\uc774 \\\\uc774\\\\ub807\\\\uac8c \\\\uc2f8\\\\ub2e4\\\\ub2c8 \\\\uc624\\\\uc790\\\\ub9c8\\\\uc790 \\\\uc785\\\\uc5c8\\\\ub294\\\\ub370. \\\\uc815\\\\ub9d0 \\\\uae30\\\\uac00\\\\ub9c9\\\\ud788\\\\ub124\\\\uc694. \\\\ub0b4\\\\uac00 \\\\uc785\\\\uace0\\\\ucc0d\\\\uc5b4\\\\uc11c   \\\\uc774\\\\ubaa8\\\\uc591\\\\uc774\\\\uc9c0\\\\ub9cc \\\\uc9c4\\\\uc9dc \\\\uc88b\\\\uc544\\\\uc694. \\\\uac15\\\\ucd94\", \"Source\": \"\\\\uc1fc\\\\ud551\\\\ubab0\", \"Domain\": \"\\\\ud328\\\\uc158\", \"MainCategory\": \"\\\\uc5ec\\\\uc131\\\\uc758\\\\ub958\", \"ProductName\": \"OO \\\\uc5ec\\\\uc131 \\\\uc778\\\\uacac \\\\uc6d0\\\\ud53c\\\\uc2a4 3\\\\uc885\\\\uc138\\\\ud2b8\", \"ReviewScore\": \"100\", \"Syllable\": \"72\", \"Word\": \"16\", \"RDate\": \"20210817\", \"GeneralPolarity\": \"1\", \"Aspects\": [{\"Aspect\": \"\\\\ub514\\\\uc790\\\\uc778\", \"SentimentText\": \"\\\\uc774\\\\ub807\\\\uac8c \\\\ub514\\\\uc790\\\\uc778 \\\\uc88b\\\\uc740 \\\\uc637\\\\uc774\", \"SentimentWord\": \"4\", \"SentimentPolarity\": \"1\"}, {\"Aspect\": \"\\\\uac00\\\\uaca9\", \"SentimentText\": \"\\\\uc774\\\\ub807\\\\uac8c \\\\uc2f8\\\\ub2e4\\\\ub2c8\", \"SentimentWord\": \"2\", \"SentimentPolarity\": \"1\"}]}', metadata={'source': '/content/1-1.여성의류(1).json', 'seq_num': 39}),\n",
              " Document(page_content='{\"Index\": \"136\", \"RawText\": \"\\\\ubc15\\\\uc2dc\\\\ud558\\\\uac8c \\\\ud574\\\\ubcfc\\\\ub824\\\\uace0 \\\\uc77c\\\\ubd80\\\\ub85c \\\\ud55c\\\\uc0ac\\\\uc96c \\\\ud06c\\\\uac8c \\\\uc8fc\\\\ubb38\\\\ud588\\\\uc5b4\\\\uc694.  40\\\\ub300\\\\uc774\\\\uace0 \\\\ud0a4\\\\uc791\\\\uace0 \\\\ub545\\\\ub545\\\\ud55c \\\\uccb4\\\\ud615\\\\uc785\\\\ub2c8\\\\ub2e4.  \\\\uae4c\\\\ub9cc\\\\uc0c9\\\\uc74f \\\\uc678\\\\ucd9c\\\\ubcf5\\\\uc73c\\\\ub85c\\\\ub3c4 \\\\uad1c\\\\ucc2e\\\\uace0 \\\\ud30c\\\\ub780\\\\uc0c9 \\\\ube68\\\\uac04\\\\uc0c9\\\\uc740 \\\\ub77c\\\\uc6b4\\\\uc9c0\\\\uc6e8\\\\uc5b4\\\\ub85c \\\\uc785\\\\uc5b4\\\\uc57c\\\\ud560\\\\ub4ef \\\\ucc9c\\\\uc740 \\\\uc88b\\\\uc740\\\\ud3b8\\\\uc774\\\\uc5d0\\\\uc694.  \\\\uc8fc\\\\uba38\\\\ub2c8\\\\ub3c4 \\\\uc788\\\\uace0\\\\uc694.  \\\\uac00\\\\uc131\\\\ube44\\\\ub85c \\\\uce58\\\\uba74 \\\\ub9cc\\\\uc871\\\\ud569\\\\ub2c8\\\\ub2e4.\", \"Source\": \"\\\\uc1fc\\\\ud551\\\\ubab0\", \"Domain\": \"\\\\ud328\\\\uc158\", \"MainCategory\": \"\\\\uc5ec\\\\uc131\\\\uc758\\\\ub958\", \"ProductName\": \"OO \\\\uc5ec\\\\uc131 \\\\uc778\\\\uacac \\\\uc6d0\\\\ud53c\\\\uc2a4 3\\\\uc885\\\\uc138\\\\ud2b8\", \"ReviewScore\": \"80\", \"Syllable\": \"126\", \"Word\": \"24\", \"RDate\": \"20210814\", \"GeneralPolarity\": \"1\", \"Aspects\": [{\"Aspect\": \"\\\\ud65c\\\\uc6a9\\\\uc131\", \"SentimentText\": \"\\\\uae4c\\\\ub9cc\\\\uc0c9\\\\uc74f \\\\uc678\\\\ucd9c\\\\ubcf5\\\\uc73c\\\\ub85c\\\\ub3c4 \\\\uad1c\\\\ucc2e\\\\uace0\", \"SentimentWord\": \"3\", \"SentimentPolarity\": \"1\"}, {\"Aspect\": \"\\\\ud65c\\\\uc6a9\\\\uc131\", \"SentimentText\": \"\\\\ud30c\\\\ub780\\\\uc0c9 \\\\ube68\\\\uac04\\\\uc0c9\\\\uc740 \\\\ub77c\\\\uc6b4\\\\uc9c0\\\\uc6e8\\\\uc5b4\\\\ub85c \\\\uc785\\\\uc5b4\\\\uc57c\\\\ud560\\\\ub4ef\", \"SentimentWord\": \"4\", \"SentimentPolarity\": \"0\"}, {\"Aspect\": \"\\\\uc18c\\\\uc7ac\", \"SentimentText\": \"\\\\ucc9c\\\\uc740 \\\\uc88b\\\\uc740\\\\ud3b8\\\\uc774\\\\uc5d0\\\\uc694.  \", \"SentimentWord\": \"2\", \"SentimentPolarity\": \"1\"}, {\"Aspect\": \"\\\\uac00\\\\uaca9\", \"SentimentText\": \"\\\\uac00\\\\uc131\\\\ube44\\\\ub85c \\\\uce58\\\\uba74 \\\\ub9cc\\\\uc871\\\\ud569\\\\ub2c8\\\\ub2e4.\", \"SentimentWord\": \"3\", \"SentimentPolarity\": \"1\"}]}', metadata={'source': '/content/1-1.여성의류(1).json', 'seq_num': 40}),\n",
              " Document(page_content='{\"Index\": \"138\", \"RawText\": \"\\\\ub108\\\\ubb34 \\\\uc2f8\\\\uc11c \\\\uae30\\\\ub300\\\\uc548\\\\ud588\\\\ub294\\\\ub370 \\\\ub514\\\\uc790\\\\uc778 \\\\ub118  \\\\uc774\\\\ubed0\\\\uc694~~\", \"Source\": \"\\\\uc1fc\\\\ud551\\\\ubab0\", \"Domain\": \"\\\\ud328\\\\uc158\", \"MainCategory\": \"\\\\uc5ec\\\\uc131\\\\uc758\\\\ub958\", \"ProductName\": \"OO \\\\uc5ec\\\\uc131 \\\\uc778\\\\uacac \\\\uc6d0\\\\ud53c\\\\uc2a4 3\\\\uc885\\\\uc138\\\\ud2b8\", \"ReviewScore\": \"100\", \"Syllable\": \"25\", \"Word\": \"6\", \"RDate\": \"20210817\", \"GeneralPolarity\": \"1\", \"Aspects\": [{\"Aspect\": \"\\\\uac00\\\\uaca9\", \"SentimentText\": \"\\\\ub108\\\\ubb34 \\\\uc2f8\\\\uc11c \\\\uae30\\\\ub300\\\\uc548\\\\ud588\\\\ub294\\\\ub370\", \"SentimentWord\": \"3\", \"SentimentPolarity\": \"0\"}, {\"Aspect\": \"\\\\ub514\\\\uc790\\\\uc778\", \"SentimentText\": \"\\\\ub514\\\\uc790\\\\uc778 \\\\ub118  \\\\uc774\\\\ubed0\\\\uc694~~\", \"SentimentWord\": \"3\", \"SentimentPolarity\": \"1\"}]}', metadata={'source': '/content/1-1.여성의류(1).json', 'seq_num': 41}),\n",
              " Document(page_content='{\"Index\": \"139\", \"RawText\": \"\\\\ub108\\\\ubb34 \\\\ub9d8\\\\uc5d0\\\\ub4ed\\\\ub2c8\\\\ub2e4 \\\\uc778\\\\uacac\\\\uc637\\\\uc740 \\\\ucc98\\\\uc74c \\\\uad6c\\\\ub9e4\\\\ud55c\\\\uac74\\\\ub370 \\\\uc800\\\\ub294 \\\\uc88b\\\\ub124\\\\uc694 \\\\ub514\\\\uc790\\\\uc778\\\\ub3c4 \\\\ub450\\\\uaed8\\\\uac10\\\\ub3c4 \\\\ud06c\\\\uae30\\\\ub3c4 \\\\ub108\\\\ubb34 \\\\uc798 \\\\ub9de\\\\uc544\\\\uc11c \\\\ucd94\\\\ucc9c\\\\ud558\\\\uace0 \\\\uc2f6\\\\uc5b4\\\\uc694\", \"Source\": \"\\\\uc1fc\\\\ud551\\\\ubab0\", \"Domain\": \"\\\\ud328\\\\uc158\", \"MainCategory\": \"\\\\uc5ec\\\\uc131\\\\uc758\\\\ub958\", \"ProductName\": \"OO \\\\uc5ec\\\\uc131 \\\\uc778\\\\uacac \\\\uc6d0\\\\ud53c\\\\uc2a4 3\\\\uc885\\\\uc138\\\\ud2b8\", \"ReviewScore\": \"100\", \"Syllable\": \"61\", \"Word\": \"15\", \"RDate\": \"20210814\", \"GeneralPolarity\": \"1\", \"Aspects\": [{\"Aspect\": \"\\\\ub514\\\\uc790\\\\uc778\", \"SentimentText\": \"\\\\ub514\\\\uc790\\\\uc778\\\\ub3c4 \\\\ub450\\\\uaed8\\\\uac10\\\\ub3c4 \\\\ud06c\\\\uae30\\\\ub3c4 \\\\ub108\\\\ubb34 \\\\uc798 \\\\ub9de\\\\uc544\\\\uc11c\", \"SentimentWord\": \"6\", \"SentimentPolarity\": \"1\"}, {\"Aspect\": \"\\\\ub450\\\\uaed8\", \"SentimentText\": \"\\\\ub450\\\\uaed8\\\\uac10\\\\ub3c4 \\\\ud06c\\\\uae30\\\\ub3c4 \\\\ub108\\\\ubb34 \\\\uc798 \\\\ub9de\\\\uc544\\\\uc11c\", \"SentimentWord\": \"5\", \"SentimentPolarity\": \"1\"}, {\"Aspect\": \"\\\\uc0ac\\\\uc774\\\\uc988\", \"SentimentText\": \"\\\\ud06c\\\\uae30\\\\ub3c4 \\\\ub108\\\\ubb34 \\\\uc798 \\\\ub9de\\\\uc544\\\\uc11c\", \"SentimentWord\": \"4\", \"SentimentPolarity\": \"1\"}]}', metadata={'source': '/content/1-1.여성의류(1).json', 'seq_num': 42}),\n",
              " Document(page_content='{\"Index\": \"141\", \"RawText\": \"\\\\uac00\\\\uaca9\\\\ub3c4\\\\uc800\\\\ub834\\\\ud558\\\\uace0 \\\\uc774\\\\ubed0\\\\uc11c \\\\uc5b8\\\\ub2c8\\\\ud55c\\\\ud14c \\\\uc120\\\\ubb3c\\\\ub85c\\\\ubcf4\\\\ub0c8\\\\ub294\\\\ub370 \\\\ub118\\\\uc587\\\\uc544\\\\uc11c \\\\uc9d1\\\\uc5d0\\\\uc11c \\\\ud3b8\\\\ud558\\\\uac8c\\\\uc785\\\\ub294\\\\ub2e4\\\\uace0\\\\ud558\\\\ub124\\\\uc694~\", \"Source\": \"\\\\uc1fc\\\\ud551\\\\ubab0\", \"Domain\": \"\\\\ud328\\\\uc158\", \"MainCategory\": \"\\\\uc5ec\\\\uc131\\\\uc758\\\\ub958\", \"ProductName\": \"OO \\\\uc5ec\\\\uc131 \\\\uc778\\\\uacac \\\\uc6d0\\\\ud53c\\\\uc2a4 3\\\\uc885\\\\uc138\\\\ud2b8\", \"ReviewScore\": \"100\", \"Syllable\": \"45\", \"Word\": \"7\", \"RDate\": \"20210813\", \"GeneralPolarity\": \"0\", \"Aspects\": [{\"Aspect\": \"\\\\uac00\\\\uaca9\", \"SentimentText\": \"\\\\uac00\\\\uaca9\\\\ub3c4\\\\uc800\\\\ub834\\\\ud558\\\\uace0\", \"SentimentWord\": \"1\", \"SentimentPolarity\": \"1\"}, {\"Aspect\": \"\\\\ub514\\\\uc790\\\\uc778\", \"SentimentText\": \"\\\\uc774\\\\ubed0\\\\uc11c\", \"SentimentWord\": \"1\", \"SentimentPolarity\": \"1\"}, {\"Aspect\": \"\\\\ub450\\\\uaed8\", \"SentimentText\": \"\\\\ub118\\\\uc587\\\\uc544\\\\uc11c\", \"SentimentWord\": \"1\", \"SentimentPolarity\": \"-1\"}, {\"Aspect\": \"\\\\ud65c\\\\uc6a9\\\\uc131\", \"SentimentText\": \"\\\\uc9d1\\\\uc5d0\\\\uc11c \\\\ud3b8\\\\ud558\\\\uac8c\\\\uc785\\\\ub294\\\\ub2e4\\\\uace0\\\\ud558\\\\ub124\\\\uc694~\", \"SentimentWord\": \"2\", \"SentimentPolarity\": \"0\"}]}', metadata={'source': '/content/1-1.여성의류(1).json', 'seq_num': 43}),\n",
              " Document(page_content='{\"Index\": \"143\", \"RawText\": \"\\\\uc18c\\\\uc7ac\\\\uac00 \\\\uac00\\\\ubccd\\\\uace0 \\\\uc0c9\\\\uc0c1\\\\ub3c4 \\\\uc0b0\\\\ub73b\\\\ud558\\\\ub2c8 \\\\uc544\\\\uc8fc \\\\uc88b\\\\uc544\\\\uc694.\", \"Source\": \"\\\\uc1fc\\\\ud551\\\\ubab0\", \"Domain\": \"\\\\ud328\\\\uc158\", \"MainCategory\": \"\\\\uc5ec\\\\uc131\\\\uc758\\\\ub958\", \"ProductName\": \"OO \\\\uc5ec\\\\uc131 \\\\uc778\\\\uacac \\\\uc6d0\\\\ud53c\\\\uc2a4 3\\\\uc885\\\\uc138\\\\ud2b8\", \"ReviewScore\": \"100\", \"Syllable\": \"24\", \"Word\": \"6\", \"RDate\": \"20210823\", \"GeneralPolarity\": \"1\", \"Aspects\": [{\"Aspect\": \"\\\\uc18c\\\\uc7ac\", \"SentimentText\": \"\\\\uc18c\\\\uc7ac\\\\uac00 \\\\uac00\\\\ubccd\\\\uace0\", \"SentimentWord\": \"2\", \"SentimentPolarity\": \"1\"}, {\"Aspect\": \"\\\\uc0c9\\\\uc0c1\", \"SentimentText\": \"\\\\uc0c9\\\\uc0c1\\\\ub3c4 \\\\uc0b0\\\\ub73b\\\\ud558\\\\ub2c8 \\\\uc544\\\\uc8fc \\\\uc88b\\\\uc544\\\\uc694.\", \"SentimentWord\": \"4\", \"SentimentPolarity\": \"1\"}]}', metadata={'source': '/content/1-1.여성의류(1).json', 'seq_num': 44}),\n",
              " Document(page_content='{\"Index\": \"144\", \"RawText\": \"\\\\ub9e4\\\\uc6b0 \\\\ub9cc\\\\uc871\\\\ud569\\\\ub2c8\\\\ub2e4~ \\\\uc2dc\\\\uc6d0\\\\ud558\\\\uace0 \\\\ubabd\\\\uc5d0 \\\\ubd99\\\\uc9c0\\\\uc54a\\\\uc544 \\\\uc88b\\\\uc544\\\\uc694~~\", \"Source\": \"\\\\uc1fc\\\\ud551\\\\ubab0\", \"Domain\": \"\\\\ud328\\\\uc158\", \"MainCategory\": \"\\\\uc5ec\\\\uc131\\\\uc758\\\\ub958\", \"ProductName\": \"OO \\\\uc5ec\\\\uc131 \\\\uc778\\\\uacac \\\\uc6d0\\\\ud53c\\\\uc2a4 3\\\\uc885\\\\uc138\\\\ud2b8\", \"ReviewScore\": \"90\", \"Syllable\": \"28\", \"Word\": \"6\", \"RDate\": \"20210825\", \"GeneralPolarity\": \"1\", \"Aspects\": [{\"Aspect\": \"\\\\uae30\\\\ub2a5\", \"SentimentText\": \"\\\\uc2dc\\\\uc6d0\\\\ud558\\\\uace0\", \"SentimentWord\": \"1\", \"SentimentPolarity\": \"1\"}, {\"Aspect\": \"\\\\ucc29\\\\uc6a9\\\\uac10\", \"SentimentText\": \"\\\\ubabd\\\\uc5d0 \\\\ubd99\\\\uc9c0\\\\uc54a\\\\uc544 \\\\uc88b\\\\uc544\\\\uc694~~\", \"SentimentWord\": \"3\", \"SentimentPolarity\": \"1\"}]}', metadata={'source': '/content/1-1.여성의류(1).json', 'seq_num': 45}),\n",
              " Document(page_content='{\"Index\": \"145\", \"RawText\": \"OOO \\\\uc778\\\\uacac\\\\uc6d0\\\\ud53c\\\\uc2a4 \\\\uad6c\\\\ub9e4\\\\ud6c4 \\\\ub514\\\\uc790\\\\uc778\\\\uc774 \\\\uc608\\\\uc05c \\\\ub4ef\\\\ud574 \\\\uad6c\\\\ub9e4\\\\ud588\\\\ub294\\\\ub370 \\\\uae38\\\\uc774\\\\uac00 \\\\uc8fc\\\\ud669\\\\uc0c9 \\\\uc6d0\\\\ud53c\\\\uc2a4\\\\ub294 \\\\ub9ce\\\\uc774 \\\\uc9e7\\\\ub124\\\\uc694 \\\\uadf8\\\\ub798\\\\ub3c4 \\\\ub2e4\\\\uc591\\\\ud55c \\\\ub514\\\\uc790\\\\uc778 \\\\uc88b\\\\uc544\\\\uc694~\\\\u2661\", \"Source\": \"\\\\uc1fc\\\\ud551\\\\ubab0\", \"Domain\": \"\\\\ud328\\\\uc158\", \"MainCategory\": \"\\\\uc5ec\\\\uc131\\\\uc758\\\\ub958\", \"ProductName\": \"OO \\\\uc5ec\\\\uc131 \\\\uc778\\\\uacac \\\\uc6d0\\\\ud53c\\\\uc2a4 3\\\\uc885\\\\uc138\\\\ud2b8\", \"ReviewScore\": \"70\", \"Syllable\": \"68\", \"Word\": \"16\", \"RDate\": \"20210825\", \"GeneralPolarity\": \"0\", \"Aspects\": [{\"Aspect\": \"\\\\uae38\\\\uc774\", \"SentimentText\": \"\\\\uae38\\\\uc774\\\\uac00 \\\\uc8fc\\\\ud669\\\\uc0c9 \\\\uc6d0\\\\ud53c\\\\uc2a4\\\\ub294 \\\\ub9ce\\\\uc774 \\\\uc9e7\\\\ub124\\\\uc694\", \"SentimentWord\": \"5\", \"SentimentPolarity\": \"-1\"}, {\"Aspect\": \"\\\\ub514\\\\uc790\\\\uc778\", \"SentimentText\": \"\\\\ub2e4\\\\uc591\\\\ud55c \\\\ub514\\\\uc790\\\\uc778 \\\\uc88b\\\\uc544\\\\uc694~\\\\u2661\", \"SentimentWord\": \"3\", \"SentimentPolarity\": \"1\"}]}', metadata={'source': '/content/1-1.여성의류(1).json', 'seq_num': 46}),\n",
              " Document(page_content='{\"Index\": \"146\", \"RawText\": \"\\\\ud54f\\\\uc740 \\\\uc81c\\\\uac00 \\\\uc0b4\\\\uc774\\\\uca84\\\\uc11c 55\\\\ubc18\\\\uc740 \\\\ub418\\\\ub294\\\\uac70\\\\uac19\\\\uc740\\\\ub370 55\\\\uc8fc\\\\ubb38\\\\ud588\\\\ub354\\\\ub2c8 \\\\ub808\\\\ub4dc\\\\uac00 \\\\uc880 \\\\ub354 \\\\uc5ec\\\\uc720\\\\uc788\\\\uace0  \\\\ube14\\\\ub8e8\\\\ub3c4 \\\\ud3b8\\\\ud55c\\\\ud3b8\\\\uc774\\\\uc608\\\\uc694~ \\\\ud55c\\\\uc0ac\\\\uc774\\\\uc988 \\\\uc5c5\\\\ud574\\\\uc11c \\\\uc785\\\\uc73c\\\\uba74 \\\\ud54f\\\\uc774 \\\\uc548 \\\\uc774\\\\uc060\\\\uac70\\\\uac19\\\\uc544\\\\uc694.. \\\\ub808\\\\ub4dc \\\\uc138\\\\ud0c1\\\\ud588\\\\ub354\\\\ub2c8 \\\\ub9c8\\\\uac10 \\\\uc62c \\\\uc0b4\\\\uc9dd \\\\ud480\\\\ub9bc\\\\u315c \\\\uc554\\\\ud2bc \\\\uc6d0\\\\ub2e8\\\\uc774 \\\\ub108\\\\ubb34 \\\\uc88b\\\\uc544\\\\uc11c \\\\ubcc4 5\\\\uac1c \\\\uc544\\\\uae5d\\\\uc9c0\\\\uc54a\\\\ub124\\\\uc694~^^\", \"Source\": \"\\\\uc1fc\\\\ud551\\\\ubab0\", \"Domain\": \"\\\\ud328\\\\uc158\", \"MainCategory\": \"\\\\uc5ec\\\\uc131\\\\uc758\\\\ub958\", \"ProductName\": \"OO \\\\uc5ec\\\\uc131 \\\\uc778\\\\uacac \\\\uc6d0\\\\ud53c\\\\uc2a4 3\\\\uc885\\\\uc138\\\\ud2b8\", \"ReviewScore\": \"100\", \"Syllable\": \"133\", \"Word\": \"31\", \"RDate\": \"20210812\", \"GeneralPolarity\": \"1\", \"Aspects\": [{\"Aspect\": \"\\\\uc0ac\\\\uc774\\\\uc988\", \"SentimentText\": \"\\\\ub808\\\\ub4dc\\\\uac00 \\\\uc880 \\\\ub354 \\\\uc5ec\\\\uc720\\\\uc788\\\\uace0  \\\\ube14\\\\ub8e8\\\\ub3c4 \\\\ud3b8\\\\ud55c\\\\ud3b8\\\\uc774\\\\uc608\\\\uc694~\", \"SentimentWord\": \"6\", \"SentimentPolarity\": \"1\"}, {\"Aspect\": \"\\\\ub9c8\\\\uac10\", \"SentimentText\": \"\\\\ub9c8\\\\uac10 \\\\uc62c \\\\uc0b4\\\\uc9dd \\\\ud480\\\\ub9bc\\\\u315c\", \"SentimentWord\": \"4\", \"SentimentPolarity\": \"-1\"}, {\"Aspect\": \"\\\\uc18c\\\\uc7ac\", \"SentimentText\": \"\\\\uc6d0\\\\ub2e8\\\\uc774 \\\\ub108\\\\ubb34 \\\\uc88b\\\\uc544\\\\uc11c \\\\ubcc4 5\\\\uac1c \\\\uc544\\\\uae5d\\\\uc9c0\\\\uc54a\\\\ub124\\\\uc694~^^\", \"SentimentWord\": \"6\", \"SentimentPolarity\": \"1\"}]}', metadata={'source': '/content/1-1.여성의류(1).json', 'seq_num': 47}),\n",
              " Document(page_content='{\"Index\": \"147\", \"RawText\": \"\\\\uadf8\\\\ub0e5 \\\\uc9d1\\\\uc5d0\\\\uc11c\\\\ub098 \\\\uc785\\\\uc5b4\\\\uc57c\\\\ud560\\\\ub4ef \\\\ud3b8\\\\ud558\\\\uae34\\\\ud55c\\\\ub370 \\\\uc774\\\\uc068\\\\uc740 \\\\ubcc4\\\\ub8e8\", \"Source\": \"\\\\uc1fc\\\\ud551\\\\ubab0\", \"Domain\": \"\\\\ud328\\\\uc158\", \"MainCategory\": \"\\\\uc5ec\\\\uc131\\\\uc758\\\\ub958\", \"ProductName\": \"OO \\\\uc5ec\\\\uc131 \\\\uc778\\\\uacac \\\\uc6d0\\\\ud53c\\\\uc2a4 3\\\\uc885\\\\uc138\\\\ud2b8\", \"ReviewScore\": \"60\", \"Syllable\": \"26\", \"Word\": \"6\", \"RDate\": \"20210812\", \"GeneralPolarity\": \"-1\", \"Aspects\": [{\"Aspect\": \"\\\\ud65c\\\\uc6a9\\\\uc131\", \"SentimentText\": \"\\\\uc9d1\\\\uc5d0\\\\uc11c\\\\ub098 \\\\uc785\\\\uc5b4\\\\uc57c\\\\ud560\\\\ub4ef\", \"SentimentWord\": \"2\", \"SentimentPolarity\": \"-1\"}, {\"Aspect\": \"\\\\ucc29\\\\uc6a9\\\\uac10\", \"SentimentText\": \" \\\\ud3b8\\\\ud558\\\\uae34\\\\ud55c\\\\ub370\", \"SentimentWord\": \"1\", \"SentimentPolarity\": \"1\"}, {\"Aspect\": \"\\\\ub514\\\\uc790\\\\uc778\", \"SentimentText\": \"\\\\uc774\\\\uc068\\\\uc740 \\\\ubcc4\\\\ub8e8\", \"SentimentWord\": \"2\", \"SentimentPolarity\": \"-1\"}]}', metadata={'source': '/content/1-1.여성의류(1).json', 'seq_num': 48}),\n",
              " Document(page_content='{\"Index\": \"151\", \"RawText\": \"\\\\uc800\\\\ub834\\\\ud558\\\\uac8c \\\\uad6c\\\\ub9e4\\\\uc798\\\\ud588\\\\uc5b4\\\\uc694. \\\\ud558\\\\uc9c0\\\\ub9cc \\\\ud55c\\\\uc637\\\\ubc14\\\\ub290\\\\uc9c8\\\\uc0c1\\\\ud0dc\\\\uac00 \\\\uc88b\\\\uc9c0\\\\uc54a\\\\uc544 \\\\uae30\\\\ubd84\\\\uc774\\\\ubcc4\\\\ub85c. \\\\ubc18\\\\ud488\\\\ud558\\\\uae30\\\\uadc0\\\\ucc2e\\\\uc544 \\\\uc190\\\\uc880\\\\ubd10 \\\\uc785\\\\ub124\\\\uc694.\", \"Source\": \"\\\\uc1fc\\\\ud551\\\\ubab0\", \"Domain\": \"\\\\ud328\\\\uc158\", \"MainCategory\": \"\\\\uc5ec\\\\uc131\\\\uc758\\\\ub958\", \"ProductName\": \"OO \\\\uc5ec\\\\uc131 \\\\uc778\\\\uacac \\\\uc6d0\\\\ud53c\\\\uc2a4 3\\\\uc885\\\\uc138\\\\ud2b8\", \"ReviewScore\": \"100\", \"Syllable\": \"54\", \"Word\": \"9\", \"RDate\": \"20210812\", \"GeneralPolarity\": \"-1\", \"Aspects\": [{\"Aspect\": \"\\\\uac00\\\\uaca9\", \"SentimentText\": \"\\\\uc800\\\\ub834\\\\ud558\\\\uac8c \\\\uad6c\\\\ub9e4\\\\uc798\\\\ud588\\\\uc5b4\\\\uc694.\", \"SentimentWord\": \"2\", \"SentimentPolarity\": \"1\"}, {\"Aspect\": \"\\\\ub9c8\\\\uac10\", \"SentimentText\": \"\\\\ud55c\\\\uc637\\\\ubc14\\\\ub290\\\\uc9c8\\\\uc0c1\\\\ud0dc\\\\uac00 \\\\uc88b\\\\uc9c0\\\\uc54a\\\\uc544 \\\\uae30\\\\ubd84\\\\uc774\\\\ubcc4\\\\ub85c.\", \"SentimentWord\": \"3\", \"SentimentPolarity\": \"-1\"}]}', metadata={'source': '/content/1-1.여성의류(1).json', 'seq_num': 49}),\n",
              " Document(page_content='{\"Index\": \"152\", \"RawText\": \"\\\\ub370\\\\uc77c\\\\ub9ac \\\\ud2f0\\\\uc154\\\\uce20\\\\ub85c \\\\uc544\\\\uc8fc \\\\ud3b8\\\\ud558\\\\uac8c \\\\uc798 \\\\uc785\\\\uace0 \\\\uc788\\\\uc2b5\\\\ub2c8\\\\ub2e4 \\\\uc6d0\\\\ub2e8\\\\uc774   \\\\ud53c\\\\ubd80\\\\uc5d0\\\\ub3c4 \\\\uc88b\\\\uace0 \\\\ucd09\\\\uac10\\\\uc774 \\\\uc88b\\\\uc2b5\\\\ub2c8\\\\ub2e4\", \"Source\": \"\\\\uc1fc\\\\ud551\\\\ubab0\", \"Domain\": \"\\\\ud328\\\\uc158\", \"MainCategory\": \"\\\\uc5ec\\\\uc131\\\\uc758\\\\ub958\", \"ProductName\": \"OO \\\\uc5ec\\\\uc131 \\\\uc2dc** \\\\uc2e4\\\\ud06c\\\\ucf54\\\\ud2bc \\\\ud2f0\\\\uc154\\\\uce20 4\\\\uc885 \\\\uc138\\\\ud2b8\", \"ReviewScore\": \"100\", \"Syllable\": \"48\", \"Word\": \"12\", \"RDate\": \"20210812\", \"GeneralPolarity\": \"1\", \"Aspects\": [{\"Aspect\": \"\\\\ucc29\\\\uc6a9\\\\uac10\", \"SentimentText\": \"\\\\uc544\\\\uc8fc \\\\ud3b8\\\\ud558\\\\uac8c \\\\uc798 \\\\uc785\\\\uace0 \\\\uc788\\\\uc2b5\\\\ub2c8\\\\ub2e4\", \"SentimentWord\": \"5\", \"SentimentPolarity\": \"1\"}, {\"Aspect\": \"\\\\uc18c\\\\uc7ac\", \"SentimentText\": \"\\\\uc6d0\\\\ub2e8\\\\uc774   \\\\ud53c\\\\ubd80\\\\uc5d0\\\\ub3c4 \\\\uc88b\\\\uace0\", \"SentimentWord\": \"3\", \"SentimentPolarity\": \"1\"}, {\"Aspect\": \"\\\\ucd09\\\\uac10\", \"SentimentText\": \" \\\\ucd09\\\\uac10\\\\uc774 \\\\uc88b\\\\uc2b5\\\\ub2c8\\\\ub2e4\", \"SentimentWord\": \"2\", \"SentimentPolarity\": \"1\"}]}', metadata={'source': '/content/1-1.여성의류(1).json', 'seq_num': 50}),\n",
              " Document(page_content='{\"Index\": \"157\", \"RawText\": \"\\\\uc5c4\\\\ub9c8\\\\uac00 \\\\ub514\\\\uc790\\\\uc778\\\\uc744 \\\\uc88b\\\\uc544\\\\ud574\\\\uc694 \\\\uc587\\\\uc9c0\\\\ub9cc \\\\uad1c\\\\ucc2e\\\\uc544\\\\uc694\", \"Source\": \"\\\\uc1fc\\\\ud551\\\\ubab0\", \"Domain\": \"\\\\ud328\\\\uc158\", \"MainCategory\": \"\\\\uc5ec\\\\uc131\\\\uc758\\\\ub958\", \"ProductName\": \"OO \\\\uc5ec\\\\uc131 \\\\uc2dc** \\\\uc2e4\\\\ud06c\\\\ucf54\\\\ud2bc \\\\ud2f0\\\\uc154\\\\uce20 4\\\\uc885 \\\\uc138\\\\ud2b8\", \"ReviewScore\": \"100\", \"Syllable\": \"22\", \"Word\": \"5\", \"RDate\": \"20210815\", \"GeneralPolarity\": \"1\", \"Aspects\": [{\"Aspect\": \"\\\\ub514\\\\uc790\\\\uc778\", \"SentimentText\": \"\\\\uc5c4\\\\ub9c8\\\\uac00 \\\\ub514\\\\uc790\\\\uc778\\\\uc744 \\\\uc88b\\\\uc544\\\\ud574\\\\uc694\", \"SentimentWord\": \"3\", \"SentimentPolarity\": \"1\"}, {\"Aspect\": \"\\\\ub450\\\\uaed8\", \"SentimentText\": \"\\\\uc587\\\\uc9c0\\\\ub9cc \\\\uad1c\\\\ucc2e\\\\uc544\\\\uc694\", \"SentimentWord\": \"2\", \"SentimentPolarity\": \"1\"}]}', metadata={'source': '/content/1-1.여성의류(1).json', 'seq_num': 51}),\n",
              " Document(page_content='{\"Index\": \"159\", \"RawText\": \"\\\\uc18c\\\\uc7ac\\\\ub3c4 \\\\uc88b\\\\uace0 \\\\ub9d8\\\\uc5d0 \\\\uaf2d \\\\ub4e4\\\\uc5b4\\\\uc694 \\\\uc785\\\\uc5b4\\\\ubcf4\\\\ub2c8 \\\\uc2dc\\\\uc6d0\\\\ud558\\\\uace0 \\\\ud3b8\\\\uc548\\\\ud574\\\\uc694\", \"Source\": \"\\\\uc1fc\\\\ud551\\\\ubab0\", \"Domain\": \"\\\\ud328\\\\uc158\", \"MainCategory\": \"\\\\uc5ec\\\\uc131\\\\uc758\\\\ub958\", \"ProductName\": \"OO \\\\uc5ec\\\\uc131 \\\\uc2dc** \\\\uc2e4\\\\ud06c\\\\ucf54\\\\ud2bc \\\\ud2f0\\\\uc154\\\\uce20 4\\\\uc885 \\\\uc138\\\\ud2b8\", \"ReviewScore\": \"40\", \"Syllable\": \"30\", \"Word\": \"8\", \"RDate\": \"20210805\", \"GeneralPolarity\": \"1\", \"Aspects\": [{\"Aspect\": \"\\\\uc18c\\\\uc7ac\", \"SentimentText\": \"\\\\uc18c\\\\uc7ac\\\\ub3c4 \\\\uc88b\\\\uace0\", \"SentimentWord\": \"2\", \"SentimentPolarity\": \"1\"}, {\"Aspect\": \"\\\\uae30\\\\ub2a5\", \"SentimentText\": \"\\\\uc2dc\\\\uc6d0\\\\ud558\\\\uace0\", \"SentimentWord\": \"1\", \"SentimentPolarity\": \"1\"}, {\"Aspect\": \"\\\\ucc29\\\\uc6a9\\\\uac10\", \"SentimentText\": \"\\\\ud3b8\\\\uc548\\\\ud574\\\\uc694\", \"SentimentWord\": \"1\", \"SentimentPolarity\": \"1\"}]}', metadata={'source': '/content/1-1.여성의류(1).json', 'seq_num': 52}),\n",
              " Document(page_content='{\"Index\": \"161\", \"RawText\": \"\\\\ud488\\\\uc9c8\\\\uc88b\\\\uace0 \\\\uac00\\\\uaca9\\\\uc88b\\\\uace0 \\\\ub4dd\\\\ud15c\\\\ud588\\\\ub124\\\\uc694\", \"Source\": \"\\\\uc1fc\\\\ud551\\\\ubab0\", \"Domain\": \"\\\\ud328\\\\uc158\", \"MainCategory\": \"\\\\uc5ec\\\\uc131\\\\uc758\\\\ub958\", \"ProductName\": \"OO \\\\uc5ec\\\\uc131 \\\\uc2dc** \\\\uc2e4\\\\ud06c\\\\ucf54\\\\ud2bc \\\\ud2f0\\\\uc154\\\\uce20 4\\\\uc885 \\\\uc138\\\\ud2b8\", \"ReviewScore\": \"100\", \"Syllable\": \"15\", \"Word\": \"3\", \"RDate\": \"20210808\", \"GeneralPolarity\": \"1\", \"Aspects\": [{\"Aspect\": \"\\\\ud488\\\\uc9c8\", \"SentimentText\": \"\\\\ud488\\\\uc9c8\\\\uc88b\\\\uace0\", \"SentimentWord\": \"1\", \"SentimentPolarity\": \"1\"}, {\"Aspect\": \"\\\\uac00\\\\uaca9\", \"SentimentText\": \"\\\\uac00\\\\uaca9\\\\uc88b\\\\uace0\", \"SentimentWord\": \"1\", \"SentimentPolarity\": \"1\"}]}', metadata={'source': '/content/1-1.여성의류(1).json', 'seq_num': 53}),\n",
              " Document(page_content='{\"Index\": \"163\", \"RawText\": \"\\\\ubc30\\\\uc1a1\\\\uc740 \\\\uad1c\\\\ucc2e\\\\uc740\\\\ub370 \\\\uc0c9\\\\uc774 \\\\uc0dd\\\\uac01\\\\ubcf4\\\\ub2e4 \\\\ub178\\\\ub780\\\\ub07c?\\\\ub204\\\\ub7f0\\\\uc0c9\\\\uc774\\\\ub77c \\\\ub180\\\\ub7ac\\\\uc5b4\\\\uc694 \\\\u315c\\\\u315c  \\\\uc785\\\\uc5b4\\\\ubcf4\\\\ub2c8 \\\\uad1c\\\\ucc2e\\\\uc740 \\\\ub4ef \\\\ud558\\\\uae34 \\\\ud558\\\\uc9c0\\\\ub9cc \\\\uc0c9\\\\uc0c1\\\\uc774 \\\\uc369 \\\\ub9d8\\\\uc5d0 \\\\ub4e4\\\\uc9c4 \\\\uc54a\\\\uc544\\\\uc694 \\\\u315c\\\\u315c \\\\uc0c9 \\\\uace0\\\\ubbfc \\\\ud6c4 \\\\uc120\\\\ud0dd\\\\ud558\\\\uc138\\\\uc694~\", \"Source\": \"\\\\uc1fc\\\\ud551\\\\ubab0\", \"Domain\": \"\\\\ud328\\\\uc158\", \"MainCategory\": \"\\\\uc5ec\\\\uc131\\\\uc758\\\\ub958\", \"ProductName\": \"OO \\\\ud074** \\\\uce74\\\\ub77c \\\\ubc18\\\\ud314\\\\ud2f0\\\\uc154\\\\uce20 12\\\\uc885 \\\\ud0dd1\", \"ReviewScore\": \"80\", \"Syllable\": \"86\", \"Word\": \"22\", \"RDate\": \"20210901\", \"GeneralPolarity\": \"-1\", \"Aspects\": [{\"Aspect\": \"\\\\uc0c9\\\\uc0c1\", \"SentimentText\": \"\\\\uc0c9\\\\uc774 \\\\uc0dd\\\\uac01\\\\ubcf4\\\\ub2e4 \\\\ub178\\\\ub780\\\\ub07c?\\\\ub204\\\\ub7f0\\\\uc0c9\\\\uc774\\\\ub77c \\\\ub180\\\\ub7ac\\\\uc5b4\\\\uc694 \\\\u315c\\\\u315c\", \"SentimentWord\": \"5\", \"SentimentPolarity\": \"-1\"}, {\"Aspect\": \"\\\\uc0c9\\\\uc0c1\", \"SentimentText\": \"\\\\uc0c9\\\\uc0c1\\\\uc774 \\\\uc369 \\\\ub9d8\\\\uc5d0 \\\\ub4e4\\\\uc9c4 \\\\uc54a\\\\uc544\\\\uc694 \\\\u315c\\\\u315c\", \"SentimentWord\": \"6\", \"SentimentPolarity\": \"-1\"}]}', metadata={'source': '/content/1-1.여성의류(1).json', 'seq_num': 54}),\n",
              " Document(page_content='{\"Index\": \"165\", \"RawText\": \"\\\\uc81c\\\\ud488\\\\uc800\\\\ub834\\\\ud558\\\\uace0 \\\\uc774\\\\ubed0\\\\uc694 \\\\uc18c\\\\uc7ac\\\\ub3c4 \\\\uc88b\\\\uc559\\\\u11a2\", \"Source\": \"\\\\uc1fc\\\\ud551\\\\ubab0\", \"Domain\": \"\\\\ud328\\\\uc158\", \"MainCategory\": \"\\\\uc5ec\\\\uc131\\\\uc758\\\\ub958\", \"ProductName\": \"OO \\\\ud074** \\\\uce74\\\\ub77c \\\\ubc18\\\\ud314\\\\ud2f0\\\\uc154\\\\uce20 12\\\\uc885 \\\\ud0dd1\", \"ReviewScore\": \"100\", \"Syllable\": \"18\", \"Word\": \"4\", \"RDate\": \"20210829\", \"GeneralPolarity\": \"1\", \"Aspects\": [{\"Aspect\": \"\\\\uac00\\\\uaca9\", \"SentimentText\": \"\\\\uc800\\\\ub834\\\\ud558\\\\uace0\", \"SentimentWord\": \"1\", \"SentimentPolarity\": \"1\"}, {\"Aspect\": \"\\\\ub514\\\\uc790\\\\uc778\", \"SentimentText\": \"\\\\uc774\\\\ubed0\\\\uc694\", \"SentimentWord\": \"1\", \"SentimentPolarity\": \"1\"}, {\"Aspect\": \"\\\\uc18c\\\\uc7ac\", \"SentimentText\": \"\\\\uc18c\\\\uc7ac\\\\ub3c4 \\\\uc88b\\\\uc559\\\\u11a2\", \"SentimentWord\": \"2\", \"SentimentPolarity\": \"1\"}]}', metadata={'source': '/content/1-1.여성의류(1).json', 'seq_num': 55}),\n",
              " Document(page_content='{\"Index\": \"166\", \"RawText\": \"\\\\uc800\\\\ub834\\\\ud55c \\\\uac00\\\\uaca9\\\\uc5d0 \\\\ub4dd\\\\ud15c\\\\uc785\\\\ub2c8\\\\ub2e4. M\\\\uc0ac\\\\uc774\\\\uc988\\\\ub294 100~105\\\\uc911\\\\uac04\\\\ucbe4\\\\uc73c\\\\ub85c \\\\uc798 \\\\ub9de\\\\uc2b5\\\\ub2c8\\\\ub2e4.\", \"Source\": \"\\\\uc1fc\\\\ud551\\\\ubab0\", \"Domain\": \"\\\\ud328\\\\uc158\", \"MainCategory\": \"\\\\uc5ec\\\\uc131\\\\uc758\\\\ub958\", \"ProductName\": \"OO \\\\ud074** \\\\uce74\\\\ub77c \\\\ubc18\\\\ud314\\\\ud2f0\\\\uc154\\\\uce20 12\\\\uc885 \\\\ud0dd1\", \"ReviewScore\": \"100\", \"Syllable\": \"41\", \"Word\": \"7\", \"RDate\": \"20210820\", \"GeneralPolarity\": \"1\", \"Aspects\": [{\"Aspect\": \"\\\\uac00\\\\uaca9\", \"SentimentText\": \"\\\\uc800\\\\ub834\\\\ud55c \\\\uac00\\\\uaca9\\\\uc5d0 \\\\ub4dd\\\\ud15c\\\\uc785\\\\ub2c8\\\\ub2e4.\", \"SentimentWord\": \"3\", \"SentimentPolarity\": \"1\"}, {\"Aspect\": \"\\\\uc0ac\\\\uc774\\\\uc988\", \"SentimentText\": \"M\\\\uc0ac\\\\uc774\\\\uc988\\\\ub294 100~105\\\\uc911\\\\uac04\\\\ucbe4\\\\uc73c\\\\ub85c \\\\uc798 \\\\ub9de\\\\uc2b5\\\\ub2c8\\\\ub2e4.\", \"SentimentWord\": \"4\", \"SentimentPolarity\": \"1\"}]}', metadata={'source': '/content/1-1.여성의류(1).json', 'seq_num': 56}),\n",
              " Document(page_content='{\"Index\": \"167\", \"RawText\": \"\\\\uc800\\\\ub834\\\\ud55c \\\\uac00\\\\uaca9\\\\uc5d0  \\\\ud589\\\\uc0ac\\\\ud560\\\\ub54c \\\\ub354 \\\\uc2f8\\\\uac8c \\\\uad6c\\\\ub9e4\\\\ud574\\\\uc11c \\\\ub108\\\\ubb34 \\\\ub9d8\\\\uc5d0 \\\\ub4e4\\\\uc5b4\\\\uc694\", \"Source\": \"\\\\uc1fc\\\\ud551\\\\ubab0\", \"Domain\": \"\\\\ud328\\\\uc158\", \"MainCategory\": \"\\\\uc5ec\\\\uc131\\\\uc758\\\\ub958\", \"ProductName\": \"OO \\\\ud074** \\\\uce74\\\\ub77c \\\\ubc18\\\\ud314\\\\ud2f0\\\\uc154\\\\uce20 12\\\\uc885 \\\\ud0dd1\", \"ReviewScore\": \"100\", \"Syllable\": \"33\", \"Word\": \"9\", \"RDate\": \"20210824\", \"GeneralPolarity\": \"1\", \"Aspects\": [{\"Aspect\": \"\\\\uac00\\\\uaca9\", \"SentimentText\": \"\\\\uc800\\\\ub834\\\\ud55c \\\\uac00\\\\uaca9\\\\uc5d0\", \"SentimentWord\": \"2\", \"SentimentPolarity\": \"1\"}, {\"Aspect\": \"\\\\uac00\\\\uaca9\", \"SentimentText\": \"\\\\ud589\\\\uc0ac\\\\ud560\\\\ub54c \\\\ub354 \\\\uc2f8\\\\uac8c \\\\uad6c\\\\ub9e4\\\\ud574\\\\uc11c \\\\ub108\\\\ubb34 \\\\ub9d8\\\\uc5d0 \\\\ub4e4\\\\uc5b4\\\\uc694\", \"SentimentWord\": \"7\", \"SentimentPolarity\": \"1\"}]}', metadata={'source': '/content/1-1.여성의류(1).json', 'seq_num': 57}),\n",
              " Document(page_content='{\"Index\": \"169\", \"RawText\": \"\\\\uc57d\\\\uac04 \\\\uc774\\\\uc5fc\\\\ub418\\\\uc11c \\\\uc654\\\\ub294\\\\ub370 \\\\uadf8\\\\ub0e5 \\\\uc785\\\\uc73c\\\\ub824\\\\uace0\\\\uc694  \\\\uc785\\\\uc5b4\\\\ubcf4\\\\ub2c8 \\\\ud54f\\\\uc774 \\\\uc774\\\\uc058\\\\uae34 \\\\ud558\\\\ub124\\\\uc601\", \"Source\": \"\\\\uc1fc\\\\ud551\\\\ubab0\", \"Domain\": \"\\\\ud328\\\\uc158\", \"MainCategory\": \"\\\\uc5ec\\\\uc131\\\\uc758\\\\ub958\", \"ProductName\": \"OO \\\\ud074** \\\\uce74\\\\ub77c \\\\ubc18\\\\ud314\\\\ud2f0\\\\uc154\\\\uce20 12\\\\uc885 \\\\ud0dd1\", \"ReviewScore\": \"70\", \"Syllable\": \"37\", \"Word\": \"9\", \"RDate\": \"20210824\", \"GeneralPolarity\": \"1\", \"Aspects\": [{\"Aspect\": \"\\\\ud488\\\\uc9c8\", \"SentimentText\": \"\\\\uc57d\\\\uac04 \\\\uc774\\\\uc5fc\\\\ub418\\\\uc11c \\\\uc654\\\\ub294\\\\ub370\", \"SentimentWord\": \"3\", \"SentimentPolarity\": \"-1\"}, {\"Aspect\": \"\\\\ud54f\", \"SentimentText\": \" \\\\ud54f\\\\uc774 \\\\uc774\\\\uc058\\\\uae34 \\\\ud558\\\\ub124\\\\uc601\", \"SentimentWord\": \"3\", \"SentimentPolarity\": \"1\"}]}', metadata={'source': '/content/1-1.여성의류(1).json', 'seq_num': 58}),\n",
              " Document(page_content='{\"Index\": \"176\", \"RawText\": \"\\\\uc587\\\\uc740 \\\\ub2c8\\\\ud2b8\\\\ud2f0 \\\\uc2f8\\\\uc774\\\\uc988\\\\ub294\\\\uc88b\\\\uc740\\\\ub370 \\\\ubab8\\\\uc5d0\\\\ub2ff\\\\uc558\\\\uc744\\\\ub54c  \\\\ub530\\\\uac00\\\\uc6b4\\\\uac10\\\\uc774 \\\\uc788\\\\ub124\\\\uc694\", \"Source\": \"\\\\uc1fc\\\\ud551\\\\ubab0\", \"Domain\": \"\\\\ud328\\\\uc158\", \"MainCategory\": \"\\\\uc5ec\\\\uc131\\\\uc758\\\\ub958\", \"ProductName\": \"OO \\\\uc6b8\\\\ube14\\\\ub79c\\\\ub514\\\\ub4dc \\\\uc5ec\\\\uc131 \\\\ub2c8\\\\ud2b8 3\\\\uc885\", \"ReviewScore\": \"80\", \"Syllable\": \"32\", \"Word\": \"6\", \"RDate\": \"20210914\", \"GeneralPolarity\": \"0\", \"Aspects\": [{\"Aspect\": \"\\\\uc0ac\\\\uc774\\\\uc988\", \"SentimentText\": \"\\\\uc2f8\\\\uc774\\\\uc988\\\\ub294\\\\uc88b\\\\uc740\\\\ub370\", \"SentimentWord\": \"1\", \"SentimentPolarity\": \"1\"}, {\"Aspect\": \"\\\\ucd09\\\\uac10\", \"SentimentText\": \"\\\\ub530\\\\uac00\\\\uc6b4\\\\uac10\\\\uc774 \\\\uc788\\\\ub124\\\\uc694\", \"SentimentWord\": \"2\", \"SentimentPolarity\": \"-1\"}, {\"Aspect\": \"\\\\ub450\\\\uaed8\", \"SentimentText\": \"\\\\uc587\\\\uc740 \\\\ub2c8\\\\ud2b8\\\\ud2f0\", \"SentimentWord\": \"2\", \"SentimentPolarity\": \"0\"}]}', metadata={'source': '/content/1-1.여성의류(1).json', 'seq_num': 59}),\n",
              " Document(page_content='{\"Index\": \"178\", \"RawText\": \"\\\\uc0dd\\\\uac01\\\\ubcf4\\\\ub2e4 \\\\uc587\\\\uace0 \\\\ucd09\\\\uac10\\\\uc774 \\\\uc57d\\\\uac04 \\\\uae54\\\\uae54\\\\ud574\\\\uc694\", \"Source\": \"\\\\uc1fc\\\\ud551\\\\ubab0\", \"Domain\": \"\\\\ud328\\\\uc158\", \"MainCategory\": \"\\\\uc5ec\\\\uc131\\\\uc758\\\\ub958\", \"ProductName\": \"OO \\\\uc6b8\\\\ube14\\\\ub79c\\\\ub514\\\\ub4dc \\\\uc5ec\\\\uc131 \\\\ub2c8\\\\ud2b8 3\\\\uc885\", \"ReviewScore\": \"100\", \"Syllable\": \"19\", \"Word\": \"5\", \"RDate\": \"20211023\", \"GeneralPolarity\": \"-1\", \"Aspects\": [{\"Aspect\": \"\\\\ub450\\\\uaed8\", \"SentimentText\": \"\\\\uc0dd\\\\uac01\\\\ubcf4\\\\ub2e4 \\\\uc587\\\\uace0\", \"SentimentWord\": \"2\", \"SentimentPolarity\": \"-1\"}, {\"Aspect\": \"\\\\ucd09\\\\uac10\", \"SentimentText\": \"\\\\ucd09\\\\uac10\\\\uc774 \\\\uc57d\\\\uac04 \\\\uae54\\\\uae54\\\\ud574\\\\uc694\", \"SentimentWord\": \"3\", \"SentimentPolarity\": \"-1\"}]}', metadata={'source': '/content/1-1.여성의류(1).json', 'seq_num': 60}),\n",
              " Document(page_content='{\"Index\": \"179\", \"RawText\": \"\\\\uc587\\\\uc544\\\\uc11c \\\\uc785\\\\uae30\\\\uc88b\\\\uc544\\\\uc694. \\\\uac00\\\\uaca9\\\\ub300\\\\ube44 \\\\ub300\\\\ub9cc\\\\uc871\\\\uc785\\\\ub2c8\\\\ub2e4. \\\\uac10\\\\ucd09\\\\ub3c4 \\\\uc88b\\\\uace0 \\\\ub514\\\\uc790\\\\uc778\\\\ub3c4 \\\\uad1c\\\\ucc2e\\\\uc544\\\\uc694\", \"Source\": \"\\\\uc1fc\\\\ud551\\\\ubab0\", \"Domain\": \"\\\\ud328\\\\uc158\", \"MainCategory\": \"\\\\uc5ec\\\\uc131\\\\uc758\\\\ub958\", \"ProductName\": \"OO \\\\uc6b8\\\\ube14\\\\ub79c\\\\ub514\\\\ub4dc \\\\uc5ec\\\\uc131 \\\\ub2c8\\\\ud2b8 3\\\\uc885\", \"ReviewScore\": \"100\", \"Syllable\": \"40\", \"Word\": \"8\", \"RDate\": \"20210919\", \"GeneralPolarity\": \"1\", \"Aspects\": [{\"Aspect\": \"\\\\ub450\\\\uaed8\", \"SentimentText\": \"\\\\uc587\\\\uc544\\\\uc11c \\\\uc785\\\\uae30\\\\uc88b\\\\uc544\\\\uc694\", \"SentimentWord\": \"2\", \"SentimentPolarity\": \"1\"}, {\"Aspect\": \"\\\\uac00\\\\uaca9\", \"SentimentText\": \"\\\\uac00\\\\uaca9\\\\ub300\\\\ube44 \\\\ub300\\\\ub9cc\\\\uc871\\\\uc785\\\\ub2c8\\\\ub2e4.\", \"SentimentWord\": \"2\", \"SentimentPolarity\": \"1\"}, {\"Aspect\": \"\\\\ucd09\\\\uac10\", \"SentimentText\": \"\\\\uac10\\\\ucd09\\\\ub3c4 \\\\uc88b\\\\uace0\", \"SentimentWord\": \"2\", \"SentimentPolarity\": \"1\"}, {\"Aspect\": \"\\\\ub514\\\\uc790\\\\uc778\", \"SentimentText\": \"\\\\ub514\\\\uc790\\\\uc778\\\\ub3c4 \\\\uad1c\\\\ucc2e\\\\uc544\\\\uc694\", \"SentimentWord\": \"2\", \"SentimentPolarity\": \"1\"}]}', metadata={'source': '/content/1-1.여성의류(1).json', 'seq_num': 61}),\n",
              " Document(page_content='{\"Index\": \"180\", \"RawText\": \"\\\\uc587\\\\uc740\\\\ub370 \\\\uc785\\\\uc5b4\\\\ubcf4\\\\ub2c8 \\\\uaf64 \\\\ud3ec\\\\uadfc\\\\ud574\\\\uc694. \\\\uc7ac\\\\uc9c8\\\\ub3c4 \\\\ubd80\\\\ub4e4\\\\ubd80\\\\ub4e4\\\\ud55c\\\\uac8c \\\\uac10\\\\ucd09\\\\ub3c4 \\\\uad18\\\\uc548\\\\uad6c \\\\ub514\\\\uc790\\\\uc778\\\\ub3c4 \\\\uc2ec\\\\uc2ec\\\\ud558\\\\uc9c0 \\\\uc54a\\\\uac8c \\\\ud3ec\\\\uc778\\\\ud2b8 \\\\uc788\\\\uc5b4\\\\uc11c \\\\uc88b\\\\ub124\\\\uc694.\", \"Source\": \"\\\\uc1fc\\\\ud551\\\\ubab0\", \"Domain\": \"\\\\ud328\\\\uc158\", \"MainCategory\": \"\\\\uc5ec\\\\uc131\\\\uc758\\\\ub958\", \"ProductName\": \"OO \\\\uc6b8\\\\ube14\\\\ub79c\\\\ub514\\\\ub4dc \\\\uc5ec\\\\uc131 \\\\ub2c8\\\\ud2b8 3\\\\uc885\", \"ReviewScore\": \"100\", \"Syllable\": \"61\", \"Word\": \"14\", \"RDate\": \"20210915\", \"GeneralPolarity\": \"1\", \"Aspects\": [{\"Aspect\": \"\\\\ub450\\\\uaed8\", \"SentimentText\": \"\\\\uc587\\\\uc740\\\\ub370\", \"SentimentWord\": \"1\", \"SentimentPolarity\": \"1\"}, {\"Aspect\": \"\\\\uae30\\\\ub2a5\", \"SentimentText\": \"\\\\uaf64 \\\\ud3ec\\\\uadfc\\\\ud574\\\\uc694.\", \"SentimentWord\": \"2\", \"SentimentPolarity\": \"1\"}, {\"Aspect\": \"\\\\uc18c\\\\uc7ac\", \"SentimentText\": \"\\\\uc7ac\\\\uc9c8\\\\ub3c4 \\\\ubd80\\\\ub4e4\\\\ubd80\\\\ub4e4\\\\ud55c\\\\uac8c \", \"SentimentWord\": \"2\", \"SentimentPolarity\": \"1\"}, {\"Aspect\": \"\\\\ub514\\\\uc790\\\\uc778\", \"SentimentText\": \"\\\\ub514\\\\uc790\\\\uc778\\\\ub3c4 \\\\uc2ec\\\\uc2ec\\\\ud558\\\\uc9c0 \\\\uc54a\\\\uac8c \\\\ud3ec\\\\uc778\\\\ud2b8 \\\\uc788\\\\uc5b4\\\\uc11c \\\\uc88b\\\\ub124\\\\uc694.\", \"SentimentWord\": \"6\", \"SentimentPolarity\": \"1\"}, {\"Aspect\": \"\\\\ucd09\\\\uac10\", \"SentimentText\": \"\\\\uac10\\\\ucd09\\\\ub3c4 \\\\uad18\\\\uc548\\\\uad6c\", \"SentimentWord\": \"2\", \"SentimentPolarity\": \"1\"}]}', metadata={'source': '/content/1-1.여성의류(1).json', 'seq_num': 62}),\n",
              " Document(page_content='{\"Index\": \"182\", \"RawText\": \"\\\\uc0c9\\\\uac10\\\\ub3c4 \\\\uad7f \\\\uac00\\\\uaca9\\\\ub3c4 \\\\uad7f\\\\uc785\\\\ub2c8\\\\ub2e4\", \"Source\": \"\\\\uc1fc\\\\ud551\\\\ubab0\", \"Domain\": \"\\\\ud328\\\\uc158\", \"MainCategory\": \"\\\\uc5ec\\\\uc131\\\\uc758\\\\ub958\", \"ProductName\": \"OO \\\\ub77c** \\\\ub2c8\\\\ud2b8 4\\\\uc885\\\\uc138\\\\ud2b8\", \"ReviewScore\": \"100\", \"Syllable\": \"14\", \"Word\": \"4\", \"RDate\": \"20211123\", \"GeneralPolarity\": \"1\", \"Aspects\": [{\"Aspect\": \"\\\\uc0c9\\\\uc0c1\", \"SentimentText\": \"\\\\uc0c9\\\\uac10\\\\ub3c4 \\\\uad7f\", \"SentimentWord\": \"2\", \"SentimentPolarity\": \"1\"}, {\"Aspect\": \"\\\\uac00\\\\uaca9\", \"SentimentText\": \"\\\\uac00\\\\uaca9\\\\ub3c4 \\\\uad7f\\\\uc785\\\\ub2c8\\\\ub2e4\", \"SentimentWord\": \"2\", \"SentimentPolarity\": \"1\"}]}', metadata={'source': '/content/1-1.여성의류(1).json', 'seq_num': 63}),\n",
              " Document(page_content='{\"Index\": \"184\", \"RawText\": \"\\\\uc798 \\\\uc785\\\\uace0 \\\\uc788\\\\uc5b4\\\\uc694. \\\\ub530\\\\ub73b\\\\ud558\\\\uace0 \\\\ucc29\\\\uc6a9\\\\uac10\\\\uc774 \\\\ud3b8\\\\ud569\\\\ub2c8\\\\ub2e4\", \"Source\": \"\\\\uc1fc\\\\ud551\\\\ubab0\", \"Domain\": \"\\\\ud328\\\\uc158\", \"MainCategory\": \"\\\\uc5ec\\\\uc131\\\\uc758\\\\ub958\", \"ProductName\": \"OO \\\\uc6dc \\\\uc18c\\\\ud504\\\\ud2b8 \\\\ubd80** \\\\ub2c8\\\\ud2b8 3\\\\uc885\\\\uc138\\\\ud2b8\", \"ReviewScore\": \"100\", \"Syllable\": \"24\", \"Word\": \"6\", \"RDate\": \"20220106\", \"GeneralPolarity\": \"1\", \"Aspects\": [{\"Aspect\": \"\\\\uae30\\\\ub2a5\", \"SentimentText\": \"\\\\ub530\\\\ub73b\\\\ud558\\\\uace0\", \"SentimentWord\": \"1\", \"SentimentPolarity\": \"1\"}, {\"Aspect\": \"\\\\ucc29\\\\uc6a9\\\\uac10\", \"SentimentText\": \"\\\\ucc29\\\\uc6a9\\\\uac10\\\\uc774 \\\\ud3b8\\\\ud569\\\\ub2c8\\\\ub2e4\", \"SentimentWord\": \"2\", \"SentimentPolarity\": \"1\"}]}', metadata={'source': '/content/1-1.여성의류(1).json', 'seq_num': 64}),\n",
              " Document(page_content='{\"Index\": \"185\", \"RawText\": \"\\\\ubcf4\\\\ub4e4\\\\ubcf4\\\\ub4e4 \\\\ub118 \\\\uc88b\\\\uc544\\\\uc694.. \\\\uc774\\\\uac00\\\\uaca9\\\\uc5d0 3\\\\ubc8c\\\\uc774\\\\ub098.. \\\\uc9c4\\\\uc9dc \\\\ucd5c\\\\uace0..\", \"Source\": \"\\\\uc1fc\\\\ud551\\\\ubab0\", \"Domain\": \"\\\\ud328\\\\uc158\", \"MainCategory\": \"\\\\uc5ec\\\\uc131\\\\uc758\\\\ub958\", \"ProductName\": \"OO \\\\uc6dc \\\\uc18c\\\\ud504\\\\ud2b8 \\\\ubd80** \\\\ub2c8\\\\ud2b8 3\\\\uc885\\\\uc138\\\\ud2b8\", \"ReviewScore\": \"100\", \"Syllable\": \"32\", \"Word\": \"7\", \"RDate\": \"20211219\", \"GeneralPolarity\": \"1\", \"Aspects\": [{\"Aspect\": \"\\\\ucd09\\\\uac10\", \"SentimentText\": \"\\\\ubcf4\\\\ub4e4\\\\ubcf4\\\\ub4e4 \\\\ub118 \\\\uc88b\\\\uc544\\\\uc694..\", \"SentimentWord\": \"3\", \"SentimentPolarity\": \"1\"}, {\"Aspect\": \"\\\\uac00\\\\uaca9\", \"SentimentText\": \"\\\\uc774\\\\uac00\\\\uaca9\\\\uc5d0 3\\\\ubc8c\\\\uc774\\\\ub098.. \", \"SentimentWord\": \"2\", \"SentimentPolarity\": \"1\"}]}', metadata={'source': '/content/1-1.여성의류(1).json', 'seq_num': 65}),\n",
              " Document(page_content='{\"Index\": \"187\", \"RawText\": \"\\\\uae08\\\\uc561\\\\uc774   \\\\uc800\\\\ub834\\\\ud574\\\\ub3c4 \\\\uae30\\\\ub300\\\\ub97c  \\\\ud588\\\\uc5c8\\\\ub294\\\\ub370  \\\\uadf8  \\\\uac11\\\\uc5b4\\\\uce58\\\\ubc16\\\\uc5d0  \\\\uc548\\\\ub418\\\\ub294\\\\uad70\\\\uc694  \\\\uadf8\\\\ub9cc\\\\ud07c\\\\ub9cc    \\\\uc785\\\\uaca0\\\\uc2b5\\\\ub2c8\\\\ub2e4\", \"Source\": \"\\\\uc1fc\\\\ud551\\\\ubab0\", \"Domain\": \"\\\\ud328\\\\uc158\", \"MainCategory\": \"\\\\uc5ec\\\\uc131\\\\uc758\\\\ub958\", \"ProductName\": \"OO \\\\uc6dc \\\\uc18c\\\\ud504\\\\ud2b8 \\\\ubd80** \\\\ub2c8\\\\ud2b8 3\\\\uc885\\\\uc138\\\\ud2b8\", \"ReviewScore\": \"60\", \"Syllable\": \"52\", \"Word\": \"9\", \"RDate\": \"20211209\", \"GeneralPolarity\": \"-1\", \"Aspects\": [{\"Aspect\": \"\\\\uac00\\\\uaca9\", \"SentimentText\": \"\\\\uae08\\\\uc561\\\\uc774   \\\\uc800\\\\ub834\\\\ud574\\\\ub3c4\", \"SentimentWord\": \"2\", \"SentimentPolarity\": \"1\"}, {\"Aspect\": \"\\\\uac00\\\\uaca9\", \"SentimentText\": \"\\\\uadf8  \\\\uac11\\\\uc5b4\\\\uce58\\\\ubc16\\\\uc5d0  \\\\uc548\\\\ub418\\\\ub294\\\\uad70\\\\uc694 \", \"SentimentWord\": \"3\", \"SentimentPolarity\": \"-1\"}]}', metadata={'source': '/content/1-1.여성의류(1).json', 'seq_num': 66}),\n",
              " Document(page_content='{\"Index\": \"188\", \"RawText\": \"\\\\ucd94\\\\uc704\\\\ud0c0\\\\ub294 \\\\ub538\\\\uc544\\\\uc774\\\\uac00 \\\\ub530\\\\ub73b\\\\ud558\\\\uace0 \\\\ubaa9\\\\uc774   \\\\ub2f5\\\\ub2f5\\\\ud558\\\\uc9c0 \\\\uc54a\\\\ub2e4\\\\uace0 \\\\uc798\\\\uc785\\\\uace0 \\\\uc788\\\\uc5b4\\\\uc694~~~^^\", \"Source\": \"\\\\uc1fc\\\\ud551\\\\ubab0\", \"Domain\": \"\\\\ud328\\\\uc158\", \"MainCategory\": \"\\\\uc5ec\\\\uc131\\\\uc758\\\\ub958\", \"ProductName\": \"OO \\\\uc6dc \\\\uc18c\\\\ud504\\\\ud2b8 \\\\ubd80** \\\\ub2c8\\\\ud2b8 3\\\\uc885\\\\uc138\\\\ud2b8\", \"ReviewScore\": \"100\", \"Syllable\": \"41\", \"Word\": \"8\", \"RDate\": \"20220108\", \"GeneralPolarity\": \"1\", \"Aspects\": [{\"Aspect\": \"\\\\uae30\\\\ub2a5\", \"SentimentText\": \"\\\\ub530\\\\ub73b\\\\ud558\\\\uace0\", \"SentimentWord\": \"1\", \"SentimentPolarity\": \"1\"}, {\"Aspect\": \"\\\\ucc29\\\\uc6a9\\\\uac10\", \"SentimentText\": \"\\\\ubaa9\\\\uc774   \\\\ub2f5\\\\ub2f5\\\\ud558\\\\uc9c0 \\\\uc54a\\\\ub2e4\\\\uace0\", \"SentimentWord\": \"3\", \"SentimentPolarity\": \"1\"}]}', metadata={'source': '/content/1-1.여성의류(1).json', 'seq_num': 67}),\n",
              " Document(page_content='{\"Index\": \"190\", \"RawText\": \"\\\\ubd80\\\\ub4e4\\\\ubd80\\\\ub4e4 \\\\ud3ec\\\\uadfc\\\\ud558\\\\uace0 \\\\uac00\\\\ubccd\\\\uace0 \\\\ub530\\\\ub73b\\\\ud574\\\\uc694 \\\\uc0c9\\\\uc0c1\\\\ub3c4 \\\\ub2e4 \\\\ub9d8\\\\uc5d0 \\\\ub4dc\\\\ub124\\\\uc694\", \"Source\": \"\\\\uc1fc\\\\ud551\\\\ubab0\", \"Domain\": \"\\\\ud328\\\\uc158\", \"MainCategory\": \"\\\\uc5ec\\\\uc131\\\\uc758\\\\ub958\", \"ProductName\": \"OO \\\\uc6dc \\\\uc18c\\\\ud504\\\\ud2b8 \\\\ubd80** \\\\ub2c8\\\\ud2b8 3\\\\uc885\\\\uc138\\\\ud2b8\", \"ReviewScore\": \"100\", \"Syllable\": \"31\", \"Word\": \"8\", \"RDate\": \"20211226\", \"GeneralPolarity\": \"1\", \"Aspects\": [{\"Aspect\": \"\\\\ucd09\\\\uac10\", \"SentimentText\": \"\\\\ubd80\\\\ub4e4\\\\ubd80\\\\ub4e4 \\\\ud3ec\\\\uadfc\\\\ud558\\\\uace0\", \"SentimentWord\": \"2\", \"SentimentPolarity\": \"1\"}, {\"Aspect\": \"\\\\ubb34\\\\uac8c\", \"SentimentText\": \"\\\\uac00\\\\ubccd\\\\uace0\", \"SentimentWord\": \"1\", \"SentimentPolarity\": \"1\"}, {\"Aspect\": \"\\\\uae30\\\\ub2a5\", \"SentimentText\": \"\\\\ub530\\\\ub73b\\\\ud574\\\\uc694\", \"SentimentWord\": \"1\", \"SentimentPolarity\": \"1\"}, {\"Aspect\": \"\\\\uc0c9\\\\uc0c1\", \"SentimentText\": \"\\\\uc0c9\\\\uc0c1\\\\ub3c4 \\\\ub2e4 \\\\ub9d8\\\\uc5d0 \\\\ub4dc\\\\ub124\\\\uc694\", \"SentimentWord\": \"4\", \"SentimentPolarity\": \"1\"}]}', metadata={'source': '/content/1-1.여성의류(1).json', 'seq_num': 68}),\n",
              " Document(page_content='{\"Index\": \"192\", \"RawText\": \"\\\\ub108\\\\ubb34 \\\\ub530\\\\ub73b\\\\ud558\\\\uace0 \\\\uc0c9\\\\uae54\\\\ub3c4 \\\\uc774\\\\uc058\\\\uace0 \\\\ub2e4 \\\\ub9cc\\\\uc871\\\\ud569\\\\ub2c8\\\\ub2e4 \\\\uac10\\\\uc0ac\\\\ud569\\\\ub2c8\\\\ub2e4 \\\\uc798\\\\uc785\\\\uc744\\\\uaed8\\\\uc694\", \"Source\": \"\\\\uc1fc\\\\ud551\\\\ubab0\", \"Domain\": \"\\\\ud328\\\\uc158\", \"MainCategory\": \"\\\\uc5ec\\\\uc131\\\\uc758\\\\ub958\", \"ProductName\": \"OO \\\\uc6dc \\\\uc18c\\\\ud504\\\\ud2b8 \\\\ubd80** \\\\ub2c8\\\\ud2b8 3\\\\uc885\\\\uc138\\\\ud2b8\", \"ReviewScore\": \"100\", \"Syllable\": \"35\", \"Word\": \"8\", \"RDate\": \"20211216\", \"GeneralPolarity\": \"1\", \"Aspects\": [{\"Aspect\": \"\\\\uae30\\\\ub2a5\", \"SentimentText\": \"\\\\ub108\\\\ubb34 \\\\ub530\\\\ub73b\\\\ud558\\\\uace0\", \"SentimentWord\": \"2\", \"SentimentPolarity\": \"1\"}, {\"Aspect\": \"\\\\uc0c9\\\\uc0c1\", \"SentimentText\": \"\\\\uc0c9\\\\uae54\\\\ub3c4 \\\\uc774\\\\uc058\\\\uace0 \\\\ub2e4 \\\\ub9cc\\\\uc871\\\\ud569\\\\ub2c8\\\\ub2e4\", \"SentimentWord\": \"4\", \"SentimentPolarity\": \"1\"}]}', metadata={'source': '/content/1-1.여성의류(1).json', 'seq_num': 69}),\n",
              " Document(page_content='{\"Index\": \"193\", \"RawText\": \"\\\\ubd80\\\\ud074\\\\ub2c8\\\\ud2b8 \\\\ub530\\\\ub73b\\\\ud558\\\\uace0 \\\\ucd09\\\\uac10\\\\uc774 \\\\ubd80\\\\ub4dc\\\\ub7ec\\\\uc6cc\\\\uc694 \\\\ubcf4\\\\ud480\\\\uc774 \\\\uc77c\\\\uc5b4\\\\ub098\\\\uc9c0  \\\\uc54a\\\\uc558\\\\uc73c\\\\uba74 \\\\uc88b\\\\uaca0\\\\uc5b4\\\\uc694\", \"Source\": \"\\\\uc1fc\\\\ud551\\\\ubab0\", \"Domain\": \"\\\\ud328\\\\uc158\", \"MainCategory\": \"\\\\uc5ec\\\\uc131\\\\uc758\\\\ub958\", \"ProductName\": \"OO \\\\uc6dc \\\\uc18c\\\\ud504\\\\ud2b8 \\\\ubd80** \\\\ub2c8\\\\ud2b8 3\\\\uc885\\\\uc138\\\\ud2b8\", \"ReviewScore\": \"80\", \"Syllable\": \"39\", \"Word\": \"8\", \"RDate\": \"20211215\", \"GeneralPolarity\": \"1\", \"Aspects\": [{\"Aspect\": \"\\\\uae30\\\\ub2a5\", \"SentimentText\": \"\\\\ub530\\\\ub73b\\\\ud558\\\\uace0\", \"SentimentWord\": \"1\", \"SentimentPolarity\": \"1\"}, {\"Aspect\": \"\\\\ucd09\\\\uac10\", \"SentimentText\": \"\\\\ucd09\\\\uac10\\\\uc774 \\\\ubd80\\\\ub4dc\\\\ub7ec\\\\uc6cc\\\\uc694\", \"SentimentWord\": \"2\", \"SentimentPolarity\": \"1\"}]}', metadata={'source': '/content/1-1.여성의류(1).json', 'seq_num': 70}),\n",
              " Document(page_content='{\"Index\": \"198\", \"RawText\": \"\\\\uc2f8\\\\uc774\\\\uc988 \\\\uc5c6\\\\uc5b4\\\\uc11c \\\\uc548\\\\uc0ac\\\\ub824\\\\ub2e4\\\\ud070\\\\uc0ac\\\\uc774\\\\uc988\\\\ub85c \\\\uad6c\\\\ub9e4\\\\ud558\\\\ub77c\\\\ub294 \\\\uc1fc\\\\ud638\\\\uc2a4\\\\ud2b8\\\\ub2d8\\\\ub9d0\\\\ubbff\\\\uace0 \\\\uc0c0\\\\ub294\\\\ub370 \\\\ub108\\\\ubb34 \\\\ud06c\\\\ub124\\\\uc694 \\\\ud2b9\\\\ud788 \\\\uac08\\\\uc0c9\\\\uc740 \\\\ubaa9\\\\uc774 \\\\ub108\\\\ubb34 \\\\ucee4\\\\uc11c \\\\uc774\\\\uc0c1\\\\ud574\\\\ubcf4\\\\uc5ec\\\\uc694 \\\\ubcf4\\\\ud480\\\\ub3c4 \\\\ub9ce\\\\uc774\\\\ub098\\\\uace0\", \"Source\": \"\\\\uc1fc\\\\ud551\\\\ubab0\", \"Domain\": \"\\\\ud328\\\\uc158\", \"MainCategory\": \"\\\\uc5ec\\\\uc131\\\\uc758\\\\ub958\", \"ProductName\": \"OO \\\\uc6dc \\\\uc18c\\\\ud504\\\\ud2b8 \\\\ubd80** \\\\ub2c8\\\\ud2b8 3\\\\uc885\\\\uc138\\\\ud2b8\", \"ReviewScore\": \"50\", \"Syllable\": \"75\", \"Word\": \"16\", \"RDate\": \"20211215\", \"GeneralPolarity\": \"-1\", \"Aspects\": [{\"Aspect\": \"\\\\uc0ac\\\\uc774\\\\uc988\", \"SentimentText\": \"\\\\ub108\\\\ubb34 \\\\ud06c\\\\ub124\\\\uc694\", \"SentimentWord\": \"2\", \"SentimentPolarity\": \"-1\"}, {\"Aspect\": \"\\\\ud54f\", \"SentimentText\": \"\\\\uac08\\\\uc0c9\\\\uc740 \\\\ubaa9\\\\uc774 \\\\ub108\\\\ubb34 \\\\ucee4\\\\uc11c \\\\uc774\\\\uc0c1\\\\ud574\\\\ubcf4\\\\uc5ec\\\\uc694\", \"SentimentWord\": \"5\", \"SentimentPolarity\": \"-1\"}, {\"Aspect\": \"\\\\ud488\\\\uc9c8\", \"SentimentText\": \"\\\\ubcf4\\\\ud480\\\\ub3c4 \\\\ub9ce\\\\uc774\\\\ub098\\\\uace0\", \"SentimentWord\": \"2\", \"SentimentPolarity\": \"-1\"}]}', metadata={'source': '/content/1-1.여성의류(1).json', 'seq_num': 71}),\n",
              " Document(page_content='{\"Index\": \"201\", \"RawText\": \"\\\\uae38\\\\uc774\\\\uac10 \\\\uc5c9\\\\ub369\\\\uc774 \\\\ub36e\\\\uc5ec \\\\uad1c\\\\ucd98. \\\\uc824 \\\\ud070 \\\\uc2f8\\\\uc774\\\\uc988\\\\uc5ec\\\\uc11c\\\\uc778\\\\uc9c0 \\\\ud314\\\\uae38\\\\uc774\\\\uac00 \\\\uae38\\\\uace0 \\\\ud1b5\\\\uc774 \\\\ub113\\\\uc5b4 \\\\ubcc4\\\\ud558\\\\ub098 \\\\ube8c. \\\\uac00\\\\uaca9\\\\ub300\\\\ube44 \\\\ub9c8\\\\uc74c\\\\uc5d0 \\\\ub4ec.\", \"Source\": \"\\\\uc1fc\\\\ud551\\\\ubab0\", \"Domain\": \"\\\\ud328\\\\uc158\", \"MainCategory\": \"\\\\uc5ec\\\\uc131\\\\uc758\\\\ub958\", \"ProductName\": \"OO \\\\uc6dc \\\\uc18c\\\\ud504\\\\ud2b8 \\\\ubd80** \\\\ub2c8\\\\ud2b8 3\\\\uc885\\\\uc138\\\\ud2b8\", \"ReviewScore\": \"80\", \"Syllable\": \"59\", \"Word\": \"16\", \"RDate\": \"20211214\", \"GeneralPolarity\": \"1\", \"Aspects\": [{\"Aspect\": \"\\\\uae38\\\\uc774\", \"SentimentText\": \"\\\\uae38\\\\uc774\\\\uac10 \\\\uc5c9\\\\ub369\\\\uc774 \\\\ub36e\\\\uc5ec \\\\uad1c\\\\ucd98.\", \"SentimentWord\": \"4\", \"SentimentPolarity\": \"1\"}, {\"Aspect\": \"\\\\uae38\\\\uc774\", \"SentimentText\": \"\\\\ud314\\\\uae38\\\\uc774\\\\uac00 \\\\uae38\\\\uace0\", \"SentimentWord\": \"2\", \"SentimentPolarity\": \"-1\"}, {\"Aspect\": \"\\\\uc0ac\\\\uc774\\\\uc988\", \"SentimentText\": \"\\\\ud1b5\\\\uc774 \\\\ub113\\\\uc5b4 \\\\ubcc4\\\\ud558\\\\ub098 \\\\ube8c.\", \"SentimentWord\": \"4\", \"SentimentPolarity\": \"-1\"}, {\"Aspect\": \"\\\\uac00\\\\uaca9\", \"SentimentText\": \"\\\\uac00\\\\uaca9\\\\ub300\\\\ube44 \\\\ub9c8\\\\uc74c\\\\uc5d0 \\\\ub4ec.\", \"SentimentWord\": \"3\", \"SentimentPolarity\": \"1\"}]}', metadata={'source': '/content/1-1.여성의류(1).json', 'seq_num': 72}),\n",
              " Document(page_content='{\"Index\": \"203\", \"RawText\": \"\\\\ubaa9\\\\ubd80\\\\ubd84 \\\\ub514\\\\uc790\\\\uc778\\\\uc774  \\\\uc5b4\\\\uc800\\\\uca61 \\\\uc0ac\\\\uc774\\\\uc988\\\\uc5c6\\\\uc5b4\\\\uc11c \\\\uc824\\\\ud070\\\\uc0ac\\\\uc774\\\\uc988 \\\\uc8fc\\\\ubb38 \\\\uae38\\\\uc774\\\\ub294\\\\uc9e7\\\\uace0 \\\\ud488\\\\uc740 \\\\uac81\\\\ub098\\\\ud070...\", \"Source\": \"\\\\uc1fc\\\\ud551\\\\ubab0\", \"Domain\": \"\\\\ud328\\\\uc158\", \"MainCategory\": \"\\\\uc5ec\\\\uc131\\\\uc758\\\\ub958\", \"ProductName\": \"OO \\\\uc6dc \\\\uc18c\\\\ud504\\\\ud2b8 \\\\ubd80** \\\\ub2c8\\\\ud2b8 3\\\\uc885\\\\uc138\\\\ud2b8\", \"ReviewScore\": \"50\", \"Syllable\": \"45\", \"Word\": \"9\", \"RDate\": \"20211210\", \"GeneralPolarity\": \"-1\", \"Aspects\": [{\"Aspect\": \"\\\\ub514\\\\uc790\\\\uc778\", \"SentimentText\": \"\\\\ubaa9\\\\ubd80\\\\ubd84 \\\\ub514\\\\uc790\\\\uc778\\\\uc774  \\\\uc5b4\\\\uc800\\\\uca61\", \"SentimentWord\": \"3\", \"SentimentPolarity\": \"-1\"}, {\"Aspect\": \"\\\\uae38\\\\uc774\", \"SentimentText\": \"\\\\uae38\\\\uc774\\\\ub294\\\\uc9e7\\\\uace0\", \"SentimentWord\": \"1\", \"SentimentPolarity\": \"-1\"}, {\"Aspect\": \"\\\\uc0ac\\\\uc774\\\\uc988\", \"SentimentText\": \"\\\\ud488\\\\uc740 \\\\uac81\\\\ub098\\\\ud070...\", \"SentimentWord\": \"2\", \"SentimentPolarity\": \"-1\"}]}', metadata={'source': '/content/1-1.여성의류(1).json', 'seq_num': 73}),\n",
              " Document(page_content='{\"Index\": \"206\", \"RawText\": \"\\\\uc14b\\\\ub2e4\\\\uc815\\\\ub9d0\\\\uc88b\\\\uc544\\\\uc694.\\\\uc804\\\\ud55c\\\\ub2e8\\\\uacc4\\\\ub0b4\\\\ub824\\\\uc640\\\\uc11c\\\\uc8fc\\\\ubb38\\\\ud588\\\\uc9c0\\\\ub9cc\\\\ub298\\\\uc5b4\\\\ub09c\\\\uae4c\\\\ubc14\\\\uc11c.\\\\uc798\\\\ub9de\\\\uc544\\\\uc694.\\\\ubd80\\\\ub4dc\\\\ub7fd\\\\uace0.\\\\uac15\\\\ucd94..\", \"Source\": \"\\\\uc1fc\\\\ud551\\\\ubab0\", \"Domain\": \"\\\\ud328\\\\uc158\", \"MainCategory\": \"\\\\uc5ec\\\\uc131\\\\uc758\\\\ub958\", \"ProductName\": \"OO \\\\uc6dc \\\\uc18c\\\\ud504\\\\ud2b8 \\\\ubd80** \\\\ub2c8\\\\ud2b8 3\\\\uc885\\\\uc138\\\\ud2b8\", \"ReviewScore\": \"100\", \"Syllable\": \"42\", \"Word\": \"1\", \"RDate\": \"20220126\", \"GeneralPolarity\": \"1\", \"Aspects\": [{\"Aspect\": \"\\\\ud488\\\\uc9c8\", \"SentimentText\": \"\\\\ub298\\\\uc5b4\\\\ub09c\\\\uae4c\\\\ubc14\\\\uc11c.\", \"SentimentWord\": \"1\", \"SentimentPolarity\": \"0\"}, {\"Aspect\": \"\\\\uc0ac\\\\uc774\\\\uc988\", \"SentimentText\": \"\\\\uc798\\\\ub9de\\\\uc544\\\\uc694.\", \"SentimentWord\": \"1\", \"SentimentPolarity\": \"1\"}, {\"Aspect\": \"\\\\ucd09\\\\uac10\", \"SentimentText\": \"\\\\ubd80\\\\ub4dc\\\\ub7fd\\\\uace0.\", \"SentimentWord\": \"1\", \"SentimentPolarity\": \"1\"}]}', metadata={'source': '/content/1-1.여성의류(1).json', 'seq_num': 74}),\n",
              " Document(page_content='{\"Index\": \"207\", \"RawText\": \"\\\\ub77c\\\\uc774\\\\ube0c\\\\ubc29\\\\uc1a1\\\\ubcf4\\\\uace0 \\\\uc0c0\\\\ub124\\\\uc694 66\\\\uc5c6\\\\uc5b4 77\\\\ud588\\\\ub294\\\\ub370 \\\\uc624\\\\ubc84\\\\ud54f\\\\uc73c\\\\ub85c \\\\uc88b\\\\ub124\\\\uc694. \\\\ub4dc\\\\ub77c\\\\uc774\\\\ud06c\\\\ub9ac\\\\ub2dd\\\\ud558\\\\ub77c\\\\ud558\\\\ub294\\\\ub370 \\\\uadf8\\\\ub0e5\\\\uc6b8\\\\uc0f4\\\\ud478\\\\ud574\\\\uc11c \\\\uc785\\\\uc5c8\\\\ub294\\\\ub370 \\\\uad1c\\\\ucc2e\\\\ub124\\\\uc694\", \"Source\": \"\\\\uc1fc\\\\ud551\\\\ubab0\", \"Domain\": \"\\\\ud328\\\\uc158\", \"MainCategory\": \"\\\\uc5ec\\\\uc131\\\\uc758\\\\ub958\", \"ProductName\": \"OO \\\\uc6dc \\\\uc18c\\\\ud504\\\\ud2b8 \\\\ubd80** \\\\ub2c8\\\\ud2b8 3\\\\uc885\\\\uc138\\\\ud2b8\", \"ReviewScore\": \"100\", \"Syllable\": \"63\", \"Word\": \"10\", \"RDate\": \"20211220\", \"GeneralPolarity\": \"1\", \"Aspects\": [{\"Aspect\": \"\\\\uc0ac\\\\uc774\\\\uc988\", \"SentimentText\": \"\\\\uc624\\\\ubc84\\\\ud54f\\\\uc73c\\\\ub85c \\\\uc88b\\\\ub124\\\\uc694.\", \"SentimentWord\": \"2\", \"SentimentPolarity\": \"1\"}, {\"Aspect\": \"\\\\uc18c\\\\uc7ac\", \"SentimentText\": \"\\\\uadf8\\\\ub0e5\\\\uc6b8\\\\uc0f4\\\\ud478\\\\ud574\\\\uc11c \\\\uc785\\\\uc5c8\\\\ub294\\\\ub370 \\\\uad1c\\\\ucc2e\\\\ub124\\\\uc694\", \"SentimentWord\": \"3\", \"SentimentPolarity\": \"1\"}]}', metadata={'source': '/content/1-1.여성의류(1).json', 'seq_num': 75}),\n",
              " Document(page_content='{\"Index\": \"209\", \"RawText\": \"\\\\uac00\\\\uaca9\\\\uc774 \\\\ucc29\\\\ud574\\\\uc11c \\\\uad6c\\\\ub9e4\\\\ud558\\\\uae30\\\\ub3c4 \\\\ud588\\\\ub294\\\\ub370 \\\\uc18c\\\\ud504\\\\ud2b8\\\\ub77c\\\\ub294 \\\\uc774\\\\ub984\\\\ub2f5\\\\uac8c \\\\ubd80\\\\ub4dc\\\\ub7fd\\\\uace0 \\\\ud3b8\\\\uc548\\\\ud558\\\\ub124\\\\uc694~ \\\\uc0c9\\\\uc0c1\\\\ub3c4 \\\\ucc28\\\\ubd84\\\\ud558\\\\ub2c8 \\\\ub2e4 \\\\uc88b\\\\uc544\\\\ud558\\\\ub294\\\\uac70\\\\ub77c \\\\ub9d8\\\\uc5d0 \\\\ub4ed\\\\ub2c8\\\\ub2e4~\", \"Source\": \"\\\\uc1fc\\\\ud551\\\\ubab0\", \"Domain\": \"\\\\ud328\\\\uc158\", \"MainCategory\": \"\\\\uc5ec\\\\uc131\\\\uc758\\\\ub958\", \"ProductName\": \"OO \\\\uc6dc \\\\uc18c\\\\ud504\\\\ud2b8 \\\\ubd80** \\\\ub2c8\\\\ud2b8 3\\\\uc885\\\\uc138\\\\ud2b8\", \"ReviewScore\": \"100\", \"Syllable\": \"66\", \"Word\": \"14\", \"RDate\": \"20211211\", \"GeneralPolarity\": \"1\", \"Aspects\": [{\"Aspect\": \"\\\\ucd09\\\\uac10\", \"SentimentText\": \"\\\\ubd80\\\\ub4dc\\\\ub7fd\\\\uace0\", \"SentimentWord\": \"1\", \"SentimentPolarity\": \"1\"}, {\"Aspect\": \"\\\\ucc29\\\\uc6a9\\\\uac10\", \"SentimentText\": \"\\\\ud3b8\\\\uc548\\\\ud558\\\\ub124\\\\uc694~\", \"SentimentWord\": \"1\", \"SentimentPolarity\": \"1\"}, {\"Aspect\": \"\\\\uc0c9\\\\uc0c1\", \"SentimentText\": \"\\\\uc0c9\\\\uc0c1\\\\ub3c4 \\\\ucc28\\\\ubd84\\\\ud558\\\\ub2c8 \\\\ub2e4 \\\\uc88b\\\\uc544\\\\ud558\\\\ub294\\\\uac70\\\\ub77c \\\\ub9d8\\\\uc5d0 \\\\ub4ed\\\\ub2c8\\\\ub2e4~\", \"SentimentWord\": \"6\", \"SentimentPolarity\": \"1\"}, {\"Aspect\": \"\\\\uac00\\\\uaca9\", \"SentimentText\": \"\\\\uac00\\\\uaca9\\\\uc774 \\\\ucc29\\\\ud574\\\\uc11c \\\\uad6c\\\\ub9e4\\\\ud558\\\\uae30\\\\ub3c4 \\\\ud588\\\\ub294\\\\ub370\", \"SentimentWord\": \"4\", \"SentimentPolarity\": \"1\"}]}', metadata={'source': '/content/1-1.여성의류(1).json', 'seq_num': 76}),\n",
              " Document(page_content='{\"Index\": \"210\", \"RawText\": \"\\\\uc637\\\\uc774\\\\ub9ce\\\\uc774\\\\ud06c\\\\ub124\\\\uc694.\\\\uac10\\\\ucd09\\\\uc774 \\\\ub9ce\\\\uc774 \\\\uae4c\\\\ub04c\\\\uac70\\\\ub824\\\\uc694\", \"Source\": \"\\\\uc1fc\\\\ud551\\\\ubab0\", \"Domain\": \"\\\\ud328\\\\uc158\", \"MainCategory\": \"\\\\uc5ec\\\\uc131\\\\uc758\\\\ub958\", \"ProductName\": \"OO \\\\uc6dc \\\\uc18c\\\\ud504\\\\ud2b8 \\\\ubd80** \\\\ub2c8\\\\ud2b8 3\\\\uc885\\\\uc138\\\\ud2b8\", \"ReviewScore\": \"60\", \"Syllable\": \"20\", \"Word\": \"3\", \"RDate\": \"20220210\", \"GeneralPolarity\": \"-1\", \"Aspects\": [{\"Aspect\": \"\\\\uc0ac\\\\uc774\\\\uc988\", \"SentimentText\": \"\\\\ub9ce\\\\uc774\\\\ud06c\\\\ub124\\\\uc694.\", \"SentimentWord\": \"1\", \"SentimentPolarity\": \"-1\"}, {\"Aspect\": \"\\\\ucd09\\\\uac10\", \"SentimentText\": \"\\\\uac10\\\\ucd09\\\\uc774 \\\\ub9ce\\\\uc774 \\\\uae4c\\\\ub04c\\\\uac70\\\\ub824\\\\uc694\", \"SentimentWord\": \"3\", \"SentimentPolarity\": \"-1\"}]}', metadata={'source': '/content/1-1.여성의류(1).json', 'seq_num': 77}),\n",
              " Document(page_content='{\"Index\": \"212\", \"RawText\": \"\\\\uc0dd\\\\uac1d\\\\ubcf4\\\\ub2e4 \\\\uc2e0\\\\ucd95\\\\uc131 \\\\ub35c\\\\ud574\\\\uc11c \\\\ubaa9\\\\uc774 \\\\ub07c\\\\uc5b4\\\\uc694\", \"Source\": \"\\\\uc1fc\\\\ud551\\\\ubab0\", \"Domain\": \"\\\\ud328\\\\uc158\", \"MainCategory\": \"\\\\uc5ec\\\\uc131\\\\uc758\\\\ub958\", \"ProductName\": \"OO \\\\uc6dc \\\\uc18c\\\\ud504\\\\ud2b8 \\\\ubd80** \\\\ub2c8\\\\ud2b8 3\\\\uc885\\\\uc138\\\\ud2b8\", \"ReviewScore\": \"50\", \"Syllable\": \"19\", \"Word\": \"5\", \"RDate\": \"20220102\", \"GeneralPolarity\": \"-1\", \"Aspects\": [{\"Aspect\": \"\\\\uc2e0\\\\ucd95\\\\uc131\", \"SentimentText\": \"\\\\uc2e0\\\\ucd95\\\\uc131 \\\\ub35c\\\\ud574\\\\uc11c\", \"SentimentWord\": \"2\", \"SentimentPolarity\": \"-1\"}, {\"Aspect\": \"\\\\ud54f\", \"SentimentText\": \"\\\\ubaa9\\\\uc774 \\\\ub07c\\\\uc5b4\\\\uc694\", \"SentimentWord\": \"2\", \"SentimentPolarity\": \"-1\"}]}', metadata={'source': '/content/1-1.여성의류(1).json', 'seq_num': 78}),\n",
              " Document(page_content='{\"Index\": \"213\", \"RawText\": \"\\\\uc798\\\\ub298\\\\uc5b4\\\\ub098\\\\uc11c \\\\ud3b8\\\\ud558\\\\uace0 \\\\ubd80\\\\ub4dc\\\\ub7ec\\\\uc6c0 \\\\ub4dc\\\\ub77c\\\\uc774\\\\ud06c\\\\ub9ac\\\\ub2dd \\\\ud574\\\\uc57c\\\\ud558\\\\ub294\\\\uac83\\\\uc774 \\\\uc544\\\\uc26c\\\\uc6c0\", \"Source\": \"\\\\uc1fc\\\\ud551\\\\ubab0\", \"Domain\": \"\\\\ud328\\\\uc158\", \"MainCategory\": \"\\\\uc5ec\\\\uc131\\\\uc758\\\\ub958\", \"ProductName\": \"OO \\\\uc6dc \\\\uc18c\\\\ud504\\\\ud2b8 \\\\ubd80** \\\\ub2c8\\\\ud2b8 3\\\\uc885\\\\uc138\\\\ud2b8\", \"ReviewScore\": \"100\", \"Syllable\": \"32\", \"Word\": \"6\", \"RDate\": \"20211213\", \"GeneralPolarity\": \"0\", \"Aspects\": [{\"Aspect\": \"\\\\uc2e0\\\\ucd95\\\\uc131\", \"SentimentText\": \"\\\\uc798\\\\ub298\\\\uc5b4\\\\ub098\\\\uc11c\", \"SentimentWord\": \"1\", \"SentimentPolarity\": \"1\"}, {\"Aspect\": \"\\\\ucc29\\\\uc6a9\\\\uac10\", \"SentimentText\": \"\\\\ud3b8\\\\ud558\\\\uace0\", \"SentimentWord\": \"1\", \"SentimentPolarity\": \"1\"}, {\"Aspect\": \"\\\\ucd09\\\\uac10\", \"SentimentText\": \"\\\\ubd80\\\\ub4dc\\\\ub7ec\\\\uc6c0\", \"SentimentWord\": \"1\", \"SentimentPolarity\": \"1\"}, {\"Aspect\": \"\\\\uc18c\\\\uc7ac\", \"SentimentText\": \"\\\\ub4dc\\\\ub77c\\\\uc774\\\\ud06c\\\\ub9ac\\\\ub2dd \\\\ud574\\\\uc57c\\\\ud558\\\\ub294\\\\uac83\\\\uc774 \\\\uc544\\\\uc26c\\\\uc6c0\", \"SentimentWord\": \"3\", \"SentimentPolarity\": \"-1\"}]}', metadata={'source': '/content/1-1.여성의류(1).json', 'seq_num': 79}),\n",
              " Document(page_content='{\"Index\": \"214\", \"RawText\": \"\\\\ubd80\\\\ub4dc\\\\ub7fd\\\\uace0 \\\\ub109\\\\ub109\\\\ud55c \\\\ud54f \\\\ub9d8\\\\uc5d0\\\\ub4e4\\\\uba70 \\\\ubb34\\\\uc5c7\\\\ubcf4\\\\ub2e4\\\\ub3c4 \\\\uac00\\\\uc131\\\\ube44\\\\uac00 \\\\uc88b\\\\uc544\\\\uc694~~^^\\\\uae30\\\\ub300 \\\\uc774\\\\uc0c1\\\\uc785\\\\ub2c8\\\\ub2e4~~.\", \"Source\": \"\\\\uc1fc\\\\ud551\\\\ubab0\", \"Domain\": \"\\\\ud328\\\\uc158\", \"MainCategory\": \"\\\\uc5ec\\\\uc131\\\\uc758\\\\ub958\", \"ProductName\": \"OO \\\\uc6dc \\\\uc18c\\\\ud504\\\\ud2b8 \\\\ubd80** \\\\ub2c8\\\\ud2b8 3\\\\uc885\\\\uc138\\\\ud2b8\", \"ReviewScore\": \"100\", \"Syllable\": \"45\", \"Word\": \"8\", \"RDate\": \"20220205\", \"GeneralPolarity\": \"1\", \"Aspects\": [{\"Aspect\": \"\\\\ucd09\\\\uac10\", \"SentimentText\": \"\\\\ubd80\\\\ub4dc\\\\ub7fd\\\\uace0\", \"SentimentWord\": \"1\", \"SentimentPolarity\": \"1\"}, {\"Aspect\": \"\\\\ud54f\", \"SentimentText\": \"\\\\ub109\\\\ub109\\\\ud55c \\\\ud54f \\\\ub9d8\\\\uc5d0\\\\ub4e4\\\\uba70\", \"SentimentWord\": \"3\", \"SentimentPolarity\": \"1\"}, {\"Aspect\": \"\\\\uac00\\\\uaca9\", \"SentimentText\": \"\\\\uac00\\\\uc131\\\\ube44\\\\uac00 \\\\uc88b\\\\uc544\\\\uc694\", \"SentimentWord\": \"2\", \"SentimentPolarity\": \"1\"}]}', metadata={'source': '/content/1-1.여성의류(1).json', 'seq_num': 80}),\n",
              " Document(page_content='{\"Index\": \"215\", \"RawText\": \"\\\\uc798\\\\ubc1b\\\\uc558\\\\uc2b5\\\\ub2c8\\\\ub2e4  \\\\ub109\\\\ub109\\\\ud558\\\\uac8c \\\\uc785\\\\uc744\\\\ub824\\\\uace0 \\\\ud06c\\\\uac8c \\\\uc8fc\\\\ubb38\\\\ud588\\\\uc5b4\\\\uc694 \\\\ub530\\\\ub73b\\\\ud569\\\\ub2c8\\\\ub2e4 \\\\ubcf4\\\\ud480\\\\uc740 \\\\uc798 \\\\uc0dd\\\\uae30\\\\uaca0\\\\ub124\\\\uc694\", \"Source\": \"\\\\uc1fc\\\\ud551\\\\ubab0\", \"Domain\": \"\\\\ud328\\\\uc158\", \"MainCategory\": \"\\\\uc5ec\\\\uc131\\\\uc758\\\\ub958\", \"ProductName\": \"OO \\\\uc6dc \\\\uc18c\\\\ud504\\\\ud2b8 \\\\ubd80** \\\\ub2c8\\\\ud2b8 3\\\\uc885\\\\uc138\\\\ud2b8\", \"ReviewScore\": \"100\", \"Syllable\": \"44\", \"Word\": \"9\", \"RDate\": \"20220101\", \"GeneralPolarity\": \"0\", \"Aspects\": [{\"Aspect\": \"\\\\uae30\\\\ub2a5\", \"SentimentText\": \"\\\\ub530\\\\ub73b\\\\ud569\\\\ub2c8\\\\ub2e4 \", \"SentimentWord\": \"1\", \"SentimentPolarity\": \"1\"}, {\"Aspect\": \"\\\\ud488\\\\uc9c8\", \"SentimentText\": \"\\\\ubcf4\\\\ud480\\\\uc740 \\\\uc798 \\\\uc0dd\\\\uae30\\\\uaca0\\\\ub124\\\\uc694\", \"SentimentWord\": \"3\", \"SentimentPolarity\": \"-1\"}]}', metadata={'source': '/content/1-1.여성의류(1).json', 'seq_num': 81}),\n",
              " Document(page_content='{\"Index\": \"216\", \"RawText\": \"\\\\uc0ac\\\\uc774\\\\uc988 \\\\uc5c6\\\\uc5b4\\\\uc11c (\\\\uc1fc\\\\ud638\\\\uc2a4\\\\ud2b8\\\\ubd8499\\\\ucc29\\\\uc6a9\\\\ubcf4\\\\uace0)\\\\ucc28\\\\ub77c\\\\ub9ac \\\\ub8e8\\\\uc988\\\\ud558\\\\uac8c \\\\ud06c\\\\uac8c \\\\uc785\\\\uc744\\\\ub824\\\\uace0 99. \\\\uad6c\\\\uc785.  \\\\ud070\\\\uc0ac\\\\uc774\\\\uc988\\\\ub3c4 \\\\ub098\\\\uc058\\\\uc9c0 \\\\uc54a\\\\uc544\\\\uc694~~\\\\uac00\\\\uaca9\\\\uc0dd\\\\uac01\\\\ud558\\\\uba74 \\\\ub9cc\\\\uc871 \\\\ud569\\\\ub2c8\\\\ub2e4~~\\\\uac80\\\\uc815\\\\uc774 \\\\uc824 \\\\ub9d8\\\\uc5d0 \\\\ub4e4\\\\uc5b4\\\\uc694~~\", \"Source\": \"\\\\uc1fc\\\\ud551\\\\ubab0\", \"Domain\": \"\\\\ud328\\\\uc158\", \"MainCategory\": \"\\\\uc5ec\\\\uc131\\\\uc758\\\\ub958\", \"ProductName\": \"OO \\\\uc6dc \\\\uc18c\\\\ud504\\\\ud2b8 \\\\ubd80** \\\\ub2c8\\\\ud2b8 3\\\\uc885\\\\uc138\\\\ud2b8\", \"ReviewScore\": \"100\", \"Syllable\": \"91\", \"Word\": \"16\", \"RDate\": \"20211210\", \"GeneralPolarity\": \"1\", \"Aspects\": [{\"Aspect\": \"\\\\uc0ac\\\\uc774\\\\uc988\", \"SentimentText\": \"\\\\ub8e8\\\\uc988\\\\ud558\\\\uac8c \\\\ud06c\\\\uac8c \\\\uc785\\\\uc744\\\\ub824\\\\uace0 99. \\\\uad6c\\\\uc785.  \\\\ud070\\\\uc0ac\\\\uc774\\\\uc988\\\\ub3c4 \\\\ub098\\\\uc058\\\\uc9c0 \\\\uc54a\\\\uc544\\\\uc694~~\", \"SentimentWord\": \"8\", \"SentimentPolarity\": \"1\"}, {\"Aspect\": \"\\\\uac00\\\\uaca9\", \"SentimentText\": \"\\\\uac00\\\\uaca9\\\\uc0dd\\\\uac01\\\\ud558\\\\uba74 \\\\ub9cc\\\\uc871 \\\\ud569\\\\ub2c8\\\\ub2e4~~\", \"SentimentWord\": \"3\", \"SentimentPolarity\": \"1\"}, {\"Aspect\": \"\\\\uc0c9\\\\uc0c1\", \"SentimentText\": \"\\\\uac80\\\\uc815\\\\uc774 \\\\uc824 \\\\ub9d8\\\\uc5d0 \\\\ub4e4\\\\uc5b4\\\\uc694~~\", \"SentimentWord\": \"4\", \"SentimentPolarity\": \"1\"}]}', metadata={'source': '/content/1-1.여성의류(1).json', 'seq_num': 82}),\n",
              " Document(page_content='{\"Index\": \"218\", \"RawText\": \"\\\\ubc30\\\\uc1a1\\\\ub3c4\\\\ube60\\\\ub974\\\\uace0 \\\\uc637\\\\ub3c4 \\\\ub118 \\\\ub530\\\\ub73b\\\\ud558\\\\uace0 \\\\ud3ec\\\\uadfc\\\\ud558\\\\ub124\\\\uc694 \\\\uac00\\\\uaca9\\\\ub3c4 \\\\ucc29\\\\ud574\\\\uc11c \\\\ub118\\\\uc798\\\\uc0b0\\\\uac70 \\\\uac19\\\\uc544\\\\uc694  \\\\uc0ac\\\\uc774\\\\uc988\\\\ub3c4 \\\\ub109\\\\ub109\\\\ud558\\\\uace0 \\\\ud3b8\\\\uc548\\\\ud558\\\\uace0 \\\\uc88b\\\\uc544\\\\uc694\", \"Source\": \"\\\\uc1fc\\\\ud551\\\\ubab0\", \"Domain\": \"\\\\ud328\\\\uc158\", \"MainCategory\": \"\\\\uc5ec\\\\uc131\\\\uc758\\\\ub958\", \"ProductName\": \"OO \\\\uc6dc \\\\uc18c\\\\ud504\\\\ud2b8 \\\\ubd80** \\\\ub2c8\\\\ud2b8 3\\\\uc885\\\\uc138\\\\ud2b8\", \"ReviewScore\": \"100\", \"Syllable\": \"59\", \"Word\": \"13\", \"RDate\": \"20211210\", \"GeneralPolarity\": \"1\", \"Aspects\": [{\"Aspect\": \"\\\\uae30\\\\ub2a5\", \"SentimentText\": \"\\\\ub118 \\\\ub530\\\\ub73b\\\\ud558\\\\uace0 \", \"SentimentWord\": \"2\", \"SentimentPolarity\": \"1\"}, {\"Aspect\": \"\\\\ucd09\\\\uac10\", \"SentimentText\": \"\\\\ud3ec\\\\uadfc\\\\ud558\\\\ub124\\\\uc694\", \"SentimentWord\": \"1\", \"SentimentPolarity\": \"1\"}, {\"Aspect\": \"\\\\uac00\\\\uaca9\", \"SentimentText\": \"\\\\uac00\\\\uaca9\\\\ub3c4 \\\\ucc29\\\\ud574\\\\uc11c\", \"SentimentWord\": \"2\", \"SentimentPolarity\": \"1\"}, {\"Aspect\": \"\\\\uc0ac\\\\uc774\\\\uc988\", \"SentimentText\": \"\\\\uc0ac\\\\uc774\\\\uc988\\\\ub3c4 \\\\ub109\\\\ub109\\\\ud558\\\\uace0\", \"SentimentWord\": \"2\", \"SentimentPolarity\": \"1\"}, {\"Aspect\": \"\\\\ucc29\\\\uc6a9\\\\uac10\", \"SentimentText\": \"\\\\ud3b8\\\\uc548\\\\ud558\\\\uace0 \\\\uc88b\\\\uc544\\\\uc694\", \"SentimentWord\": \"2\", \"SentimentPolarity\": \"1\"}]}', metadata={'source': '/content/1-1.여성의류(1).json', 'seq_num': 83}),\n",
              " Document(page_content='{\"Index\": \"223\", \"RawText\": \"\\\\ub514\\\\uc790\\\\uc778\\\\ub3c4 \\\\ud2c0\\\\ub9ac\\\\uace0 \\\\uc5ec\\\\ub7ec\\\\uac00\\\\uc9c0 \\\\uc0c9\\\\uc0c1\\\\uc73c\\\\ub85c \\\\uc800\\\\ub834\\\\ud558\\\\uac8c \\\\uc0ac\\\\uc11c \\\\uc798\\\\uc785\\\\uace0\\\\uc788\\\\uc5b4\\\\uc694~~^^\", \"Source\": \"\\\\uc1fc\\\\ud551\\\\ubab0\", \"Domain\": \"\\\\ud328\\\\uc158\", \"MainCategory\": \"\\\\uc5ec\\\\uc131\\\\uc758\\\\ub958\", \"ProductName\": \"OO \\\\uc6dc \\\\uc18c\\\\ud504\\\\ud2b8 \\\\ubd80** \\\\ub2c8\\\\ud2b8 3\\\\uc885\\\\uc138\\\\ud2b8\", \"ReviewScore\": \"100\", \"Syllable\": \"37\", \"Word\": \"7\", \"RDate\": \"20220108\", \"GeneralPolarity\": \"1\", \"Aspects\": [{\"Aspect\": \"\\\\ub514\\\\uc790\\\\uc778\", \"SentimentText\": \"\\\\ub514\\\\uc790\\\\uc778\\\\ub3c4 \\\\ud2c0\\\\ub9ac\\\\uace0\", \"SentimentWord\": \"2\", \"SentimentPolarity\": \"1\"}, {\"Aspect\": \"\\\\uc0c9\\\\uc0c1\", \"SentimentText\": \"\\\\uc5ec\\\\ub7ec\\\\uac00\\\\uc9c0 \\\\uc0c9\\\\uc0c1\\\\uc73c\\\\ub85c\", \"SentimentWord\": \"2\", \"SentimentPolarity\": \"1\"}, {\"Aspect\": \"\\\\uac00\\\\uaca9\", \"SentimentText\": \"\\\\uc800\\\\ub834\\\\ud558\\\\uac8c \\\\uc0ac\\\\uc11c \\\\uc798\\\\uc785\\\\uace0\\\\uc788\\\\uc5b4\\\\uc694~~^^\", \"SentimentWord\": \"3\", \"SentimentPolarity\": \"1\"}]}', metadata={'source': '/content/1-1.여성의류(1).json', 'seq_num': 84}),\n",
              " Document(page_content='{\"Index\": \"224\", \"RawText\": \"\\\\uc800\\\\ub834\\\\ud558\\\\uac8c \\\\uad6c\\\\ub9e4\\\\ud588\\\\uc9c0\\\\ub9cc \\\\uc798 \\\\uc785\\\\uc744\\\\uac83 \\\\uac19\\\\uc544\\\\uc694 \\\\ubaa8\\\\ub450 \\\\ub2e4\\\\ub978 \\\\ub514\\\\uc790\\\\uc778\\\\uc774\\\\ub77c \\\\ub354 \\\\uc88b\\\\uc73c\\\\ub124\\\\uc694\", \"Source\": \"\\\\uc1fc\\\\ud551\\\\ubab0\", \"Domain\": \"\\\\ud328\\\\uc158\", \"MainCategory\": \"\\\\uc5ec\\\\uc131\\\\uc758\\\\ub958\", \"ProductName\": \"OO \\\\uc6dc \\\\uc18c\\\\ud504\\\\ud2b8 \\\\ubd80** \\\\ub2c8\\\\ud2b8 3\\\\uc885\\\\uc138\\\\ud2b8\", \"ReviewScore\": \"100\", \"Syllable\": \"39\", \"Word\": \"10\", \"RDate\": \"20211212\", \"GeneralPolarity\": \"1\", \"Aspects\": [{\"Aspect\": \"\\\\uac00\\\\uaca9\", \"SentimentText\": \"\\\\uc800\\\\ub834\\\\ud558\\\\uac8c \\\\uad6c\\\\ub9e4\\\\ud588\\\\uc9c0\\\\ub9cc \\\\uc798 \\\\uc785\\\\uc744\\\\uac83 \\\\uac19\\\\uc544\\\\uc694\", \"SentimentWord\": \"5\", \"SentimentPolarity\": \"1\"}, {\"Aspect\": \"\\\\ub514\\\\uc790\\\\uc778\", \"SentimentText\": \"\\\\ubaa8\\\\ub450 \\\\ub2e4\\\\ub978 \\\\ub514\\\\uc790\\\\uc778\\\\uc774\\\\ub77c \\\\ub354 \\\\uc88b\\\\uc73c\\\\ub124\\\\uc694\", \"SentimentWord\": \"5\", \"SentimentPolarity\": \"1\"}]}', metadata={'source': '/content/1-1.여성의류(1).json', 'seq_num': 85}),\n",
              " Document(page_content='{\"Index\": \"225\", \"RawText\": \"\\\\uc800\\\\ub834\\\\ud558\\\\uac8c \\\\uc798\\\\uad6c\\\\ub9e4\\\\ud588\\\\uad6c\\\\uc5ec.\\\\uc870\\\\ub07c\\\\uae4c\\\\uc9c0  \\\\uc62c\\\\uaca8\\\\uc6b8\\\\uc740 \\\\uc694\\\\uc544\\\\uc774 \\\\ud558\\\\ub098\\\\ub85c \\\\uc785\\\\uc5b4\\\\uc57c \\\\uaca0\\\\ub124\\\\uc694\", \"Source\": \"\\\\uc1fc\\\\ud551\\\\ubab0\", \"Domain\": \"\\\\ud328\\\\uc158\", \"MainCategory\": \"\\\\uc5ec\\\\uc131\\\\uc758\\\\ub958\", \"ProductName\": \"OO \\\\uc6dc \\\\uc18c\\\\ud504\\\\ud2b8 \\\\ubd80** \\\\ub2c8\\\\ud2b8 3\\\\uc885\\\\uc138\\\\ud2b8\", \"ReviewScore\": \"100\", \"Syllable\": \"38\", \"Word\": \"7\", \"RDate\": \"20211217\", \"GeneralPolarity\": \"1\", \"Aspects\": [{\"Aspect\": \"\\\\uac00\\\\uaca9\", \"SentimentText\": \"\\\\uc800\\\\ub834\\\\ud558\\\\uac8c \\\\uc798\\\\uad6c\\\\ub9e4\\\\ud588\\\\uad6c\\\\uc5ec.\\\\uc870\\\\ub07c\\\\uae4c\\\\uc9c0\", \"SentimentWord\": \"2\", \"SentimentPolarity\": \"1\"}, {\"Aspect\": \"\\\\uae30\\\\ub2a5\", \"SentimentText\": \"\\\\uc62c\\\\uaca8\\\\uc6b8\\\\uc740 \\\\uc694\\\\uc544\\\\uc774 \\\\ud558\\\\ub098\\\\ub85c \\\\uc785\\\\uc5b4\\\\uc57c \\\\uaca0\\\\ub124\\\\uc694\", \"SentimentWord\": \"5\", \"SentimentPolarity\": \"1\"}]}', metadata={'source': '/content/1-1.여성의류(1).json', 'seq_num': 86}),\n",
              " Document(page_content='{\"Index\": \"226\", \"RawText\": \"\\\\uc5b4\\\\ub514\\\\uc5d0\\\\ub098 \\\\uc798 \\\\uc5b4\\\\uc6b8\\\\ub9ac\\\\uace0 \\\\ub530\\\\ub73b\\\\ud558\\\\uace0 \\\\ubd80\\\\ub4dc\\\\ub7ec\\\\uc6cc\\\\uc694^^ \\\\uac00\\\\uaca9\\\\ub300\\\\ube44 \\\\uc644\\\\uc804 \\\\ub9cc\\\\uc871 \\\\uc785\\\\ub2c8\\\\ub2e4\", \"Source\": \"\\\\uc1fc\\\\ud551\\\\ubab0\", \"Domain\": \"\\\\ud328\\\\uc158\", \"MainCategory\": \"\\\\uc5ec\\\\uc131\\\\uc758\\\\ub958\", \"ProductName\": \"OO \\\\uc6dc \\\\uc18c\\\\ud504\\\\ud2b8 \\\\ubd80** \\\\ub2c8\\\\ud2b8 3\\\\uc885\\\\uc138\\\\ud2b8\", \"ReviewScore\": \"100\", \"Syllable\": \"39\", \"Word\": \"9\", \"RDate\": \"20211231\", \"GeneralPolarity\": \"1\", \"Aspects\": [{\"Aspect\": \"\\\\ud65c\\\\uc6a9\\\\uc131\", \"SentimentText\": \"\\\\uc5b4\\\\ub514\\\\uc5d0\\\\ub098 \\\\uc798 \\\\uc5b4\\\\uc6b8\\\\ub9ac\\\\uace0\", \"SentimentWord\": \"3\", \"SentimentPolarity\": \"1\"}, {\"Aspect\": \"\\\\uae30\\\\ub2a5\", \"SentimentText\": \"\\\\ub530\\\\ub73b\\\\ud558\\\\uace0\", \"SentimentWord\": \"1\", \"SentimentPolarity\": \"1\"}, {\"Aspect\": \"\\\\ucd09\\\\uac10\", \"SentimentText\": \"\\\\ubd80\\\\ub4dc\\\\ub7ec\\\\uc6cc\\\\uc694^^\", \"SentimentWord\": \"1\", \"SentimentPolarity\": \"1\"}, {\"Aspect\": \"\\\\uac00\\\\uaca9\", \"SentimentText\": \"\\\\uac00\\\\uaca9\\\\ub300\\\\ube44 \\\\uc644\\\\uc804 \\\\ub9cc\\\\uc871 \\\\uc785\\\\ub2c8\\\\ub2e4\", \"SentimentWord\": \"4\", \"SentimentPolarity\": \"1\"}]}', metadata={'source': '/content/1-1.여성의류(1).json', 'seq_num': 87}),\n",
              " Document(page_content='{\"Index\": \"230\", \"RawText\": \"\\\\ubaa9\\\\ub458\\\\ub808\\\\uac00 \\\\uc880 \\\\uc881\\\\uc544 \\\\uc870\\\\uc2ec\\\\ud788 \\\\ub2e4\\\\ub904\\\\uc57c\\\\ud569\\\\ub2c8\\\\ub2e4 \\\\uc0c9\\\\uc0c1 \\\\ub9d8\\\\uc5d0\\\\ub4e4\\\\uace0 \\\\ud2b9\\\\ud788 \\\\ubc0d\\\\ud06c \\\\ubd80\\\\ubd84\\\\uc774 \\\\ub9d8\\\\uc5d0 \\\\ub4e4\\\\uace0 \\\\ub530\\\\ub73b\\\\ud569\\\\ub2c8\\\\ub2e4\", \"Source\": \"\\\\uc1fc\\\\ud551\\\\ubab0\", \"Domain\": \"\\\\ud328\\\\uc158\", \"MainCategory\": \"\\\\uc5ec\\\\uc131\\\\uc758\\\\ub958\", \"ProductName\": \"OO \\\\uc5ec\\\\uc131 \\\\ubc0d** \\\\uce90\\\\uc2dc\\\\ubbf8\\\\uc5b4 \\\\ub2c8\\\\ud2b8 4\\\\uc885 \\\\ud0dd1\", \"ReviewScore\": \"80\", \"Syllable\": \"50\", \"Word\": \"13\", \"RDate\": \"20220129\", \"GeneralPolarity\": \"1\", \"Aspects\": [{\"Aspect\": \"\\\\uc0ac\\\\uc774\\\\uc988\", \"SentimentText\": \"\\\\ubaa9\\\\ub458\\\\ub808\\\\uac00 \\\\uc880 \\\\uc881\\\\uc544\", \"SentimentWord\": \"3\", \"SentimentPolarity\": \"-1\"}, {\"Aspect\": \"\\\\uc0c9\\\\uc0c1\", \"SentimentText\": \"\\\\uc0c9\\\\uc0c1 \\\\ub9d8\\\\uc5d0\\\\ub4e4\\\\uace0 \", \"SentimentWord\": \"2\", \"SentimentPolarity\": \"1\"}, {\"Aspect\": \"\\\\uc18c\\\\uc7ac\", \"SentimentText\": \"\\\\ud2b9\\\\ud788 \\\\ubc0d\\\\ud06c \\\\ubd80\\\\ubd84\\\\uc774 \\\\ub9d8\\\\uc5d0 \\\\ub4e4\\\\uace0\", \"SentimentWord\": \"5\", \"SentimentPolarity\": \"1\"}, {\"Aspect\": \"\\\\uae30\\\\ub2a5\", \"SentimentText\": \"\\\\ub530\\\\ub73b\\\\ud569\\\\ub2c8\\\\ub2e4\", \"SentimentWord\": \"1\", \"SentimentPolarity\": \"1\"}]}', metadata={'source': '/content/1-1.여성의류(1).json', 'seq_num': 88}),\n",
              " Document(page_content='{\"Index\": \"232\", \"RawText\": \"\\\\ub125\\\\ub77c\\\\uc778\\\\uc744 \\\\ubc0d\\\\ud06c\\\\ub85c \\\\ub458\\\\ub7ec \\\\ub530\\\\ub73b\\\\ud574\\\\ubcf4\\\\uc774\\\\uace0 \\\\ud558\\\\ub098\\\\ub85c\\\\ub3c4 \\\\uac16\\\\ucdb0 \\\\uc785\\\\uc740\\\\ub4ef \\\\uc88b\\\\uc2b5\\\\ub2c8\\\\ub2e4 \\\\ub4b7\\\\ubaa9 \\\\uc5f0\\\\uacb0\\\\ubd80\\\\ubd84\\\\uc774 \\\\uc57d\\\\ud569\\\\ub2c8\\\\ub2e4 \\\\uc637\\\\uac78\\\\uc774\\\\uc5d0\\\\uc11c \\\\ube7c\\\\ub2e4\\\\uac00 \\\\ud130\\\\uc838\\\\uc11c \\\\uaff0\\\\ub9e4\\\\ub290\\\\ub77c \\\\ud798\\\\ub4e4\\\\uc5c8\\\\uc2b5\\\\ub2c8\\\\ub2e4 \", \"Source\": \"\\\\uc1fc\\\\ud551\\\\ubab0\", \"Domain\": \"\\\\ud328\\\\uc158\", \"MainCategory\": \"\\\\uc5ec\\\\uc131\\\\uc758\\\\ub958\", \"ProductName\": \"OO \\\\uc5ec\\\\uc131 \\\\ubc0d** \\\\uce90\\\\uc2dc\\\\ubbf8\\\\uc5b4 \\\\ub2c8\\\\ud2b8 4\\\\uc885 \\\\ud0dd1\", \"ReviewScore\": \"70\", \"Syllable\": \"76\", \"Word\": \"16\", \"RDate\": \"20220129\", \"GeneralPolarity\": \"0\", \"Aspects\": [{\"Aspect\": \"\\\\uc18c\\\\uc7ac\", \"SentimentText\": \"\\\\ub125\\\\ub77c\\\\uc778\\\\uc744 \\\\ubc0d\\\\ud06c\\\\ub85c \\\\ub458\\\\ub7ec \\\\ub530\\\\ub73b\\\\ud574\\\\ubcf4\\\\uc774\\\\uace0 \", \"SentimentWord\": \"4\", \"SentimentPolarity\": \"1\"}, {\"Aspect\": \"\\\\ud65c\\\\uc6a9\\\\uc131\", \"SentimentText\": \"\\\\ud558\\\\ub098\\\\ub85c\\\\ub3c4 \\\\uac16\\\\ucdb0 \\\\uc785\\\\uc740\\\\ub4ef \\\\uc88b\\\\uc2b5\\\\ub2c8\\\\ub2e4\", \"SentimentWord\": \"4\", \"SentimentPolarity\": \"1\"}, {\"Aspect\": \"\\\\ub9c8\\\\uac10\", \"SentimentText\": \"\\\\ub4b7\\\\ubaa9 \\\\uc5f0\\\\uacb0\\\\ubd80\\\\ubd84\\\\uc774 \\\\uc57d\\\\ud569\\\\ub2c8\\\\ub2e4 \", \"SentimentWord\": \"3\", \"SentimentPolarity\": \"0\"}, {\"Aspect\": \"\\\\ud488\\\\uc9c8\", \"SentimentText\": \"\\\\ud130\\\\uc838\\\\uc11c \\\\uaff0\\\\ub9e4\\\\ub290\\\\ub77c \\\\ud798\\\\ub4e4\\\\uc5c8\\\\uc2b5\\\\ub2c8\\\\ub2e4\", \"SentimentWord\": \"3\", \"SentimentPolarity\": \"-1\"}]}', metadata={'source': '/content/1-1.여성의류(1).json', 'seq_num': 89}),\n",
              " Document(page_content='{\"Index\": \"238\", \"RawText\": \"\\\\uac00\\\\uc131\\\\ube44\\\\uc88b\\\\uc544\\\\uc694~ \\\\ud3b8\\\\ud558\\\\uac8c \\\\uac78\\\\uce58\\\\uae30 \\\\uc88b\\\\uace0 \\\\uc0c9\\\\uac10\\\\ub3c4 \\\\uc88b\\\\ub124\\\\uc694 \\\\uc81c\\\\uc0ac\\\\uc774\\\\uc988 \\\\uac15\\\\ucd94!!\", \"Source\": \"\\\\uc1fc\\\\ud551\\\\ubab0\", \"Domain\": \"\\\\ud328\\\\uc158\", \"MainCategory\": \"\\\\uc5ec\\\\uc131\\\\uc758\\\\ub958\", \"ProductName\": \"OO \\\\uc5ec\\\\uc131 \\\\ub2c8\\\\ud2b8 3\\\\uc885\", \"ReviewScore\": \"100\", \"Syllable\": \"36\", \"Word\": \"8\", \"RDate\": \"20220304\", \"GeneralPolarity\": \"1\", \"Aspects\": [{\"Aspect\": \"\\\\uac00\\\\uaca9\", \"SentimentText\": \"\\\\uac00\\\\uc131\\\\ube44\\\\uc88b\\\\uc544\\\\uc694~\", \"SentimentWord\": \"1\", \"SentimentPolarity\": \"1\"}, {\"Aspect\": \"\\\\ucc29\\\\uc6a9\\\\uac10\", \"SentimentText\": \"\\\\ud3b8\\\\ud558\\\\uac8c \\\\uac78\\\\uce58\\\\uae30 \\\\uc88b\\\\uace0\", \"SentimentWord\": \"3\", \"SentimentPolarity\": \"1\"}, {\"Aspect\": \"\\\\uc0c9\\\\uc0c1\", \"SentimentText\": \"\\\\uc0c9\\\\uac10\\\\ub3c4 \\\\uc88b\\\\ub124\\\\uc694\", \"SentimentWord\": \"2\", \"SentimentPolarity\": \"1\"}, {\"Aspect\": \"\\\\uc0ac\\\\uc774\\\\uc988\", \"SentimentText\": \"\\\\uc81c\\\\uc0ac\\\\uc774\\\\uc988 \\\\uac15\\\\ucd94!!\", \"SentimentWord\": \"2\", \"SentimentPolarity\": \"1\"}]}', metadata={'source': '/content/1-1.여성의류(1).json', 'seq_num': 90}),\n",
              " Document(page_content='{\"Index\": \"243\", \"RawText\": \"\\\\uc544\\\\uc8fc \\\\ub9cc\\\\uc871\\\\uc2a4\\\\ub7fd\\\\ub124\\\\uc694. \\\\ub450\\\\uaed8\\\\ub294 \\\\uc587\\\\uc544\\\\uc694 \\\\uc18c\\\\uc7ac\\\\ub3c4 \\\\uc6d0\\\\ud558\\\\ub358 \\\\ub290\\\\ub08c\\\\uc774\\\\uad6c\\\\uc694 \\\\uae30\\\\uacc4\\\\uc138\\\\ud0c1\\\\ub418\\\\uc11c  \\\\ub108\\\\ubb34\\\\uc88b\\\\uc2b5\\\\ub2c8\\\\ub2e4. \\\\uadf8\\\\ub9ac\\\\uace0 \\\\ucf54\\\\ud2bc\\\\uc774\\\\ub77c \\\\uc548\\\\ub04c\\\\uac70\\\\ub9bc \\\\uc5c6\\\\uc2b5\\\\ub2c8\\\\ub2e4.  \\\\uad7f\\\\uad7f\", \"Source\": \"\\\\uc1fc\\\\ud551\\\\ubab0\", \"Domain\": \"\\\\ud328\\\\uc158\", \"MainCategory\": \"\\\\uc5ec\\\\uc131\\\\uc758\\\\ub958\", \"ProductName\": \"OO \\\\uc5ec\\\\uc131 \\\\ub2c8\\\\ud2b8 3\\\\uc885\", \"ReviewScore\": \"100\", \"Syllable\": \"72\", \"Word\": \"14\", \"RDate\": \"20220105\", \"GeneralPolarity\": \"1\", \"Aspects\": [{\"Aspect\": \"\\\\ub450\\\\uaed8\", \"SentimentText\": \"\\\\ub450\\\\uaed8\\\\ub294 \\\\uc587\\\\uc544\\\\uc694 \", \"SentimentWord\": \"2\", \"SentimentPolarity\": \"1\"}, {\"Aspect\": \"\\\\uc18c\\\\uc7ac\", \"SentimentText\": \"\\\\uc18c\\\\uc7ac\\\\ub3c4 \\\\uc6d0\\\\ud558\\\\ub358 \\\\ub290\\\\ub08c\\\\uc774\\\\uad6c\\\\uc694\", \"SentimentWord\": \"3\", \"SentimentPolarity\": \"1\"}, {\"Aspect\": \"\\\\uc18c\\\\uc7ac\", \"SentimentText\": \"\\\\uae30\\\\uacc4\\\\uc138\\\\ud0c1\\\\ub418\\\\uc11c  \\\\ub108\\\\ubb34\\\\uc88b\\\\uc2b5\\\\ub2c8\\\\ub2e4.\", \"SentimentWord\": \"2\", \"SentimentPolarity\": \"1\"}, {\"Aspect\": \"\\\\uc18c\\\\uc7ac\", \"SentimentText\": \"\\\\ucf54\\\\ud2bc\\\\uc774\\\\ub77c \\\\uc548\\\\ub04c\\\\uac70\\\\ub9bc \\\\uc5c6\\\\uc2b5\\\\ub2c8\\\\ub2e4. \", \"SentimentWord\": \"3\", \"SentimentPolarity\": \"1\"}]}', metadata={'source': '/content/1-1.여성의류(1).json', 'seq_num': 91}),\n",
              " Document(page_content='{\"Index\": \"251\", \"RawText\": \"95\\\\uac00 \\\\ub9e4\\\\uc9c4\\\\uc774\\\\ub77c\\\\uc11c \\\\ud55c\\\\uc0ac\\\\uc774\\\\uc988\\\\ud06c\\\\uac71 \\\\uc8fc\\\\ubb38\\\\ud588\\\\ub354\\\\ub2c8 \\\\ud06c\\\\uae34\\\\ud070\\\\ub370  \\\\ud06c\\\\uac8c\\\\uc785\\\\uc5b4\\\\uc11c \\\\uad1c\\\\ucc2c\\\\uc544\\\\uc694~~  \\\\uba74\\\\uc774\\\\ub77c\\\\uc11c \\\\ucd09\\\\uac10\\\\ub3c4\\\\uc88b\\\\uace0  \\\\ub298\\\\uc5b4\\\\uc9c0\\\\uc9c0\\\\uc54a\\\\uc744\\\\uac83\\\\uac19\\\\uc544\\\\uc694~~  \\\\ub9cc\\\\uc871\\\\ud569\\\\ub2c8\\\\ub2e4.\", \"Source\": \"\\\\uc1fc\\\\ud551\\\\ubab0\", \"Domain\": \"\\\\ud328\\\\uc158\", \"MainCategory\": \"\\\\uc5ec\\\\uc131\\\\uc758\\\\ub958\", \"ProductName\": \"OO \\\\uc5ec\\\\uc131 \\\\ub2c8\\\\ud2b8 3\\\\uc885\", \"ReviewScore\": \"100\", \"Syllable\": \"75\", \"Word\": \"11\", \"RDate\": \"20210928\", \"GeneralPolarity\": \"1\", \"Aspects\": [{\"Aspect\": \"\\\\uc0ac\\\\uc774\\\\uc988\", \"SentimentText\": \"\\\\ud06c\\\\uae34\\\\ud070\\\\ub370  \\\\ud06c\\\\uac8c\\\\uc785\\\\uc5b4\\\\uc11c \\\\uad1c\\\\ucc2c\\\\uc544\\\\uc694~~\", \"SentimentWord\": \"3\", \"SentimentPolarity\": \"1\"}, {\"Aspect\": \"\\\\uc18c\\\\uc7ac\", \"SentimentText\": \"\\\\uba74\\\\uc774\\\\ub77c\\\\uc11c \\\\ucd09\\\\uac10\\\\ub3c4\\\\uc88b\\\\uace0\", \"SentimentWord\": \"2\", \"SentimentPolarity\": \"1\"}, {\"Aspect\": \"\\\\ud488\\\\uc9c8\", \"SentimentText\": \"\\\\ub298\\\\uc5b4\\\\uc9c0\\\\uc9c0\\\\uc54a\\\\uc744\\\\uac83\\\\uac19\\\\uc544\\\\uc694~~\", \"SentimentWord\": \"1\", \"SentimentPolarity\": \"1\"}]}', metadata={'source': '/content/1-1.여성의류(1).json', 'seq_num': 92}),\n",
              " Document(page_content='{\"Index\": \"252\", \"RawText\": \"\\\\ubca0\\\\uc774\\\\uc9c0 \\\\uad6c\\\\ub9e4\\\\ud574\\\\uc11c \\\\ud3b8\\\\uc548\\\\ud558\\\\uac8c \\\\uc798\\\\uc785\\\\uc5c8\\\\uace0 \\\\ube14\\\\ub799\\\\uc774 \\\\uc608\\\\ubed0\\\\uc11c \\\\uc7ac\\\\uad6c\\\\ub9e4 \\\\ud569\\\\ub2c8\\\\ub2e4\", \"Source\": \"\\\\uc1fc\\\\ud551\\\\ubab0\", \"Domain\": \"\\\\ud328\\\\uc158\", \"MainCategory\": \"\\\\uc5ec\\\\uc131\\\\uc758\\\\ub958\", \"ProductName\": \"OO \\\\ub2c8\\\\ud2b8 \\\\ub77c** \\\\uc138\\\\ud2b8\", \"ReviewScore\": \"80\", \"Syllable\": \"34\", \"Word\": \"8\", \"RDate\": \"20211015\", \"GeneralPolarity\": \"1\", \"Aspects\": [{\"Aspect\": \"\\\\ucc29\\\\uc6a9\\\\uac10\", \"SentimentText\": \"\\\\ubca0\\\\uc774\\\\uc9c0 \\\\uad6c\\\\ub9e4\\\\ud574\\\\uc11c \\\\ud3b8\\\\uc548\\\\ud558\\\\uac8c \\\\uc798\\\\uc785\\\\uc5c8\\\\uace0\", \"SentimentWord\": \"4\", \"SentimentPolarity\": \"1\"}, {\"Aspect\": \"\\\\uc0c9\\\\uc0c1\", \"SentimentText\": \"\\\\ube14\\\\ub799\\\\uc774 \\\\uc608\\\\ubed0\\\\uc11c \\\\uc7ac\\\\uad6c\\\\ub9e4 \\\\ud569\\\\ub2c8\\\\ub2e4\", \"SentimentWord\": \"4\", \"SentimentPolarity\": \"1\"}]}', metadata={'source': '/content/1-1.여성의류(1).json', 'seq_num': 93}),\n",
              " Document(page_content='{\"Index\": \"253\", \"RawText\": \"\\\\uac00\\\\uaca9\\\\uc774 \\\\ub9d8\\\\uc5d0\\\\ub4e4\\\\uc5b4 \\\\uc8fc\\\\ubb38\\\\ud588\\\\ub354\\\\ub2c8 \\\\uc637 \\\\ub514\\\\uc790\\\\uc778\\\\uc774 \\\\ub354 \\\\ub9d8\\\\uc5d0 \\\\ub4e4\\\\uc5b4 \\\\uc88b\\\\ub124\\\\uc694.\\\\ub530\\\\ub4ef\\\\ud558\\\\uace0 \\\\ud53c\\\\ubd80\\\\uc5d0 \\\\ub2ff\\\\ub294 \\\\ub290\\\\ub08c\\\\ub3c4 \\\\ubd80\\\\ub4dc\\\\ub7ec\\\\uc6cc\\\\uc694.\\\\uc544\\\\uc26c\\\\uc6b4\\\\uac74 \\\\uce58\\\\uc218\\\\uac00 \\\\uc57d\\\\uac04 \\\\uc791\\\\uc740\\\\uc9c0 \\\\ud314 \\\\uae38\\\\uc774 \\\\uc57d\\\\uac04 \\\\uc791\\\\ub124\\\\uc694.\\\\ud55c\\\\uce58\\\\uc218 \\\\ud06c\\\\uac8c \\\\uc8fc\\\\ubb38\\\\ud558\\\\uba74 \\\\ub420\\\\ub4ef\\\\ud558\\\\ub124\\\\uc694.\", \"Source\": \"\\\\uc1fc\\\\ud551\\\\ubab0\", \"Domain\": \"\\\\ud328\\\\uc158\", \"MainCategory\": \"\\\\uc5ec\\\\uc131\\\\uc758\\\\ub958\", \"ProductName\": \"OO \\\\ub2c8\\\\ud2b8 \\\\ub77c** \\\\uc138\\\\ud2b8\", \"ReviewScore\": \"100\", \"Syllable\": \"102\", \"Word\": \"23\", \"RDate\": \"20211225\", \"GeneralPolarity\": \"1\", \"Aspects\": [{\"Aspect\": \"\\\\uac00\\\\uaca9\", \"SentimentText\": \"\\\\uac00\\\\uaca9\\\\uc774 \\\\ub9d8\\\\uc5d0\\\\ub4e4\\\\uc5b4 \\\\uc8fc\\\\ubb38\\\\ud588\\\\ub354\\\\ub2c8\", \"SentimentWord\": \"3\", \"SentimentPolarity\": \"1\"}, {\"Aspect\": \"\\\\uae38\\\\uc774\", \"SentimentText\": \" \\\\ud314 \\\\uae38\\\\uc774 \\\\uc57d\\\\uac04 \\\\uc791\\\\ub124\\\\uc694.\", \"SentimentWord\": \"4\", \"SentimentPolarity\": \"1\"}, {\"Aspect\": \"\\\\uc0ac\\\\uc774\\\\uc988\", \"SentimentText\": \"\\\\ud55c\\\\uce58\\\\uc218 \\\\ud06c\\\\uac8c \\\\uc8fc\\\\ubb38\\\\ud558\\\\uba74 \\\\ub420\\\\ub4ef\\\\ud558\\\\ub124\\\\uc694.\", \"SentimentWord\": \"4\", \"SentimentPolarity\": \"1\"}, {\"Aspect\": \"\\\\uae30\\\\ub2a5\", \"SentimentText\": \"\\\\ub530\\\\ub4ef\\\\ud558\\\\uace0\", \"SentimentWord\": \"1\", \"SentimentPolarity\": \"1\"}, {\"Aspect\": \"\\\\ucd09\\\\uac10\", \"SentimentText\": \"\\\\ud53c\\\\ubd80\\\\uc5d0 \\\\ub2ff\\\\ub294 \\\\ub290\\\\ub08c\\\\ub3c4 \\\\ubd80\\\\ub4dc\\\\ub7ec\\\\uc6cc\\\\uc694.\", \"SentimentWord\": \"4\", \"SentimentPolarity\": \"1\"}, {\"Aspect\": \"\\\\ub514\\\\uc790\\\\uc778\", \"SentimentText\": \"\\\\uc637 \\\\ub514\\\\uc790\\\\uc778\\\\uc774 \\\\ub354 \\\\ub9d8\\\\uc5d0 \\\\ub4e4\\\\uc5b4 \\\\uc88b\\\\ub124\\\\uc694\", \"SentimentWord\": \"6\", \"SentimentPolarity\": \"1\"}, {\"Aspect\": \"\\\\uc0ac\\\\uc774\\\\uc988\", \"SentimentText\": \"\\\\uce58\\\\uc218\\\\uac00 \\\\uc57d\\\\uac04 \\\\uc791\\\\uc740\\\\uc9c0\", \"SentimentWord\": \"3\", \"SentimentPolarity\": \"1\"}]}', metadata={'source': '/content/1-1.여성의류(1).json', 'seq_num': 94}),\n",
              " Document(page_content='{\"Index\": \"257\", \"RawText\": \"\\\\uac00\\\\uaca9\\\\ub300\\\\ube44 \\\\ud488\\\\uc9c8\\\\uc740 \\\\uc88b\\\\uc544\\\\uc694~ \\\\ud328\\\\ud305 \\\\uc8fc\\\\uba38\\\\ub2c8\\\\uac00 \\\\ub6ab\\\\ub824\\\\uc11c \\\\uc628\\\\uac70 \\\\ub9d0\\\\uace0\\\\ub294 \\\\ub9cc\\\\uc871\\\\ud569\\\\ub2c8\\\\ub2e4.\", \"Source\": \"\\\\uc1fc\\\\ud551\\\\ubab0\", \"Domain\": \"\\\\ud328\\\\uc158\", \"MainCategory\": \"\\\\uc5ec\\\\uc131\\\\uc758\\\\ub958\", \"ProductName\": \"OO \\\\ub2c8\\\\ud2b8 \\\\ub77c** \\\\uc138\\\\ud2b8\", \"ReviewScore\": \"80\", \"Syllable\": \"39\", \"Word\": \"9\", \"RDate\": \"20211102\", \"GeneralPolarity\": \"1\", \"Aspects\": [{\"Aspect\": \"\\\\uac00\\\\uaca9\", \"SentimentText\": \"\\\\uac00\\\\uaca9\\\\ub300\\\\ube44 \\\\ud488\\\\uc9c8\\\\uc740 \\\\uc88b\\\\uc544\\\\uc694\", \"SentimentWord\": \"3\", \"SentimentPolarity\": \"1\"}, {\"Aspect\": \"\\\\ub9c8\\\\uac10\", \"SentimentText\": \"\\\\uc8fc\\\\uba38\\\\ub2c8\\\\uac00 \\\\ub6ab\\\\ub824\\\\uc11c \\\\uc628\\\\uac70 \\\\ub9d0\\\\uace0\\\\ub294 \\\\ub9cc\\\\uc871\\\\ud569\\\\ub2c8\\\\ub2e4.\", \"SentimentWord\": \"5\", \"SentimentPolarity\": \"0\"}]}', metadata={'source': '/content/1-1.여성의류(1).json', 'seq_num': 95}),\n",
              " Document(page_content='{\"Index\": \"260\", \"RawText\": \"\\\\uac00\\\\uaca9\\\\ub300\\\\ube44 \\\\ud6cc\\\\ub96d\\\\ud569\\\\ub2c8\\\\ub2e4  \\\\uc870\\\\ub07c\\\\ub9cc \\\\ub2e4\\\\ub978\\\\ubd84\\\\ub4e4 \\\\uc0c1\\\\ud488\\\\ud3c9\\\\ucc98\\\\ub7fc \\\\uc880 \\\\uc2fc\\\\ud2f0\\\\ub294\\\\ub098\\\\uc9c0\\\\ub9cc \\\\uadf8\\\\ub798\\\\ub3c4 \\\\uc798 \\\\uc785\\\\uc744\\\\ub4ef\\\\uc694 \\\\ub4dd\\\\ud15c\\\\ud588\\\\ub124\\\\uc694\", \"Source\": \"\\\\uc1fc\\\\ud551\\\\ubab0\", \"Domain\": \"\\\\ud328\\\\uc158\", \"MainCategory\": \"\\\\uc5ec\\\\uc131\\\\uc758\\\\ub958\", \"ProductName\": \"OO \\\\ub2c8\\\\ud2b8 \\\\ub77c** \\\\uc138\\\\ud2b8\", \"ReviewScore\": \"100\", \"Syllable\": \"52\", \"Word\": \"11\", \"RDate\": \"20211029\", \"GeneralPolarity\": \"1\", \"Aspects\": [{\"Aspect\": \"\\\\uac00\\\\uaca9\", \"SentimentText\": \"\\\\uac00\\\\uaca9\\\\ub300\\\\ube44 \\\\ud6cc\\\\ub96d\\\\ud569\\\\ub2c8\\\\ub2e4 \", \"SentimentWord\": \"2\", \"SentimentPolarity\": \"1\"}, {\"Aspect\": \"\\\\ud488\\\\uc9c8\", \"SentimentText\": \"\\\\uc870\\\\ub07c\\\\ub9cc \\\\ub2e4\\\\ub978\\\\ubd84\\\\ub4e4 \\\\uc0c1\\\\ud488\\\\ud3c9\\\\ucc98\\\\ub7fc \\\\uc880 \\\\uc2fc\\\\ud2f0\\\\ub294\\\\ub098\\\\uc9c0\\\\ub9cc\", \"SentimentWord\": \"5\", \"SentimentPolarity\": \"-1\"}]}', metadata={'source': '/content/1-1.여성의류(1).json', 'seq_num': 96}),\n",
              " Document(page_content='{\"Index\": \"265\", \"RawText\": \"\\\\uac00\\\\uaca9\\\\ub300\\\\ube44 \\\\ub118\\\\ub118 \\\\ub9d8\\\\uc5d0 \\\\ub4e4\\\\uc5b4\\\\uc694 \\\\ud2b9\\\\ud788 \\\\uae30\\\\ubaa8\\\\uac00  \\\\uc788\\\\uc5b4\\\\uc11c. \\\\uc678\\\\ucd9c\\\\ubcf5\\\\uc73c\\\\ub85c\\\\ub3c4 \\\\uc88b\\\\uc544\\\\uc694 \", \"Source\": \"\\\\uc1fc\\\\ud551\\\\ubab0\", \"Domain\": \"\\\\ud328\\\\uc158\", \"MainCategory\": \"\\\\uc5ec\\\\uc131\\\\uc758\\\\ub958\", \"ProductName\": \"OO \\\\ub2c8\\\\ud2b8 \\\\ub77c** \\\\uc138\\\\ud2b8\", \"ReviewScore\": \"100\", \"Syllable\": \"39\", \"Word\": \"9\", \"RDate\": \"20211027\", \"GeneralPolarity\": \"1\", \"Aspects\": [{\"Aspect\": \"\\\\uac00\\\\uaca9\", \"SentimentText\": \"\\\\uac00\\\\uaca9\\\\ub300\\\\ube44 \\\\ub118\\\\ub118 \\\\ub9d8\\\\uc5d0 \\\\ub4e4\\\\uc5b4\\\\uc694 \", \"SentimentWord\": \"4\", \"SentimentPolarity\": \"1\"}, {\"Aspect\": \"\\\\uc18c\\\\uc7ac\", \"SentimentText\": \"\\\\uae30\\\\ubaa8\\\\uac00  \\\\uc788\\\\uc5b4\\\\uc11c\", \"SentimentWord\": \"2\", \"SentimentPolarity\": \"1\"}, {\"Aspect\": \"\\\\ud65c\\\\uc6a9\\\\uc131\", \"SentimentText\": \"\\\\uc678\\\\ucd9c\\\\ubcf5\\\\uc73c\\\\ub85c\\\\ub3c4 \\\\uc88b\\\\uc544\\\\uc694\", \"SentimentWord\": \"2\", \"SentimentPolarity\": \"1\"}]}', metadata={'source': '/content/1-1.여성의류(1).json', 'seq_num': 97}),\n",
              " Document(page_content='{\"Index\": \"270\", \"RawText\": \"\\\\uc758\\\\ub958\\\\uc548\\\\uc5d0 \\\\uae30\\\\ubaa8\\\\uac00\\\\uc544\\\\ub2cc\\\\ubca0\\\\ub85c\\\\uc544\\\\ub85c\\\\ub418\\\\uc5b4\\\\uc11c\\\\ub354\\\\uc6b1\\\\ub530\\\\ub73b\\\\ud568\\\\ub2c8\\\\ub2e4\\\\uc800\\\\ub834\\\\ud55c\\\\uac00\\\\uaca9\\\\uc73c\\\\ub85c\\\\uad6c\\\\ub9e4\\\\ud574\\\\uc11c\\\\ub354\\\\uc6b1\\\\uc88b\\\\uc544\\\\uc694\\\\ud0c0\\\\ubc29\\\\uc1a1\\\\ubcf4\\\\ub2e4\\\\ud6e8\\\\uc52c\\\\uc800\\\\ub834\\\\ud568\\\\ub2c8\\\\ub2e4\\\\ub2e8\\\\uc9c0\\\\uc0c9\\\\uc0c1\\\\uc774\\\\ud488\\\\uc808\\\\ub41c\\\\uac83\\\\uc774\\\\uc788\\\\uc5b4\\\\uc11c\\\\uc544\\\\uc26c\\\\uc6e0\\\\uc74c\\\\ub2c8\\\\ub2e4\", \"Source\": \"\\\\uc1fc\\\\ud551\\\\ubab0\", \"Domain\": \"\\\\ud328\\\\uc158\", \"MainCategory\": \"\\\\uc5ec\\\\uc131\\\\uc758\\\\ub958\", \"ProductName\": \"OO \\\\ub2c8\\\\ud2b8 \\\\ub77c** \\\\uc138\\\\ud2b8\", \"ReviewScore\": \"100\", \"Syllable\": \"71\", \"Word\": \"2\", \"RDate\": \"20211023\", \"GeneralPolarity\": \"1\", \"Aspects\": [{\"Aspect\": \"\\\\uae30\\\\ub2a5\", \"SentimentText\": \"\\\\uc758\\\\ub958\\\\uc548\\\\uc5d0 \\\\uae30\\\\ubaa8\\\\uac00\\\\uc544\\\\ub2cc\\\\ubca0\\\\ub85c\\\\uc544\\\\ub85c\\\\ub418\\\\uc5b4\\\\uc11c\\\\ub354\\\\uc6b1\\\\ub530\\\\ub73b\\\\ud568\\\\ub2c8\\\\ub2e4\", \"SentimentWord\": \"2\", \"SentimentPolarity\": \"1\"}, {\"Aspect\": \"\\\\uac00\\\\uaca9\", \"SentimentText\": \"\\\\uc800\\\\ub834\\\\ud55c\\\\uac00\\\\uaca9\\\\uc73c\\\\ub85c\\\\uad6c\\\\ub9e4\\\\ud574\\\\uc11c\\\\ub354\\\\uc6b1\\\\uc88b\\\\uc544\\\\uc694\", \"SentimentWord\": \"1\", \"SentimentPolarity\": \"1\"}, {\"Aspect\": \"\\\\uac00\\\\uaca9\", \"SentimentText\": \"\\\\ud0c0\\\\ubc29\\\\uc1a1\\\\ubcf4\\\\ub2e4\\\\ud6e8\\\\uc52c\\\\uc800\\\\ub834\\\\ud568\\\\ub2c8\\\\ub2e4\", \"SentimentWord\": \"1\", \"SentimentPolarity\": \"1\"}]}', metadata={'source': '/content/1-1.여성의류(1).json', 'seq_num': 98}),\n",
              " Document(page_content='{\"Index\": \"272\", \"RawText\": \"\\\\ud2f0\\\\uc640  \\\\ubc14\\\\uc9c4\\\\u3137\\\\u3134  \\\\ub530\\\\ub4ef  \\\\ud558\\\\uaca0\\\\uace0  \\\\uc9c8\\\\ub3c4  \\\\uc88b\\\\uc740\\\\ub370  \\\\ubca0\\\\uc2a4\\\\ud2b8\\\\ub294  \\\\uc0dd\\\\uac01\\\\ubcf4\\\\ub2e4\\\\ub294 \\\\ub3c4\\\\ud1b0\\\\ud558\\\\uace0  \\\\uc790\\\\ud06c\\\\uc5c6\\\\uc774 \\\\ub611\\\\ub531\\\\uc774\\\\uace0\\\\u315c\\\\u315c \\\\uac00\\\\uc2b4\\\\ub458\\\\ub808\\\\uac00 \\\\uc880  \\\\uc791\\\\uac8c \\\\ub098\\\\uc640  \\\\uc7a0\\\\uadf8\\\\uc9c0  \\\\uc548\\\\uace0  \\\\uc785\\\\uc5b4\\\\uc57c  \\\\uaca0\\\\uc5b4\\\\uc694  \\\\ub09a\\\\uc2dc \\\\uac08\\\\ub54c   \\\\uc785\\\\uc73c\\\\ub824\\\\uad6c\\\\uc694   \\\\uc77c\\\\uc0c1 \\\\uc0dd\\\\ud65c\\\\ubcf5\\\\uc73c\\\\ub85c  \\\\uc88b\\\\uc744\\\\ub4ef  \\\\uc2f6\\\\uc5b4\\\\uc694\", \"Source\": \"\\\\uc1fc\\\\ud551\\\\ubab0\", \"Domain\": \"\\\\ud328\\\\uc158\", \"MainCategory\": \"\\\\uc5ec\\\\uc131\\\\uc758\\\\ub958\", \"ProductName\": \"OO \\\\ub2c8\\\\ud2b8 \\\\ub77c** \\\\uc138\\\\ud2b8\", \"ReviewScore\": \"100\", \"Syllable\": \"127\", \"Word\": \"26\", \"RDate\": \"20211001\", \"GeneralPolarity\": \"1\", \"Aspects\": [{\"Aspect\": \"\\\\uae30\\\\ub2a5\", \"SentimentText\": \"\\\\ud2f0\\\\uc640  \\\\ubc14\\\\uc9c4\\\\u3137\\\\u3134  \\\\ub530\\\\ub4ef  \\\\ud558\\\\uaca0\\\\uace0\", \"SentimentWord\": \"4\", \"SentimentPolarity\": \"1\"}, {\"Aspect\": \"\\\\ud488\\\\uc9c8\", \"SentimentText\": \"\\\\uc9c8\\\\ub3c4  \\\\uc88b\\\\uc740\\\\ub370 \", \"SentimentWord\": \"2\", \"SentimentPolarity\": \"1\"}, {\"Aspect\": \"\\\\ub450\\\\uaed8\", \"SentimentText\": \" \\\\ubca0\\\\uc2a4\\\\ud2b8\\\\ub294  \\\\uc0dd\\\\uac01\\\\ubcf4\\\\ub2e4\\\\ub294 \\\\ub3c4\\\\ud1b0\\\\ud558\\\\uace0\", \"SentimentWord\": \"3\", \"SentimentPolarity\": \"1\"}, {\"Aspect\": \"\\\\ub514\\\\uc790\\\\uc778\", \"SentimentText\": \"\\\\uc790\\\\ud06c\\\\uc5c6\\\\uc774 \\\\ub611\\\\ub531\\\\uc774\\\\uace0\\\\u315c\\\\u315c      \", \"SentimentWord\": \"2\", \"SentimentPolarity\": \"-1\"}, {\"Aspect\": \"\\\\uc0ac\\\\uc774\\\\uc988\", \"SentimentText\": \"\\\\uac00\\\\uc2b4\\\\ub458\\\\ub808\\\\uac00 \\\\uc880  \\\\uc791\\\\uac8c \\\\ub098\\\\uc640  \\\\uc7a0\\\\uadf8\\\\uc9c0  \\\\uc548\\\\uace0  \\\\uc785\\\\uc5b4\\\\uc57c  \\\\uaca0\\\\uc5b4\\\\uc694\", \"SentimentWord\": \"8\", \"SentimentPolarity\": \"-1\"}, {\"Aspect\": \"\\\\ud65c\\\\uc6a9\\\\uc131\", \"SentimentText\": \"\\\\ub09a\\\\uc2dc \\\\uac08\\\\ub54c   \\\\uc785\\\\uc73c\\\\ub824\\\\uad6c\\\\uc694\", \"SentimentWord\": \"3\", \"SentimentPolarity\": \"1\"}, {\"Aspect\": \"\\\\ud65c\\\\uc6a9\\\\uc131\", \"SentimentText\": \"\\\\uc77c\\\\uc0c1 \\\\uc0dd\\\\ud65c\\\\ubcf5\\\\uc73c\\\\ub85c  \\\\uc88b\\\\uc744\\\\ub4ef  \\\\uc2f6\\\\uc5b4\\\\uc694\", \"SentimentWord\": \"4\", \"SentimentPolarity\": \"1\"}]}', metadata={'source': '/content/1-1.여성의류(1).json', 'seq_num': 99}),\n",
              " Document(page_content='{\"Index\": \"283\", \"RawText\": \"\\\\uc791\\\\ub144\\\\uc5d0 \\\\uadf8\\\\ub808\\\\uc774\\\\ub85c \\\\uc798 \\\\uc785\\\\uace0 \\\\uc624\\\\ud2b8\\\\ubc00\\\\ub85c \\\\uc0c9\\\\uc0c1\\\\ubc14\\\\uafd4 \\\\uc8fc\\\\ubb38\\\\ud574\\\\ubd24\\\\uc5b4\\\\uc694 \\\\uc637\\\\uc774 \\\\ub118 \\\\ud3b8\\\\ud574\\\\uc11c \\\\uc790\\\\uc8fc \\\\uc190\\\\uac00\\\\uc785\\\\uc5c8\\\\uc5b4\\\\uc694 \\\\ub300\\\\uc2e0 \\\\ub2c8\\\\ud2b8\\\\uc7ac\\\\uc9c8\\\\uc774\\\\ub77c\\\\ubcf4\\\\ub2c8 \\\\ubcf4\\\\ud480\\\\uac10\\\\uc740 \\\\uc5b4\\\\uca54\\\\uc218\\\\uc5c5\\\\uba38\\\\uc694\\\\u3160\\\\u3160\", \"Source\": \"\\\\uc1fc\\\\ud551\\\\ubab0\", \"Domain\": \"\\\\ud328\\\\uc158\", \"MainCategory\": \"\\\\uc5ec\\\\uc131\\\\uc758\\\\ub958\", \"ProductName\": \"OO \\\\ub2c8\\\\ud2b8 \\\\ub77c** \\\\uc138\\\\ud2b8\", \"ReviewScore\": \"100\", \"Syllable\": \"75\", \"Word\": \"16\", \"RDate\": \"20211001\", \"GeneralPolarity\": \"1\", \"Aspects\": [{\"Aspect\": \"\\\\ucc29\\\\uc6a9\\\\uac10\", \"SentimentText\": \"\\\\ub118 \\\\ud3b8\\\\ud574\\\\uc11c \", \"SentimentWord\": \"2\", \"SentimentPolarity\": \"1\"}, {\"Aspect\": \"\\\\uc18c\\\\uc7ac\", \"SentimentText\": \"\\\\ub2c8\\\\ud2b8\\\\uc7ac\\\\uc9c8\\\\uc774\\\\ub77c\\\\ubcf4\\\\ub2c8 \\\\ubcf4\\\\ud480\\\\uac10\\\\uc740 \\\\uc5b4\\\\uca54\\\\uc218\\\\uc5c5\\\\uba38\\\\uc694\\\\u3160\\\\u3160\", \"SentimentWord\": \"3\", \"SentimentPolarity\": \"1\"}, {\"Aspect\": \"\\\\ud65c\\\\uc6a9\\\\uc131\", \"SentimentText\": \"\\\\uc790\\\\uc8fc \\\\uc190\\\\uac00\\\\uc785\\\\uc5c8\\\\uc5b4\\\\uc694\", \"SentimentWord\": \"2\", \"SentimentPolarity\": \"1\"}]}', metadata={'source': '/content/1-1.여성의류(1).json', 'seq_num': 100})]"
            ]
          },
          "metadata": {},
          "execution_count": 7
        }
      ]
    },
    {
      "cell_type": "markdown",
      "source": [
        "# 한글 인코딩 처리"
      ],
      "metadata": {
        "id": "gAVqbQJufSBB"
      }
    },
    {
      "cell_type": "code",
      "source": [
        "from langchain.docstore.document import Document\n",
        "\n",
        "refined_docs = []\n",
        "\n",
        "# 유니코드 이스케이프 시퀀스를 정상적인 문자열로 변환\n",
        "for idx, doc in enumerate(docs):\n",
        "    broken_korean = doc.page_content\n",
        "    fixed_korean = broken_korean.encode('latin1').decode('unicode-escape')\n",
        "\n",
        "    refined_doc = Document(page_content=fixed_korean)\n",
        "    refined_docs.append(refined_doc)\n",
        "\n",
        "\n",
        "    print(idx, fixed_korean)"
      ],
      "metadata": {
        "colab": {
          "base_uri": "https://localhost:8080/"
        },
        "id": "q-a4q9oUM36g",
        "outputId": "c380d0eb-f369-4b9e-a912-b8c0c433be1b"
      },
      "execution_count": null,
      "outputs": [
        {
          "output_type": "stream",
          "name": "stdout",
          "text": [
            "0 {\"Index\": \"7\", \"RawText\": \"가격이 착하고 디자인이 예쁩니다\", \"Source\": \"쇼핑몰\", \"Domain\": \"패션\", \"MainCategory\": \"여성의류\", \"ProductName\": \"OO 플** 베스트 풀코디 3종\", \"ReviewScore\": \"100\", \"Syllable\": \"17\", \"Word\": \"4\", \"RDate\": \"20210815\", \"GeneralPolarity\": \"1\", \"Aspects\": [{\"Aspect\": \"가격\", \"SentimentText\": \"가격이 착하고\", \"SentimentWord\": \"2\", \"SentimentPolarity\": \"1\"}, {\"Aspect\": \"디자인\", \"SentimentText\": \"디자인이 예쁩니다\", \"SentimentWord\": \"2\", \"SentimentPolarity\": \"1\"}]}\n",
            "1 {\"Index\": \"9\", \"RawText\": \"싸고  디자인이 예뻐요. . 정말  가성비 가심비 입니다\", \"Source\": \"쇼핑몰\", \"Domain\": \"패션\", \"MainCategory\": \"여성의류\", \"ProductName\": \"OO 플** 베스트 풀코디 3종\", \"ReviewScore\": \"100\", \"Syllable\": \"31\", \"Word\": \"8\", \"RDate\": \"20210807\", \"GeneralPolarity\": \"1\", \"Aspects\": [{\"Aspect\": \"가격\", \"SentimentText\": \"싸고\", \"SentimentWord\": \"1\", \"SentimentPolarity\": \"1\"}, {\"Aspect\": \"디자인\", \"SentimentText\": \"디자인이 예뻐요\", \"SentimentWord\": \"2\", \"SentimentPolarity\": \"1\"}, {\"Aspect\": \"가격\", \"SentimentText\": \"가성비 가심비 입니다\", \"SentimentWord\": \"3\", \"SentimentPolarity\": \"1\"}]}\n",
            "2 {\"Index\": \"15\", \"RawText\": \"편하고  디자인이 예뻐요  가격도  좋아요   시원해요  빨리 마르고  이것만  입게되요\", \"Source\": \"쇼핑몰\", \"Domain\": \"패션\", \"MainCategory\": \"여성의류\", \"ProductName\": \"OO 플** 베스트 풀코디 3종\", \"ReviewScore\": \"100\", \"Syllable\": \"49\", \"Word\": \"10\", \"RDate\": \"20210804\", \"GeneralPolarity\": \"1\", \"Aspects\": [{\"Aspect\": \"착용감\", \"SentimentText\": \"편하고\", \"SentimentWord\": \"1\", \"SentimentPolarity\": \"1\"}, {\"Aspect\": \"디자인\", \"SentimentText\": \"디자인이 예뻐요\", \"SentimentWord\": \"2\", \"SentimentPolarity\": \"1\"}, {\"Aspect\": \"가격\", \"SentimentText\": \"가격도  좋아요\", \"SentimentWord\": \"2\", \"SentimentPolarity\": \"1\"}, {\"Aspect\": \"기능\", \"SentimentText\": \"시원해요\", \"SentimentWord\": \"1\", \"SentimentPolarity\": \"1\"}, {\"Aspect\": \"소재\", \"SentimentText\": \"빨리 마르고\", \"SentimentWord\": \"2\", \"SentimentPolarity\": \"1\"}, {\"Aspect\": \"활용성\", \"SentimentText\": \"이것만  입게되요\", \"SentimentWord\": \"2\", \"SentimentPolarity\": \"1\"}]}\n",
            "3 {\"Index\": \"17\", \"RawText\": \"너무 착한가격에 감사합니다 윈하는 색은 없지만\", \"Source\": \"쇼핑몰\", \"Domain\": \"패션\", \"MainCategory\": \"여성의류\", \"ProductName\": \"OO 플** 베스트 풀코디 3종\", \"ReviewScore\": \"100\", \"Syllable\": \"25\", \"Word\": \"6\", \"RDate\": \"20210803\", \"GeneralPolarity\": \"1\", \"Aspects\": [{\"Aspect\": \"가격\", \"SentimentText\": \"너무 착한가격에 감사합니다\", \"SentimentWord\": \"3\", \"SentimentPolarity\": \"1\"}, {\"Aspect\": \"색상\", \"SentimentText\": \"윈하는 색은 없지만\", \"SentimentWord\": \"3\", \"SentimentPolarity\": \"-1\"}]}\n",
            "4 {\"Index\": \"18\", \"RawText\": \"가격이  너무 좋아서  블랙 구매했습니다  그런데 소재도  맘에  들어  흰색도  구매했습니다\", \"Source\": \"쇼핑몰\", \"Domain\": \"패션\", \"MainCategory\": \"여성의류\", \"ProductName\": \"OO 플** 베스트 풀코디 3종\", \"ReviewScore\": \"100\", \"Syllable\": \"52\", \"Word\": \"11\", \"RDate\": \"20210717\", \"GeneralPolarity\": \"1\", \"Aspects\": [{\"Aspect\": \"가격\", \"SentimentText\": \"가격이  너무 좋아서\", \"SentimentWord\": \"3\", \"SentimentPolarity\": \"1\"}, {\"Aspect\": \"소재\", \"SentimentText\": \"소재도  맘에  들어  흰색도  구매했습니다\", \"SentimentWord\": \"5\", \"SentimentPolarity\": \"1\"}]}\n",
            "5 {\"Index\": \"21\", \"RawText\": \"외출할때 입기에는 재질도 디자인도 좀~그러네요 그냥 집에서 편하게 입을수는 있을것 같아요\", \"Source\": \"쇼핑몰\", \"Domain\": \"패션\", \"MainCategory\": \"여성의류\", \"ProductName\": \"OO 플** 베스트 풀코디 3종\", \"ReviewScore\": \"60\", \"Syllable\": \"49\", \"Word\": \"11\", \"RDate\": \"20210511\", \"GeneralPolarity\": \"-1\", \"Aspects\": [{\"Aspect\": \"소재\", \"SentimentText\": \"재질도 디자인도 좀~그러네요\", \"SentimentWord\": \"3\", \"SentimentPolarity\": \"-1\"}, {\"Aspect\": \"디자인\", \"SentimentText\": \"디자인도 좀~그러네요\", \"SentimentWord\": \"2\", \"SentimentPolarity\": \"-1\"}, {\"Aspect\": \"활용성\", \"SentimentText\": \"집에서 편하게 입을수는 있을것 같아요\", \"SentimentWord\": \"5\", \"SentimentPolarity\": \"0\"}]}\n",
            "6 {\"Index\": \"27\", \"RawText\": \"특히 자켓이 넘작고 짧으네요. 상의는 좀작구 바지는 잘맞아요.\", \"Source\": \"쇼핑몰\", \"Domain\": \"패션\", \"MainCategory\": \"여성의류\", \"ProductName\": \"OO 플** 베스트 풀코디 3종\", \"ReviewScore\": \"80\", \"Syllable\": \"34\", \"Word\": \"8\", \"RDate\": \"20210415\", \"GeneralPolarity\": \"-1\", \"Aspects\": [{\"Aspect\": \"사이즈\", \"SentimentText\": \"자켓이 넘작고\", \"SentimentWord\": \"2\", \"SentimentPolarity\": \"-1\"}, {\"Aspect\": \"길이\", \"SentimentText\": \"짧으네요.\", \"SentimentWord\": \"1\", \"SentimentPolarity\": \"-1\"}, {\"Aspect\": \"사이즈\", \"SentimentText\": \"상의는 좀작구\", \"SentimentWord\": \"2\", \"SentimentPolarity\": \"-1\"}, {\"Aspect\": \"사이즈\", \"SentimentText\": \"바지는 잘맞아요.\", \"SentimentWord\": \"2\", \"SentimentPolarity\": \"1\"}]}\n",
            "7 {\"Index\": \"30\", \"RawText\": \"싸고품질이좋아요ᆢ사이즈는좀큰듯하구요ᆢ반사이즈는내려서주문하심좋을듯해요\", \"Source\": \"쇼핑몰\", \"Domain\": \"패션\", \"MainCategory\": \"여성의류\", \"ProductName\": \"OO 플** 베스트 풀코디 3종\", \"ReviewScore\": \"100\", \"Syllable\": \"37\", \"Word\": \"1\", \"RDate\": \"20210618\", \"GeneralPolarity\": \"0\", \"Aspects\": [{\"Aspect\": \"가격\", \"SentimentText\": \"싸고\", \"SentimentWord\": \"1\", \"SentimentPolarity\": \"1\"}, {\"Aspect\": \"품질\", \"SentimentText\": \"품질이좋아요ᆢ\", \"SentimentWord\": \"1\", \"SentimentPolarity\": \"1\"}, {\"Aspect\": \"사이즈\", \"SentimentText\": \"사이즈는좀큰듯하구요ᆢ\", \"SentimentWord\": \"1\", \"SentimentPolarity\": \"0\"}, {\"Aspect\": \"사이즈\", \"SentimentText\": \"반사이즈는내려서주문하심좋을듯해요\", \"SentimentWord\": \"1\", \"SentimentPolarity\": \"0\"}]}\n",
            "8 {\"Index\": \"38\", \"RawText\": \"바지가 너무 편하고 좋아요 티셔츠는 여름에 잘 입을 듯 베스트는 디자인은 별로지만 가격이 착해서 만족\", \"Source\": \"쇼핑몰\", \"Domain\": \"패션\", \"MainCategory\": \"여성의류\", \"ProductName\": \"OO 플** 베스트 풀코디 3종\", \"ReviewScore\": \"70\", \"Syllable\": \"56\", \"Word\": \"15\", \"RDate\": \"20210408\", \"GeneralPolarity\": \"1\", \"Aspects\": [{\"Aspect\": \"착용감\", \"SentimentText\": \"바지가 너무 편하고 좋아요\", \"SentimentWord\": \"4\", \"SentimentPolarity\": \"1\"}, {\"Aspect\": \"기능\", \"SentimentText\": \"티셔츠는 여름에 잘 입을 듯\", \"SentimentWord\": \"5\", \"SentimentPolarity\": \"1\"}, {\"Aspect\": \"디자인\", \"SentimentText\": \"베스트는 디자인은 별로지만\", \"SentimentWord\": \"3\", \"SentimentPolarity\": \"-1\"}, {\"Aspect\": \"가격\", \"SentimentText\": \"가격이 착해서 만족\", \"SentimentWord\": \"3\", \"SentimentPolarity\": \"1\"}]}\n",
            "9 {\"Index\": \"54\", \"RawText\": \"디자인이 예뻐요. 사이즈 잘 맞습니다.\", \"Source\": \"쇼핑몰\", \"Domain\": \"패션\", \"MainCategory\": \"여성의류\", \"ProductName\": \"OO 여성 소프트 진주 아** 니트 2종 택1\", \"ReviewScore\": \"100\", \"Syllable\": \"21\", \"Word\": \"5\", \"RDate\": \"20211027\", \"GeneralPolarity\": \"1\", \"Aspects\": [{\"Aspect\": \"디자인\", \"SentimentText\": \"디자인이 예뻐요.\", \"SentimentWord\": \"2\", \"SentimentPolarity\": \"1\"}, {\"Aspect\": \"사이즈\", \"SentimentText\": \"사이즈 잘 맞습니다.\", \"SentimentWord\": \"3\", \"SentimentPolarity\": \"1\"}]}\n",
            "10 {\"Index\": \"55\", \"RawText\": \"사이즈 딱 맞구요.  너무 예쁘고  얇지도 두껍지도 않으네요.\", \"Source\": \"쇼핑몰\", \"Domain\": \"패션\", \"MainCategory\": \"여성의류\", \"ProductName\": \"OO 여성 소프트 진주 아** 니트 2종 택1\", \"ReviewScore\": \"100\", \"Syllable\": \"34\", \"Word\": \"8\", \"RDate\": \"20211027\", \"GeneralPolarity\": \"1\", \"Aspects\": [{\"Aspect\": \"사이즈\", \"SentimentText\": \"사이즈 딱 맞구요\", \"SentimentWord\": \"3\", \"SentimentPolarity\": \"1\"}, {\"Aspect\": \"디자인\", \"SentimentText\": \"너무 예쁘고\", \"SentimentWord\": \"2\", \"SentimentPolarity\": \"1\"}, {\"Aspect\": \"두께\", \"SentimentText\": \"얇지도 두껍지도 않으네요.\", \"SentimentWord\": \"3\", \"SentimentPolarity\": \"1\"}]}\n",
            "11 {\"Index\": \"57\", \"RawText\": \"저렴하게 구입해서 겨울에 잘 입을거 같아요\", \"Source\": \"쇼핑몰\", \"Domain\": \"패션\", \"MainCategory\": \"여성의류\", \"ProductName\": \"OO 여성 소프트 진주 아** 니트 2종 택1\", \"ReviewScore\": \"70\", \"Syllable\": \"23\", \"Word\": \"6\", \"RDate\": \"20210910\", \"GeneralPolarity\": \"1\", \"Aspects\": [{\"Aspect\": \"가격\", \"SentimentText\": \"저렴하게 구입해서\", \"SentimentWord\": \"2\", \"SentimentPolarity\": \"1\"}, {\"Aspect\": \"기능\", \"SentimentText\": \"겨울에 잘 입을거 같아요\", \"SentimentWord\": \"4\", \"SentimentPolarity\": \"1\"}]}\n",
            "12 {\"Index\": \"61\", \"RawText\": \"털이 엄청나게 빠집니다 면 바바리에 엄청나게 묻어나고  하루입고벗었더니 겨드랑이같은곳도 엄청 뭉처있니에요 그래서 세탁을 했더니 끝도없이 손에 털뭉치???? 들이 묻어나서 포기했습니다 이게불량인가요 왜이렇게 만드신건가요 옷디자인은 너무맘에드는데 털빠짐때매 옷이아니네여\", \"Source\": \"쇼핑몰\", \"Domain\": \"패션\", \"MainCategory\": \"여성의류\", \"ProductName\": \"OO 여성 소프트 진주 아** 니트 2종 택1\", \"ReviewScore\": \"10\", \"Syllable\": \"148\", \"Word\": \"27\", \"RDate\": \"20210421\", \"GeneralPolarity\": \"-1\", \"Aspects\": [{\"Aspect\": \"품질\", \"SentimentText\": \"털이 엄청나게 빠집니다 면 바바리에 엄청나게 묻어나고\", \"SentimentWord\": \"7\", \"SentimentPolarity\": \"-1\"}, {\"Aspect\": \"품질\", \"SentimentText\": \"하루입고벗었더니 겨드랑이같은곳도 엄청 뭉처있니에요\", \"SentimentWord\": \"4\", \"SentimentPolarity\": \"-1\"}, {\"Aspect\": \"품질\", \"SentimentText\": \"세탁을 했더니 끝도없이 손에 털뭉치???? 들이 묻어나서 포기했습니다\", \"SentimentWord\": \"8\", \"SentimentPolarity\": \"-1\"}, {\"Aspect\": \"디자인\", \"SentimentText\": \"옷디자인은 너무맘에드는데 \", \"SentimentWord\": \"2\", \"SentimentPolarity\": \"1\"}, {\"Aspect\": \"품질\", \"SentimentText\": \"털빠짐때매 옷이아니네여\", \"SentimentWord\": \"2\", \"SentimentPolarity\": \"-1\"}]}\n",
            "13 {\"Index\": \"63\", \"RawText\": \"디자인이 여성스러운 분위기가 납니다 구겨져와서 다림질 필요했어요\", \"Source\": \"쇼핑몰\", \"Domain\": \"패션\", \"MainCategory\": \"여성의류\", \"ProductName\": \"OO 크** 긴팔 니트 티셔츠 베이지\", \"ReviewScore\": \"90\", \"Syllable\": \"35\", \"Word\": \"7\", \"RDate\": \"20210916\", \"GeneralPolarity\": \"0\", \"Aspects\": [{\"Aspect\": \"디자인\", \"SentimentText\": \"디자인이 여성스러운 분위기가 납니다\", \"SentimentWord\": \"4\", \"SentimentPolarity\": \"1\"}, {\"Aspect\": \"품질\", \"SentimentText\": \"구겨져와서 다림질 필요했어요\", \"SentimentWord\": \"3\", \"SentimentPolarity\": \"-1\"}]}\n",
            "14 {\"Index\": \"64\", \"RawText\": \"99사이즈 입는데 88 사이즈 잘맞고~ 기장이 살짝 짧은듯 하지만 밝은색도 있고~ 까실까실하니 좋으네요~\", \"Source\": \"쇼핑몰\", \"Domain\": \"패션\", \"MainCategory\": \"여성의류\", \"ProductName\": \"OO 샤** 썸머 쿨니트 4종\", \"ReviewScore\": \"100\", \"Syllable\": \"58\", \"Word\": \"13\", \"RDate\": \"20210707\", \"GeneralPolarity\": \"1\", \"Aspects\": [{\"Aspect\": \"사이즈\", \"SentimentText\": \"99사이즈 입는데 88 사이즈 잘맞고\", \"SentimentWord\": \"5\", \"SentimentPolarity\": \"1\"}, {\"Aspect\": \"길이\", \"SentimentText\": \"기장이 살짝 짧은듯 \", \"SentimentWord\": \"3\", \"SentimentPolarity\": \"-1\"}, {\"Aspect\": \"색상\", \"SentimentText\": \"밝은색도 있고\", \"SentimentWord\": \"2\", \"SentimentPolarity\": \"1\"}, {\"Aspect\": \"촉감\", \"SentimentText\": \"까실까실하니 좋으네요~\", \"SentimentWord\": \"2\", \"SentimentPolarity\": \"1\"}]}\n",
            "15 {\"Index\": \"65\", \"RawText\": \"4종 마음에 들어요 색깔도 이쁘고 여름니트 입니다\", \"Source\": \"쇼핑몰\", \"Domain\": \"패션\", \"MainCategory\": \"여성의류\", \"ProductName\": \"OO 샤** 썸머 쿨니트 4종\", \"ReviewScore\": \"100\", \"Syllable\": \"27\", \"Word\": \"7\", \"RDate\": \"20210830\", \"GeneralPolarity\": \"1\", \"Aspects\": [{\"Aspect\": \"제품구성\", \"SentimentText\": \"4종 마음에 들어요\", \"SentimentWord\": \"3\", \"SentimentPolarity\": \"1\"}, {\"Aspect\": \"색상\", \"SentimentText\": \"색깔도 이쁘고\", \"SentimentWord\": \"2\", \"SentimentPolarity\": \"1\"}]}\n",
            "16 {\"Index\": \"69\", \"RawText\": \"색상이 예쁘고  구김이없어요\", \"Source\": \"쇼핑몰\", \"Domain\": \"패션\", \"MainCategory\": \"여성의류\", \"ProductName\": \"OO 샤** 썸머 쿨니트 4종\", \"ReviewScore\": \"100\", \"Syllable\": \"15\", \"Word\": \"3\", \"RDate\": \"20210811\", \"GeneralPolarity\": \"1\", \"Aspects\": [{\"Aspect\": \"색상\", \"SentimentText\": \"색상이 예쁘고\", \"SentimentWord\": \"2\", \"SentimentPolarity\": \"1\"}, {\"Aspect\": \"품질\", \"SentimentText\": \"구김이없어요\", \"SentimentWord\": \"1\", \"SentimentPolarity\": \"1\"}]}\n",
            "17 {\"Index\": \"71\", \"RawText\": \"색상 디자인 예쁘고 맘에들어요\", \"Source\": \"쇼핑몰\", \"Domain\": \"패션\", \"MainCategory\": \"여성의류\", \"ProductName\": \"OO 샤** 썸머 쿨니트 4종\", \"ReviewScore\": \"80\", \"Syllable\": \"16\", \"Word\": \"4\", \"RDate\": \"20210810\", \"GeneralPolarity\": \"1\", \"Aspects\": [{\"Aspect\": \"색상\", \"SentimentText\": \"색상 디자인 예쁘고\", \"SentimentWord\": \"3\", \"SentimentPolarity\": \"1\"}, {\"Aspect\": \"디자인\", \"SentimentText\": \"디자인 예쁘고\", \"SentimentWord\": \"2\", \"SentimentPolarity\": \"1\"}]}\n",
            "18 {\"Index\": \"74\", \"RawText\": \"가성비 갑입니다 가로패턴이라 더커 보이면 어쩌나 싶었는데 칼라고 디자인이고 다 만족합니다  가슴도  좀있는편이라  걱정했는데 핏이 괸찮아요  비치지 않아서 하나만 입고 다녀도될만 합니다\", \"Source\": \"쇼핑몰\", \"Domain\": \"패션\", \"MainCategory\": \"여성의류\", \"ProductName\": \"OO 샤** 썸머 쿨니트 4종\", \"ReviewScore\": \"100\", \"Syllable\": \"103\", \"Word\": \"22\", \"RDate\": \"20210714\", \"GeneralPolarity\": \"1\", \"Aspects\": [{\"Aspect\": \"가격\", \"SentimentText\": \"가성비 갑입니다\", \"SentimentWord\": \"2\", \"SentimentPolarity\": \"1\"}, {\"Aspect\": \"색상\", \"SentimentText\": \"칼라고 디자인이고 다 만족합니다\", \"SentimentWord\": \"4\", \"SentimentPolarity\": \"1\"}, {\"Aspect\": \"디자인\", \"SentimentText\": \"디자인이고 다 만족합니다\", \"SentimentWord\": \"3\", \"SentimentPolarity\": \"1\"}, {\"Aspect\": \"핏\", \"SentimentText\": \"핏이 괸찮아요\", \"SentimentWord\": \"2\", \"SentimentPolarity\": \"1\"}, {\"Aspect\": \"소재\", \"SentimentText\": \"비치지 않아서 하나만 입고 다녀도될만 합니다\", \"SentimentWord\": \"6\", \"SentimentPolarity\": \"1\"}]}\n",
            "19 {\"Index\": \"77\", \"RawText\": \"오 좋아요 이가격에 득템 했네요 살이쪄서 고민이었는데 어지간히 커버도 되고 가볍고 시원할듯 해요 잘 입을께요 바로 세탁하느라 시착만 해서 사진은 스크린샷 으로 대체해요 사진하고 똑 같으니 걱정마세요 추천 합니다\", \"Source\": \"쇼핑몰\", \"Domain\": \"패션\", \"MainCategory\": \"여성의류\", \"ProductName\": \"OO 샤** 썸머 쿨니트 4종\", \"ReviewScore\": \"100\", \"Syllable\": \"117\", \"Word\": \"29\", \"RDate\": \"20210706\", \"GeneralPolarity\": \"1\", \"Aspects\": [{\"Aspect\": \"가격\", \"SentimentText\": \"이가격에 득템 했네요\", \"SentimentWord\": \"3\", \"SentimentPolarity\": \"1\"}, {\"Aspect\": \"사이즈\", \"SentimentText\": \"어지간히 커버도 되고\", \"SentimentWord\": \"3\", \"SentimentPolarity\": \"1\"}, {\"Aspect\": \"무게\", \"SentimentText\": \"가볍고\", \"SentimentWord\": \"1\", \"SentimentPolarity\": \"1\"}, {\"Aspect\": \"기능\", \"SentimentText\": \"시원할듯 해요\", \"SentimentWord\": \"2\", \"SentimentPolarity\": \"1\"}]}\n",
            "20 {\"Index\": \"89\", \"RawText\": \"가격대비 최고예요 가볍고 좋아요\", \"Source\": \"쇼핑몰\", \"Domain\": \"패션\", \"MainCategory\": \"여성의류\", \"ProductName\": \"OO 샤** 썸머 쿨니트 4종\", \"ReviewScore\": \"100\", \"Syllable\": \"17\", \"Word\": \"4\", \"RDate\": \"20210708\", \"GeneralPolarity\": \"1\", \"Aspects\": [{\"Aspect\": \"가격\", \"SentimentText\": \"가격대비 최고예요\", \"SentimentWord\": \"2\", \"SentimentPolarity\": \"1\"}, {\"Aspect\": \"무게\", \"SentimentText\": \"가볍고 좋아요\", \"SentimentWord\": \"2\", \"SentimentPolarity\": \"1\"}]}\n",
            "21 {\"Index\": \"92\", \"RawText\": \"그레이상의는 비침이 약간있지만 가격대비 짱이에요.  상의는래이온인데 마재질 느낌입니다\", \"Source\": \"쇼핑몰\", \"Domain\": \"패션\", \"MainCategory\": \"여성의류\", \"ProductName\": \"OO 레** 카라 상하세트 3종 택1\", \"ReviewScore\": \"100\", \"Syllable\": \"47\", \"Word\": \"8\", \"RDate\": \"20210619\", \"GeneralPolarity\": \"1\", \"Aspects\": [{\"Aspect\": \"소재\", \"SentimentText\": \"그레이상의는 비침이 약간있지만\", \"SentimentWord\": \"3\", \"SentimentPolarity\": \"0\"}, {\"Aspect\": \"가격\", \"SentimentText\": \"가격대비 짱이에요.\", \"SentimentWord\": \"2\", \"SentimentPolarity\": \"1\"}, {\"Aspect\": \"소재\", \"SentimentText\": \"상의는래이온인데 마재질 느낌입니다\", \"SentimentWord\": \"3\", \"SentimentPolarity\": \"1\"}]}\n",
            "22 {\"Index\": \"93\", \"RawText\": \"싸게 잘샀어요~ 여름내 시원하게 잘입었습니다.\", \"Source\": \"쇼핑몰\", \"Domain\": \"패션\", \"MainCategory\": \"여성의류\", \"ProductName\": \"OO 레** 카라 상하세트 3종 택1\", \"ReviewScore\": \"100\", \"Syllable\": \"25\", \"Word\": \"5\", \"RDate\": \"20211030\", \"GeneralPolarity\": \"1\", \"Aspects\": [{\"Aspect\": \"가격\", \"SentimentText\": \"싸게 잘샀어요~\", \"SentimentWord\": \"2\", \"SentimentPolarity\": \"1\"}, {\"Aspect\": \"기능\", \"SentimentText\": \"여름내 시원하게 잘입었습니다.\", \"SentimentWord\": \"3\", \"SentimentPolarity\": \"1\"}]}\n",
            "23 {\"Index\": \"94\", \"RawText\": \"너~~무 얇고 후들후들.이런건 팔지마세요. 색상도 별로네요.\", \"Source\": \"쇼핑몰\", \"Domain\": \"패션\", \"MainCategory\": \"여성의류\", \"ProductName\": \"OO 레** 카라 상하세트 3종 택1\", \"ReviewScore\": \"20\", \"Syllable\": \"33\", \"Word\": \"6\", \"RDate\": \"20210831\", \"GeneralPolarity\": \"-1\", \"Aspects\": [{\"Aspect\": \"두께\", \"SentimentText\": \"너~~무 얇고 후들후들\", \"SentimentWord\": \"3\", \"SentimentPolarity\": \"-1\"}, {\"Aspect\": \"색상\", \"SentimentText\": \"색상도 별로네요.\", \"SentimentWord\": \"2\", \"SentimentPolarity\": \"-1\"}]}\n",
            "24 {\"Index\": \"97\", \"RawText\": \"구김이 심하고 상의는 66사이즈 시켰는데 기존 규격보다 너무 커서 못 입고 있어요ㅠ\", \"Source\": \"쇼핑몰\", \"Domain\": \"패션\", \"MainCategory\": \"여성의류\", \"ProductName\": \"OO 레** 카라 상하세트 3종 택1\", \"ReviewScore\": \"70\", \"Syllable\": \"46\", \"Word\": \"12\", \"RDate\": \"20210825\", \"GeneralPolarity\": \"-1\", \"Aspects\": [{\"Aspect\": \"소재\", \"SentimentText\": \"구김이 심하고\", \"SentimentWord\": \"2\", \"SentimentPolarity\": \"-1\"}, {\"Aspect\": \"사이즈\", \"SentimentText\": \"너무 커서 못 입고 있어요ㅠ\", \"SentimentWord\": \"5\", \"SentimentPolarity\": \"-1\"}]}\n",
            "25 {\"Index\": \"98\", \"RawText\": \"가볍고 촉감이 부드러워 잘 입고있습니다\", \"Source\": \"쇼핑몰\", \"Domain\": \"패션\", \"MainCategory\": \"여성의류\", \"ProductName\": \"OO 레** 카라 상하세트 3종 택1\", \"ReviewScore\": \"60\", \"Syllable\": \"21\", \"Word\": \"5\", \"RDate\": \"20210808\", \"GeneralPolarity\": \"1\", \"Aspects\": [{\"Aspect\": \"무게\", \"SentimentText\": \"가볍고\", \"SentimentWord\": \"1\", \"SentimentPolarity\": \"1\"}, {\"Aspect\": \"촉감\", \"SentimentText\": \"촉감이 부드러워\", \"SentimentWord\": \"2\", \"SentimentPolarity\": \"1\"}]}\n",
            "26 {\"Index\": \"100\", \"RawText\": \"편하고 간편하게 입을 수 있어서  좋아요 네이비로 구매했는데 셔츠와 바지가 색이 조금  달라서 별점 하나 뺐어요\", \"Source\": \"쇼핑몰\", \"Domain\": \"패션\", \"MainCategory\": \"여성의류\", \"ProductName\": \"OO 레** 카라 상하세트 3종 택1\", \"ReviewScore\": \"80\", \"Syllable\": \"62\", \"Word\": \"16\", \"RDate\": \"20210811\", \"GeneralPolarity\": \"0\", \"Aspects\": [{\"Aspect\": \"활용성\", \"SentimentText\": \"편하고 간편하게 입을 수 있어서  좋아요\", \"SentimentWord\": \"6\", \"SentimentPolarity\": \"1\"}, {\"Aspect\": \"색상\", \"SentimentText\": \"셔츠와 바지가 색이 조금  달라서 별점 하나 뺐어요\", \"SentimentWord\": \"8\", \"SentimentPolarity\": \"0\"}]}\n",
            "27 {\"Index\": \"102\", \"RawText\": \"사이즈  딱 맞고  디자인도 이쁘고 ~! 최고!!~~ 강추합니다\", \"Source\": \"쇼핑몰\", \"Domain\": \"패션\", \"MainCategory\": \"여성의류\", \"ProductName\": \"OO 레** 카라 상하세트 3종 택1\", \"ReviewScore\": \"100\", \"Syllable\": \"35\", \"Word\": \"8\", \"RDate\": \"20210808\", \"GeneralPolarity\": \"1\", \"Aspects\": [{\"Aspect\": \"사이즈\", \"SentimentText\": \"사이즈  딱 맞고 \", \"SentimentWord\": \"3\", \"SentimentPolarity\": \"1\"}, {\"Aspect\": \"디자인\", \"SentimentText\": \"디자인도 이쁘고 ~!\", \"SentimentWord\": \"3\", \"SentimentPolarity\": \"1\"}]}\n",
            "28 {\"Index\": \"108\", \"RawText\": \"재질은 까칠하고 바지는 핏이 별로 임\", \"Source\": \"쇼핑몰\", \"Domain\": \"패션\", \"MainCategory\": \"여성의류\", \"ProductName\": \"OO 레** 카라 상하세트 3종 택1\", \"ReviewScore\": \"60\", \"Syllable\": \"20\", \"Word\": \"6\", \"RDate\": \"20210803\", \"GeneralPolarity\": \"-1\", \"Aspects\": [{\"Aspect\": \"소재\", \"SentimentText\": \"재질은 까칠하고\", \"SentimentWord\": \"2\", \"SentimentPolarity\": \"-1\"}, {\"Aspect\": \"핏\", \"SentimentText\": \"바지는 핏이 별로 임\", \"SentimentWord\": \"4\", \"SentimentPolarity\": \"-1\"}]}\n",
            "29 {\"Index\": \"112\", \"RawText\": \"바지 약간 비침있어요.. 구김가는 레이온이고..그렇게 각잡힌옷이 아니라서 다림질해야하고 축축 쳐지는 느낌..뭐 가격대비 입을만은 해요\", \"Source\": \"쇼핑몰\", \"Domain\": \"패션\", \"MainCategory\": \"여성의류\", \"ProductName\": \"OO 레** 카라 상하세트 3종 택1\", \"ReviewScore\": \"60\", \"Syllable\": \"74\", \"Word\": \"14\", \"RDate\": \"20210608\", \"GeneralPolarity\": \"-1\", \"Aspects\": [{\"Aspect\": \"소재\", \"SentimentText\": \"약간 비침있어요\", \"SentimentWord\": \"2\", \"SentimentPolarity\": \"-1\"}, {\"Aspect\": \"소재\", \"SentimentText\": \"구김가는 레이온이고\", \"SentimentWord\": \"2\", \"SentimentPolarity\": \"-1\"}, {\"Aspect\": \"촉감\", \"SentimentText\": \"축축 쳐지는 느낌\", \"SentimentWord\": \"3\", \"SentimentPolarity\": \"-1\"}, {\"Aspect\": \"가격\", \"SentimentText\": \"가격대비 입을만은 해요\", \"SentimentWord\": \"3\", \"SentimentPolarity\": \"0\"}]}\n",
            "30 {\"Index\": \"113\", \"RawText\": \"소재,디자인도 좋아요 사이즈가 좀 큰듯해서 핑크로 작은사이즈를 구매할까했는데 품절인듯해서 그레이로 재구매 했어요  좋은 상품 저렴하게 구매해서 좋아요\", \"Source\": \"쇼핑몰\", \"Domain\": \"패션\", \"MainCategory\": \"여성의류\", \"ProductName\": \"OO 레** 카라 상하세트 3종 택1\", \"ReviewScore\": \"100\", \"Syllable\": \"83\", \"Word\": \"17\", \"RDate\": \"20210609\", \"GeneralPolarity\": \"1\", \"Aspects\": [{\"Aspect\": \"소재\", \"SentimentText\": \"소재,디자인도 좋아요\", \"SentimentWord\": \"2\", \"SentimentPolarity\": \"1\"}, {\"Aspect\": \"디자인\", \"SentimentText\": \"디자인도 좋아요\", \"SentimentWord\": \"2\", \"SentimentPolarity\": \"1\"}, {\"Aspect\": \"사이즈\", \"SentimentText\": \"사이즈가 좀 큰듯해서\", \"SentimentWord\": \"3\", \"SentimentPolarity\": \"0\"}, {\"Aspect\": \"가격\", \"SentimentText\": \"저렴하게 구매해서 좋아요\", \"SentimentWord\": \"3\", \"SentimentPolarity\": \"1\"}]}\n",
            "31 {\"Index\": \"117\", \"RawText\": \"네이비 입어보고 착한가격에 좋은품질에 재구매 합니다\", \"Source\": \"쇼핑몰\", \"Domain\": \"패션\", \"MainCategory\": \"여성의류\", \"ProductName\": \"OO 레** 카라 상하세트 3종 택1\", \"ReviewScore\": \"100\", \"Syllable\": \"28\", \"Word\": \"6\", \"RDate\": \"20210620\", \"GeneralPolarity\": \"1\", \"Aspects\": [{\"Aspect\": \"가격\", \"SentimentText\": \"착한가격에 좋은품질에 재구매 합니다\", \"SentimentWord\": \"4\", \"SentimentPolarity\": \"1\"}, {\"Aspect\": \"품질\", \"SentimentText\": \"좋은품질에 재구매 합니다\", \"SentimentWord\": \"3\", \"SentimentPolarity\": \"1\"}]}\n",
            "32 {\"Index\": \"124\", \"RawText\": \"소재가 인견 100% 라 촉감이 부드럽고 시원합니다  디자인도 예쁘고 다 달라 좋습니다  다만 레드와 블루는 목선이 좁아 입을때 조금 불편합니다  뒤집어 보니 주머니 한쪽면이 오버룩 처리가 안되어 완성도가 완벽하지는 않은듯 하네요 모두 주머니가 있어 활용도가 좋습니다  타사보다 가격이 비싸지만 쿠폰 적립금 사용하여 저렴하게 구입했습니다  잘 입겠습니다 ~^^\", \"Source\": \"쇼핑몰\", \"Domain\": \"패션\", \"MainCategory\": \"여성의류\", \"ProductName\": \"OO 여성 인견 원피스 3종세트\", \"ReviewScore\": \"100\", \"Syllable\": \"201\", \"Word\": \"47\", \"RDate\": \"20210714\", \"GeneralPolarity\": \"0\", \"Aspects\": [{\"Aspect\": \"촉감\", \"SentimentText\": \"촉감이 부드럽고\", \"SentimentWord\": \"2\", \"SentimentPolarity\": \"1\"}, {\"Aspect\": \"기능\", \"SentimentText\": \"시원합니다 \", \"SentimentWord\": \"1\", \"SentimentPolarity\": \"1\"}, {\"Aspect\": \"디자인\", \"SentimentText\": \"디자인도 예쁘고\", \"SentimentWord\": \"2\", \"SentimentPolarity\": \"1\"}, {\"Aspect\": \"신축성\", \"SentimentText\": \"레드와 블루는 목선이 좁아 입을때 조금 불편합니다\", \"SentimentWord\": \"7\", \"SentimentPolarity\": \"-1\"}, {\"Aspect\": \"마감\", \"SentimentText\": \"주머니 한쪽면이 오버룩 처리가 안되어 완성도가 완벽하지는 않은듯 하네요\", \"SentimentWord\": \"9\", \"SentimentPolarity\": \"-1\"}, {\"Aspect\": \"활용성\", \"SentimentText\": \"모두 주머니가 있어 활용도가 좋습니다 \", \"SentimentWord\": \"5\", \"SentimentPolarity\": \"1\"}, {\"Aspect\": \"가격\", \"SentimentText\": \"가격이 비싸지만\", \"SentimentWord\": \"2\", \"SentimentPolarity\": \"-1\"}, {\"Aspect\": \"가격\", \"SentimentText\": \"쿠폰 적립금 사용하여 저렴하게 구입했습니다 \", \"SentimentWord\": \"5\", \"SentimentPolarity\": \"1\"}, {\"Aspect\": \"디자인\", \"SentimentText\": \"다 달라 좋습니다 \", \"SentimentWord\": \"3\", \"SentimentPolarity\": \"1\"}]}\n",
            "33 {\"Index\": \"127\", \"RawText\": \"가성비 최고~^^ 시원하고 디자인도 좋아요\", \"Source\": \"쇼핑몰\", \"Domain\": \"패션\", \"MainCategory\": \"여성의류\", \"ProductName\": \"OO 여성 인견 원피스 3종세트\", \"ReviewScore\": \"100\", \"Syllable\": \"23\", \"Word\": \"5\", \"RDate\": \"20210901\", \"GeneralPolarity\": \"1\", \"Aspects\": [{\"Aspect\": \"가격\", \"SentimentText\": \"가성비 최고~^^\", \"SentimentWord\": \"2\", \"SentimentPolarity\": \"1\"}, {\"Aspect\": \"기능\", \"SentimentText\": \"시원하고 디자인도 좋아요\", \"SentimentWord\": \"3\", \"SentimentPolarity\": \"1\"}, {\"Aspect\": \"디자인\", \"SentimentText\": \"디자인도 좋아요\", \"SentimentWord\": \"2\", \"SentimentPolarity\": \"1\"}]}\n",
            "34 {\"Index\": \"128\", \"RawText\": \"시원하고 디자인이 넘 예뻐요 자꾸입게되요\", \"Source\": \"쇼핑몰\", \"Domain\": \"패션\", \"MainCategory\": \"여성의류\", \"ProductName\": \"OO 여성 인견 원피스 3종세트\", \"ReviewScore\": \"100\", \"Syllable\": \"22\", \"Word\": \"5\", \"RDate\": \"20210907\", \"GeneralPolarity\": \"1\", \"Aspects\": [{\"Aspect\": \"기능\", \"SentimentText\": \"시원하고\", \"SentimentWord\": \"1\", \"SentimentPolarity\": \"1\"}, {\"Aspect\": \"디자인\", \"SentimentText\": \"디자인이 넘 예뻐요\", \"SentimentWord\": \"3\", \"SentimentPolarity\": \"1\"}, {\"Aspect\": \"활용성\", \"SentimentText\": \"자꾸입게되요\", \"SentimentWord\": \"1\", \"SentimentPolarity\": \"1\"}]}\n",
            "35 {\"Index\": \"129\", \"RawText\": \"시원하고 길이도 적당해요.\", \"Source\": \"쇼핑몰\", \"Domain\": \"패션\", \"MainCategory\": \"여성의류\", \"ProductName\": \"OO 여성 인견 원피스 3종세트\", \"ReviewScore\": \"100\", \"Syllable\": \"14\", \"Word\": \"3\", \"RDate\": \"20210910\", \"GeneralPolarity\": \"1\", \"Aspects\": [{\"Aspect\": \"기능\", \"SentimentText\": \"시원하고\", \"SentimentWord\": \"1\", \"SentimentPolarity\": \"1\"}, {\"Aspect\": \"길이\", \"SentimentText\": \"길이도 적당해요.\", \"SentimentWord\": \"2\", \"SentimentPolarity\": \"1\"}]}\n",
            "36 {\"Index\": \"131\", \"RawText\": \"생각보다 원단이 좋네요 부드럽고 색감도좋아요 편하네요\", \"Source\": \"쇼핑몰\", \"Domain\": \"패션\", \"MainCategory\": \"여성의류\", \"ProductName\": \"OO 여성 인견 원피스 3종세트\", \"ReviewScore\": \"100\", \"Syllable\": \"29\", \"Word\": \"6\", \"RDate\": \"20210818\", \"GeneralPolarity\": \"1\", \"Aspects\": [{\"Aspect\": \"소재\", \"SentimentText\": \"생각보다 원단이 좋네요\", \"SentimentWord\": \"3\", \"SentimentPolarity\": \"1\"}, {\"Aspect\": \"촉감\", \"SentimentText\": \"부드럽고\", \"SentimentWord\": \"1\", \"SentimentPolarity\": \"1\"}, {\"Aspect\": \"색상\", \"SentimentText\": \"색감도좋아요\", \"SentimentWord\": \"1\", \"SentimentPolarity\": \"1\"}, {\"Aspect\": \"착용감\", \"SentimentText\": \"편하네요\", \"SentimentWord\": \"1\", \"SentimentPolarity\": \"1\"}]}\n",
            "37 {\"Index\": \"132\", \"RawText\": \"디자인도 색상도 모두마음에듭니다~  시원할거같아요\", \"Source\": \"쇼핑몰\", \"Domain\": \"패션\", \"MainCategory\": \"여성의류\", \"ProductName\": \"OO 여성 인견 원피스 3종세트\", \"ReviewScore\": \"100\", \"Syllable\": \"27\", \"Word\": \"4\", \"RDate\": \"20210822\", \"GeneralPolarity\": \"1\", \"Aspects\": [{\"Aspect\": \"디자인\", \"SentimentText\": \"디자인도 색상도 모두마음에듭니다~\", \"SentimentWord\": \"3\", \"SentimentPolarity\": \"1\"}, {\"Aspect\": \"색상\", \"SentimentText\": \"색상도 모두마음에듭니다~\", \"SentimentWord\": \"2\", \"SentimentPolarity\": \"1\"}, {\"Aspect\": \"소재\", \"SentimentText\": \"시원할거같아요\", \"SentimentWord\": \"1\", \"SentimentPolarity\": \"1\"}]}\n",
            "38 {\"Index\": \"134\", \"RawText\": \"이렇게 디자인 좋은 옷이 이렇게 싸다니 오자마자 입었는데. 정말 기가막히네요. 내가 입고찍어서   이모양이지만 진짜 좋아요. 강추\", \"Source\": \"쇼핑몰\", \"Domain\": \"패션\", \"MainCategory\": \"여성의류\", \"ProductName\": \"OO 여성 인견 원피스 3종세트\", \"ReviewScore\": \"100\", \"Syllable\": \"72\", \"Word\": \"16\", \"RDate\": \"20210817\", \"GeneralPolarity\": \"1\", \"Aspects\": [{\"Aspect\": \"디자인\", \"SentimentText\": \"이렇게 디자인 좋은 옷이\", \"SentimentWord\": \"4\", \"SentimentPolarity\": \"1\"}, {\"Aspect\": \"가격\", \"SentimentText\": \"이렇게 싸다니\", \"SentimentWord\": \"2\", \"SentimentPolarity\": \"1\"}]}\n",
            "39 {\"Index\": \"136\", \"RawText\": \"박시하게 해볼려고 일부로 한사쥬 크게 주문했어요.  40대이고 키작고 땅땅한 체형입니다.  까만색읏 외출복으로도 괜찮고 파란색 빨간색은 라운지웨어로 입어야할듯 천은 좋은편이에요.  주머니도 있고요.  가성비로 치면 만족합니다.\", \"Source\": \"쇼핑몰\", \"Domain\": \"패션\", \"MainCategory\": \"여성의류\", \"ProductName\": \"OO 여성 인견 원피스 3종세트\", \"ReviewScore\": \"80\", \"Syllable\": \"126\", \"Word\": \"24\", \"RDate\": \"20210814\", \"GeneralPolarity\": \"1\", \"Aspects\": [{\"Aspect\": \"활용성\", \"SentimentText\": \"까만색읏 외출복으로도 괜찮고\", \"SentimentWord\": \"3\", \"SentimentPolarity\": \"1\"}, {\"Aspect\": \"활용성\", \"SentimentText\": \"파란색 빨간색은 라운지웨어로 입어야할듯\", \"SentimentWord\": \"4\", \"SentimentPolarity\": \"0\"}, {\"Aspect\": \"소재\", \"SentimentText\": \"천은 좋은편이에요.  \", \"SentimentWord\": \"2\", \"SentimentPolarity\": \"1\"}, {\"Aspect\": \"가격\", \"SentimentText\": \"가성비로 치면 만족합니다.\", \"SentimentWord\": \"3\", \"SentimentPolarity\": \"1\"}]}\n",
            "40 {\"Index\": \"138\", \"RawText\": \"너무 싸서 기대안했는데 디자인 넘  이뻐요~~\", \"Source\": \"쇼핑몰\", \"Domain\": \"패션\", \"MainCategory\": \"여성의류\", \"ProductName\": \"OO 여성 인견 원피스 3종세트\", \"ReviewScore\": \"100\", \"Syllable\": \"25\", \"Word\": \"6\", \"RDate\": \"20210817\", \"GeneralPolarity\": \"1\", \"Aspects\": [{\"Aspect\": \"가격\", \"SentimentText\": \"너무 싸서 기대안했는데\", \"SentimentWord\": \"3\", \"SentimentPolarity\": \"0\"}, {\"Aspect\": \"디자인\", \"SentimentText\": \"디자인 넘  이뻐요~~\", \"SentimentWord\": \"3\", \"SentimentPolarity\": \"1\"}]}\n",
            "41 {\"Index\": \"139\", \"RawText\": \"너무 맘에듭니다 인견옷은 처음 구매한건데 저는 좋네요 디자인도 두께감도 크기도 너무 잘 맞아서 추천하고 싶어요\", \"Source\": \"쇼핑몰\", \"Domain\": \"패션\", \"MainCategory\": \"여성의류\", \"ProductName\": \"OO 여성 인견 원피스 3종세트\", \"ReviewScore\": \"100\", \"Syllable\": \"61\", \"Word\": \"15\", \"RDate\": \"20210814\", \"GeneralPolarity\": \"1\", \"Aspects\": [{\"Aspect\": \"디자인\", \"SentimentText\": \"디자인도 두께감도 크기도 너무 잘 맞아서\", \"SentimentWord\": \"6\", \"SentimentPolarity\": \"1\"}, {\"Aspect\": \"두께\", \"SentimentText\": \"두께감도 크기도 너무 잘 맞아서\", \"SentimentWord\": \"5\", \"SentimentPolarity\": \"1\"}, {\"Aspect\": \"사이즈\", \"SentimentText\": \"크기도 너무 잘 맞아서\", \"SentimentWord\": \"4\", \"SentimentPolarity\": \"1\"}]}\n",
            "42 {\"Index\": \"141\", \"RawText\": \"가격도저렴하고 이뻐서 언니한테 선물로보냈는데 넘얇아서 집에서 편하게입는다고하네요~\", \"Source\": \"쇼핑몰\", \"Domain\": \"패션\", \"MainCategory\": \"여성의류\", \"ProductName\": \"OO 여성 인견 원피스 3종세트\", \"ReviewScore\": \"100\", \"Syllable\": \"45\", \"Word\": \"7\", \"RDate\": \"20210813\", \"GeneralPolarity\": \"0\", \"Aspects\": [{\"Aspect\": \"가격\", \"SentimentText\": \"가격도저렴하고\", \"SentimentWord\": \"1\", \"SentimentPolarity\": \"1\"}, {\"Aspect\": \"디자인\", \"SentimentText\": \"이뻐서\", \"SentimentWord\": \"1\", \"SentimentPolarity\": \"1\"}, {\"Aspect\": \"두께\", \"SentimentText\": \"넘얇아서\", \"SentimentWord\": \"1\", \"SentimentPolarity\": \"-1\"}, {\"Aspect\": \"활용성\", \"SentimentText\": \"집에서 편하게입는다고하네요~\", \"SentimentWord\": \"2\", \"SentimentPolarity\": \"0\"}]}\n",
            "43 {\"Index\": \"143\", \"RawText\": \"소재가 가볍고 색상도 산뜻하니 아주 좋아요.\", \"Source\": \"쇼핑몰\", \"Domain\": \"패션\", \"MainCategory\": \"여성의류\", \"ProductName\": \"OO 여성 인견 원피스 3종세트\", \"ReviewScore\": \"100\", \"Syllable\": \"24\", \"Word\": \"6\", \"RDate\": \"20210823\", \"GeneralPolarity\": \"1\", \"Aspects\": [{\"Aspect\": \"소재\", \"SentimentText\": \"소재가 가볍고\", \"SentimentWord\": \"2\", \"SentimentPolarity\": \"1\"}, {\"Aspect\": \"색상\", \"SentimentText\": \"색상도 산뜻하니 아주 좋아요.\", \"SentimentWord\": \"4\", \"SentimentPolarity\": \"1\"}]}\n",
            "44 {\"Index\": \"144\", \"RawText\": \"매우 만족합니다~ 시원하고 몽에 붙지않아 좋아요~~\", \"Source\": \"쇼핑몰\", \"Domain\": \"패션\", \"MainCategory\": \"여성의류\", \"ProductName\": \"OO 여성 인견 원피스 3종세트\", \"ReviewScore\": \"90\", \"Syllable\": \"28\", \"Word\": \"6\", \"RDate\": \"20210825\", \"GeneralPolarity\": \"1\", \"Aspects\": [{\"Aspect\": \"기능\", \"SentimentText\": \"시원하고\", \"SentimentWord\": \"1\", \"SentimentPolarity\": \"1\"}, {\"Aspect\": \"착용감\", \"SentimentText\": \"몽에 붙지않아 좋아요~~\", \"SentimentWord\": \"3\", \"SentimentPolarity\": \"1\"}]}\n",
            "45 {\"Index\": \"145\", \"RawText\": \"OOO 인견원피스 구매후 디자인이 예쁜 듯해 구매했는데 길이가 주황색 원피스는 많이 짧네요 그래도 다양한 디자인 좋아요~♡\", \"Source\": \"쇼핑몰\", \"Domain\": \"패션\", \"MainCategory\": \"여성의류\", \"ProductName\": \"OO 여성 인견 원피스 3종세트\", \"ReviewScore\": \"70\", \"Syllable\": \"68\", \"Word\": \"16\", \"RDate\": \"20210825\", \"GeneralPolarity\": \"0\", \"Aspects\": [{\"Aspect\": \"길이\", \"SentimentText\": \"길이가 주황색 원피스는 많이 짧네요\", \"SentimentWord\": \"5\", \"SentimentPolarity\": \"-1\"}, {\"Aspect\": \"디자인\", \"SentimentText\": \"다양한 디자인 좋아요~♡\", \"SentimentWord\": \"3\", \"SentimentPolarity\": \"1\"}]}\n",
            "46 {\"Index\": \"146\", \"RawText\": \"핏은 제가 살이쪄서 55반은 되는거같은데 55주문했더니 레드가 좀 더 여유있고  블루도 편한편이예요~ 한사이즈 업해서 입으면 핏이 안 이쁠거같아요.. 레드 세탁했더니 마감 올 살짝 풀림ㅜ 암튼 원단이 너무 좋아서 별 5개 아깝지않네요~^^\", \"Source\": \"쇼핑몰\", \"Domain\": \"패션\", \"MainCategory\": \"여성의류\", \"ProductName\": \"OO 여성 인견 원피스 3종세트\", \"ReviewScore\": \"100\", \"Syllable\": \"133\", \"Word\": \"31\", \"RDate\": \"20210812\", \"GeneralPolarity\": \"1\", \"Aspects\": [{\"Aspect\": \"사이즈\", \"SentimentText\": \"레드가 좀 더 여유있고  블루도 편한편이예요~\", \"SentimentWord\": \"6\", \"SentimentPolarity\": \"1\"}, {\"Aspect\": \"마감\", \"SentimentText\": \"마감 올 살짝 풀림ㅜ\", \"SentimentWord\": \"4\", \"SentimentPolarity\": \"-1\"}, {\"Aspect\": \"소재\", \"SentimentText\": \"원단이 너무 좋아서 별 5개 아깝지않네요~^^\", \"SentimentWord\": \"6\", \"SentimentPolarity\": \"1\"}]}\n",
            "47 {\"Index\": \"147\", \"RawText\": \"그냥 집에서나 입어야할듯 편하긴한데 이쁨은 별루\", \"Source\": \"쇼핑몰\", \"Domain\": \"패션\", \"MainCategory\": \"여성의류\", \"ProductName\": \"OO 여성 인견 원피스 3종세트\", \"ReviewScore\": \"60\", \"Syllable\": \"26\", \"Word\": \"6\", \"RDate\": \"20210812\", \"GeneralPolarity\": \"-1\", \"Aspects\": [{\"Aspect\": \"활용성\", \"SentimentText\": \"집에서나 입어야할듯\", \"SentimentWord\": \"2\", \"SentimentPolarity\": \"-1\"}, {\"Aspect\": \"착용감\", \"SentimentText\": \" 편하긴한데\", \"SentimentWord\": \"1\", \"SentimentPolarity\": \"1\"}, {\"Aspect\": \"디자인\", \"SentimentText\": \"이쁨은 별루\", \"SentimentWord\": \"2\", \"SentimentPolarity\": \"-1\"}]}\n",
            "48 {\"Index\": \"151\", \"RawText\": \"저렴하게 구매잘했어요. 하지만 한옷바느질상태가 좋지않아 기분이별로. 반품하기귀찮아 손좀봐 입네요.\", \"Source\": \"쇼핑몰\", \"Domain\": \"패션\", \"MainCategory\": \"여성의류\", \"ProductName\": \"OO 여성 인견 원피스 3종세트\", \"ReviewScore\": \"100\", \"Syllable\": \"54\", \"Word\": \"9\", \"RDate\": \"20210812\", \"GeneralPolarity\": \"-1\", \"Aspects\": [{\"Aspect\": \"가격\", \"SentimentText\": \"저렴하게 구매잘했어요.\", \"SentimentWord\": \"2\", \"SentimentPolarity\": \"1\"}, {\"Aspect\": \"마감\", \"SentimentText\": \"한옷바느질상태가 좋지않아 기분이별로.\", \"SentimentWord\": \"3\", \"SentimentPolarity\": \"-1\"}]}\n",
            "49 {\"Index\": \"152\", \"RawText\": \"데일리 티셔츠로 아주 편하게 잘 입고 있습니다 원단이   피부에도 좋고 촉감이 좋습니다\", \"Source\": \"쇼핑몰\", \"Domain\": \"패션\", \"MainCategory\": \"여성의류\", \"ProductName\": \"OO 여성 시** 실크코튼 티셔츠 4종 세트\", \"ReviewScore\": \"100\", \"Syllable\": \"48\", \"Word\": \"12\", \"RDate\": \"20210812\", \"GeneralPolarity\": \"1\", \"Aspects\": [{\"Aspect\": \"착용감\", \"SentimentText\": \"아주 편하게 잘 입고 있습니다\", \"SentimentWord\": \"5\", \"SentimentPolarity\": \"1\"}, {\"Aspect\": \"소재\", \"SentimentText\": \"원단이   피부에도 좋고\", \"SentimentWord\": \"3\", \"SentimentPolarity\": \"1\"}, {\"Aspect\": \"촉감\", \"SentimentText\": \" 촉감이 좋습니다\", \"SentimentWord\": \"2\", \"SentimentPolarity\": \"1\"}]}\n",
            "50 {\"Index\": \"157\", \"RawText\": \"엄마가 디자인을 좋아해요 얇지만 괜찮아요\", \"Source\": \"쇼핑몰\", \"Domain\": \"패션\", \"MainCategory\": \"여성의류\", \"ProductName\": \"OO 여성 시** 실크코튼 티셔츠 4종 세트\", \"ReviewScore\": \"100\", \"Syllable\": \"22\", \"Word\": \"5\", \"RDate\": \"20210815\", \"GeneralPolarity\": \"1\", \"Aspects\": [{\"Aspect\": \"디자인\", \"SentimentText\": \"엄마가 디자인을 좋아해요\", \"SentimentWord\": \"3\", \"SentimentPolarity\": \"1\"}, {\"Aspect\": \"두께\", \"SentimentText\": \"얇지만 괜찮아요\", \"SentimentWord\": \"2\", \"SentimentPolarity\": \"1\"}]}\n",
            "51 {\"Index\": \"159\", \"RawText\": \"소재도 좋고 맘에 꼭 들어요 입어보니 시원하고 편안해요\", \"Source\": \"쇼핑몰\", \"Domain\": \"패션\", \"MainCategory\": \"여성의류\", \"ProductName\": \"OO 여성 시** 실크코튼 티셔츠 4종 세트\", \"ReviewScore\": \"40\", \"Syllable\": \"30\", \"Word\": \"8\", \"RDate\": \"20210805\", \"GeneralPolarity\": \"1\", \"Aspects\": [{\"Aspect\": \"소재\", \"SentimentText\": \"소재도 좋고\", \"SentimentWord\": \"2\", \"SentimentPolarity\": \"1\"}, {\"Aspect\": \"기능\", \"SentimentText\": \"시원하고\", \"SentimentWord\": \"1\", \"SentimentPolarity\": \"1\"}, {\"Aspect\": \"착용감\", \"SentimentText\": \"편안해요\", \"SentimentWord\": \"1\", \"SentimentPolarity\": \"1\"}]}\n",
            "52 {\"Index\": \"161\", \"RawText\": \"품질좋고 가격좋고 득템했네요\", \"Source\": \"쇼핑몰\", \"Domain\": \"패션\", \"MainCategory\": \"여성의류\", \"ProductName\": \"OO 여성 시** 실크코튼 티셔츠 4종 세트\", \"ReviewScore\": \"100\", \"Syllable\": \"15\", \"Word\": \"3\", \"RDate\": \"20210808\", \"GeneralPolarity\": \"1\", \"Aspects\": [{\"Aspect\": \"품질\", \"SentimentText\": \"품질좋고\", \"SentimentWord\": \"1\", \"SentimentPolarity\": \"1\"}, {\"Aspect\": \"가격\", \"SentimentText\": \"가격좋고\", \"SentimentWord\": \"1\", \"SentimentPolarity\": \"1\"}]}\n",
            "53 {\"Index\": \"163\", \"RawText\": \"배송은 괜찮은데 색이 생각보다 노란끼?누런색이라 놀랬어요 ㅜㅜ  입어보니 괜찮은 듯 하긴 하지만 색상이 썩 맘에 들진 않아요 ㅜㅜ 색 고민 후 선택하세요~\", \"Source\": \"쇼핑몰\", \"Domain\": \"패션\", \"MainCategory\": \"여성의류\", \"ProductName\": \"OO 클** 카라 반팔티셔츠 12종 택1\", \"ReviewScore\": \"80\", \"Syllable\": \"86\", \"Word\": \"22\", \"RDate\": \"20210901\", \"GeneralPolarity\": \"-1\", \"Aspects\": [{\"Aspect\": \"색상\", \"SentimentText\": \"색이 생각보다 노란끼?누런색이라 놀랬어요 ㅜㅜ\", \"SentimentWord\": \"5\", \"SentimentPolarity\": \"-1\"}, {\"Aspect\": \"색상\", \"SentimentText\": \"색상이 썩 맘에 들진 않아요 ㅜㅜ\", \"SentimentWord\": \"6\", \"SentimentPolarity\": \"-1\"}]}\n",
            "54 {\"Index\": \"165\", \"RawText\": \"제품저렴하고 이뻐요 소재도 좋앙ᆢ\", \"Source\": \"쇼핑몰\", \"Domain\": \"패션\", \"MainCategory\": \"여성의류\", \"ProductName\": \"OO 클** 카라 반팔티셔츠 12종 택1\", \"ReviewScore\": \"100\", \"Syllable\": \"18\", \"Word\": \"4\", \"RDate\": \"20210829\", \"GeneralPolarity\": \"1\", \"Aspects\": [{\"Aspect\": \"가격\", \"SentimentText\": \"저렴하고\", \"SentimentWord\": \"1\", \"SentimentPolarity\": \"1\"}, {\"Aspect\": \"디자인\", \"SentimentText\": \"이뻐요\", \"SentimentWord\": \"1\", \"SentimentPolarity\": \"1\"}, {\"Aspect\": \"소재\", \"SentimentText\": \"소재도 좋앙ᆢ\", \"SentimentWord\": \"2\", \"SentimentPolarity\": \"1\"}]}\n",
            "55 {\"Index\": \"166\", \"RawText\": \"저렴한 가격에 득템입니다. M사이즈는 100~105중간쯤으로 잘 맞습니다.\", \"Source\": \"쇼핑몰\", \"Domain\": \"패션\", \"MainCategory\": \"여성의류\", \"ProductName\": \"OO 클** 카라 반팔티셔츠 12종 택1\", \"ReviewScore\": \"100\", \"Syllable\": \"41\", \"Word\": \"7\", \"RDate\": \"20210820\", \"GeneralPolarity\": \"1\", \"Aspects\": [{\"Aspect\": \"가격\", \"SentimentText\": \"저렴한 가격에 득템입니다.\", \"SentimentWord\": \"3\", \"SentimentPolarity\": \"1\"}, {\"Aspect\": \"사이즈\", \"SentimentText\": \"M사이즈는 100~105중간쯤으로 잘 맞습니다.\", \"SentimentWord\": \"4\", \"SentimentPolarity\": \"1\"}]}\n",
            "56 {\"Index\": \"167\", \"RawText\": \"저렴한 가격에  행사할때 더 싸게 구매해서 너무 맘에 들어요\", \"Source\": \"쇼핑몰\", \"Domain\": \"패션\", \"MainCategory\": \"여성의류\", \"ProductName\": \"OO 클** 카라 반팔티셔츠 12종 택1\", \"ReviewScore\": \"100\", \"Syllable\": \"33\", \"Word\": \"9\", \"RDate\": \"20210824\", \"GeneralPolarity\": \"1\", \"Aspects\": [{\"Aspect\": \"가격\", \"SentimentText\": \"저렴한 가격에\", \"SentimentWord\": \"2\", \"SentimentPolarity\": \"1\"}, {\"Aspect\": \"가격\", \"SentimentText\": \"행사할때 더 싸게 구매해서 너무 맘에 들어요\", \"SentimentWord\": \"7\", \"SentimentPolarity\": \"1\"}]}\n",
            "57 {\"Index\": \"169\", \"RawText\": \"약간 이염되서 왔는데 그냥 입으려고요  입어보니 핏이 이쁘긴 하네영\", \"Source\": \"쇼핑몰\", \"Domain\": \"패션\", \"MainCategory\": \"여성의류\", \"ProductName\": \"OO 클** 카라 반팔티셔츠 12종 택1\", \"ReviewScore\": \"70\", \"Syllable\": \"37\", \"Word\": \"9\", \"RDate\": \"20210824\", \"GeneralPolarity\": \"1\", \"Aspects\": [{\"Aspect\": \"품질\", \"SentimentText\": \"약간 이염되서 왔는데\", \"SentimentWord\": \"3\", \"SentimentPolarity\": \"-1\"}, {\"Aspect\": \"핏\", \"SentimentText\": \" 핏이 이쁘긴 하네영\", \"SentimentWord\": \"3\", \"SentimentPolarity\": \"1\"}]}\n",
            "58 {\"Index\": \"176\", \"RawText\": \"얇은 니트티 싸이즈는좋은데 몸에닿았을때  따가운감이 있네요\", \"Source\": \"쇼핑몰\", \"Domain\": \"패션\", \"MainCategory\": \"여성의류\", \"ProductName\": \"OO 울블랜디드 여성 니트 3종\", \"ReviewScore\": \"80\", \"Syllable\": \"32\", \"Word\": \"6\", \"RDate\": \"20210914\", \"GeneralPolarity\": \"0\", \"Aspects\": [{\"Aspect\": \"사이즈\", \"SentimentText\": \"싸이즈는좋은데\", \"SentimentWord\": \"1\", \"SentimentPolarity\": \"1\"}, {\"Aspect\": \"촉감\", \"SentimentText\": \"따가운감이 있네요\", \"SentimentWord\": \"2\", \"SentimentPolarity\": \"-1\"}, {\"Aspect\": \"두께\", \"SentimentText\": \"얇은 니트티\", \"SentimentWord\": \"2\", \"SentimentPolarity\": \"0\"}]}\n",
            "59 {\"Index\": \"178\", \"RawText\": \"생각보다 얇고 촉감이 약간 깔깔해요\", \"Source\": \"쇼핑몰\", \"Domain\": \"패션\", \"MainCategory\": \"여성의류\", \"ProductName\": \"OO 울블랜디드 여성 니트 3종\", \"ReviewScore\": \"100\", \"Syllable\": \"19\", \"Word\": \"5\", \"RDate\": \"20211023\", \"GeneralPolarity\": \"-1\", \"Aspects\": [{\"Aspect\": \"두께\", \"SentimentText\": \"생각보다 얇고\", \"SentimentWord\": \"2\", \"SentimentPolarity\": \"-1\"}, {\"Aspect\": \"촉감\", \"SentimentText\": \"촉감이 약간 깔깔해요\", \"SentimentWord\": \"3\", \"SentimentPolarity\": \"-1\"}]}\n",
            "60 {\"Index\": \"179\", \"RawText\": \"얇아서 입기좋아요. 가격대비 대만족입니다. 감촉도 좋고 디자인도 괜찮아요\", \"Source\": \"쇼핑몰\", \"Domain\": \"패션\", \"MainCategory\": \"여성의류\", \"ProductName\": \"OO 울블랜디드 여성 니트 3종\", \"ReviewScore\": \"100\", \"Syllable\": \"40\", \"Word\": \"8\", \"RDate\": \"20210919\", \"GeneralPolarity\": \"1\", \"Aspects\": [{\"Aspect\": \"두께\", \"SentimentText\": \"얇아서 입기좋아요\", \"SentimentWord\": \"2\", \"SentimentPolarity\": \"1\"}, {\"Aspect\": \"가격\", \"SentimentText\": \"가격대비 대만족입니다.\", \"SentimentWord\": \"2\", \"SentimentPolarity\": \"1\"}, {\"Aspect\": \"촉감\", \"SentimentText\": \"감촉도 좋고\", \"SentimentWord\": \"2\", \"SentimentPolarity\": \"1\"}, {\"Aspect\": \"디자인\", \"SentimentText\": \"디자인도 괜찮아요\", \"SentimentWord\": \"2\", \"SentimentPolarity\": \"1\"}]}\n",
            "61 {\"Index\": \"180\", \"RawText\": \"얇은데 입어보니 꽤 포근해요. 재질도 부들부들한게 감촉도 괘안구 디자인도 심심하지 않게 포인트 있어서 좋네요.\", \"Source\": \"쇼핑몰\", \"Domain\": \"패션\", \"MainCategory\": \"여성의류\", \"ProductName\": \"OO 울블랜디드 여성 니트 3종\", \"ReviewScore\": \"100\", \"Syllable\": \"61\", \"Word\": \"14\", \"RDate\": \"20210915\", \"GeneralPolarity\": \"1\", \"Aspects\": [{\"Aspect\": \"두께\", \"SentimentText\": \"얇은데\", \"SentimentWord\": \"1\", \"SentimentPolarity\": \"1\"}, {\"Aspect\": \"기능\", \"SentimentText\": \"꽤 포근해요.\", \"SentimentWord\": \"2\", \"SentimentPolarity\": \"1\"}, {\"Aspect\": \"소재\", \"SentimentText\": \"재질도 부들부들한게 \", \"SentimentWord\": \"2\", \"SentimentPolarity\": \"1\"}, {\"Aspect\": \"디자인\", \"SentimentText\": \"디자인도 심심하지 않게 포인트 있어서 좋네요.\", \"SentimentWord\": \"6\", \"SentimentPolarity\": \"1\"}, {\"Aspect\": \"촉감\", \"SentimentText\": \"감촉도 괘안구\", \"SentimentWord\": \"2\", \"SentimentPolarity\": \"1\"}]}\n",
            "62 {\"Index\": \"182\", \"RawText\": \"색감도 굿 가격도 굿입니다\", \"Source\": \"쇼핑몰\", \"Domain\": \"패션\", \"MainCategory\": \"여성의류\", \"ProductName\": \"OO 라** 니트 4종세트\", \"ReviewScore\": \"100\", \"Syllable\": \"14\", \"Word\": \"4\", \"RDate\": \"20211123\", \"GeneralPolarity\": \"1\", \"Aspects\": [{\"Aspect\": \"색상\", \"SentimentText\": \"색감도 굿\", \"SentimentWord\": \"2\", \"SentimentPolarity\": \"1\"}, {\"Aspect\": \"가격\", \"SentimentText\": \"가격도 굿입니다\", \"SentimentWord\": \"2\", \"SentimentPolarity\": \"1\"}]}\n",
            "63 {\"Index\": \"184\", \"RawText\": \"잘 입고 있어요. 따뜻하고 착용감이 편합니다\", \"Source\": \"쇼핑몰\", \"Domain\": \"패션\", \"MainCategory\": \"여성의류\", \"ProductName\": \"OO 웜 소프트 부** 니트 3종세트\", \"ReviewScore\": \"100\", \"Syllable\": \"24\", \"Word\": \"6\", \"RDate\": \"20220106\", \"GeneralPolarity\": \"1\", \"Aspects\": [{\"Aspect\": \"기능\", \"SentimentText\": \"따뜻하고\", \"SentimentWord\": \"1\", \"SentimentPolarity\": \"1\"}, {\"Aspect\": \"착용감\", \"SentimentText\": \"착용감이 편합니다\", \"SentimentWord\": \"2\", \"SentimentPolarity\": \"1\"}]}\n",
            "64 {\"Index\": \"185\", \"RawText\": \"보들보들 넘 좋아요.. 이가격에 3벌이나.. 진짜 최고..\", \"Source\": \"쇼핑몰\", \"Domain\": \"패션\", \"MainCategory\": \"여성의류\", \"ProductName\": \"OO 웜 소프트 부** 니트 3종세트\", \"ReviewScore\": \"100\", \"Syllable\": \"32\", \"Word\": \"7\", \"RDate\": \"20211219\", \"GeneralPolarity\": \"1\", \"Aspects\": [{\"Aspect\": \"촉감\", \"SentimentText\": \"보들보들 넘 좋아요..\", \"SentimentWord\": \"3\", \"SentimentPolarity\": \"1\"}, {\"Aspect\": \"가격\", \"SentimentText\": \"이가격에 3벌이나.. \", \"SentimentWord\": \"2\", \"SentimentPolarity\": \"1\"}]}\n",
            "65 {\"Index\": \"187\", \"RawText\": \"금액이   저렴해도 기대를  했었는데  그  갑어치밖에  안되는군요  그만큼만    입겠습니다\", \"Source\": \"쇼핑몰\", \"Domain\": \"패션\", \"MainCategory\": \"여성의류\", \"ProductName\": \"OO 웜 소프트 부** 니트 3종세트\", \"ReviewScore\": \"60\", \"Syllable\": \"52\", \"Word\": \"9\", \"RDate\": \"20211209\", \"GeneralPolarity\": \"-1\", \"Aspects\": [{\"Aspect\": \"가격\", \"SentimentText\": \"금액이   저렴해도\", \"SentimentWord\": \"2\", \"SentimentPolarity\": \"1\"}, {\"Aspect\": \"가격\", \"SentimentText\": \"그  갑어치밖에  안되는군요 \", \"SentimentWord\": \"3\", \"SentimentPolarity\": \"-1\"}]}\n",
            "66 {\"Index\": \"188\", \"RawText\": \"추위타는 딸아이가 따뜻하고 목이   답답하지 않다고 잘입고 있어요~~~^^\", \"Source\": \"쇼핑몰\", \"Domain\": \"패션\", \"MainCategory\": \"여성의류\", \"ProductName\": \"OO 웜 소프트 부** 니트 3종세트\", \"ReviewScore\": \"100\", \"Syllable\": \"41\", \"Word\": \"8\", \"RDate\": \"20220108\", \"GeneralPolarity\": \"1\", \"Aspects\": [{\"Aspect\": \"기능\", \"SentimentText\": \"따뜻하고\", \"SentimentWord\": \"1\", \"SentimentPolarity\": \"1\"}, {\"Aspect\": \"착용감\", \"SentimentText\": \"목이   답답하지 않다고\", \"SentimentWord\": \"3\", \"SentimentPolarity\": \"1\"}]}\n",
            "67 {\"Index\": \"190\", \"RawText\": \"부들부들 포근하고 가볍고 따뜻해요 색상도 다 맘에 드네요\", \"Source\": \"쇼핑몰\", \"Domain\": \"패션\", \"MainCategory\": \"여성의류\", \"ProductName\": \"OO 웜 소프트 부** 니트 3종세트\", \"ReviewScore\": \"100\", \"Syllable\": \"31\", \"Word\": \"8\", \"RDate\": \"20211226\", \"GeneralPolarity\": \"1\", \"Aspects\": [{\"Aspect\": \"촉감\", \"SentimentText\": \"부들부들 포근하고\", \"SentimentWord\": \"2\", \"SentimentPolarity\": \"1\"}, {\"Aspect\": \"무게\", \"SentimentText\": \"가볍고\", \"SentimentWord\": \"1\", \"SentimentPolarity\": \"1\"}, {\"Aspect\": \"기능\", \"SentimentText\": \"따뜻해요\", \"SentimentWord\": \"1\", \"SentimentPolarity\": \"1\"}, {\"Aspect\": \"색상\", \"SentimentText\": \"색상도 다 맘에 드네요\", \"SentimentWord\": \"4\", \"SentimentPolarity\": \"1\"}]}\n",
            "68 {\"Index\": \"192\", \"RawText\": \"너무 따뜻하고 색깔도 이쁘고 다 만족합니다 감사합니다 잘입을께요\", \"Source\": \"쇼핑몰\", \"Domain\": \"패션\", \"MainCategory\": \"여성의류\", \"ProductName\": \"OO 웜 소프트 부** 니트 3종세트\", \"ReviewScore\": \"100\", \"Syllable\": \"35\", \"Word\": \"8\", \"RDate\": \"20211216\", \"GeneralPolarity\": \"1\", \"Aspects\": [{\"Aspect\": \"기능\", \"SentimentText\": \"너무 따뜻하고\", \"SentimentWord\": \"2\", \"SentimentPolarity\": \"1\"}, {\"Aspect\": \"색상\", \"SentimentText\": \"색깔도 이쁘고 다 만족합니다\", \"SentimentWord\": \"4\", \"SentimentPolarity\": \"1\"}]}\n",
            "69 {\"Index\": \"193\", \"RawText\": \"부클니트 따뜻하고 촉감이 부드러워요 보풀이 일어나지  않았으면 좋겠어요\", \"Source\": \"쇼핑몰\", \"Domain\": \"패션\", \"MainCategory\": \"여성의류\", \"ProductName\": \"OO 웜 소프트 부** 니트 3종세트\", \"ReviewScore\": \"80\", \"Syllable\": \"39\", \"Word\": \"8\", \"RDate\": \"20211215\", \"GeneralPolarity\": \"1\", \"Aspects\": [{\"Aspect\": \"기능\", \"SentimentText\": \"따뜻하고\", \"SentimentWord\": \"1\", \"SentimentPolarity\": \"1\"}, {\"Aspect\": \"촉감\", \"SentimentText\": \"촉감이 부드러워요\", \"SentimentWord\": \"2\", \"SentimentPolarity\": \"1\"}]}\n",
            "70 {\"Index\": \"198\", \"RawText\": \"싸이즈 없어서 안사려다큰사이즈로 구매하라는 쇼호스트님말믿고 샀는데 너무 크네요 특히 갈색은 목이 너무 커서 이상해보여요 보풀도 많이나고\", \"Source\": \"쇼핑몰\", \"Domain\": \"패션\", \"MainCategory\": \"여성의류\", \"ProductName\": \"OO 웜 소프트 부** 니트 3종세트\", \"ReviewScore\": \"50\", \"Syllable\": \"75\", \"Word\": \"16\", \"RDate\": \"20211215\", \"GeneralPolarity\": \"-1\", \"Aspects\": [{\"Aspect\": \"사이즈\", \"SentimentText\": \"너무 크네요\", \"SentimentWord\": \"2\", \"SentimentPolarity\": \"-1\"}, {\"Aspect\": \"핏\", \"SentimentText\": \"갈색은 목이 너무 커서 이상해보여요\", \"SentimentWord\": \"5\", \"SentimentPolarity\": \"-1\"}, {\"Aspect\": \"품질\", \"SentimentText\": \"보풀도 많이나고\", \"SentimentWord\": \"2\", \"SentimentPolarity\": \"-1\"}]}\n",
            "71 {\"Index\": \"201\", \"RawText\": \"길이감 엉덩이 덮여 괜춘. 젤 큰 싸이즈여서인지 팔길이가 길고 통이 넓어 별하나 뺌. 가격대비 마음에 듬.\", \"Source\": \"쇼핑몰\", \"Domain\": \"패션\", \"MainCategory\": \"여성의류\", \"ProductName\": \"OO 웜 소프트 부** 니트 3종세트\", \"ReviewScore\": \"80\", \"Syllable\": \"59\", \"Word\": \"16\", \"RDate\": \"20211214\", \"GeneralPolarity\": \"1\", \"Aspects\": [{\"Aspect\": \"길이\", \"SentimentText\": \"길이감 엉덩이 덮여 괜춘.\", \"SentimentWord\": \"4\", \"SentimentPolarity\": \"1\"}, {\"Aspect\": \"길이\", \"SentimentText\": \"팔길이가 길고\", \"SentimentWord\": \"2\", \"SentimentPolarity\": \"-1\"}, {\"Aspect\": \"사이즈\", \"SentimentText\": \"통이 넓어 별하나 뺌.\", \"SentimentWord\": \"4\", \"SentimentPolarity\": \"-1\"}, {\"Aspect\": \"가격\", \"SentimentText\": \"가격대비 마음에 듬.\", \"SentimentWord\": \"3\", \"SentimentPolarity\": \"1\"}]}\n",
            "72 {\"Index\": \"203\", \"RawText\": \"목부분 디자인이  어저쩡 사이즈없어서 젤큰사이즈 주문 길이는짧고 품은 겁나큰...\", \"Source\": \"쇼핑몰\", \"Domain\": \"패션\", \"MainCategory\": \"여성의류\", \"ProductName\": \"OO 웜 소프트 부** 니트 3종세트\", \"ReviewScore\": \"50\", \"Syllable\": \"45\", \"Word\": \"9\", \"RDate\": \"20211210\", \"GeneralPolarity\": \"-1\", \"Aspects\": [{\"Aspect\": \"디자인\", \"SentimentText\": \"목부분 디자인이  어저쩡\", \"SentimentWord\": \"3\", \"SentimentPolarity\": \"-1\"}, {\"Aspect\": \"길이\", \"SentimentText\": \"길이는짧고\", \"SentimentWord\": \"1\", \"SentimentPolarity\": \"-1\"}, {\"Aspect\": \"사이즈\", \"SentimentText\": \"품은 겁나큰...\", \"SentimentWord\": \"2\", \"SentimentPolarity\": \"-1\"}]}\n",
            "73 {\"Index\": \"206\", \"RawText\": \"셋다정말좋아요.전한단계내려와서주문했지만늘어난까바서.잘맞아요.부드럽고.강추..\", \"Source\": \"쇼핑몰\", \"Domain\": \"패션\", \"MainCategory\": \"여성의류\", \"ProductName\": \"OO 웜 소프트 부** 니트 3종세트\", \"ReviewScore\": \"100\", \"Syllable\": \"42\", \"Word\": \"1\", \"RDate\": \"20220126\", \"GeneralPolarity\": \"1\", \"Aspects\": [{\"Aspect\": \"품질\", \"SentimentText\": \"늘어난까바서.\", \"SentimentWord\": \"1\", \"SentimentPolarity\": \"0\"}, {\"Aspect\": \"사이즈\", \"SentimentText\": \"잘맞아요.\", \"SentimentWord\": \"1\", \"SentimentPolarity\": \"1\"}, {\"Aspect\": \"촉감\", \"SentimentText\": \"부드럽고.\", \"SentimentWord\": \"1\", \"SentimentPolarity\": \"1\"}]}\n",
            "74 {\"Index\": \"207\", \"RawText\": \"라이브방송보고 샀네요 66없어 77했는데 오버핏으로 좋네요. 드라이크리닝하라하는데 그냥울샴푸해서 입었는데 괜찮네요\", \"Source\": \"쇼핑몰\", \"Domain\": \"패션\", \"MainCategory\": \"여성의류\", \"ProductName\": \"OO 웜 소프트 부** 니트 3종세트\", \"ReviewScore\": \"100\", \"Syllable\": \"63\", \"Word\": \"10\", \"RDate\": \"20211220\", \"GeneralPolarity\": \"1\", \"Aspects\": [{\"Aspect\": \"사이즈\", \"SentimentText\": \"오버핏으로 좋네요.\", \"SentimentWord\": \"2\", \"SentimentPolarity\": \"1\"}, {\"Aspect\": \"소재\", \"SentimentText\": \"그냥울샴푸해서 입었는데 괜찮네요\", \"SentimentWord\": \"3\", \"SentimentPolarity\": \"1\"}]}\n",
            "75 {\"Index\": \"209\", \"RawText\": \"가격이 착해서 구매하기도 했는데 소프트라는 이름답게 부드럽고 편안하네요~ 색상도 차분하니 다 좋아하는거라 맘에 듭니다~\", \"Source\": \"쇼핑몰\", \"Domain\": \"패션\", \"MainCategory\": \"여성의류\", \"ProductName\": \"OO 웜 소프트 부** 니트 3종세트\", \"ReviewScore\": \"100\", \"Syllable\": \"66\", \"Word\": \"14\", \"RDate\": \"20211211\", \"GeneralPolarity\": \"1\", \"Aspects\": [{\"Aspect\": \"촉감\", \"SentimentText\": \"부드럽고\", \"SentimentWord\": \"1\", \"SentimentPolarity\": \"1\"}, {\"Aspect\": \"착용감\", \"SentimentText\": \"편안하네요~\", \"SentimentWord\": \"1\", \"SentimentPolarity\": \"1\"}, {\"Aspect\": \"색상\", \"SentimentText\": \"색상도 차분하니 다 좋아하는거라 맘에 듭니다~\", \"SentimentWord\": \"6\", \"SentimentPolarity\": \"1\"}, {\"Aspect\": \"가격\", \"SentimentText\": \"가격이 착해서 구매하기도 했는데\", \"SentimentWord\": \"4\", \"SentimentPolarity\": \"1\"}]}\n",
            "76 {\"Index\": \"210\", \"RawText\": \"옷이많이크네요.감촉이 많이 까끌거려요\", \"Source\": \"쇼핑몰\", \"Domain\": \"패션\", \"MainCategory\": \"여성의류\", \"ProductName\": \"OO 웜 소프트 부** 니트 3종세트\", \"ReviewScore\": \"60\", \"Syllable\": \"20\", \"Word\": \"3\", \"RDate\": \"20220210\", \"GeneralPolarity\": \"-1\", \"Aspects\": [{\"Aspect\": \"사이즈\", \"SentimentText\": \"많이크네요.\", \"SentimentWord\": \"1\", \"SentimentPolarity\": \"-1\"}, {\"Aspect\": \"촉감\", \"SentimentText\": \"감촉이 많이 까끌거려요\", \"SentimentWord\": \"3\", \"SentimentPolarity\": \"-1\"}]}\n",
            "77 {\"Index\": \"212\", \"RawText\": \"생객보다 신축성 덜해서 목이 끼어요\", \"Source\": \"쇼핑몰\", \"Domain\": \"패션\", \"MainCategory\": \"여성의류\", \"ProductName\": \"OO 웜 소프트 부** 니트 3종세트\", \"ReviewScore\": \"50\", \"Syllable\": \"19\", \"Word\": \"5\", \"RDate\": \"20220102\", \"GeneralPolarity\": \"-1\", \"Aspects\": [{\"Aspect\": \"신축성\", \"SentimentText\": \"신축성 덜해서\", \"SentimentWord\": \"2\", \"SentimentPolarity\": \"-1\"}, {\"Aspect\": \"핏\", \"SentimentText\": \"목이 끼어요\", \"SentimentWord\": \"2\", \"SentimentPolarity\": \"-1\"}]}\n",
            "78 {\"Index\": \"213\", \"RawText\": \"잘늘어나서 편하고 부드러움 드라이크리닝 해야하는것이 아쉬움\", \"Source\": \"쇼핑몰\", \"Domain\": \"패션\", \"MainCategory\": \"여성의류\", \"ProductName\": \"OO 웜 소프트 부** 니트 3종세트\", \"ReviewScore\": \"100\", \"Syllable\": \"32\", \"Word\": \"6\", \"RDate\": \"20211213\", \"GeneralPolarity\": \"0\", \"Aspects\": [{\"Aspect\": \"신축성\", \"SentimentText\": \"잘늘어나서\", \"SentimentWord\": \"1\", \"SentimentPolarity\": \"1\"}, {\"Aspect\": \"착용감\", \"SentimentText\": \"편하고\", \"SentimentWord\": \"1\", \"SentimentPolarity\": \"1\"}, {\"Aspect\": \"촉감\", \"SentimentText\": \"부드러움\", \"SentimentWord\": \"1\", \"SentimentPolarity\": \"1\"}, {\"Aspect\": \"소재\", \"SentimentText\": \"드라이크리닝 해야하는것이 아쉬움\", \"SentimentWord\": \"3\", \"SentimentPolarity\": \"-1\"}]}\n",
            "79 {\"Index\": \"214\", \"RawText\": \"부드럽고 넉넉한 핏 맘에들며 무엇보다도 가성비가 좋아요~~^^기대 이상입니다~~.\", \"Source\": \"쇼핑몰\", \"Domain\": \"패션\", \"MainCategory\": \"여성의류\", \"ProductName\": \"OO 웜 소프트 부** 니트 3종세트\", \"ReviewScore\": \"100\", \"Syllable\": \"45\", \"Word\": \"8\", \"RDate\": \"20220205\", \"GeneralPolarity\": \"1\", \"Aspects\": [{\"Aspect\": \"촉감\", \"SentimentText\": \"부드럽고\", \"SentimentWord\": \"1\", \"SentimentPolarity\": \"1\"}, {\"Aspect\": \"핏\", \"SentimentText\": \"넉넉한 핏 맘에들며\", \"SentimentWord\": \"3\", \"SentimentPolarity\": \"1\"}, {\"Aspect\": \"가격\", \"SentimentText\": \"가성비가 좋아요\", \"SentimentWord\": \"2\", \"SentimentPolarity\": \"1\"}]}\n",
            "80 {\"Index\": \"215\", \"RawText\": \"잘받았습니다  넉넉하게 입을려고 크게 주문했어요 따뜻합니다 보풀은 잘 생기겠네요\", \"Source\": \"쇼핑몰\", \"Domain\": \"패션\", \"MainCategory\": \"여성의류\", \"ProductName\": \"OO 웜 소프트 부** 니트 3종세트\", \"ReviewScore\": \"100\", \"Syllable\": \"44\", \"Word\": \"9\", \"RDate\": \"20220101\", \"GeneralPolarity\": \"0\", \"Aspects\": [{\"Aspect\": \"기능\", \"SentimentText\": \"따뜻합니다 \", \"SentimentWord\": \"1\", \"SentimentPolarity\": \"1\"}, {\"Aspect\": \"품질\", \"SentimentText\": \"보풀은 잘 생기겠네요\", \"SentimentWord\": \"3\", \"SentimentPolarity\": \"-1\"}]}\n",
            "81 {\"Index\": \"216\", \"RawText\": \"사이즈 없어서 (쇼호스트분99착용보고)차라리 루즈하게 크게 입을려고 99. 구입.  큰사이즈도 나쁘지 않아요~~가격생각하면 만족 합니다~~검정이 젤 맘에 들어요~~\", \"Source\": \"쇼핑몰\", \"Domain\": \"패션\", \"MainCategory\": \"여성의류\", \"ProductName\": \"OO 웜 소프트 부** 니트 3종세트\", \"ReviewScore\": \"100\", \"Syllable\": \"91\", \"Word\": \"16\", \"RDate\": \"20211210\", \"GeneralPolarity\": \"1\", \"Aspects\": [{\"Aspect\": \"사이즈\", \"SentimentText\": \"루즈하게 크게 입을려고 99. 구입.  큰사이즈도 나쁘지 않아요~~\", \"SentimentWord\": \"8\", \"SentimentPolarity\": \"1\"}, {\"Aspect\": \"가격\", \"SentimentText\": \"가격생각하면 만족 합니다~~\", \"SentimentWord\": \"3\", \"SentimentPolarity\": \"1\"}, {\"Aspect\": \"색상\", \"SentimentText\": \"검정이 젤 맘에 들어요~~\", \"SentimentWord\": \"4\", \"SentimentPolarity\": \"1\"}]}\n",
            "82 {\"Index\": \"218\", \"RawText\": \"배송도빠르고 옷도 넘 따뜻하고 포근하네요 가격도 착해서 넘잘산거 같아요  사이즈도 넉넉하고 편안하고 좋아요\", \"Source\": \"쇼핑몰\", \"Domain\": \"패션\", \"MainCategory\": \"여성의류\", \"ProductName\": \"OO 웜 소프트 부** 니트 3종세트\", \"ReviewScore\": \"100\", \"Syllable\": \"59\", \"Word\": \"13\", \"RDate\": \"20211210\", \"GeneralPolarity\": \"1\", \"Aspects\": [{\"Aspect\": \"기능\", \"SentimentText\": \"넘 따뜻하고 \", \"SentimentWord\": \"2\", \"SentimentPolarity\": \"1\"}, {\"Aspect\": \"촉감\", \"SentimentText\": \"포근하네요\", \"SentimentWord\": \"1\", \"SentimentPolarity\": \"1\"}, {\"Aspect\": \"가격\", \"SentimentText\": \"가격도 착해서\", \"SentimentWord\": \"2\", \"SentimentPolarity\": \"1\"}, {\"Aspect\": \"사이즈\", \"SentimentText\": \"사이즈도 넉넉하고\", \"SentimentWord\": \"2\", \"SentimentPolarity\": \"1\"}, {\"Aspect\": \"착용감\", \"SentimentText\": \"편안하고 좋아요\", \"SentimentWord\": \"2\", \"SentimentPolarity\": \"1\"}]}\n",
            "83 {\"Index\": \"223\", \"RawText\": \"디자인도 틀리고 여러가지 색상으로 저렴하게 사서 잘입고있어요~~^^\", \"Source\": \"쇼핑몰\", \"Domain\": \"패션\", \"MainCategory\": \"여성의류\", \"ProductName\": \"OO 웜 소프트 부** 니트 3종세트\", \"ReviewScore\": \"100\", \"Syllable\": \"37\", \"Word\": \"7\", \"RDate\": \"20220108\", \"GeneralPolarity\": \"1\", \"Aspects\": [{\"Aspect\": \"디자인\", \"SentimentText\": \"디자인도 틀리고\", \"SentimentWord\": \"2\", \"SentimentPolarity\": \"1\"}, {\"Aspect\": \"색상\", \"SentimentText\": \"여러가지 색상으로\", \"SentimentWord\": \"2\", \"SentimentPolarity\": \"1\"}, {\"Aspect\": \"가격\", \"SentimentText\": \"저렴하게 사서 잘입고있어요~~^^\", \"SentimentWord\": \"3\", \"SentimentPolarity\": \"1\"}]}\n",
            "84 {\"Index\": \"224\", \"RawText\": \"저렴하게 구매했지만 잘 입을것 같아요 모두 다른 디자인이라 더 좋으네요\", \"Source\": \"쇼핑몰\", \"Domain\": \"패션\", \"MainCategory\": \"여성의류\", \"ProductName\": \"OO 웜 소프트 부** 니트 3종세트\", \"ReviewScore\": \"100\", \"Syllable\": \"39\", \"Word\": \"10\", \"RDate\": \"20211212\", \"GeneralPolarity\": \"1\", \"Aspects\": [{\"Aspect\": \"가격\", \"SentimentText\": \"저렴하게 구매했지만 잘 입을것 같아요\", \"SentimentWord\": \"5\", \"SentimentPolarity\": \"1\"}, {\"Aspect\": \"디자인\", \"SentimentText\": \"모두 다른 디자인이라 더 좋으네요\", \"SentimentWord\": \"5\", \"SentimentPolarity\": \"1\"}]}\n",
            "85 {\"Index\": \"225\", \"RawText\": \"저렴하게 잘구매했구여.조끼까지  올겨울은 요아이 하나로 입어야 겠네요\", \"Source\": \"쇼핑몰\", \"Domain\": \"패션\", \"MainCategory\": \"여성의류\", \"ProductName\": \"OO 웜 소프트 부** 니트 3종세트\", \"ReviewScore\": \"100\", \"Syllable\": \"38\", \"Word\": \"7\", \"RDate\": \"20211217\", \"GeneralPolarity\": \"1\", \"Aspects\": [{\"Aspect\": \"가격\", \"SentimentText\": \"저렴하게 잘구매했구여.조끼까지\", \"SentimentWord\": \"2\", \"SentimentPolarity\": \"1\"}, {\"Aspect\": \"기능\", \"SentimentText\": \"올겨울은 요아이 하나로 입어야 겠네요\", \"SentimentWord\": \"5\", \"SentimentPolarity\": \"1\"}]}\n",
            "86 {\"Index\": \"226\", \"RawText\": \"어디에나 잘 어울리고 따뜻하고 부드러워요^^ 가격대비 완전 만족 입니다\", \"Source\": \"쇼핑몰\", \"Domain\": \"패션\", \"MainCategory\": \"여성의류\", \"ProductName\": \"OO 웜 소프트 부** 니트 3종세트\", \"ReviewScore\": \"100\", \"Syllable\": \"39\", \"Word\": \"9\", \"RDate\": \"20211231\", \"GeneralPolarity\": \"1\", \"Aspects\": [{\"Aspect\": \"활용성\", \"SentimentText\": \"어디에나 잘 어울리고\", \"SentimentWord\": \"3\", \"SentimentPolarity\": \"1\"}, {\"Aspect\": \"기능\", \"SentimentText\": \"따뜻하고\", \"SentimentWord\": \"1\", \"SentimentPolarity\": \"1\"}, {\"Aspect\": \"촉감\", \"SentimentText\": \"부드러워요^^\", \"SentimentWord\": \"1\", \"SentimentPolarity\": \"1\"}, {\"Aspect\": \"가격\", \"SentimentText\": \"가격대비 완전 만족 입니다\", \"SentimentWord\": \"4\", \"SentimentPolarity\": \"1\"}]}\n",
            "87 {\"Index\": \"230\", \"RawText\": \"목둘레가 좀 좁아 조심히 다뤄야합니다 색상 맘에들고 특히 밍크 부분이 맘에 들고 따뜻합니다\", \"Source\": \"쇼핑몰\", \"Domain\": \"패션\", \"MainCategory\": \"여성의류\", \"ProductName\": \"OO 여성 밍** 캐시미어 니트 4종 택1\", \"ReviewScore\": \"80\", \"Syllable\": \"50\", \"Word\": \"13\", \"RDate\": \"20220129\", \"GeneralPolarity\": \"1\", \"Aspects\": [{\"Aspect\": \"사이즈\", \"SentimentText\": \"목둘레가 좀 좁아\", \"SentimentWord\": \"3\", \"SentimentPolarity\": \"-1\"}, {\"Aspect\": \"색상\", \"SentimentText\": \"색상 맘에들고 \", \"SentimentWord\": \"2\", \"SentimentPolarity\": \"1\"}, {\"Aspect\": \"소재\", \"SentimentText\": \"특히 밍크 부분이 맘에 들고\", \"SentimentWord\": \"5\", \"SentimentPolarity\": \"1\"}, {\"Aspect\": \"기능\", \"SentimentText\": \"따뜻합니다\", \"SentimentWord\": \"1\", \"SentimentPolarity\": \"1\"}]}\n",
            "88 {\"Index\": \"232\", \"RawText\": \"넥라인을 밍크로 둘러 따뜻해보이고 하나로도 갖춰 입은듯 좋습니다 뒷목 연결부분이 약합니다 옷걸이에서 빼다가 터져서 꿰매느라 힘들었습니다 \", \"Source\": \"쇼핑몰\", \"Domain\": \"패션\", \"MainCategory\": \"여성의류\", \"ProductName\": \"OO 여성 밍** 캐시미어 니트 4종 택1\", \"ReviewScore\": \"70\", \"Syllable\": \"76\", \"Word\": \"16\", \"RDate\": \"20220129\", \"GeneralPolarity\": \"0\", \"Aspects\": [{\"Aspect\": \"소재\", \"SentimentText\": \"넥라인을 밍크로 둘러 따뜻해보이고 \", \"SentimentWord\": \"4\", \"SentimentPolarity\": \"1\"}, {\"Aspect\": \"활용성\", \"SentimentText\": \"하나로도 갖춰 입은듯 좋습니다\", \"SentimentWord\": \"4\", \"SentimentPolarity\": \"1\"}, {\"Aspect\": \"마감\", \"SentimentText\": \"뒷목 연결부분이 약합니다 \", \"SentimentWord\": \"3\", \"SentimentPolarity\": \"0\"}, {\"Aspect\": \"품질\", \"SentimentText\": \"터져서 꿰매느라 힘들었습니다\", \"SentimentWord\": \"3\", \"SentimentPolarity\": \"-1\"}]}\n",
            "89 {\"Index\": \"238\", \"RawText\": \"가성비좋아요~ 편하게 걸치기 좋고 색감도 좋네요 제사이즈 강추!!\", \"Source\": \"쇼핑몰\", \"Domain\": \"패션\", \"MainCategory\": \"여성의류\", \"ProductName\": \"OO 여성 니트 3종\", \"ReviewScore\": \"100\", \"Syllable\": \"36\", \"Word\": \"8\", \"RDate\": \"20220304\", \"GeneralPolarity\": \"1\", \"Aspects\": [{\"Aspect\": \"가격\", \"SentimentText\": \"가성비좋아요~\", \"SentimentWord\": \"1\", \"SentimentPolarity\": \"1\"}, {\"Aspect\": \"착용감\", \"SentimentText\": \"편하게 걸치기 좋고\", \"SentimentWord\": \"3\", \"SentimentPolarity\": \"1\"}, {\"Aspect\": \"색상\", \"SentimentText\": \"색감도 좋네요\", \"SentimentWord\": \"2\", \"SentimentPolarity\": \"1\"}, {\"Aspect\": \"사이즈\", \"SentimentText\": \"제사이즈 강추!!\", \"SentimentWord\": \"2\", \"SentimentPolarity\": \"1\"}]}\n",
            "90 {\"Index\": \"243\", \"RawText\": \"아주 만족스럽네요. 두께는 얇아요 소재도 원하던 느낌이구요 기계세탁되서  너무좋습니다. 그리고 코튼이라 안끌거림 없습니다.  굿굿\", \"Source\": \"쇼핑몰\", \"Domain\": \"패션\", \"MainCategory\": \"여성의류\", \"ProductName\": \"OO 여성 니트 3종\", \"ReviewScore\": \"100\", \"Syllable\": \"72\", \"Word\": \"14\", \"RDate\": \"20220105\", \"GeneralPolarity\": \"1\", \"Aspects\": [{\"Aspect\": \"두께\", \"SentimentText\": \"두께는 얇아요 \", \"SentimentWord\": \"2\", \"SentimentPolarity\": \"1\"}, {\"Aspect\": \"소재\", \"SentimentText\": \"소재도 원하던 느낌이구요\", \"SentimentWord\": \"3\", \"SentimentPolarity\": \"1\"}, {\"Aspect\": \"소재\", \"SentimentText\": \"기계세탁되서  너무좋습니다.\", \"SentimentWord\": \"2\", \"SentimentPolarity\": \"1\"}, {\"Aspect\": \"소재\", \"SentimentText\": \"코튼이라 안끌거림 없습니다. \", \"SentimentWord\": \"3\", \"SentimentPolarity\": \"1\"}]}\n",
            "91 {\"Index\": \"251\", \"RawText\": \"95가 매진이라서 한사이즈크걱 주문했더니 크긴큰데  크게입어서 괜찬아요~~  면이라서 촉감도좋고  늘어지지않을것같아요~~  만족합니다.\", \"Source\": \"쇼핑몰\", \"Domain\": \"패션\", \"MainCategory\": \"여성의류\", \"ProductName\": \"OO 여성 니트 3종\", \"ReviewScore\": \"100\", \"Syllable\": \"75\", \"Word\": \"11\", \"RDate\": \"20210928\", \"GeneralPolarity\": \"1\", \"Aspects\": [{\"Aspect\": \"사이즈\", \"SentimentText\": \"크긴큰데  크게입어서 괜찬아요~~\", \"SentimentWord\": \"3\", \"SentimentPolarity\": \"1\"}, {\"Aspect\": \"소재\", \"SentimentText\": \"면이라서 촉감도좋고\", \"SentimentWord\": \"2\", \"SentimentPolarity\": \"1\"}, {\"Aspect\": \"품질\", \"SentimentText\": \"늘어지지않을것같아요~~\", \"SentimentWord\": \"1\", \"SentimentPolarity\": \"1\"}]}\n",
            "92 {\"Index\": \"252\", \"RawText\": \"베이지 구매해서 편안하게 잘입었고 블랙이 예뻐서 재구매 합니다\", \"Source\": \"쇼핑몰\", \"Domain\": \"패션\", \"MainCategory\": \"여성의류\", \"ProductName\": \"OO 니트 라** 세트\", \"ReviewScore\": \"80\", \"Syllable\": \"34\", \"Word\": \"8\", \"RDate\": \"20211015\", \"GeneralPolarity\": \"1\", \"Aspects\": [{\"Aspect\": \"착용감\", \"SentimentText\": \"베이지 구매해서 편안하게 잘입었고\", \"SentimentWord\": \"4\", \"SentimentPolarity\": \"1\"}, {\"Aspect\": \"색상\", \"SentimentText\": \"블랙이 예뻐서 재구매 합니다\", \"SentimentWord\": \"4\", \"SentimentPolarity\": \"1\"}]}\n",
            "93 {\"Index\": \"253\", \"RawText\": \"가격이 맘에들어 주문했더니 옷 디자인이 더 맘에 들어 좋네요.따듯하고 피부에 닿는 느낌도 부드러워요.아쉬운건 치수가 약간 작은지 팔 길이 약간 작네요.한치수 크게 주문하면 될듯하네요.\", \"Source\": \"쇼핑몰\", \"Domain\": \"패션\", \"MainCategory\": \"여성의류\", \"ProductName\": \"OO 니트 라** 세트\", \"ReviewScore\": \"100\", \"Syllable\": \"102\", \"Word\": \"23\", \"RDate\": \"20211225\", \"GeneralPolarity\": \"1\", \"Aspects\": [{\"Aspect\": \"가격\", \"SentimentText\": \"가격이 맘에들어 주문했더니\", \"SentimentWord\": \"3\", \"SentimentPolarity\": \"1\"}, {\"Aspect\": \"길이\", \"SentimentText\": \" 팔 길이 약간 작네요.\", \"SentimentWord\": \"4\", \"SentimentPolarity\": \"1\"}, {\"Aspect\": \"사이즈\", \"SentimentText\": \"한치수 크게 주문하면 될듯하네요.\", \"SentimentWord\": \"4\", \"SentimentPolarity\": \"1\"}, {\"Aspect\": \"기능\", \"SentimentText\": \"따듯하고\", \"SentimentWord\": \"1\", \"SentimentPolarity\": \"1\"}, {\"Aspect\": \"촉감\", \"SentimentText\": \"피부에 닿는 느낌도 부드러워요.\", \"SentimentWord\": \"4\", \"SentimentPolarity\": \"1\"}, {\"Aspect\": \"디자인\", \"SentimentText\": \"옷 디자인이 더 맘에 들어 좋네요\", \"SentimentWord\": \"6\", \"SentimentPolarity\": \"1\"}, {\"Aspect\": \"사이즈\", \"SentimentText\": \"치수가 약간 작은지\", \"SentimentWord\": \"3\", \"SentimentPolarity\": \"1\"}]}\n",
            "94 {\"Index\": \"257\", \"RawText\": \"가격대비 품질은 좋아요~ 패팅 주머니가 뚫려서 온거 말고는 만족합니다.\", \"Source\": \"쇼핑몰\", \"Domain\": \"패션\", \"MainCategory\": \"여성의류\", \"ProductName\": \"OO 니트 라** 세트\", \"ReviewScore\": \"80\", \"Syllable\": \"39\", \"Word\": \"9\", \"RDate\": \"20211102\", \"GeneralPolarity\": \"1\", \"Aspects\": [{\"Aspect\": \"가격\", \"SentimentText\": \"가격대비 품질은 좋아요\", \"SentimentWord\": \"3\", \"SentimentPolarity\": \"1\"}, {\"Aspect\": \"마감\", \"SentimentText\": \"주머니가 뚫려서 온거 말고는 만족합니다.\", \"SentimentWord\": \"5\", \"SentimentPolarity\": \"0\"}]}\n",
            "95 {\"Index\": \"260\", \"RawText\": \"가격대비 훌륭합니다  조끼만 다른분들 상품평처럼 좀 싼티는나지만 그래도 잘 입을듯요 득템했네요\", \"Source\": \"쇼핑몰\", \"Domain\": \"패션\", \"MainCategory\": \"여성의류\", \"ProductName\": \"OO 니트 라** 세트\", \"ReviewScore\": \"100\", \"Syllable\": \"52\", \"Word\": \"11\", \"RDate\": \"20211029\", \"GeneralPolarity\": \"1\", \"Aspects\": [{\"Aspect\": \"가격\", \"SentimentText\": \"가격대비 훌륭합니다 \", \"SentimentWord\": \"2\", \"SentimentPolarity\": \"1\"}, {\"Aspect\": \"품질\", \"SentimentText\": \"조끼만 다른분들 상품평처럼 좀 싼티는나지만\", \"SentimentWord\": \"5\", \"SentimentPolarity\": \"-1\"}]}\n",
            "96 {\"Index\": \"265\", \"RawText\": \"가격대비 넘넘 맘에 들어요 특히 기모가  있어서. 외출복으로도 좋아요 \", \"Source\": \"쇼핑몰\", \"Domain\": \"패션\", \"MainCategory\": \"여성의류\", \"ProductName\": \"OO 니트 라** 세트\", \"ReviewScore\": \"100\", \"Syllable\": \"39\", \"Word\": \"9\", \"RDate\": \"20211027\", \"GeneralPolarity\": \"1\", \"Aspects\": [{\"Aspect\": \"가격\", \"SentimentText\": \"가격대비 넘넘 맘에 들어요 \", \"SentimentWord\": \"4\", \"SentimentPolarity\": \"1\"}, {\"Aspect\": \"소재\", \"SentimentText\": \"기모가  있어서\", \"SentimentWord\": \"2\", \"SentimentPolarity\": \"1\"}, {\"Aspect\": \"활용성\", \"SentimentText\": \"외출복으로도 좋아요\", \"SentimentWord\": \"2\", \"SentimentPolarity\": \"1\"}]}\n",
            "97 {\"Index\": \"270\", \"RawText\": \"의류안에 기모가아닌베로아로되어서더욱따뜻함니다저렴한가격으로구매해서더욱좋아요타방송보다훨씬저렴함니다단지색상이품절된것이있어서아쉬웠음니다\", \"Source\": \"쇼핑몰\", \"Domain\": \"패션\", \"MainCategory\": \"여성의류\", \"ProductName\": \"OO 니트 라** 세트\", \"ReviewScore\": \"100\", \"Syllable\": \"71\", \"Word\": \"2\", \"RDate\": \"20211023\", \"GeneralPolarity\": \"1\", \"Aspects\": [{\"Aspect\": \"기능\", \"SentimentText\": \"의류안에 기모가아닌베로아로되어서더욱따뜻함니다\", \"SentimentWord\": \"2\", \"SentimentPolarity\": \"1\"}, {\"Aspect\": \"가격\", \"SentimentText\": \"저렴한가격으로구매해서더욱좋아요\", \"SentimentWord\": \"1\", \"SentimentPolarity\": \"1\"}, {\"Aspect\": \"가격\", \"SentimentText\": \"타방송보다훨씬저렴함니다\", \"SentimentWord\": \"1\", \"SentimentPolarity\": \"1\"}]}\n",
            "98 {\"Index\": \"272\", \"RawText\": \"티와  바진ㄷㄴ  따듯  하겠고  질도  좋은데  베스트는  생각보다는 도톰하고  자크없이 똑딱이고ㅜㅜ 가슴둘레가 좀  작게 나와  잠그지  안고  입어야  겠어요  낚시 갈때   입으려구요   일상 생활복으로  좋을듯  싶어요\", \"Source\": \"쇼핑몰\", \"Domain\": \"패션\", \"MainCategory\": \"여성의류\", \"ProductName\": \"OO 니트 라** 세트\", \"ReviewScore\": \"100\", \"Syllable\": \"127\", \"Word\": \"26\", \"RDate\": \"20211001\", \"GeneralPolarity\": \"1\", \"Aspects\": [{\"Aspect\": \"기능\", \"SentimentText\": \"티와  바진ㄷㄴ  따듯  하겠고\", \"SentimentWord\": \"4\", \"SentimentPolarity\": \"1\"}, {\"Aspect\": \"품질\", \"SentimentText\": \"질도  좋은데 \", \"SentimentWord\": \"2\", \"SentimentPolarity\": \"1\"}, {\"Aspect\": \"두께\", \"SentimentText\": \" 베스트는  생각보다는 도톰하고\", \"SentimentWord\": \"3\", \"SentimentPolarity\": \"1\"}, {\"Aspect\": \"디자인\", \"SentimentText\": \"자크없이 똑딱이고ㅜㅜ      \", \"SentimentWord\": \"2\", \"SentimentPolarity\": \"-1\"}, {\"Aspect\": \"사이즈\", \"SentimentText\": \"가슴둘레가 좀  작게 나와  잠그지  안고  입어야  겠어요\", \"SentimentWord\": \"8\", \"SentimentPolarity\": \"-1\"}, {\"Aspect\": \"활용성\", \"SentimentText\": \"낚시 갈때   입으려구요\", \"SentimentWord\": \"3\", \"SentimentPolarity\": \"1\"}, {\"Aspect\": \"활용성\", \"SentimentText\": \"일상 생활복으로  좋을듯  싶어요\", \"SentimentWord\": \"4\", \"SentimentPolarity\": \"1\"}]}\n",
            "99 {\"Index\": \"283\", \"RawText\": \"작년에 그레이로 잘 입고 오트밀로 색상바꿔 주문해봤어요 옷이 넘 편해서 자주 손가입었어요 대신 니트재질이라보니 보풀감은 어쩔수업머요ㅠㅠ\", \"Source\": \"쇼핑몰\", \"Domain\": \"패션\", \"MainCategory\": \"여성의류\", \"ProductName\": \"OO 니트 라** 세트\", \"ReviewScore\": \"100\", \"Syllable\": \"75\", \"Word\": \"16\", \"RDate\": \"20211001\", \"GeneralPolarity\": \"1\", \"Aspects\": [{\"Aspect\": \"착용감\", \"SentimentText\": \"넘 편해서 \", \"SentimentWord\": \"2\", \"SentimentPolarity\": \"1\"}, {\"Aspect\": \"소재\", \"SentimentText\": \"니트재질이라보니 보풀감은 어쩔수업머요ㅠㅠ\", \"SentimentWord\": \"3\", \"SentimentPolarity\": \"1\"}, {\"Aspect\": \"활용성\", \"SentimentText\": \"자주 손가입었어요\", \"SentimentWord\": \"2\", \"SentimentPolarity\": \"1\"}]}\n"
          ]
        }
      ]
    },
    {
      "cell_type": "code",
      "source": [
        "len(refined_docs)"
      ],
      "metadata": {
        "colab": {
          "base_uri": "https://localhost:8080/"
        },
        "id": "dTlYoXhCRyfW",
        "outputId": "4142b5ed-8466-453c-b4f6-ae19d90cb9e7"
      },
      "execution_count": null,
      "outputs": [
        {
          "output_type": "execute_result",
          "data": {
            "text/plain": [
              "100"
            ]
          },
          "metadata": {},
          "execution_count": 9
        }
      ]
    },
    {
      "cell_type": "markdown",
      "source": [
        "# 상품리뷰 데이터의 주요 Entity\n",
        "*   **GeneralPolarity**\t: 상품평 전체 감정 극성 (1: 긍정, -1: 부정)\n",
        "*   **Aspects** : 상품평의 감정을 결정하는 단어와 분류카테고리(e.g. '착용감', '소재', '활용성'), 해당단어의 감정 극성(1: 긍정, -1: 부정), 감정을 결정하는 단어의 개수"
      ],
      "metadata": {
        "id": "KxfNC2ektucF"
      }
    },
    {
      "cell_type": "code",
      "source": [
        "import json\n",
        "json.loads(refined_docs[0].page_content)"
      ],
      "metadata": {
        "colab": {
          "base_uri": "https://localhost:8080/"
        },
        "id": "6_AVxS_9xcCj",
        "outputId": "ce1c997d-685c-42ac-d332-886c6de4e9e5"
      },
      "execution_count": null,
      "outputs": [
        {
          "output_type": "execute_result",
          "data": {
            "text/plain": [
              "{'Index': '7',\n",
              " 'RawText': '가격이 착하고 디자인이 예쁩니다',\n",
              " 'Source': '쇼핑몰',\n",
              " 'Domain': '패션',\n",
              " 'MainCategory': '여성의류',\n",
              " 'ProductName': 'OO 플** 베스트 풀코디 3종',\n",
              " 'ReviewScore': '100',\n",
              " 'Syllable': '17',\n",
              " 'Word': '4',\n",
              " 'RDate': '20210815',\n",
              " 'GeneralPolarity': '1',\n",
              " 'Aspects': [{'Aspect': '가격',\n",
              "   'SentimentText': '가격이 착하고',\n",
              "   'SentimentWord': '2',\n",
              "   'SentimentPolarity': '1'},\n",
              "  {'Aspect': '디자인',\n",
              "   'SentimentText': '디자인이 예쁩니다',\n",
              "   'SentimentWord': '2',\n",
              "   'SentimentPolarity': '1'}]}"
            ]
          },
          "metadata": {},
          "execution_count": 10
        }
      ]
    },
    {
      "cell_type": "code",
      "source": [
        "json.loads(refined_docs[99].page_content)"
      ],
      "metadata": {
        "id": "qtx2xyYgyH8z",
        "outputId": "482bc8f0-02ef-4964-eee9-3e77c03c4a0d",
        "colab": {
          "base_uri": "https://localhost:8080/"
        }
      },
      "execution_count": null,
      "outputs": [
        {
          "output_type": "execute_result",
          "data": {
            "text/plain": [
              "{'Index': '283',\n",
              " 'RawText': '작년에 그레이로 잘 입고 오트밀로 색상바꿔 주문해봤어요 옷이 넘 편해서 자주 손가입었어요 대신 니트재질이라보니 보풀감은 어쩔수업머요ㅠㅠ',\n",
              " 'Source': '쇼핑몰',\n",
              " 'Domain': '패션',\n",
              " 'MainCategory': '여성의류',\n",
              " 'ProductName': 'OO 니트 라** 세트',\n",
              " 'ReviewScore': '100',\n",
              " 'Syllable': '75',\n",
              " 'Word': '16',\n",
              " 'RDate': '20211001',\n",
              " 'GeneralPolarity': '1',\n",
              " 'Aspects': [{'Aspect': '착용감',\n",
              "   'SentimentText': '넘 편해서 ',\n",
              "   'SentimentWord': '2',\n",
              "   'SentimentPolarity': '1'},\n",
              "  {'Aspect': '소재',\n",
              "   'SentimentText': '니트재질이라보니 보풀감은 어쩔수업머요ㅠㅠ',\n",
              "   'SentimentWord': '3',\n",
              "   'SentimentPolarity': '1'},\n",
              "  {'Aspect': '활용성',\n",
              "   'SentimentText': '자주 손가입었어요',\n",
              "   'SentimentWord': '2',\n",
              "   'SentimentPolarity': '1'}]}"
            ]
          },
          "metadata": {},
          "execution_count": 11
        }
      ]
    },
    {
      "cell_type": "code",
      "source": [
        "# 전체 aspect 파악하기\n",
        "aspect_sets = set()\n",
        "\n",
        "for idx, doc in enumerate(refined_docs):\n",
        "    data_json = json.loads(doc.page_content)\n",
        "    aspects = data_json.get(\"Aspects\")\n",
        "    for aspect in aspects:\n",
        "        aspect_sets.add(aspect[\"Aspect\"])\n",
        "print('aspect 개수 :', len(aspect_sets))\n",
        "print(aspect_sets)"
      ],
      "metadata": {
        "colab": {
          "base_uri": "https://localhost:8080/"
        },
        "id": "5HGB4szGuknD",
        "outputId": "3a77fce8-24ad-456a-e43a-c6a6ef910e3e"
      },
      "execution_count": null,
      "outputs": [
        {
          "output_type": "stream",
          "name": "stdout",
          "text": [
            "aspect 개수 : 17\n",
            "{'길이', '소재', '가격', '품질', '활용성', '신축성', '사이즈', '마감', '디자인', '촉감', '두께', '무게', '색상', '핏', '제품구성', '기능', '착용감'}\n"
          ]
        }
      ]
    },
    {
      "cell_type": "code",
      "source": [
        "# 리뷰감정분석GPT(SentimentGPT)를 위한 schema 설정\n",
        "schema = {\n",
        "    \"properties\": {\n",
        "        \"sentiment word\": {\n",
        "            \"type\": \"string\",\n",
        "            \"description\": \"Please find the part of the word that expresses emotion in the whole sentence.\",\n",
        "        },\n",
        "        \"aspect\": {\n",
        "            \"type\": \"string\",\n",
        "            \"enum\": ['가격',\n",
        "                     '기능',\n",
        "                     '길이',\n",
        "                      '두께',\n",
        "                      '디자인',\n",
        "                      '마감',\n",
        "                      '무게',\n",
        "                      '사이즈',\n",
        "                      '색상',\n",
        "                      '소재',\n",
        "                      '신축성',\n",
        "                      '제품구성',\n",
        "                      '착용감',\n",
        "                      '촉감',\n",
        "                      '품질',\n",
        "                      '핏',\n",
        "                      '활용성'\n",
        "                      ],\n",
        "        },\n",
        "        \"sentiment\": {\n",
        "            \"type\": \"string\",\n",
        "            \"enum\": [\"positive\", \"negative\", \"neutral\"],\n",
        "        },\n",
        "    },\n",
        "    \"required\": [\"aspect\", \"sentiment\", \"sentiment word\"],\n",
        "}\n",
        "chain = create_tagging_chain(schema, llm)"
      ],
      "metadata": {
        "id": "KRBsFc8makvm"
      },
      "execution_count": null,
      "outputs": []
    },
    {
      "cell_type": "markdown",
      "source": [
        "## 10개 sampe에 대한 테스트"
      ],
      "metadata": {
        "id": "PSq4gStku-D6"
      }
    },
    {
      "cell_type": "code",
      "source": [
        "chain.run(json.loads(refined_docs[0].page_content)['RawText'])"
      ],
      "metadata": {
        "colab": {
          "base_uri": "https://localhost:8080/"
        },
        "outputId": "a7bac873-ac3d-4480-a516-f40f108e2bd0",
        "id": "O4hh_5c4akvn"
      },
      "execution_count": null,
      "outputs": [
        {
          "output_type": "execute_result",
          "data": {
            "text/plain": [
              "{'sentiment word': '착하고', 'aspect': '가격', 'sentiment': 'positive'}"
            ]
          },
          "metadata": {},
          "execution_count": 14
        }
      ]
    },
    {
      "cell_type": "code",
      "source": [
        "json.loads(refined_docs[0].page_content)"
      ],
      "metadata": {
        "colab": {
          "base_uri": "https://localhost:8080/"
        },
        "id": "APGa7cCMvBmt",
        "outputId": "c03a168c-2d80-446d-f535-1459887dd26d"
      },
      "execution_count": null,
      "outputs": [
        {
          "output_type": "execute_result",
          "data": {
            "text/plain": [
              "{'Index': '7',\n",
              " 'RawText': '가격이 착하고 디자인이 예쁩니다',\n",
              " 'Source': '쇼핑몰',\n",
              " 'Domain': '패션',\n",
              " 'MainCategory': '여성의류',\n",
              " 'ProductName': 'OO 플** 베스트 풀코디 3종',\n",
              " 'ReviewScore': '100',\n",
              " 'Syllable': '17',\n",
              " 'Word': '4',\n",
              " 'RDate': '20210815',\n",
              " 'GeneralPolarity': '1',\n",
              " 'Aspects': [{'Aspect': '가격',\n",
              "   'SentimentText': '가격이 착하고',\n",
              "   'SentimentWord': '2',\n",
              "   'SentimentPolarity': '1'},\n",
              "  {'Aspect': '디자인',\n",
              "   'SentimentText': '디자인이 예쁩니다',\n",
              "   'SentimentWord': '2',\n",
              "   'SentimentPolarity': '1'}]}"
            ]
          },
          "metadata": {},
          "execution_count": 15
        }
      ]
    },
    {
      "cell_type": "code",
      "source": [
        "chain.run(json.loads(refined_docs[1].page_content)['RawText'])"
      ],
      "metadata": {
        "colab": {
          "base_uri": "https://localhost:8080/"
        },
        "outputId": "c53c7d96-0403-48b2-d6ab-90a858102fb2",
        "id": "gOObh7m1fyd2"
      },
      "execution_count": null,
      "outputs": [
        {
          "output_type": "execute_result",
          "data": {
            "text/plain": [
              "{'sentiment word': '싸고', 'aspect': '가격', 'sentiment': 'positive'}"
            ]
          },
          "metadata": {},
          "execution_count": 16
        }
      ]
    },
    {
      "cell_type": "code",
      "source": [
        "json.loads(refined_docs[1].page_content)"
      ],
      "metadata": {
        "colab": {
          "base_uri": "https://localhost:8080/"
        },
        "id": "67dFqklKvQdq",
        "outputId": "709aaf9b-e9a9-48ab-9432-c09f70dd86e6"
      },
      "execution_count": null,
      "outputs": [
        {
          "output_type": "execute_result",
          "data": {
            "text/plain": [
              "{'Index': '9',\n",
              " 'RawText': '싸고  디자인이 예뻐요. . 정말  가성비 가심비 입니다',\n",
              " 'Source': '쇼핑몰',\n",
              " 'Domain': '패션',\n",
              " 'MainCategory': '여성의류',\n",
              " 'ProductName': 'OO 플** 베스트 풀코디 3종',\n",
              " 'ReviewScore': '100',\n",
              " 'Syllable': '31',\n",
              " 'Word': '8',\n",
              " 'RDate': '20210807',\n",
              " 'GeneralPolarity': '1',\n",
              " 'Aspects': [{'Aspect': '가격',\n",
              "   'SentimentText': '싸고',\n",
              "   'SentimentWord': '1',\n",
              "   'SentimentPolarity': '1'},\n",
              "  {'Aspect': '디자인',\n",
              "   'SentimentText': '디자인이 예뻐요',\n",
              "   'SentimentWord': '2',\n",
              "   'SentimentPolarity': '1'},\n",
              "  {'Aspect': '가격',\n",
              "   'SentimentText': '가성비 가심비 입니다',\n",
              "   'SentimentWord': '3',\n",
              "   'SentimentPolarity': '1'}]}"
            ]
          },
          "metadata": {},
          "execution_count": 17
        }
      ]
    },
    {
      "cell_type": "code",
      "source": [
        "chain.run(json.loads(refined_docs[2].page_content)['RawText'])"
      ],
      "metadata": {
        "colab": {
          "base_uri": "https://localhost:8080/"
        },
        "outputId": "36f4ea41-b8c4-44d0-dbf7-553f9972ef3b",
        "id": "6-tPfAdtgGY-"
      },
      "execution_count": null,
      "outputs": [
        {
          "output_type": "execute_result",
          "data": {
            "text/plain": [
              "{'sentiment word': '편하고', 'aspect': '착용감', 'sentiment': 'positive'}"
            ]
          },
          "metadata": {},
          "execution_count": 18
        }
      ]
    },
    {
      "cell_type": "code",
      "source": [
        "json.loads(refined_docs[2].page_content)"
      ],
      "metadata": {
        "colab": {
          "base_uri": "https://localhost:8080/"
        },
        "id": "oPNRwbhovVw3",
        "outputId": "4cac13ad-ffc7-488c-8a2b-d03e9744e7d8"
      },
      "execution_count": null,
      "outputs": [
        {
          "output_type": "execute_result",
          "data": {
            "text/plain": [
              "{'Index': '15',\n",
              " 'RawText': '편하고  디자인이 예뻐요  가격도  좋아요   시원해요  빨리 마르고  이것만  입게되요',\n",
              " 'Source': '쇼핑몰',\n",
              " 'Domain': '패션',\n",
              " 'MainCategory': '여성의류',\n",
              " 'ProductName': 'OO 플** 베스트 풀코디 3종',\n",
              " 'ReviewScore': '100',\n",
              " 'Syllable': '49',\n",
              " 'Word': '10',\n",
              " 'RDate': '20210804',\n",
              " 'GeneralPolarity': '1',\n",
              " 'Aspects': [{'Aspect': '착용감',\n",
              "   'SentimentText': '편하고',\n",
              "   'SentimentWord': '1',\n",
              "   'SentimentPolarity': '1'},\n",
              "  {'Aspect': '디자인',\n",
              "   'SentimentText': '디자인이 예뻐요',\n",
              "   'SentimentWord': '2',\n",
              "   'SentimentPolarity': '1'},\n",
              "  {'Aspect': '가격',\n",
              "   'SentimentText': '가격도  좋아요',\n",
              "   'SentimentWord': '2',\n",
              "   'SentimentPolarity': '1'},\n",
              "  {'Aspect': '기능',\n",
              "   'SentimentText': '시원해요',\n",
              "   'SentimentWord': '1',\n",
              "   'SentimentPolarity': '1'},\n",
              "  {'Aspect': '소재',\n",
              "   'SentimentText': '빨리 마르고',\n",
              "   'SentimentWord': '2',\n",
              "   'SentimentPolarity': '1'},\n",
              "  {'Aspect': '활용성',\n",
              "   'SentimentText': '이것만  입게되요',\n",
              "   'SentimentWord': '2',\n",
              "   'SentimentPolarity': '1'}]}"
            ]
          },
          "metadata": {},
          "execution_count": 19
        }
      ]
    },
    {
      "cell_type": "code",
      "source": [
        "chain.run(json.loads(refined_docs[3].page_content)['RawText'])"
      ],
      "metadata": {
        "colab": {
          "base_uri": "https://localhost:8080/"
        },
        "outputId": "6c32cd5e-c992-49fd-86c5-67ea426a3a3e",
        "id": "_m0cHgtTgKWE"
      },
      "execution_count": null,
      "outputs": [
        {
          "output_type": "execute_result",
          "data": {
            "text/plain": [
              "{'sentiment word': '착한가격', 'aspect': '가격', 'sentiment': 'positive'}"
            ]
          },
          "metadata": {},
          "execution_count": 20
        }
      ]
    },
    {
      "cell_type": "code",
      "source": [
        "json.loads(refined_docs[3].page_content)"
      ],
      "metadata": {
        "colab": {
          "base_uri": "https://localhost:8080/"
        },
        "id": "TfsAiec3vZop",
        "outputId": "42b0c310-9029-45e0-ca23-7e6cbb8baee6"
      },
      "execution_count": null,
      "outputs": [
        {
          "output_type": "execute_result",
          "data": {
            "text/plain": [
              "{'Index': '17',\n",
              " 'RawText': '너무 착한가격에 감사합니다 윈하는 색은 없지만',\n",
              " 'Source': '쇼핑몰',\n",
              " 'Domain': '패션',\n",
              " 'MainCategory': '여성의류',\n",
              " 'ProductName': 'OO 플** 베스트 풀코디 3종',\n",
              " 'ReviewScore': '100',\n",
              " 'Syllable': '25',\n",
              " 'Word': '6',\n",
              " 'RDate': '20210803',\n",
              " 'GeneralPolarity': '1',\n",
              " 'Aspects': [{'Aspect': '가격',\n",
              "   'SentimentText': '너무 착한가격에 감사합니다',\n",
              "   'SentimentWord': '3',\n",
              "   'SentimentPolarity': '1'},\n",
              "  {'Aspect': '색상',\n",
              "   'SentimentText': '윈하는 색은 없지만',\n",
              "   'SentimentWord': '3',\n",
              "   'SentimentPolarity': '-1'}]}"
            ]
          },
          "metadata": {},
          "execution_count": 21
        }
      ]
    },
    {
      "cell_type": "code",
      "source": [
        "chain.run(json.loads(refined_docs[4].page_content)['RawText'])"
      ],
      "metadata": {
        "colab": {
          "base_uri": "https://localhost:8080/"
        },
        "outputId": "cd62412c-b88c-4d39-ffa6-c86f559a0abb",
        "id": "ZeLN-JFygOek"
      },
      "execution_count": null,
      "outputs": [
        {
          "output_type": "execute_result",
          "data": {
            "text/plain": [
              "{'sentiment word': '가격', 'aspect': '가격', 'sentiment': 'positive'}"
            ]
          },
          "metadata": {},
          "execution_count": 22
        }
      ]
    },
    {
      "cell_type": "code",
      "source": [
        "json.loads(refined_docs[4].page_content)"
      ],
      "metadata": {
        "colab": {
          "base_uri": "https://localhost:8080/"
        },
        "id": "P7g3HCOmvc84",
        "outputId": "6ea3efbf-6209-4e96-eace-f319d5f72fbd"
      },
      "execution_count": null,
      "outputs": [
        {
          "output_type": "execute_result",
          "data": {
            "text/plain": [
              "{'Index': '18',\n",
              " 'RawText': '가격이  너무 좋아서  블랙 구매했습니다  그런데 소재도  맘에  들어  흰색도  구매했습니다',\n",
              " 'Source': '쇼핑몰',\n",
              " 'Domain': '패션',\n",
              " 'MainCategory': '여성의류',\n",
              " 'ProductName': 'OO 플** 베스트 풀코디 3종',\n",
              " 'ReviewScore': '100',\n",
              " 'Syllable': '52',\n",
              " 'Word': '11',\n",
              " 'RDate': '20210717',\n",
              " 'GeneralPolarity': '1',\n",
              " 'Aspects': [{'Aspect': '가격',\n",
              "   'SentimentText': '가격이  너무 좋아서',\n",
              "   'SentimentWord': '3',\n",
              "   'SentimentPolarity': '1'},\n",
              "  {'Aspect': '소재',\n",
              "   'SentimentText': '소재도  맘에  들어  흰색도  구매했습니다',\n",
              "   'SentimentWord': '5',\n",
              "   'SentimentPolarity': '1'}]}"
            ]
          },
          "metadata": {},
          "execution_count": 23
        }
      ]
    },
    {
      "cell_type": "code",
      "source": [
        "chain.run(json.loads(refined_docs[5].page_content)['RawText'])"
      ],
      "metadata": {
        "colab": {
          "base_uri": "https://localhost:8080/"
        },
        "outputId": "acaafa42-e60a-42a5-9cd6-42987938e03e",
        "id": "TKz8BKaTgR6a"
      },
      "execution_count": null,
      "outputs": [
        {
          "output_type": "execute_result",
          "data": {
            "text/plain": [
              "{'sentiment word': '재질', 'aspect': '재질', 'sentiment': 'neutral'}"
            ]
          },
          "metadata": {},
          "execution_count": 24
        }
      ]
    },
    {
      "cell_type": "code",
      "source": [
        "json.loads(refined_docs[5].page_content)"
      ],
      "metadata": {
        "colab": {
          "base_uri": "https://localhost:8080/"
        },
        "id": "0Oe1_Tb4vg_D",
        "outputId": "b469611c-9da5-4c74-f8dc-1173f6aa18ac"
      },
      "execution_count": null,
      "outputs": [
        {
          "output_type": "execute_result",
          "data": {
            "text/plain": [
              "{'Index': '21',\n",
              " 'RawText': '외출할때 입기에는 재질도 디자인도 좀~그러네요 그냥 집에서 편하게 입을수는 있을것 같아요',\n",
              " 'Source': '쇼핑몰',\n",
              " 'Domain': '패션',\n",
              " 'MainCategory': '여성의류',\n",
              " 'ProductName': 'OO 플** 베스트 풀코디 3종',\n",
              " 'ReviewScore': '60',\n",
              " 'Syllable': '49',\n",
              " 'Word': '11',\n",
              " 'RDate': '20210511',\n",
              " 'GeneralPolarity': '-1',\n",
              " 'Aspects': [{'Aspect': '소재',\n",
              "   'SentimentText': '재질도 디자인도 좀~그러네요',\n",
              "   'SentimentWord': '3',\n",
              "   'SentimentPolarity': '-1'},\n",
              "  {'Aspect': '디자인',\n",
              "   'SentimentText': '디자인도 좀~그러네요',\n",
              "   'SentimentWord': '2',\n",
              "   'SentimentPolarity': '-1'},\n",
              "  {'Aspect': '활용성',\n",
              "   'SentimentText': '집에서 편하게 입을수는 있을것 같아요',\n",
              "   'SentimentWord': '5',\n",
              "   'SentimentPolarity': '0'}]}"
            ]
          },
          "metadata": {},
          "execution_count": 25
        }
      ]
    },
    {
      "cell_type": "code",
      "source": [
        "chain.run(json.loads(refined_docs[6].page_content)['RawText'])"
      ],
      "metadata": {
        "colab": {
          "base_uri": "https://localhost:8080/"
        },
        "outputId": "06079c50-f813-4e7f-c23a-ced1773a5d90",
        "id": "Gb2cxLNbgUs9"
      },
      "execution_count": null,
      "outputs": [
        {
          "output_type": "execute_result",
          "data": {
            "text/plain": [
              "{'sentiment word': '넘작고 짧으네요', 'aspect': '길이', 'sentiment': 'negative'}"
            ]
          },
          "metadata": {},
          "execution_count": 26
        }
      ]
    },
    {
      "cell_type": "code",
      "source": [
        "json.loads(refined_docs[6].page_content)"
      ],
      "metadata": {
        "colab": {
          "base_uri": "https://localhost:8080/"
        },
        "id": "8to1D6ZRvjYZ",
        "outputId": "295667f9-860c-45fa-e1d2-d981f41d6ca9"
      },
      "execution_count": null,
      "outputs": [
        {
          "output_type": "execute_result",
          "data": {
            "text/plain": [
              "{'Index': '27',\n",
              " 'RawText': '특히 자켓이 넘작고 짧으네요. 상의는 좀작구 바지는 잘맞아요.',\n",
              " 'Source': '쇼핑몰',\n",
              " 'Domain': '패션',\n",
              " 'MainCategory': '여성의류',\n",
              " 'ProductName': 'OO 플** 베스트 풀코디 3종',\n",
              " 'ReviewScore': '80',\n",
              " 'Syllable': '34',\n",
              " 'Word': '8',\n",
              " 'RDate': '20210415',\n",
              " 'GeneralPolarity': '-1',\n",
              " 'Aspects': [{'Aspect': '사이즈',\n",
              "   'SentimentText': '자켓이 넘작고',\n",
              "   'SentimentWord': '2',\n",
              "   'SentimentPolarity': '-1'},\n",
              "  {'Aspect': '길이',\n",
              "   'SentimentText': '짧으네요.',\n",
              "   'SentimentWord': '1',\n",
              "   'SentimentPolarity': '-1'},\n",
              "  {'Aspect': '사이즈',\n",
              "   'SentimentText': '상의는 좀작구',\n",
              "   'SentimentWord': '2',\n",
              "   'SentimentPolarity': '-1'},\n",
              "  {'Aspect': '사이즈',\n",
              "   'SentimentText': '바지는 잘맞아요.',\n",
              "   'SentimentWord': '2',\n",
              "   'SentimentPolarity': '1'}]}"
            ]
          },
          "metadata": {},
          "execution_count": 27
        }
      ]
    },
    {
      "cell_type": "code",
      "source": [
        "chain.run(json.loads(refined_docs[7].page_content)['RawText'])"
      ],
      "metadata": {
        "colab": {
          "base_uri": "https://localhost:8080/"
        },
        "outputId": "41651684-c78c-4d65-fe83-2ff373dc6ef1",
        "id": "l5KR_ussgZYK"
      },
      "execution_count": null,
      "outputs": [
        {
          "output_type": "execute_result",
          "data": {
            "text/plain": [
              "{'sentiment word': '싸고', 'aspect': '가격', 'sentiment': 'positive'}"
            ]
          },
          "metadata": {},
          "execution_count": 28
        }
      ]
    },
    {
      "cell_type": "code",
      "source": [
        "json.loads(refined_docs[7].page_content)"
      ],
      "metadata": {
        "colab": {
          "base_uri": "https://localhost:8080/"
        },
        "id": "OsiPTGX3vmV6",
        "outputId": "34bacbbe-b738-4db6-b7bf-28fe69ce240f"
      },
      "execution_count": null,
      "outputs": [
        {
          "output_type": "execute_result",
          "data": {
            "text/plain": [
              "{'Index': '30',\n",
              " 'RawText': '싸고품질이좋아요ᆢ사이즈는좀큰듯하구요ᆢ반사이즈는내려서주문하심좋을듯해요',\n",
              " 'Source': '쇼핑몰',\n",
              " 'Domain': '패션',\n",
              " 'MainCategory': '여성의류',\n",
              " 'ProductName': 'OO 플** 베스트 풀코디 3종',\n",
              " 'ReviewScore': '100',\n",
              " 'Syllable': '37',\n",
              " 'Word': '1',\n",
              " 'RDate': '20210618',\n",
              " 'GeneralPolarity': '0',\n",
              " 'Aspects': [{'Aspect': '가격',\n",
              "   'SentimentText': '싸고',\n",
              "   'SentimentWord': '1',\n",
              "   'SentimentPolarity': '1'},\n",
              "  {'Aspect': '품질',\n",
              "   'SentimentText': '품질이좋아요ᆢ',\n",
              "   'SentimentWord': '1',\n",
              "   'SentimentPolarity': '1'},\n",
              "  {'Aspect': '사이즈',\n",
              "   'SentimentText': '사이즈는좀큰듯하구요ᆢ',\n",
              "   'SentimentWord': '1',\n",
              "   'SentimentPolarity': '0'},\n",
              "  {'Aspect': '사이즈',\n",
              "   'SentimentText': '반사이즈는내려서주문하심좋을듯해요',\n",
              "   'SentimentWord': '1',\n",
              "   'SentimentPolarity': '0'}]}"
            ]
          },
          "metadata": {},
          "execution_count": 29
        }
      ]
    },
    {
      "cell_type": "code",
      "source": [
        "chain.run(json.loads(refined_docs[8].page_content)['RawText'])"
      ],
      "metadata": {
        "colab": {
          "base_uri": "https://localhost:8080/"
        },
        "outputId": "ec987efc-722a-4f28-f76d-7de48e76bf4b",
        "id": "UCl15Xr1gdFs"
      },
      "execution_count": null,
      "outputs": [
        {
          "output_type": "execute_result",
          "data": {
            "text/plain": [
              "{'sentiment word': '편하고', 'aspect': '착용감', 'sentiment': 'positive'}"
            ]
          },
          "metadata": {},
          "execution_count": 30
        }
      ]
    },
    {
      "cell_type": "code",
      "source": [
        "json.loads(refined_docs[8].page_content)"
      ],
      "metadata": {
        "colab": {
          "base_uri": "https://localhost:8080/"
        },
        "id": "5kR6444hwaMn",
        "outputId": "197d421e-2c24-478d-d7e7-f4466ddf1029"
      },
      "execution_count": null,
      "outputs": [
        {
          "output_type": "execute_result",
          "data": {
            "text/plain": [
              "{'Index': '38',\n",
              " 'RawText': '바지가 너무 편하고 좋아요 티셔츠는 여름에 잘 입을 듯 베스트는 디자인은 별로지만 가격이 착해서 만족',\n",
              " 'Source': '쇼핑몰',\n",
              " 'Domain': '패션',\n",
              " 'MainCategory': '여성의류',\n",
              " 'ProductName': 'OO 플** 베스트 풀코디 3종',\n",
              " 'ReviewScore': '70',\n",
              " 'Syllable': '56',\n",
              " 'Word': '15',\n",
              " 'RDate': '20210408',\n",
              " 'GeneralPolarity': '1',\n",
              " 'Aspects': [{'Aspect': '착용감',\n",
              "   'SentimentText': '바지가 너무 편하고 좋아요',\n",
              "   'SentimentWord': '4',\n",
              "   'SentimentPolarity': '1'},\n",
              "  {'Aspect': '기능',\n",
              "   'SentimentText': '티셔츠는 여름에 잘 입을 듯',\n",
              "   'SentimentWord': '5',\n",
              "   'SentimentPolarity': '1'},\n",
              "  {'Aspect': '디자인',\n",
              "   'SentimentText': '베스트는 디자인은 별로지만',\n",
              "   'SentimentWord': '3',\n",
              "   'SentimentPolarity': '-1'},\n",
              "  {'Aspect': '가격',\n",
              "   'SentimentText': '가격이 착해서 만족',\n",
              "   'SentimentWord': '3',\n",
              "   'SentimentPolarity': '1'}]}"
            ]
          },
          "metadata": {},
          "execution_count": 31
        }
      ]
    },
    {
      "cell_type": "code",
      "source": [
        "chain.run(json.loads(refined_docs[9].page_content)['RawText'])"
      ],
      "metadata": {
        "colab": {
          "base_uri": "https://localhost:8080/"
        },
        "outputId": "b1f2c8c9-7d6e-48ed-ab04-7d5385b53330",
        "id": "ZJkKzOfggheh"
      },
      "execution_count": null,
      "outputs": [
        {
          "output_type": "execute_result",
          "data": {
            "text/plain": [
              "{'sentiment word': '예뻐요', 'aspect': '디자인', 'sentiment': 'positive'}"
            ]
          },
          "metadata": {},
          "execution_count": 32
        }
      ]
    },
    {
      "cell_type": "code",
      "source": [
        "json.loads(refined_docs[9].page_content)"
      ],
      "metadata": {
        "colab": {
          "base_uri": "https://localhost:8080/"
        },
        "id": "s6jwKRpwwb2k",
        "outputId": "64ac1241-ac2b-40f2-ff71-a401a58c2e57"
      },
      "execution_count": null,
      "outputs": [
        {
          "output_type": "execute_result",
          "data": {
            "text/plain": [
              "{'Index': '54',\n",
              " 'RawText': '디자인이 예뻐요. 사이즈 잘 맞습니다.',\n",
              " 'Source': '쇼핑몰',\n",
              " 'Domain': '패션',\n",
              " 'MainCategory': '여성의류',\n",
              " 'ProductName': 'OO 여성 소프트 진주 아** 니트 2종 택1',\n",
              " 'ReviewScore': '100',\n",
              " 'Syllable': '21',\n",
              " 'Word': '5',\n",
              " 'RDate': '20211027',\n",
              " 'GeneralPolarity': '1',\n",
              " 'Aspects': [{'Aspect': '디자인',\n",
              "   'SentimentText': '디자인이 예뻐요.',\n",
              "   'SentimentWord': '2',\n",
              "   'SentimentPolarity': '1'},\n",
              "  {'Aspect': '사이즈',\n",
              "   'SentimentText': '사이즈 잘 맞습니다.',\n",
              "   'SentimentWord': '3',\n",
              "   'SentimentPolarity': '1'}]}"
            ]
          },
          "metadata": {},
          "execution_count": 33
        }
      ]
    },
    {
      "cell_type": "code",
      "source": [],
      "metadata": {
        "id": "qN4XRjjVghJB"
      },
      "execution_count": null,
      "outputs": []
    },
    {
      "cell_type": "code",
      "source": [],
      "metadata": {
        "id": "gnRuRBL1gczi"
      },
      "execution_count": null,
      "outputs": []
    },
    {
      "cell_type": "code",
      "source": [],
      "metadata": {
        "id": "xOX8vl6_gcwO"
      },
      "execution_count": null,
      "outputs": []
    }
  ]
}