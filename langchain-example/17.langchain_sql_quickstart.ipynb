{
  "nbformat": 4,
  "nbformat_minor": 0,
  "metadata": {
    "colab": {
      "provenance": []
    },
    "kernelspec": {
      "name": "python3",
      "display_name": "Python 3"
    },
    "language_info": {
      "name": "python"
    }
  },
  "cells": [
    {
      "cell_type": "markdown",
      "source": [
        "# 랭체인(LangChain) SQL Quicktart 예제\n",
        "## 작성자 : AISchool ( http://aischool.ai/%ec%98%a8%eb%9d%bc%ec%9d%b8-%ea%b0%95%ec%9d%98-%ec%b9%b4%ed%85%8c%ea%b3%a0%eb%a6%ac/ )\n",
        "## Reference : https://python.langchain.com/docs/use_cases/sql/quickstart"
      ],
      "metadata": {
        "id": "pJ6i2qcdZ0Ow"
      }
    },
    {
      "cell_type": "markdown",
      "source": [
        "![](https://python.langchain.com/assets/images/sql_usecase-d432701261f05ab69b38576093718cf3.png)"
      ],
      "metadata": {
        "id": "KauMmepltoTU"
      }
    },
    {
      "cell_type": "markdown",
      "source": [
        "## ⚠️ Security note ⚠️\n",
        "* SQL 에이전트를 실제 운영중인 DB에 적용할 경우 의도치않은 쿼리가 실행될 잠재적인 위험이 있습니다. SQL 에이전트를 운영할 별도의 DB를 새로 생성하거나 SQL 에이전트의 DB 접근권한을 최소한으로 설정하세요.\n"
      ],
      "metadata": {
        "id": "Pa5-Cmp93WO_"
      }
    },
    {
      "cell_type": "markdown",
      "source": [
        "# Sample SQL DB 다운로드"
      ],
      "metadata": {
        "id": "CST7S7N_F9nZ"
      }
    },
    {
      "cell_type": "markdown",
      "source": [
        "## Reference : https://www.sqlitetutorial.net/sqlite-sample-database/"
      ],
      "metadata": {
        "id": "t6aDrTGuFiRy"
      }
    },
    {
      "cell_type": "markdown",
      "source": [
        "![](https://www.sqlitetutorial.net/wp-content/uploads/2015/11/sqlite-sample-database-color.jpg)"
      ],
      "metadata": {
        "id": "vo1A6bx3tqsh"
      }
    },
    {
      "cell_type": "code",
      "source": [
        "!wget https://www.sqlitetutorial.net/wp-content/uploads/2018/03/chinook.zip -O chinook.zip"
      ],
      "metadata": {
        "colab": {
          "base_uri": "https://localhost:8080/"
        },
        "id": "eGJ87h1jFeOS",
        "outputId": "6f19fa67-b715-4a80-82eb-06a9fb597807"
      },
      "execution_count": null,
      "outputs": [
        {
          "output_type": "stream",
          "name": "stdout",
          "text": [
            "--2024-03-05 13:16:31--  https://www.sqlitetutorial.net/wp-content/uploads/2018/03/chinook.zip\n",
            "Resolving www.sqlitetutorial.net (www.sqlitetutorial.net)... 104.21.30.141, 172.67.172.250, 2606:4700:3037::6815:1e8d, ...\n",
            "Connecting to www.sqlitetutorial.net (www.sqlitetutorial.net)|104.21.30.141|:443... connected.\n",
            "HTTP request sent, awaiting response... 200 OK\n",
            "Length: 305596 (298K) [application/zip]\n",
            "Saving to: ‘chinook.zip’\n",
            "\n",
            "\rchinook.zip           0%[                    ]       0  --.-KB/s               \rchinook.zip         100%[===================>] 298.43K  --.-KB/s    in 0.02s   \n",
            "\n",
            "2024-03-05 13:16:32 (13.0 MB/s) - ‘chinook.zip’ saved [305596/305596]\n",
            "\n"
          ]
        }
      ]
    },
    {
      "cell_type": "code",
      "source": [
        "!unzip chinook.zip"
      ],
      "metadata": {
        "colab": {
          "base_uri": "https://localhost:8080/"
        },
        "id": "gfry_RfGFeMF",
        "outputId": "60a1c85a-936d-4b6d-ef78-60cf541cb049"
      },
      "execution_count": null,
      "outputs": [
        {
          "output_type": "stream",
          "name": "stdout",
          "text": [
            "Archive:  chinook.zip\n",
            "  inflating: chinook.db              \n"
          ]
        }
      ]
    },
    {
      "cell_type": "markdown",
      "source": [
        "# LangChain 라이브러리 설치"
      ],
      "metadata": {
        "id": "4hniXcElvMif"
      }
    },
    {
      "cell_type": "code",
      "source": [
        "!pip install --upgrade --quiet  langchain langchain-community langchain-openai"
      ],
      "metadata": {
        "id": "FSTi00anFGqf"
      },
      "execution_count": null,
      "outputs": []
    },
    {
      "cell_type": "markdown",
      "source": [
        "# OpenAI API Key 설정"
      ],
      "metadata": {
        "id": "2J_c-XcBVGSi"
      }
    },
    {
      "cell_type": "code",
      "source": [
        "OPENAI_KEY = \"여러분의_OPENAI_API_KEY\""
      ],
      "metadata": {
        "id": "Te8R0rpGv8zz"
      },
      "execution_count": null,
      "outputs": []
    },
    {
      "cell_type": "markdown",
      "source": [
        "# chinook.db 불러오기"
      ],
      "metadata": {
        "id": "4xNhYTD-Kyvj"
      }
    },
    {
      "cell_type": "code",
      "source": [
        "from langchain_community.utilities import SQLDatabase\n",
        "\n",
        "db = SQLDatabase.from_uri(\"sqlite:///chinook.db\")\n",
        "print(db.dialect)\n",
        "print(db.get_usable_table_names())\n",
        "db.run(\"SELECT * FROM artists LIMIT 10;\")"
      ],
      "metadata": {
        "colab": {
          "base_uri": "https://localhost:8080/",
          "height": 87
        },
        "id": "ADKLl24cGcN0",
        "outputId": "b67de8a1-06db-4303-ace8-81353c6ae13d"
      },
      "execution_count": null,
      "outputs": [
        {
          "output_type": "stream",
          "name": "stdout",
          "text": [
            "sqlite\n",
            "['albums', 'artists', 'customers', 'employees', 'genres', 'invoice_items', 'invoices', 'media_types', 'playlist_track', 'playlists', 'tracks']\n"
          ]
        },
        {
          "output_type": "execute_result",
          "data": {
            "text/plain": [
              "\"[(1, 'AC/DC'), (2, 'Accept'), (3, 'Aerosmith'), (4, 'Alanis Morissette'), (5, 'Alice In Chains'), (6, 'Antônio Carlos Jobim'), (7, 'Apocalyptica'), (8, 'Audioslave'), (9, 'BackBeat'), (10, 'Billy Cobham')]\""
            ],
            "application/vnd.google.colaboratory.intrinsic+json": {
              "type": "string"
            }
          },
          "metadata": {},
          "execution_count": 33
        }
      ]
    },
    {
      "cell_type": "code",
      "source": [
        "from langchain.chains import create_sql_query_chain\n",
        "from langchain_openai import ChatOpenAI\n",
        "\n",
        "llm = ChatOpenAI(model=\"gpt-3.5-turbo\", temperature=0, openai_api_key=OPENAI_KEY)\n",
        "chain = create_sql_query_chain(llm, db)\n",
        "response = chain.invoke({\"question\": \"employees는 몇명이 있어?\"})\n",
        "response"
      ],
      "metadata": {
        "colab": {
          "base_uri": "https://localhost:8080/",
          "height": 35
        },
        "id": "V_DJe0HbK2do",
        "outputId": "468b7171-02ba-4a11-ca07-1506c554aa10"
      },
      "execution_count": null,
      "outputs": [
        {
          "output_type": "execute_result",
          "data": {
            "text/plain": [
              "'SELECT COUNT(\"EmployeeId\") AS \"EmployeeCount\" FROM employees'"
            ],
            "application/vnd.google.colaboratory.intrinsic+json": {
              "type": "string"
            }
          },
          "metadata": {},
          "execution_count": 34
        }
      ]
    },
    {
      "cell_type": "code",
      "source": [
        "db.run(response)"
      ],
      "metadata": {
        "colab": {
          "base_uri": "https://localhost:8080/",
          "height": 35
        },
        "id": "RF8nQwDkMKjn",
        "outputId": "05b24b7b-b5cd-44b4-8b36-81a1ae4aa488"
      },
      "execution_count": null,
      "outputs": [
        {
          "output_type": "execute_result",
          "data": {
            "text/plain": [
              "'[(8,)]'"
            ],
            "application/vnd.google.colaboratory.intrinsic+json": {
              "type": "string"
            }
          },
          "metadata": {},
          "execution_count": 35
        }
      ]
    },
    {
      "cell_type": "markdown",
      "source": [
        "# response 쿼리를 만들어낸 실제 프롬프트 확인"
      ],
      "metadata": {
        "id": "Y1TwGflQNxUN"
      }
    },
    {
      "cell_type": "markdown",
      "source": [
        "## Reference : https://smith.langchain.com/public/c8fa52ea-be46-4829-bde2-52894970b830/r/a8a73260-6f89-45ff-be3c-17453594cf54"
      ],
      "metadata": {
        "id": "dRdnCoRfP4N7"
      }
    },
    {
      "cell_type": "code",
      "source": [
        "You are a SQLite expert. Given an input question, first create a syntactically correct SQLite query to run, then look at the results of the query and return the answer to the input question.\n",
        "Unless the user specifies in the question a specific number of examples to obtain, query for at most 5 results using the LIMIT clause as per SQLite. You can order the results to return the most informative data in the database.\n",
        "Never query for all columns from a table. You must query only the columns that are needed to answer the question. Wrap each column name in double quotes (\") to denote them as delimited identifiers.\n",
        "Pay attention to use only the column names you can see in the tables below. Be careful to not query for columns that do not exist. Also, pay attention to which column is in which table.\n",
        "Pay attention to use date('now') function to get the current date, if the question involves \"today\".\n",
        "\n",
        "Use the following format:\n",
        "\n",
        "Question: Question here\n",
        "SQLQuery: SQL Query to run\n",
        "SQLResult: Result of the SQLQuery\n",
        "Answer: Final answer here\n",
        "\n",
        "Only use the following tables:\n",
        "\n",
        "CREATE TABLE \"Album\" (\n",
        "\t\"AlbumId\" INTEGER NOT NULL,\n",
        "\t\"Title\" NVARCHAR(160) NOT NULL,\n",
        "\t\"ArtistId\" INTEGER NOT NULL,\n",
        "\tPRIMARY KEY (\"AlbumId\"),\n",
        "\tFOREIGN KEY(\"ArtistId\") REFERENCES \"Artist\" (\"ArtistId\")\n",
        ")\n",
        "\n",
        "/*\n",
        "3 rows from Album table:\n",
        "AlbumId\tTitle\tArtistId\n",
        "1\tFor Those About To Rock We Salute You\t1\n",
        "2\tBalls to the Wall\t2\n",
        "3\tRestless and Wild\t2\n",
        "*/\n",
        "\n",
        "\n",
        "CREATE TABLE \"Artist\" (\n",
        "\t\"ArtistId\" INTEGER NOT NULL,\n",
        "\t\"Name\" NVARCHAR(120),\n",
        "\tPRIMARY KEY (\"ArtistId\")\n",
        ")\n",
        "\n",
        "/*\n",
        "3 rows from Artist table:\n",
        "ArtistId\tName\n",
        "1\tAC/DC\n",
        "2\tAccept\n",
        "3\tAerosmith\n",
        "*/\n",
        "\n",
        "\n",
        "CREATE TABLE \"Customer\" (\n",
        "\t\"CustomerId\" INTEGER NOT NULL,\n",
        "\t\"FirstName\" NVARCHAR(40) NOT NULL,\n",
        "\t\"LastName\" NVARCHAR(20) NOT NULL,\n",
        "\t\"Company\" NVARCHAR(80),\n",
        "\t\"Address\" NVARCHAR(70),\n",
        "\t\"City\" NVARCHAR(40),\n",
        "\t\"State\" NVARCHAR(40),\n",
        "\t\"Country\" NVARCHAR(40),\n",
        "\t\"PostalCode\" NVARCHAR(10),\n",
        "\t\"Phone\" NVARCHAR(24),\n",
        "\t\"Fax\" NVARCHAR(24),\n",
        "\t\"Email\" NVARCHAR(60) NOT NULL,\n",
        "\t\"SupportRepId\" INTEGER,\n",
        "\tPRIMARY KEY (\"CustomerId\"),\n",
        "\tFOREIGN KEY(\"SupportRepId\") REFERENCES \"Employee\" (\"EmployeeId\")\n",
        ")\n",
        "\n",
        "/*\n",
        "3 rows from Customer table:\n",
        "CustomerId\tFirstName\tLastName\tCompany\tAddress\tCity\tState\tCountry\tPostalCode\tPhone\tFax\tEmail\tSupportRepId\n",
        "1\tLuís\tGonçalves\tEmbraer - Empresa Brasileira de Aeronáutica S.A.\tAv. Brigadeiro Faria Lima, 2170\tSão José dos Campos\tSP\tBrazil\t12227-000\t+55 (12) 3923-5555\t+55 (12) 3923-5566\tluisg@embraer.com.br\t3\n",
        "2\tLeonie\tKöhler\tNone\tTheodor-Heuss-Straße 34\tStuttgart\tNone\tGermany\t70174\t+49 0711 2842222\tNone\tleonekohler@surfeu.de\t5\n",
        "3\tFrançois\tTremblay\tNone\t1498 rue Bélanger\tMontréal\tQC\tCanada\tH2G 1A7\t+1 (514) 721-4711\tNone\tftremblay@gmail.com\t3\n",
        "*/\n",
        "\n",
        "\n",
        "CREATE TABLE \"Employee\" (\n",
        "\t\"EmployeeId\" INTEGER NOT NULL,\n",
        "\t\"LastName\" NVARCHAR(20) NOT NULL,\n",
        "\t\"FirstName\" NVARCHAR(20) NOT NULL,\n",
        "\t\"Title\" NVARCHAR(30),\n",
        "\t\"ReportsTo\" INTEGER,\n",
        "\t\"BirthDate\" DATETIME,\n",
        "\t\"HireDate\" DATETIME,\n",
        "\t\"Address\" NVARCHAR(70),\n",
        "\t\"City\" NVARCHAR(40),\n",
        "\t\"State\" NVARCHAR(40),\n",
        "\t\"Country\" NVARCHAR(40),\n",
        "\t\"PostalCode\" NVARCHAR(10),\n",
        "\t\"Phone\" NVARCHAR(24),\n",
        "\t\"Fax\" NVARCHAR(24),\n",
        "\t\"Email\" NVARCHAR(60),\n",
        "\tPRIMARY KEY (\"EmployeeId\"),\n",
        "\tFOREIGN KEY(\"ReportsTo\") REFERENCES \"Employee\" (\"EmployeeId\")\n",
        ")\n",
        "\n",
        "/*\n",
        "3 rows from Employee table:\n",
        "EmployeeId\tLastName\tFirstName\tTitle\tReportsTo\tBirthDate\tHireDate\tAddress\tCity\tState\tCountry\tPostalCode\tPhone\tFax\tEmail\n",
        "1\tAdams\tAndrew\tGeneral Manager\tNone\t1962-02-18 00:00:00\t2002-08-14 00:00:00\t11120 Jasper Ave NW\tEdmonton\tAB\tCanada\tT5K 2N1\t+1 (780) 428-9482\t+1 (780) 428-3457\tandrew@chinookcorp.com\n",
        "2\tEdwards\tNancy\tSales Manager\t1\t1958-12-08 00:00:00\t2002-05-01 00:00:00\t825 8 Ave SW\tCalgary\tAB\tCanada\tT2P 2T3\t+1 (403) 262-3443\t+1 (403) 262-3322\tnancy@chinookcorp.com\n",
        "3\tPeacock\tJane\tSales Support Agent\t2\t1973-08-29 00:00:00\t2002-04-01 00:00:00\t1111 6 Ave SW\tCalgary\tAB\tCanada\tT2P 5M5\t+1 (403) 262-3443\t+1 (403) 262-6712\tjane@chinookcorp.com\n",
        "*/\n",
        "\n",
        "\n",
        "CREATE TABLE \"Genre\" (\n",
        "\t\"GenreId\" INTEGER NOT NULL,\n",
        "\t\"Name\" NVARCHAR(120),\n",
        "\tPRIMARY KEY (\"GenreId\")\n",
        ")\n",
        "\n",
        "/*\n",
        "3 rows from Genre table:\n",
        "GenreId\tName\n",
        "1\tRock\n",
        "2\tJazz\n",
        "3\tMetal\n",
        "*/\n",
        "\n",
        "\n",
        "CREATE TABLE \"Invoice\" (\n",
        "\t\"InvoiceId\" INTEGER NOT NULL,\n",
        "\t\"CustomerId\" INTEGER NOT NULL,\n",
        "\t\"InvoiceDate\" DATETIME NOT NULL,\n",
        "\t\"BillingAddress\" NVARCHAR(70),\n",
        "\t\"BillingCity\" NVARCHAR(40),\n",
        "\t\"BillingState\" NVARCHAR(40),\n",
        "\t\"BillingCountry\" NVARCHAR(40),\n",
        "\t\"BillingPostalCode\" NVARCHAR(10),\n",
        "\t\"Total\" NUMERIC(10, 2) NOT NULL,\n",
        "\tPRIMARY KEY (\"InvoiceId\"),\n",
        "\tFOREIGN KEY(\"CustomerId\") REFERENCES \"Customer\" (\"CustomerId\")\n",
        ")\n",
        "\n",
        "/*\n",
        "3 rows from Invoice table:\n",
        "InvoiceId\tCustomerId\tInvoiceDate\tBillingAddress\tBillingCity\tBillingState\tBillingCountry\tBillingPostalCode\tTotal\n",
        "1\t2\t2009-01-01 00:00:00\tTheodor-Heuss-Straße 34\tStuttgart\tNone\tGermany\t70174\t1.98\n",
        "2\t4\t2009-01-02 00:00:00\tUllevålsveien 14\tOslo\tNone\tNorway\t0171\t3.96\n",
        "3\t8\t2009-01-03 00:00:00\tGrétrystraat 63\tBrussels\tNone\tBelgium\t1000\t5.94\n",
        "*/\n",
        "\n",
        "\n",
        "CREATE TABLE \"InvoiceLine\" (\n",
        "\t\"InvoiceLineId\" INTEGER NOT NULL,\n",
        "\t\"InvoiceId\" INTEGER NOT NULL,\n",
        "\t\"TrackId\" INTEGER NOT NULL,\n",
        "\t\"UnitPrice\" NUMERIC(10, 2) NOT NULL,\n",
        "\t\"Quantity\" INTEGER NOT NULL,\n",
        "\tPRIMARY KEY (\"InvoiceLineId\"),\n",
        "\tFOREIGN KEY(\"TrackId\") REFERENCES \"Track\" (\"TrackId\"),\n",
        "\tFOREIGN KEY(\"InvoiceId\") REFERENCES \"Invoice\" (\"InvoiceId\")\n",
        ")\n",
        "\n",
        "/*\n",
        "3 rows from InvoiceLine table:\n",
        "InvoiceLineId\tInvoiceId\tTrackId\tUnitPrice\tQuantity\n",
        "1\t1\t2\t0.99\t1\n",
        "2\t1\t4\t0.99\t1\n",
        "3\t2\t6\t0.99\t1\n",
        "*/\n",
        "\n",
        "\n",
        "CREATE TABLE \"MediaType\" (\n",
        "\t\"MediaTypeId\" INTEGER NOT NULL,\n",
        "\t\"Name\" NVARCHAR(120),\n",
        "\tPRIMARY KEY (\"MediaTypeId\")\n",
        ")\n",
        "\n",
        "/*\n",
        "3 rows from MediaType table:\n",
        "MediaTypeId\tName\n",
        "1\tMPEG audio file\n",
        "2\tProtected AAC audio file\n",
        "3\tProtected MPEG-4 video file\n",
        "*/\n",
        "\n",
        "\n",
        "CREATE TABLE \"Playlist\" (\n",
        "\t\"PlaylistId\" INTEGER NOT NULL,\n",
        "\t\"Name\" NVARCHAR(120),\n",
        "\tPRIMARY KEY (\"PlaylistId\")\n",
        ")\n",
        "\n",
        "/*\n",
        "3 rows from Playlist table:\n",
        "PlaylistId\tName\n",
        "1\tMusic\n",
        "2\tMovies\n",
        "3\tTV Shows\n",
        "*/\n",
        "\n",
        "\n",
        "CREATE TABLE \"PlaylistTrack\" (\n",
        "\t\"PlaylistId\" INTEGER NOT NULL,\n",
        "\t\"TrackId\" INTEGER NOT NULL,\n",
        "\tPRIMARY KEY (\"PlaylistId\", \"TrackId\"),\n",
        "\tFOREIGN KEY(\"TrackId\") REFERENCES \"Track\" (\"TrackId\"),\n",
        "\tFOREIGN KEY(\"PlaylistId\") REFERENCES \"Playlist\" (\"PlaylistId\")\n",
        ")\n",
        "\n",
        "/*\n",
        "3 rows from PlaylistTrack table:\n",
        "PlaylistId\tTrackId\n",
        "1\t3402\n",
        "1\t3389\n",
        "1\t3390\n",
        "*/\n",
        "\n",
        "\n",
        "CREATE TABLE \"Track\" (\n",
        "\t\"TrackId\" INTEGER NOT NULL,\n",
        "\t\"Name\" NVARCHAR(200) NOT NULL,\n",
        "\t\"AlbumId\" INTEGER,\n",
        "\t\"MediaTypeId\" INTEGER NOT NULL,\n",
        "\t\"GenreId\" INTEGER,\n",
        "\t\"Composer\" NVARCHAR(220),\n",
        "\t\"Milliseconds\" INTEGER NOT NULL,\n",
        "\t\"Bytes\" INTEGER,\n",
        "\t\"UnitPrice\" NUMERIC(10, 2) NOT NULL,\n",
        "\tPRIMARY KEY (\"TrackId\"),\n",
        "\tFOREIGN KEY(\"MediaTypeId\") REFERENCES \"MediaType\" (\"MediaTypeId\"),\n",
        "\tFOREIGN KEY(\"GenreId\") REFERENCES \"Genre\" (\"GenreId\"),\n",
        "\tFOREIGN KEY(\"AlbumId\") REFERENCES \"Album\" (\"AlbumId\")\n",
        ")\n",
        "\n",
        "/*\n",
        "3 rows from Track table:\n",
        "TrackId\tName\tAlbumId\tMediaTypeId\tGenreId\tComposer\tMilliseconds\tBytes\tUnitPrice\n",
        "1\tFor Those About To Rock (We Salute You)\t1\t1\t1\tAngus Young, Malcolm Young, Brian Johnson\t343719\t11170334\t0.99\n",
        "2\tBalls to the Wall\t2\t2\t1\tNone\t342562\t5510424\t0.99\n",
        "3\tFast As a Shark\t3\t2\t1\tF. Baltes, S. Kaufman, U. Dirkscneider & W. Hoffman\t230619\t3990994\t0.99\n",
        "*/\n",
        "\n",
        "Question: How many employees are there\n",
        "SQLQuery:"
      ],
      "metadata": {
        "id": "nAHLTtQRMKhT"
      },
      "execution_count": null,
      "outputs": []
    },
    {
      "cell_type": "code",
      "source": [
        "chain.get_prompts()[0].pretty_print()"
      ],
      "metadata": {
        "colab": {
          "base_uri": "https://localhost:8080/"
        },
        "id": "sDk7YtoiK2a_",
        "outputId": "a89998a1-9464-4a0f-f27e-63cb0ce3b78f"
      },
      "execution_count": null,
      "outputs": [
        {
          "output_type": "stream",
          "name": "stdout",
          "text": [
            "You are a SQLite expert. Given an input question, first create a syntactically correct SQLite query to run, then look at the results of the query and return the answer to the input question.\n",
            "Unless the user specifies in the question a specific number of examples to obtain, query for at most 5 results using the LIMIT clause as per SQLite. You can order the results to return the most informative data in the database.\n",
            "Never query for all columns from a table. You must query only the columns that are needed to answer the question. Wrap each column name in double quotes (\") to denote them as delimited identifiers.\n",
            "Pay attention to use only the column names you can see in the tables below. Be careful to not query for columns that do not exist. Also, pay attention to which column is in which table.\n",
            "Pay attention to use date('now') function to get the current date, if the question involves \"today\".\n",
            "\n",
            "Use the following format:\n",
            "\n",
            "Question: Question here\n",
            "SQLQuery: SQL Query to run\n",
            "SQLResult: Result of the SQLQuery\n",
            "Answer: Final answer here\n",
            "\n",
            "Only use the following tables:\n",
            "\u001b[33;1m\u001b[1;3m{table_info}\u001b[0m\n",
            "\n",
            "Question: \u001b[33;1m\u001b[1;3m{input}\u001b[0m\n"
          ]
        }
      ]
    },
    {
      "cell_type": "markdown",
      "source": [
        "# Execute SQL query"
      ],
      "metadata": {
        "id": "YB4tH_goRUkp"
      }
    },
    {
      "cell_type": "markdown",
      "source": [
        "## 이 chain은 **실제로 쿼리를 DB에 실행하기 때문에 매우 주의해서 사용**해야합니다."
      ],
      "metadata": {
        "id": "So9Yg_iWVZJB"
      }
    },
    {
      "cell_type": "code",
      "source": [
        "from langchain_community.tools.sql_database.tool import QuerySQLDataBaseTool\n",
        "\n",
        "execute_query = QuerySQLDataBaseTool(db=db)\n",
        "write_query = create_sql_query_chain(llm, db)\n",
        "chain = write_query | execute_query\n",
        "chain.invoke({\"question\": \"employees는 몇명이 있어?\"})"
      ],
      "metadata": {
        "colab": {
          "base_uri": "https://localhost:8080/",
          "height": 35
        },
        "id": "7EiKbMt2VK7G",
        "outputId": "d948c13a-5e4d-4436-f24c-337ce1796a9e"
      },
      "execution_count": null,
      "outputs": [
        {
          "output_type": "execute_result",
          "data": {
            "text/plain": [
              "'[(8,)]'"
            ],
            "application/vnd.google.colaboratory.intrinsic+json": {
              "type": "string"
            }
          },
          "metadata": {},
          "execution_count": 37
        }
      ]
    },
    {
      "cell_type": "markdown",
      "source": [
        "# Answer the question"
      ],
      "metadata": {
        "id": "ont12pubVn6K"
      }
    },
    {
      "cell_type": "code",
      "source": [
        "from operator import itemgetter\n",
        "\n",
        "from langchain_core.output_parsers import StrOutputParser\n",
        "from langchain_core.prompts import PromptTemplate\n",
        "from langchain_core.runnables import RunnablePassthrough\n",
        "\n",
        "answer_prompt = PromptTemplate.from_template(\n",
        "    \"\"\"Given the following user question, corresponding SQL query, and SQL result, answer the user question.\n",
        "\n",
        "Question: {question}\n",
        "SQL Query: {query}\n",
        "SQL Result: {result}\n",
        "Answer: \"\"\"\n",
        ")\n",
        "\n",
        "answer = answer_prompt | llm | StrOutputParser()\n",
        "chain = (\n",
        "    RunnablePassthrough.assign(query=write_query).assign(\n",
        "        result=itemgetter(\"query\") | execute_query\n",
        "    )\n",
        "    | answer\n",
        ")\n",
        "\n",
        "chain.invoke({\"question\": \"employees는 몇명이 있어?\"})"
      ],
      "metadata": {
        "colab": {
          "base_uri": "https://localhost:8080/",
          "height": 35
        },
        "id": "AAVtu6IAVkwh",
        "outputId": "576821a9-8eb1-4c7b-a0d4-83f3721c63be"
      },
      "execution_count": null,
      "outputs": [
        {
          "output_type": "execute_result",
          "data": {
            "text/plain": [
              "'employees는 8명이 있어.'"
            ],
            "application/vnd.google.colaboratory.intrinsic+json": {
              "type": "string"
            }
          },
          "metadata": {},
          "execution_count": 38
        }
      ]
    },
    {
      "cell_type": "markdown",
      "source": [
        "# Agents"
      ],
      "metadata": {
        "id": "_9jX-OeFXcEp"
      }
    },
    {
      "cell_type": "markdown",
      "source": [
        "SQL Agent 는 SQL을 좀더 유연게 처리할 수 있도록 도와줍니다. SQL Agent의 장점은 아래와 같습니다.\n",
        "*   데이터베이스의 스키마뿐만 아니라 데이터베이스의 내용을 바탕으로 한 질문에도 답할 수 있습니다\n",
        "*   (특정 테이블을 설명하는 것과 같은). 생성된 쿼리를 실행하여 오류를 복구하고, 추적하여 정확하게 다시 생성할 수 있습니다.\n",
        "* 여러 의존 쿼리가 필요한 질문에 대한 답변이 가능합니다.\n",
        "* 관련 테이블의 스키마만 고려하여 토큰을 절약할 수 있습니다.\n",
        "\n",
        "\n",
        "\n",
        "\n"
      ],
      "metadata": {
        "id": "rhon3ri4sLJ-"
      }
    },
    {
      "cell_type": "code",
      "source": [
        "from langchain_community.agent_toolkits import create_sql_agent\n",
        "\n",
        "agent_executor = create_sql_agent(llm, db=db, agent_type=\"openai-tools\", verbose=True)"
      ],
      "metadata": {
        "id": "Ki_46mfRVK4c"
      },
      "execution_count": null,
      "outputs": []
    },
    {
      "cell_type": "code",
      "source": [
        "agent_executor.invoke(\n",
        "    {\n",
        "        \"input\": \"국가별 총 판매액을 나열하세요. 어느 국가의 고객이 가장 많은 돈을 지출했나요?\"\n",
        "    }\n",
        ")"
      ],
      "metadata": {
        "id": "tkL-50k8VK06"
      },
      "execution_count": null,
      "outputs": []
    },
    {
      "cell_type": "code",
      "source": [
        "agent_executor.invoke(\n",
        "    {\n",
        "        \"input\": \"가장 많은 앨범을 발매한 아티스트는 누구인가요?\"\n",
        "    }\n",
        ")"
      ],
      "metadata": {
        "colab": {
          "base_uri": "https://localhost:8080/"
        },
        "id": "o_WnHB2uuDU1",
        "outputId": "cfe91faf-4561-4c74-cd64-efba789ec9b5"
      },
      "execution_count": null,
      "outputs": [
        {
          "output_type": "stream",
          "name": "stdout",
          "text": [
            "\n",
            "\n",
            "\u001b[1m> Entering new SQL Agent Executor chain...\u001b[0m\n",
            "\u001b[32;1m\u001b[1;3m\n",
            "Invoking: `sql_db_list_tables` with ``\n",
            "\n",
            "\n",
            "\u001b[0m\u001b[38;5;200m\u001b[1;3malbums, artists, customers, employees, genres, invoice_items, invoices, media_types, playlist_track, playlists, tracks\u001b[0m\u001b[32;1m\u001b[1;3m\n",
            "Invoking: `sql_db_schema` with `{'table_names': 'albums, artists'}`\n",
            "\n",
            "\n",
            "\u001b[0m\u001b[33;1m\u001b[1;3m\n",
            "CREATE TABLE albums (\n",
            "\t\"AlbumId\" INTEGER NOT NULL, \n",
            "\t\"Title\" NVARCHAR(160) NOT NULL, \n",
            "\t\"ArtistId\" INTEGER NOT NULL, \n",
            "\tPRIMARY KEY (\"AlbumId\"), \n",
            "\tFOREIGN KEY(\"ArtistId\") REFERENCES artists (\"ArtistId\")\n",
            ")\n",
            "\n",
            "/*\n",
            "3 rows from albums table:\n",
            "AlbumId\tTitle\tArtistId\n",
            "1\tFor Those About To Rock We Salute You\t1\n",
            "2\tBalls to the Wall\t2\n",
            "3\tRestless and Wild\t2\n",
            "*/\n",
            "\n",
            "\n",
            "CREATE TABLE artists (\n",
            "\t\"ArtistId\" INTEGER NOT NULL, \n",
            "\t\"Name\" NVARCHAR(120), \n",
            "\tPRIMARY KEY (\"ArtistId\")\n",
            ")\n",
            "\n",
            "/*\n",
            "3 rows from artists table:\n",
            "ArtistId\tName\n",
            "1\tAC/DC\n",
            "2\tAccept\n",
            "3\tAerosmith\n",
            "*/\u001b[0m\u001b[32;1m\u001b[1;3m\n",
            "Invoking: `sql_db_query` with `SELECT artists.Name AS Artist, COUNT(albums.AlbumId) AS TotalAlbums FROM artists JOIN albums ON artists.ArtistId = albums.ArtistId GROUP BY artists.ArtistId ORDER BY TotalAlbums DESC LIMIT 1`\n",
            "\n",
            "\n",
            "\u001b[0m\u001b[36;1m\u001b[1;3m[('Iron Maiden', 21)]\u001b[0m\u001b[32;1m\u001b[1;3m가장 많은 앨범을 발매한 아티스트는 Iron Maiden입니다. Iron Maiden은 총 21개의 앨범을 발매했습니다.\u001b[0m\n",
            "\n",
            "\u001b[1m> Finished chain.\u001b[0m\n"
          ]
        },
        {
          "output_type": "execute_result",
          "data": {
            "text/plain": [
              "{'input': '가장 많은 앨범을 발매한 아티스트는 누구인가요?',\n",
              " 'output': '가장 많은 앨범을 발매한 아티스트는 Iron Maiden입니다. Iron Maiden은 총 21개의 앨범을 발매했습니다.'}"
            ]
          },
          "metadata": {},
          "execution_count": 27
        }
      ]
    },
    {
      "cell_type": "code",
      "source": [
        "agent_executor.invoke({\"input\": \"playlisttrack 테이블을 한국어로 설명하시오.\"})"
      ],
      "metadata": {
        "colab": {
          "base_uri": "https://localhost:8080/"
        },
        "id": "7Yk-oE5xVKyu",
        "outputId": "85e09c12-d977-43f2-8003-75f716cc4749"
      },
      "execution_count": null,
      "outputs": [
        {
          "output_type": "stream",
          "name": "stdout",
          "text": [
            "\n",
            "\n",
            "\u001b[1m> Entering new SQL Agent Executor chain...\u001b[0m\n",
            "\u001b[32;1m\u001b[1;3m\n",
            "Invoking: `sql_db_list_tables` with ``\n",
            "\n",
            "\n",
            "\u001b[0m\u001b[38;5;200m\u001b[1;3malbums, artists, customers, employees, genres, invoice_items, invoices, media_types, playlist_track, playlists, tracks\u001b[0m\u001b[32;1m\u001b[1;3m\n",
            "Invoking: `sql_db_schema` with `{'table_names': 'playlist_track'}`\n",
            "\n",
            "\n",
            "\u001b[0m\u001b[33;1m\u001b[1;3m\n",
            "CREATE TABLE playlist_track (\n",
            "\t\"PlaylistId\" INTEGER NOT NULL, \n",
            "\t\"TrackId\" INTEGER NOT NULL, \n",
            "\tPRIMARY KEY (\"PlaylistId\", \"TrackId\"), \n",
            "\tFOREIGN KEY(\"TrackId\") REFERENCES tracks (\"TrackId\"), \n",
            "\tFOREIGN KEY(\"PlaylistId\") REFERENCES playlists (\"PlaylistId\")\n",
            ")\n",
            "\n",
            "/*\n",
            "3 rows from playlist_track table:\n",
            "PlaylistId\tTrackId\n",
            "1\t3402\n",
            "1\t3389\n",
            "1\t3390\n",
            "*/\u001b[0m\u001b[32;1m\u001b[1;3mplaylisttrack 테이블은 \"PlaylistId\"와 \"TrackId\" 두 개의 열로 구성되어 있습니다. 이 테이블은 플레이리스트와 트랙 간의 관계를 나타내며, 각 행은 특정 플레이리스트에 속한 특정 트랙을 나타냅니다. \"PlaylistId\" 열은 플레이리스트를 식별하는 데 사용되고, \"TrackId\" 열은 트랙을 식별하는 데 사용됩니다. 또한, 이 테이블은 \"PlaylistId\"와 \"TrackId\" 열을 함께 기본 키로 사용하며, \"TrackId\" 열은 tracks 테이블의 \"TrackId\" 열을 참조하고, \"PlaylistId\" 열은 playlists 테이블의 \"PlaylistId\" 열을 참조합니다.\u001b[0m\n",
            "\n",
            "\u001b[1m> Finished chain.\u001b[0m\n"
          ]
        },
        {
          "output_type": "execute_result",
          "data": {
            "text/plain": [
              "{'input': 'playlisttrack 테이블을 한국어로 설명하시오.',\n",
              " 'output': 'playlisttrack 테이블은 \"PlaylistId\"와 \"TrackId\" 두 개의 열로 구성되어 있습니다. 이 테이블은 플레이리스트와 트랙 간의 관계를 나타내며, 각 행은 특정 플레이리스트에 속한 특정 트랙을 나타냅니다. \"PlaylistId\" 열은 플레이리스트를 식별하는 데 사용되고, \"TrackId\" 열은 트랙을 식별하는 데 사용됩니다. 또한, 이 테이블은 \"PlaylistId\"와 \"TrackId\" 열을 함께 기본 키로 사용하며, \"TrackId\" 열은 tracks 테이블의 \"TrackId\" 열을 참조하고, \"PlaylistId\" 열은 playlists 테이블의 \"PlaylistId\" 열을 참조합니다.'}"
            ]
          },
          "metadata": {},
          "execution_count": 26
        }
      ]
    },
    {
      "cell_type": "code",
      "source": [],
      "metadata": {
        "id": "ZVFVUJeRK2Y1"
      },
      "execution_count": null,
      "outputs": []
    },
    {
      "cell_type": "code",
      "source": [],
      "metadata": {
        "id": "kVAZiDmfK2WK"
      },
      "execution_count": null,
      "outputs": []
    },
    {
      "cell_type": "code",
      "source": [],
      "metadata": {
        "id": "NuAv8-ZFGcK9"
      },
      "execution_count": null,
      "outputs": []
    },
    {
      "cell_type": "code",
      "source": [],
      "metadata": {
        "id": "1W6VOD4DGcHu"
      },
      "execution_count": null,
      "outputs": []
    }
  ]
}