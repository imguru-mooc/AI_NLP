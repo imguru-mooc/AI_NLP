{
  "nbformat": 4,
  "nbformat_minor": 0,
  "metadata": {
    "colab": {
      "provenance": []
    },
    "kernelspec": {
      "name": "python3",
      "display_name": "Python 3"
    },
    "language_info": {
      "name": "python"
    }
  },
  "cells": [
    {
      "cell_type": "markdown",
      "source": [
        "# 랭체인(LangChain) SQL Agents 예제\n",
        "## 작성자 : AISchool ( http://aischool.ai/%ec%98%a8%eb%9d%bc%ec%9d%b8-%ea%b0%95%ec%9d%98-%ec%b9%b4%ed%85%8c%ea%b3%a0%eb%a6%ac/ )\n",
        "## Reference : https://python.langchain.com/docs/use_cases/sql/agents"
      ],
      "metadata": {
        "id": "pJ6i2qcdZ0Ow"
      }
    },
    {
      "cell_type": "markdown",
      "source": [
        "![](https://python.langchain.com/assets/images/sql_usecase-d432701261f05ab69b38576093718cf3.png)"
      ],
      "metadata": {
        "id": "KauMmepltoTU"
      }
    },
    {
      "cell_type": "markdown",
      "source": [
        "# Sample SQL DB 다운로드"
      ],
      "metadata": {
        "id": "CST7S7N_F9nZ"
      }
    },
    {
      "cell_type": "markdown",
      "source": [
        "## Reference : https://www.sqlitetutorial.net/sqlite-sample-database/"
      ],
      "metadata": {
        "id": "t6aDrTGuFiRy"
      }
    },
    {
      "cell_type": "markdown",
      "source": [
        "![](https://www.sqlitetutorial.net/wp-content/uploads/2015/11/sqlite-sample-database-color.jpg)"
      ],
      "metadata": {
        "id": "vo1A6bx3tqsh"
      }
    },
    {
      "cell_type": "code",
      "source": [
        "!wget https://www.sqlitetutorial.net/wp-content/uploads/2018/03/chinook.zip -O chinook.zip"
      ],
      "metadata": {
        "colab": {
          "base_uri": "https://localhost:8080/"
        },
        "id": "eGJ87h1jFeOS",
        "outputId": "899d79f5-fbd0-4107-aff9-342384c8e40a"
      },
      "execution_count": null,
      "outputs": [
        {
          "output_type": "stream",
          "name": "stdout",
          "text": [
            "--2024-03-10 09:33:16--  https://www.sqlitetutorial.net/wp-content/uploads/2018/03/chinook.zip\n",
            "Resolving www.sqlitetutorial.net (www.sqlitetutorial.net)... 172.67.172.250, 104.21.30.141, 2606:4700:3037::ac43:acfa, ...\n",
            "Connecting to www.sqlitetutorial.net (www.sqlitetutorial.net)|172.67.172.250|:443... connected.\n",
            "HTTP request sent, awaiting response... 200 OK\n",
            "Length: 305596 (298K) [application/zip]\n",
            "Saving to: ‘chinook.zip’\n",
            "\n",
            "\rchinook.zip           0%[                    ]       0  --.-KB/s               \rchinook.zip         100%[===================>] 298.43K  --.-KB/s    in 0.02s   \n",
            "\n",
            "2024-03-10 09:33:16 (13.9 MB/s) - ‘chinook.zip’ saved [305596/305596]\n",
            "\n"
          ]
        }
      ]
    },
    {
      "cell_type": "code",
      "source": [
        "!unzip chinook.zip"
      ],
      "metadata": {
        "colab": {
          "base_uri": "https://localhost:8080/"
        },
        "id": "gfry_RfGFeMF",
        "outputId": "cadbb62a-4880-45f7-c56a-b3041f800804"
      },
      "execution_count": null,
      "outputs": [
        {
          "output_type": "stream",
          "name": "stdout",
          "text": [
            "Archive:  chinook.zip\n",
            "replace chinook.db? [y]es, [n]o, [A]ll, [N]one, [r]ename: y\n",
            "  inflating: chinook.db              \n"
          ]
        }
      ]
    },
    {
      "cell_type": "markdown",
      "source": [
        "# LangChain 라이브러리 설치"
      ],
      "metadata": {
        "id": "4hniXcElvMif"
      }
    },
    {
      "cell_type": "code",
      "source": [
        "!pip install --upgrade --quiet langchain langchain-community langchain-openai chromadb"
      ],
      "metadata": {
        "id": "FSTi00anFGqf"
      },
      "execution_count": null,
      "outputs": []
    },
    {
      "cell_type": "markdown",
      "source": [
        "# OpenAI API Key 설정"
      ],
      "metadata": {
        "id": "2J_c-XcBVGSi"
      }
    },
    {
      "cell_type": "code",
      "source": [
        "OPENAI_KEY = \"여러분의_OPENAI_API_KEY\""
      ],
      "metadata": {
        "id": "Te8R0rpGv8zz"
      },
      "execution_count": null,
      "outputs": []
    },
    {
      "cell_type": "markdown",
      "source": [
        "# chinook.db 불러오기"
      ],
      "metadata": {
        "id": "4xNhYTD-Kyvj"
      }
    },
    {
      "cell_type": "code",
      "source": [
        "from langchain_community.utilities import SQLDatabase\n",
        "\n",
        "db = SQLDatabase.from_uri(\"sqlite:///chinook.db\")\n",
        "print(db.dialect)\n",
        "print(db.get_usable_table_names())\n",
        "db.run(\"SELECT * FROM artists LIMIT 10;\")"
      ],
      "metadata": {
        "colab": {
          "base_uri": "https://localhost:8080/",
          "height": 90
        },
        "id": "ADKLl24cGcN0",
        "outputId": "3c61d84f-06cb-486f-c71f-389b82a6d4c9"
      },
      "execution_count": null,
      "outputs": [
        {
          "output_type": "stream",
          "name": "stdout",
          "text": [
            "sqlite\n",
            "['albums', 'artists', 'customers', 'employees', 'genres', 'invoice_items', 'invoices', 'media_types', 'playlist_track', 'playlists', 'tracks']\n"
          ]
        },
        {
          "output_type": "execute_result",
          "data": {
            "text/plain": [
              "\"[(1, 'AC/DC'), (2, 'Accept'), (3, 'Aerosmith'), (4, 'Alanis Morissette'), (5, 'Alice In Chains'), (6, 'Antônio Carlos Jobim'), (7, 'Apocalyptica'), (8, 'Audioslave'), (9, 'BackBeat'), (10, 'Billy Cobham')]\""
            ],
            "application/vnd.google.colaboratory.intrinsic+json": {
              "type": "string"
            }
          },
          "metadata": {},
          "execution_count": 5
        }
      ]
    },
    {
      "cell_type": "code",
      "source": [
        "from langchain_community.agent_toolkits import create_sql_agent\n",
        "from langchain_openai import ChatOpenAI"
      ],
      "metadata": {
        "id": "uQce5xdun9E8"
      },
      "execution_count": null,
      "outputs": []
    },
    {
      "cell_type": "code",
      "source": [
        "llm = ChatOpenAI(model=\"gpt-3.5-turbo\", temperature=0, openai_api_key=OPENAI_KEY)"
      ],
      "metadata": {
        "id": "jmG9OArgoEsw"
      },
      "execution_count": null,
      "outputs": []
    },
    {
      "cell_type": "markdown",
      "source": [
        "# Using a dynamic few-shot prompt"
      ],
      "metadata": {
        "id": "YpgeC9najmP3"
      }
    },
    {
      "cell_type": "markdown",
      "source": [
        "* 에이전트 성능을 최적화하기 위해, 우리는 **도메인 특화 지식(domian-specific\n",
        "knowledge)**을 포함한 맞춤형 프롬프트를 제공할 수 있습니다.\n",
        "* 이 경우, **사용자 입력에 기반하여 동적으로 few-shot 프롬프트를 구축하는 예제 선택기**와 함께 few-shot prompt를 생성할 것입니다.\n",
        "* 이것은 **모델이 참조로 사용할 수 있는 관련 쿼리를 프롬프트에 삽입함으로써 모델이 더 나은 쿼리를 만들 수 있도록 도울 것**입니다."
      ],
      "metadata": {
        "id": "UsXalZH40ONT"
      }
    },
    {
      "cell_type": "code",
      "source": [
        "examples = [\n",
        "    {   \"input\": \"List all artists.\",\n",
        "        \"query\": \"SELECT * FROM artists;\"},\n",
        "    {\n",
        "        \"input\": \"Find all albums for the artist 'AC/DC'.\",\n",
        "        \"query\": \"SELECT * FROM albums WHERE ArtistId = (SELECT ArtistId FROM artists WHERE Name = 'AC/DC');\",\n",
        "    },\n",
        "    {\n",
        "        \"input\": \"List all tracks in the 'Rock' genre.\",\n",
        "        \"query\": \"SELECT * FROM tracks WHERE GenreId = (SELECT GenreId FROM Genre WHERE Name = 'Rock');\",\n",
        "    },\n",
        "    {\n",
        "        \"input\": \"Find the total duration of all tracks.\",\n",
        "        \"query\": \"SELECT SUM(Milliseconds) FROM tracks;\",\n",
        "    },\n",
        "    {\n",
        "        \"input\": \"List all customers from Canada.\",\n",
        "        \"query\": \"SELECT * FROM customers WHERE Country = 'Canada';\",\n",
        "    },\n",
        "    {\n",
        "        \"input\": \"How many tracks are there in the album with ID 5?\",\n",
        "        \"query\": \"SELECT COUNT(*) FROM tracks WHERE AlbumId = 5;\",\n",
        "    },\n",
        "    {\n",
        "        \"input\": \"Find the total number of invoices.\",\n",
        "        \"query\": \"SELECT COUNT(*) FROM invoices;\",\n",
        "    },\n",
        "    {\n",
        "        \"input\": \"List all tracks that are longer than 5 minutes.\",\n",
        "        \"query\": \"SELECT * FROM tracks WHERE Milliseconds > 300000;\",\n",
        "    },\n",
        "    {\n",
        "        \"input\": \"Who are the top 5 customers by total purchase?\",\n",
        "        \"query\": \"SELECT CustomerId, SUM(Total) AS TotalPurchase FROM invocies GROUP BY CustomerId ORDER BY TotalPurchase DESC LIMIT 5;\",\n",
        "    },\n",
        "    {\n",
        "        \"input\": \"Which albums are from the year 2000?\",\n",
        "        \"query\": \"SELECT * FROM albums WHERE strftime('%Y', ReleaseDate) = '2000';\",\n",
        "    },\n",
        "    {\n",
        "        \"input\": \"How many employees are there\",\n",
        "        \"query\": 'SELECT COUNT(*) FROM \"employees\"',\n",
        "    },\n",
        "]"
      ],
      "metadata": {
        "id": "etvc90axjhwD"
      },
      "execution_count": null,
      "outputs": []
    },
    {
      "cell_type": "markdown",
      "source": [
        "* 이제 **예제 선택기(example selector)**를 생성할 수 있습니다.\n",
        "* 이것은 실제 사용자 입력을 받아 우리의 few-shot prompt에 추가할 일부 예제들을 선택할 것입니다.\n",
        "* 우리는 **SemanticSimilarityExampleSelector**를 사용할 것인데, 이것은 우리가 설정한 임베딩과 벡터 스토어를 사용하여 의미 검색을 수행하여 입력과 가장 유사한 예제들을 찾을 것입니다."
      ],
      "metadata": {
        "id": "q8Cd3Z042B_m"
      }
    },
    {
      "cell_type": "code",
      "source": [
        "from langchain.vectorstores import Chroma\n",
        "from langchain_core.example_selectors import SemanticSimilarityExampleSelector\n",
        "from langchain_openai import OpenAIEmbeddings\n",
        "\n",
        "example_selector = SemanticSimilarityExampleSelector.from_examples(\n",
        "    examples,\n",
        "    OpenAIEmbeddings(openai_api_key=OPENAI_KEY),\n",
        "    Chroma,\n",
        "    k=5,\n",
        "    input_keys=[\"input\"],\n",
        ")"
      ],
      "metadata": {
        "id": "bCFOuo_xjpfT"
      },
      "execution_count": null,
      "outputs": []
    },
    {
      "cell_type": "markdown",
      "source": [
        "* 이제 예제 선택기, 각 예제를 형식화하기 위한 예제 프롬프트, 그리고 형식화된 예제들 앞뒤에 붙일 문자열 접두사와 접미사를 사용하여 FewShotPromptTemplate를 생성할 수 있습니다."
      ],
      "metadata": {
        "id": "o9uyh9-cmdd5"
      }
    },
    {
      "cell_type": "code",
      "source": [
        "from langchain_core.prompts import (\n",
        "    ChatPromptTemplate,\n",
        "    FewShotPromptTemplate,\n",
        "    MessagesPlaceholder,\n",
        "    PromptTemplate,\n",
        "    SystemMessagePromptTemplate,\n",
        ")\n",
        "\n",
        "system_prefix = \"\"\"당신은 SQL 데이터베이스와 상호 작용하도록 설계된 에이전트입니다.\n",
        "입력된 질문을 기반으로, {dialect} 쿼리 문법에 맞는 쿼리를 생성하고 실행한 다음 쿼리 결과를 확인하여 답변을 반환하세요.\n",
        "사용자가 특정한 예제 수를 요청하지 않는 한, 항상 쿼리 결과를 최대 {top_k}개로 제한하세요.\n",
        "데이터베이스 내에서 가장 흥미로운 예제를 반환하기 위해 관련 컬럼으로 결과를 정렬할 수 있습니다.\n",
        "특정 테이블의 모든 컬럼을 조회하는 쿼리는 실행하지 마세요, 질문에 주어진 관련 컬럼만 요청하세요.\n",
        "데이터베이스와 상호 작용하기 위한 도구에 접근할 수 있습니다.\n",
        "주어진 도구만 사용하세요. 도구를 통해 반환된 정보만을 사용하여 최종 답변을 구성하세요.\n",
        "쿼리를 실행하기 전에 반드시 쿼리를 다시 확인하세요. 쿼리 실행 중 오류가 발생한 경우, 쿼리를 다시 작성하고 시도하세요.\n",
        "\n",
        "데이터베이스에 DML 문장(INSERT, UPDATE, DELETE, DROP 등)을 실행하지 마세요.\n",
        "\n",
        "질문이 데이터베이스와 관련 없어 보이면, 단순히 \"모르겠습니다\"라고 답변하세요.\n",
        "\n",
        "다음은 사용자 입력과 해당하는 SQL 쿼리의 예시입니다:\"\"\"\n",
        "\n",
        "few_shot_prompt = FewShotPromptTemplate(\n",
        "    example_selector=example_selector,\n",
        "    example_prompt=PromptTemplate.from_template(\n",
        "        \"User input: {input}\\nSQL query: {query}\"\n",
        "    ),\n",
        "    input_variables=[\"input\", \"dialect\", \"top_k\"],\n",
        "    prefix=system_prefix,\n",
        "    suffix=\"\",\n",
        ")"
      ],
      "metadata": {
        "id": "Up0Qx4UiwY_4"
      },
      "execution_count": null,
      "outputs": []
    },
    {
      "cell_type": "code",
      "source": [
        "full_prompt = ChatPromptTemplate.from_messages(\n",
        "    [\n",
        "        SystemMessagePromptTemplate(prompt=few_shot_prompt),\n",
        "        (\"human\", \"{input}\"),\n",
        "        MessagesPlaceholder(\"agent_scratchpad\"),\n",
        "    ]\n",
        ")"
      ],
      "metadata": {
        "id": "FAUZzXrfjhuT"
      },
      "execution_count": null,
      "outputs": []
    },
    {
      "cell_type": "code",
      "source": [
        "# Example formatted prompt\n",
        "prompt_val = full_prompt.invoke(\n",
        "    {\n",
        "        \"input\": \"How many arists are there\",\n",
        "        \"top_k\": 5,\n",
        "        \"dialect\": \"SQLite\",\n",
        "        \"agent_scratchpad\": [],\n",
        "    }\n",
        ")\n",
        "print(prompt_val.to_string())"
      ],
      "metadata": {
        "id": "eUO2TDzVkHl6",
        "colab": {
          "base_uri": "https://localhost:8080/"
        },
        "outputId": "66607cf9-6829-4ae8-f0d5-e4a55384f809"
      },
      "execution_count": null,
      "outputs": [
        {
          "output_type": "stream",
          "name": "stdout",
          "text": [
            "System: 당신은 SQL 데이터베이스와 상호 작용하도록 설계된 에이전트입니다.\n",
            "입력된 질문을 기반으로, SQLite 쿼리 문법에 맞는 쿼리를 생성하고 실행한 다음 쿼리 결과를 확인하여 답변을 반환하세요.\n",
            "사용자가 특정한 예제 수를 요청하지 않는 한, 항상 쿼리 결과를 최대 5개로 제한하세요.\n",
            "데이터베이스 내에서 가장 흥미로운 예제를 반환하기 위해 관련 컬럼으로 결과를 정렬할 수 있습니다.\n",
            "특정 테이블의 모든 컬럼을 조회하는 쿼리는 실행하지 마세요, 질문에 주어진 관련 컬럼만 요청하세요.\n",
            "데이터베이스와 상호 작용하기 위한 도구에 접근할 수 있습니다.\n",
            "주어진 도구만 사용하세요. 도구를 통해 반환된 정보만을 사용하여 최종 답변을 구성하세요.\n",
            "쿼리를 실행하기 전에 반드시 쿼리를 다시 확인하세요. 쿼리 실행 중 오류가 발생한 경우, 쿼리를 다시 작성하고 시도하세요.\n",
            "\n",
            "데이터베이스에 DML 문장(INSERT, UPDATE, DELETE, DROP 등)을 실행하지 마세요.\n",
            "\n",
            "질문이 데이터베이스와 관련 없어 보이면, 단순히 \"모르겠습니다\"라고 답변하세요.\n",
            "\n",
            "다음은 사용자 입력과 해당하는 SQL 쿼리의 예시입니다:\n",
            "\n",
            "User input: List all artists.\n",
            "SQL query: SELECT * FROM artists;\n",
            "\n",
            "User input: How many employees are there\n",
            "SQL query: SELECT COUNT(*) FROM \"employees\"\n",
            "\n",
            "User input: How many tracks are there in the album with ID 5?\n",
            "SQL query: SELECT COUNT(*) FROM tracks WHERE AlbumId = 5;\n",
            "\n",
            "User input: List all tracks in the 'Rock' genre.\n",
            "SQL query: SELECT * FROM tracks WHERE GenreId = (SELECT GenreId FROM Genre WHERE Name = 'Rock');\n",
            "\n",
            "User input: Which albums are from the year 2000?\n",
            "SQL query: SELECT * FROM albums WHERE strftime('%Y', ReleaseDate) = '2000';\n",
            "Human: How many arists are there\n"
          ]
        }
      ]
    },
    {
      "cell_type": "code",
      "source": [
        "agent = create_sql_agent(\n",
        "    llm=llm,\n",
        "    db=db,\n",
        "    prompt=full_prompt,\n",
        "    verbose=True,\n",
        "    agent_type=\"openai-tools\",\n",
        ")"
      ],
      "metadata": {
        "id": "KFsJq3PLkHji"
      },
      "execution_count": null,
      "outputs": []
    },
    {
      "cell_type": "code",
      "source": [
        "agent.invoke({\"input\": \"artists는 몇명이 있나요?\"})"
      ],
      "metadata": {
        "id": "lAa3W9ujkLhU",
        "colab": {
          "base_uri": "https://localhost:8080/"
        },
        "outputId": "bf414d5e-ad6b-4f1f-e6fd-2a24f5d32793"
      },
      "execution_count": null,
      "outputs": [
        {
          "output_type": "stream",
          "name": "stdout",
          "text": [
            "\n",
            "\n",
            "\u001b[1m> Entering new SQL Agent Executor chain...\u001b[0m\n",
            "\u001b[32;1m\u001b[1;3m\n",
            "Invoking: `sql_db_query` with `SELECT COUNT(*) FROM artists`\n",
            "\n",
            "\n",
            "\u001b[0m\u001b[36;1m\u001b[1;3m[(275,)]\u001b[0m\u001b[32;1m\u001b[1;3m현재 데이터베이스에는 275명의 아티스트가 있습니다.\u001b[0m\n",
            "\n",
            "\u001b[1m> Finished chain.\u001b[0m\n"
          ]
        },
        {
          "output_type": "execute_result",
          "data": {
            "text/plain": [
              "{'input': 'artists는 몇명이 있나요?', 'output': '현재 데이터베이스에는 275명의 아티스트가 있습니다.'}"
            ]
          },
          "metadata": {},
          "execution_count": 19
        }
      ]
    },
    {
      "cell_type": "code",
      "source": [
        "test_agent = create_sql_agent(\n",
        "    llm=llm,\n",
        "    db=db,\n",
        "    verbose=True,\n",
        "    agent_type=\"openai-tools\",\n",
        ")"
      ],
      "metadata": {
        "id": "10HV-9ma_D0y"
      },
      "execution_count": null,
      "outputs": []
    },
    {
      "cell_type": "code",
      "source": [
        "test_agent.invoke({\"input\": \"artists는 몇명이 있나요?\"})"
      ],
      "metadata": {
        "colab": {
          "base_uri": "https://localhost:8080/"
        },
        "outputId": "14e959a2-7ba8-4996-9755-74b3c0a40448",
        "id": "yzYfr5EN_D0z"
      },
      "execution_count": null,
      "outputs": [
        {
          "output_type": "stream",
          "name": "stdout",
          "text": [
            "\n",
            "\n",
            "\u001b[1m> Entering new SQL Agent Executor chain...\u001b[0m\n",
            "\u001b[32;1m\u001b[1;3m\n",
            "Invoking: `sql_db_list_tables` with ``\n",
            "\n",
            "\n",
            "\u001b[0m\u001b[38;5;200m\u001b[1;3malbums, artists, customers, employees, genres, invoice_items, invoices, media_types, playlist_track, playlists, tracks\u001b[0m\u001b[32;1m\u001b[1;3m\n",
            "Invoking: `sql_db_schema` with `{'table_names': 'artists'}`\n",
            "\n",
            "\n",
            "\u001b[0m\u001b[33;1m\u001b[1;3m\n",
            "CREATE TABLE artists (\n",
            "\t\"ArtistId\" INTEGER NOT NULL, \n",
            "\t\"Name\" NVARCHAR(120), \n",
            "\tPRIMARY KEY (\"ArtistId\")\n",
            ")\n",
            "\n",
            "/*\n",
            "3 rows from artists table:\n",
            "ArtistId\tName\n",
            "1\tAC/DC\n",
            "2\tAccept\n",
            "3\tAerosmith\n",
            "*/\u001b[0m\u001b[32;1m\u001b[1;3m\n",
            "Invoking: `sql_db_query` with `SELECT COUNT(*) AS artist_count FROM artists`\n",
            "\n",
            "\n",
            "\u001b[0m\u001b[36;1m\u001b[1;3m[(275,)]\u001b[0m\u001b[32;1m\u001b[1;3mThere are 275 artists in the database.\u001b[0m\n",
            "\n",
            "\u001b[1m> Finished chain.\u001b[0m\n"
          ]
        },
        {
          "output_type": "execute_result",
          "data": {
            "text/plain": [
              "{'input': 'artists는 몇명이 있나요?',\n",
              " 'output': 'There are 275 artists in the database.'}"
            ]
          },
          "metadata": {},
          "execution_count": 21
        }
      ]
    },
    {
      "cell_type": "markdown",
      "source": [
        "# Dealing with high-cardinality columns"
      ],
      "metadata": {
        "id": "H3SYiaNyt04Q"
      }
    },
    {
      "cell_type": "markdown",
      "source": [
        "* 주소, 노래 이름 또는 아티스트와 같은 고유명사를 포함한 컬럼을 필터링하기 위해서는, 데이터를 올바르게 필터링하기 위해 먼저 철자를 이중으로 확인해야 합니다.\n",
        "\n",
        "* 이를 달성하기 위해 데이터베이스에 존재하는 모든 고유명사의 고유 값들로 벡터 저장소를 생성할 수 있습니다. 그런 다음 에이전트가 사용자의 질문에 고유명사를 포함할 때마다 그 벡터 저장소를 쿼리하여 해당 단어의 정확한 철자를 찾을 수 있습니다. 이 방식으로, 에이전트는 타겟 쿼리를 구축하기 전에 사용자가 어떤 엔티티를 참조하는지 확실히 이해할 수 있습니다.\n",
        "\n",
        "* 먼저, 우리가 원하는 각 엔티티의 고유 값들을 필요로 하는데, 이를 위해 결과를 요소 목록으로 파싱하는 함수를 정의해야 합니다."
      ],
      "metadata": {
        "id": "8nplyeAfAy1d"
      }
    },
    {
      "cell_type": "code",
      "source": [
        "llm = ChatOpenAI(model=\"gpt-4\", temperature=0, openai_api_key=OPENAI_KEY)"
      ],
      "metadata": {
        "id": "-nkJylj3E9Qk"
      },
      "execution_count": null,
      "outputs": []
    },
    {
      "cell_type": "code",
      "source": [
        "import ast\n",
        "import re\n",
        "\n",
        "# 고유한 값들을 리스트로 반환\n",
        "def query_as_list(db, query):\n",
        "    res = db.run(query)\n",
        "    res = [el for sub in ast.literal_eval(res) for el in sub if el]\n",
        "    res = [re.sub(r\"\\b\\d+\\b\", \"\", string).strip() for string in res]\n",
        "    return list(set(res))\n",
        "\n",
        "\n",
        "artists = query_as_list(db, \"SELECT Name FROM artists\")\n",
        "albums = query_as_list(db, \"SELECT Title FROM albums\")"
      ],
      "metadata": {
        "id": "Yy1x8ZsIkOVo"
      },
      "execution_count": null,
      "outputs": []
    },
    {
      "cell_type": "code",
      "source": [
        "albums"
      ],
      "metadata": {
        "colab": {
          "base_uri": "https://localhost:8080/"
        },
        "id": "3d4GW0ITBtLl",
        "outputId": "6f21889c-691d-4a54-af8e-f9d49daf0ccb"
      },
      "execution_count": null,
      "outputs": [
        {
          "output_type": "execute_result",
          "data": {
            "text/plain": [
              "['Houses Of The Holy',\n",
              " 'Tangents',\n",
              " 'Zooropa',\n",
              " 'The Doors',\n",
              " 'Vinicius De Moraes',\n",
              " 'Use Your Illusion I',\n",
              " 'Temple of the Dog',\n",
              " '20th Century Masters - The Millennium Collection: The Best of Scorpions',\n",
              " 'Beethoven: Symhonies Nos.  &',\n",
              " 'How To Dismantle An Atomic Bomb',\n",
              " 'Pearl Jam',\n",
              " 'Live At Donington  (Disc )',\n",
              " 'Bach: Goldberg Variations',\n",
              " 'The Song Remains The Same (Disc )',\n",
              " 'Original Soundtracks',\n",
              " 'A Copland Celebration, Vol. I',\n",
              " 'Prokofiev: Symphony No.',\n",
              " 'Master Of Puppets',\n",
              " 'Live [Disc ]',\n",
              " 'Fireball',\n",
              " 'Roda De Funk',\n",
              " 'Djavan Ao Vivo - Vol.',\n",
              " 'The Colour And The Shape',\n",
              " 'Living After Midnight',\n",
              " 'Milton Nascimento Ao Vivo',\n",
              " 'Piece Of Mind',\n",
              " 'Big Ones',\n",
              " 'Presence',\n",
              " 'Back to Black',\n",
              " \"Pavarotti's Opera Made Easy\",\n",
              " 'Unplugged [Live]',\n",
              " 'Live After Death',\n",
              " 'Greatest Hits II',\n",
              " 'Lost, Season',\n",
              " 'The Singles',\n",
              " 'Quanta Gente Veio ver--Bônus De Carnaval',\n",
              " 'Cesta Básica',\n",
              " 'In Your Honor [Disc ]',\n",
              " 'Cidade Negra - Hits',\n",
              " 'Handel: Music for the Royal Fireworks (Original Version )',\n",
              " 'Restless and Wild',\n",
              " \"Tchaikovsky:  Festival Overture, Op., Capriccio Italien & Beethoven: Wellington's Victory\",\n",
              " 'Black Sabbath',\n",
              " 'Appetite for Destruction',\n",
              " 'IV',\n",
              " 'Jagged Little Pill',\n",
              " 'South American Getaway',\n",
              " 'Rock In Rio [CD1]',\n",
              " \"Great Performances - Barber's Adagio and Other Romantic Favorites for Strings\",\n",
              " 'Un-Led-Ed',\n",
              " 'No More Tears (Remastered)',\n",
              " 'The Best Of Buddy Guy - The Millenium Collection',\n",
              " 'Berlioz: Symphonie Fantastique',\n",
              " 'Purpendicular',\n",
              " 'International Superhits',\n",
              " 'Mezmerize',\n",
              " 'Out Of Exile',\n",
              " 'The Best of Beethoven',\n",
              " 'Jota Quest-',\n",
              " 'Blood Sugar Sex Magik',\n",
              " 'Worlds',\n",
              " 'The Best Of Billy Cobham',\n",
              " 'Seventh Son of a Seventh Son',\n",
              " 'Cássia Eller - Sem Limite [Disc ]',\n",
              " 'Angel Dust',\n",
              " 'The Battle Rages On',\n",
              " 'Surfing with the Alien (Remastered)',\n",
              " 'Vinícius De Moraes - Sem Limite',\n",
              " 'Minas',\n",
              " 'O Samba Poconé',\n",
              " 'No Prayer For The Dying',\n",
              " 'B-Sides -',\n",
              " 'Physical Graffiti [Disc ]',\n",
              " 'Van Halen III',\n",
              " 'Outbreak',\n",
              " 'A TempestadeTempestade Ou O Livro Dos Dias',\n",
              " 'Into The Light',\n",
              " 'BackBeat Soundtrack',\n",
              " 'Haydn: Symphonies  -',\n",
              " 'Mozart: Chamber Music',\n",
              " 'The Best Of R.E.M.: The IRS Years',\n",
              " 'Olodum',\n",
              " 'Faceless',\n",
              " 'Grieg: Peer Gynt Suites & Sibelius: Pelléas et Mélisande',\n",
              " 'Facelift',\n",
              " 'The Best Of Van Halen, Vol. I',\n",
              " 'The Beast Live',\n",
              " 'Misplaced Childhood',\n",
              " 'One By One',\n",
              " 'Fear Of The Dark',\n",
              " 'The Number of The Beast',\n",
              " 'Transmission',\n",
              " 'The Best Of -',\n",
              " 'Get Born',\n",
              " 'Somewhere in Time',\n",
              " 'Voodoo Lounge',\n",
              " 'Warner  Anos',\n",
              " 'The Police Greatest Hits',\n",
              " 'For Those About To Rock We Salute You',\n",
              " 'Holst: The Planets, Op.  & Vaughan Williams: Fantasies',\n",
              " 'Palestrina: Missa Papae Marcelli & Allegri: Miserere',\n",
              " 'Elgar: Cello Concerto & Vaughan Williams: Fantasias',\n",
              " 'The Last Night of the Proms',\n",
              " 'J.S. Bach: Chaconne, Suite in E Minor, Partita in E Major & Prelude, Fugue and Allegro',\n",
              " 'Diver Down',\n",
              " 'St. Anger',\n",
              " 'Handel: The Messiah (Highlights)',\n",
              " \"Schubert: The Late String Quartets & String Quintet ( CD's)\",\n",
              " 'Maquinarama',\n",
              " 'As Canções de Eu Tu Eles',\n",
              " 'American Idiot',\n",
              " \"Knocking at Your Back Door: The Best Of Deep Purple in the 's\",\n",
              " 'Heart of the Night',\n",
              " 'Audioslave',\n",
              " 'Lulu Santos - RCA  Anos De Música - Álbum',\n",
              " 'Minha História',\n",
              " 'Puccini: Madama Butterfly - Highlights',\n",
              " 'Purcell: Music for the Queen Mary',\n",
              " 'Frank',\n",
              " 'King For A Day Fool For A Lifetime',\n",
              " 'Jorge Ben Jor  Anos',\n",
              " 'Load',\n",
              " 'Barulhinho Bom',\n",
              " 'Blue Moods',\n",
              " 'Unplugged',\n",
              " 'Realize',\n",
              " 'A Matter of Life and Death',\n",
              " 'Heroes, Season',\n",
              " \"Liszt -  Études D'Execution Transcendante\",\n",
              " 'The Cream Of Clapton',\n",
              " 'Sambas De Enredo',\n",
              " 'Riot Act',\n",
              " 'Supernatural',\n",
              " 'In Step',\n",
              " 'Chill: Brazil (Disc )',\n",
              " 'Armada: Music from the Courts of England and Spain',\n",
              " 'Minha Historia',\n",
              " \"Monteverdi: L'Orfeo\",\n",
              " 'Acústico MTV [Live]',\n",
              " 'Core',\n",
              " 'Greatest Hits I',\n",
              " 'My Generation - The Very Best Of The Who',\n",
              " 'Beyond Good And Evil',\n",
              " 'UB40 The Best Of - Volume Two [UK]',\n",
              " 'War',\n",
              " 'Deep Purple In Rock',\n",
              " 'Na Pista',\n",
              " '...And Justice For All',\n",
              " 'Contraband',\n",
              " 'Led Zeppelin II',\n",
              " 'No Security',\n",
              " 'Cássia Eller - Coleção Sem Limite [Disc ]',\n",
              " 'Balls to the Wall',\n",
              " 'Use Your Illusion II',\n",
              " 'Beethoven Piano Sonatas: Moonlight & Pastorale',\n",
              " '[] Black Light Syndrome',\n",
              " 'Diary of a Madman (Remastered)',\n",
              " 'Fauré: Requiem, Ravel: Pavane & Others',\n",
              " 'Pure Cult: The Best Of The Cult (For Rockers, Ravers, Lovers & Sinners) [UK]',\n",
              " 'Motley Crue Greatest Hits',\n",
              " \"Up An' Atom\",\n",
              " 'Live On Two Legs [Live]',\n",
              " 'In Through The Out Door',\n",
              " 'Pachelbel: Canon & Gigue',\n",
              " 'The World of Classical Favourites',\n",
              " 'Arquivo II',\n",
              " \"Great Recordings of the Century: Paganini's  Caprices\",\n",
              " 'Quanta Gente Veio Ver (Live)',\n",
              " 'Album Of The Year',\n",
              " 'Black Album',\n",
              " 'Killers',\n",
              " 'Dark Side Of The Moon',\n",
              " 'Da Lama Ao Caos',\n",
              " 'Ace Of Spades',\n",
              " 'Górecki: Symphony No.',\n",
              " 'Bark at the Moon (Remastered)',\n",
              " 'Nevermind',\n",
              " 'Greatest Hits',\n",
              " \"Beethoven: Symphony No.  'Pastoral' Etc.\",\n",
              " 'Out Of Time',\n",
              " 'New Adventures In Hi-Fi',\n",
              " 'Elis Regina-Minha História',\n",
              " 'The Office, Season',\n",
              " \"Mendelssohn: A Midsummer Night's Dream\",\n",
              " 'Carnaval',\n",
              " 'Prokofiev: Symphony No. & Stravinksy: Le Sacre Du Printemps',\n",
              " 'ReLoad',\n",
              " 'Iron Maiden',\n",
              " 'Santana Live',\n",
              " 'Ten',\n",
              " 'Scheherazade',\n",
              " 'Hot Rocks, - (Disc )',\n",
              " 'The Essential Miles Davis [Disc ]',\n",
              " 'Bach: Violin Concertos',\n",
              " 'Synkronized',\n",
              " 'Wagner: Favourite Overtures',\n",
              " 'Battlestar Galactica (Classic), Season',\n",
              " 'Judas : B-Sides and Rarities',\n",
              " 'Powerslave',\n",
              " 'Seek And Shall Find: More Of The Best (-)',\n",
              " 'Virtual XI',\n",
              " 'MK III The Final Concerts [Disc ]',\n",
              " 'Raul Seixas',\n",
              " 'Great Opera Choruses',\n",
              " \"Vault: Def Leppard's Greatest Hits\",\n",
              " 'Speak of the Devil',\n",
              " 'Let There Be Rock',\n",
              " 'A-Sides',\n",
              " 'Carmina Burana',\n",
              " 'Garage Inc. (Disc )',\n",
              " 'Sozinho Remix Ao Vivo',\n",
              " 'Volume Dois',\n",
              " 'Revelations',\n",
              " 'Vivaldi: The Four Seasons',\n",
              " 'Radio Brasil (O Som da Jovem Vanguarda) - Seleccao de Henrique Amaro',\n",
              " 'SCRIABIN: Vers la flamme',\n",
              " 'Bach: The Cello Suites',\n",
              " 'Arquivo Os Paralamas Do Sucesso',\n",
              " 'Van Halen',\n",
              " 'Achtung Baby',\n",
              " 'Aquaman',\n",
              " 'Adorate Deum: Gregorian Chant from the Proper of the Mass',\n",
              " 'Cafezinho',\n",
              " 'Respighi:Pines of Rome',\n",
              " 'Rock In Rio [CD2]',\n",
              " 'Miles Ahead',\n",
              " 'Californication',\n",
              " 'Led Zeppelin III',\n",
              " 'A Real Live One',\n",
              " 'By The Way',\n",
              " 'Koyaanisqatsi (Soundtrack from the Motion Picture)',\n",
              " 'Are You Experienced?',\n",
              " 'Demorou...',\n",
              " 'Coda',\n",
              " 'The Real Thing',\n",
              " 'The X Factor',\n",
              " 'Morning Dance',\n",
              " 'Chronicle, Vol.',\n",
              " 'House of Pain',\n",
              " 'Pop',\n",
              " 'Weill: The Seven Deadly Sins',\n",
              " 'LOST, Season',\n",
              " 'Acústico MTV',\n",
              " 'Acústico',\n",
              " 'Plays Metallica By Four Cellos',\n",
              " 'Alcohol Fueled Brewtality Live! [Disc ]',\n",
              " 'Body Count',\n",
              " 'Machine Head',\n",
              " 'Mozart: Wind Concertos',\n",
              " 'English Renaissance',\n",
              " 'Bongo Fury',\n",
              " 'Strauss: Waltzes',\n",
              " 'A Real Dead One',\n",
              " 'Battlestar Galactica: The Story So Far',\n",
              " 'Ride The Lightning',\n",
              " 'Bach: The Brandenburg Concertos',\n",
              " 'Vs.',\n",
              " 'The Final Concerts (Disc )',\n",
              " 'Instant Karma: The Amnesty International Campaign to Save Darfur',\n",
              " 'Come Taste The Band',\n",
              " \"Kill 'Em All\",\n",
              " 'Muso Ko',\n",
              " 'Compositores',\n",
              " 'Mozart Gala: Famous Arias',\n",
              " 'Chemical Wedding',\n",
              " 'Deixa Entrar',\n",
              " 'Blizzard of Ozz',\n",
              " 'Slaves And Masters',\n",
              " 'Duos II',\n",
              " 'Bartok: Violin & Viola Concertos',\n",
              " 'Great Recordings of the Century - Mahler: Das Lied von der Erde',\n",
              " 'Prenda Minha',\n",
              " 'The Best Of Men At Work',\n",
              " 'Chopin: Piano Concertos Nos.  &',\n",
              " 'Rattle And Hum',\n",
              " 'From The Muddy Banks Of The Wishkah [Live]',\n",
              " 'Battlestar Galactica, Season',\n",
              " 'Sibelius: Finlandia',\n",
              " 'The Ultimate Relexation Album',\n",
              " 'A Soprano Inspired',\n",
              " 'Vozes do MPB',\n",
              " 'Mascagni: Cavalleria Rusticana',\n",
              " 'Greatest Kiss',\n",
              " 'Bach: Orchestral Suites Nos.  -',\n",
              " 'Locatelli: Concertos for Violin, Strings and Continuo, Vol.',\n",
              " 'Adams, John: The Chairman Dances',\n",
              " 'Prokofiev: Romeo & Juliet',\n",
              " 'Sex Machine',\n",
              " 'Green',\n",
              " 'Brave New World',\n",
              " 'Ao Vivo [IMPORT]',\n",
              " 'Emergency On Planet Earth',\n",
              " 'Afrociberdelia',\n",
              " 'News Of The World',\n",
              " 'Santana - As Years Go By',\n",
              " 'Mozart: Symphonies Nos.  &',\n",
              " 'BBC Sessions [Disc ] [Live]',\n",
              " 'Carry On',\n",
              " 'Meus Momentos',\n",
              " 'Serie Sem Limite (Disc )',\n",
              " 'Mais Do Mesmo',\n",
              " \"All That You Can't Leave Behind\",\n",
              " 'Great Recordings of the Century - Shubert: Schwanengesang,  Lieder',\n",
              " 'Tchaikovsky: The Nutcracker',\n",
              " 'My Way: The Best Of Frank Sinatra [Disc ]',\n",
              " 'Nielsen: The Six Symphonies',\n",
              " 'Axé Bahia',\n",
              " 'Walking Into Clarksdale',\n",
              " 'Allegri: Miserere',\n",
              " 'Tribute',\n",
              " 'Os Cães Ladram Mas A Caravana Não Pára',\n",
              " 'Cake: B-Sides and Rarities',\n",
              " 'The Best of Ed Motta',\n",
              " 'Carried to Dust (Bonus Track Version)',\n",
              " 'Dance Of Death',\n",
              " 'Bizet: Carmen Highlights',\n",
              " 'Quiet Songs',\n",
              " 'Stormbringer',\n",
              " 'Every Kind of Light',\n",
              " 'Sir Neville Marriner: A Celebration',\n",
              " 'Szymanowski: Piano Works, Vol.',\n",
              " 'The Return Of The Space Cowboy',\n",
              " 'Bach: Toccata & Fugue in D Minor',\n",
              " 'Charpentier: Divertissements, Airs & Concerts',\n",
              " 'Rotten Apples: Greatest Hits',\n",
              " 'Led Zeppelin I',\n",
              " 'Retrospective I (-)',\n",
              " 'Purcell: The Fairy Queen',\n",
              " 'Black Sabbath Vol.  (Remaster)']"
            ]
          },
          "metadata": {},
          "execution_count": 43
        }
      ]
    },
    {
      "cell_type": "code",
      "source": [
        "artists"
      ],
      "metadata": {
        "id": "ehZQUarakOSe",
        "colab": {
          "base_uri": "https://localhost:8080/"
        },
        "outputId": "c39e8165-2308-4b4d-fc38-04c468ec1f45"
      },
      "execution_count": null,
      "outputs": [
        {
          "output_type": "execute_result",
          "data": {
            "text/plain": [
              "['R.E.M. Feat. KRS-One',\n",
              " 'Frank Zappa & Captain Beefheart',\n",
              " 'Göteborgs Symfoniker & Neeme Järvi',\n",
              " 'Jorge Ben',\n",
              " 'Frank Sinatra',\n",
              " 'Gustavo & Andres Veiga & Salazar',\n",
              " 'The Posies',\n",
              " 'AC/DC',\n",
              " 'London Symphony Orchestra & Sir Charles Mackerras',\n",
              " 'Marillion',\n",
              " 'Emerson String Quartet',\n",
              " 'Creedence Clearwater Revival',\n",
              " 'Berliner Philharmoniker & Hans Rosbaud',\n",
              " 'JET',\n",
              " 'Joe Satriani',\n",
              " 'Christina Aguilera featuring BigElf',\n",
              " 'Miles Davis',\n",
              " 'Ton Koopman',\n",
              " 'Whitesnake',\n",
              " 'Barão Vermelho',\n",
              " 'Pink Floyd',\n",
              " 'Chico Science & Nação Zumbi',\n",
              " 'Body Count',\n",
              " \"Paul D'Ianno\",\n",
              " 'Os Mutantes',\n",
              " 'Apocalyptica',\n",
              " 'Regina Spektor',\n",
              " 'Xis',\n",
              " 'Sir Georg Solti, Sumi Jo & Wiener Philharmoniker',\n",
              " 'Def Leppard',\n",
              " 'The Doors',\n",
              " 'C. Monteverdi, Nigel Rogers - Chiaroscuro; London Baroque; London Cornett & Sackbu',\n",
              " 'Buddy Guy',\n",
              " 'Dread Zeppelin',\n",
              " 'Alberto Turco & Nova Schola Gregoriana',\n",
              " 'Nação Zumbi',\n",
              " 'Nash Ensemble',\n",
              " 'Nega Gizza',\n",
              " 'Billy Cobham',\n",
              " 'Caetano Veloso',\n",
              " 'Os Cariocas',\n",
              " 'Peter Tosh',\n",
              " 'Corinne Bailey Rae',\n",
              " 'Black Label Society',\n",
              " 'Snow Patrol',\n",
              " 'Marisa Monte',\n",
              " 'Cláudio Zoli',\n",
              " 'Jackson Browne',\n",
              " 'Temple of the Dog',\n",
              " 'Chris Cornell',\n",
              " 'Orchestre Révolutionnaire et Romantique & John Eliot Gardiner',\n",
              " 'Simply Red',\n",
              " 'Raimundos',\n",
              " 'Gonzaguinha',\n",
              " 'O Rappa',\n",
              " 'Maurizio Pollini',\n",
              " 'Edo de Waart & San Francisco Symphony',\n",
              " 'Mônica Marianno',\n",
              " 'Jota Quest',\n",
              " 'The Tea Party',\n",
              " 'Santana Feat. The Project G&B',\n",
              " 'The Flaming Lips',\n",
              " 'Britten Sinfonia, Ivor Bolton & Lesley Garrett',\n",
              " 'Pearl Jam',\n",
              " 'Adrian Leaper & Doreen de Feis',\n",
              " 'Otto',\n",
              " 'Academy of St. Martin in the Fields & Sir Neville Marriner',\n",
              " 'Smashing Pumpkins',\n",
              " 'Jack Johnson',\n",
              " 'Alanis Morissette',\n",
              " 'Sir Georg Solti & Wiener Philharmoniker',\n",
              " 'Amy Winehouse',\n",
              " 'Academy of St. Martin in the Fields, John Birch, Sir Neville Marriner & Sylvia McNair',\n",
              " 'Sergei Prokofiev & Yuri Temirkanov',\n",
              " 'Jorge Vercilo',\n",
              " 'Stevie Ray Vaughan & Double Trouble',\n",
              " \"Aerosmith & Sierra Leone's Refugee Allstars\",\n",
              " 'Hilary Hahn, Jeffrey Kahane, Los Angeles Chamber Orchestra & Margaret Batjer',\n",
              " 'Kiss',\n",
              " 'O Terço',\n",
              " 'Gerald Moore',\n",
              " \"Kent Nagano and Orchestre de l'Opéra de Lyon\",\n",
              " 'Olodum',\n",
              " 'Red Hot Chili Peppers',\n",
              " 'Ben Harper',\n",
              " 'Azymuth',\n",
              " 'Luciana Souza/Romero Lubambo',\n",
              " 'James Levine',\n",
              " 'Royal Philharmonic Orchestra & Sir Thomas Beecham',\n",
              " 'Martin Roscoe',\n",
              " 'Bruce Dickinson',\n",
              " 'Jimi Hendrix',\n",
              " 'The Rolling Stones',\n",
              " 'Choir Of Westminster Abbey & Simon Preston',\n",
              " 'Mela Tenenbaum, Pro Musica Prague & Richard Kapp',\n",
              " 'The Black Crowes',\n",
              " 'Djavan',\n",
              " 'Equale Brass Ensemble, John Eliot Gardiner & Munich Monteverdi Orchestra and Choir',\n",
              " 'Matisyahu',\n",
              " 'Santana',\n",
              " 'Scorpions',\n",
              " 'House Of Pain',\n",
              " 'Ed Motta',\n",
              " 'The Police',\n",
              " 'Cidade Negra',\n",
              " 'Passengers',\n",
              " 'Edson, DJ Marky & DJ Patife Featuring Fernanda Porto',\n",
              " 'João Suplicy',\n",
              " 'Vinícius De Moraes',\n",
              " 'Stone Temple Pilots',\n",
              " 'David Coverdale',\n",
              " 'DJ Dolores & Orchestra Santa Massa',\n",
              " 'R.E.M.',\n",
              " 'Battlestar Galactica',\n",
              " 'João Gilberto',\n",
              " 'Kid Abelha',\n",
              " 'Barry Wordsworth & BBC Concert Orchestra',\n",
              " 'The  Cellists of The Berlin Philharmonic',\n",
              " 'Spyro Gyra',\n",
              " 'Sandra De Sá',\n",
              " 'Ney Matogrosso',\n",
              " 'Tim Maia',\n",
              " 'Rodox',\n",
              " 'Santana Feat. Dave Matthews',\n",
              " 'Los Hermanos',\n",
              " 'Fretwork',\n",
              " 'Gustav Mahler',\n",
              " 'Vinícius E Qurteto Em Cy',\n",
              " 'Richard Marlow & The Choir of Trinity College, Cambridge',\n",
              " 'Felix Schmidt, London Symphony Orchestra & Rafael Frühbeck de Burgos',\n",
              " 'Herbert Von Karajan, Mirella Freni & Wiener Philharmoniker',\n",
              " 'Marvin Gaye',\n",
              " 'Marcos Valle',\n",
              " 'Roger Norrington, London Classical Players',\n",
              " 'Page & Plant',\n",
              " 'James Brown',\n",
              " 'Planet Hemp',\n",
              " 'Calexico',\n",
              " 'The Cult',\n",
              " 'Wilhelm Kempff',\n",
              " 'The Clash',\n",
              " 'Skank',\n",
              " 'Berliner Philharmoniker & Herbert Von Karajan',\n",
              " 'Luiz Melodia',\n",
              " 'UB40',\n",
              " 'Philharmonia Orchestra & Sir Neville Marriner',\n",
              " 'The Office',\n",
              " 'Black Eyed Peas',\n",
              " 'A Cor Do Som',\n",
              " 'Various Artists',\n",
              " 'Aisha Duo',\n",
              " 'Berliner Philharmoniker, Claudio Abbado & Sabine Meyer',\n",
              " 'Battlestar Galactica (Classic)',\n",
              " 'Santana Feat. Eric Clapton',\n",
              " 'Iron Maiden',\n",
              " \"Youssou N'Dour\",\n",
              " 'Julian Bream',\n",
              " 'Itzhak Perlman',\n",
              " 'Vinicius, Toquinho & Quarteto Em Cy',\n",
              " 'Soundgarden',\n",
              " 'Academy of St. Martin in the Fields, Sir Neville Marriner & William Bennett',\n",
              " 'Luciano Pavarotti',\n",
              " 'Deep Purple',\n",
              " 'Dhani Harrison & Jakob Dylan',\n",
              " 'Yehudi Menuhin',\n",
              " 'Cássia Eller',\n",
              " 'Nirvana',\n",
              " 'English Concert & Trevor Pinnock',\n",
              " 'Antônio Carlos Jobim',\n",
              " 'Motörhead',\n",
              " 'Antal Doráti & London Symphony Orchestra',\n",
              " 'Santana Feat. Maná',\n",
              " 'Santana Feat. Lauryn Hill & Cee-Lo',\n",
              " 'Vinícius E Odette Lara',\n",
              " 'Santana Feat. Rob Thomas',\n",
              " 'Michele Campanella',\n",
              " \"Christopher O'Riley\",\n",
              " 'Academy of St. Martin in the Fields, Sir Neville Marriner & Thurston Dart',\n",
              " 'Los Lonely Boys',\n",
              " 'Incognito',\n",
              " 'Led Zeppelin',\n",
              " 'Gene Krupa',\n",
              " 'Audioslave',\n",
              " 'Metallica',\n",
              " 'Raul Seixas',\n",
              " 'Pedro Luís & A Parede',\n",
              " 'Men At Work',\n",
              " 'Ozzy Osbourne',\n",
              " 'Santana Feat. Eagle-Eye Cherry',\n",
              " 'Motörhead & Girlschool',\n",
              " 'Les Arts Florissants & William Christie',\n",
              " 'Academy of St. Martin in the Fields Chamber Ensemble & Sir Neville Marriner',\n",
              " 'Anne-Sophie Mutter, Herbert Von Karajan & Wiener Philharmoniker',\n",
              " 'Orchestra of The Age of Enlightenment',\n",
              " 'Chor der Wiener Staatsoper, Herbert Von Karajan & Wiener Philharmoniker',\n",
              " 'Jamiroquai',\n",
              " 'Aerosmith',\n",
              " 'Green Day',\n",
              " 'The Postal Service',\n",
              " \"The King's Singers\",\n",
              " 'Mundo Livre S/A',\n",
              " 'Otto Klemperer & Philharmonia Orchestra',\n",
              " 'Milton Nascimento & Bebeto',\n",
              " 'Terry Bozzio, Tony Levin & Steve Stevens',\n",
              " 'Queen',\n",
              " 'Accept',\n",
              " 'Heroes',\n",
              " 'Elis Regina',\n",
              " 'U2',\n",
              " 'Michael Tilson Thomas & San Francisco Symphony',\n",
              " 'Bebel Gilberto',\n",
              " 'Toquinho & Vinícius',\n",
              " 'Foo Fighters',\n",
              " 'Chico Buarque',\n",
              " \"Guns N' Roses\",\n",
              " 'Faith No More',\n",
              " 'Black Sabbath',\n",
              " 'Eugene Ormandy',\n",
              " 'Judas Priest',\n",
              " 'Falamansa',\n",
              " 'Sabotage E Instituto',\n",
              " 'Pedro Luís E A Parede',\n",
              " 'Milton Nascimento',\n",
              " 'Fernanda Porto',\n",
              " 'Os Paralamas Do Sucesso',\n",
              " 'BackBeat',\n",
              " 'Vinícius De Moraes & Baden Powell',\n",
              " 'Rush',\n",
              " 'R.E.M. Feat. Kate Pearson',\n",
              " 'Van Halen',\n",
              " 'Aaron Goldberg',\n",
              " 'Funk Como Le Gusta',\n",
              " 'Instituto',\n",
              " 'Nicolaus Esterhazy Sinfonia',\n",
              " 'Eric Clapton',\n",
              " 'Titãs',\n",
              " 'Banda Black Rio',\n",
              " 'Lulu Santos',\n",
              " 'Baby Consuelo',\n",
              " 'Godsmack',\n",
              " 'Zeca Pagodinho',\n",
              " 'Yo-Yo Ma',\n",
              " 'Aaron Copland & London Symphony Orchestra',\n",
              " 'System Of A Down',\n",
              " 'Aquaman',\n",
              " 'The Who',\n",
              " 'Santana Feat. Everlast',\n",
              " 'Dennis Chambers',\n",
              " 'Avril Lavigne',\n",
              " 'Philip Glass Ensemble',\n",
              " 'Karsh Kale',\n",
              " 'Mötley Crüe',\n",
              " 'Jaguares',\n",
              " \"Charles Dutoit & L'Orchestre Symphonique de Montréal\",\n",
              " \"Jack's Mannequin & Mick Fleetwood\",\n",
              " 'Legião Urbana',\n",
              " 'Scholars Baroque Ensemble',\n",
              " 'Gilberto Gil',\n",
              " 'Cake',\n",
              " 'Chicago Symphony Orchestra & Fritz Reiner',\n",
              " 'Habib Koité and Bamada',\n",
              " 'Chicago Symphony Chorus, Chicago Symphony Orchestra & Sir Georg Solti',\n",
              " 'Alice In Chains',\n",
              " 'Hermeto Pascoal',\n",
              " 'Velvet Revolver',\n",
              " 'Charlie Brown Jr.',\n",
              " 'Boston Symphony Orchestra & Seiji Ozawa',\n",
              " 'Big & Rich',\n",
              " 'Lost',\n",
              " 'Nando Reis',\n",
              " 'Seu Jorge',\n",
              " 'Stereo Maracana',\n",
              " 'Emanuel Ax, Eugene Ormandy & Philadelphia Orchestra',\n",
              " 'Leonard Bernstein & New York Philharmonic',\n",
              " 'Lenny Kravitz']"
            ]
          },
          "metadata": {},
          "execution_count": 44
        }
      ]
    },
    {
      "cell_type": "code",
      "source": [
        "from langchain.agents.agent_toolkits import create_retriever_tool\n",
        "\n",
        "vector_db = Chroma.from_texts(artists + albums, OpenAIEmbeddings(openai_api_key=OPENAI_KEY))\n",
        "retriever = vector_db.as_retriever(search_kwargs={\"k\": 10})\n",
        "description = \"\"\"필터링할 값들을 조회하는 데 사용합니다. 입력은 고유명사의 대략적인 철자이며, 출력은 유효한 고유명사입니다. 검색과 가장 유사한 명사를 사용하세요.\"\"\"\n",
        "retriever_tool = create_retriever_tool(\n",
        "    retriever,\n",
        "    name=\"search_proper_nouns\",\n",
        "    description=description,\n",
        ")"
      ],
      "metadata": {
        "id": "KDpZMnwDF58t"
      },
      "execution_count": null,
      "outputs": []
    },
    {
      "cell_type": "code",
      "source": [
        "system = \"\"\"당신은 SQL 데이터베이스와 상호 작용하도록 설계된 에이전트입니다.\n",
        "입력된 질문에 대해, 구문적으로 올바른 {dialect} 쿼리를 생성하여 실행한 다음, 쿼리 결과를 확인하고 답변을 반환하세요.\n",
        "사용자가 얻고자 하는 예제의 특정 수를 지정하지 않는 한, 항상 쿼리 결과를 최대 {top_k}개로 제한하세요.\n",
        "데이터베이스에서 가장 흥미로운 예제를 반환하기 위해 관련 컬럼으로 결과를 정렬할 수 있습니다.\n",
        "특정 테이블의 모든 컬럼을 조회하는 쿼리는 실행하지 마세요. 질문에 주어진 관련 컬럼만 요청하세요.\n",
        "데이터베이스와 상호 작용하기 위한 도구에 접근할 수 있습니다.\n",
        "주어진 도구만 사용하세요. 도구를 통해 반환된 정보만을 사용하여 최종 답변을 구성하세요.\n",
        "쿼리를 실행하기 전에 반드시 쿼리를 다시 확인하세요. 쿼리 실행 중 오류가 발생한다면, 쿼리를 다시 작성하고 시도하세요.\n",
        "\n",
        "데이터베이스에 어떠한 DML 문장도 (INSERT, UPDATE, DELETE, DROP 등) 실행하지 마세요.\n",
        "\n",
        "고유명사를 필터링해야 하는 경우, 반드시 \"search_proper_nouns\" 도구를 사용하여 필터 값에 대한 조회를 먼저 해야 합니다!\n",
        "\n",
        "다음 테이블에 접근할 수 있습니다: {table_names}\n",
        "\n",
        "질문이 데이터베이스와 관련이 없어 보이면, 단순히 \"모르겠습니다\"라고 답변하세요.\"\"\"\n",
        "\n",
        "prompt = ChatPromptTemplate.from_messages(\n",
        "    [(\"system\", system), (\"human\", \"{input}\"), MessagesPlaceholder(\"agent_scratchpad\")]\n",
        ")\n",
        "agent = create_sql_agent(\n",
        "    llm=llm,\n",
        "    db=db,\n",
        "    extra_tools=[retriever_tool],\n",
        "    prompt=prompt,\n",
        "    agent_type=\"openai-tools\",\n",
        "    verbose=True,\n",
        ")"
      ],
      "metadata": {
        "id": "oV-ow-uUkONB"
      },
      "execution_count": null,
      "outputs": []
    },
    {
      "cell_type": "code",
      "source": [
        "agent.invoke({\"input\": \"alis in chain 앨범은 몇개를 가지고 있나요?\"})"
      ],
      "metadata": {
        "id": "YkmoidU5kOKw",
        "colab": {
          "base_uri": "https://localhost:8080/"
        },
        "outputId": "f70e643b-72cf-465e-a314-b05f06d1879d"
      },
      "execution_count": null,
      "outputs": [
        {
          "output_type": "stream",
          "name": "stdout",
          "text": [
            "\n",
            "\n",
            "\u001b[1m> Entering new SQL Agent Executor chain...\u001b[0m\n",
            "\u001b[32;1m\u001b[1;3m\n",
            "Invoking: `search_proper_nouns` with `{'query': 'alis in chain'}`\n",
            "\n",
            "\n",
            "\u001b[0m\u001b[36;1m\u001b[1;3mAlice In Chains\n",
            "\n",
            "Aisha Duo\n",
            "\n",
            "A-Sides\n",
            "\n",
            "Azymuth\n",
            "\n",
            "Alanis Morissette\n",
            "\n",
            "One By One\n",
            "\n",
            "Ace Of Spades\n",
            "\n",
            "Up An' Atom\n",
            "\n",
            "Walking Into Clarksdale\n",
            "\n",
            "In Step\u001b[0m\u001b[32;1m\u001b[1;3m\n",
            "Invoking: `sql_db_query` with `SELECT COUNT(*) FROM albums WHERE ArtistId IN (SELECT ArtistId FROM artists WHERE Name = 'Alice In Chains')`\n",
            "\n",
            "\n",
            "\u001b[0m\u001b[36;1m\u001b[1;3m[(1,)]\u001b[0m\u001b[32;1m\u001b[1;3mAlice In Chains는 1개의 앨범을 가지고 있습니다.\u001b[0m\n",
            "\n",
            "\u001b[1m> Finished chain.\u001b[0m\n"
          ]
        },
        {
          "output_type": "execute_result",
          "data": {
            "text/plain": [
              "{'input': 'alis in chain 앨범은 몇개를 가지고 있나요?',\n",
              " 'output': 'Alice In Chains는 1개의 앨범을 가지고 있습니다.'}"
            ]
          },
          "metadata": {},
          "execution_count": 57
        }
      ]
    },
    {
      "cell_type": "code",
      "source": [],
      "metadata": {
        "id": "rTYHgPcukLe4"
      },
      "execution_count": null,
      "outputs": []
    },
    {
      "cell_type": "code",
      "source": [],
      "metadata": {
        "id": "UZTYvU03kLcH"
      },
      "execution_count": null,
      "outputs": []
    }
  ]
}