{
  "nbformat": 4,
  "nbformat_minor": 0,
  "metadata": {
    "colab": {
      "provenance": []
    },
    "kernelspec": {
      "name": "python3",
      "display_name": "Python 3"
    },
    "language_info": {
      "name": "python"
    }
  },
  "cells": [
    {
      "cell_type": "markdown",
      "source": [
        "# 랭체인(LangChain) FewShotPromptTemplate 예제\n",
        "## Reference : https://python.langchain.com/docs/modules/model_io/prompts/prompt_templates/few_shot_examples"
      ],
      "metadata": {
        "id": "1NhtN3bWckXw"
      }
    },
    {
      "cell_type": "markdown",
      "source": [
        "# LangChain 라이브러리 설치"
      ],
      "metadata": {
        "id": "TUtttudrdJ_O"
      }
    },
    {
      "cell_type": "code",
      "execution_count": null,
      "metadata": {
        "colab": {
          "base_uri": "https://localhost:8080/"
        },
        "id": "uFRLWlvuQ-CA",
        "outputId": "1ed0c4f7-abbb-418e-a43a-7c52f9aeaf16"
      },
      "outputs": [
        {
          "output_type": "stream",
          "name": "stdout",
          "text": [
            "Requirement already satisfied: langchain in /usr/local/lib/python3.10/dist-packages (0.0.343)\n",
            "Requirement already satisfied: openai in /usr/local/lib/python3.10/dist-packages (1.3.6)\n",
            "Requirement already satisfied: chromadb in /usr/local/lib/python3.10/dist-packages (0.4.18)\n",
            "Requirement already satisfied: tiktoken in /usr/local/lib/python3.10/dist-packages (0.5.1)\n",
            "Requirement already satisfied: PyYAML>=5.3 in /usr/local/lib/python3.10/dist-packages (from langchain) (6.0.1)\n",
            "Requirement already satisfied: SQLAlchemy<3,>=1.4 in /usr/local/lib/python3.10/dist-packages (from langchain) (2.0.23)\n",
            "Requirement already satisfied: aiohttp<4.0.0,>=3.8.3 in /usr/local/lib/python3.10/dist-packages (from langchain) (3.8.6)\n",
            "Requirement already satisfied: anyio<4.0 in /usr/local/lib/python3.10/dist-packages (from langchain) (3.7.1)\n",
            "Requirement already satisfied: async-timeout<5.0.0,>=4.0.0 in /usr/local/lib/python3.10/dist-packages (from langchain) (4.0.3)\n",
            "Requirement already satisfied: dataclasses-json<0.7,>=0.5.7 in /usr/local/lib/python3.10/dist-packages (from langchain) (0.6.3)\n",
            "Requirement already satisfied: jsonpatch<2.0,>=1.33 in /usr/local/lib/python3.10/dist-packages (from langchain) (1.33)\n",
            "Requirement already satisfied: langchain-core<0.1,>=0.0.7 in /usr/local/lib/python3.10/dist-packages (from langchain) (0.0.7)\n",
            "Requirement already satisfied: langsmith<0.1.0,>=0.0.63 in /usr/local/lib/python3.10/dist-packages (from langchain) (0.0.67)\n",
            "Requirement already satisfied: numpy<2,>=1 in /usr/local/lib/python3.10/dist-packages (from langchain) (1.23.5)\n",
            "Requirement already satisfied: pydantic<3,>=1 in /usr/local/lib/python3.10/dist-packages (from langchain) (1.10.13)\n",
            "Requirement already satisfied: requests<3,>=2 in /usr/local/lib/python3.10/dist-packages (from langchain) (2.31.0)\n",
            "Requirement already satisfied: tenacity<9.0.0,>=8.1.0 in /usr/local/lib/python3.10/dist-packages (from langchain) (8.2.3)\n",
            "Requirement already satisfied: distro<2,>=1.7.0 in /usr/lib/python3/dist-packages (from openai) (1.7.0)\n",
            "Requirement already satisfied: httpx<1,>=0.23.0 in /usr/local/lib/python3.10/dist-packages (from openai) (0.25.2)\n",
            "Requirement already satisfied: sniffio in /usr/local/lib/python3.10/dist-packages (from openai) (1.3.0)\n",
            "Requirement already satisfied: tqdm>4 in /usr/local/lib/python3.10/dist-packages (from openai) (4.66.1)\n",
            "Requirement already satisfied: typing-extensions<5,>=4.5 in /usr/local/lib/python3.10/dist-packages (from openai) (4.8.0)\n",
            "Requirement already satisfied: chroma-hnswlib==0.7.3 in /usr/local/lib/python3.10/dist-packages (from chromadb) (0.7.3)\n",
            "Requirement already satisfied: fastapi>=0.95.2 in /usr/local/lib/python3.10/dist-packages (from chromadb) (0.104.1)\n",
            "Requirement already satisfied: uvicorn[standard]>=0.18.3 in /usr/local/lib/python3.10/dist-packages (from chromadb) (0.24.0.post1)\n",
            "Requirement already satisfied: posthog>=2.4.0 in /usr/local/lib/python3.10/dist-packages (from chromadb) (3.0.2)\n",
            "Requirement already satisfied: pulsar-client>=3.1.0 in /usr/local/lib/python3.10/dist-packages (from chromadb) (3.3.0)\n",
            "Requirement already satisfied: onnxruntime>=1.14.1 in /usr/local/lib/python3.10/dist-packages (from chromadb) (1.16.3)\n",
            "Requirement already satisfied: opentelemetry-api>=1.2.0 in /usr/local/lib/python3.10/dist-packages (from chromadb) (1.21.0)\n",
            "Requirement already satisfied: opentelemetry-exporter-otlp-proto-grpc>=1.2.0 in /usr/local/lib/python3.10/dist-packages (from chromadb) (1.21.0)\n",
            "Requirement already satisfied: opentelemetry-instrumentation-fastapi>=0.41b0 in /usr/local/lib/python3.10/dist-packages (from chromadb) (0.42b0)\n",
            "Requirement already satisfied: opentelemetry-sdk>=1.2.0 in /usr/local/lib/python3.10/dist-packages (from chromadb) (1.21.0)\n",
            "Requirement already satisfied: tokenizers>=0.13.2 in /usr/local/lib/python3.10/dist-packages (from chromadb) (0.15.0)\n",
            "Requirement already satisfied: pypika>=0.48.9 in /usr/local/lib/python3.10/dist-packages (from chromadb) (0.48.9)\n",
            "Requirement already satisfied: overrides>=7.3.1 in /usr/local/lib/python3.10/dist-packages (from chromadb) (7.4.0)\n",
            "Requirement already satisfied: importlib-resources in /usr/local/lib/python3.10/dist-packages (from chromadb) (6.1.1)\n",
            "Requirement already satisfied: grpcio>=1.58.0 in /usr/local/lib/python3.10/dist-packages (from chromadb) (1.59.2)\n",
            "Requirement already satisfied: bcrypt>=4.0.1 in /usr/local/lib/python3.10/dist-packages (from chromadb) (4.1.1)\n",
            "Requirement already satisfied: typer>=0.9.0 in /usr/local/lib/python3.10/dist-packages (from chromadb) (0.9.0)\n",
            "Requirement already satisfied: kubernetes>=28.1.0 in /usr/local/lib/python3.10/dist-packages (from chromadb) (28.1.0)\n",
            "Requirement already satisfied: mmh3>=4.0.1 in /usr/local/lib/python3.10/dist-packages (from chromadb) (4.0.1)\n",
            "Requirement already satisfied: regex>=2022.1.18 in /usr/local/lib/python3.10/dist-packages (from tiktoken) (2023.6.3)\n",
            "Requirement already satisfied: attrs>=17.3.0 in /usr/local/lib/python3.10/dist-packages (from aiohttp<4.0.0,>=3.8.3->langchain) (23.1.0)\n",
            "Requirement already satisfied: charset-normalizer<4.0,>=2.0 in /usr/local/lib/python3.10/dist-packages (from aiohttp<4.0.0,>=3.8.3->langchain) (3.3.2)\n",
            "Requirement already satisfied: multidict<7.0,>=4.5 in /usr/local/lib/python3.10/dist-packages (from aiohttp<4.0.0,>=3.8.3->langchain) (6.0.4)\n",
            "Requirement already satisfied: yarl<2.0,>=1.0 in /usr/local/lib/python3.10/dist-packages (from aiohttp<4.0.0,>=3.8.3->langchain) (1.9.2)\n",
            "Requirement already satisfied: frozenlist>=1.1.1 in /usr/local/lib/python3.10/dist-packages (from aiohttp<4.0.0,>=3.8.3->langchain) (1.4.0)\n",
            "Requirement already satisfied: aiosignal>=1.1.2 in /usr/local/lib/python3.10/dist-packages (from aiohttp<4.0.0,>=3.8.3->langchain) (1.3.1)\n",
            "Requirement already satisfied: idna>=2.8 in /usr/local/lib/python3.10/dist-packages (from anyio<4.0->langchain) (3.4)\n",
            "Requirement already satisfied: exceptiongroup in /usr/local/lib/python3.10/dist-packages (from anyio<4.0->langchain) (1.1.3)\n",
            "Requirement already satisfied: marshmallow<4.0.0,>=3.18.0 in /usr/local/lib/python3.10/dist-packages (from dataclasses-json<0.7,>=0.5.7->langchain) (3.20.1)\n",
            "Requirement already satisfied: typing-inspect<1,>=0.4.0 in /usr/local/lib/python3.10/dist-packages (from dataclasses-json<0.7,>=0.5.7->langchain) (0.9.0)\n",
            "Requirement already satisfied: starlette<0.28.0,>=0.27.0 in /usr/local/lib/python3.10/dist-packages (from fastapi>=0.95.2->chromadb) (0.27.0)\n",
            "Requirement already satisfied: certifi in /usr/local/lib/python3.10/dist-packages (from httpx<1,>=0.23.0->openai) (2023.7.22)\n",
            "Requirement already satisfied: httpcore==1.* in /usr/local/lib/python3.10/dist-packages (from httpx<1,>=0.23.0->openai) (1.0.2)\n",
            "Requirement already satisfied: h11<0.15,>=0.13 in /usr/local/lib/python3.10/dist-packages (from httpcore==1.*->httpx<1,>=0.23.0->openai) (0.14.0)\n",
            "Requirement already satisfied: jsonpointer>=1.9 in /usr/local/lib/python3.10/dist-packages (from jsonpatch<2.0,>=1.33->langchain) (2.4)\n",
            "Requirement already satisfied: six>=1.9.0 in /usr/local/lib/python3.10/dist-packages (from kubernetes>=28.1.0->chromadb) (1.16.0)\n",
            "Requirement already satisfied: python-dateutil>=2.5.3 in /usr/local/lib/python3.10/dist-packages (from kubernetes>=28.1.0->chromadb) (2.8.2)\n",
            "Requirement already satisfied: google-auth>=1.0.1 in /usr/local/lib/python3.10/dist-packages (from kubernetes>=28.1.0->chromadb) (2.17.3)\n",
            "Requirement already satisfied: websocket-client!=0.40.0,!=0.41.*,!=0.42.*,>=0.32.0 in /usr/local/lib/python3.10/dist-packages (from kubernetes>=28.1.0->chromadb) (1.6.4)\n",
            "Requirement already satisfied: requests-oauthlib in /usr/local/lib/python3.10/dist-packages (from kubernetes>=28.1.0->chromadb) (1.3.1)\n",
            "Requirement already satisfied: oauthlib>=3.2.2 in /usr/local/lib/python3.10/dist-packages (from kubernetes>=28.1.0->chromadb) (3.2.2)\n",
            "Requirement already satisfied: urllib3<2.0,>=1.24.2 in /usr/local/lib/python3.10/dist-packages (from kubernetes>=28.1.0->chromadb) (1.26.18)\n",
            "Requirement already satisfied: coloredlogs in /usr/local/lib/python3.10/dist-packages (from onnxruntime>=1.14.1->chromadb) (15.0.1)\n",
            "Requirement already satisfied: flatbuffers in /usr/local/lib/python3.10/dist-packages (from onnxruntime>=1.14.1->chromadb) (23.5.26)\n",
            "Requirement already satisfied: packaging in /usr/local/lib/python3.10/dist-packages (from onnxruntime>=1.14.1->chromadb) (23.2)\n",
            "Requirement already satisfied: protobuf in /usr/local/lib/python3.10/dist-packages (from onnxruntime>=1.14.1->chromadb) (3.20.3)\n",
            "Requirement already satisfied: sympy in /usr/local/lib/python3.10/dist-packages (from onnxruntime>=1.14.1->chromadb) (1.12)\n",
            "Requirement already satisfied: deprecated>=1.2.6 in /usr/local/lib/python3.10/dist-packages (from opentelemetry-api>=1.2.0->chromadb) (1.2.14)\n",
            "Requirement already satisfied: importlib-metadata<7.0,>=6.0 in /usr/local/lib/python3.10/dist-packages (from opentelemetry-api>=1.2.0->chromadb) (6.8.0)\n",
            "Requirement already satisfied: backoff<3.0.0,>=1.10.0 in /usr/local/lib/python3.10/dist-packages (from opentelemetry-exporter-otlp-proto-grpc>=1.2.0->chromadb) (2.2.1)\n",
            "Requirement already satisfied: googleapis-common-protos~=1.52 in /usr/local/lib/python3.10/dist-packages (from opentelemetry-exporter-otlp-proto-grpc>=1.2.0->chromadb) (1.61.0)\n",
            "Requirement already satisfied: opentelemetry-exporter-otlp-proto-common==1.21.0 in /usr/local/lib/python3.10/dist-packages (from opentelemetry-exporter-otlp-proto-grpc>=1.2.0->chromadb) (1.21.0)\n",
            "Requirement already satisfied: opentelemetry-proto==1.21.0 in /usr/local/lib/python3.10/dist-packages (from opentelemetry-exporter-otlp-proto-grpc>=1.2.0->chromadb) (1.21.0)\n",
            "Requirement already satisfied: opentelemetry-instrumentation-asgi==0.42b0 in /usr/local/lib/python3.10/dist-packages (from opentelemetry-instrumentation-fastapi>=0.41b0->chromadb) (0.42b0)\n",
            "Requirement already satisfied: opentelemetry-instrumentation==0.42b0 in /usr/local/lib/python3.10/dist-packages (from opentelemetry-instrumentation-fastapi>=0.41b0->chromadb) (0.42b0)\n",
            "Requirement already satisfied: opentelemetry-semantic-conventions==0.42b0 in /usr/local/lib/python3.10/dist-packages (from opentelemetry-instrumentation-fastapi>=0.41b0->chromadb) (0.42b0)\n",
            "Requirement already satisfied: opentelemetry-util-http==0.42b0 in /usr/local/lib/python3.10/dist-packages (from opentelemetry-instrumentation-fastapi>=0.41b0->chromadb) (0.42b0)\n",
            "Requirement already satisfied: setuptools>=16.0 in /usr/local/lib/python3.10/dist-packages (from opentelemetry-instrumentation==0.42b0->opentelemetry-instrumentation-fastapi>=0.41b0->chromadb) (67.7.2)\n",
            "Requirement already satisfied: wrapt<2.0.0,>=1.0.0 in /usr/local/lib/python3.10/dist-packages (from opentelemetry-instrumentation==0.42b0->opentelemetry-instrumentation-fastapi>=0.41b0->chromadb) (1.14.1)\n",
            "Requirement already satisfied: asgiref~=3.0 in /usr/local/lib/python3.10/dist-packages (from opentelemetry-instrumentation-asgi==0.42b0->opentelemetry-instrumentation-fastapi>=0.41b0->chromadb) (3.7.2)\n",
            "Requirement already satisfied: monotonic>=1.5 in /usr/local/lib/python3.10/dist-packages (from posthog>=2.4.0->chromadb) (1.6)\n",
            "Requirement already satisfied: greenlet!=0.4.17 in /usr/local/lib/python3.10/dist-packages (from SQLAlchemy<3,>=1.4->langchain) (3.0.1)\n",
            "Requirement already satisfied: huggingface_hub<1.0,>=0.16.4 in /usr/local/lib/python3.10/dist-packages (from tokenizers>=0.13.2->chromadb) (0.19.4)\n",
            "Requirement already satisfied: click<9.0.0,>=7.1.1 in /usr/local/lib/python3.10/dist-packages (from typer>=0.9.0->chromadb) (8.1.7)\n",
            "Requirement already satisfied: httptools>=0.5.0 in /usr/local/lib/python3.10/dist-packages (from uvicorn[standard]>=0.18.3->chromadb) (0.6.1)\n",
            "Requirement already satisfied: python-dotenv>=0.13 in /usr/local/lib/python3.10/dist-packages (from uvicorn[standard]>=0.18.3->chromadb) (1.0.0)\n",
            "Requirement already satisfied: uvloop!=0.15.0,!=0.15.1,>=0.14.0 in /usr/local/lib/python3.10/dist-packages (from uvicorn[standard]>=0.18.3->chromadb) (0.19.0)\n",
            "Requirement already satisfied: watchfiles>=0.13 in /usr/local/lib/python3.10/dist-packages (from uvicorn[standard]>=0.18.3->chromadb) (0.21.0)\n",
            "Requirement already satisfied: websockets>=10.4 in /usr/local/lib/python3.10/dist-packages (from uvicorn[standard]>=0.18.3->chromadb) (12.0)\n",
            "Requirement already satisfied: cachetools<6.0,>=2.0.0 in /usr/local/lib/python3.10/dist-packages (from google-auth>=1.0.1->kubernetes>=28.1.0->chromadb) (5.3.2)\n",
            "Requirement already satisfied: pyasn1-modules>=0.2.1 in /usr/local/lib/python3.10/dist-packages (from google-auth>=1.0.1->kubernetes>=28.1.0->chromadb) (0.3.0)\n",
            "Requirement already satisfied: rsa<5,>=3.1.4 in /usr/local/lib/python3.10/dist-packages (from google-auth>=1.0.1->kubernetes>=28.1.0->chromadb) (4.9)\n",
            "Requirement already satisfied: filelock in /usr/local/lib/python3.10/dist-packages (from huggingface_hub<1.0,>=0.16.4->tokenizers>=0.13.2->chromadb) (3.13.1)\n",
            "Requirement already satisfied: fsspec>=2023.5.0 in /usr/local/lib/python3.10/dist-packages (from huggingface_hub<1.0,>=0.16.4->tokenizers>=0.13.2->chromadb) (2023.6.0)\n",
            "Requirement already satisfied: zipp>=0.5 in /usr/local/lib/python3.10/dist-packages (from importlib-metadata<7.0,>=6.0->opentelemetry-api>=1.2.0->chromadb) (3.17.0)\n",
            "Requirement already satisfied: mypy-extensions>=0.3.0 in /usr/local/lib/python3.10/dist-packages (from typing-inspect<1,>=0.4.0->dataclasses-json<0.7,>=0.5.7->langchain) (1.0.0)\n",
            "Requirement already satisfied: humanfriendly>=9.1 in /usr/local/lib/python3.10/dist-packages (from coloredlogs->onnxruntime>=1.14.1->chromadb) (10.0)\n",
            "Requirement already satisfied: mpmath>=0.19 in /usr/local/lib/python3.10/dist-packages (from sympy->onnxruntime>=1.14.1->chromadb) (1.3.0)\n",
            "Requirement already satisfied: pyasn1<0.6.0,>=0.4.6 in /usr/local/lib/python3.10/dist-packages (from pyasn1-modules>=0.2.1->google-auth>=1.0.1->kubernetes>=28.1.0->chromadb) (0.5.0)\n"
          ]
        }
      ],
      "source": [
        "!pip install langchain openai chromadb tiktoken"
      ]
    },
    {
      "cell_type": "markdown",
      "source": [
        "# Few-shot 예제 만들기"
      ],
      "metadata": {
        "id": "Z_Iq7zelGFWb"
      }
    },
    {
      "cell_type": "code",
      "source": [
        "examples = [\n",
        "  {\n",
        "    \"question\": \"Muhammad Ali와 Alan Turing 중 누가 더 오래 살았나요?\",\n",
        "    \"answer\":\n",
        "\"\"\"\n",
        "추가 질문이 필요한가요: 예.\n",
        "추가 질문: Muhammad Ali가 사망했을 때 몇 살이었나요?\n",
        "중간 답변: Muhammad Ali는 사망했을 때 74세였습니다.\n",
        "추가 질문: Alan Turing이 사망했을 때 몇 살이었나요?\n",
        "중간 답변: Alan Turing은 사망했을 때 41세였습니다.\n",
        "그래서 최종 답변은: Muhammad Ali입니다.\n",
        "\"\"\"\n",
        "  },\n",
        "  {\n",
        "    \"question\": \"Craigslist의 창립자는 언제 태어났나요?\",\n",
        "    \"answer\":\n",
        "\"\"\"\n",
        "추가 질문이 필요한가요: 예.\n",
        "추가 질문: Craigslist의 창립자는 누구였나요?\n",
        "중간 답변: Craigslist는 Craig Newmark에 의해 창립되었습니다.\n",
        "추가 질문: Craig Newmark는 언제 태어났나요?\n",
        "중간 답변: Craig Newmark는 1952년 12월 6일에 태어났습니다.\n",
        "그래서 최종 답변은: 1952년 12월 6일입니다.\n",
        "\"\"\"\n",
        "  },\n",
        "  {\n",
        "    \"question\": \"조지 워싱턴의 외할아버지는 누구였나요?\",\n",
        "    \"answer\":\n",
        "\"\"\"\n",
        "추가 질문이 필요한가요: 예.\n",
        "추가 질문: 조지 워싱턴의 어머니는 누구였나요?\n",
        "중간 답변: 조지 워싱턴의 어머니는 메리 볼 워싱턴(Mary Ball Washington)이었습니다.\n",
        "추가 질문: 메리 볼 워싱턴의 아버지는 누구였나요?\n",
        "중간 답변: 메리 볼 워싱턴의 아버지는 조셉 볼(Joseph Ball)이었습니다.\n",
        "그래서 최종 답변은: 조셉 볼입니다.\n",
        "\"\"\"\n",
        "  },\n",
        "  {\n",
        "    \"question\": \"'죠스'와 '카지노 로얄'의 감독이 같은 나라 출신인가요?\",\n",
        "    \"answer\":\n",
        "\"\"\"\n",
        "추가 질문이 필요한가요: 예.\n",
        "추가 질문: '죠스'의 감독은 누구인가요?\n",
        "중간 답변: '죠스'의 감독은 스티븐 스필버그(Steven Spielberg)입니다.\n",
        "추가 질문: 스티븐 스필버그는 어느 나라 출신인가요?\n",
        "중간 답변: 미국입니다.\n",
        "추가 질문: '카지노 로얄'의 감독은 누구인가요?\n",
        "중간 답변: '카지노 로얄'의 감독은 마틴 캠벨(Martin Campbell)입니다.\n",
        "추가 질문: 마틴 캠벨은 어느 나라 출신인가요?\n",
        "중간 답변: 뉴질랜드입니다.\n",
        "그래서 최종 답변은: 아니요\n",
        "\"\"\"\n",
        "  }\n",
        "]"
      ],
      "metadata": {
        "id": "uCxgWAu2RTAj"
      },
      "execution_count": null,
      "outputs": []
    },
    {
      "cell_type": "code",
      "source": [
        "from langchain.prompts.few_shot import FewShotPromptTemplate\n",
        "from langchain.prompts.prompt import PromptTemplate\n",
        "\n",
        "example_prompt = PromptTemplate(input_variables=[\"question\", \"answer\"], template=\"Question: {question}\\n{answer}\")\n",
        "\n",
        "print(example_prompt.format(**examples[0]))"
      ],
      "metadata": {
        "colab": {
          "base_uri": "https://localhost:8080/"
        },
        "id": "XOtPxLzuRumD",
        "outputId": "07a991b3-699d-4ce4-b8f8-aa68483613fb"
      },
      "execution_count": null,
      "outputs": [
        {
          "output_type": "stream",
          "name": "stdout",
          "text": [
            "Question: Muhammad Ali와 Alan Turing 중 누가 더 오래 살았나요?\n",
            "\n",
            "추가 질문이 필요한가요: 예.\n",
            "추가 질문: Muhammad Ali가 사망했을 때 몇 살이었나요?\n",
            "중간 답변: Muhammad Ali는 사망했을 때 74세였습니다.\n",
            "추가 질문: Alan Turing이 사망했을 때 몇 살이었나요?\n",
            "중간 답변: Alan Turing은 사망했을 때 41세였습니다.\n",
            "그래서 최종 답변은: Muhammad Ali입니다.\n",
            "\n"
          ]
        }
      ]
    },
    {
      "cell_type": "markdown",
      "source": [
        "# CoT(Chain-of-Thought) 형태로 프롬프트 만들기"
      ],
      "metadata": {
        "id": "P7dPnbvJdUmy"
      }
    },
    {
      "cell_type": "code",
      "source": [
        "prompt = FewShotPromptTemplate(\n",
        "    examples=examples,\n",
        "    example_prompt=example_prompt,\n",
        "    suffix=\"Question: {input}\",\n",
        "    input_variables=[\"input\"]\n",
        ")\n",
        "\n",
        "print(prompt.format(input=\"메리 볼 워싱턴의 아버지는 누구였나요?\"))"
      ],
      "metadata": {
        "colab": {
          "base_uri": "https://localhost:8080/"
        },
        "id": "hTkpBoP0SRZK",
        "outputId": "a5d16b12-4354-45fe-b293-2d3e711336b1"
      },
      "execution_count": null,
      "outputs": [
        {
          "output_type": "stream",
          "name": "stdout",
          "text": [
            "Question: Muhammad Ali와 Alan Turing 중 누가 더 오래 살았나요?\n",
            "\n",
            "추가 질문이 필요한가요: 예.\n",
            "추가 질문: Muhammad Ali가 사망했을 때 몇 살이었나요?\n",
            "중간 답변: Muhammad Ali는 사망했을 때 74세였습니다.\n",
            "추가 질문: Alan Turing이 사망했을 때 몇 살이었나요?\n",
            "중간 답변: Alan Turing은 사망했을 때 41세였습니다.\n",
            "그래서 최종 답변은: Muhammad Ali입니다.\n",
            "\n",
            "\n",
            "Question: Craigslist의 창립자는 언제 태어났나요?\n",
            "\n",
            "추가 질문이 필요한가요: 예.\n",
            "추가 질문: Craigslist의 창립자는 누구였나요?\n",
            "중간 답변: Craigslist는 Craig Newmark에 의해 창립되었습니다.\n",
            "추가 질문: Craig Newmark는 언제 태어났나요?\n",
            "중간 답변: Craig Newmark는 1952년 12월 6일에 태어났습니다.\n",
            "그래서 최종 답변은: 1952년 12월 6일입니다.\n",
            "\n",
            "\n",
            "Question: 조지 워싱턴의 외할아버지는 누구였나요?\n",
            "\n",
            "추가 질문이 필요한가요: 예.\n",
            "추가 질문: 조지 워싱턴의 어머니는 누구였나요?\n",
            "중간 답변: 조지 워싱턴의 어머니는 메리 볼 워싱턴(Mary Ball Washington)이었습니다.\n",
            "추가 질문: 메리 볼 워싱턴의 아버지는 누구였나요?\n",
            "중간 답변: 메리 볼 워싱턴의 아버지는 조셉 볼(Joseph Ball)이었습니다.\n",
            "그래서 최종 답변은: 조셉 볼입니다.\n",
            "\n",
            "\n",
            "Question: '죠스'와 '카지노 로얄'의 감독이 같은 나라 출신인가요?\n",
            "\n",
            "추가 질문이 필요한가요: 예.\n",
            "추가 질문: '죠스'의 감독은 누구인가요?\n",
            "중간 답변: '죠스'의 감독은 스티븐 스필버그(Steven Spielberg)입니다.\n",
            "추가 질문: 스티븐 스필버그는 어느 나라 출신인가요?\n",
            "중간 답변: 미국입니다.\n",
            "추가 질문: '카지노 로얄'의 감독은 누구인가요?\n",
            "중간 답변: '카지노 로얄'의 감독은 마틴 캠벨(Martin Campbell)입니다.\n",
            "추가 질문: 마틴 캠벨은 어느 나라 출신인가요?\n",
            "중간 답변: 뉴질랜드입니다.\n",
            "그래서 최종 답변은: 아니요\n",
            "\n",
            "\n",
            "Question: 메리 볼 워싱턴의 아버지는 누구였나요?\n"
          ]
        }
      ]
    },
    {
      "cell_type": "markdown",
      "source": [
        "# 임베딩 서치를 이용해서 가장 유사한 example만 찾기"
      ],
      "metadata": {
        "id": "375eHkCddmp_"
      }
    },
    {
      "cell_type": "code",
      "source": [
        "OPENAI_KEY = \"여러분의_OPENAI_API_KEY\""
      ],
      "metadata": {
        "id": "xgms2EewDGIQ"
      },
      "execution_count": null,
      "outputs": []
    },
    {
      "cell_type": "code",
      "source": [
        "from langchain.prompts.example_selector import SemanticSimilarityExampleSelector\n",
        "from langchain.vectorstores import Chroma\n",
        "from langchain.embeddings import OpenAIEmbeddings\n",
        "\n",
        "\n",
        "example_selector = SemanticSimilarityExampleSelector.from_examples(\n",
        "    # 선택한 example들 설정\n",
        "    examples,\n",
        "    # 유사한 임베딩값을 찾기 위한 임베딩 모델 설정\n",
        "    OpenAIEmbeddings(openai_api_key=OPENAI_KEY),\n",
        "    # vector store 설정\n",
        "    Chroma,\n",
        "    # 몇개의 가장 유사한 embedding을 찾을 것인지를 설정\n",
        "    k=1\n",
        ")\n",
        "\n",
        "# example들 중 가장 유사한 example을 찾기\n",
        "question = \"메리 볼 워싱턴의 아버지는 누구였나요?\"\n",
        "selected_examples = example_selector.select_examples({\"question\": question})\n",
        "print(f\"입력과 가장 유사한 예시: {question}\")\n",
        "for example in selected_examples:\n",
        "    print(\"\\n\")\n",
        "    for k, v in example.items():\n",
        "        print(f\"{k}: {v}\")"
      ],
      "metadata": {
        "colab": {
          "base_uri": "https://localhost:8080/"
        },
        "id": "XnsORd6bTI7v",
        "outputId": "2ffe0ff6-50f6-4b93-c256-8a170d85dbc3"
      },
      "execution_count": null,
      "outputs": [
        {
          "output_type": "stream",
          "name": "stdout",
          "text": [
            "입력과 가장 유사한 예시: 메리 볼 워싱턴의 아버지는 누구였나요?\n",
            "\n",
            "\n",
            "answer: \n",
            "추가 질문이 필요한가요: 예.\n",
            "추가 질문: 조지 워싱턴의 어머니는 누구였나요?\n",
            "중간 답변: 조지 워싱턴의 어머니는 메리 볼 워싱턴(Mary Ball Washington)이었습니다.\n",
            "추가 질문: 메리 볼 워싱턴의 아버지는 누구였나요?\n",
            "중간 답변: 메리 볼 워싱턴의 아버지는 조셉 볼(Joseph Ball)이었습니다.\n",
            "그래서 최종 답변은: 조셉 볼입니다.\n",
            "\n",
            "question: 조지 워싱턴의 외할아버지는 누구였나요?\n"
          ]
        }
      ]
    },
    {
      "cell_type": "markdown",
      "source": [
        "# example_selector를 이용해서 가장 유사한 예제 1개를 통한 1-Shot 프롬프트로 구성"
      ],
      "metadata": {
        "id": "siv52OyJepGD"
      }
    },
    {
      "cell_type": "code",
      "source": [
        "prompt = FewShotPromptTemplate(\n",
        "    example_selector=example_selector,\n",
        "    example_prompt=example_prompt,\n",
        "    suffix=\"Question: {input}\",\n",
        "    input_variables=[\"input\"]\n",
        ")\n",
        "\n",
        "print(prompt.format(input=\"메리 볼 워싱턴의 아버지는 누구였나요?\"))"
      ],
      "metadata": {
        "colab": {
          "base_uri": "https://localhost:8080/"
        },
        "id": "XvSu2OVAUXO8",
        "outputId": "69fbd8b8-7fe2-466f-d7ca-e7d25b18030c"
      },
      "execution_count": null,
      "outputs": [
        {
          "output_type": "stream",
          "name": "stdout",
          "text": [
            "Question: 조지 워싱턴의 외할아버지는 누구였나요?\n",
            "\n",
            "추가 질문이 필요한가요: 예.\n",
            "추가 질문: 조지 워싱턴의 어머니는 누구였나요?\n",
            "중간 답변: 조지 워싱턴의 어머니는 메리 볼 워싱턴(Mary Ball Washington)이었습니다.\n",
            "추가 질문: 메리 볼 워싱턴의 아버지는 누구였나요?\n",
            "중간 답변: 메리 볼 워싱턴의 아버지는 조셉 볼(Joseph Ball)이었습니다.\n",
            "그래서 최종 답변은: 조셉 볼입니다.\n",
            "\n",
            "\n",
            "Question: 메리 볼 워싱턴의 아버지는 누구였나요?\n"
          ]
        }
      ]
    },
    {
      "cell_type": "code",
      "source": [],
      "metadata": {
        "id": "VvgIPb1tDP-c"
      },
      "execution_count": null,
      "outputs": []
    }
  ]
}