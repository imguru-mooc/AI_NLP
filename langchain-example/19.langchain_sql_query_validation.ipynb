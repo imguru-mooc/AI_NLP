{
  "nbformat": 4,
  "nbformat_minor": 0,
  "metadata": {
    "colab": {
      "provenance": []
    },
    "kernelspec": {
      "name": "python3",
      "display_name": "Python 3"
    },
    "language_info": {
      "name": "python"
    }
  },
  "cells": [
    {
      "cell_type": "markdown",
      "source": [
        "# 랭체인(LangChain) SQL Query validation 예제\n",
        "## 작성자 : AISchool ( http://aischool.ai/%ec%98%a8%eb%9d%bc%ec%9d%b8-%ea%b0%95%ec%9d%98-%ec%b9%b4%ed%85%8c%ea%b3%a0%eb%a6%ac/ )\n",
        "## Reference : https://python.langchain.com/docs/use_cases/sql/query_checking"
      ],
      "metadata": {
        "id": "pJ6i2qcdZ0Ow"
      }
    },
    {
      "cell_type": "markdown",
      "source": [
        "![](https://python.langchain.com/assets/images/sql_usecase-d432701261f05ab69b38576093718cf3.png)"
      ],
      "metadata": {
        "id": "KauMmepltoTU"
      }
    },
    {
      "cell_type": "markdown",
      "source": [
        "# Sample SQL DB 다운로드"
      ],
      "metadata": {
        "id": "CST7S7N_F9nZ"
      }
    },
    {
      "cell_type": "markdown",
      "source": [
        "## Reference : https://www.sqlitetutorial.net/sqlite-sample-database/"
      ],
      "metadata": {
        "id": "t6aDrTGuFiRy"
      }
    },
    {
      "cell_type": "markdown",
      "source": [
        "![](https://www.sqlitetutorial.net/wp-content/uploads/2015/11/sqlite-sample-database-color.jpg)"
      ],
      "metadata": {
        "id": "vo1A6bx3tqsh"
      }
    },
    {
      "cell_type": "code",
      "source": [
        "!wget https://www.sqlitetutorial.net/wp-content/uploads/2018/03/chinook.zip -O chinook.zip"
      ],
      "metadata": {
        "colab": {
          "base_uri": "https://localhost:8080/"
        },
        "id": "eGJ87h1jFeOS",
        "outputId": "01622ce1-b6a8-428f-e3d0-2605adb33701"
      },
      "execution_count": null,
      "outputs": [
        {
          "output_type": "stream",
          "name": "stdout",
          "text": [
            "--2024-03-11 14:17:14--  https://www.sqlitetutorial.net/wp-content/uploads/2018/03/chinook.zip\n",
            "Resolving www.sqlitetutorial.net (www.sqlitetutorial.net)... 104.21.30.141, 172.67.172.250, 2606:4700:3037::6815:1e8d, ...\n",
            "Connecting to www.sqlitetutorial.net (www.sqlitetutorial.net)|104.21.30.141|:443... connected.\n",
            "HTTP request sent, awaiting response... 200 OK\n",
            "Length: 305596 (298K) [application/zip]\n",
            "Saving to: ‘chinook.zip’\n",
            "\n",
            "\rchinook.zip           0%[                    ]       0  --.-KB/s               \rchinook.zip         100%[===================>] 298.43K  --.-KB/s    in 0.02s   \n",
            "\n",
            "2024-03-11 14:17:14 (13.1 MB/s) - ‘chinook.zip’ saved [305596/305596]\n",
            "\n"
          ]
        }
      ]
    },
    {
      "cell_type": "code",
      "source": [
        "!unzip chinook.zip"
      ],
      "metadata": {
        "colab": {
          "base_uri": "https://localhost:8080/"
        },
        "id": "gfry_RfGFeMF",
        "outputId": "b26b2c83-f9e0-4328-dad2-d76c090830ea"
      },
      "execution_count": null,
      "outputs": [
        {
          "output_type": "stream",
          "name": "stdout",
          "text": [
            "Archive:  chinook.zip\n",
            "  inflating: chinook.db              \n"
          ]
        }
      ]
    },
    {
      "cell_type": "markdown",
      "source": [
        "# LangChain 라이브러리 설치"
      ],
      "metadata": {
        "id": "4hniXcElvMif"
      }
    },
    {
      "cell_type": "code",
      "source": [
        "!pip install --upgrade --quiet langchain langchain-community langchain-openai chromadb"
      ],
      "metadata": {
        "id": "FSTi00anFGqf",
        "colab": {
          "base_uri": "https://localhost:8080/"
        },
        "outputId": "1239aa19-86b9-4023-c900-893068c496bd"
      },
      "execution_count": null,
      "outputs": [
        {
          "output_type": "stream",
          "name": "stdout",
          "text": [
            "\u001b[2K     \u001b[90m━━━━━━━━━━━━━━━━━━━━━━━━━━━━━━━━━━━━━━━━\u001b[0m \u001b[32m807.5/807.5 kB\u001b[0m \u001b[31m3.9 MB/s\u001b[0m eta \u001b[36m0:00:00\u001b[0m\n",
            "\u001b[2K     \u001b[90m━━━━━━━━━━━━━━━━━━━━━━━━━━━━━━━━━━━━━━━━\u001b[0m \u001b[32m1.8/1.8 MB\u001b[0m \u001b[31m5.0 MB/s\u001b[0m eta \u001b[36m0:00:00\u001b[0m\n",
            "\u001b[2K     \u001b[90m━━━━━━━━━━━━━━━━━━━━━━━━━━━━━━━━━━━━━━━━\u001b[0m \u001b[32m525.5/525.5 kB\u001b[0m \u001b[31m5.3 MB/s\u001b[0m eta \u001b[36m0:00:00\u001b[0m\n",
            "\u001b[2K     \u001b[90m━━━━━━━━━━━━━━━━━━━━━━━━━━━━━━━━━━━━━━━━\u001b[0m \u001b[32m256.9/256.9 kB\u001b[0m \u001b[31m5.3 MB/s\u001b[0m eta \u001b[36m0:00:00\u001b[0m\n",
            "\u001b[2K     \u001b[90m━━━━━━━━━━━━━━━━━━━━━━━━━━━━━━━━━━━━━━━━\u001b[0m \u001b[32m66.6/66.6 kB\u001b[0m \u001b[31m5.3 MB/s\u001b[0m eta \u001b[36m0:00:00\u001b[0m\n",
            "\u001b[2K     \u001b[90m━━━━━━━━━━━━━━━━━━━━━━━━━━━━━━━━━━━━━━━━\u001b[0m \u001b[32m227.4/227.4 kB\u001b[0m \u001b[31m5.0 MB/s\u001b[0m eta \u001b[36m0:00:00\u001b[0m\n",
            "\u001b[2K     \u001b[90m━━━━━━━━━━━━━━━━━━━━━━━━━━━━━━━━━━━━━━━━\u001b[0m \u001b[32m1.8/1.8 MB\u001b[0m \u001b[31m5.7 MB/s\u001b[0m eta \u001b[36m0:00:00\u001b[0m\n",
            "\u001b[2K     \u001b[90m━━━━━━━━━━━━━━━━━━━━━━━━━━━━━━━━━━━━━━━━\u001b[0m \u001b[32m2.4/2.4 MB\u001b[0m \u001b[31m5.4 MB/s\u001b[0m eta \u001b[36m0:00:00\u001b[0m\n",
            "\u001b[2K     \u001b[90m━━━━━━━━━━━━━━━━━━━━━━━━━━━━━━━━━━━━━━━━\u001b[0m \u001b[32m92.1/92.1 kB\u001b[0m \u001b[31m4.1 MB/s\u001b[0m eta \u001b[36m0:00:00\u001b[0m\n",
            "\u001b[2K     \u001b[90m━━━━━━━━━━━━━━━━━━━━━━━━━━━━━━━━━━━━━━━━\u001b[0m \u001b[32m60.6/60.6 kB\u001b[0m \u001b[31m3.8 MB/s\u001b[0m eta \u001b[36m0:00:00\u001b[0m\n",
            "\u001b[2K     \u001b[90m━━━━━━━━━━━━━━━━━━━━━━━━━━━━━━━━━━━━━━━━\u001b[0m \u001b[32m41.3/41.3 kB\u001b[0m \u001b[31m3.2 MB/s\u001b[0m eta \u001b[36m0:00:00\u001b[0m\n",
            "\u001b[2K     \u001b[90m━━━━━━━━━━━━━━━━━━━━━━━━━━━━━━━━━━━━━━━━\u001b[0m \u001b[32m5.4/5.4 MB\u001b[0m \u001b[31m2.7 MB/s\u001b[0m eta \u001b[36m0:00:00\u001b[0m\n",
            "\u001b[2K     \u001b[90m━━━━━━━━━━━━━━━━━━━━━━━━━━━━━━━━━━━━━━━━\u001b[0m \u001b[32m6.8/6.8 MB\u001b[0m \u001b[31m1.7 MB/s\u001b[0m eta \u001b[36m0:00:00\u001b[0m\n",
            "\u001b[2K     \u001b[90m━━━━━━━━━━━━━━━━━━━━━━━━━━━━━━━━━━━━━━━━\u001b[0m \u001b[32m58.4/58.4 kB\u001b[0m \u001b[31m1.8 MB/s\u001b[0m eta \u001b[36m0:00:00\u001b[0m\n",
            "\u001b[2K     \u001b[90m━━━━━━━━━━━━━━━━━━━━━━━━━━━━━━━━━━━━━━━━\u001b[0m \u001b[32m105.7/105.7 kB\u001b[0m \u001b[31m1.7 MB/s\u001b[0m eta \u001b[36m0:00:00\u001b[0m\n",
            "\u001b[2K     \u001b[90m━━━━━━━━━━━━━━━━━━━━━━━━━━━━━━━━━━━━━━━━\u001b[0m \u001b[32m67.3/67.3 kB\u001b[0m \u001b[31m1.4 MB/s\u001b[0m eta \u001b[36m0:00:00\u001b[0m\n",
            "\u001b[?25h  Installing build dependencies ... \u001b[?25l\u001b[?25hdone\n",
            "  Getting requirements to build wheel ... \u001b[?25l\u001b[?25hdone\n",
            "  Preparing metadata (pyproject.toml) ... \u001b[?25l\u001b[?25hdone\n",
            "\u001b[2K     \u001b[90m━━━━━━━━━━━━━━━━━━━━━━━━━━━━━━━━━━━━━━━━\u001b[0m \u001b[32m698.9/698.9 kB\u001b[0m \u001b[31m1.7 MB/s\u001b[0m eta \u001b[36m0:00:00\u001b[0m\n",
            "\u001b[2K     \u001b[90m━━━━━━━━━━━━━━━━━━━━━━━━━━━━━━━━━━━━━━━━\u001b[0m \u001b[32m1.6/1.6 MB\u001b[0m \u001b[31m1.2 MB/s\u001b[0m eta \u001b[36m0:00:00\u001b[0m\n",
            "\u001b[2K     \u001b[90m━━━━━━━━━━━━━━━━━━━━━━━━━━━━━━━━━━━━━━━━\u001b[0m \u001b[32m67.6/67.6 kB\u001b[0m \u001b[31m826.6 kB/s\u001b[0m eta \u001b[36m0:00:00\u001b[0m\n",
            "\u001b[2K     \u001b[90m━━━━━━━━━━━━━━━━━━━━━━━━━━━━━━━━━━━━━━━━\u001b[0m \u001b[32m138.5/138.5 kB\u001b[0m \u001b[31m909.7 kB/s\u001b[0m eta \u001b[36m0:00:00\u001b[0m\n",
            "\u001b[2K     \u001b[90m━━━━━━━━━━━━━━━━━━━━━━━━━━━━━━━━━━━━━━━━\u001b[0m \u001b[32m49.4/49.4 kB\u001b[0m \u001b[31m983.7 kB/s\u001b[0m eta \u001b[36m0:00:00\u001b[0m\n",
            "\u001b[2K     \u001b[90m━━━━━━━━━━━━━━━━━━━━━━━━━━━━━━━━━━━━━━━━\u001b[0m \u001b[32m71.5/71.5 kB\u001b[0m \u001b[31m953.9 kB/s\u001b[0m eta \u001b[36m0:00:00\u001b[0m\n",
            "\u001b[2K     \u001b[90m━━━━━━━━━━━━━━━━━━━━━━━━━━━━━━━━━━━━━━━━\u001b[0m \u001b[32m46.0/46.0 kB\u001b[0m \u001b[31m916.8 kB/s\u001b[0m eta \u001b[36m0:00:00\u001b[0m\n",
            "\u001b[2K     \u001b[90m━━━━━━━━━━━━━━━━━━━━━━━━━━━━━━━━━━━━━━━━\u001b[0m \u001b[32m75.6/75.6 kB\u001b[0m \u001b[31m951.8 kB/s\u001b[0m eta \u001b[36m0:00:00\u001b[0m\n",
            "\u001b[2K     \u001b[90m━━━━━━━━━━━━━━━━━━━━━━━━━━━━━━━━━━━━━━━━\u001b[0m \u001b[32m50.8/50.8 kB\u001b[0m \u001b[31m1.0 MB/s\u001b[0m eta \u001b[36m0:00:00\u001b[0m\n",
            "\u001b[2K     \u001b[90m━━━━━━━━━━━━━━━━━━━━━━━━━━━━━━━━━━━━━━━━\u001b[0m \u001b[32m58.3/58.3 kB\u001b[0m \u001b[31m1.1 MB/s\u001b[0m eta \u001b[36m0:00:00\u001b[0m\n",
            "\u001b[2K     \u001b[90m━━━━━━━━━━━━━━━━━━━━━━━━━━━━━━━━━━━━━━━━\u001b[0m \u001b[32m341.4/341.4 kB\u001b[0m \u001b[31m1.2 MB/s\u001b[0m eta \u001b[36m0:00:00\u001b[0m\n",
            "\u001b[2K     \u001b[90m━━━━━━━━━━━━━━━━━━━━━━━━━━━━━━━━━━━━━━━━\u001b[0m \u001b[32m3.4/3.4 MB\u001b[0m \u001b[31m1.5 MB/s\u001b[0m eta \u001b[36m0:00:00\u001b[0m\n",
            "\u001b[2K     \u001b[90m━━━━━━━━━━━━━━━━━━━━━━━━━━━━━━━━━━━━━━━━\u001b[0m \u001b[32m1.3/1.3 MB\u001b[0m \u001b[31m1.6 MB/s\u001b[0m eta \u001b[36m0:00:00\u001b[0m\n",
            "\u001b[2K     \u001b[90m━━━━━━━━━━━━━━━━━━━━━━━━━━━━━━━━━━━━━━━━\u001b[0m \u001b[32m130.2/130.2 kB\u001b[0m \u001b[31m1.6 MB/s\u001b[0m eta \u001b[36m0:00:00\u001b[0m\n",
            "\u001b[2K     \u001b[90m━━━━━━━━━━━━━━━━━━━━━━━━━━━━━━━━━━━━━━━━\u001b[0m \u001b[32m77.8/77.8 kB\u001b[0m \u001b[31m3.8 MB/s\u001b[0m eta \u001b[36m0:00:00\u001b[0m\n",
            "\u001b[2K     \u001b[90m━━━━━━━━━━━━━━━━━━━━━━━━━━━━━━━━━━━━━━━━\u001b[0m \u001b[32m86.8/86.8 kB\u001b[0m \u001b[31m1.2 MB/s\u001b[0m eta \u001b[36m0:00:00\u001b[0m\n",
            "\u001b[?25h  Building wheel for pypika (pyproject.toml) ... \u001b[?25l\u001b[?25hdone\n"
          ]
        }
      ]
    },
    {
      "cell_type": "markdown",
      "source": [
        "# OpenAI API Key 설정"
      ],
      "metadata": {
        "id": "2J_c-XcBVGSi"
      }
    },
    {
      "cell_type": "code",
      "source": [
        "OPENAI_KEY = \"여러분의_OPENAI_API_KEY\""
      ],
      "metadata": {
        "id": "Te8R0rpGv8zz"
      },
      "execution_count": null,
      "outputs": []
    },
    {
      "cell_type": "markdown",
      "source": [
        "# chinook.db 불러오기"
      ],
      "metadata": {
        "id": "4xNhYTD-Kyvj"
      }
    },
    {
      "cell_type": "code",
      "source": [
        "from langchain_community.utilities import SQLDatabase\n",
        "\n",
        "db = SQLDatabase.from_uri(\"sqlite:///chinook.db\")\n",
        "print(db.dialect)\n",
        "print(db.get_usable_table_names())\n",
        "db.run(\"SELECT * FROM artists LIMIT 10;\")"
      ],
      "metadata": {
        "colab": {
          "base_uri": "https://localhost:8080/",
          "height": 110
        },
        "id": "ADKLl24cGcN0",
        "outputId": "ac45e01a-bc18-4261-b166-6a1071e89522"
      },
      "execution_count": null,
      "outputs": [
        {
          "output_type": "stream",
          "name": "stdout",
          "text": [
            "sqlite\n",
            "['albums', 'artists', 'customers', 'employees', 'genres', 'invoice_items', 'invoices', 'media_types', 'playlist_track', 'playlists', 'tracks']\n"
          ]
        },
        {
          "output_type": "execute_result",
          "data": {
            "text/plain": [
              "\"[(1, 'AC/DC'), (2, 'Accept'), (3, 'Aerosmith'), (4, 'Alanis Morissette'), (5, 'Alice In Chains'), (6, 'Antônio Carlos Jobim'), (7, 'Apocalyptica'), (8, 'Audioslave'), (9, 'BackBeat'), (10, 'Billy Cobham')]\""
            ],
            "application/vnd.google.colaboratory.intrinsic+json": {
              "type": "string"
            }
          },
          "metadata": {},
          "execution_count": 5
        }
      ]
    },
    {
      "cell_type": "markdown",
      "source": [
        "# Query checker"
      ],
      "metadata": {
        "id": "YpgeC9najmP3"
      }
    },
    {
      "cell_type": "markdown",
      "source": [
        "* 가장 간단한 전략은 모델에게 원본 쿼리에서 흔한 실수를 확인하도록 요청하는 것입니다. 다음과 같은 SQL 쿼리 체인을 가정해 보겠습니다.\n",
        "\n",
        "\n",
        "\n",
        "\n",
        "\n"
      ],
      "metadata": {
        "id": "9wauegYlZVNS"
      }
    },
    {
      "cell_type": "code",
      "source": [
        "from langchain.chains import create_sql_query_chain\n",
        "from langchain_openai import ChatOpenAI\n",
        "\n",
        "llm = ChatOpenAI(model=\"gpt-4\", temperature=0, openai_api_key=OPENAI_KEY)\n",
        "chain = create_sql_query_chain(llm, db)"
      ],
      "metadata": {
        "id": "VPS5c3JrYa-C"
      },
      "execution_count": null,
      "outputs": []
    },
    {
      "cell_type": "markdown",
      "source": [
        "* 그리고 우리는 그 출력을 검증하고 싶습니다. 체인을 두 번째 프롬프트와 모델 호출로 확장함으로써 그렇게 할 수 있습니다:"
      ],
      "metadata": {
        "id": "5zL0gL1-ZvC4"
      }
    },
    {
      "cell_type": "code",
      "source": [
        "from langchain_core.output_parsers import StrOutputParser\n",
        "from langchain_core.prompts import ChatPromptTemplate\n",
        "\n",
        "system = \"\"\"사용자의 {dialect} 쿼리를 다음과 같은 흔한 실수에 대해 다시 확인하세요:\n",
        "- NULL 값에 NOT IN을 사용하는 경우\n",
        "- UNION을 사용할 때 UNION ALL을 사용해야 하는 경우\n",
        "- 배타적 범위에 BETWEEN을 사용하는 경우\n",
        "- 조건문에서 데이터 타입 불일치\n",
        "- 식별자를 올바르게 인용하는 경우\n",
        "- 함수에 올바른 인수 수를 사용하는 경우\n",
        "- 올바른 데이터 타입으로 캐스팅하는 경우\n",
        "- 조인에 적합한 컬럼을 사용하는 경우\n",
        "\n",
        "위의 실수 중 어느 것이라도 있다면, 쿼리를 다시 작성하세요. 실수가 없다면, 원본 쿼리를 그대로 재생산하세요.\n",
        "\n",
        "최종 SQL 쿼리만 출력하세요.\"\"\"\n",
        "prompt = ChatPromptTemplate.from_messages(\n",
        "    [(\"system\", system), (\"human\", \"{query}\")]\n",
        ").partial(dialect=db.dialect)\n",
        "validation_chain = prompt | llm | StrOutputParser()\n",
        "\n",
        "full_chain = {\"query\": chain} | validation_chain"
      ],
      "metadata": {
        "id": "X3uJGJCf4rLI"
      },
      "execution_count": null,
      "outputs": []
    },
    {
      "cell_type": "code",
      "source": [
        "query = full_chain.invoke(\n",
        "    {\n",
        "        \"question\": \"What's the average Invoice from an American customer whose Fax is missing since 2003 but before 2010\"\n",
        "    }\n",
        ")\n",
        "query"
      ],
      "metadata": {
        "id": "yu32iTJb6WmO"
      },
      "execution_count": null,
      "outputs": []
    },
    {
      "cell_type": "code",
      "source": [
        "db.run(query)"
      ],
      "metadata": {
        "colab": {
          "base_uri": "https://localhost:8080/",
          "height": 36
        },
        "id": "J3cDiVGAYay7",
        "outputId": "2ffa9109-f718-49a0-ef12-75558a23ea57"
      },
      "execution_count": null,
      "outputs": [
        {
          "output_type": "execute_result",
          "data": {
            "text/plain": [
              "'[(6.390909090909091,)]'"
            ],
            "application/vnd.google.colaboratory.intrinsic+json": {
              "type": "string"
            }
          },
          "metadata": {},
          "execution_count": 9
        }
      ]
    },
    {
      "cell_type": "markdown",
      "source": [
        "* 이 접근법의 명백한 단점은 쿼리를 생성하기 위해 하나 대신 두 번의 모델 호출을 해야 한다는 것입니다. 이를 해결하기 위해 우리는 쿼리 생성과 쿼리 검사를 단일 모델 호출에서 수행하려고 시도할 수 있습니다:"
      ],
      "metadata": {
        "id": "U-7I3v-O8MTW"
      }
    },
    {
      "cell_type": "code",
      "source": [
        "system = \"\"\"당신은 {dialect} 전문가입니다. 주어진 입력 질문에 대해 문법적으로 정확한 {dialect} 쿼리를 작성하십시오.\n",
        "사용자가 질문에서 특정한 예시의 수를 지정하지 않은 경우, {dialect}에 따라 LIMIT 절을 사용하여 최대 {top_k}개의 결과를 조회하십시오. 데이터베이스에서 가장 유익한 데이터를 반환하기 위해 결과를 정렬할 수 있습니다.\n",
        "테이블의 모든 컬럼을 조회해서는 안 됩니다. 질문에 답하기 위해 필요한 컬럼만 조회해야 합니다. 각 컬럼 이름을 이중 인용부호(\")로 감싸 구분된 식별자로 표시하십시오.\n",
        "아래 테이블에서 볼 수 있는 컬럼 이름만 사용해야 합니다. 존재하지 않는 컬럼을 조회하지 않도록 주의하십시오. 또한, 어떤 컬럼이 어느 테이블에 있는지 주의 깊게 살펴보십시오.\n",
        "질문에 \"오늘\"이 포함된 경우 현재 날짜를 얻기 위해 date('now') 함수를 사용하십시오.\n",
        "\n",
        "다음 테이블만 사용하세요:\n",
        "{table_info}\"\n",
        "\n",
        "쿼리의 초안을 작성하세요. 그런 다음, {dialect} 쿼리에서 다음을 포함한 흔한 실수를 다시 확인하세요:\n",
        "- NULL 값에 NOT IN을 사용하는 경우\n",
        "- UNION을 사용할 때 UNION ALL을 사용해야 하는 경우\n",
        "- 배타적 범위에 BETWEEN을 사용하는 경우\n",
        "- 조건문에서 데이터 타입 불일치\n",
        "- 식별자를 올바르게 인용하는 경우\n",
        "- 함수에 올바른 인수 수를 사용하는 경우\n",
        "- 올바른 데이터 타입으로 캐스팅하는 경우\n",
        "- 조인에 적합한 컬럼을 사용하는 경우\n",
        "\n",
        "아래 형식을 사용하세요:\n",
        "\n",
        "First draft: <<FIRST_DRAFT_QUERY>>\n",
        "Final answer: <<FINAL_ANSWER_QUERY>>\n",
        "\"\"\"\n",
        "prompt = ChatPromptTemplate.from_messages(\n",
        "    [(\"system\", system), (\"human\", \"{input}\")]\n",
        ").partial(dialect=db.dialect)\n",
        "\n",
        "\n",
        "def parse_final_answer(output: str) -> str:\n",
        "    return output.split(\"Final answer: \")[1]\n",
        "\n",
        "chain = create_sql_query_chain(llm, db, prompt=prompt) | parse_final_answer\n",
        "prompt.pretty_print()"
      ],
      "metadata": {
        "colab": {
          "base_uri": "https://localhost:8080/"
        },
        "id": "eom3lslz_32j",
        "outputId": "c0238429-56f2-4ecd-e969-e5b6f53a18d9"
      },
      "execution_count": null,
      "outputs": [
        {
          "output_type": "stream",
          "name": "stdout",
          "text": [
            "================================\u001b[1m System Message \u001b[0m================================\n",
            "\n",
            "당신은 \u001b[33;1m\u001b[1;3m{dialect}\u001b[0m 전문가입니다. 주어진 입력 질문에 대해 문법적으로 정확한 \u001b[33;1m\u001b[1;3m{dialect}\u001b[0m 쿼리를 작성하십시오.\n",
            "사용자가 질문에서 특정한 예시의 수를 지정하지 않은 경우, \u001b[33;1m\u001b[1;3m{dialect}\u001b[0m에 따라 LIMIT 절을 사용하여 최대 \u001b[33;1m\u001b[1;3m{top_k}\u001b[0m개의 결과를 조회하십시오. 데이터베이스에서 가장 유익한 데이터를 반환하기 위해 결과를 정렬할 수 있습니다.\n",
            "테이블의 모든 컬럼을 조회해서는 안 됩니다. 질문에 답하기 위해 필요한 컬럼만 조회해야 합니다. 각 컬럼 이름을 이중 인용부호(\")로 감싸 구분된 식별자로 표시하십시오.\n",
            "아래 테이블에서 볼 수 있는 컬럼 이름만 사용해야 합니다. 존재하지 않는 컬럼을 조회하지 않도록 주의하십시오. 또한, 어떤 컬럼이 어느 테이블에 있는지 주의 깊게 살펴보십시오.\n",
            "질문에 \"오늘\"이 포함된 경우 현재 날짜를 얻기 위해 date('now') 함수를 사용하십시오.\n",
            "\n",
            "다음 테이블만 사용하세요:\n",
            "\u001b[33;1m\u001b[1;3m{table_info}\u001b[0m\"\n",
            "\n",
            "쿼리의 초안을 작성하세요. 그런 다음, \u001b[33;1m\u001b[1;3m{dialect}\u001b[0m 쿼리에서 다음을 포함한 흔한 실수를 다시 확인하세요:\n",
            "- NULL 값에 NOT IN을 사용하는 경우\n",
            "- UNION을 사용할 때 UNION ALL을 사용해야 하는 경우\n",
            "- 배타적 범위에 BETWEEN을 사용하는 경우\n",
            "- 조건문에서 데이터 타입 불일치\n",
            "- 식별자를 올바르게 인용하는 경우\n",
            "- 함수에 올바른 인수 수를 사용하는 경우\n",
            "- 올바른 데이터 타입으로 캐스팅하는 경우\n",
            "- 조인에 적합한 컬럼을 사용하는 경우\n",
            "\n",
            "아래 형식을 사용하세요:\n",
            "\n",
            "First draft: <<FIRST_DRAFT_QUERY>>\n",
            "Final answer: <<FINAL_ANSWER_QUERY>>\n",
            "\n",
            "\n",
            "================================\u001b[1m Human Message \u001b[0m=================================\n",
            "\n",
            "\u001b[33;1m\u001b[1;3m{input}\u001b[0m\n"
          ]
        }
      ]
    },
    {
      "cell_type": "code",
      "source": [
        "query = chain.invoke(\n",
        "    {\n",
        "        \"question\": \"What's the average Invoice from an American customer whose Fax is missing since 2003 but before 2010\"\n",
        "    }\n",
        ")\n",
        "query"
      ],
      "metadata": {
        "id": "TZJpQPxx-IQf"
      },
      "execution_count": null,
      "outputs": []
    },
    {
      "cell_type": "code",
      "source": [
        "db.run(query)"
      ],
      "metadata": {
        "colab": {
          "base_uri": "https://localhost:8080/",
          "height": 36
        },
        "id": "v7auTstS7AXt",
        "outputId": "f4ae7541-0632-4e89-eaf5-b5af7f46a6db"
      },
      "execution_count": null,
      "outputs": [
        {
          "output_type": "execute_result",
          "data": {
            "text/plain": [
              "'[(6.632999999999998,)]'"
            ],
            "application/vnd.google.colaboratory.intrinsic+json": {
              "type": "string"
            }
          },
          "metadata": {},
          "execution_count": 12
        }
      ]
    },
    {
      "cell_type": "code",
      "source": [],
      "metadata": {
        "id": "Yd3AkrP27AUm"
      },
      "execution_count": null,
      "outputs": []
    },
    {
      "cell_type": "code",
      "source": [],
      "metadata": {
        "id": "LPpAJWe2Yavz"
      },
      "execution_count": null,
      "outputs": []
    }
  ]
}