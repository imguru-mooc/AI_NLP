{
  "nbformat": 4,
  "nbformat_minor": 0,
  "metadata": {
    "colab": {
      "provenance": [],
      "gpuType": "T4"
    },
    "kernelspec": {
      "name": "python3",
      "display_name": "Python 3"
    },
    "language_info": {
      "name": "python"
    },
    "accelerator": "GPU"
  },
  "cells": [
    {
      "cell_type": "markdown",
      "source": [
        "# 랭체인(LangChain) MultiVector Retriever 예제\n",
        "## 작성자 : AISchool ( http://aischool.ai/%ec%98%a8%eb%9d%bc%ec%9d%b8-%ea%b0%95%ec%9d%98-%ec%b9%b4%ed%85%8c%ea%b3%a0%eb%a6%ac/ )\n",
        "## Reference : https://python.langchain.com/v0.1/docs/modules/data_connection/retrievers/multi_vector/"
      ],
      "metadata": {
        "id": "pJ6i2qcdZ0Ow"
      }
    },
    {
      "cell_type": "markdown",
      "source": [
        "**문서당 여러 벡터를 저장하는 것**은 종종 유익할 수 있습니다. 여러 가지 사용 사례에서 이것이 유익합니다. LangChain에는 이러한 설정을 쉽게 쿼리할 수 있는 기본 **MultiVectorRetriever**가 있습니다. 문서당 여러 벡터를 생성하는 방법에는 여러가지 복잡성들이 존재합니다. 이번 예제에서는 이러한 벡터를 생성하고 MultiVectorRetriever를 사용하는 일반적인 방법을 다룹니다.\n",
        "\n",
        "\n",
        "\n",
        "\n",
        "\n",
        "\n"
      ],
      "metadata": {
        "id": "J6E5391WKdLM"
      }
    },
    {
      "cell_type": "markdown",
      "source": [
        "문서당 여러 벡터를 생성하는 방법에는 다음이 포함됩니다:\n",
        "\n",
        "*   **더 작은 청크(Smaller chunks)**: 문서를 더 작은 청크로 나누고, 그것들을 임베딩합니다 (이것은 ParentDocumentRetriever입니다).\n",
        "*   **요약(Summary)**: 각 문서에 대한 요약을 생성하고, 그것을 문서와 함께(또는 문서 대신) 임베딩합니다.\n",
        "*   **가상 질문(Hypothetical questions)**: 각 문서가 적절하게 답변할 수 있는 가상 질문(hypothetical questions)을 생성하고, 그것들을 문서와 함께(또는 문서 대신) 임베딩합니다.\n"
      ],
      "metadata": {
        "id": "8sO7pO_PUSub"
      }
    },
    {
      "cell_type": "markdown",
      "source": [
        "이 방법은 임베딩을 수동으로 추가하는 또 다른 방법을 가능하게 한다는 점을 주목하세요. 이는 특정 문서가 검색되도록 해야 하는 질문이나 쿼리를 명시적으로 추가할 수 있기 때문에 매우 유용하며, 더 많은 제어권을 제공합니다."
      ],
      "metadata": {
        "id": "w60aTjwwhKjd"
      }
    },
    {
      "cell_type": "markdown",
      "source": [
        "# LangChain 라이브러리 설치"
      ],
      "metadata": {
        "id": "4hniXcElvMif"
      }
    },
    {
      "cell_type": "code",
      "source": [
        "!pip install langchain openai chromadb tiktoken pypdf unstructured sentence-transformers langchain-openai langchain_chroma"
      ],
      "metadata": {
        "colab": {
          "base_uri": "https://localhost:8080/"
        },
        "id": "FSTi00anFGqf",
        "outputId": "6d943537-f877-41f7-8000-351f896f5025"
      },
      "execution_count": null,
      "outputs": [
        {
          "output_type": "stream",
          "name": "stdout",
          "text": [
            "Collecting langchain\n",
            "  Downloading langchain-0.1.20-py3-none-any.whl (1.0 MB)\n",
            "\u001b[2K     \u001b[90m━━━━━━━━━━━━━━━━━━━━━━━━━━━━━━━━━━━━━━━━\u001b[0m \u001b[32m1.0/1.0 MB\u001b[0m \u001b[31m9.9 MB/s\u001b[0m eta \u001b[36m0:00:00\u001b[0m\n",
            "\u001b[?25hCollecting openai\n",
            "  Downloading openai-1.30.1-py3-none-any.whl (320 kB)\n",
            "\u001b[2K     \u001b[90m━━━━━━━━━━━━━━━━━━━━━━━━━━━━━━━━━━━━━━━━\u001b[0m \u001b[32m320.6/320.6 kB\u001b[0m \u001b[31m12.2 MB/s\u001b[0m eta \u001b[36m0:00:00\u001b[0m\n",
            "\u001b[?25hCollecting chromadb\n",
            "  Downloading chromadb-0.5.0-py3-none-any.whl (526 kB)\n",
            "\u001b[2K     \u001b[90m━━━━━━━━━━━━━━━━━━━━━━━━━━━━━━━━━━━━━━━━\u001b[0m \u001b[32m526.8/526.8 kB\u001b[0m \u001b[31m13.2 MB/s\u001b[0m eta \u001b[36m0:00:00\u001b[0m\n",
            "\u001b[?25hCollecting tiktoken\n",
            "  Downloading tiktoken-0.7.0-cp310-cp310-manylinux_2_17_x86_64.manylinux2014_x86_64.whl (1.1 MB)\n",
            "\u001b[2K     \u001b[90m━━━━━━━━━━━━━━━━━━━━━━━━━━━━━━━━━━━━━━━━\u001b[0m \u001b[32m1.1/1.1 MB\u001b[0m \u001b[31m19.9 MB/s\u001b[0m eta \u001b[36m0:00:00\u001b[0m\n",
            "\u001b[?25hCollecting pypdf\n",
            "  Downloading pypdf-4.2.0-py3-none-any.whl (290 kB)\n",
            "\u001b[2K     \u001b[90m━━━━━━━━━━━━━━━━━━━━━━━━━━━━━━━━━━━━━━━━\u001b[0m \u001b[32m290.4/290.4 kB\u001b[0m \u001b[31m17.8 MB/s\u001b[0m eta \u001b[36m0:00:00\u001b[0m\n",
            "\u001b[?25hCollecting unstructured\n",
            "  Downloading unstructured-0.13.7-py3-none-any.whl (1.9 MB)\n",
            "\u001b[2K     \u001b[90m━━━━━━━━━━━━━━━━━━━━━━━━━━━━━━━━━━━━━━━━\u001b[0m \u001b[32m1.9/1.9 MB\u001b[0m \u001b[31m26.0 MB/s\u001b[0m eta \u001b[36m0:00:00\u001b[0m\n",
            "\u001b[?25hCollecting sentence-transformers\n",
            "  Downloading sentence_transformers-2.7.0-py3-none-any.whl (171 kB)\n",
            "\u001b[2K     \u001b[90m━━━━━━━━━━━━━━━━━━━━━━━━━━━━━━━━━━━━━━━━\u001b[0m \u001b[32m171.5/171.5 kB\u001b[0m \u001b[31m22.3 MB/s\u001b[0m eta \u001b[36m0:00:00\u001b[0m\n",
            "\u001b[?25hCollecting langchain-openai\n",
            "  Downloading langchain_openai-0.1.7-py3-none-any.whl (34 kB)\n",
            "Collecting langchain_chroma\n",
            "  Downloading langchain_chroma-0.1.1-py3-none-any.whl (8.5 kB)\n",
            "Requirement already satisfied: PyYAML>=5.3 in /usr/local/lib/python3.10/dist-packages (from langchain) (6.0.1)\n",
            "Requirement already satisfied: SQLAlchemy<3,>=1.4 in /usr/local/lib/python3.10/dist-packages (from langchain) (2.0.30)\n",
            "Requirement already satisfied: aiohttp<4.0.0,>=3.8.3 in /usr/local/lib/python3.10/dist-packages (from langchain) (3.9.5)\n",
            "Requirement already satisfied: async-timeout<5.0.0,>=4.0.0 in /usr/local/lib/python3.10/dist-packages (from langchain) (4.0.3)\n",
            "Collecting dataclasses-json<0.7,>=0.5.7 (from langchain)\n",
            "  Downloading dataclasses_json-0.6.6-py3-none-any.whl (28 kB)\n",
            "Collecting langchain-community<0.1,>=0.0.38 (from langchain)\n",
            "  Downloading langchain_community-0.0.38-py3-none-any.whl (2.0 MB)\n",
            "\u001b[2K     \u001b[90m━━━━━━━━━━━━━━━━━━━━━━━━━━━━━━━━━━━━━━━━\u001b[0m \u001b[32m2.0/2.0 MB\u001b[0m \u001b[31m33.1 MB/s\u001b[0m eta \u001b[36m0:00:00\u001b[0m\n",
            "\u001b[?25hCollecting langchain-core<0.2.0,>=0.1.52 (from langchain)\n",
            "  Downloading langchain_core-0.1.52-py3-none-any.whl (302 kB)\n",
            "\u001b[2K     \u001b[90m━━━━━━━━━━━━━━━━━━━━━━━━━━━━━━━━━━━━━━━━\u001b[0m \u001b[32m302.9/302.9 kB\u001b[0m \u001b[31m28.8 MB/s\u001b[0m eta \u001b[36m0:00:00\u001b[0m\n",
            "\u001b[?25hCollecting langchain-text-splitters<0.1,>=0.0.1 (from langchain)\n",
            "  Downloading langchain_text_splitters-0.0.2-py3-none-any.whl (23 kB)\n",
            "Collecting langsmith<0.2.0,>=0.1.17 (from langchain)\n",
            "  Downloading langsmith-0.1.59-py3-none-any.whl (121 kB)\n",
            "\u001b[2K     \u001b[90m━━━━━━━━━━━━━━━━━━━━━━━━━━━━━━━━━━━━━━━━\u001b[0m \u001b[32m121.2/121.2 kB\u001b[0m \u001b[31m16.7 MB/s\u001b[0m eta \u001b[36m0:00:00\u001b[0m\n",
            "\u001b[?25hRequirement already satisfied: numpy<2,>=1 in /usr/local/lib/python3.10/dist-packages (from langchain) (1.25.2)\n",
            "Requirement already satisfied: pydantic<3,>=1 in /usr/local/lib/python3.10/dist-packages (from langchain) (2.7.1)\n",
            "Requirement already satisfied: requests<3,>=2 in /usr/local/lib/python3.10/dist-packages (from langchain) (2.31.0)\n",
            "Requirement already satisfied: tenacity<9.0.0,>=8.1.0 in /usr/local/lib/python3.10/dist-packages (from langchain) (8.3.0)\n",
            "Requirement already satisfied: anyio<5,>=3.5.0 in /usr/local/lib/python3.10/dist-packages (from openai) (3.7.1)\n",
            "Requirement already satisfied: distro<2,>=1.7.0 in /usr/lib/python3/dist-packages (from openai) (1.7.0)\n",
            "Collecting httpx<1,>=0.23.0 (from openai)\n",
            "  Downloading httpx-0.27.0-py3-none-any.whl (75 kB)\n",
            "\u001b[2K     \u001b[90m━━━━━━━━━━━━━━━━━━━━━━━━━━━━━━━━━━━━━━━━\u001b[0m \u001b[32m75.6/75.6 kB\u001b[0m \u001b[31m11.7 MB/s\u001b[0m eta \u001b[36m0:00:00\u001b[0m\n",
            "\u001b[?25hRequirement already satisfied: sniffio in /usr/local/lib/python3.10/dist-packages (from openai) (1.3.1)\n",
            "Requirement already satisfied: tqdm>4 in /usr/local/lib/python3.10/dist-packages (from openai) (4.66.4)\n",
            "Requirement already satisfied: typing-extensions<5,>=4.7 in /usr/local/lib/python3.10/dist-packages (from openai) (4.11.0)\n",
            "Requirement already satisfied: build>=1.0.3 in /usr/local/lib/python3.10/dist-packages (from chromadb) (1.2.1)\n",
            "Collecting chroma-hnswlib==0.7.3 (from chromadb)\n",
            "  Downloading chroma_hnswlib-0.7.3-cp310-cp310-manylinux_2_17_x86_64.manylinux2014_x86_64.whl (2.4 MB)\n",
            "\u001b[2K     \u001b[90m━━━━━━━━━━━━━━━━━━━━━━━━━━━━━━━━━━━━━━━━\u001b[0m \u001b[32m2.4/2.4 MB\u001b[0m \u001b[31m41.9 MB/s\u001b[0m eta \u001b[36m0:00:00\u001b[0m\n",
            "\u001b[?25hCollecting fastapi>=0.95.2 (from chromadb)\n",
            "  Downloading fastapi-0.111.0-py3-none-any.whl (91 kB)\n",
            "\u001b[2K     \u001b[90m━━━━━━━━━━━━━━━━━━━━━━━━━━━━━━━━━━━━━━━━\u001b[0m \u001b[32m92.0/92.0 kB\u001b[0m \u001b[31m13.4 MB/s\u001b[0m eta \u001b[36m0:00:00\u001b[0m\n",
            "\u001b[?25hCollecting uvicorn[standard]>=0.18.3 (from chromadb)\n",
            "  Downloading uvicorn-0.29.0-py3-none-any.whl (60 kB)\n",
            "\u001b[2K     \u001b[90m━━━━━━━━━━━━━━━━━━━━━━━━━━━━━━━━━━━━━━━━\u001b[0m \u001b[32m60.8/60.8 kB\u001b[0m \u001b[31m8.7 MB/s\u001b[0m eta \u001b[36m0:00:00\u001b[0m\n",
            "\u001b[?25hCollecting posthog>=2.4.0 (from chromadb)\n",
            "  Downloading posthog-3.5.0-py2.py3-none-any.whl (41 kB)\n",
            "\u001b[2K     \u001b[90m━━━━━━━━━━━━━━━━━━━━━━━━━━━━━━━━━━━━━━━━\u001b[0m \u001b[32m41.3/41.3 kB\u001b[0m \u001b[31m4.7 MB/s\u001b[0m eta \u001b[36m0:00:00\u001b[0m\n",
            "\u001b[?25hCollecting onnxruntime>=1.14.1 (from chromadb)\n",
            "  Downloading onnxruntime-1.17.3-cp310-cp310-manylinux_2_27_x86_64.manylinux_2_28_x86_64.whl (6.8 MB)\n",
            "\u001b[2K     \u001b[90m━━━━━━━━━━━━━━━━━━━━━━━━━━━━━━━━━━━━━━━━\u001b[0m \u001b[32m6.8/6.8 MB\u001b[0m \u001b[31m33.1 MB/s\u001b[0m eta \u001b[36m0:00:00\u001b[0m\n",
            "\u001b[?25hCollecting opentelemetry-api>=1.2.0 (from chromadb)\n",
            "  Downloading opentelemetry_api-1.24.0-py3-none-any.whl (60 kB)\n",
            "\u001b[2K     \u001b[90m━━━━━━━━━━━━━━━━━━━━━━━━━━━━━━━━━━━━━━━━\u001b[0m \u001b[32m60.1/60.1 kB\u001b[0m \u001b[31m5.1 MB/s\u001b[0m eta \u001b[36m0:00:00\u001b[0m\n",
            "\u001b[?25hCollecting opentelemetry-exporter-otlp-proto-grpc>=1.2.0 (from chromadb)\n",
            "  Downloading opentelemetry_exporter_otlp_proto_grpc-1.24.0-py3-none-any.whl (18 kB)\n",
            "Collecting opentelemetry-instrumentation-fastapi>=0.41b0 (from chromadb)\n",
            "  Downloading opentelemetry_instrumentation_fastapi-0.45b0-py3-none-any.whl (11 kB)\n",
            "Collecting opentelemetry-sdk>=1.2.0 (from chromadb)\n",
            "  Downloading opentelemetry_sdk-1.24.0-py3-none-any.whl (106 kB)\n",
            "\u001b[2K     \u001b[90m━━━━━━━━━━━━━━━━━━━━━━━━━━━━━━━━━━━━━━━━\u001b[0m \u001b[32m106.1/106.1 kB\u001b[0m \u001b[31m7.7 MB/s\u001b[0m eta \u001b[36m0:00:00\u001b[0m\n",
            "\u001b[?25hRequirement already satisfied: tokenizers>=0.13.2 in /usr/local/lib/python3.10/dist-packages (from chromadb) (0.19.1)\n",
            "Collecting pypika>=0.48.9 (from chromadb)\n",
            "  Downloading PyPika-0.48.9.tar.gz (67 kB)\n",
            "\u001b[2K     \u001b[90m━━━━━━━━━━━━━━━━━━━━━━━━━━━━━━━━━━━━━━━━\u001b[0m \u001b[32m67.3/67.3 kB\u001b[0m \u001b[31m6.6 MB/s\u001b[0m eta \u001b[36m0:00:00\u001b[0m\n",
            "\u001b[?25h  Installing build dependencies ... \u001b[?25l\u001b[?25hdone\n",
            "  Getting requirements to build wheel ... \u001b[?25l\u001b[?25hdone\n",
            "  Preparing metadata (pyproject.toml) ... \u001b[?25l\u001b[?25hdone\n",
            "Collecting overrides>=7.3.1 (from chromadb)\n",
            "  Downloading overrides-7.7.0-py3-none-any.whl (17 kB)\n",
            "Requirement already satisfied: importlib-resources in /usr/local/lib/python3.10/dist-packages (from chromadb) (6.4.0)\n",
            "Requirement already satisfied: grpcio>=1.58.0 in /usr/local/lib/python3.10/dist-packages (from chromadb) (1.63.0)\n",
            "Collecting bcrypt>=4.0.1 (from chromadb)\n",
            "  Downloading bcrypt-4.1.3-cp39-abi3-manylinux_2_28_x86_64.whl (283 kB)\n",
            "\u001b[2K     \u001b[90m━━━━━━━━━━━━━━━━━━━━━━━━━━━━━━━━━━━━━━━━\u001b[0m \u001b[32m283.7/283.7 kB\u001b[0m \u001b[31m23.9 MB/s\u001b[0m eta \u001b[36m0:00:00\u001b[0m\n",
            "\u001b[?25hRequirement already satisfied: typer>=0.9.0 in /usr/local/lib/python3.10/dist-packages (from chromadb) (0.9.4)\n",
            "Collecting kubernetes>=28.1.0 (from chromadb)\n",
            "  Downloading kubernetes-29.0.0-py2.py3-none-any.whl (1.6 MB)\n",
            "\u001b[2K     \u001b[90m━━━━━━━━━━━━━━━━━━━━━━━━━━━━━━━━━━━━━━━━\u001b[0m \u001b[32m1.6/1.6 MB\u001b[0m \u001b[31m53.9 MB/s\u001b[0m eta \u001b[36m0:00:00\u001b[0m\n",
            "\u001b[?25hCollecting mmh3>=4.0.1 (from chromadb)\n",
            "  Downloading mmh3-4.1.0-cp310-cp310-manylinux_2_5_x86_64.manylinux1_x86_64.manylinux_2_17_x86_64.manylinux2014_x86_64.whl (67 kB)\n",
            "\u001b[2K     \u001b[90m━━━━━━━━━━━━━━━━━━━━━━━━━━━━━━━━━━━━━━━━\u001b[0m \u001b[32m67.6/67.6 kB\u001b[0m \u001b[31m7.7 MB/s\u001b[0m eta \u001b[36m0:00:00\u001b[0m\n",
            "\u001b[?25hCollecting orjson>=3.9.12 (from chromadb)\n",
            "  Downloading orjson-3.10.3-cp310-cp310-manylinux_2_17_x86_64.manylinux2014_x86_64.whl (142 kB)\n",
            "\u001b[2K     \u001b[90m━━━━━━━━━━━━━━━━━━━━━━━━━━━━━━━━━━━━━━━━\u001b[0m \u001b[32m142.5/142.5 kB\u001b[0m \u001b[31m17.6 MB/s\u001b[0m eta \u001b[36m0:00:00\u001b[0m\n",
            "\u001b[?25hRequirement already satisfied: regex>=2022.1.18 in /usr/local/lib/python3.10/dist-packages (from tiktoken) (2023.12.25)\n",
            "Requirement already satisfied: chardet in /usr/local/lib/python3.10/dist-packages (from unstructured) (5.2.0)\n",
            "Collecting filetype (from unstructured)\n",
            "  Downloading filetype-1.2.0-py2.py3-none-any.whl (19 kB)\n",
            "Collecting python-magic (from unstructured)\n",
            "  Downloading python_magic-0.4.27-py2.py3-none-any.whl (13 kB)\n",
            "Requirement already satisfied: lxml in /usr/local/lib/python3.10/dist-packages (from unstructured) (4.9.4)\n",
            "Requirement already satisfied: nltk in /usr/local/lib/python3.10/dist-packages (from unstructured) (3.8.1)\n",
            "Requirement already satisfied: tabulate in /usr/local/lib/python3.10/dist-packages (from unstructured) (0.9.0)\n",
            "Requirement already satisfied: beautifulsoup4 in /usr/local/lib/python3.10/dist-packages (from unstructured) (4.12.3)\n",
            "Collecting emoji (from unstructured)\n",
            "  Downloading emoji-2.11.1-py2.py3-none-any.whl (433 kB)\n",
            "\u001b[2K     \u001b[90m━━━━━━━━━━━━━━━━━━━━━━━━━━━━━━━━━━━━━━━━\u001b[0m \u001b[32m433.8/433.8 kB\u001b[0m \u001b[31m46.8 MB/s\u001b[0m eta \u001b[36m0:00:00\u001b[0m\n",
            "\u001b[?25hCollecting python-iso639 (from unstructured)\n",
            "  Downloading python_iso639-2024.4.27-py3-none-any.whl (274 kB)\n",
            "\u001b[2K     \u001b[90m━━━━━━━━━━━━━━━━━━━━━━━━━━━━━━━━━━━━━━━━\u001b[0m \u001b[32m274.7/274.7 kB\u001b[0m \u001b[31m30.2 MB/s\u001b[0m eta \u001b[36m0:00:00\u001b[0m\n",
            "\u001b[?25hCollecting langdetect (from unstructured)\n",
            "  Downloading langdetect-1.0.9.tar.gz (981 kB)\n",
            "\u001b[2K     \u001b[90m━━━━━━━━━━━━━━━━━━━━━━━━━━━━━━━━━━━━━━━━\u001b[0m \u001b[32m981.5/981.5 kB\u001b[0m \u001b[31m66.7 MB/s\u001b[0m eta \u001b[36m0:00:00\u001b[0m\n",
            "\u001b[?25h  Preparing metadata (setup.py) ... \u001b[?25l\u001b[?25hdone\n",
            "Collecting rapidfuzz (from unstructured)\n",
            "  Downloading rapidfuzz-3.9.0-cp310-cp310-manylinux_2_17_x86_64.manylinux2014_x86_64.whl (3.4 MB)\n",
            "\u001b[2K     \u001b[90m━━━━━━━━━━━━━━━━━━━━━━━━━━━━━━━━━━━━━━━━\u001b[0m \u001b[32m3.4/3.4 MB\u001b[0m \u001b[31m59.4 MB/s\u001b[0m eta \u001b[36m0:00:00\u001b[0m\n",
            "\u001b[?25hCollecting backoff (from unstructured)\n",
            "  Downloading backoff-2.2.1-py3-none-any.whl (15 kB)\n",
            "Collecting unstructured-client (from unstructured)\n",
            "  Downloading unstructured_client-0.22.0-py3-none-any.whl (28 kB)\n",
            "Requirement already satisfied: wrapt in /usr/local/lib/python3.10/dist-packages (from unstructured) (1.14.1)\n",
            "Requirement already satisfied: transformers<5.0.0,>=4.34.0 in /usr/local/lib/python3.10/dist-packages (from sentence-transformers) (4.40.2)\n",
            "Requirement already satisfied: torch>=1.11.0 in /usr/local/lib/python3.10/dist-packages (from sentence-transformers) (2.2.1+cu121)\n",
            "Requirement already satisfied: scikit-learn in /usr/local/lib/python3.10/dist-packages (from sentence-transformers) (1.2.2)\n",
            "Requirement already satisfied: scipy in /usr/local/lib/python3.10/dist-packages (from sentence-transformers) (1.11.4)\n",
            "Requirement already satisfied: huggingface-hub>=0.15.1 in /usr/local/lib/python3.10/dist-packages (from sentence-transformers) (0.20.3)\n",
            "Requirement already satisfied: Pillow in /usr/local/lib/python3.10/dist-packages (from sentence-transformers) (9.4.0)\n",
            "Requirement already satisfied: aiosignal>=1.1.2 in /usr/local/lib/python3.10/dist-packages (from aiohttp<4.0.0,>=3.8.3->langchain) (1.3.1)\n",
            "Requirement already satisfied: attrs>=17.3.0 in /usr/local/lib/python3.10/dist-packages (from aiohttp<4.0.0,>=3.8.3->langchain) (23.2.0)\n",
            "Requirement already satisfied: frozenlist>=1.1.1 in /usr/local/lib/python3.10/dist-packages (from aiohttp<4.0.0,>=3.8.3->langchain) (1.4.1)\n",
            "Requirement already satisfied: multidict<7.0,>=4.5 in /usr/local/lib/python3.10/dist-packages (from aiohttp<4.0.0,>=3.8.3->langchain) (6.0.5)\n",
            "Requirement already satisfied: yarl<2.0,>=1.0 in /usr/local/lib/python3.10/dist-packages (from aiohttp<4.0.0,>=3.8.3->langchain) (1.9.4)\n",
            "Requirement already satisfied: idna>=2.8 in /usr/local/lib/python3.10/dist-packages (from anyio<5,>=3.5.0->openai) (3.7)\n",
            "Requirement already satisfied: exceptiongroup in /usr/local/lib/python3.10/dist-packages (from anyio<5,>=3.5.0->openai) (1.2.1)\n",
            "Requirement already satisfied: packaging>=19.1 in /usr/local/lib/python3.10/dist-packages (from build>=1.0.3->chromadb) (24.0)\n",
            "Requirement already satisfied: pyproject_hooks in /usr/local/lib/python3.10/dist-packages (from build>=1.0.3->chromadb) (1.1.0)\n",
            "Requirement already satisfied: tomli>=1.1.0 in /usr/local/lib/python3.10/dist-packages (from build>=1.0.3->chromadb) (2.0.1)\n",
            "Collecting marshmallow<4.0.0,>=3.18.0 (from dataclasses-json<0.7,>=0.5.7->langchain)\n",
            "  Downloading marshmallow-3.21.2-py3-none-any.whl (49 kB)\n",
            "\u001b[2K     \u001b[90m━━━━━━━━━━━━━━━━━━━━━━━━━━━━━━━━━━━━━━━━\u001b[0m \u001b[32m49.3/49.3 kB\u001b[0m \u001b[31m7.0 MB/s\u001b[0m eta \u001b[36m0:00:00\u001b[0m\n",
            "\u001b[?25hCollecting typing-inspect<1,>=0.4.0 (from dataclasses-json<0.7,>=0.5.7->langchain)\n",
            "  Downloading typing_inspect-0.9.0-py3-none-any.whl (8.8 kB)\n",
            "Collecting starlette<0.38.0,>=0.37.2 (from fastapi>=0.95.2->chromadb)\n",
            "  Downloading starlette-0.37.2-py3-none-any.whl (71 kB)\n",
            "\u001b[2K     \u001b[90m━━━━━━━━━━━━━━━━━━━━━━━━━━━━━━━━━━━━━━━━\u001b[0m \u001b[32m71.9/71.9 kB\u001b[0m \u001b[31m9.6 MB/s\u001b[0m eta \u001b[36m0:00:00\u001b[0m\n",
            "\u001b[?25hCollecting fastapi-cli>=0.0.2 (from fastapi>=0.95.2->chromadb)\n",
            "  Downloading fastapi_cli-0.0.3-py3-none-any.whl (9.2 kB)\n",
            "Requirement already satisfied: jinja2>=2.11.2 in /usr/local/lib/python3.10/dist-packages (from fastapi>=0.95.2->chromadb) (3.1.4)\n",
            "Collecting python-multipart>=0.0.7 (from fastapi>=0.95.2->chromadb)\n",
            "  Downloading python_multipart-0.0.9-py3-none-any.whl (22 kB)\n",
            "Collecting ujson!=4.0.2,!=4.1.0,!=4.2.0,!=4.3.0,!=5.0.0,!=5.1.0,>=4.0.1 (from fastapi>=0.95.2->chromadb)\n",
            "  Downloading ujson-5.10.0-cp310-cp310-manylinux_2_17_x86_64.manylinux2014_x86_64.whl (53 kB)\n",
            "\u001b[2K     \u001b[90m━━━━━━━━━━━━━━━━━━━━━━━━━━━━━━━━━━━━━━━━\u001b[0m \u001b[32m53.6/53.6 kB\u001b[0m \u001b[31m7.2 MB/s\u001b[0m eta \u001b[36m0:00:00\u001b[0m\n",
            "\u001b[?25hCollecting email_validator>=2.0.0 (from fastapi>=0.95.2->chromadb)\n",
            "  Downloading email_validator-2.1.1-py3-none-any.whl (30 kB)\n",
            "Requirement already satisfied: certifi in /usr/local/lib/python3.10/dist-packages (from httpx<1,>=0.23.0->openai) (2024.2.2)\n",
            "Collecting httpcore==1.* (from httpx<1,>=0.23.0->openai)\n",
            "  Downloading httpcore-1.0.5-py3-none-any.whl (77 kB)\n",
            "\u001b[2K     \u001b[90m━━━━━━━━━━━━━━━━━━━━━━━━━━━━━━━━━━━━━━━━\u001b[0m \u001b[32m77.9/77.9 kB\u001b[0m \u001b[31m9.1 MB/s\u001b[0m eta \u001b[36m0:00:00\u001b[0m\n",
            "\u001b[?25hCollecting h11<0.15,>=0.13 (from httpcore==1.*->httpx<1,>=0.23.0->openai)\n",
            "  Downloading h11-0.14.0-py3-none-any.whl (58 kB)\n",
            "\u001b[2K     \u001b[90m━━━━━━━━━━━━━━━━━━━━━━━━━━━━━━━━━━━━━━━━\u001b[0m \u001b[32m58.3/58.3 kB\u001b[0m \u001b[31m7.8 MB/s\u001b[0m eta \u001b[36m0:00:00\u001b[0m\n",
            "\u001b[?25hRequirement already satisfied: filelock in /usr/local/lib/python3.10/dist-packages (from huggingface-hub>=0.15.1->sentence-transformers) (3.14.0)\n",
            "Requirement already satisfied: fsspec>=2023.5.0 in /usr/local/lib/python3.10/dist-packages (from huggingface-hub>=0.15.1->sentence-transformers) (2023.6.0)\n",
            "Requirement already satisfied: six>=1.9.0 in /usr/local/lib/python3.10/dist-packages (from kubernetes>=28.1.0->chromadb) (1.16.0)\n",
            "Requirement already satisfied: python-dateutil>=2.5.3 in /usr/local/lib/python3.10/dist-packages (from kubernetes>=28.1.0->chromadb) (2.8.2)\n",
            "Requirement already satisfied: google-auth>=1.0.1 in /usr/local/lib/python3.10/dist-packages (from kubernetes>=28.1.0->chromadb) (2.27.0)\n",
            "Requirement already satisfied: websocket-client!=0.40.0,!=0.41.*,!=0.42.*,>=0.32.0 in /usr/local/lib/python3.10/dist-packages (from kubernetes>=28.1.0->chromadb) (1.8.0)\n",
            "Requirement already satisfied: requests-oauthlib in /usr/local/lib/python3.10/dist-packages (from kubernetes>=28.1.0->chromadb) (1.3.1)\n",
            "Requirement already satisfied: oauthlib>=3.2.2 in /usr/local/lib/python3.10/dist-packages (from kubernetes>=28.1.0->chromadb) (3.2.2)\n",
            "Requirement already satisfied: urllib3>=1.24.2 in /usr/local/lib/python3.10/dist-packages (from kubernetes>=28.1.0->chromadb) (2.0.7)\n",
            "Collecting jsonpatch<2.0,>=1.33 (from langchain-core<0.2.0,>=0.1.52->langchain)\n",
            "  Downloading jsonpatch-1.33-py2.py3-none-any.whl (12 kB)\n",
            "Collecting packaging>=19.1 (from build>=1.0.3->chromadb)\n",
            "  Downloading packaging-23.2-py3-none-any.whl (53 kB)\n",
            "\u001b[2K     \u001b[90m━━━━━━━━━━━━━━━━━━━━━━━━━━━━━━━━━━━━━━━━\u001b[0m \u001b[32m53.0/53.0 kB\u001b[0m \u001b[31m7.1 MB/s\u001b[0m eta \u001b[36m0:00:00\u001b[0m\n",
            "\u001b[?25hCollecting coloredlogs (from onnxruntime>=1.14.1->chromadb)\n",
            "  Downloading coloredlogs-15.0.1-py2.py3-none-any.whl (46 kB)\n",
            "\u001b[2K     \u001b[90m━━━━━━━━━━━━━━━━━━━━━━━━━━━━━━━━━━━━━━━━\u001b[0m \u001b[32m46.0/46.0 kB\u001b[0m \u001b[31m5.8 MB/s\u001b[0m eta \u001b[36m0:00:00\u001b[0m\n",
            "\u001b[?25hRequirement already satisfied: flatbuffers in /usr/local/lib/python3.10/dist-packages (from onnxruntime>=1.14.1->chromadb) (24.3.25)\n",
            "Requirement already satisfied: protobuf in /usr/local/lib/python3.10/dist-packages (from onnxruntime>=1.14.1->chromadb) (3.20.3)\n",
            "Requirement already satisfied: sympy in /usr/local/lib/python3.10/dist-packages (from onnxruntime>=1.14.1->chromadb) (1.12)\n",
            "Collecting deprecated>=1.2.6 (from opentelemetry-api>=1.2.0->chromadb)\n",
            "  Downloading Deprecated-1.2.14-py2.py3-none-any.whl (9.6 kB)\n",
            "Collecting importlib-metadata<=7.0,>=6.0 (from opentelemetry-api>=1.2.0->chromadb)\n",
            "  Downloading importlib_metadata-7.0.0-py3-none-any.whl (23 kB)\n",
            "Requirement already satisfied: googleapis-common-protos~=1.52 in /usr/local/lib/python3.10/dist-packages (from opentelemetry-exporter-otlp-proto-grpc>=1.2.0->chromadb) (1.63.0)\n",
            "Collecting opentelemetry-exporter-otlp-proto-common==1.24.0 (from opentelemetry-exporter-otlp-proto-grpc>=1.2.0->chromadb)\n",
            "  Downloading opentelemetry_exporter_otlp_proto_common-1.24.0-py3-none-any.whl (17 kB)\n",
            "Collecting opentelemetry-proto==1.24.0 (from opentelemetry-exporter-otlp-proto-grpc>=1.2.0->chromadb)\n",
            "  Downloading opentelemetry_proto-1.24.0-py3-none-any.whl (50 kB)\n",
            "\u001b[2K     \u001b[90m━━━━━━━━━━━━━━━━━━━━━━━━━━━━━━━━━━━━━━━━\u001b[0m \u001b[32m50.8/50.8 kB\u001b[0m \u001b[31m6.3 MB/s\u001b[0m eta \u001b[36m0:00:00\u001b[0m\n",
            "\u001b[?25hCollecting opentelemetry-instrumentation-asgi==0.45b0 (from opentelemetry-instrumentation-fastapi>=0.41b0->chromadb)\n",
            "  Downloading opentelemetry_instrumentation_asgi-0.45b0-py3-none-any.whl (14 kB)\n",
            "Collecting opentelemetry-instrumentation==0.45b0 (from opentelemetry-instrumentation-fastapi>=0.41b0->chromadb)\n",
            "  Downloading opentelemetry_instrumentation-0.45b0-py3-none-any.whl (28 kB)\n",
            "Collecting opentelemetry-semantic-conventions==0.45b0 (from opentelemetry-instrumentation-fastapi>=0.41b0->chromadb)\n",
            "  Downloading opentelemetry_semantic_conventions-0.45b0-py3-none-any.whl (36 kB)\n",
            "Collecting opentelemetry-util-http==0.45b0 (from opentelemetry-instrumentation-fastapi>=0.41b0->chromadb)\n",
            "  Downloading opentelemetry_util_http-0.45b0-py3-none-any.whl (6.9 kB)\n",
            "Requirement already satisfied: setuptools>=16.0 in /usr/local/lib/python3.10/dist-packages (from opentelemetry-instrumentation==0.45b0->opentelemetry-instrumentation-fastapi>=0.41b0->chromadb) (67.7.2)\n",
            "Collecting asgiref~=3.0 (from opentelemetry-instrumentation-asgi==0.45b0->opentelemetry-instrumentation-fastapi>=0.41b0->chromadb)\n",
            "  Downloading asgiref-3.8.1-py3-none-any.whl (23 kB)\n",
            "Collecting monotonic>=1.5 (from posthog>=2.4.0->chromadb)\n",
            "  Downloading monotonic-1.6-py2.py3-none-any.whl (8.2 kB)\n",
            "Requirement already satisfied: annotated-types>=0.4.0 in /usr/local/lib/python3.10/dist-packages (from pydantic<3,>=1->langchain) (0.6.0)\n",
            "Requirement already satisfied: pydantic-core==2.18.2 in /usr/local/lib/python3.10/dist-packages (from pydantic<3,>=1->langchain) (2.18.2)\n",
            "Requirement already satisfied: charset-normalizer<4,>=2 in /usr/local/lib/python3.10/dist-packages (from requests<3,>=2->langchain) (3.3.2)\n",
            "Requirement already satisfied: greenlet!=0.4.17 in /usr/local/lib/python3.10/dist-packages (from SQLAlchemy<3,>=1.4->langchain) (3.0.3)\n",
            "Requirement already satisfied: networkx in /usr/local/lib/python3.10/dist-packages (from torch>=1.11.0->sentence-transformers) (3.3)\n",
            "Collecting nvidia-cuda-nvrtc-cu12==12.1.105 (from torch>=1.11.0->sentence-transformers)\n",
            "  Using cached nvidia_cuda_nvrtc_cu12-12.1.105-py3-none-manylinux1_x86_64.whl (23.7 MB)\n",
            "Collecting nvidia-cuda-runtime-cu12==12.1.105 (from torch>=1.11.0->sentence-transformers)\n",
            "  Using cached nvidia_cuda_runtime_cu12-12.1.105-py3-none-manylinux1_x86_64.whl (823 kB)\n",
            "Collecting nvidia-cuda-cupti-cu12==12.1.105 (from torch>=1.11.0->sentence-transformers)\n",
            "  Using cached nvidia_cuda_cupti_cu12-12.1.105-py3-none-manylinux1_x86_64.whl (14.1 MB)\n",
            "Collecting nvidia-cudnn-cu12==8.9.2.26 (from torch>=1.11.0->sentence-transformers)\n",
            "  Using cached nvidia_cudnn_cu12-8.9.2.26-py3-none-manylinux1_x86_64.whl (731.7 MB)\n",
            "Collecting nvidia-cublas-cu12==12.1.3.1 (from torch>=1.11.0->sentence-transformers)\n",
            "  Using cached nvidia_cublas_cu12-12.1.3.1-py3-none-manylinux1_x86_64.whl (410.6 MB)\n",
            "Collecting nvidia-cufft-cu12==11.0.2.54 (from torch>=1.11.0->sentence-transformers)\n",
            "  Using cached nvidia_cufft_cu12-11.0.2.54-py3-none-manylinux1_x86_64.whl (121.6 MB)\n",
            "Collecting nvidia-curand-cu12==10.3.2.106 (from torch>=1.11.0->sentence-transformers)\n",
            "  Using cached nvidia_curand_cu12-10.3.2.106-py3-none-manylinux1_x86_64.whl (56.5 MB)\n",
            "Collecting nvidia-cusolver-cu12==11.4.5.107 (from torch>=1.11.0->sentence-transformers)\n",
            "  Using cached nvidia_cusolver_cu12-11.4.5.107-py3-none-manylinux1_x86_64.whl (124.2 MB)\n",
            "Collecting nvidia-cusparse-cu12==12.1.0.106 (from torch>=1.11.0->sentence-transformers)\n",
            "  Using cached nvidia_cusparse_cu12-12.1.0.106-py3-none-manylinux1_x86_64.whl (196.0 MB)\n",
            "Collecting nvidia-nccl-cu12==2.19.3 (from torch>=1.11.0->sentence-transformers)\n",
            "  Using cached nvidia_nccl_cu12-2.19.3-py3-none-manylinux1_x86_64.whl (166.0 MB)\n",
            "Collecting nvidia-nvtx-cu12==12.1.105 (from torch>=1.11.0->sentence-transformers)\n",
            "  Using cached nvidia_nvtx_cu12-12.1.105-py3-none-manylinux1_x86_64.whl (99 kB)\n",
            "Requirement already satisfied: triton==2.2.0 in /usr/local/lib/python3.10/dist-packages (from torch>=1.11.0->sentence-transformers) (2.2.0)\n",
            "Collecting nvidia-nvjitlink-cu12 (from nvidia-cusolver-cu12==11.4.5.107->torch>=1.11.0->sentence-transformers)\n",
            "  Using cached nvidia_nvjitlink_cu12-12.4.127-py3-none-manylinux2014_x86_64.whl (21.1 MB)\n",
            "Requirement already satisfied: safetensors>=0.4.1 in /usr/local/lib/python3.10/dist-packages (from transformers<5.0.0,>=4.34.0->sentence-transformers) (0.4.3)\n",
            "Requirement already satisfied: click<9.0.0,>=7.1.1 in /usr/local/lib/python3.10/dist-packages (from typer>=0.9.0->chromadb) (8.1.7)\n",
            "Collecting httptools>=0.5.0 (from uvicorn[standard]>=0.18.3->chromadb)\n",
            "  Downloading httptools-0.6.1-cp310-cp310-manylinux_2_5_x86_64.manylinux1_x86_64.manylinux_2_17_x86_64.manylinux2014_x86_64.whl (341 kB)\n",
            "\u001b[2K     \u001b[90m━━━━━━━━━━━━━━━━━━━━━━━━━━━━━━━━━━━━━━━━\u001b[0m \u001b[32m341.4/341.4 kB\u001b[0m \u001b[31m35.5 MB/s\u001b[0m eta \u001b[36m0:00:00\u001b[0m\n",
            "\u001b[?25hCollecting python-dotenv>=0.13 (from uvicorn[standard]>=0.18.3->chromadb)\n",
            "  Downloading python_dotenv-1.0.1-py3-none-any.whl (19 kB)\n",
            "Collecting uvloop!=0.15.0,!=0.15.1,>=0.14.0 (from uvicorn[standard]>=0.18.3->chromadb)\n",
            "  Downloading uvloop-0.19.0-cp310-cp310-manylinux_2_17_x86_64.manylinux2014_x86_64.whl (3.4 MB)\n",
            "\u001b[2K     \u001b[90m━━━━━━━━━━━━━━━━━━━━━━━━━━━━━━━━━━━━━━━━\u001b[0m \u001b[32m3.4/3.4 MB\u001b[0m \u001b[31m73.0 MB/s\u001b[0m eta \u001b[36m0:00:00\u001b[0m\n",
            "\u001b[?25hCollecting watchfiles>=0.13 (from uvicorn[standard]>=0.18.3->chromadb)\n",
            "  Downloading watchfiles-0.21.0-cp310-cp310-manylinux_2_17_x86_64.manylinux2014_x86_64.whl (1.3 MB)\n",
            "\u001b[2K     \u001b[90m━━━━━━━━━━━━━━━━━━━━━━━━━━━━━━━━━━━━━━━━\u001b[0m \u001b[32m1.3/1.3 MB\u001b[0m \u001b[31m62.8 MB/s\u001b[0m eta \u001b[36m0:00:00\u001b[0m\n",
            "\u001b[?25hCollecting websockets>=10.4 (from uvicorn[standard]>=0.18.3->chromadb)\n",
            "  Downloading websockets-12.0-cp310-cp310-manylinux_2_5_x86_64.manylinux1_x86_64.manylinux_2_17_x86_64.manylinux2014_x86_64.whl (130 kB)\n",
            "\u001b[2K     \u001b[90m━━━━━━━━━━━━━━━━━━━━━━━━━━━━━━━━━━━━━━━━\u001b[0m \u001b[32m130.2/130.2 kB\u001b[0m \u001b[31m18.0 MB/s\u001b[0m eta \u001b[36m0:00:00\u001b[0m\n",
            "\u001b[?25hRequirement already satisfied: soupsieve>1.2 in /usr/local/lib/python3.10/dist-packages (from beautifulsoup4->unstructured) (2.5)\n",
            "Requirement already satisfied: joblib in /usr/local/lib/python3.10/dist-packages (from nltk->unstructured) (1.4.2)\n",
            "Requirement already satisfied: threadpoolctl>=2.0.0 in /usr/local/lib/python3.10/dist-packages (from scikit-learn->sentence-transformers) (3.5.0)\n",
            "Collecting deepdiff>=6.0 (from unstructured-client->unstructured)\n",
            "  Downloading deepdiff-7.0.1-py3-none-any.whl (80 kB)\n",
            "\u001b[2K     \u001b[90m━━━━━━━━━━━━━━━━━━━━━━━━━━━━━━━━━━━━━━━━\u001b[0m \u001b[32m80.8/80.8 kB\u001b[0m \u001b[31m12.0 MB/s\u001b[0m eta \u001b[36m0:00:00\u001b[0m\n",
            "\u001b[?25hCollecting jsonpath-python>=1.0.6 (from unstructured-client->unstructured)\n",
            "  Downloading jsonpath_python-1.0.6-py3-none-any.whl (7.6 kB)\n",
            "Collecting mypy-extensions>=1.0.0 (from unstructured-client->unstructured)\n",
            "  Downloading mypy_extensions-1.0.0-py3-none-any.whl (4.7 kB)\n",
            "Collecting ordered-set<4.2.0,>=4.1.0 (from deepdiff>=6.0->unstructured-client->unstructured)\n",
            "  Downloading ordered_set-4.1.0-py3-none-any.whl (7.6 kB)\n",
            "Collecting dnspython>=2.0.0 (from email_validator>=2.0.0->fastapi>=0.95.2->chromadb)\n",
            "  Downloading dnspython-2.6.1-py3-none-any.whl (307 kB)\n",
            "\u001b[2K     \u001b[90m━━━━━━━━━━━━━━━━━━━━━━━━━━━━━━━━━━━━━━━━\u001b[0m \u001b[32m307.7/307.7 kB\u001b[0m \u001b[31m36.7 MB/s\u001b[0m eta \u001b[36m0:00:00\u001b[0m\n",
            "\u001b[?25hCollecting typer>=0.9.0 (from chromadb)\n",
            "  Downloading typer-0.12.3-py3-none-any.whl (47 kB)\n",
            "\u001b[2K     \u001b[90m━━━━━━━━━━━━━━━━━━━━━━━━━━━━━━━━━━━━━━━━\u001b[0m \u001b[32m47.2/47.2 kB\u001b[0m \u001b[31m6.7 MB/s\u001b[0m eta \u001b[36m0:00:00\u001b[0m\n",
            "\u001b[?25hCollecting shellingham>=1.3.0 (from typer>=0.9.0->chromadb)\n",
            "  Downloading shellingham-1.5.4-py2.py3-none-any.whl (9.8 kB)\n",
            "Requirement already satisfied: rich>=10.11.0 in /usr/local/lib/python3.10/dist-packages (from typer>=0.9.0->chromadb) (13.7.1)\n",
            "Requirement already satisfied: cachetools<6.0,>=2.0.0 in /usr/local/lib/python3.10/dist-packages (from google-auth>=1.0.1->kubernetes>=28.1.0->chromadb) (5.3.3)\n",
            "Requirement already satisfied: pyasn1-modules>=0.2.1 in /usr/local/lib/python3.10/dist-packages (from google-auth>=1.0.1->kubernetes>=28.1.0->chromadb) (0.4.0)\n",
            "Requirement already satisfied: rsa<5,>=3.1.4 in /usr/local/lib/python3.10/dist-packages (from google-auth>=1.0.1->kubernetes>=28.1.0->chromadb) (4.9)\n",
            "Requirement already satisfied: zipp>=0.5 in /usr/local/lib/python3.10/dist-packages (from importlib-metadata<=7.0,>=6.0->opentelemetry-api>=1.2.0->chromadb) (3.18.1)\n",
            "Requirement already satisfied: MarkupSafe>=2.0 in /usr/local/lib/python3.10/dist-packages (from jinja2>=2.11.2->fastapi>=0.95.2->chromadb) (2.1.5)\n",
            "Collecting jsonpointer>=1.9 (from jsonpatch<2.0,>=1.33->langchain-core<0.2.0,>=0.1.52->langchain)\n",
            "  Downloading jsonpointer-2.4-py2.py3-none-any.whl (7.8 kB)\n",
            "Requirement already satisfied: markdown-it-py>=2.2.0 in /usr/local/lib/python3.10/dist-packages (from rich>=10.11.0->typer>=0.9.0->chromadb) (3.0.0)\n",
            "Requirement already satisfied: pygments<3.0.0,>=2.13.0 in /usr/local/lib/python3.10/dist-packages (from rich>=10.11.0->typer>=0.9.0->chromadb) (2.16.1)\n",
            "Collecting humanfriendly>=9.1 (from coloredlogs->onnxruntime>=1.14.1->chromadb)\n",
            "  Downloading humanfriendly-10.0-py2.py3-none-any.whl (86 kB)\n",
            "\u001b[2K     \u001b[90m━━━━━━━━━━━━━━━━━━━━━━━━━━━━━━━━━━━━━━━━\u001b[0m \u001b[32m86.8/86.8 kB\u001b[0m \u001b[31m11.8 MB/s\u001b[0m eta \u001b[36m0:00:00\u001b[0m\n",
            "\u001b[?25hRequirement already satisfied: mpmath>=0.19 in /usr/local/lib/python3.10/dist-packages (from sympy->onnxruntime>=1.14.1->chromadb) (1.3.0)\n",
            "Requirement already satisfied: mdurl~=0.1 in /usr/local/lib/python3.10/dist-packages (from markdown-it-py>=2.2.0->rich>=10.11.0->typer>=0.9.0->chromadb) (0.1.2)\n",
            "Requirement already satisfied: pyasn1<0.7.0,>=0.4.6 in /usr/local/lib/python3.10/dist-packages (from pyasn1-modules>=0.2.1->google-auth>=1.0.1->kubernetes>=28.1.0->chromadb) (0.6.0)\n",
            "Building wheels for collected packages: pypika, langdetect\n",
            "  Building wheel for pypika (pyproject.toml) ... \u001b[?25l\u001b[?25hdone\n",
            "  Created wheel for pypika: filename=PyPika-0.48.9-py2.py3-none-any.whl size=53724 sha256=66d41e5fb26a5005c06dacf79653777b756ac9f17898c37f80fda8b888394fe3\n",
            "  Stored in directory: /root/.cache/pip/wheels/e1/26/51/d0bffb3d2fd82256676d7ad3003faea3bd6dddc9577af665f4\n",
            "  Building wheel for langdetect (setup.py) ... \u001b[?25l\u001b[?25hdone\n",
            "  Created wheel for langdetect: filename=langdetect-1.0.9-py3-none-any.whl size=993227 sha256=c03b1be819c8c587ec290435f036a5d9fbb405f9429e74784c616d622fb473a6\n",
            "  Stored in directory: /root/.cache/pip/wheels/95/03/7d/59ea870c70ce4e5a370638b5462a7711ab78fba2f655d05106\n",
            "Successfully built pypika langdetect\n",
            "Installing collected packages: pypika, monotonic, mmh3, filetype, websockets, uvloop, ujson, shellingham, rapidfuzz, python-multipart, python-magic, python-iso639, python-dotenv, pypdf, packaging, overrides, orjson, ordered-set, opentelemetry-util-http, opentelemetry-semantic-conventions, opentelemetry-proto, nvidia-nvtx-cu12, nvidia-nvjitlink-cu12, nvidia-nccl-cu12, nvidia-curand-cu12, nvidia-cufft-cu12, nvidia-cuda-runtime-cu12, nvidia-cuda-nvrtc-cu12, nvidia-cuda-cupti-cu12, nvidia-cublas-cu12, mypy-extensions, langdetect, jsonpointer, jsonpath-python, importlib-metadata, humanfriendly, httptools, h11, emoji, dnspython, deprecated, chroma-hnswlib, bcrypt, backoff, asgiref, watchfiles, uvicorn, typing-inspect, tiktoken, starlette, posthog, opentelemetry-exporter-otlp-proto-common, opentelemetry-api, nvidia-cusparse-cu12, nvidia-cudnn-cu12, marshmallow, jsonpatch, httpcore, email_validator, deepdiff, coloredlogs, typer, opentelemetry-sdk, opentelemetry-instrumentation, onnxruntime, nvidia-cusolver-cu12, langsmith, kubernetes, httpx, dataclasses-json, unstructured-client, opentelemetry-instrumentation-asgi, opentelemetry-exporter-otlp-proto-grpc, openai, langchain-core, unstructured, sentence-transformers, opentelemetry-instrumentation-fastapi, langchain-text-splitters, langchain-openai, langchain-community, langchain, fastapi-cli, fastapi, chromadb, langchain_chroma\n",
            "  Attempting uninstall: packaging\n",
            "    Found existing installation: packaging 24.0\n",
            "    Uninstalling packaging-24.0:\n",
            "      Successfully uninstalled packaging-24.0\n",
            "  Attempting uninstall: importlib-metadata\n",
            "    Found existing installation: importlib_metadata 7.1.0\n",
            "    Uninstalling importlib_metadata-7.1.0:\n",
            "      Successfully uninstalled importlib_metadata-7.1.0\n",
            "  Attempting uninstall: typer\n",
            "    Found existing installation: typer 0.9.4\n",
            "    Uninstalling typer-0.9.4:\n",
            "      Successfully uninstalled typer-0.9.4\n",
            "\u001b[31mERROR: pip's dependency resolver does not currently take into account all the packages that are installed. This behaviour is the source of the following dependency conflicts.\n",
            "spacy 3.7.4 requires typer<0.10.0,>=0.3.0, but you have typer 0.12.3 which is incompatible.\n",
            "weasel 0.3.4 requires typer<0.10.0,>=0.3.0, but you have typer 0.12.3 which is incompatible.\u001b[0m\u001b[31m\n",
            "\u001b[0mSuccessfully installed asgiref-3.8.1 backoff-2.2.1 bcrypt-4.1.3 chroma-hnswlib-0.7.3 chromadb-0.5.0 coloredlogs-15.0.1 dataclasses-json-0.6.6 deepdiff-7.0.1 deprecated-1.2.14 dnspython-2.6.1 email_validator-2.1.1 emoji-2.11.1 fastapi-0.111.0 fastapi-cli-0.0.3 filetype-1.2.0 h11-0.14.0 httpcore-1.0.5 httptools-0.6.1 httpx-0.27.0 humanfriendly-10.0 importlib-metadata-7.0.0 jsonpatch-1.33 jsonpath-python-1.0.6 jsonpointer-2.4 kubernetes-29.0.0 langchain-0.1.20 langchain-community-0.0.38 langchain-core-0.1.52 langchain-openai-0.1.7 langchain-text-splitters-0.0.2 langchain_chroma-0.1.1 langdetect-1.0.9 langsmith-0.1.59 marshmallow-3.21.2 mmh3-4.1.0 monotonic-1.6 mypy-extensions-1.0.0 nvidia-cublas-cu12-12.1.3.1 nvidia-cuda-cupti-cu12-12.1.105 nvidia-cuda-nvrtc-cu12-12.1.105 nvidia-cuda-runtime-cu12-12.1.105 nvidia-cudnn-cu12-8.9.2.26 nvidia-cufft-cu12-11.0.2.54 nvidia-curand-cu12-10.3.2.106 nvidia-cusolver-cu12-11.4.5.107 nvidia-cusparse-cu12-12.1.0.106 nvidia-nccl-cu12-2.19.3 nvidia-nvjitlink-cu12-12.4.127 nvidia-nvtx-cu12-12.1.105 onnxruntime-1.17.3 openai-1.30.1 opentelemetry-api-1.24.0 opentelemetry-exporter-otlp-proto-common-1.24.0 opentelemetry-exporter-otlp-proto-grpc-1.24.0 opentelemetry-instrumentation-0.45b0 opentelemetry-instrumentation-asgi-0.45b0 opentelemetry-instrumentation-fastapi-0.45b0 opentelemetry-proto-1.24.0 opentelemetry-sdk-1.24.0 opentelemetry-semantic-conventions-0.45b0 opentelemetry-util-http-0.45b0 ordered-set-4.1.0 orjson-3.10.3 overrides-7.7.0 packaging-23.2 posthog-3.5.0 pypdf-4.2.0 pypika-0.48.9 python-dotenv-1.0.1 python-iso639-2024.4.27 python-magic-0.4.27 python-multipart-0.0.9 rapidfuzz-3.9.0 sentence-transformers-2.7.0 shellingham-1.5.4 starlette-0.37.2 tiktoken-0.7.0 typer-0.12.3 typing-inspect-0.9.0 ujson-5.10.0 unstructured-0.13.7 unstructured-client-0.22.0 uvicorn-0.29.0 uvloop-0.19.0 watchfiles-0.21.0 websockets-12.0\n"
          ]
        }
      ]
    },
    {
      "cell_type": "markdown",
      "source": [
        "# OpenAI API Key 설정"
      ],
      "metadata": {
        "id": "2J_c-XcBVGSi"
      }
    },
    {
      "cell_type": "code",
      "source": [
        "OPENAI_KEY = \"여러분의_OPENAI_API_KEY\""
      ],
      "metadata": {
        "id": "Te8R0rpGv8zz"
      },
      "execution_count": null,
      "outputs": []
    },
    {
      "cell_type": "code",
      "source": [
        "from langchain.document_loaders import PyPDFLoader"
      ],
      "metadata": {
        "id": "ecL5_StX_Wts"
      },
      "execution_count": null,
      "outputs": []
    },
    {
      "cell_type": "code",
      "source": [
        "from langchain.retrievers.multi_vector import MultiVectorRetriever"
      ],
      "metadata": {
        "id": "J_HkdaV9TvcS"
      },
      "execution_count": null,
      "outputs": []
    },
    {
      "cell_type": "code",
      "source": [
        "from langchain.storage import InMemoryByteStore\n",
        "from langchain_chroma import Chroma\n",
        "from langchain_community.document_loaders import TextLoader\n",
        "from langchain_openai import OpenAIEmbeddings\n",
        "from langchain_text_splitters import RecursiveCharacterTextSplitter"
      ],
      "metadata": {
        "id": "qu5CVcttTvX6"
      },
      "execution_count": null,
      "outputs": []
    },
    {
      "cell_type": "code",
      "source": [
        "loaders = [\n",
        "    PyPDFLoader(\"https://snuac.snu.ac.kr/2015_snuac/wp-content/uploads/2015/07/asiabrief_3-26.pdf\")\n",
        "]\n",
        "docs = []\n",
        "for loader in loaders:\n",
        "    docs.extend(loader.load())\n",
        "text_splitter = RecursiveCharacterTextSplitter(chunk_size=10000)\n",
        "docs = text_splitter.split_documents(docs)"
      ],
      "metadata": {
        "id": "8YLq-m8TKQLS"
      },
      "execution_count": null,
      "outputs": []
    },
    {
      "cell_type": "code",
      "source": [
        "docs"
      ],
      "metadata": {
        "colab": {
          "base_uri": "https://localhost:8080/"
        },
        "id": "uTmwMKziADVM",
        "outputId": "98c0acc9-6dcc-4c7c-8888-61e450c69576"
      },
      "execution_count": null,
      "outputs": [
        {
          "output_type": "execute_result",
          "data": {
            "text/plain": [
              "[Document(page_content='Seoul National University Asia Center1\\n2023년 5월 22일, 3권 26호 (통권 116호)\\n한국의 출산율은 어디가 바닥인가? \\n0.78명! 2022년 대한민국의 합계출산율이다. 인구가 증가나 감소하\\n지 않고 고령화도 되지 않는 이른바 안정인구(Stable Population)를 \\n보유하기 위해서는 합계출산율이 인구대체수준인 2.1명에서 장기적\\n으로 유지되어야 한다. 그런데 1/3 정도만 인구를 대체할 수 있는 출\\n산율이 장기적으로 지속된다면 그만큼 우리나라 인구는 급속하게 감\\n소하고 고령화될 것이다. \\n이와 같은 인구학적 재생산(Reproduction) 붕괴는 저절로 회복되지 \\n않는다. 이론들에 따르면 출산율이 0명에 이를 수도 있다. 대표적으\\n로 이스터린(Easterlin, 1978)의 상대적 소득가설(Relative Income \\nHypothesis)에 의하면, 부부가 충분한 자원을 가지고 있지 못한 경우 출산을 주저하게 되는데, 기대되는 상대적인 소득과 자원에 따라 \\n출산율은 0명까지 감소할 가능성을 배제할 수 없다. 베커의 신가정경\\n제출산력모형(New Home Economics Model of Fertility)에 따르면, \\n자녀에 대한 만족은 자녀의 수가 아닌 자녀의 질을 통해 추구하는데 \\n자녀  양육에는 보다 많은 시간 투입이 요구된다. 인적자본이 중시되\\n는 현대사회에서 개인은 시간가치를 증가시키기 위해 자녀 양육보다 \\n시간이 덜 소요되는 것들을 선호하게 된다. \\n한국 초저출산의 원인구조\\n한국에서 재생산 위기는 ‘결혼’에서부터 시작된다. 한국은 세계 경제 \\n10위권, IT(Information Technology) 강국 등으로 알려져 있지만, \\n<그림 1> 출산율 감소와 신생아 수를 넘어선 고령인구\\n초저출산현상 극복과 인구구조 변화 대응\\n# 이삼식    한양대학교\\n한국의 합계출산율은 2022년 0.78명으로 장기간 초저출산현상 지속은 인구의 지속가능성에 위협이 되고 있다. 저출산 대책은 다양\\n한 복합적인 원인들을 해소할 수 있도록 종합적으로 장기간 일관성 있게 추진되어야 한다. 학령인구 감소, 노동력 부족, 사회보장 부담 \\n증가 등 인구구조 변화에 대한 철저한 대응이 필요하다. 출산율 회복과 인구구조 변화에 대한 적응은 양자택일의 문제가 아니라 동시에 \\n추구하여야 할 사회 목표들인 것이다. Summary Of Article', metadata={'source': 'https://snuac.snu.ac.kr/2015_snuac/wp-content/uploads/2015/07/asiabrief_3-26.pdf', 'page': 0}),\n",
              " Document(page_content='세계를 잇다, 미래를 빚다!2전통적인 가부장적 유교문화의 영향이 지속되고 있어 법률에 따르지 \\n않는 가족 형성은 인정되지 않고 있다. 따라서 출산은 법률혼을 전제\\n로 발생한다. 그런데 한국 사회에서 결혼은 각종 조건을 충족시킬 때 \\n가능하다. 학력, 학벌, 안정적 직장, 주거 등이 갖추어져야 결혼을 할 \\n수 있고, 결혼 후에도 안정적인 가족생활이 가능하다. 그만큼 청년들\\n은 ‘출산’에 앞서 ‘결혼’의 어려움을 직면하고 있다. 결혼의 관문을 통\\n과하기 어려워지면서 만혼 경향이 증가하고, 결혼 자체를 기피하는 \\n비혼도 증가하고 있다. \\n과거와 달리 결혼과 출산 간 연계도 점차 약화되고 있다. 결혼이 반\\n드시 출산으로 이어지지 않고 있는 것이다. 딩크족(Double Income \\nNot Kids)과 같이 결혼생활이 자녀 중심에서 부부 중심으로 변화하\\n는 경향도 있지만, 무엇보다도 자녀 양육에 비용이 발생하여 큰 부담\\n으로 인식되고 있기 때문이다. 자녀 양육 비용은 의료·보육·(사)교육 \\n등에 관한 서비스를 구매하기 위한 경제적 비용, 돌봄, 일-가정 양립 \\n등을 위한 시간 비용, 출산·양육으로 인한 고용 등에서 기회비용 등\\n을 포함한다. 이러한 미시적인 원인들은 개인 또는 부부가 출산을 결\\n정하는 데 직접적인 영향을 미친다. 출산은 미시적인 원인들 뿐 아니\\n라 거시적인 사회구조에 의해서도 영향을 받는다. 일자리 부족과 고\\n용 불안정, 높은 주거비용, 과도한 교육 경쟁(학력주의와 학벌주의 만\\n연), 양성 불평등, 사회규범 및 가치관의 변화 등이 출산에 영향을 미\\n치는 거시적인 요소들이다. 미시적인 요인들 대부분 거시적 요인들\\n에 의해 영향을 받는다. 예를 들어, 고용에서 학력주의와 학벌주의 만\\n연은 사교육비를 증가시켜 자녀 양육의 경제적 부담을 높이고 있다. 출산율 회복에 성공한 국가로부터의 교훈\\n이와 같이 저출산의 원인들이 명백하게 규명되고 있다는 점에서 저\\n출산은 극복이 가능한 현상으로 간주할 수 있다. 실례로 서구 국가들 \\n중 프랑스, 스웨덴, 영국 등은 저출산 현상을 극복한 국가들로 알려져 \\n있다. 우리나라는 15년 이상 저출산 대책이 추진되고 있음에도 불구\\n하고 출산율은 오히려 더 낮아져 최근에는 0명대를 기록하고 있다. \\n저출산 대책은 다양한 복합적인 원인들을 해소할 수 있도록 종합적\\n으로 그리고 장기간에 걸쳐 일관성 있게 추진되어야 한다. 그러나 우\\n리나라 저출산 대책에는 반드시 필요한 정책들이 누락되어 있는 문\\n제, 필요한 정책들이 포함되고 있을지라도 사각지대가 크거나 급여 \\n등이 충분하지 않은 문제들을 가지고 있다. \\n이와 관련, 초저출산현상을 멈추기 위해서는 세 가지의 근본적인 노\\n력이 긴요하다. \\n첫 번째로 과도한 경쟁사회를 지양하기 위하여 노동시장을 개혁하여\\n야 한다. 사실 한국 사회에서 만연하는 저출산 원인들은 다소 차이가 \\n있을지라도 OECD 국가나 동유럽 국가들 일부도 직면하고 있다. 그\\n럼에도 불구하고, 유독 한국 사회에서 합계출산율이 0명대로 치닫고 \\n있는 점은 직접적인 저출산 원인들 이외의 요소가 작동하고 있는 것\\n으로 설명할 수 있다. 대표적으로 단기간에 이룩하였던 고도 경제성\\n장의 후유증으로 삶의 목표가 성공이나 물질적인 것을 추구하는 데 \\n집중되었으며, 이를 위해 어린 시절부터 무한 경쟁사회 속에서 살아\\n가면서 여유 없이 쫓기고 있다. 이로 인해 자녀 양육은 무한 경쟁의 \\n연속선상에서 막대한 비용을 들여야 한다는 강박관념 때문에 행복보\\n다는 부담으로 인식되고 있다. 따라서 노동 개혁을 통해 그간 관행으\\n<그림 2> OECD 국가의 합계출산율 추이 \\n출처; OECD (2023). Fertility rates (indicator). doi: 10.1 787/8272fb01-en (Accessed on 09 May 2023) \\n주) 한국은 합계출산율을 2022년까지 발표하였으나, OECD 국가 대부분 2020년까지 발표하였음. 따라서, 2020년 OECD 기준 한국의 합계출산율은 0.84임.', metadata={'source': 'https://snuac.snu.ac.kr/2015_snuac/wp-content/uploads/2015/07/asiabrief_3-26.pdf', 'page': 1}),\n",
              " Document(page_content='Seoul National University Asia Center3로 고착화된 학력, 학벌, 젠더, 출신 지역 등에 따른 불합리한 차별을 \\n불식시키도록 해야 한다. 구체적으로 학력이나 학벌 등을 이유로 한 \\n고용기회나 승진 및 임금 등에서 차별을 없애고, 대신 능력을 우선시\\n하는 원칙이 통용되도록 한다. \\n두 번째로 자녀 양육의 생애주기와 연계된 사회구조 및 관행(문화)\\n을 개선하는 것이다. 주택가격을 안정화하고, 초장기 저리 공공주택\\n의 공급을 늘려 자기 집 마련이 인생의 목표가 되지 않도록 하여야 한\\n다. 노후가 보장되도록 공적보장체계를 강화하여 생애과정에서 자녀 \\n양육과 노후 대비가 충돌하지 않도록 할 필요가 있다. 사회문화 및 규\\n범에 관한 접근도 중요하다. 교육과 경제활동 참여도가 높아진 데다\\n가 고용 불안정, 결혼에 따른 노동시장에서의 차별, 가치관 변화 등\\n으로 인해 결혼이 더욱더 지체되면서 미혼 기간이 길어지고 있다. 이\\n로 인해 동거 등 사실혼적 관계가 증가하고, 이들로부터 출산이 발생\\n하기도 한다. 서구 국가들은 오래전부터 비혼 출산에 대한 사회적 보\\n호를 강화하기 위한 법들을 제정, 시행해오고 있다. 프랑스의 시민연\\n대계약(pacte civil de solidarit é, PACS), 독일의 생활동반자관계법\\n(Lebenspartnerschaftsgesetz), 스웨덴의 삼보법(samboavtal), 네\\n덜란드의 동반자등록(geregistered partnerschap) 등이 대표적이\\n다. 우리나라에서도 동거 커플의 권리와 의무를 규정하는 법령을 제\\n정할 필요가 있다. 이는 동거 커플이 법률혼으로 이행하는 데 긍정적\\n인 역할을 할 뿐 아니라 인공임신중절 예방, 영유아 유기·학대, 아동 \\n빈곤의 세습화 등을 예방하는 데에도 중요하다. \\n세 번째로 미시적인 접근에도 충실해야 한다. 미시적인 접근에는 필\\n요한 정책들을 신규 도입하는 것은 물론 기존 정책들의 수준을 현실화하여야 과제들이 포함된다. 우선 자녀 양육 지원은 대부분 미취학 \\n시기에 집중되어 있다. 임신·출산 의료지원, 출산전후휴가, 육아휴\\n직, 돌봄, 보육 등이 해당된다. 최근 들어 초등학교 저학년까지 돌봄\\n이 확대되고 아동수당이 지급되고 있으나, 이후 양육에 소요되는 비\\n용 등에 대한 지원은 단절된 상태이다. 서구사회에서와 같이 자녀 양\\n육을 아동의 생애주기에 따라 체계적으로 지원하기 위하여 아동수\\n당, 교육수당 등을 16세 또는 18세까지 연장할 필요가 있다. 아동수\\n당도 월 10만 원에서 2~3배를 증액하여 물가 등과 연동하여 현실화\\n할 필요가 있다. \\n현행 일가정양립 지원정책은 사각지대, 충분성 결여, 연계성 부족 등\\n의 문제점들로 인해 효과성을 담보하기 곤란한 실정이다. 즉, 부모의 \\n시간에 대한 지원을 보다 확대할 필요가 있다. 출산전후휴가나 육아\\n휴직을 이용할 수 있는 대상은 공무원이나 고용보험 가입자에 한정\\n된다. 1인 사업자, 특수형태 근로자 및 자유계약자(출산 전 18개월 \\n중 3개월 이상 소득 활동을 한 경우) 등 일정한 고용보험 미적용자에 \\n대해서는 출산 급여(50만 원, 3개월)를 지급하고 있다. 그러나 근본\\n적인 방법으로 근로 방식이나 계약 형태와 관계없이 일하는 모든 부\\n와 모가 육아휴직 등을 이용할 수 있도록 부모보험을 도입할 필요가 \\n있다. 육아휴직 이용 기간을 6개월, 9개월, 12개월, 18개월 등으로 \\n구분하고, 이용 기간에 따라 육아휴직 급여율을 차등적으로 적용하\\n여 이용자가 자신의 상황에 따라 자유로이 선택할 수 있도록 한다. 육\\n아휴직 등 직장 경력의 공백을 전제로 하는 제도들 이외에 일하면서 \\n육아를 할 수 있는 육아기근로시간단축제, 육아재택제도 등을 활성\\n화하여 돌봄 공백과 경력단절의 두려움을 해소해주도록 한다. 이러\\n한 제도들과 어린이집 이용 시간 등 간 연계를 강화하여 시간의 사각\\n<그림 3> 프랑스 합계출산율 추이와 대책 변천', metadata={'source': 'https://snuac.snu.ac.kr/2015_snuac/wp-content/uploads/2015/07/asiabrief_3-26.pdf', 'page': 2}),\n",
              " Document(page_content='세계를 잇다, 미래를 빚다!4지대를 없애도록 한다. 무엇보다도 출산과 양육에 친화적인 직장문\\n화를 조성하여야 한다. \\n인구구조 변화에 대응해야\\n우리나라는 이미 20년 이상 동안 초저출산현상(합계출산율 1.3명 \\n이하)을 겪고 있다. 적어도 당분간 ‘저출산의 덫’에서 빠져나올 수 있\\n을 것으로 기대하기 어렵다. 저출산 대책들이 실효성을 거두기 시작\\n할지라도 언제부터 얼마나 빠른 속도로 어느 수준까지 출산율이 높\\n아질 것으로 예상하기도 어렵다. 결국 우리나라 인구는 급속하게 감\\n소하고, 고령화될 것이다. 따라서 저출산 대책을 더욱 강화하는 동시\\n에 인구감소 및 고령화에 대해서도 철저하게 대응하여야 한다. 인구\\n감소 및 고령화가 사회에 미치는 파장은 크게 학교 붕괴, 병력자원 부\\n족, 노동력 부족, 사회보장 부담 증가 등을 들 수 있다. \\n학령인구 감소에 따른 학생 수 감소는 초등학교, 중학교, 고등학교 및 \\n대학교에까지 영향을 미치고 있다. 과거 고출산 시기에 태어난 세대\\n를 위해 건립하였던 학교 시설과 교사 양성 인프라(교육대학 등)는 과\\n잉 시설이 되면서 통폐합이 진행되고 있다. 폐교는 단순하게 잉여 시\\n설의 처분만을 의미하지 않는다. 폐교로 아동이 있는 가족은 그 지역\\n으로 이주해오지 않을 것이며, 아동들을 상대로 하는 가게나 시설 역\\n시 폐쇄하거나 다른 지역으로 떠날 수밖에 없다. 이와 같이 폐교는 지\\n방소멸을 유발하고 가속화시키는 주요한 요인이 된다. 학생들의 사\\n회성 발달, 교육행정 효율성 등에 불리한 학생희소학교의 문제를 최\\n소화하기 위해 초·중 또는 중·고 통합학교나 학교 간 통합수업을 활\\n성화해야 한다. 지방대학의 경쟁력을 확보하기 위해 교육부의 권한\\n을 지자체에 이양하는 동시에 중앙정부 차원에서 지방대학과 산업 \\n간 연계를 강화하기 위한 투자를 과감하게 늘릴 필요가 있다. 종합대\\n학이 보편적인 대학 체계를 일부 단과대학 중심의 특성화 대학으로 \\n전환하여 학생 수가 적으나 강한 대학들이 지역적으로 균등하게 배\\n치될 필요가 있다. \\n출생아 수 감소는 징병 대상 인구의 감소를 가져와 병력자원 부족을 \\n초래한다. 이에 대응하기 위하여 4차 산업혁명 핵심기술 등을 이용\\n하여 병력 대체용 첨단 무기(전방 감시 등)를 개발하고, 기술병 등 일\\n정한 자원에 대해서는 모병제를 도입하는 이른바 혼합병제를 채택할 \\n필요가 있다. \\n생산가능인구(15~49세)가 감소하여도 베이비붐세대(1955~1974\\n년 출생 인구)가 여전히 노동시장에서 활동하고 있어 당분간 노동력\\n은 공급과잉 상태를 유지할 것이다. 그러나 베이비붐세대 대부분이 노동시장에 이탈하는 2030년대 중반경부터 수요에 비해 노동력 공\\n급이 본격적으로 부족하기 시작할 것이다. 노동인구의 구매력이 노\\n인인구에 비해 상대적으로 높다는 점에서 노동력 부족은 생산 인구 \\n부족뿐 아니라 소비 인구 부족 즉, 내수 위축으로도 이어져 경제성장\\n을 둔화시킬 것이다. 노동력 부족에 대응하기 위해서는 근본적으로 \\n출산율 회복이 필수적이다. 다른 한편으로 잠재 인력의 활용을 극대\\n화할 필요가 있다. 50%대에 머물고 있는 여성 고용률을 스웨덴 등 \\n선진국의 수준(70~80%대)으로 높이도록 한다. 이를 위해서는 노동\\n시장에서의 젠더 차별 불식, 일가정양립 환경 조성 등이 선결되어야 \\n할 것이다. 고령화가 빠르게 진행되고 있으나 고령인구의 학력과 직\\n업력이 높아지고 건강이 개선되고 있다는 점에서 정년 연장 내지 폐\\n지를 통해 고령인구가 보다 오랫동안 노동시장에 남아서 역할을 하\\n도록 한다. 외국인 노동력 유입도 노동력 부족에 대처하기 위한 중요\\n한 전략이 될 수 있다. 이미 중소기업, 농업 등에서는 내국인의 3D 업\\n종 기피 등으로 인하여 노동력이 부족하며, 이러한 빈자리를 단기 외\\n국인 노동자로 해소하고 있다. 미래에는 단기 외국인 노동자들도 확\\n보하기 어려울 수 있다. 동남아 국가 등도 이미 저출산과 고령화가 시\\n작되어 장기적으로 우리나라에 자국의 노동자들을 보낼 수 있는 여\\n력이 없어질 것이기 때문이다. 일부에서는 영주 목적의 장기 이민자\\n의 유입이 필요하다는 주장이 제기되기도 한다. 최근의 초저출산현\\n상이 장기적으로 지속된다면 여성인력이나 고령인력만으로 필요 인\\n력 내지 안정적인 인구구조를 유지하기 어려울 것이기 때문에 일면 \\n타당하다고 할 수 있다. 그러나 미래로 갈수록 노동집약적 산업 중심\\n에서 지식기반 산업 중심으로 산업구조가 변화할 것이라는 사실이\\n다. 이민자들도 한국 사회의 저출산현상에 편승하고 자신들은 고령\\n화된다면 오히려 인구구조에 부정적인 영향을 미친다는 점이다. 그\\n리고 사회통합 비용이 높을 수 있다는 점에서 인구감소 및 고령화에\\n의 대응을 목적으로 하는 장기 이민자 유입에 대해서는 신중할 필요\\n가 있다. 서구의 많은 연구들은 인구 고령화에 대응하기 위한 이민정\\n책은 실효성이 높지 않음을 지적해왔다. 실제 서구 국가들은 제조업 \\n중심의 외국인 노동력 유입을 억제하고, 우수 인력 중심으로 이민을 \\n선별적으로 허용하고 있다. \\n생산가능인구는 감소하나 이들이 부양해야 할 노인인구는 급격하게 \\n증가하여 사회보장 부담이 크게 높아질 것이다. 대표적으로 노인인\\n구 증가로 연금 수령 인구는 증가하나 연금보험료를 납부할 인구는 \\n줄어들어 장기적으로 연금기금은 고갈될 것이다. 건강보험이나 장기\\n요양보험 역시 보험료 이용자는 증가하나 납부자는 감소하여 보험재\\n정의 지속가능성이 약화될 것이다. 이러한 문제를 극복하기 위하여 \\n보험료율과 소득대체율 등을 조정하여야 하나, 보다 근본적인 방법', metadata={'source': 'https://snuac.snu.ac.kr/2015_snuac/wp-content/uploads/2015/07/asiabrief_3-26.pdf', 'page': 3}),\n",
              " Document(page_content=\"Seoul National University Asia Center5발행처: 서울대학교 아시아연구소, HK+메가아시아연구사업단     \\n발행인: 박수진  편집위원장: 박수진  편집위원: 이명무, 김윤호    \\n편집간사: 김정희  편집조교: 박효진, 전민규, 민보미, 최태수, 김용재  디자인: 박종홍\\n연락처: 02-880-2087, snuac.issuebrief@gmail.com   아시아 브리프의 목표\\n· 아시아의 현안 분석과 정책적 함의 제시         \\n· 한국의 아시아 진출 전략 개발         \\n· 메가 아시아 건설을 위한 공론장Tag: 초저출산,미시적접근,사회구조,고령화,인구구조최신 관련 자료\\n ·이삼식 외 (2021). “저출산·고령사회의 효율적 대응을 위한 추진체계 구축방안.” 대통령직속 저출산고령사회위원회. 한양대학교 고령사회연\\n구원. \\n ·이삼식 외 (2020). “저출산에 따른 재정부담 분석 및 대응.” 기획재정부. 한양대학교 고령사회연구원. \\n ·이삼식 (2020). “한국 인구정책 변천과 시대적 함의.” 기획재정부. KDI 글로벌지식협력단지.\\n ·이삼식 외 (2018). “대한민국 중장기 인구정책 방향.” 보건복지부. 한양대학교 고령사회연구원.\\n ·이태훈 (2019). “프랑스 출산율 상승에 긍정적인 영향을 미친 가족정책.” 『국제노동브리프』 12월호, 한국노동연구원.\\n이삼식 (lss2323@hanyang.ac.kr)\\n현) 한양대학교 고령사회연구원 원장, 인구보건복지협회 회장, 국회 저출생 및 인구절벽대응 포럼 자문위원. \\n전) 한국보건사회연구원 저출산고령화대책기획단 단장, 대통령직속 저출산고령사회위원회 정책운영위원회 위원(세대공감분과 \\n      위원장), 한국인구학회 회장.\\n주요 논문과 저서: “Working Conditions Affecting Home Care Workers' Stress and Turnover Intention.”  \\n   Journal of Applied Gerontology  42(4), 2023.\\n  “Impact of older adults' mobility and social participation on life satisfaction in South Korea.”  \\n  Asian Social Work and Policy Review , 2019.\\n  “The National Reproductive Crisis: South Korea’s Fertility Shock.” Korea Journal of Sociology  49(3), 2015.\\n  Issues of Aging and Age Dependency in Post-industrial Societies. Low Fertility Regimes and   \\n  Demographic and Societal Change . Springer International Publishing, 2018.\\n  Lowest-low fertility and policy responses in South Korea. Low and lower fertility: Variations across  \\n  developed countries . Springer International Publishing, 2015.으로 인구고령화 수준이 30% 등 일정 수준을 넘지 않도록 출산율을 \\n회복하는 노력이 중요하다. 이와 동시에 정년 연장을 통해 적어도 60\\n대 인구가 연금, 건강보험 등 사회보장의 수급자적 위치에서 납부자\\n적 위치로 전환할 필요가 있다.\\n출산율 회복과 인구구조 변화 대응은 양자택일이 \\n아닌 양자병행 과제\\n최근 한국 사회에서 출산율이 0명대로 급락하면서 출산율 회복에 대\\n한 회의감이 증가하고 있다. 그 영향으로 출산율 회복을 위한 의지와 노력이 약화되고 대신 인구감소 및 고령화에 적응하여야 한다는 논\\n의가 활발하다. 그러나 출산율 회복 없는 인구변화에 대한 대응은 높\\n은 비용과 고통을 수반할 것이다. 그렇다고 출산율이 단기간 내 급격\\n하게 회복할 수 없다는 점에서 인구변화에 대한 적응을 소홀히 할 수 \\n없다. 결국 출산율 회복과 인구변화에 대한 적응은 양자택일의 문제\\n가 아니라 동시에 추구하여야 할 사회 목표들인 것이다. 출산율 회복\\n은 인구변화 적응 비용을 줄이며, 인구변화에 대한 성공적인 적응(예\\n를 들어, 노후 보장 등)은 출산율 회복에 긍정적인 역할을 하는 시너\\n지 효과가 날 것이다.\", metadata={'source': 'https://snuac.snu.ac.kr/2015_snuac/wp-content/uploads/2015/07/asiabrief_3-26.pdf', 'page': 4})]"
            ]
          },
          "metadata": {},
          "execution_count": 75
        }
      ]
    },
    {
      "cell_type": "code",
      "source": [
        "len(docs)"
      ],
      "metadata": {
        "colab": {
          "base_uri": "https://localhost:8080/"
        },
        "id": "vlhIDiD6AEhw",
        "outputId": "33d858d1-2ad4-47d0-8438-1e86c3b09352"
      },
      "execution_count": null,
      "outputs": [
        {
          "output_type": "execute_result",
          "data": {
            "text/plain": [
              "5"
            ]
          },
          "metadata": {},
          "execution_count": 76
        }
      ]
    },
    {
      "cell_type": "markdown",
      "source": [
        "# Smaller chunks"
      ],
      "metadata": {
        "id": "rCFFXjB2jfb_"
      }
    },
    {
      "cell_type": "markdown",
      "source": [
        "종종 **더 큰 정보 청크를 검색하되, 더 작은 청크를 임베딩하는 것이 유용**할 수 있습니다. 이렇게 하면 임베딩이 의미(Semantic meaning)를 가능한 한 정확하게 포착할 수 있지만, 가능한 많은 컨텍스트를 하위 처리 단계로 전달할 수 있습니다. 이것이 바로 ParentDocumentRetriever가 하는 일입니다. 여기서는 이 과정의 내부 동작을 설명합니다."
      ],
      "metadata": {
        "id": "iF-_UOGrm3FK"
      }
    },
    {
      "cell_type": "code",
      "source": [
        "# The vectorstore to use to index the child chunks\n",
        "vectorstore = Chroma(\n",
        "    collection_name=\"full_documents\", embedding_function=OpenAIEmbeddings(openai_api_key=OPENAI_KEY)\n",
        ")\n",
        "# The storage layer for the parent documents\n",
        "store = InMemoryByteStore()\n",
        "id_key = \"doc_id\"\n",
        "# The retriever (empty to start)\n",
        "retriever = MultiVectorRetriever(\n",
        "    vectorstore=vectorstore,\n",
        "    byte_store=store,\n",
        "    id_key=id_key,\n",
        ")"
      ],
      "metadata": {
        "id": "ixUzwhEwiyEB"
      },
      "execution_count": null,
      "outputs": []
    },
    {
      "cell_type": "code",
      "source": [
        "import uuid\n",
        "\n",
        "doc_ids = [str(uuid.uuid4()) for _ in docs]\n",
        "doc_ids"
      ],
      "metadata": {
        "colab": {
          "base_uri": "https://localhost:8080/"
        },
        "id": "E4flQFWvAga9",
        "outputId": "341e3867-7052-4faa-bd8b-3a27b5499878"
      },
      "execution_count": null,
      "outputs": [
        {
          "output_type": "execute_result",
          "data": {
            "text/plain": [
              "['3c028b45-6395-4460-a34d-8538274144a9',\n",
              " '95b0e38a-1f7d-459b-96a6-1c7520cb34bf',\n",
              " '2731ef4f-1dca-4d46-a5ab-ae35a3e4e8e6',\n",
              " '6501274a-cc47-4c22-aa68-96f036355e0e',\n",
              " '2fc133d3-3f73-4039-8f40-22b7ccb4bb97']"
            ]
          },
          "metadata": {},
          "execution_count": 129
        }
      ]
    },
    {
      "cell_type": "code",
      "source": [
        "# The splitter to use to create smaller chunks\n",
        "child_text_splitter = RecursiveCharacterTextSplitter(chunk_size=400)"
      ],
      "metadata": {
        "id": "r3ILkzgviyB-"
      },
      "execution_count": null,
      "outputs": []
    },
    {
      "cell_type": "code",
      "source": [
        "sub_docs = []\n",
        "for i, doc in enumerate(docs):\n",
        "    _id = doc_ids[i]\n",
        "    _sub_docs = child_text_splitter.split_documents([doc])\n",
        "    for _doc in _sub_docs:\n",
        "        _doc.metadata[id_key] = _id\n",
        "    sub_docs.extend(_sub_docs)"
      ],
      "metadata": {
        "id": "iG-mAuR7ix_s"
      },
      "execution_count": null,
      "outputs": []
    },
    {
      "cell_type": "code",
      "source": [
        "sub_docs"
      ],
      "metadata": {
        "colab": {
          "base_uri": "https://localhost:8080/"
        },
        "id": "KbUvfDAtAmS0",
        "outputId": "a5e956ec-3dbc-4a8c-8c59-1f8707d69a16"
      },
      "execution_count": null,
      "outputs": [
        {
          "output_type": "execute_result",
          "data": {
            "text/plain": [
              "[Document(page_content='Seoul National University Asia Center1\\n2023년 5월 22일, 3권 26호 (통권 116호)\\n한국의 출산율은 어디가 바닥인가? \\n0.78명! 2022년 대한민국의 합계출산율이다. 인구가 증가나 감소하\\n지 않고 고령화도 되지 않는 이른바 안정인구(Stable Population)를 \\n보유하기 위해서는 합계출산율이 인구대체수준인 2.1명에서 장기적\\n으로 유지되어야 한다. 그런데 1/3 정도만 인구를 대체할 수 있는 출\\n산율이 장기적으로 지속된다면 그만큼 우리나라 인구는 급속하게 감\\n소하고 고령화될 것이다. \\n이와 같은 인구학적 재생산(Reproduction) 붕괴는 저절로 회복되지 \\n않는다. 이론들에 따르면 출산율이 0명에 이를 수도 있다. 대표적으', metadata={'source': 'https://snuac.snu.ac.kr/2015_snuac/wp-content/uploads/2015/07/asiabrief_3-26.pdf', 'page': 0, 'doc_id': '3c028b45-6395-4460-a34d-8538274144a9'}),\n",
              " Document(page_content='으로 유지되어야 한다. 그런데 1/3 정도만 인구를 대체할 수 있는 출\\n산율이 장기적으로 지속된다면 그만큼 우리나라 인구는 급속하게 감\\n소하고 고령화될 것이다. \\n이와 같은 인구학적 재생산(Reproduction) 붕괴는 저절로 회복되지 \\n않는다. 이론들에 따르면 출산율이 0명에 이를 수도 있다. 대표적으\\n로 이스터린(Easterlin, 1978)의 상대적 소득가설(Relative Income \\nHypothesis)에 의하면, 부부가 충분한 자원을 가지고 있지 못한 경우 출산을 주저하게 되는데, 기대되는 상대적인 소득과 자원에 따라 \\n출산율은 0명까지 감소할 가능성을 배제할 수 없다. 베커의 신가정경\\n제출산력모형(New Home Economics Model of Fertility)에 따르면,', metadata={'source': 'https://snuac.snu.ac.kr/2015_snuac/wp-content/uploads/2015/07/asiabrief_3-26.pdf', 'page': 0, 'doc_id': '3c028b45-6395-4460-a34d-8538274144a9'}),\n",
              " Document(page_content='Hypothesis)에 의하면, 부부가 충분한 자원을 가지고 있지 못한 경우 출산을 주저하게 되는데, 기대되는 상대적인 소득과 자원에 따라 \\n출산율은 0명까지 감소할 가능성을 배제할 수 없다. 베커의 신가정경\\n제출산력모형(New Home Economics Model of Fertility)에 따르면, \\n자녀에 대한 만족은 자녀의 수가 아닌 자녀의 질을 통해 추구하는데 \\n자녀  양육에는 보다 많은 시간 투입이 요구된다. 인적자본이 중시되\\n는 현대사회에서 개인은 시간가치를 증가시키기 위해 자녀 양육보다 \\n시간이 덜 소요되는 것들을 선호하게 된다. \\n한국 초저출산의 원인구조\\n한국에서 재생산 위기는 ‘결혼’에서부터 시작된다. 한국은 세계 경제', metadata={'source': 'https://snuac.snu.ac.kr/2015_snuac/wp-content/uploads/2015/07/asiabrief_3-26.pdf', 'page': 0, 'doc_id': '3c028b45-6395-4460-a34d-8538274144a9'}),\n",
              " Document(page_content='자녀에 대한 만족은 자녀의 수가 아닌 자녀의 질을 통해 추구하는데 \\n자녀  양육에는 보다 많은 시간 투입이 요구된다. 인적자본이 중시되\\n는 현대사회에서 개인은 시간가치를 증가시키기 위해 자녀 양육보다 \\n시간이 덜 소요되는 것들을 선호하게 된다. \\n한국 초저출산의 원인구조\\n한국에서 재생산 위기는 ‘결혼’에서부터 시작된다. 한국은 세계 경제 \\n10위권, IT(Information Technology) 강국 등으로 알려져 있지만, \\n<그림 1> 출산율 감소와 신생아 수를 넘어선 고령인구\\n초저출산현상 극복과 인구구조 변화 대응\\n# 이삼식    한양대학교\\n한국의 합계출산율은 2022년 0.78명으로 장기간 초저출산현상 지속은 인구의 지속가능성에 위협이 되고 있다. 저출산 대책은 다양', metadata={'source': 'https://snuac.snu.ac.kr/2015_snuac/wp-content/uploads/2015/07/asiabrief_3-26.pdf', 'page': 0, 'doc_id': '3c028b45-6395-4460-a34d-8538274144a9'}),\n",
              " Document(page_content='10위권, IT(Information Technology) 강국 등으로 알려져 있지만, \\n<그림 1> 출산율 감소와 신생아 수를 넘어선 고령인구\\n초저출산현상 극복과 인구구조 변화 대응\\n# 이삼식    한양대학교\\n한국의 합계출산율은 2022년 0.78명으로 장기간 초저출산현상 지속은 인구의 지속가능성에 위협이 되고 있다. 저출산 대책은 다양\\n한 복합적인 원인들을 해소할 수 있도록 종합적으로 장기간 일관성 있게 추진되어야 한다. 학령인구 감소, 노동력 부족, 사회보장 부담 \\n증가 등 인구구조 변화에 대한 철저한 대응이 필요하다. 출산율 회복과 인구구조 변화에 대한 적응은 양자택일의 문제가 아니라 동시에 \\n추구하여야 할 사회 목표들인 것이다. Summary Of Article', metadata={'source': 'https://snuac.snu.ac.kr/2015_snuac/wp-content/uploads/2015/07/asiabrief_3-26.pdf', 'page': 0, 'doc_id': '3c028b45-6395-4460-a34d-8538274144a9'}),\n",
              " Document(page_content='세계를 잇다, 미래를 빚다!2전통적인 가부장적 유교문화의 영향이 지속되고 있어 법률에 따르지 \\n않는 가족 형성은 인정되지 않고 있다. 따라서 출산은 법률혼을 전제\\n로 발생한다. 그런데 한국 사회에서 결혼은 각종 조건을 충족시킬 때 \\n가능하다. 학력, 학벌, 안정적 직장, 주거 등이 갖추어져야 결혼을 할 \\n수 있고, 결혼 후에도 안정적인 가족생활이 가능하다. 그만큼 청년들\\n은 ‘출산’에 앞서 ‘결혼’의 어려움을 직면하고 있다. 결혼의 관문을 통\\n과하기 어려워지면서 만혼 경향이 증가하고, 결혼 자체를 기피하는 \\n비혼도 증가하고 있다. \\n과거와 달리 결혼과 출산 간 연계도 점차 약화되고 있다. 결혼이 반\\n드시 출산으로 이어지지 않고 있는 것이다. 딩크족(Double Income', metadata={'source': 'https://snuac.snu.ac.kr/2015_snuac/wp-content/uploads/2015/07/asiabrief_3-26.pdf', 'page': 1, 'doc_id': '95b0e38a-1f7d-459b-96a6-1c7520cb34bf'}),\n",
              " Document(page_content='은 ‘출산’에 앞서 ‘결혼’의 어려움을 직면하고 있다. 결혼의 관문을 통\\n과하기 어려워지면서 만혼 경향이 증가하고, 결혼 자체를 기피하는 \\n비혼도 증가하고 있다. \\n과거와 달리 결혼과 출산 간 연계도 점차 약화되고 있다. 결혼이 반\\n드시 출산으로 이어지지 않고 있는 것이다. 딩크족(Double Income \\nNot Kids)과 같이 결혼생활이 자녀 중심에서 부부 중심으로 변화하\\n는 경향도 있지만, 무엇보다도 자녀 양육에 비용이 발생하여 큰 부담\\n으로 인식되고 있기 때문이다. 자녀 양육 비용은 의료·보육·(사)교육 \\n등에 관한 서비스를 구매하기 위한 경제적 비용, 돌봄, 일-가정 양립 \\n등을 위한 시간 비용, 출산·양육으로 인한 고용 등에서 기회비용 등', metadata={'source': 'https://snuac.snu.ac.kr/2015_snuac/wp-content/uploads/2015/07/asiabrief_3-26.pdf', 'page': 1, 'doc_id': '95b0e38a-1f7d-459b-96a6-1c7520cb34bf'}),\n",
              " Document(page_content='Not Kids)과 같이 결혼생활이 자녀 중심에서 부부 중심으로 변화하\\n는 경향도 있지만, 무엇보다도 자녀 양육에 비용이 발생하여 큰 부담\\n으로 인식되고 있기 때문이다. 자녀 양육 비용은 의료·보육·(사)교육 \\n등에 관한 서비스를 구매하기 위한 경제적 비용, 돌봄, 일-가정 양립 \\n등을 위한 시간 비용, 출산·양육으로 인한 고용 등에서 기회비용 등\\n을 포함한다. 이러한 미시적인 원인들은 개인 또는 부부가 출산을 결\\n정하는 데 직접적인 영향을 미친다. 출산은 미시적인 원인들 뿐 아니\\n라 거시적인 사회구조에 의해서도 영향을 받는다. 일자리 부족과 고\\n용 불안정, 높은 주거비용, 과도한 교육 경쟁(학력주의와 학벌주의 만\\n연), 양성 불평등, 사회규범 및 가치관의 변화 등이 출산에 영향을 미', metadata={'source': 'https://snuac.snu.ac.kr/2015_snuac/wp-content/uploads/2015/07/asiabrief_3-26.pdf', 'page': 1, 'doc_id': '95b0e38a-1f7d-459b-96a6-1c7520cb34bf'}),\n",
              " Document(page_content='을 포함한다. 이러한 미시적인 원인들은 개인 또는 부부가 출산을 결\\n정하는 데 직접적인 영향을 미친다. 출산은 미시적인 원인들 뿐 아니\\n라 거시적인 사회구조에 의해서도 영향을 받는다. 일자리 부족과 고\\n용 불안정, 높은 주거비용, 과도한 교육 경쟁(학력주의와 학벌주의 만\\n연), 양성 불평등, 사회규범 및 가치관의 변화 등이 출산에 영향을 미\\n치는 거시적인 요소들이다. 미시적인 요인들 대부분 거시적 요인들\\n에 의해 영향을 받는다. 예를 들어, 고용에서 학력주의와 학벌주의 만\\n연은 사교육비를 증가시켜 자녀 양육의 경제적 부담을 높이고 있다. 출산율 회복에 성공한 국가로부터의 교훈\\n이와 같이 저출산의 원인들이 명백하게 규명되고 있다는 점에서 저', metadata={'source': 'https://snuac.snu.ac.kr/2015_snuac/wp-content/uploads/2015/07/asiabrief_3-26.pdf', 'page': 1, 'doc_id': '95b0e38a-1f7d-459b-96a6-1c7520cb34bf'}),\n",
              " Document(page_content='치는 거시적인 요소들이다. 미시적인 요인들 대부분 거시적 요인들\\n에 의해 영향을 받는다. 예를 들어, 고용에서 학력주의와 학벌주의 만\\n연은 사교육비를 증가시켜 자녀 양육의 경제적 부담을 높이고 있다. 출산율 회복에 성공한 국가로부터의 교훈\\n이와 같이 저출산의 원인들이 명백하게 규명되고 있다는 점에서 저\\n출산은 극복이 가능한 현상으로 간주할 수 있다. 실례로 서구 국가들 \\n중 프랑스, 스웨덴, 영국 등은 저출산 현상을 극복한 국가들로 알려져 \\n있다. 우리나라는 15년 이상 저출산 대책이 추진되고 있음에도 불구\\n하고 출산율은 오히려 더 낮아져 최근에는 0명대를 기록하고 있다. \\n저출산 대책은 다양한 복합적인 원인들을 해소할 수 있도록 종합적\\n으로 그리고 장기간에 걸쳐 일관성 있게 추진되어야 한다. 그러나 우', metadata={'source': 'https://snuac.snu.ac.kr/2015_snuac/wp-content/uploads/2015/07/asiabrief_3-26.pdf', 'page': 1, 'doc_id': '95b0e38a-1f7d-459b-96a6-1c7520cb34bf'}),\n",
              " Document(page_content='중 프랑스, 스웨덴, 영국 등은 저출산 현상을 극복한 국가들로 알려져 \\n있다. 우리나라는 15년 이상 저출산 대책이 추진되고 있음에도 불구\\n하고 출산율은 오히려 더 낮아져 최근에는 0명대를 기록하고 있다. \\n저출산 대책은 다양한 복합적인 원인들을 해소할 수 있도록 종합적\\n으로 그리고 장기간에 걸쳐 일관성 있게 추진되어야 한다. 그러나 우\\n리나라 저출산 대책에는 반드시 필요한 정책들이 누락되어 있는 문\\n제, 필요한 정책들이 포함되고 있을지라도 사각지대가 크거나 급여 \\n등이 충분하지 않은 문제들을 가지고 있다. \\n이와 관련, 초저출산현상을 멈추기 위해서는 세 가지의 근본적인 노\\n력이 긴요하다. \\n첫 번째로 과도한 경쟁사회를 지양하기 위하여 노동시장을 개혁하여', metadata={'source': 'https://snuac.snu.ac.kr/2015_snuac/wp-content/uploads/2015/07/asiabrief_3-26.pdf', 'page': 1, 'doc_id': '95b0e38a-1f7d-459b-96a6-1c7520cb34bf'}),\n",
              " Document(page_content='리나라 저출산 대책에는 반드시 필요한 정책들이 누락되어 있는 문\\n제, 필요한 정책들이 포함되고 있을지라도 사각지대가 크거나 급여 \\n등이 충분하지 않은 문제들을 가지고 있다. \\n이와 관련, 초저출산현상을 멈추기 위해서는 세 가지의 근본적인 노\\n력이 긴요하다. \\n첫 번째로 과도한 경쟁사회를 지양하기 위하여 노동시장을 개혁하여\\n야 한다. 사실 한국 사회에서 만연하는 저출산 원인들은 다소 차이가 \\n있을지라도 OECD 국가나 동유럽 국가들 일부도 직면하고 있다. 그\\n럼에도 불구하고, 유독 한국 사회에서 합계출산율이 0명대로 치닫고 \\n있는 점은 직접적인 저출산 원인들 이외의 요소가 작동하고 있는 것\\n으로 설명할 수 있다. 대표적으로 단기간에 이룩하였던 고도 경제성', metadata={'source': 'https://snuac.snu.ac.kr/2015_snuac/wp-content/uploads/2015/07/asiabrief_3-26.pdf', 'page': 1, 'doc_id': '95b0e38a-1f7d-459b-96a6-1c7520cb34bf'}),\n",
              " Document(page_content='야 한다. 사실 한국 사회에서 만연하는 저출산 원인들은 다소 차이가 \\n있을지라도 OECD 국가나 동유럽 국가들 일부도 직면하고 있다. 그\\n럼에도 불구하고, 유독 한국 사회에서 합계출산율이 0명대로 치닫고 \\n있는 점은 직접적인 저출산 원인들 이외의 요소가 작동하고 있는 것\\n으로 설명할 수 있다. 대표적으로 단기간에 이룩하였던 고도 경제성\\n장의 후유증으로 삶의 목표가 성공이나 물질적인 것을 추구하는 데 \\n집중되었으며, 이를 위해 어린 시절부터 무한 경쟁사회 속에서 살아\\n가면서 여유 없이 쫓기고 있다. 이로 인해 자녀 양육은 무한 경쟁의 \\n연속선상에서 막대한 비용을 들여야 한다는 강박관념 때문에 행복보\\n다는 부담으로 인식되고 있다. 따라서 노동 개혁을 통해 그간 관행으', metadata={'source': 'https://snuac.snu.ac.kr/2015_snuac/wp-content/uploads/2015/07/asiabrief_3-26.pdf', 'page': 1, 'doc_id': '95b0e38a-1f7d-459b-96a6-1c7520cb34bf'}),\n",
              " Document(page_content='장의 후유증으로 삶의 목표가 성공이나 물질적인 것을 추구하는 데 \\n집중되었으며, 이를 위해 어린 시절부터 무한 경쟁사회 속에서 살아\\n가면서 여유 없이 쫓기고 있다. 이로 인해 자녀 양육은 무한 경쟁의 \\n연속선상에서 막대한 비용을 들여야 한다는 강박관념 때문에 행복보\\n다는 부담으로 인식되고 있다. 따라서 노동 개혁을 통해 그간 관행으\\n<그림 2> OECD 국가의 합계출산율 추이 \\n출처; OECD (2023). Fertility rates (indicator). doi: 10.1 787/8272fb01-en (Accessed on 09 May 2023)', metadata={'source': 'https://snuac.snu.ac.kr/2015_snuac/wp-content/uploads/2015/07/asiabrief_3-26.pdf', 'page': 1, 'doc_id': '95b0e38a-1f7d-459b-96a6-1c7520cb34bf'}),\n",
              " Document(page_content='연속선상에서 막대한 비용을 들여야 한다는 강박관념 때문에 행복보\\n다는 부담으로 인식되고 있다. 따라서 노동 개혁을 통해 그간 관행으\\n<그림 2> OECD 국가의 합계출산율 추이 \\n출처; OECD (2023). Fertility rates (indicator). doi: 10.1 787/8272fb01-en (Accessed on 09 May 2023) \\n주) 한국은 합계출산율을 2022년까지 발표하였으나, OECD 국가 대부분 2020년까지 발표하였음. 따라서, 2020년 OECD 기준 한국의 합계출산율은 0.84임.', metadata={'source': 'https://snuac.snu.ac.kr/2015_snuac/wp-content/uploads/2015/07/asiabrief_3-26.pdf', 'page': 1, 'doc_id': '95b0e38a-1f7d-459b-96a6-1c7520cb34bf'}),\n",
              " Document(page_content='Seoul National University Asia Center3로 고착화된 학력, 학벌, 젠더, 출신 지역 등에 따른 불합리한 차별을 \\n불식시키도록 해야 한다. 구체적으로 학력이나 학벌 등을 이유로 한 \\n고용기회나 승진 및 임금 등에서 차별을 없애고, 대신 능력을 우선시\\n하는 원칙이 통용되도록 한다. \\n두 번째로 자녀 양육의 생애주기와 연계된 사회구조 및 관행(문화)\\n을 개선하는 것이다. 주택가격을 안정화하고, 초장기 저리 공공주택\\n의 공급을 늘려 자기 집 마련이 인생의 목표가 되지 않도록 하여야 한\\n다. 노후가 보장되도록 공적보장체계를 강화하여 생애과정에서 자녀 \\n양육과 노후 대비가 충돌하지 않도록 할 필요가 있다. 사회문화 및 규\\n범에 관한 접근도 중요하다. 교육과 경제활동 참여도가 높아진 데다', metadata={'source': 'https://snuac.snu.ac.kr/2015_snuac/wp-content/uploads/2015/07/asiabrief_3-26.pdf', 'page': 2, 'doc_id': '2731ef4f-1dca-4d46-a5ab-ae35a3e4e8e6'}),\n",
              " Document(page_content='을 개선하는 것이다. 주택가격을 안정화하고, 초장기 저리 공공주택\\n의 공급을 늘려 자기 집 마련이 인생의 목표가 되지 않도록 하여야 한\\n다. 노후가 보장되도록 공적보장체계를 강화하여 생애과정에서 자녀 \\n양육과 노후 대비가 충돌하지 않도록 할 필요가 있다. 사회문화 및 규\\n범에 관한 접근도 중요하다. 교육과 경제활동 참여도가 높아진 데다\\n가 고용 불안정, 결혼에 따른 노동시장에서의 차별, 가치관 변화 등\\n으로 인해 결혼이 더욱더 지체되면서 미혼 기간이 길어지고 있다. 이\\n로 인해 동거 등 사실혼적 관계가 증가하고, 이들로부터 출산이 발생\\n하기도 한다. 서구 국가들은 오래전부터 비혼 출산에 대한 사회적 보\\n호를 강화하기 위한 법들을 제정, 시행해오고 있다. 프랑스의 시민연', metadata={'source': 'https://snuac.snu.ac.kr/2015_snuac/wp-content/uploads/2015/07/asiabrief_3-26.pdf', 'page': 2, 'doc_id': '2731ef4f-1dca-4d46-a5ab-ae35a3e4e8e6'}),\n",
              " Document(page_content='가 고용 불안정, 결혼에 따른 노동시장에서의 차별, 가치관 변화 등\\n으로 인해 결혼이 더욱더 지체되면서 미혼 기간이 길어지고 있다. 이\\n로 인해 동거 등 사실혼적 관계가 증가하고, 이들로부터 출산이 발생\\n하기도 한다. 서구 국가들은 오래전부터 비혼 출산에 대한 사회적 보\\n호를 강화하기 위한 법들을 제정, 시행해오고 있다. 프랑스의 시민연\\n대계약(pacte civil de solidarit é, PACS), 독일의 생활동반자관계법\\n(Lebenspartnerschaftsgesetz), 스웨덴의 삼보법(samboavtal), 네\\n덜란드의 동반자등록(geregistered partnerschap) 등이 대표적이\\n다. 우리나라에서도 동거 커플의 권리와 의무를 규정하는 법령을 제', metadata={'source': 'https://snuac.snu.ac.kr/2015_snuac/wp-content/uploads/2015/07/asiabrief_3-26.pdf', 'page': 2, 'doc_id': '2731ef4f-1dca-4d46-a5ab-ae35a3e4e8e6'}),\n",
              " Document(page_content='대계약(pacte civil de solidarit é, PACS), 독일의 생활동반자관계법\\n(Lebenspartnerschaftsgesetz), 스웨덴의 삼보법(samboavtal), 네\\n덜란드의 동반자등록(geregistered partnerschap) 등이 대표적이\\n다. 우리나라에서도 동거 커플의 권리와 의무를 규정하는 법령을 제\\n정할 필요가 있다. 이는 동거 커플이 법률혼으로 이행하는 데 긍정적\\n인 역할을 할 뿐 아니라 인공임신중절 예방, 영유아 유기·학대, 아동 \\n빈곤의 세습화 등을 예방하는 데에도 중요하다. \\n세 번째로 미시적인 접근에도 충실해야 한다. 미시적인 접근에는 필', metadata={'source': 'https://snuac.snu.ac.kr/2015_snuac/wp-content/uploads/2015/07/asiabrief_3-26.pdf', 'page': 2, 'doc_id': '2731ef4f-1dca-4d46-a5ab-ae35a3e4e8e6'}),\n",
              " Document(page_content='다. 우리나라에서도 동거 커플의 권리와 의무를 규정하는 법령을 제\\n정할 필요가 있다. 이는 동거 커플이 법률혼으로 이행하는 데 긍정적\\n인 역할을 할 뿐 아니라 인공임신중절 예방, 영유아 유기·학대, 아동 \\n빈곤의 세습화 등을 예방하는 데에도 중요하다. \\n세 번째로 미시적인 접근에도 충실해야 한다. 미시적인 접근에는 필\\n요한 정책들을 신규 도입하는 것은 물론 기존 정책들의 수준을 현실화하여야 과제들이 포함된다. 우선 자녀 양육 지원은 대부분 미취학 \\n시기에 집중되어 있다. 임신·출산 의료지원, 출산전후휴가, 육아휴\\n직, 돌봄, 보육 등이 해당된다. 최근 들어 초등학교 저학년까지 돌봄\\n이 확대되고 아동수당이 지급되고 있으나, 이후 양육에 소요되는 비', metadata={'source': 'https://snuac.snu.ac.kr/2015_snuac/wp-content/uploads/2015/07/asiabrief_3-26.pdf', 'page': 2, 'doc_id': '2731ef4f-1dca-4d46-a5ab-ae35a3e4e8e6'}),\n",
              " Document(page_content='요한 정책들을 신규 도입하는 것은 물론 기존 정책들의 수준을 현실화하여야 과제들이 포함된다. 우선 자녀 양육 지원은 대부분 미취학 \\n시기에 집중되어 있다. 임신·출산 의료지원, 출산전후휴가, 육아휴\\n직, 돌봄, 보육 등이 해당된다. 최근 들어 초등학교 저학년까지 돌봄\\n이 확대되고 아동수당이 지급되고 있으나, 이후 양육에 소요되는 비\\n용 등에 대한 지원은 단절된 상태이다. 서구사회에서와 같이 자녀 양\\n육을 아동의 생애주기에 따라 체계적으로 지원하기 위하여 아동수\\n당, 교육수당 등을 16세 또는 18세까지 연장할 필요가 있다. 아동수\\n당도 월 10만 원에서 2~3배를 증액하여 물가 등과 연동하여 현실화\\n할 필요가 있다. \\n현행 일가정양립 지원정책은 사각지대, 충분성 결여, 연계성 부족 등', metadata={'source': 'https://snuac.snu.ac.kr/2015_snuac/wp-content/uploads/2015/07/asiabrief_3-26.pdf', 'page': 2, 'doc_id': '2731ef4f-1dca-4d46-a5ab-ae35a3e4e8e6'}),\n",
              " Document(page_content='육을 아동의 생애주기에 따라 체계적으로 지원하기 위하여 아동수\\n당, 교육수당 등을 16세 또는 18세까지 연장할 필요가 있다. 아동수\\n당도 월 10만 원에서 2~3배를 증액하여 물가 등과 연동하여 현실화\\n할 필요가 있다. \\n현행 일가정양립 지원정책은 사각지대, 충분성 결여, 연계성 부족 등\\n의 문제점들로 인해 효과성을 담보하기 곤란한 실정이다. 즉, 부모의 \\n시간에 대한 지원을 보다 확대할 필요가 있다. 출산전후휴가나 육아\\n휴직을 이용할 수 있는 대상은 공무원이나 고용보험 가입자에 한정\\n된다. 1인 사업자, 특수형태 근로자 및 자유계약자(출산 전 18개월 \\n중 3개월 이상 소득 활동을 한 경우) 등 일정한 고용보험 미적용자에 \\n대해서는 출산 급여(50만 원, 3개월)를 지급하고 있다. 그러나 근본', metadata={'source': 'https://snuac.snu.ac.kr/2015_snuac/wp-content/uploads/2015/07/asiabrief_3-26.pdf', 'page': 2, 'doc_id': '2731ef4f-1dca-4d46-a5ab-ae35a3e4e8e6'}),\n",
              " Document(page_content='시간에 대한 지원을 보다 확대할 필요가 있다. 출산전후휴가나 육아\\n휴직을 이용할 수 있는 대상은 공무원이나 고용보험 가입자에 한정\\n된다. 1인 사업자, 특수형태 근로자 및 자유계약자(출산 전 18개월 \\n중 3개월 이상 소득 활동을 한 경우) 등 일정한 고용보험 미적용자에 \\n대해서는 출산 급여(50만 원, 3개월)를 지급하고 있다. 그러나 근본\\n적인 방법으로 근로 방식이나 계약 형태와 관계없이 일하는 모든 부\\n와 모가 육아휴직 등을 이용할 수 있도록 부모보험을 도입할 필요가 \\n있다. 육아휴직 이용 기간을 6개월, 9개월, 12개월, 18개월 등으로 \\n구분하고, 이용 기간에 따라 육아휴직 급여율을 차등적으로 적용하\\n여 이용자가 자신의 상황에 따라 자유로이 선택할 수 있도록 한다. 육', metadata={'source': 'https://snuac.snu.ac.kr/2015_snuac/wp-content/uploads/2015/07/asiabrief_3-26.pdf', 'page': 2, 'doc_id': '2731ef4f-1dca-4d46-a5ab-ae35a3e4e8e6'}),\n",
              " Document(page_content='적인 방법으로 근로 방식이나 계약 형태와 관계없이 일하는 모든 부\\n와 모가 육아휴직 등을 이용할 수 있도록 부모보험을 도입할 필요가 \\n있다. 육아휴직 이용 기간을 6개월, 9개월, 12개월, 18개월 등으로 \\n구분하고, 이용 기간에 따라 육아휴직 급여율을 차등적으로 적용하\\n여 이용자가 자신의 상황에 따라 자유로이 선택할 수 있도록 한다. 육\\n아휴직 등 직장 경력의 공백을 전제로 하는 제도들 이외에 일하면서 \\n육아를 할 수 있는 육아기근로시간단축제, 육아재택제도 등을 활성\\n화하여 돌봄 공백과 경력단절의 두려움을 해소해주도록 한다. 이러\\n한 제도들과 어린이집 이용 시간 등 간 연계를 강화하여 시간의 사각\\n<그림 3> 프랑스 합계출산율 추이와 대책 변천', metadata={'source': 'https://snuac.snu.ac.kr/2015_snuac/wp-content/uploads/2015/07/asiabrief_3-26.pdf', 'page': 2, 'doc_id': '2731ef4f-1dca-4d46-a5ab-ae35a3e4e8e6'}),\n",
              " Document(page_content='세계를 잇다, 미래를 빚다!4지대를 없애도록 한다. 무엇보다도 출산과 양육에 친화적인 직장문\\n화를 조성하여야 한다. \\n인구구조 변화에 대응해야\\n우리나라는 이미 20년 이상 동안 초저출산현상(합계출산율 1.3명 \\n이하)을 겪고 있다. 적어도 당분간 ‘저출산의 덫’에서 빠져나올 수 있\\n을 것으로 기대하기 어렵다. 저출산 대책들이 실효성을 거두기 시작\\n할지라도 언제부터 얼마나 빠른 속도로 어느 수준까지 출산율이 높\\n아질 것으로 예상하기도 어렵다. 결국 우리나라 인구는 급속하게 감\\n소하고, 고령화될 것이다. 따라서 저출산 대책을 더욱 강화하는 동시\\n에 인구감소 및 고령화에 대해서도 철저하게 대응하여야 한다. 인구\\n감소 및 고령화가 사회에 미치는 파장은 크게 학교 붕괴, 병력자원 부', metadata={'source': 'https://snuac.snu.ac.kr/2015_snuac/wp-content/uploads/2015/07/asiabrief_3-26.pdf', 'page': 3, 'doc_id': '6501274a-cc47-4c22-aa68-96f036355e0e'}),\n",
              " Document(page_content='할지라도 언제부터 얼마나 빠른 속도로 어느 수준까지 출산율이 높\\n아질 것으로 예상하기도 어렵다. 결국 우리나라 인구는 급속하게 감\\n소하고, 고령화될 것이다. 따라서 저출산 대책을 더욱 강화하는 동시\\n에 인구감소 및 고령화에 대해서도 철저하게 대응하여야 한다. 인구\\n감소 및 고령화가 사회에 미치는 파장은 크게 학교 붕괴, 병력자원 부\\n족, 노동력 부족, 사회보장 부담 증가 등을 들 수 있다. \\n학령인구 감소에 따른 학생 수 감소는 초등학교, 중학교, 고등학교 및 \\n대학교에까지 영향을 미치고 있다. 과거 고출산 시기에 태어난 세대\\n를 위해 건립하였던 학교 시설과 교사 양성 인프라(교육대학 등)는 과\\n잉 시설이 되면서 통폐합이 진행되고 있다. 폐교는 단순하게 잉여 시', metadata={'source': 'https://snuac.snu.ac.kr/2015_snuac/wp-content/uploads/2015/07/asiabrief_3-26.pdf', 'page': 3, 'doc_id': '6501274a-cc47-4c22-aa68-96f036355e0e'}),\n",
              " Document(page_content='족, 노동력 부족, 사회보장 부담 증가 등을 들 수 있다. \\n학령인구 감소에 따른 학생 수 감소는 초등학교, 중학교, 고등학교 및 \\n대학교에까지 영향을 미치고 있다. 과거 고출산 시기에 태어난 세대\\n를 위해 건립하였던 학교 시설과 교사 양성 인프라(교육대학 등)는 과\\n잉 시설이 되면서 통폐합이 진행되고 있다. 폐교는 단순하게 잉여 시\\n설의 처분만을 의미하지 않는다. 폐교로 아동이 있는 가족은 그 지역\\n으로 이주해오지 않을 것이며, 아동들을 상대로 하는 가게나 시설 역\\n시 폐쇄하거나 다른 지역으로 떠날 수밖에 없다. 이와 같이 폐교는 지\\n방소멸을 유발하고 가속화시키는 주요한 요인이 된다. 학생들의 사\\n회성 발달, 교육행정 효율성 등에 불리한 학생희소학교의 문제를 최', metadata={'source': 'https://snuac.snu.ac.kr/2015_snuac/wp-content/uploads/2015/07/asiabrief_3-26.pdf', 'page': 3, 'doc_id': '6501274a-cc47-4c22-aa68-96f036355e0e'}),\n",
              " Document(page_content='설의 처분만을 의미하지 않는다. 폐교로 아동이 있는 가족은 그 지역\\n으로 이주해오지 않을 것이며, 아동들을 상대로 하는 가게나 시설 역\\n시 폐쇄하거나 다른 지역으로 떠날 수밖에 없다. 이와 같이 폐교는 지\\n방소멸을 유발하고 가속화시키는 주요한 요인이 된다. 학생들의 사\\n회성 발달, 교육행정 효율성 등에 불리한 학생희소학교의 문제를 최\\n소화하기 위해 초·중 또는 중·고 통합학교나 학교 간 통합수업을 활\\n성화해야 한다. 지방대학의 경쟁력을 확보하기 위해 교육부의 권한\\n을 지자체에 이양하는 동시에 중앙정부 차원에서 지방대학과 산업 \\n간 연계를 강화하기 위한 투자를 과감하게 늘릴 필요가 있다. 종합대\\n학이 보편적인 대학 체계를 일부 단과대학 중심의 특성화 대학으로', metadata={'source': 'https://snuac.snu.ac.kr/2015_snuac/wp-content/uploads/2015/07/asiabrief_3-26.pdf', 'page': 3, 'doc_id': '6501274a-cc47-4c22-aa68-96f036355e0e'}),\n",
              " Document(page_content='소화하기 위해 초·중 또는 중·고 통합학교나 학교 간 통합수업을 활\\n성화해야 한다. 지방대학의 경쟁력을 확보하기 위해 교육부의 권한\\n을 지자체에 이양하는 동시에 중앙정부 차원에서 지방대학과 산업 \\n간 연계를 강화하기 위한 투자를 과감하게 늘릴 필요가 있다. 종합대\\n학이 보편적인 대학 체계를 일부 단과대학 중심의 특성화 대학으로 \\n전환하여 학생 수가 적으나 강한 대학들이 지역적으로 균등하게 배\\n치될 필요가 있다. \\n출생아 수 감소는 징병 대상 인구의 감소를 가져와 병력자원 부족을 \\n초래한다. 이에 대응하기 위하여 4차 산업혁명 핵심기술 등을 이용\\n하여 병력 대체용 첨단 무기(전방 감시 등)를 개발하고, 기술병 등 일\\n정한 자원에 대해서는 모병제를 도입하는 이른바 혼합병제를 채택할 \\n필요가 있다.', metadata={'source': 'https://snuac.snu.ac.kr/2015_snuac/wp-content/uploads/2015/07/asiabrief_3-26.pdf', 'page': 3, 'doc_id': '6501274a-cc47-4c22-aa68-96f036355e0e'}),\n",
              " Document(page_content='치될 필요가 있다. \\n출생아 수 감소는 징병 대상 인구의 감소를 가져와 병력자원 부족을 \\n초래한다. 이에 대응하기 위하여 4차 산업혁명 핵심기술 등을 이용\\n하여 병력 대체용 첨단 무기(전방 감시 등)를 개발하고, 기술병 등 일\\n정한 자원에 대해서는 모병제를 도입하는 이른바 혼합병제를 채택할 \\n필요가 있다. \\n생산가능인구(15~49세)가 감소하여도 베이비붐세대(1955~1974\\n년 출생 인구)가 여전히 노동시장에서 활동하고 있어 당분간 노동력\\n은 공급과잉 상태를 유지할 것이다. 그러나 베이비붐세대 대부분이 노동시장에 이탈하는 2030년대 중반경부터 수요에 비해 노동력 공\\n급이 본격적으로 부족하기 시작할 것이다. 노동인구의 구매력이 노\\n인인구에 비해 상대적으로 높다는 점에서 노동력 부족은 생산 인구', metadata={'source': 'https://snuac.snu.ac.kr/2015_snuac/wp-content/uploads/2015/07/asiabrief_3-26.pdf', 'page': 3, 'doc_id': '6501274a-cc47-4c22-aa68-96f036355e0e'}),\n",
              " Document(page_content='년 출생 인구)가 여전히 노동시장에서 활동하고 있어 당분간 노동력\\n은 공급과잉 상태를 유지할 것이다. 그러나 베이비붐세대 대부분이 노동시장에 이탈하는 2030년대 중반경부터 수요에 비해 노동력 공\\n급이 본격적으로 부족하기 시작할 것이다. 노동인구의 구매력이 노\\n인인구에 비해 상대적으로 높다는 점에서 노동력 부족은 생산 인구 \\n부족뿐 아니라 소비 인구 부족 즉, 내수 위축으로도 이어져 경제성장\\n을 둔화시킬 것이다. 노동력 부족에 대응하기 위해서는 근본적으로 \\n출산율 회복이 필수적이다. 다른 한편으로 잠재 인력의 활용을 극대\\n화할 필요가 있다. 50%대에 머물고 있는 여성 고용률을 스웨덴 등 \\n선진국의 수준(70~80%대)으로 높이도록 한다. 이를 위해서는 노동', metadata={'source': 'https://snuac.snu.ac.kr/2015_snuac/wp-content/uploads/2015/07/asiabrief_3-26.pdf', 'page': 3, 'doc_id': '6501274a-cc47-4c22-aa68-96f036355e0e'}),\n",
              " Document(page_content='부족뿐 아니라 소비 인구 부족 즉, 내수 위축으로도 이어져 경제성장\\n을 둔화시킬 것이다. 노동력 부족에 대응하기 위해서는 근본적으로 \\n출산율 회복이 필수적이다. 다른 한편으로 잠재 인력의 활용을 극대\\n화할 필요가 있다. 50%대에 머물고 있는 여성 고용률을 스웨덴 등 \\n선진국의 수준(70~80%대)으로 높이도록 한다. 이를 위해서는 노동\\n시장에서의 젠더 차별 불식, 일가정양립 환경 조성 등이 선결되어야 \\n할 것이다. 고령화가 빠르게 진행되고 있으나 고령인구의 학력과 직\\n업력이 높아지고 건강이 개선되고 있다는 점에서 정년 연장 내지 폐\\n지를 통해 고령인구가 보다 오랫동안 노동시장에 남아서 역할을 하\\n도록 한다. 외국인 노동력 유입도 노동력 부족에 대처하기 위한 중요', metadata={'source': 'https://snuac.snu.ac.kr/2015_snuac/wp-content/uploads/2015/07/asiabrief_3-26.pdf', 'page': 3, 'doc_id': '6501274a-cc47-4c22-aa68-96f036355e0e'}),\n",
              " Document(page_content='시장에서의 젠더 차별 불식, 일가정양립 환경 조성 등이 선결되어야 \\n할 것이다. 고령화가 빠르게 진행되고 있으나 고령인구의 학력과 직\\n업력이 높아지고 건강이 개선되고 있다는 점에서 정년 연장 내지 폐\\n지를 통해 고령인구가 보다 오랫동안 노동시장에 남아서 역할을 하\\n도록 한다. 외국인 노동력 유입도 노동력 부족에 대처하기 위한 중요\\n한 전략이 될 수 있다. 이미 중소기업, 농업 등에서는 내국인의 3D 업\\n종 기피 등으로 인하여 노동력이 부족하며, 이러한 빈자리를 단기 외\\n국인 노동자로 해소하고 있다. 미래에는 단기 외국인 노동자들도 확\\n보하기 어려울 수 있다. 동남아 국가 등도 이미 저출산과 고령화가 시\\n작되어 장기적으로 우리나라에 자국의 노동자들을 보낼 수 있는 여', metadata={'source': 'https://snuac.snu.ac.kr/2015_snuac/wp-content/uploads/2015/07/asiabrief_3-26.pdf', 'page': 3, 'doc_id': '6501274a-cc47-4c22-aa68-96f036355e0e'}),\n",
              " Document(page_content='한 전략이 될 수 있다. 이미 중소기업, 농업 등에서는 내국인의 3D 업\\n종 기피 등으로 인하여 노동력이 부족하며, 이러한 빈자리를 단기 외\\n국인 노동자로 해소하고 있다. 미래에는 단기 외국인 노동자들도 확\\n보하기 어려울 수 있다. 동남아 국가 등도 이미 저출산과 고령화가 시\\n작되어 장기적으로 우리나라에 자국의 노동자들을 보낼 수 있는 여\\n력이 없어질 것이기 때문이다. 일부에서는 영주 목적의 장기 이민자\\n의 유입이 필요하다는 주장이 제기되기도 한다. 최근의 초저출산현\\n상이 장기적으로 지속된다면 여성인력이나 고령인력만으로 필요 인\\n력 내지 안정적인 인구구조를 유지하기 어려울 것이기 때문에 일면 \\n타당하다고 할 수 있다. 그러나 미래로 갈수록 노동집약적 산업 중심', metadata={'source': 'https://snuac.snu.ac.kr/2015_snuac/wp-content/uploads/2015/07/asiabrief_3-26.pdf', 'page': 3, 'doc_id': '6501274a-cc47-4c22-aa68-96f036355e0e'}),\n",
              " Document(page_content='력이 없어질 것이기 때문이다. 일부에서는 영주 목적의 장기 이민자\\n의 유입이 필요하다는 주장이 제기되기도 한다. 최근의 초저출산현\\n상이 장기적으로 지속된다면 여성인력이나 고령인력만으로 필요 인\\n력 내지 안정적인 인구구조를 유지하기 어려울 것이기 때문에 일면 \\n타당하다고 할 수 있다. 그러나 미래로 갈수록 노동집약적 산업 중심\\n에서 지식기반 산업 중심으로 산업구조가 변화할 것이라는 사실이\\n다. 이민자들도 한국 사회의 저출산현상에 편승하고 자신들은 고령\\n화된다면 오히려 인구구조에 부정적인 영향을 미친다는 점이다. 그\\n리고 사회통합 비용이 높을 수 있다는 점에서 인구감소 및 고령화에\\n의 대응을 목적으로 하는 장기 이민자 유입에 대해서는 신중할 필요', metadata={'source': 'https://snuac.snu.ac.kr/2015_snuac/wp-content/uploads/2015/07/asiabrief_3-26.pdf', 'page': 3, 'doc_id': '6501274a-cc47-4c22-aa68-96f036355e0e'}),\n",
              " Document(page_content='에서 지식기반 산업 중심으로 산업구조가 변화할 것이라는 사실이\\n다. 이민자들도 한국 사회의 저출산현상에 편승하고 자신들은 고령\\n화된다면 오히려 인구구조에 부정적인 영향을 미친다는 점이다. 그\\n리고 사회통합 비용이 높을 수 있다는 점에서 인구감소 및 고령화에\\n의 대응을 목적으로 하는 장기 이민자 유입에 대해서는 신중할 필요\\n가 있다. 서구의 많은 연구들은 인구 고령화에 대응하기 위한 이민정\\n책은 실효성이 높지 않음을 지적해왔다. 실제 서구 국가들은 제조업 \\n중심의 외국인 노동력 유입을 억제하고, 우수 인력 중심으로 이민을 \\n선별적으로 허용하고 있다. \\n생산가능인구는 감소하나 이들이 부양해야 할 노인인구는 급격하게 \\n증가하여 사회보장 부담이 크게 높아질 것이다. 대표적으로 노인인', metadata={'source': 'https://snuac.snu.ac.kr/2015_snuac/wp-content/uploads/2015/07/asiabrief_3-26.pdf', 'page': 3, 'doc_id': '6501274a-cc47-4c22-aa68-96f036355e0e'}),\n",
              " Document(page_content='책은 실효성이 높지 않음을 지적해왔다. 실제 서구 국가들은 제조업 \\n중심의 외국인 노동력 유입을 억제하고, 우수 인력 중심으로 이민을 \\n선별적으로 허용하고 있다. \\n생산가능인구는 감소하나 이들이 부양해야 할 노인인구는 급격하게 \\n증가하여 사회보장 부담이 크게 높아질 것이다. 대표적으로 노인인\\n구 증가로 연금 수령 인구는 증가하나 연금보험료를 납부할 인구는 \\n줄어들어 장기적으로 연금기금은 고갈될 것이다. 건강보험이나 장기\\n요양보험 역시 보험료 이용자는 증가하나 납부자는 감소하여 보험재\\n정의 지속가능성이 약화될 것이다. 이러한 문제를 극복하기 위하여 \\n보험료율과 소득대체율 등을 조정하여야 하나, 보다 근본적인 방법', metadata={'source': 'https://snuac.snu.ac.kr/2015_snuac/wp-content/uploads/2015/07/asiabrief_3-26.pdf', 'page': 3, 'doc_id': '6501274a-cc47-4c22-aa68-96f036355e0e'}),\n",
              " Document(page_content='Seoul National University Asia Center5발행처: 서울대학교 아시아연구소, HK+메가아시아연구사업단     \\n발행인: 박수진  편집위원장: 박수진  편집위원: 이명무, 김윤호    \\n편집간사: 김정희  편집조교: 박효진, 전민규, 민보미, 최태수, 김용재  디자인: 박종홍\\n연락처: 02-880-2087, snuac.issuebrief@gmail.com   아시아 브리프의 목표\\n· 아시아의 현안 분석과 정책적 함의 제시         \\n· 한국의 아시아 진출 전략 개발         \\n· 메가 아시아 건설을 위한 공론장Tag: 초저출산,미시적접근,사회구조,고령화,인구구조최신 관련 자료', metadata={'source': 'https://snuac.snu.ac.kr/2015_snuac/wp-content/uploads/2015/07/asiabrief_3-26.pdf', 'page': 4, 'doc_id': '2fc133d3-3f73-4039-8f40-22b7ccb4bb97'}),\n",
              " Document(page_content='연락처: 02-880-2087, snuac.issuebrief@gmail.com   아시아 브리프의 목표\\n· 아시아의 현안 분석과 정책적 함의 제시         \\n· 한국의 아시아 진출 전략 개발         \\n· 메가 아시아 건설을 위한 공론장Tag: 초저출산,미시적접근,사회구조,고령화,인구구조최신 관련 자료\\n ·이삼식 외 (2021). “저출산·고령사회의 효율적 대응을 위한 추진체계 구축방안.” 대통령직속 저출산고령사회위원회. 한양대학교 고령사회연\\n구원. \\n ·이삼식 외 (2020). “저출산에 따른 재정부담 분석 및 대응.” 기획재정부. 한양대학교 고령사회연구원. \\n ·이삼식 (2020). “한국 인구정책 변천과 시대적 함의.” 기획재정부. KDI 글로벌지식협력단지.', metadata={'source': 'https://snuac.snu.ac.kr/2015_snuac/wp-content/uploads/2015/07/asiabrief_3-26.pdf', 'page': 4, 'doc_id': '2fc133d3-3f73-4039-8f40-22b7ccb4bb97'}),\n",
              " Document(page_content='구원. \\n ·이삼식 외 (2020). “저출산에 따른 재정부담 분석 및 대응.” 기획재정부. 한양대학교 고령사회연구원. \\n ·이삼식 (2020). “한국 인구정책 변천과 시대적 함의.” 기획재정부. KDI 글로벌지식협력단지.\\n ·이삼식 외 (2018). “대한민국 중장기 인구정책 방향.” 보건복지부. 한양대학교 고령사회연구원.\\n ·이태훈 (2019). “프랑스 출산율 상승에 긍정적인 영향을 미친 가족정책.” 『국제노동브리프』 12월호, 한국노동연구원.\\n이삼식 (lss2323@hanyang.ac.kr)\\n현) 한양대학교 고령사회연구원 원장, 인구보건복지협회 회장, 국회 저출생 및 인구절벽대응 포럼 자문위원.', metadata={'source': 'https://snuac.snu.ac.kr/2015_snuac/wp-content/uploads/2015/07/asiabrief_3-26.pdf', 'page': 4, 'doc_id': '2fc133d3-3f73-4039-8f40-22b7ccb4bb97'}),\n",
              " Document(page_content=\"·이태훈 (2019). “프랑스 출산율 상승에 긍정적인 영향을 미친 가족정책.” 『국제노동브리프』 12월호, 한국노동연구원.\\n이삼식 (lss2323@hanyang.ac.kr)\\n현) 한양대학교 고령사회연구원 원장, 인구보건복지협회 회장, 국회 저출생 및 인구절벽대응 포럼 자문위원. \\n전) 한국보건사회연구원 저출산고령화대책기획단 단장, 대통령직속 저출산고령사회위원회 정책운영위원회 위원(세대공감분과 \\n      위원장), 한국인구학회 회장.\\n주요 논문과 저서: “Working Conditions Affecting Home Care Workers' Stress and Turnover Intention.”  \\n   Journal of Applied Gerontology  42(4), 2023.\", metadata={'source': 'https://snuac.snu.ac.kr/2015_snuac/wp-content/uploads/2015/07/asiabrief_3-26.pdf', 'page': 4, 'doc_id': '2fc133d3-3f73-4039-8f40-22b7ccb4bb97'}),\n",
              " Document(page_content=\"위원장), 한국인구학회 회장.\\n주요 논문과 저서: “Working Conditions Affecting Home Care Workers' Stress and Turnover Intention.”  \\n   Journal of Applied Gerontology  42(4), 2023.\\n  “Impact of older adults' mobility and social participation on life satisfaction in South Korea.”  \\n  Asian Social Work and Policy Review , 2019.\", metadata={'source': 'https://snuac.snu.ac.kr/2015_snuac/wp-content/uploads/2015/07/asiabrief_3-26.pdf', 'page': 4, 'doc_id': '2fc133d3-3f73-4039-8f40-22b7ccb4bb97'}),\n",
              " Document(page_content=\"Journal of Applied Gerontology  42(4), 2023.\\n  “Impact of older adults' mobility and social participation on life satisfaction in South Korea.”  \\n  Asian Social Work and Policy Review , 2019.\\n  “The National Reproductive Crisis: South Korea’s Fertility Shock.” Korea Journal of Sociology  49(3), 2015.\", metadata={'source': 'https://snuac.snu.ac.kr/2015_snuac/wp-content/uploads/2015/07/asiabrief_3-26.pdf', 'page': 4, 'doc_id': '2fc133d3-3f73-4039-8f40-22b7ccb4bb97'}),\n",
              " Document(page_content='Asian Social Work and Policy Review , 2019.\\n  “The National Reproductive Crisis: South Korea’s Fertility Shock.” Korea Journal of Sociology  49(3), 2015.\\n  Issues of Aging and Age Dependency in Post-industrial Societies. Low Fertility Regimes and   \\n  Demographic and Societal Change . Springer International Publishing, 2018.', metadata={'source': 'https://snuac.snu.ac.kr/2015_snuac/wp-content/uploads/2015/07/asiabrief_3-26.pdf', 'page': 4, 'doc_id': '2fc133d3-3f73-4039-8f40-22b7ccb4bb97'}),\n",
              " Document(page_content='Issues of Aging and Age Dependency in Post-industrial Societies. Low Fertility Regimes and   \\n  Demographic and Societal Change . Springer International Publishing, 2018.\\n  Lowest-low fertility and policy responses in South Korea. Low and lower fertility: Variations across  \\n  developed countries . Springer International Publishing, 2015.으로 인구고령화 수준이 30% 등 일정 수준을 넘지 않도록 출산율을', metadata={'source': 'https://snuac.snu.ac.kr/2015_snuac/wp-content/uploads/2015/07/asiabrief_3-26.pdf', 'page': 4, 'doc_id': '2fc133d3-3f73-4039-8f40-22b7ccb4bb97'}),\n",
              " Document(page_content='developed countries . Springer International Publishing, 2015.으로 인구고령화 수준이 30% 등 일정 수준을 넘지 않도록 출산율을 \\n회복하는 노력이 중요하다. 이와 동시에 정년 연장을 통해 적어도 60\\n대 인구가 연금, 건강보험 등 사회보장의 수급자적 위치에서 납부자\\n적 위치로 전환할 필요가 있다.\\n출산율 회복과 인구구조 변화 대응은 양자택일이 \\n아닌 양자병행 과제\\n최근 한국 사회에서 출산율이 0명대로 급락하면서 출산율 회복에 대\\n한 회의감이 증가하고 있다. 그 영향으로 출산율 회복을 위한 의지와 노력이 약화되고 대신 인구감소 및 고령화에 적응하여야 한다는 논\\n의가 활발하다. 그러나 출산율 회복 없는 인구변화에 대한 대응은 높', metadata={'source': 'https://snuac.snu.ac.kr/2015_snuac/wp-content/uploads/2015/07/asiabrief_3-26.pdf', 'page': 4, 'doc_id': '2fc133d3-3f73-4039-8f40-22b7ccb4bb97'}),\n",
              " Document(page_content='출산율 회복과 인구구조 변화 대응은 양자택일이 \\n아닌 양자병행 과제\\n최근 한국 사회에서 출산율이 0명대로 급락하면서 출산율 회복에 대\\n한 회의감이 증가하고 있다. 그 영향으로 출산율 회복을 위한 의지와 노력이 약화되고 대신 인구감소 및 고령화에 적응하여야 한다는 논\\n의가 활발하다. 그러나 출산율 회복 없는 인구변화에 대한 대응은 높\\n은 비용과 고통을 수반할 것이다. 그렇다고 출산율이 단기간 내 급격\\n하게 회복할 수 없다는 점에서 인구변화에 대한 적응을 소홀히 할 수 \\n없다. 결국 출산율 회복과 인구변화에 대한 적응은 양자택일의 문제\\n가 아니라 동시에 추구하여야 할 사회 목표들인 것이다. 출산율 회복\\n은 인구변화 적응 비용을 줄이며, 인구변화에 대한 성공적인 적응(예', metadata={'source': 'https://snuac.snu.ac.kr/2015_snuac/wp-content/uploads/2015/07/asiabrief_3-26.pdf', 'page': 4, 'doc_id': '2fc133d3-3f73-4039-8f40-22b7ccb4bb97'}),\n",
              " Document(page_content='은 비용과 고통을 수반할 것이다. 그렇다고 출산율이 단기간 내 급격\\n하게 회복할 수 없다는 점에서 인구변화에 대한 적응을 소홀히 할 수 \\n없다. 결국 출산율 회복과 인구변화에 대한 적응은 양자택일의 문제\\n가 아니라 동시에 추구하여야 할 사회 목표들인 것이다. 출산율 회복\\n은 인구변화 적응 비용을 줄이며, 인구변화에 대한 성공적인 적응(예\\n를 들어, 노후 보장 등)은 출산율 회복에 긍정적인 역할을 하는 시너\\n지 효과가 날 것이다.', metadata={'source': 'https://snuac.snu.ac.kr/2015_snuac/wp-content/uploads/2015/07/asiabrief_3-26.pdf', 'page': 4, 'doc_id': '2fc133d3-3f73-4039-8f40-22b7ccb4bb97'})]"
            ]
          },
          "metadata": {},
          "execution_count": 132
        }
      ]
    },
    {
      "cell_type": "code",
      "source": [
        "len(sub_docs)"
      ],
      "metadata": {
        "colab": {
          "base_uri": "https://localhost:8080/"
        },
        "id": "Z3JW0_xhAnwz",
        "outputId": "911f2852-40a4-4dfd-8bec-a09d5c6cbd4c"
      },
      "execution_count": null,
      "outputs": [
        {
          "output_type": "execute_result",
          "data": {
            "text/plain": [
              "48"
            ]
          },
          "metadata": {},
          "execution_count": 133
        }
      ]
    },
    {
      "cell_type": "code",
      "source": [
        "retriever.vectorstore.add_documents(sub_docs)\n",
        "retriever.docstore.mset(list(zip(doc_ids, docs)))"
      ],
      "metadata": {
        "id": "XXFlPqrLJ8Fr"
      },
      "execution_count": null,
      "outputs": []
    },
    {
      "cell_type": "code",
      "source": [
        "# Vectorstore alone retrieves the small chunks\n",
        "retriever.vectorstore.similarity_search(\"한국 저출산의 원인이 뭐야?\")[0]"
      ],
      "metadata": {
        "colab": {
          "base_uri": "https://localhost:8080/"
        },
        "id": "BFwb8HsmJ8CX",
        "outputId": "f7831e5c-287d-44ea-8043-567ade922846"
      },
      "execution_count": null,
      "outputs": [
        {
          "output_type": "execute_result",
          "data": {
            "text/plain": [
              "Document(page_content='야 한다. 사실 한국 사회에서 만연하는 저출산 원인들은 다소 차이가 \\n있을지라도 OECD 국가나 동유럽 국가들 일부도 직면하고 있다. 그\\n럼에도 불구하고, 유독 한국 사회에서 합계출산율이 0명대로 치닫고 \\n있는 점은 직접적인 저출산 원인들 이외의 요소가 작동하고 있는 것\\n으로 설명할 수 있다. 대표적으로 단기간에 이룩하였던 고도 경제성\\n장의 후유증으로 삶의 목표가 성공이나 물질적인 것을 추구하는 데 \\n집중되었으며, 이를 위해 어린 시절부터 무한 경쟁사회 속에서 살아\\n가면서 여유 없이 쫓기고 있다. 이로 인해 자녀 양육은 무한 경쟁의 \\n연속선상에서 막대한 비용을 들여야 한다는 강박관념 때문에 행복보\\n다는 부담으로 인식되고 있다. 따라서 노동 개혁을 통해 그간 관행으', metadata={'doc_id': '6f307ef0-7072-4f26-9ce7-855feafa291b', 'page': 1, 'source': 'https://snuac.snu.ac.kr/2015_snuac/wp-content/uploads/2015/07/asiabrief_3-26.pdf'})"
            ]
          },
          "metadata": {},
          "execution_count": 135
        }
      ]
    },
    {
      "cell_type": "code",
      "source": [
        "# Retriever returns larger chunks\n",
        "larger_chunks = retriever.invoke(\"한국 저출산의 원인이 뭐야?\")[0].page_content\n",
        "larger_chunks"
      ],
      "metadata": {
        "colab": {
          "base_uri": "https://localhost:8080/",
          "height": 140
        },
        "id": "imLnBSi4J7_Y",
        "outputId": "8142aafe-9d54-4e73-e2d2-a22819169591"
      },
      "execution_count": null,
      "outputs": [
        {
          "output_type": "execute_result",
          "data": {
            "text/plain": [
              "'세계를 잇다, 미래를 빚다!2전통적인 가부장적 유교문화의 영향이 지속되고 있어 법률에 따르지 \\n않는 가족 형성은 인정되지 않고 있다. 따라서 출산은 법률혼을 전제\\n로 발생한다. 그런데 한국 사회에서 결혼은 각종 조건을 충족시킬 때 \\n가능하다. 학력, 학벌, 안정적 직장, 주거 등이 갖추어져야 결혼을 할 \\n수 있고, 결혼 후에도 안정적인 가족생활이 가능하다. 그만큼 청년들\\n은 ‘출산’에 앞서 ‘결혼’의 어려움을 직면하고 있다. 결혼의 관문을 통\\n과하기 어려워지면서 만혼 경향이 증가하고, 결혼 자체를 기피하는 \\n비혼도 증가하고 있다. \\n과거와 달리 결혼과 출산 간 연계도 점차 약화되고 있다. 결혼이 반\\n드시 출산으로 이어지지 않고 있는 것이다. 딩크족(Double Income \\nNot Kids)과 같이 결혼생활이 자녀 중심에서 부부 중심으로 변화하\\n는 경향도 있지만, 무엇보다도 자녀 양육에 비용이 발생하여 큰 부담\\n으로 인식되고 있기 때문이다. 자녀 양육 비용은 의료·보육·(사)교육 \\n등에 관한 서비스를 구매하기 위한 경제적 비용, 돌봄, 일-가정 양립 \\n등을 위한 시간 비용, 출산·양육으로 인한 고용 등에서 기회비용 등\\n을 포함한다. 이러한 미시적인 원인들은 개인 또는 부부가 출산을 결\\n정하는 데 직접적인 영향을 미친다. 출산은 미시적인 원인들 뿐 아니\\n라 거시적인 사회구조에 의해서도 영향을 받는다. 일자리 부족과 고\\n용 불안정, 높은 주거비용, 과도한 교육 경쟁(학력주의와 학벌주의 만\\n연), 양성 불평등, 사회규범 및 가치관의 변화 등이 출산에 영향을 미\\n치는 거시적인 요소들이다. 미시적인 요인들 대부분 거시적 요인들\\n에 의해 영향을 받는다. 예를 들어, 고용에서 학력주의와 학벌주의 만\\n연은 사교육비를 증가시켜 자녀 양육의 경제적 부담을 높이고 있다. 출산율 회복에 성공한 국가로부터의 교훈\\n이와 같이 저출산의 원인들이 명백하게 규명되고 있다는 점에서 저\\n출산은 극복이 가능한 현상으로 간주할 수 있다. 실례로 서구 국가들 \\n중 프랑스, 스웨덴, 영국 등은 저출산 현상을 극복한 국가들로 알려져 \\n있다. 우리나라는 15년 이상 저출산 대책이 추진되고 있음에도 불구\\n하고 출산율은 오히려 더 낮아져 최근에는 0명대를 기록하고 있다. \\n저출산 대책은 다양한 복합적인 원인들을 해소할 수 있도록 종합적\\n으로 그리고 장기간에 걸쳐 일관성 있게 추진되어야 한다. 그러나 우\\n리나라 저출산 대책에는 반드시 필요한 정책들이 누락되어 있는 문\\n제, 필요한 정책들이 포함되고 있을지라도 사각지대가 크거나 급여 \\n등이 충분하지 않은 문제들을 가지고 있다. \\n이와 관련, 초저출산현상을 멈추기 위해서는 세 가지의 근본적인 노\\n력이 긴요하다. \\n첫 번째로 과도한 경쟁사회를 지양하기 위하여 노동시장을 개혁하여\\n야 한다. 사실 한국 사회에서 만연하는 저출산 원인들은 다소 차이가 \\n있을지라도 OECD 국가나 동유럽 국가들 일부도 직면하고 있다. 그\\n럼에도 불구하고, 유독 한국 사회에서 합계출산율이 0명대로 치닫고 \\n있는 점은 직접적인 저출산 원인들 이외의 요소가 작동하고 있는 것\\n으로 설명할 수 있다. 대표적으로 단기간에 이룩하였던 고도 경제성\\n장의 후유증으로 삶의 목표가 성공이나 물질적인 것을 추구하는 데 \\n집중되었으며, 이를 위해 어린 시절부터 무한 경쟁사회 속에서 살아\\n가면서 여유 없이 쫓기고 있다. 이로 인해 자녀 양육은 무한 경쟁의 \\n연속선상에서 막대한 비용을 들여야 한다는 강박관념 때문에 행복보\\n다는 부담으로 인식되고 있다. 따라서 노동 개혁을 통해 그간 관행으\\n<그림 2> OECD 국가의 합계출산율 추이 \\n출처; OECD (2023). Fertility rates (indicator). doi: 10.1 787/8272fb01-en (Accessed on 09 May 2023) \\n주) 한국은 합계출산율을 2022년까지 발표하였으나, OECD 국가 대부분 2020년까지 발표하였음. 따라서, 2020년 OECD 기준 한국의 합계출산율은 0.84임.'"
            ],
            "application/vnd.google.colaboratory.intrinsic+json": {
              "type": "string"
            }
          },
          "metadata": {},
          "execution_count": 136
        }
      ]
    },
    {
      "cell_type": "code",
      "source": [
        "len(larger_chunks)"
      ],
      "metadata": {
        "colab": {
          "base_uri": "https://localhost:8080/"
        },
        "id": "DBiZeOCrJvCB",
        "outputId": "9bc02679-7368-4f7c-b383-f814f93f26be"
      },
      "execution_count": null,
      "outputs": [
        {
          "output_type": "execute_result",
          "data": {
            "text/plain": [
              "1944"
            ]
          },
          "metadata": {},
          "execution_count": 137
        }
      ]
    },
    {
      "cell_type": "code",
      "source": [],
      "metadata": {
        "id": "2NnJzGpwMdVn"
      },
      "execution_count": null,
      "outputs": []
    },
    {
      "cell_type": "code",
      "source": [],
      "metadata": {
        "id": "i_GcE2b5uZ8q"
      },
      "execution_count": null,
      "outputs": []
    },
    {
      "cell_type": "markdown",
      "source": [
        "# Summary"
      ],
      "metadata": {
        "id": "M_2T8uotuaSY"
      }
    },
    {
      "cell_type": "markdown",
      "source": [
        "요약(summary)은 청크의 내용을 더 정확하게 요약하여 더 나은 검색 결과를 얻을 수 있습니다. 여기에서는 요약을 생성하고 이를 임베딩하는 방법을 보여줍니다."
      ],
      "metadata": {
        "id": "ucjnBz1gwFWr"
      }
    },
    {
      "cell_type": "code",
      "source": [
        "import uuid\n",
        "\n",
        "from langchain_core.documents import Document\n",
        "from langchain_core.output_parsers import StrOutputParser\n",
        "from langchain_core.prompts import ChatPromptTemplate\n",
        "from langchain_openai import ChatOpenAI"
      ],
      "metadata": {
        "id": "T91U5u-puZ6Q"
      },
      "execution_count": null,
      "outputs": []
    },
    {
      "cell_type": "code",
      "source": [
        "chain = (\n",
        "    {\"doc\": lambda x: x.page_content}\n",
        "    | ChatPromptTemplate.from_template(\"아래 문서를 요약하세요.:\\n\\n{doc}\")\n",
        "    | ChatOpenAI(max_retries=0, openai_api_key=OPENAI_KEY)\n",
        "    | StrOutputParser()\n",
        ")"
      ],
      "metadata": {
        "id": "DCPV6pVtwYzQ"
      },
      "execution_count": null,
      "outputs": []
    },
    {
      "cell_type": "code",
      "source": [
        "docs"
      ],
      "metadata": {
        "colab": {
          "base_uri": "https://localhost:8080/"
        },
        "id": "PsElTnsVHY-l",
        "outputId": "66bde45e-65b2-4160-821a-deef33e9c8ba"
      },
      "execution_count": null,
      "outputs": [
        {
          "output_type": "execute_result",
          "data": {
            "text/plain": [
              "[Document(page_content='Seoul National University Asia Center1\\n2023년 5월 22일, 3권 26호 (통권 116호)\\n한국의 출산율은 어디가 바닥인가? \\n0.78명! 2022년 대한민국의 합계출산율이다. 인구가 증가나 감소하\\n지 않고 고령화도 되지 않는 이른바 안정인구(Stable Population)를 \\n보유하기 위해서는 합계출산율이 인구대체수준인 2.1명에서 장기적\\n으로 유지되어야 한다. 그런데 1/3 정도만 인구를 대체할 수 있는 출\\n산율이 장기적으로 지속된다면 그만큼 우리나라 인구는 급속하게 감\\n소하고 고령화될 것이다. \\n이와 같은 인구학적 재생산(Reproduction) 붕괴는 저절로 회복되지 \\n않는다. 이론들에 따르면 출산율이 0명에 이를 수도 있다. 대표적으\\n로 이스터린(Easterlin, 1978)의 상대적 소득가설(Relative Income \\nHypothesis)에 의하면, 부부가 충분한 자원을 가지고 있지 못한 경우 출산을 주저하게 되는데, 기대되는 상대적인 소득과 자원에 따라 \\n출산율은 0명까지 감소할 가능성을 배제할 수 없다. 베커의 신가정경\\n제출산력모형(New Home Economics Model of Fertility)에 따르면, \\n자녀에 대한 만족은 자녀의 수가 아닌 자녀의 질을 통해 추구하는데 \\n자녀  양육에는 보다 많은 시간 투입이 요구된다. 인적자본이 중시되\\n는 현대사회에서 개인은 시간가치를 증가시키기 위해 자녀 양육보다 \\n시간이 덜 소요되는 것들을 선호하게 된다. \\n한국 초저출산의 원인구조\\n한국에서 재생산 위기는 ‘결혼’에서부터 시작된다. 한국은 세계 경제 \\n10위권, IT(Information Technology) 강국 등으로 알려져 있지만, \\n<그림 1> 출산율 감소와 신생아 수를 넘어선 고령인구\\n초저출산현상 극복과 인구구조 변화 대응\\n# 이삼식    한양대학교\\n한국의 합계출산율은 2022년 0.78명으로 장기간 초저출산현상 지속은 인구의 지속가능성에 위협이 되고 있다. 저출산 대책은 다양\\n한 복합적인 원인들을 해소할 수 있도록 종합적으로 장기간 일관성 있게 추진되어야 한다. 학령인구 감소, 노동력 부족, 사회보장 부담 \\n증가 등 인구구조 변화에 대한 철저한 대응이 필요하다. 출산율 회복과 인구구조 변화에 대한 적응은 양자택일의 문제가 아니라 동시에 \\n추구하여야 할 사회 목표들인 것이다. Summary Of Article', metadata={'source': 'https://snuac.snu.ac.kr/2015_snuac/wp-content/uploads/2015/07/asiabrief_3-26.pdf', 'page': 0}),\n",
              " Document(page_content='세계를 잇다, 미래를 빚다!2전통적인 가부장적 유교문화의 영향이 지속되고 있어 법률에 따르지 \\n않는 가족 형성은 인정되지 않고 있다. 따라서 출산은 법률혼을 전제\\n로 발생한다. 그런데 한국 사회에서 결혼은 각종 조건을 충족시킬 때 \\n가능하다. 학력, 학벌, 안정적 직장, 주거 등이 갖추어져야 결혼을 할 \\n수 있고, 결혼 후에도 안정적인 가족생활이 가능하다. 그만큼 청년들\\n은 ‘출산’에 앞서 ‘결혼’의 어려움을 직면하고 있다. 결혼의 관문을 통\\n과하기 어려워지면서 만혼 경향이 증가하고, 결혼 자체를 기피하는 \\n비혼도 증가하고 있다. \\n과거와 달리 결혼과 출산 간 연계도 점차 약화되고 있다. 결혼이 반\\n드시 출산으로 이어지지 않고 있는 것이다. 딩크족(Double Income \\nNot Kids)과 같이 결혼생활이 자녀 중심에서 부부 중심으로 변화하\\n는 경향도 있지만, 무엇보다도 자녀 양육에 비용이 발생하여 큰 부담\\n으로 인식되고 있기 때문이다. 자녀 양육 비용은 의료·보육·(사)교육 \\n등에 관한 서비스를 구매하기 위한 경제적 비용, 돌봄, 일-가정 양립 \\n등을 위한 시간 비용, 출산·양육으로 인한 고용 등에서 기회비용 등\\n을 포함한다. 이러한 미시적인 원인들은 개인 또는 부부가 출산을 결\\n정하는 데 직접적인 영향을 미친다. 출산은 미시적인 원인들 뿐 아니\\n라 거시적인 사회구조에 의해서도 영향을 받는다. 일자리 부족과 고\\n용 불안정, 높은 주거비용, 과도한 교육 경쟁(학력주의와 학벌주의 만\\n연), 양성 불평등, 사회규범 및 가치관의 변화 등이 출산에 영향을 미\\n치는 거시적인 요소들이다. 미시적인 요인들 대부분 거시적 요인들\\n에 의해 영향을 받는다. 예를 들어, 고용에서 학력주의와 학벌주의 만\\n연은 사교육비를 증가시켜 자녀 양육의 경제적 부담을 높이고 있다. 출산율 회복에 성공한 국가로부터의 교훈\\n이와 같이 저출산의 원인들이 명백하게 규명되고 있다는 점에서 저\\n출산은 극복이 가능한 현상으로 간주할 수 있다. 실례로 서구 국가들 \\n중 프랑스, 스웨덴, 영국 등은 저출산 현상을 극복한 국가들로 알려져 \\n있다. 우리나라는 15년 이상 저출산 대책이 추진되고 있음에도 불구\\n하고 출산율은 오히려 더 낮아져 최근에는 0명대를 기록하고 있다. \\n저출산 대책은 다양한 복합적인 원인들을 해소할 수 있도록 종합적\\n으로 그리고 장기간에 걸쳐 일관성 있게 추진되어야 한다. 그러나 우\\n리나라 저출산 대책에는 반드시 필요한 정책들이 누락되어 있는 문\\n제, 필요한 정책들이 포함되고 있을지라도 사각지대가 크거나 급여 \\n등이 충분하지 않은 문제들을 가지고 있다. \\n이와 관련, 초저출산현상을 멈추기 위해서는 세 가지의 근본적인 노\\n력이 긴요하다. \\n첫 번째로 과도한 경쟁사회를 지양하기 위하여 노동시장을 개혁하여\\n야 한다. 사실 한국 사회에서 만연하는 저출산 원인들은 다소 차이가 \\n있을지라도 OECD 국가나 동유럽 국가들 일부도 직면하고 있다. 그\\n럼에도 불구하고, 유독 한국 사회에서 합계출산율이 0명대로 치닫고 \\n있는 점은 직접적인 저출산 원인들 이외의 요소가 작동하고 있는 것\\n으로 설명할 수 있다. 대표적으로 단기간에 이룩하였던 고도 경제성\\n장의 후유증으로 삶의 목표가 성공이나 물질적인 것을 추구하는 데 \\n집중되었으며, 이를 위해 어린 시절부터 무한 경쟁사회 속에서 살아\\n가면서 여유 없이 쫓기고 있다. 이로 인해 자녀 양육은 무한 경쟁의 \\n연속선상에서 막대한 비용을 들여야 한다는 강박관념 때문에 행복보\\n다는 부담으로 인식되고 있다. 따라서 노동 개혁을 통해 그간 관행으\\n<그림 2> OECD 국가의 합계출산율 추이 \\n출처; OECD (2023). Fertility rates (indicator). doi: 10.1 787/8272fb01-en (Accessed on 09 May 2023) \\n주) 한국은 합계출산율을 2022년까지 발표하였으나, OECD 국가 대부분 2020년까지 발표하였음. 따라서, 2020년 OECD 기준 한국의 합계출산율은 0.84임.', metadata={'source': 'https://snuac.snu.ac.kr/2015_snuac/wp-content/uploads/2015/07/asiabrief_3-26.pdf', 'page': 1}),\n",
              " Document(page_content='Seoul National University Asia Center3로 고착화된 학력, 학벌, 젠더, 출신 지역 등에 따른 불합리한 차별을 \\n불식시키도록 해야 한다. 구체적으로 학력이나 학벌 등을 이유로 한 \\n고용기회나 승진 및 임금 등에서 차별을 없애고, 대신 능력을 우선시\\n하는 원칙이 통용되도록 한다. \\n두 번째로 자녀 양육의 생애주기와 연계된 사회구조 및 관행(문화)\\n을 개선하는 것이다. 주택가격을 안정화하고, 초장기 저리 공공주택\\n의 공급을 늘려 자기 집 마련이 인생의 목표가 되지 않도록 하여야 한\\n다. 노후가 보장되도록 공적보장체계를 강화하여 생애과정에서 자녀 \\n양육과 노후 대비가 충돌하지 않도록 할 필요가 있다. 사회문화 및 규\\n범에 관한 접근도 중요하다. 교육과 경제활동 참여도가 높아진 데다\\n가 고용 불안정, 결혼에 따른 노동시장에서의 차별, 가치관 변화 등\\n으로 인해 결혼이 더욱더 지체되면서 미혼 기간이 길어지고 있다. 이\\n로 인해 동거 등 사실혼적 관계가 증가하고, 이들로부터 출산이 발생\\n하기도 한다. 서구 국가들은 오래전부터 비혼 출산에 대한 사회적 보\\n호를 강화하기 위한 법들을 제정, 시행해오고 있다. 프랑스의 시민연\\n대계약(pacte civil de solidarit é, PACS), 독일의 생활동반자관계법\\n(Lebenspartnerschaftsgesetz), 스웨덴의 삼보법(samboavtal), 네\\n덜란드의 동반자등록(geregistered partnerschap) 등이 대표적이\\n다. 우리나라에서도 동거 커플의 권리와 의무를 규정하는 법령을 제\\n정할 필요가 있다. 이는 동거 커플이 법률혼으로 이행하는 데 긍정적\\n인 역할을 할 뿐 아니라 인공임신중절 예방, 영유아 유기·학대, 아동 \\n빈곤의 세습화 등을 예방하는 데에도 중요하다. \\n세 번째로 미시적인 접근에도 충실해야 한다. 미시적인 접근에는 필\\n요한 정책들을 신규 도입하는 것은 물론 기존 정책들의 수준을 현실화하여야 과제들이 포함된다. 우선 자녀 양육 지원은 대부분 미취학 \\n시기에 집중되어 있다. 임신·출산 의료지원, 출산전후휴가, 육아휴\\n직, 돌봄, 보육 등이 해당된다. 최근 들어 초등학교 저학년까지 돌봄\\n이 확대되고 아동수당이 지급되고 있으나, 이후 양육에 소요되는 비\\n용 등에 대한 지원은 단절된 상태이다. 서구사회에서와 같이 자녀 양\\n육을 아동의 생애주기에 따라 체계적으로 지원하기 위하여 아동수\\n당, 교육수당 등을 16세 또는 18세까지 연장할 필요가 있다. 아동수\\n당도 월 10만 원에서 2~3배를 증액하여 물가 등과 연동하여 현실화\\n할 필요가 있다. \\n현행 일가정양립 지원정책은 사각지대, 충분성 결여, 연계성 부족 등\\n의 문제점들로 인해 효과성을 담보하기 곤란한 실정이다. 즉, 부모의 \\n시간에 대한 지원을 보다 확대할 필요가 있다. 출산전후휴가나 육아\\n휴직을 이용할 수 있는 대상은 공무원이나 고용보험 가입자에 한정\\n된다. 1인 사업자, 특수형태 근로자 및 자유계약자(출산 전 18개월 \\n중 3개월 이상 소득 활동을 한 경우) 등 일정한 고용보험 미적용자에 \\n대해서는 출산 급여(50만 원, 3개월)를 지급하고 있다. 그러나 근본\\n적인 방법으로 근로 방식이나 계약 형태와 관계없이 일하는 모든 부\\n와 모가 육아휴직 등을 이용할 수 있도록 부모보험을 도입할 필요가 \\n있다. 육아휴직 이용 기간을 6개월, 9개월, 12개월, 18개월 등으로 \\n구분하고, 이용 기간에 따라 육아휴직 급여율을 차등적으로 적용하\\n여 이용자가 자신의 상황에 따라 자유로이 선택할 수 있도록 한다. 육\\n아휴직 등 직장 경력의 공백을 전제로 하는 제도들 이외에 일하면서 \\n육아를 할 수 있는 육아기근로시간단축제, 육아재택제도 등을 활성\\n화하여 돌봄 공백과 경력단절의 두려움을 해소해주도록 한다. 이러\\n한 제도들과 어린이집 이용 시간 등 간 연계를 강화하여 시간의 사각\\n<그림 3> 프랑스 합계출산율 추이와 대책 변천', metadata={'source': 'https://snuac.snu.ac.kr/2015_snuac/wp-content/uploads/2015/07/asiabrief_3-26.pdf', 'page': 2}),\n",
              " Document(page_content='세계를 잇다, 미래를 빚다!4지대를 없애도록 한다. 무엇보다도 출산과 양육에 친화적인 직장문\\n화를 조성하여야 한다. \\n인구구조 변화에 대응해야\\n우리나라는 이미 20년 이상 동안 초저출산현상(합계출산율 1.3명 \\n이하)을 겪고 있다. 적어도 당분간 ‘저출산의 덫’에서 빠져나올 수 있\\n을 것으로 기대하기 어렵다. 저출산 대책들이 실효성을 거두기 시작\\n할지라도 언제부터 얼마나 빠른 속도로 어느 수준까지 출산율이 높\\n아질 것으로 예상하기도 어렵다. 결국 우리나라 인구는 급속하게 감\\n소하고, 고령화될 것이다. 따라서 저출산 대책을 더욱 강화하는 동시\\n에 인구감소 및 고령화에 대해서도 철저하게 대응하여야 한다. 인구\\n감소 및 고령화가 사회에 미치는 파장은 크게 학교 붕괴, 병력자원 부\\n족, 노동력 부족, 사회보장 부담 증가 등을 들 수 있다. \\n학령인구 감소에 따른 학생 수 감소는 초등학교, 중학교, 고등학교 및 \\n대학교에까지 영향을 미치고 있다. 과거 고출산 시기에 태어난 세대\\n를 위해 건립하였던 학교 시설과 교사 양성 인프라(교육대학 등)는 과\\n잉 시설이 되면서 통폐합이 진행되고 있다. 폐교는 단순하게 잉여 시\\n설의 처분만을 의미하지 않는다. 폐교로 아동이 있는 가족은 그 지역\\n으로 이주해오지 않을 것이며, 아동들을 상대로 하는 가게나 시설 역\\n시 폐쇄하거나 다른 지역으로 떠날 수밖에 없다. 이와 같이 폐교는 지\\n방소멸을 유발하고 가속화시키는 주요한 요인이 된다. 학생들의 사\\n회성 발달, 교육행정 효율성 등에 불리한 학생희소학교의 문제를 최\\n소화하기 위해 초·중 또는 중·고 통합학교나 학교 간 통합수업을 활\\n성화해야 한다. 지방대학의 경쟁력을 확보하기 위해 교육부의 권한\\n을 지자체에 이양하는 동시에 중앙정부 차원에서 지방대학과 산업 \\n간 연계를 강화하기 위한 투자를 과감하게 늘릴 필요가 있다. 종합대\\n학이 보편적인 대학 체계를 일부 단과대학 중심의 특성화 대학으로 \\n전환하여 학생 수가 적으나 강한 대학들이 지역적으로 균등하게 배\\n치될 필요가 있다. \\n출생아 수 감소는 징병 대상 인구의 감소를 가져와 병력자원 부족을 \\n초래한다. 이에 대응하기 위하여 4차 산업혁명 핵심기술 등을 이용\\n하여 병력 대체용 첨단 무기(전방 감시 등)를 개발하고, 기술병 등 일\\n정한 자원에 대해서는 모병제를 도입하는 이른바 혼합병제를 채택할 \\n필요가 있다. \\n생산가능인구(15~49세)가 감소하여도 베이비붐세대(1955~1974\\n년 출생 인구)가 여전히 노동시장에서 활동하고 있어 당분간 노동력\\n은 공급과잉 상태를 유지할 것이다. 그러나 베이비붐세대 대부분이 노동시장에 이탈하는 2030년대 중반경부터 수요에 비해 노동력 공\\n급이 본격적으로 부족하기 시작할 것이다. 노동인구의 구매력이 노\\n인인구에 비해 상대적으로 높다는 점에서 노동력 부족은 생산 인구 \\n부족뿐 아니라 소비 인구 부족 즉, 내수 위축으로도 이어져 경제성장\\n을 둔화시킬 것이다. 노동력 부족에 대응하기 위해서는 근본적으로 \\n출산율 회복이 필수적이다. 다른 한편으로 잠재 인력의 활용을 극대\\n화할 필요가 있다. 50%대에 머물고 있는 여성 고용률을 스웨덴 등 \\n선진국의 수준(70~80%대)으로 높이도록 한다. 이를 위해서는 노동\\n시장에서의 젠더 차별 불식, 일가정양립 환경 조성 등이 선결되어야 \\n할 것이다. 고령화가 빠르게 진행되고 있으나 고령인구의 학력과 직\\n업력이 높아지고 건강이 개선되고 있다는 점에서 정년 연장 내지 폐\\n지를 통해 고령인구가 보다 오랫동안 노동시장에 남아서 역할을 하\\n도록 한다. 외국인 노동력 유입도 노동력 부족에 대처하기 위한 중요\\n한 전략이 될 수 있다. 이미 중소기업, 농업 등에서는 내국인의 3D 업\\n종 기피 등으로 인하여 노동력이 부족하며, 이러한 빈자리를 단기 외\\n국인 노동자로 해소하고 있다. 미래에는 단기 외국인 노동자들도 확\\n보하기 어려울 수 있다. 동남아 국가 등도 이미 저출산과 고령화가 시\\n작되어 장기적으로 우리나라에 자국의 노동자들을 보낼 수 있는 여\\n력이 없어질 것이기 때문이다. 일부에서는 영주 목적의 장기 이민자\\n의 유입이 필요하다는 주장이 제기되기도 한다. 최근의 초저출산현\\n상이 장기적으로 지속된다면 여성인력이나 고령인력만으로 필요 인\\n력 내지 안정적인 인구구조를 유지하기 어려울 것이기 때문에 일면 \\n타당하다고 할 수 있다. 그러나 미래로 갈수록 노동집약적 산업 중심\\n에서 지식기반 산업 중심으로 산업구조가 변화할 것이라는 사실이\\n다. 이민자들도 한국 사회의 저출산현상에 편승하고 자신들은 고령\\n화된다면 오히려 인구구조에 부정적인 영향을 미친다는 점이다. 그\\n리고 사회통합 비용이 높을 수 있다는 점에서 인구감소 및 고령화에\\n의 대응을 목적으로 하는 장기 이민자 유입에 대해서는 신중할 필요\\n가 있다. 서구의 많은 연구들은 인구 고령화에 대응하기 위한 이민정\\n책은 실효성이 높지 않음을 지적해왔다. 실제 서구 국가들은 제조업 \\n중심의 외국인 노동력 유입을 억제하고, 우수 인력 중심으로 이민을 \\n선별적으로 허용하고 있다. \\n생산가능인구는 감소하나 이들이 부양해야 할 노인인구는 급격하게 \\n증가하여 사회보장 부담이 크게 높아질 것이다. 대표적으로 노인인\\n구 증가로 연금 수령 인구는 증가하나 연금보험료를 납부할 인구는 \\n줄어들어 장기적으로 연금기금은 고갈될 것이다. 건강보험이나 장기\\n요양보험 역시 보험료 이용자는 증가하나 납부자는 감소하여 보험재\\n정의 지속가능성이 약화될 것이다. 이러한 문제를 극복하기 위하여 \\n보험료율과 소득대체율 등을 조정하여야 하나, 보다 근본적인 방법', metadata={'source': 'https://snuac.snu.ac.kr/2015_snuac/wp-content/uploads/2015/07/asiabrief_3-26.pdf', 'page': 3}),\n",
              " Document(page_content=\"Seoul National University Asia Center5발행처: 서울대학교 아시아연구소, HK+메가아시아연구사업단     \\n발행인: 박수진  편집위원장: 박수진  편집위원: 이명무, 김윤호    \\n편집간사: 김정희  편집조교: 박효진, 전민규, 민보미, 최태수, 김용재  디자인: 박종홍\\n연락처: 02-880-2087, snuac.issuebrief@gmail.com   아시아 브리프의 목표\\n· 아시아의 현안 분석과 정책적 함의 제시         \\n· 한국의 아시아 진출 전략 개발         \\n· 메가 아시아 건설을 위한 공론장Tag: 초저출산,미시적접근,사회구조,고령화,인구구조최신 관련 자료\\n ·이삼식 외 (2021). “저출산·고령사회의 효율적 대응을 위한 추진체계 구축방안.” 대통령직속 저출산고령사회위원회. 한양대학교 고령사회연\\n구원. \\n ·이삼식 외 (2020). “저출산에 따른 재정부담 분석 및 대응.” 기획재정부. 한양대학교 고령사회연구원. \\n ·이삼식 (2020). “한국 인구정책 변천과 시대적 함의.” 기획재정부. KDI 글로벌지식협력단지.\\n ·이삼식 외 (2018). “대한민국 중장기 인구정책 방향.” 보건복지부. 한양대학교 고령사회연구원.\\n ·이태훈 (2019). “프랑스 출산율 상승에 긍정적인 영향을 미친 가족정책.” 『국제노동브리프』 12월호, 한국노동연구원.\\n이삼식 (lss2323@hanyang.ac.kr)\\n현) 한양대학교 고령사회연구원 원장, 인구보건복지협회 회장, 국회 저출생 및 인구절벽대응 포럼 자문위원. \\n전) 한국보건사회연구원 저출산고령화대책기획단 단장, 대통령직속 저출산고령사회위원회 정책운영위원회 위원(세대공감분과 \\n      위원장), 한국인구학회 회장.\\n주요 논문과 저서: “Working Conditions Affecting Home Care Workers' Stress and Turnover Intention.”  \\n   Journal of Applied Gerontology  42(4), 2023.\\n  “Impact of older adults' mobility and social participation on life satisfaction in South Korea.”  \\n  Asian Social Work and Policy Review , 2019.\\n  “The National Reproductive Crisis: South Korea’s Fertility Shock.” Korea Journal of Sociology  49(3), 2015.\\n  Issues of Aging and Age Dependency in Post-industrial Societies. Low Fertility Regimes and   \\n  Demographic and Societal Change . Springer International Publishing, 2018.\\n  Lowest-low fertility and policy responses in South Korea. Low and lower fertility: Variations across  \\n  developed countries . Springer International Publishing, 2015.으로 인구고령화 수준이 30% 등 일정 수준을 넘지 않도록 출산율을 \\n회복하는 노력이 중요하다. 이와 동시에 정년 연장을 통해 적어도 60\\n대 인구가 연금, 건강보험 등 사회보장의 수급자적 위치에서 납부자\\n적 위치로 전환할 필요가 있다.\\n출산율 회복과 인구구조 변화 대응은 양자택일이 \\n아닌 양자병행 과제\\n최근 한국 사회에서 출산율이 0명대로 급락하면서 출산율 회복에 대\\n한 회의감이 증가하고 있다. 그 영향으로 출산율 회복을 위한 의지와 노력이 약화되고 대신 인구감소 및 고령화에 적응하여야 한다는 논\\n의가 활발하다. 그러나 출산율 회복 없는 인구변화에 대한 대응은 높\\n은 비용과 고통을 수반할 것이다. 그렇다고 출산율이 단기간 내 급격\\n하게 회복할 수 없다는 점에서 인구변화에 대한 적응을 소홀히 할 수 \\n없다. 결국 출산율 회복과 인구변화에 대한 적응은 양자택일의 문제\\n가 아니라 동시에 추구하여야 할 사회 목표들인 것이다. 출산율 회복\\n은 인구변화 적응 비용을 줄이며, 인구변화에 대한 성공적인 적응(예\\n를 들어, 노후 보장 등)은 출산율 회복에 긍정적인 역할을 하는 시너\\n지 효과가 날 것이다.\", metadata={'source': 'https://snuac.snu.ac.kr/2015_snuac/wp-content/uploads/2015/07/asiabrief_3-26.pdf', 'page': 4})]"
            ]
          },
          "metadata": {},
          "execution_count": 89
        }
      ]
    },
    {
      "cell_type": "code",
      "source": [
        "summaries = chain.batch(docs, {\"max_concurrency\": 5})\n",
        "summaries"
      ],
      "metadata": {
        "colab": {
          "base_uri": "https://localhost:8080/"
        },
        "id": "Q7k9FVe5wYxE",
        "outputId": "70308f03-dabf-4402-bf45-7d6da90b53dc"
      },
      "execution_count": null,
      "outputs": [
        {
          "output_type": "execute_result",
          "data": {
            "text/plain": [
              "['한국의 합계출산율이 0.78명으로 매우 낮아졌는데, 이는 안정인구를 유지하기 위해서는 출산율이 2.1명에서 장기적으로 유지되어야 한다는 것을 의미한다. 이런 인구학적 재생산 붕괴는 저절로 회복되지 않으며, 출산율이 0명에 이를 수도 있다는 이론도 있다. 한국의 초저출산현상은 결혼에서부터 시작되는데, 이를 극복하고 인구구조를 변화시키기 위해서는 복합적인 대책과 종합적인 대응이 필요하다. 출산율 회복과 인구구조 변화는 양자택일이 아닌 동시에 추구해야 할 사회 목표이다.',\n",
              " '한국 사회에서는 전통적인 유교문화가 여전히 영향을 미치고 있어 법률에 따른 가족 형성이 중요시되고 있으며, 결혼은 각종 조건을 충족해야 가능하다. 하지만 결혼과 출산 간 연계가 약화되고 있으며, 경제적 부담과 사회 구조적인 요인들이 출산을 결정하는데 영향을 미치고 있다. 한국은 저출산 대책을 추진하고 있지만 출산율은 낮아지고 있어 다양한 정책적 개혁이 필요하다. 과도한 경쟁사회를 지양하고 노동 개혁을 통해 저출산 현상을 극복하는 것이 중요하다.',\n",
              " '서울대학교 아시아 센터는 학력, 학벌, 젠더, 출신 지역에 따른 차별을 없애고 능력을 우선시하는 방향으로 고용기회와 승진 등에 대한 불합리한 차별을 해결해야 한다고 주장하고 있다. 또한 자녀 양육과 노후 대비를 충돌하지 않도록 사회구조와 관행을 개선하고, 동거 커플의 권리와 의무를 규정하는 법령을 제정해야 한다고 강조하고 있다. 또한 육아휴직 등을 통해 부모의 시간을 보다 확대할 필요가 있으며, 육아기근로시간단축제, 육아재택제도 등을 활성화하여 돌봄 공백과 경력단절을 해소해야 한다고 제안하고 있다.',\n",
              " '은 인구구조 변화에 대응하는 정책을 수립하여야 한다. 이를 위해서는 출산과 양육에 대한 직장 환경을 개선하고, 학생 수 감소에 대비하여 학교 통폐합을 최소화하고, 노동력 부족에 대비하여 외국인 노동자 유입을 고려하며, 노인인구 증가에 대비하여 사회보장제도를 개선하는 등 종합적인 정책이 필요하다. 이민자 유입에 대해서는 신중한 접근이 필요하며, 인구구조 변화에 대한 장기적인 전략이 마련되어야 한다.',\n",
              " '서울대학교 아시아연구소가 발행하는 아시아 브리프는 아시아의 현안을 분석하고 정책적 함의를 제시하며, 한국의 아시아 진출 전략과 메가 아시아 건설을 위한 공론장을 제공한다. 최근 저출산과 고령화 문제에 대한 대응을 위한 다양한 자료가 발행되고 있다. 이삼식을 비롯한 연구원들은 저출산과 고령화에 대한 대응 방안을 제시하고 있으며, 출판물과 논문을 통해 이 문제에 대한 연구를 활발히 진행하고 있다. 현재 한국 사회에서는 출산율이 급격히 하락하면서 출산율 회복에 대한 중요성이 부각되고 있으며, 이에 대한 대응이 필요하다는 논의가 활발하게 이루어지고 있다. 출산율 회복과 인구구조 변화 대응은 양자택일이 아닌 양자병행 과제로 인식되고 있으며, 이를 통해 인구변화에 대한 성공적인 적응을 위한 노력이 필요하다는 것을 강조하고 있다.']"
            ]
          },
          "metadata": {},
          "execution_count": 90
        }
      ]
    },
    {
      "cell_type": "code",
      "source": [
        "len(summaries)"
      ],
      "metadata": {
        "colab": {
          "base_uri": "https://localhost:8080/"
        },
        "id": "9YZ9wyeiFBNj",
        "outputId": "6dfd4fd4-6d60-4a13-e6db-94d568257962"
      },
      "execution_count": null,
      "outputs": [
        {
          "output_type": "execute_result",
          "data": {
            "text/plain": [
              "5"
            ]
          },
          "metadata": {},
          "execution_count": 91
        }
      ]
    },
    {
      "cell_type": "code",
      "source": [
        "# The vectorstore to use to index the child chunks\n",
        "vectorstore = Chroma(collection_name=\"summaries\", embedding_function=OpenAIEmbeddings(openai_api_key=OPENAI_KEY))\n",
        "# The storage layer for the parent documents\n",
        "store = InMemoryByteStore()\n",
        "id_key = \"doc_id\"\n",
        "# The retriever (empty to start)\n",
        "retriever = MultiVectorRetriever(\n",
        "    vectorstore=vectorstore,\n",
        "    byte_store=store,\n",
        "    id_key=id_key,\n",
        ")"
      ],
      "metadata": {
        "id": "9GOwq8aQwYuo"
      },
      "execution_count": null,
      "outputs": []
    },
    {
      "cell_type": "code",
      "source": [
        "doc_ids = [str(uuid.uuid4()) for _ in docs]\n",
        "doc_ids"
      ],
      "metadata": {
        "colab": {
          "base_uri": "https://localhost:8080/"
        },
        "id": "QYvQSEaAFpkX",
        "outputId": "c94d35c0-c72a-4a80-d0d0-732aec073f0b"
      },
      "execution_count": null,
      "outputs": [
        {
          "output_type": "execute_result",
          "data": {
            "text/plain": [
              "['5c429cb2-0cbc-414d-acf4-38c27051a852',\n",
              " '3cb81a88-a302-40a7-9c45-5ae41aa2912b',\n",
              " 'f7af4159-204b-4e38-ac14-1dbee32cc6bf',\n",
              " 'a85e52f6-ace7-446f-9f29-8788634fae7a',\n",
              " '5bd5776a-2312-4632-9789-6fe315724609']"
            ]
          },
          "metadata": {},
          "execution_count": 93
        }
      ]
    },
    {
      "cell_type": "code",
      "source": [
        "summary_docs = [\n",
        "    Document(page_content=s, metadata={id_key: doc_ids[i]})\n",
        "    for i, s in enumerate(summaries)\n",
        "]"
      ],
      "metadata": {
        "id": "wInPMNVbwYsP"
      },
      "execution_count": null,
      "outputs": []
    },
    {
      "cell_type": "code",
      "source": [
        "summary_docs"
      ],
      "metadata": {
        "colab": {
          "base_uri": "https://localhost:8080/"
        },
        "id": "qtI8gf57Fr-m",
        "outputId": "5b5be182-69c0-4329-e6b1-c4d360224816"
      },
      "execution_count": null,
      "outputs": [
        {
          "output_type": "execute_result",
          "data": {
            "text/plain": [
              "[Document(page_content='한국의 합계출산율이 0.78명으로 매우 낮아졌는데, 이는 안정인구를 유지하기 위해서는 출산율이 2.1명에서 장기적으로 유지되어야 한다는 것을 의미한다. 이런 인구학적 재생산 붕괴는 저절로 회복되지 않으며, 출산율이 0명에 이를 수도 있다는 이론도 있다. 한국의 초저출산현상은 결혼에서부터 시작되는데, 이를 극복하고 인구구조를 변화시키기 위해서는 복합적인 대책과 종합적인 대응이 필요하다. 출산율 회복과 인구구조 변화는 양자택일이 아닌 동시에 추구해야 할 사회 목표이다.', metadata={'doc_id': '5c429cb2-0cbc-414d-acf4-38c27051a852'}),\n",
              " Document(page_content='한국 사회에서는 전통적인 유교문화가 여전히 영향을 미치고 있어 법률에 따른 가족 형성이 중요시되고 있으며, 결혼은 각종 조건을 충족해야 가능하다. 하지만 결혼과 출산 간 연계가 약화되고 있으며, 경제적 부담과 사회 구조적인 요인들이 출산을 결정하는데 영향을 미치고 있다. 한국은 저출산 대책을 추진하고 있지만 출산율은 낮아지고 있어 다양한 정책적 개혁이 필요하다. 과도한 경쟁사회를 지양하고 노동 개혁을 통해 저출산 현상을 극복하는 것이 중요하다.', metadata={'doc_id': '3cb81a88-a302-40a7-9c45-5ae41aa2912b'}),\n",
              " Document(page_content='서울대학교 아시아 센터는 학력, 학벌, 젠더, 출신 지역에 따른 차별을 없애고 능력을 우선시하는 방향으로 고용기회와 승진 등에 대한 불합리한 차별을 해결해야 한다고 주장하고 있다. 또한 자녀 양육과 노후 대비를 충돌하지 않도록 사회구조와 관행을 개선하고, 동거 커플의 권리와 의무를 규정하는 법령을 제정해야 한다고 강조하고 있다. 또한 육아휴직 등을 통해 부모의 시간을 보다 확대할 필요가 있으며, 육아기근로시간단축제, 육아재택제도 등을 활성화하여 돌봄 공백과 경력단절을 해소해야 한다고 제안하고 있다.', metadata={'doc_id': 'f7af4159-204b-4e38-ac14-1dbee32cc6bf'}),\n",
              " Document(page_content='은 인구구조 변화에 대응하는 정책을 수립하여야 한다. 이를 위해서는 출산과 양육에 대한 직장 환경을 개선하고, 학생 수 감소에 대비하여 학교 통폐합을 최소화하고, 노동력 부족에 대비하여 외국인 노동자 유입을 고려하며, 노인인구 증가에 대비하여 사회보장제도를 개선하는 등 종합적인 정책이 필요하다. 이민자 유입에 대해서는 신중한 접근이 필요하며, 인구구조 변화에 대한 장기적인 전략이 마련되어야 한다.', metadata={'doc_id': 'a85e52f6-ace7-446f-9f29-8788634fae7a'}),\n",
              " Document(page_content='서울대학교 아시아연구소가 발행하는 아시아 브리프는 아시아의 현안을 분석하고 정책적 함의를 제시하며, 한국의 아시아 진출 전략과 메가 아시아 건설을 위한 공론장을 제공한다. 최근 저출산과 고령화 문제에 대한 대응을 위한 다양한 자료가 발행되고 있다. 이삼식을 비롯한 연구원들은 저출산과 고령화에 대한 대응 방안을 제시하고 있으며, 출판물과 논문을 통해 이 문제에 대한 연구를 활발히 진행하고 있다. 현재 한국 사회에서는 출산율이 급격히 하락하면서 출산율 회복에 대한 중요성이 부각되고 있으며, 이에 대한 대응이 필요하다는 논의가 활발하게 이루어지고 있다. 출산율 회복과 인구구조 변화 대응은 양자택일이 아닌 양자병행 과제로 인식되고 있으며, 이를 통해 인구변화에 대한 성공적인 적응을 위한 노력이 필요하다는 것을 강조하고 있다.', metadata={'doc_id': '5bd5776a-2312-4632-9789-6fe315724609'})]"
            ]
          },
          "metadata": {},
          "execution_count": 95
        }
      ]
    },
    {
      "cell_type": "code",
      "source": [
        "retriever.vectorstore.add_documents(summary_docs)\n",
        "retriever.docstore.mset(list(zip(doc_ids, docs)))"
      ],
      "metadata": {
        "id": "1aFR19ALuZ3w"
      },
      "execution_count": null,
      "outputs": []
    },
    {
      "cell_type": "code",
      "source": [
        "# # We can also add the original chunks to the vectorstore if we so want\n",
        "# for i, doc in enumerate(docs):\n",
        "#     doc.metadata[id_key] = doc_ids[i]\n",
        "# retriever.vectorstore.add_documents(docs)"
      ],
      "metadata": {
        "id": "DyuDIgfkwvUL"
      },
      "execution_count": null,
      "outputs": []
    },
    {
      "cell_type": "code",
      "source": [
        "sub_docs = vectorstore.similarity_search(\"한국 저출산의 원인이 뭐야?\")\n",
        "sub_docs"
      ],
      "metadata": {
        "colab": {
          "base_uri": "https://localhost:8080/"
        },
        "id": "qc8I0bidwvRo",
        "outputId": "6f2df06a-fcfe-48ad-f850-0aedee4e5ea6"
      },
      "execution_count": null,
      "outputs": [
        {
          "output_type": "execute_result",
          "data": {
            "text/plain": [
              "[Document(page_content='한국 사회에서는 전통적인 유교문화가 여전히 영향을 미치고 있어 법률에 따른 가족 형성이 중요시되고 있으며, 결혼은 각종 조건을 충족해야 가능하다. 하지만 결혼과 출산 간 연계가 약화되고 있으며, 경제적 부담과 사회 구조적인 요인들이 출산을 결정하는데 영향을 미치고 있다. 한국은 저출산 대책을 추진하고 있지만 출산율은 낮아지고 있어 다양한 정책적 개혁이 필요하다. 과도한 경쟁사회를 지양하고 노동 개혁을 통해 저출산 현상을 극복하는 것이 중요하다.', metadata={'doc_id': '3cb81a88-a302-40a7-9c45-5ae41aa2912b'}),\n",
              " Document(page_content='한국 사회에서는 전통적인 유교문화의 영향으로 법률에 따르지 않는 가족 형성이 인정되지 않고, 출산은 법률혼을 전제로 한다. 결혼은 학력, 학벌, 안정적 직장, 주거 등의 조건을 충족해야 가능하며, 결혼과 출산 간 연계가 약화되고 있다. 고용 부족, 고용 불안정, 주거비용 증가, 교육 경쟁, 양성 불평등 등이 출산에 영향을 미치는 거시적 요인이다. 저출산 대책은 다양한 원인을 종합적으로 해소해야 하지만, 우리나라의 대책은 미흡하며, 세 가지 근본적인 노력이 필요하다. 첫째, 과도한 경쟁사회를 지양하기 위해 노동시장을 개혁해야 한다. 이를 통해 자녀 양육 비용과 부담을 줄일 수 있다.', metadata={'doc_id': 'ea5b03de-44bc-4a0f-8431-a078e7317a48'}),\n",
              " Document(page_content='서울대학교 아시아연구소가 발행하는 아시아 브리프는 아시아의 현안을 분석하고 정책적 함의를 제시하며, 한국의 아시아 진출 전략과 메가 아시아 건설을 위한 공론장을 제공한다. 최근 저출산과 고령화 문제에 대한 대응을 위한 다양한 자료가 발행되고 있다. 이삼식을 비롯한 연구원들은 저출산과 고령화에 대한 대응 방안을 제시하고 있으며, 출판물과 논문을 통해 이 문제에 대한 연구를 활발히 진행하고 있다. 현재 한국 사회에서는 출산율이 급격히 하락하면서 출산율 회복에 대한 중요성이 부각되고 있으며, 이에 대한 대응이 필요하다는 논의가 활발하게 이루어지고 있다. 출산율 회복과 인구구조 변화 대응은 양자택일이 아닌 양자병행 과제로 인식되고 있으며, 이를 통해 인구변화에 대한 성공적인 적응을 위한 노력이 필요하다는 것을 강조하고 있다.', metadata={'doc_id': '5bd5776a-2312-4632-9789-6fe315724609'}),\n",
              " Document(page_content='한국의 합계출산율이 0.78명으로 매우 낮아졌는데, 이는 안정인구를 유지하기 위해서는 출산율이 2.1명에서 장기적으로 유지되어야 한다는 것을 의미한다. 이런 인구학적 재생산 붕괴는 저절로 회복되지 않으며, 출산율이 0명에 이를 수도 있다는 이론도 있다. 한국의 초저출산현상은 결혼에서부터 시작되는데, 이를 극복하고 인구구조를 변화시키기 위해서는 복합적인 대책과 종합적인 대응이 필요하다. 출산율 회복과 인구구조 변화는 양자택일이 아닌 동시에 추구해야 할 사회 목표이다.', metadata={'doc_id': '5c429cb2-0cbc-414d-acf4-38c27051a852'})]"
            ]
          },
          "metadata": {},
          "execution_count": 98
        }
      ]
    },
    {
      "cell_type": "code",
      "source": [
        "sub_docs[0]"
      ],
      "metadata": {
        "colab": {
          "base_uri": "https://localhost:8080/"
        },
        "id": "FMpNk7bkwzRK",
        "outputId": "ec49b87d-d9ff-4541-ca3e-ee78f6ce839f"
      },
      "execution_count": null,
      "outputs": [
        {
          "output_type": "execute_result",
          "data": {
            "text/plain": [
              "Document(page_content='한국 사회에서는 전통적인 유교문화가 여전히 영향을 미치고 있어 법률에 따른 가족 형성이 중요시되고 있으며, 결혼은 각종 조건을 충족해야 가능하다. 하지만 결혼과 출산 간 연계가 약화되고 있으며, 경제적 부담과 사회 구조적인 요인들이 출산을 결정하는데 영향을 미치고 있다. 한국은 저출산 대책을 추진하고 있지만 출산율은 낮아지고 있어 다양한 정책적 개혁이 필요하다. 과도한 경쟁사회를 지양하고 노동 개혁을 통해 저출산 현상을 극복하는 것이 중요하다.', metadata={'doc_id': '3cb81a88-a302-40a7-9c45-5ae41aa2912b'})"
            ]
          },
          "metadata": {},
          "execution_count": 99
        }
      ]
    },
    {
      "cell_type": "code",
      "source": [
        "larger_chunks = retriever.invoke(\"한국 저출산의 원인이 뭐야?\")\n",
        "larger_chunks"
      ],
      "metadata": {
        "colab": {
          "base_uri": "https://localhost:8080/"
        },
        "id": "plq6wFBdw1ts",
        "outputId": "0f3095ef-1435-42e2-9631-08d7e8237960"
      },
      "execution_count": null,
      "outputs": [
        {
          "output_type": "execute_result",
          "data": {
            "text/plain": [
              "[Document(page_content='세계를 잇다, 미래를 빚다!2전통적인 가부장적 유교문화의 영향이 지속되고 있어 법률에 따르지 \\n않는 가족 형성은 인정되지 않고 있다. 따라서 출산은 법률혼을 전제\\n로 발생한다. 그런데 한국 사회에서 결혼은 각종 조건을 충족시킬 때 \\n가능하다. 학력, 학벌, 안정적 직장, 주거 등이 갖추어져야 결혼을 할 \\n수 있고, 결혼 후에도 안정적인 가족생활이 가능하다. 그만큼 청년들\\n은 ‘출산’에 앞서 ‘결혼’의 어려움을 직면하고 있다. 결혼의 관문을 통\\n과하기 어려워지면서 만혼 경향이 증가하고, 결혼 자체를 기피하는 \\n비혼도 증가하고 있다. \\n과거와 달리 결혼과 출산 간 연계도 점차 약화되고 있다. 결혼이 반\\n드시 출산으로 이어지지 않고 있는 것이다. 딩크족(Double Income \\nNot Kids)과 같이 결혼생활이 자녀 중심에서 부부 중심으로 변화하\\n는 경향도 있지만, 무엇보다도 자녀 양육에 비용이 발생하여 큰 부담\\n으로 인식되고 있기 때문이다. 자녀 양육 비용은 의료·보육·(사)교육 \\n등에 관한 서비스를 구매하기 위한 경제적 비용, 돌봄, 일-가정 양립 \\n등을 위한 시간 비용, 출산·양육으로 인한 고용 등에서 기회비용 등\\n을 포함한다. 이러한 미시적인 원인들은 개인 또는 부부가 출산을 결\\n정하는 데 직접적인 영향을 미친다. 출산은 미시적인 원인들 뿐 아니\\n라 거시적인 사회구조에 의해서도 영향을 받는다. 일자리 부족과 고\\n용 불안정, 높은 주거비용, 과도한 교육 경쟁(학력주의와 학벌주의 만\\n연), 양성 불평등, 사회규범 및 가치관의 변화 등이 출산에 영향을 미\\n치는 거시적인 요소들이다. 미시적인 요인들 대부분 거시적 요인들\\n에 의해 영향을 받는다. 예를 들어, 고용에서 학력주의와 학벌주의 만\\n연은 사교육비를 증가시켜 자녀 양육의 경제적 부담을 높이고 있다. 출산율 회복에 성공한 국가로부터의 교훈\\n이와 같이 저출산의 원인들이 명백하게 규명되고 있다는 점에서 저\\n출산은 극복이 가능한 현상으로 간주할 수 있다. 실례로 서구 국가들 \\n중 프랑스, 스웨덴, 영국 등은 저출산 현상을 극복한 국가들로 알려져 \\n있다. 우리나라는 15년 이상 저출산 대책이 추진되고 있음에도 불구\\n하고 출산율은 오히려 더 낮아져 최근에는 0명대를 기록하고 있다. \\n저출산 대책은 다양한 복합적인 원인들을 해소할 수 있도록 종합적\\n으로 그리고 장기간에 걸쳐 일관성 있게 추진되어야 한다. 그러나 우\\n리나라 저출산 대책에는 반드시 필요한 정책들이 누락되어 있는 문\\n제, 필요한 정책들이 포함되고 있을지라도 사각지대가 크거나 급여 \\n등이 충분하지 않은 문제들을 가지고 있다. \\n이와 관련, 초저출산현상을 멈추기 위해서는 세 가지의 근본적인 노\\n력이 긴요하다. \\n첫 번째로 과도한 경쟁사회를 지양하기 위하여 노동시장을 개혁하여\\n야 한다. 사실 한국 사회에서 만연하는 저출산 원인들은 다소 차이가 \\n있을지라도 OECD 국가나 동유럽 국가들 일부도 직면하고 있다. 그\\n럼에도 불구하고, 유독 한국 사회에서 합계출산율이 0명대로 치닫고 \\n있는 점은 직접적인 저출산 원인들 이외의 요소가 작동하고 있는 것\\n으로 설명할 수 있다. 대표적으로 단기간에 이룩하였던 고도 경제성\\n장의 후유증으로 삶의 목표가 성공이나 물질적인 것을 추구하는 데 \\n집중되었으며, 이를 위해 어린 시절부터 무한 경쟁사회 속에서 살아\\n가면서 여유 없이 쫓기고 있다. 이로 인해 자녀 양육은 무한 경쟁의 \\n연속선상에서 막대한 비용을 들여야 한다는 강박관념 때문에 행복보\\n다는 부담으로 인식되고 있다. 따라서 노동 개혁을 통해 그간 관행으\\n<그림 2> OECD 국가의 합계출산율 추이 \\n출처; OECD (2023). Fertility rates (indicator). doi: 10.1 787/8272fb01-en (Accessed on 09 May 2023) \\n주) 한국은 합계출산율을 2022년까지 발표하였으나, OECD 국가 대부분 2020년까지 발표하였음. 따라서, 2020년 OECD 기준 한국의 합계출산율은 0.84임.', metadata={'source': 'https://snuac.snu.ac.kr/2015_snuac/wp-content/uploads/2015/07/asiabrief_3-26.pdf', 'page': 1}),\n",
              " Document(page_content=\"Seoul National University Asia Center5발행처: 서울대학교 아시아연구소, HK+메가아시아연구사업단     \\n발행인: 박수진  편집위원장: 박수진  편집위원: 이명무, 김윤호    \\n편집간사: 김정희  편집조교: 박효진, 전민규, 민보미, 최태수, 김용재  디자인: 박종홍\\n연락처: 02-880-2087, snuac.issuebrief@gmail.com   아시아 브리프의 목표\\n· 아시아의 현안 분석과 정책적 함의 제시         \\n· 한국의 아시아 진출 전략 개발         \\n· 메가 아시아 건설을 위한 공론장Tag: 초저출산,미시적접근,사회구조,고령화,인구구조최신 관련 자료\\n ·이삼식 외 (2021). “저출산·고령사회의 효율적 대응을 위한 추진체계 구축방안.” 대통령직속 저출산고령사회위원회. 한양대학교 고령사회연\\n구원. \\n ·이삼식 외 (2020). “저출산에 따른 재정부담 분석 및 대응.” 기획재정부. 한양대학교 고령사회연구원. \\n ·이삼식 (2020). “한국 인구정책 변천과 시대적 함의.” 기획재정부. KDI 글로벌지식협력단지.\\n ·이삼식 외 (2018). “대한민국 중장기 인구정책 방향.” 보건복지부. 한양대학교 고령사회연구원.\\n ·이태훈 (2019). “프랑스 출산율 상승에 긍정적인 영향을 미친 가족정책.” 『국제노동브리프』 12월호, 한국노동연구원.\\n이삼식 (lss2323@hanyang.ac.kr)\\n현) 한양대학교 고령사회연구원 원장, 인구보건복지협회 회장, 국회 저출생 및 인구절벽대응 포럼 자문위원. \\n전) 한국보건사회연구원 저출산고령화대책기획단 단장, 대통령직속 저출산고령사회위원회 정책운영위원회 위원(세대공감분과 \\n      위원장), 한국인구학회 회장.\\n주요 논문과 저서: “Working Conditions Affecting Home Care Workers' Stress and Turnover Intention.”  \\n   Journal of Applied Gerontology  42(4), 2023.\\n  “Impact of older adults' mobility and social participation on life satisfaction in South Korea.”  \\n  Asian Social Work and Policy Review , 2019.\\n  “The National Reproductive Crisis: South Korea’s Fertility Shock.” Korea Journal of Sociology  49(3), 2015.\\n  Issues of Aging and Age Dependency in Post-industrial Societies. Low Fertility Regimes and   \\n  Demographic and Societal Change . Springer International Publishing, 2018.\\n  Lowest-low fertility and policy responses in South Korea. Low and lower fertility: Variations across  \\n  developed countries . Springer International Publishing, 2015.으로 인구고령화 수준이 30% 등 일정 수준을 넘지 않도록 출산율을 \\n회복하는 노력이 중요하다. 이와 동시에 정년 연장을 통해 적어도 60\\n대 인구가 연금, 건강보험 등 사회보장의 수급자적 위치에서 납부자\\n적 위치로 전환할 필요가 있다.\\n출산율 회복과 인구구조 변화 대응은 양자택일이 \\n아닌 양자병행 과제\\n최근 한국 사회에서 출산율이 0명대로 급락하면서 출산율 회복에 대\\n한 회의감이 증가하고 있다. 그 영향으로 출산율 회복을 위한 의지와 노력이 약화되고 대신 인구감소 및 고령화에 적응하여야 한다는 논\\n의가 활발하다. 그러나 출산율 회복 없는 인구변화에 대한 대응은 높\\n은 비용과 고통을 수반할 것이다. 그렇다고 출산율이 단기간 내 급격\\n하게 회복할 수 없다는 점에서 인구변화에 대한 적응을 소홀히 할 수 \\n없다. 결국 출산율 회복과 인구변화에 대한 적응은 양자택일의 문제\\n가 아니라 동시에 추구하여야 할 사회 목표들인 것이다. 출산율 회복\\n은 인구변화 적응 비용을 줄이며, 인구변화에 대한 성공적인 적응(예\\n를 들어, 노후 보장 등)은 출산율 회복에 긍정적인 역할을 하는 시너\\n지 효과가 날 것이다.\", metadata={'source': 'https://snuac.snu.ac.kr/2015_snuac/wp-content/uploads/2015/07/asiabrief_3-26.pdf', 'page': 4}),\n",
              " Document(page_content='Seoul National University Asia Center1\\n2023년 5월 22일, 3권 26호 (통권 116호)\\n한국의 출산율은 어디가 바닥인가? \\n0.78명! 2022년 대한민국의 합계출산율이다. 인구가 증가나 감소하\\n지 않고 고령화도 되지 않는 이른바 안정인구(Stable Population)를 \\n보유하기 위해서는 합계출산율이 인구대체수준인 2.1명에서 장기적\\n으로 유지되어야 한다. 그런데 1/3 정도만 인구를 대체할 수 있는 출\\n산율이 장기적으로 지속된다면 그만큼 우리나라 인구는 급속하게 감\\n소하고 고령화될 것이다. \\n이와 같은 인구학적 재생산(Reproduction) 붕괴는 저절로 회복되지 \\n않는다. 이론들에 따르면 출산율이 0명에 이를 수도 있다. 대표적으\\n로 이스터린(Easterlin, 1978)의 상대적 소득가설(Relative Income \\nHypothesis)에 의하면, 부부가 충분한 자원을 가지고 있지 못한 경우 출산을 주저하게 되는데, 기대되는 상대적인 소득과 자원에 따라 \\n출산율은 0명까지 감소할 가능성을 배제할 수 없다. 베커의 신가정경\\n제출산력모형(New Home Economics Model of Fertility)에 따르면, \\n자녀에 대한 만족은 자녀의 수가 아닌 자녀의 질을 통해 추구하는데 \\n자녀  양육에는 보다 많은 시간 투입이 요구된다. 인적자본이 중시되\\n는 현대사회에서 개인은 시간가치를 증가시키기 위해 자녀 양육보다 \\n시간이 덜 소요되는 것들을 선호하게 된다. \\n한국 초저출산의 원인구조\\n한국에서 재생산 위기는 ‘결혼’에서부터 시작된다. 한국은 세계 경제 \\n10위권, IT(Information Technology) 강국 등으로 알려져 있지만, \\n<그림 1> 출산율 감소와 신생아 수를 넘어선 고령인구\\n초저출산현상 극복과 인구구조 변화 대응\\n# 이삼식    한양대학교\\n한국의 합계출산율은 2022년 0.78명으로 장기간 초저출산현상 지속은 인구의 지속가능성에 위협이 되고 있다. 저출산 대책은 다양\\n한 복합적인 원인들을 해소할 수 있도록 종합적으로 장기간 일관성 있게 추진되어야 한다. 학령인구 감소, 노동력 부족, 사회보장 부담 \\n증가 등 인구구조 변화에 대한 철저한 대응이 필요하다. 출산율 회복과 인구구조 변화에 대한 적응은 양자택일의 문제가 아니라 동시에 \\n추구하여야 할 사회 목표들인 것이다. Summary Of Article', metadata={'source': 'https://snuac.snu.ac.kr/2015_snuac/wp-content/uploads/2015/07/asiabrief_3-26.pdf', 'page': 0})]"
            ]
          },
          "metadata": {},
          "execution_count": 100
        }
      ]
    },
    {
      "cell_type": "code",
      "source": [
        "len(larger_chunks[0].page_content)"
      ],
      "metadata": {
        "colab": {
          "base_uri": "https://localhost:8080/"
        },
        "id": "aWEfOhYpw5XV",
        "outputId": "fd2126cc-3518-4d27-e931-82e1339cd5de"
      },
      "execution_count": null,
      "outputs": [
        {
          "output_type": "execute_result",
          "data": {
            "text/plain": [
              "1944"
            ]
          },
          "metadata": {},
          "execution_count": 103
        }
      ]
    },
    {
      "cell_type": "markdown",
      "source": [
        "# Hypothetical Queries"
      ],
      "metadata": {
        "id": "35RJIMbAxXNG"
      }
    },
    {
      "cell_type": "markdown",
      "source": [
        "LLM을 사용하여 특정 문서에 대해 물어볼 수 있는 **가상 질문 목록(hypothetical questions)**을 생성할 수도 있습니다. 이러한 질문들은 임베딩될 수 있습니다."
      ],
      "metadata": {
        "id": "0py9_zalyHk_"
      }
    },
    {
      "cell_type": "code",
      "source": [
        "functions = [\n",
        "    {\n",
        "        \"name\": \"hypothetical_questions\",\n",
        "        \"description\": \"Generate hypothetical questions\",\n",
        "        \"parameters\": {\n",
        "            \"type\": \"object\",\n",
        "            \"properties\": {\n",
        "                \"questions\": {\n",
        "                    \"type\": \"array\",\n",
        "                    \"items\": {\"type\": \"string\"},\n",
        "                },\n",
        "            },\n",
        "            \"required\": [\"questions\"],\n",
        "        },\n",
        "    }\n",
        "]"
      ],
      "metadata": {
        "id": "GkXRQP0lw8RB"
      },
      "execution_count": null,
      "outputs": []
    },
    {
      "cell_type": "code",
      "source": [
        "from langchain.output_parsers.openai_functions import JsonKeyOutputFunctionsParser\n",
        "\n",
        "chain = (\n",
        "    {\"doc\": lambda x: x.page_content}\n",
        "    # Only asking for 3 hypothetical questions, but this could be adjusted\n",
        "    | ChatPromptTemplate.from_template(\n",
        "        \"다음 문서가 답할 수 있는 가상 질문 3개를 생성하십시오:\\n\\n{doc}\"\n",
        "    )\n",
        "    | ChatOpenAI(max_retries=0, model=\"gpt-4\", openai_api_key=OPENAI_KEY).bind(\n",
        "        functions=functions, function_call={\"name\": \"hypothetical_questions\"}\n",
        "    )\n",
        "    | JsonKeyOutputFunctionsParser(key_name=\"questions\")\n",
        ")"
      ],
      "metadata": {
        "id": "rn9a2o4_w8N3"
      },
      "execution_count": null,
      "outputs": []
    },
    {
      "cell_type": "code",
      "source": [
        "docs[0]"
      ],
      "metadata": {
        "colab": {
          "base_uri": "https://localhost:8080/"
        },
        "id": "erBt6Qz3I3_f",
        "outputId": "9b5a4b4f-2308-4d98-9f87-599ae07de974"
      },
      "execution_count": null,
      "outputs": [
        {
          "output_type": "execute_result",
          "data": {
            "text/plain": [
              "Document(page_content='Seoul National University Asia Center1\\n2023년 5월 22일, 3권 26호 (통권 116호)\\n한국의 출산율은 어디가 바닥인가? \\n0.78명! 2022년 대한민국의 합계출산율이다. 인구가 증가나 감소하\\n지 않고 고령화도 되지 않는 이른바 안정인구(Stable Population)를 \\n보유하기 위해서는 합계출산율이 인구대체수준인 2.1명에서 장기적\\n으로 유지되어야 한다. 그런데 1/3 정도만 인구를 대체할 수 있는 출\\n산율이 장기적으로 지속된다면 그만큼 우리나라 인구는 급속하게 감\\n소하고 고령화될 것이다. \\n이와 같은 인구학적 재생산(Reproduction) 붕괴는 저절로 회복되지 \\n않는다. 이론들에 따르면 출산율이 0명에 이를 수도 있다. 대표적으\\n로 이스터린(Easterlin, 1978)의 상대적 소득가설(Relative Income \\nHypothesis)에 의하면, 부부가 충분한 자원을 가지고 있지 못한 경우 출산을 주저하게 되는데, 기대되는 상대적인 소득과 자원에 따라 \\n출산율은 0명까지 감소할 가능성을 배제할 수 없다. 베커의 신가정경\\n제출산력모형(New Home Economics Model of Fertility)에 따르면, \\n자녀에 대한 만족은 자녀의 수가 아닌 자녀의 질을 통해 추구하는데 \\n자녀  양육에는 보다 많은 시간 투입이 요구된다. 인적자본이 중시되\\n는 현대사회에서 개인은 시간가치를 증가시키기 위해 자녀 양육보다 \\n시간이 덜 소요되는 것들을 선호하게 된다. \\n한국 초저출산의 원인구조\\n한국에서 재생산 위기는 ‘결혼’에서부터 시작된다. 한국은 세계 경제 \\n10위권, IT(Information Technology) 강국 등으로 알려져 있지만, \\n<그림 1> 출산율 감소와 신생아 수를 넘어선 고령인구\\n초저출산현상 극복과 인구구조 변화 대응\\n# 이삼식    한양대학교\\n한국의 합계출산율은 2022년 0.78명으로 장기간 초저출산현상 지속은 인구의 지속가능성에 위협이 되고 있다. 저출산 대책은 다양\\n한 복합적인 원인들을 해소할 수 있도록 종합적으로 장기간 일관성 있게 추진되어야 한다. 학령인구 감소, 노동력 부족, 사회보장 부담 \\n증가 등 인구구조 변화에 대한 철저한 대응이 필요하다. 출산율 회복과 인구구조 변화에 대한 적응은 양자택일의 문제가 아니라 동시에 \\n추구하여야 할 사회 목표들인 것이다. Summary Of Article', metadata={'source': 'https://snuac.snu.ac.kr/2015_snuac/wp-content/uploads/2015/07/asiabrief_3-26.pdf', 'page': 0})"
            ]
          },
          "metadata": {},
          "execution_count": 106
        }
      ]
    },
    {
      "cell_type": "code",
      "source": [
        "chain.invoke(docs[0])"
      ],
      "metadata": {
        "colab": {
          "base_uri": "https://localhost:8080/"
        },
        "id": "nYOXyE2UysbM",
        "outputId": "5850db14-2c60-43f4-afd9-79e8f73964c9"
      },
      "execution_count": null,
      "outputs": [
        {
          "output_type": "execute_result",
          "data": {
            "text/plain": [
              "['2022년 대한민국의 합계 출산율은 얼마인가요?',\n",
              " '인구가 안정적으로 유지되기 위해 필요한 합계출산율은 얼마인가요?',\n",
              " '한국의 초저출산 현상의 복합적인 원인은 무엇인가요?']"
            ]
          },
          "metadata": {},
          "execution_count": 107
        }
      ]
    },
    {
      "cell_type": "code",
      "source": [
        "docs"
      ],
      "metadata": {
        "colab": {
          "base_uri": "https://localhost:8080/"
        },
        "id": "qAoqXWMbLK77",
        "outputId": "445ea1a2-b059-409d-9a6c-6e901f2132af"
      },
      "execution_count": null,
      "outputs": [
        {
          "output_type": "execute_result",
          "data": {
            "text/plain": [
              "[Document(page_content='Seoul National University Asia Center1\\n2023년 5월 22일, 3권 26호 (통권 116호)\\n한국의 출산율은 어디가 바닥인가? \\n0.78명! 2022년 대한민국의 합계출산율이다. 인구가 증가나 감소하\\n지 않고 고령화도 되지 않는 이른바 안정인구(Stable Population)를 \\n보유하기 위해서는 합계출산율이 인구대체수준인 2.1명에서 장기적\\n으로 유지되어야 한다. 그런데 1/3 정도만 인구를 대체할 수 있는 출\\n산율이 장기적으로 지속된다면 그만큼 우리나라 인구는 급속하게 감\\n소하고 고령화될 것이다. \\n이와 같은 인구학적 재생산(Reproduction) 붕괴는 저절로 회복되지 \\n않는다. 이론들에 따르면 출산율이 0명에 이를 수도 있다. 대표적으\\n로 이스터린(Easterlin, 1978)의 상대적 소득가설(Relative Income \\nHypothesis)에 의하면, 부부가 충분한 자원을 가지고 있지 못한 경우 출산을 주저하게 되는데, 기대되는 상대적인 소득과 자원에 따라 \\n출산율은 0명까지 감소할 가능성을 배제할 수 없다. 베커의 신가정경\\n제출산력모형(New Home Economics Model of Fertility)에 따르면, \\n자녀에 대한 만족은 자녀의 수가 아닌 자녀의 질을 통해 추구하는데 \\n자녀  양육에는 보다 많은 시간 투입이 요구된다. 인적자본이 중시되\\n는 현대사회에서 개인은 시간가치를 증가시키기 위해 자녀 양육보다 \\n시간이 덜 소요되는 것들을 선호하게 된다. \\n한국 초저출산의 원인구조\\n한국에서 재생산 위기는 ‘결혼’에서부터 시작된다. 한국은 세계 경제 \\n10위권, IT(Information Technology) 강국 등으로 알려져 있지만, \\n<그림 1> 출산율 감소와 신생아 수를 넘어선 고령인구\\n초저출산현상 극복과 인구구조 변화 대응\\n# 이삼식    한양대학교\\n한국의 합계출산율은 2022년 0.78명으로 장기간 초저출산현상 지속은 인구의 지속가능성에 위협이 되고 있다. 저출산 대책은 다양\\n한 복합적인 원인들을 해소할 수 있도록 종합적으로 장기간 일관성 있게 추진되어야 한다. 학령인구 감소, 노동력 부족, 사회보장 부담 \\n증가 등 인구구조 변화에 대한 철저한 대응이 필요하다. 출산율 회복과 인구구조 변화에 대한 적응은 양자택일의 문제가 아니라 동시에 \\n추구하여야 할 사회 목표들인 것이다. Summary Of Article', metadata={'source': 'https://snuac.snu.ac.kr/2015_snuac/wp-content/uploads/2015/07/asiabrief_3-26.pdf', 'page': 0}),\n",
              " Document(page_content='세계를 잇다, 미래를 빚다!2전통적인 가부장적 유교문화의 영향이 지속되고 있어 법률에 따르지 \\n않는 가족 형성은 인정되지 않고 있다. 따라서 출산은 법률혼을 전제\\n로 발생한다. 그런데 한국 사회에서 결혼은 각종 조건을 충족시킬 때 \\n가능하다. 학력, 학벌, 안정적 직장, 주거 등이 갖추어져야 결혼을 할 \\n수 있고, 결혼 후에도 안정적인 가족생활이 가능하다. 그만큼 청년들\\n은 ‘출산’에 앞서 ‘결혼’의 어려움을 직면하고 있다. 결혼의 관문을 통\\n과하기 어려워지면서 만혼 경향이 증가하고, 결혼 자체를 기피하는 \\n비혼도 증가하고 있다. \\n과거와 달리 결혼과 출산 간 연계도 점차 약화되고 있다. 결혼이 반\\n드시 출산으로 이어지지 않고 있는 것이다. 딩크족(Double Income \\nNot Kids)과 같이 결혼생활이 자녀 중심에서 부부 중심으로 변화하\\n는 경향도 있지만, 무엇보다도 자녀 양육에 비용이 발생하여 큰 부담\\n으로 인식되고 있기 때문이다. 자녀 양육 비용은 의료·보육·(사)교육 \\n등에 관한 서비스를 구매하기 위한 경제적 비용, 돌봄, 일-가정 양립 \\n등을 위한 시간 비용, 출산·양육으로 인한 고용 등에서 기회비용 등\\n을 포함한다. 이러한 미시적인 원인들은 개인 또는 부부가 출산을 결\\n정하는 데 직접적인 영향을 미친다. 출산은 미시적인 원인들 뿐 아니\\n라 거시적인 사회구조에 의해서도 영향을 받는다. 일자리 부족과 고\\n용 불안정, 높은 주거비용, 과도한 교육 경쟁(학력주의와 학벌주의 만\\n연), 양성 불평등, 사회규범 및 가치관의 변화 등이 출산에 영향을 미\\n치는 거시적인 요소들이다. 미시적인 요인들 대부분 거시적 요인들\\n에 의해 영향을 받는다. 예를 들어, 고용에서 학력주의와 학벌주의 만\\n연은 사교육비를 증가시켜 자녀 양육의 경제적 부담을 높이고 있다. 출산율 회복에 성공한 국가로부터의 교훈\\n이와 같이 저출산의 원인들이 명백하게 규명되고 있다는 점에서 저\\n출산은 극복이 가능한 현상으로 간주할 수 있다. 실례로 서구 국가들 \\n중 프랑스, 스웨덴, 영국 등은 저출산 현상을 극복한 국가들로 알려져 \\n있다. 우리나라는 15년 이상 저출산 대책이 추진되고 있음에도 불구\\n하고 출산율은 오히려 더 낮아져 최근에는 0명대를 기록하고 있다. \\n저출산 대책은 다양한 복합적인 원인들을 해소할 수 있도록 종합적\\n으로 그리고 장기간에 걸쳐 일관성 있게 추진되어야 한다. 그러나 우\\n리나라 저출산 대책에는 반드시 필요한 정책들이 누락되어 있는 문\\n제, 필요한 정책들이 포함되고 있을지라도 사각지대가 크거나 급여 \\n등이 충분하지 않은 문제들을 가지고 있다. \\n이와 관련, 초저출산현상을 멈추기 위해서는 세 가지의 근본적인 노\\n력이 긴요하다. \\n첫 번째로 과도한 경쟁사회를 지양하기 위하여 노동시장을 개혁하여\\n야 한다. 사실 한국 사회에서 만연하는 저출산 원인들은 다소 차이가 \\n있을지라도 OECD 국가나 동유럽 국가들 일부도 직면하고 있다. 그\\n럼에도 불구하고, 유독 한국 사회에서 합계출산율이 0명대로 치닫고 \\n있는 점은 직접적인 저출산 원인들 이외의 요소가 작동하고 있는 것\\n으로 설명할 수 있다. 대표적으로 단기간에 이룩하였던 고도 경제성\\n장의 후유증으로 삶의 목표가 성공이나 물질적인 것을 추구하는 데 \\n집중되었으며, 이를 위해 어린 시절부터 무한 경쟁사회 속에서 살아\\n가면서 여유 없이 쫓기고 있다. 이로 인해 자녀 양육은 무한 경쟁의 \\n연속선상에서 막대한 비용을 들여야 한다는 강박관념 때문에 행복보\\n다는 부담으로 인식되고 있다. 따라서 노동 개혁을 통해 그간 관행으\\n<그림 2> OECD 국가의 합계출산율 추이 \\n출처; OECD (2023). Fertility rates (indicator). doi: 10.1 787/8272fb01-en (Accessed on 09 May 2023) \\n주) 한국은 합계출산율을 2022년까지 발표하였으나, OECD 국가 대부분 2020년까지 발표하였음. 따라서, 2020년 OECD 기준 한국의 합계출산율은 0.84임.', metadata={'source': 'https://snuac.snu.ac.kr/2015_snuac/wp-content/uploads/2015/07/asiabrief_3-26.pdf', 'page': 1}),\n",
              " Document(page_content='Seoul National University Asia Center3로 고착화된 학력, 학벌, 젠더, 출신 지역 등에 따른 불합리한 차별을 \\n불식시키도록 해야 한다. 구체적으로 학력이나 학벌 등을 이유로 한 \\n고용기회나 승진 및 임금 등에서 차별을 없애고, 대신 능력을 우선시\\n하는 원칙이 통용되도록 한다. \\n두 번째로 자녀 양육의 생애주기와 연계된 사회구조 및 관행(문화)\\n을 개선하는 것이다. 주택가격을 안정화하고, 초장기 저리 공공주택\\n의 공급을 늘려 자기 집 마련이 인생의 목표가 되지 않도록 하여야 한\\n다. 노후가 보장되도록 공적보장체계를 강화하여 생애과정에서 자녀 \\n양육과 노후 대비가 충돌하지 않도록 할 필요가 있다. 사회문화 및 규\\n범에 관한 접근도 중요하다. 교육과 경제활동 참여도가 높아진 데다\\n가 고용 불안정, 결혼에 따른 노동시장에서의 차별, 가치관 변화 등\\n으로 인해 결혼이 더욱더 지체되면서 미혼 기간이 길어지고 있다. 이\\n로 인해 동거 등 사실혼적 관계가 증가하고, 이들로부터 출산이 발생\\n하기도 한다. 서구 국가들은 오래전부터 비혼 출산에 대한 사회적 보\\n호를 강화하기 위한 법들을 제정, 시행해오고 있다. 프랑스의 시민연\\n대계약(pacte civil de solidarit é, PACS), 독일의 생활동반자관계법\\n(Lebenspartnerschaftsgesetz), 스웨덴의 삼보법(samboavtal), 네\\n덜란드의 동반자등록(geregistered partnerschap) 등이 대표적이\\n다. 우리나라에서도 동거 커플의 권리와 의무를 규정하는 법령을 제\\n정할 필요가 있다. 이는 동거 커플이 법률혼으로 이행하는 데 긍정적\\n인 역할을 할 뿐 아니라 인공임신중절 예방, 영유아 유기·학대, 아동 \\n빈곤의 세습화 등을 예방하는 데에도 중요하다. \\n세 번째로 미시적인 접근에도 충실해야 한다. 미시적인 접근에는 필\\n요한 정책들을 신규 도입하는 것은 물론 기존 정책들의 수준을 현실화하여야 과제들이 포함된다. 우선 자녀 양육 지원은 대부분 미취학 \\n시기에 집중되어 있다. 임신·출산 의료지원, 출산전후휴가, 육아휴\\n직, 돌봄, 보육 등이 해당된다. 최근 들어 초등학교 저학년까지 돌봄\\n이 확대되고 아동수당이 지급되고 있으나, 이후 양육에 소요되는 비\\n용 등에 대한 지원은 단절된 상태이다. 서구사회에서와 같이 자녀 양\\n육을 아동의 생애주기에 따라 체계적으로 지원하기 위하여 아동수\\n당, 교육수당 등을 16세 또는 18세까지 연장할 필요가 있다. 아동수\\n당도 월 10만 원에서 2~3배를 증액하여 물가 등과 연동하여 현실화\\n할 필요가 있다. \\n현행 일가정양립 지원정책은 사각지대, 충분성 결여, 연계성 부족 등\\n의 문제점들로 인해 효과성을 담보하기 곤란한 실정이다. 즉, 부모의 \\n시간에 대한 지원을 보다 확대할 필요가 있다. 출산전후휴가나 육아\\n휴직을 이용할 수 있는 대상은 공무원이나 고용보험 가입자에 한정\\n된다. 1인 사업자, 특수형태 근로자 및 자유계약자(출산 전 18개월 \\n중 3개월 이상 소득 활동을 한 경우) 등 일정한 고용보험 미적용자에 \\n대해서는 출산 급여(50만 원, 3개월)를 지급하고 있다. 그러나 근본\\n적인 방법으로 근로 방식이나 계약 형태와 관계없이 일하는 모든 부\\n와 모가 육아휴직 등을 이용할 수 있도록 부모보험을 도입할 필요가 \\n있다. 육아휴직 이용 기간을 6개월, 9개월, 12개월, 18개월 등으로 \\n구분하고, 이용 기간에 따라 육아휴직 급여율을 차등적으로 적용하\\n여 이용자가 자신의 상황에 따라 자유로이 선택할 수 있도록 한다. 육\\n아휴직 등 직장 경력의 공백을 전제로 하는 제도들 이외에 일하면서 \\n육아를 할 수 있는 육아기근로시간단축제, 육아재택제도 등을 활성\\n화하여 돌봄 공백과 경력단절의 두려움을 해소해주도록 한다. 이러\\n한 제도들과 어린이집 이용 시간 등 간 연계를 강화하여 시간의 사각\\n<그림 3> 프랑스 합계출산율 추이와 대책 변천', metadata={'source': 'https://snuac.snu.ac.kr/2015_snuac/wp-content/uploads/2015/07/asiabrief_3-26.pdf', 'page': 2}),\n",
              " Document(page_content='세계를 잇다, 미래를 빚다!4지대를 없애도록 한다. 무엇보다도 출산과 양육에 친화적인 직장문\\n화를 조성하여야 한다. \\n인구구조 변화에 대응해야\\n우리나라는 이미 20년 이상 동안 초저출산현상(합계출산율 1.3명 \\n이하)을 겪고 있다. 적어도 당분간 ‘저출산의 덫’에서 빠져나올 수 있\\n을 것으로 기대하기 어렵다. 저출산 대책들이 실효성을 거두기 시작\\n할지라도 언제부터 얼마나 빠른 속도로 어느 수준까지 출산율이 높\\n아질 것으로 예상하기도 어렵다. 결국 우리나라 인구는 급속하게 감\\n소하고, 고령화될 것이다. 따라서 저출산 대책을 더욱 강화하는 동시\\n에 인구감소 및 고령화에 대해서도 철저하게 대응하여야 한다. 인구\\n감소 및 고령화가 사회에 미치는 파장은 크게 학교 붕괴, 병력자원 부\\n족, 노동력 부족, 사회보장 부담 증가 등을 들 수 있다. \\n학령인구 감소에 따른 학생 수 감소는 초등학교, 중학교, 고등학교 및 \\n대학교에까지 영향을 미치고 있다. 과거 고출산 시기에 태어난 세대\\n를 위해 건립하였던 학교 시설과 교사 양성 인프라(교육대학 등)는 과\\n잉 시설이 되면서 통폐합이 진행되고 있다. 폐교는 단순하게 잉여 시\\n설의 처분만을 의미하지 않는다. 폐교로 아동이 있는 가족은 그 지역\\n으로 이주해오지 않을 것이며, 아동들을 상대로 하는 가게나 시설 역\\n시 폐쇄하거나 다른 지역으로 떠날 수밖에 없다. 이와 같이 폐교는 지\\n방소멸을 유발하고 가속화시키는 주요한 요인이 된다. 학생들의 사\\n회성 발달, 교육행정 효율성 등에 불리한 학생희소학교의 문제를 최\\n소화하기 위해 초·중 또는 중·고 통합학교나 학교 간 통합수업을 활\\n성화해야 한다. 지방대학의 경쟁력을 확보하기 위해 교육부의 권한\\n을 지자체에 이양하는 동시에 중앙정부 차원에서 지방대학과 산업 \\n간 연계를 강화하기 위한 투자를 과감하게 늘릴 필요가 있다. 종합대\\n학이 보편적인 대학 체계를 일부 단과대학 중심의 특성화 대학으로 \\n전환하여 학생 수가 적으나 강한 대학들이 지역적으로 균등하게 배\\n치될 필요가 있다. \\n출생아 수 감소는 징병 대상 인구의 감소를 가져와 병력자원 부족을 \\n초래한다. 이에 대응하기 위하여 4차 산업혁명 핵심기술 등을 이용\\n하여 병력 대체용 첨단 무기(전방 감시 등)를 개발하고, 기술병 등 일\\n정한 자원에 대해서는 모병제를 도입하는 이른바 혼합병제를 채택할 \\n필요가 있다. \\n생산가능인구(15~49세)가 감소하여도 베이비붐세대(1955~1974\\n년 출생 인구)가 여전히 노동시장에서 활동하고 있어 당분간 노동력\\n은 공급과잉 상태를 유지할 것이다. 그러나 베이비붐세대 대부분이 노동시장에 이탈하는 2030년대 중반경부터 수요에 비해 노동력 공\\n급이 본격적으로 부족하기 시작할 것이다. 노동인구의 구매력이 노\\n인인구에 비해 상대적으로 높다는 점에서 노동력 부족은 생산 인구 \\n부족뿐 아니라 소비 인구 부족 즉, 내수 위축으로도 이어져 경제성장\\n을 둔화시킬 것이다. 노동력 부족에 대응하기 위해서는 근본적으로 \\n출산율 회복이 필수적이다. 다른 한편으로 잠재 인력의 활용을 극대\\n화할 필요가 있다. 50%대에 머물고 있는 여성 고용률을 스웨덴 등 \\n선진국의 수준(70~80%대)으로 높이도록 한다. 이를 위해서는 노동\\n시장에서의 젠더 차별 불식, 일가정양립 환경 조성 등이 선결되어야 \\n할 것이다. 고령화가 빠르게 진행되고 있으나 고령인구의 학력과 직\\n업력이 높아지고 건강이 개선되고 있다는 점에서 정년 연장 내지 폐\\n지를 통해 고령인구가 보다 오랫동안 노동시장에 남아서 역할을 하\\n도록 한다. 외국인 노동력 유입도 노동력 부족에 대처하기 위한 중요\\n한 전략이 될 수 있다. 이미 중소기업, 농업 등에서는 내국인의 3D 업\\n종 기피 등으로 인하여 노동력이 부족하며, 이러한 빈자리를 단기 외\\n국인 노동자로 해소하고 있다. 미래에는 단기 외국인 노동자들도 확\\n보하기 어려울 수 있다. 동남아 국가 등도 이미 저출산과 고령화가 시\\n작되어 장기적으로 우리나라에 자국의 노동자들을 보낼 수 있는 여\\n력이 없어질 것이기 때문이다. 일부에서는 영주 목적의 장기 이민자\\n의 유입이 필요하다는 주장이 제기되기도 한다. 최근의 초저출산현\\n상이 장기적으로 지속된다면 여성인력이나 고령인력만으로 필요 인\\n력 내지 안정적인 인구구조를 유지하기 어려울 것이기 때문에 일면 \\n타당하다고 할 수 있다. 그러나 미래로 갈수록 노동집약적 산업 중심\\n에서 지식기반 산업 중심으로 산업구조가 변화할 것이라는 사실이\\n다. 이민자들도 한국 사회의 저출산현상에 편승하고 자신들은 고령\\n화된다면 오히려 인구구조에 부정적인 영향을 미친다는 점이다. 그\\n리고 사회통합 비용이 높을 수 있다는 점에서 인구감소 및 고령화에\\n의 대응을 목적으로 하는 장기 이민자 유입에 대해서는 신중할 필요\\n가 있다. 서구의 많은 연구들은 인구 고령화에 대응하기 위한 이민정\\n책은 실효성이 높지 않음을 지적해왔다. 실제 서구 국가들은 제조업 \\n중심의 외국인 노동력 유입을 억제하고, 우수 인력 중심으로 이민을 \\n선별적으로 허용하고 있다. \\n생산가능인구는 감소하나 이들이 부양해야 할 노인인구는 급격하게 \\n증가하여 사회보장 부담이 크게 높아질 것이다. 대표적으로 노인인\\n구 증가로 연금 수령 인구는 증가하나 연금보험료를 납부할 인구는 \\n줄어들어 장기적으로 연금기금은 고갈될 것이다. 건강보험이나 장기\\n요양보험 역시 보험료 이용자는 증가하나 납부자는 감소하여 보험재\\n정의 지속가능성이 약화될 것이다. 이러한 문제를 극복하기 위하여 \\n보험료율과 소득대체율 등을 조정하여야 하나, 보다 근본적인 방법', metadata={'source': 'https://snuac.snu.ac.kr/2015_snuac/wp-content/uploads/2015/07/asiabrief_3-26.pdf', 'page': 3}),\n",
              " Document(page_content=\"Seoul National University Asia Center5발행처: 서울대학교 아시아연구소, HK+메가아시아연구사업단     \\n발행인: 박수진  편집위원장: 박수진  편집위원: 이명무, 김윤호    \\n편집간사: 김정희  편집조교: 박효진, 전민규, 민보미, 최태수, 김용재  디자인: 박종홍\\n연락처: 02-880-2087, snuac.issuebrief@gmail.com   아시아 브리프의 목표\\n· 아시아의 현안 분석과 정책적 함의 제시         \\n· 한국의 아시아 진출 전략 개발         \\n· 메가 아시아 건설을 위한 공론장Tag: 초저출산,미시적접근,사회구조,고령화,인구구조최신 관련 자료\\n ·이삼식 외 (2021). “저출산·고령사회의 효율적 대응을 위한 추진체계 구축방안.” 대통령직속 저출산고령사회위원회. 한양대학교 고령사회연\\n구원. \\n ·이삼식 외 (2020). “저출산에 따른 재정부담 분석 및 대응.” 기획재정부. 한양대학교 고령사회연구원. \\n ·이삼식 (2020). “한국 인구정책 변천과 시대적 함의.” 기획재정부. KDI 글로벌지식협력단지.\\n ·이삼식 외 (2018). “대한민국 중장기 인구정책 방향.” 보건복지부. 한양대학교 고령사회연구원.\\n ·이태훈 (2019). “프랑스 출산율 상승에 긍정적인 영향을 미친 가족정책.” 『국제노동브리프』 12월호, 한국노동연구원.\\n이삼식 (lss2323@hanyang.ac.kr)\\n현) 한양대학교 고령사회연구원 원장, 인구보건복지협회 회장, 국회 저출생 및 인구절벽대응 포럼 자문위원. \\n전) 한국보건사회연구원 저출산고령화대책기획단 단장, 대통령직속 저출산고령사회위원회 정책운영위원회 위원(세대공감분과 \\n      위원장), 한국인구학회 회장.\\n주요 논문과 저서: “Working Conditions Affecting Home Care Workers' Stress and Turnover Intention.”  \\n   Journal of Applied Gerontology  42(4), 2023.\\n  “Impact of older adults' mobility and social participation on life satisfaction in South Korea.”  \\n  Asian Social Work and Policy Review , 2019.\\n  “The National Reproductive Crisis: South Korea’s Fertility Shock.” Korea Journal of Sociology  49(3), 2015.\\n  Issues of Aging and Age Dependency in Post-industrial Societies. Low Fertility Regimes and   \\n  Demographic and Societal Change . Springer International Publishing, 2018.\\n  Lowest-low fertility and policy responses in South Korea. Low and lower fertility: Variations across  \\n  developed countries . Springer International Publishing, 2015.으로 인구고령화 수준이 30% 등 일정 수준을 넘지 않도록 출산율을 \\n회복하는 노력이 중요하다. 이와 동시에 정년 연장을 통해 적어도 60\\n대 인구가 연금, 건강보험 등 사회보장의 수급자적 위치에서 납부자\\n적 위치로 전환할 필요가 있다.\\n출산율 회복과 인구구조 변화 대응은 양자택일이 \\n아닌 양자병행 과제\\n최근 한국 사회에서 출산율이 0명대로 급락하면서 출산율 회복에 대\\n한 회의감이 증가하고 있다. 그 영향으로 출산율 회복을 위한 의지와 노력이 약화되고 대신 인구감소 및 고령화에 적응하여야 한다는 논\\n의가 활발하다. 그러나 출산율 회복 없는 인구변화에 대한 대응은 높\\n은 비용과 고통을 수반할 것이다. 그렇다고 출산율이 단기간 내 급격\\n하게 회복할 수 없다는 점에서 인구변화에 대한 적응을 소홀히 할 수 \\n없다. 결국 출산율 회복과 인구변화에 대한 적응은 양자택일의 문제\\n가 아니라 동시에 추구하여야 할 사회 목표들인 것이다. 출산율 회복\\n은 인구변화 적응 비용을 줄이며, 인구변화에 대한 성공적인 적응(예\\n를 들어, 노후 보장 등)은 출산율 회복에 긍정적인 역할을 하는 시너\\n지 효과가 날 것이다.\", metadata={'source': 'https://snuac.snu.ac.kr/2015_snuac/wp-content/uploads/2015/07/asiabrief_3-26.pdf', 'page': 4})]"
            ]
          },
          "metadata": {},
          "execution_count": 120
        }
      ]
    },
    {
      "cell_type": "code",
      "source": [
        "len(docs)"
      ],
      "metadata": {
        "colab": {
          "base_uri": "https://localhost:8080/"
        },
        "id": "-dVvHtDgLD4p",
        "outputId": "162391a1-395d-40aa-9d69-c4b6608ee27e"
      },
      "execution_count": null,
      "outputs": [
        {
          "output_type": "execute_result",
          "data": {
            "text/plain": [
              "5"
            ]
          },
          "metadata": {},
          "execution_count": 119
        }
      ]
    },
    {
      "cell_type": "code",
      "source": [
        "hypothetical_questions = chain.batch(docs, {\"max_concurrency\": 1})\n",
        "hypothetical_questions"
      ],
      "metadata": {
        "colab": {
          "base_uri": "https://localhost:8080/"
        },
        "id": "zMNwNILOw8LO",
        "outputId": "ce6a1f1b-9ba3-4106-a8ba-8bd6f1ecb441"
      },
      "execution_count": null,
      "outputs": [
        {
          "output_type": "execute_result",
          "data": {
            "text/plain": [
              "[['2022년 대한민국의 합계출산율은 얼마인가?',\n",
              "  '인구가 안정적으로 유지되려면 어느 정도의 합계출산율이 필요한가?',\n",
              "  '한국의 초저출산현상이 지속된다면 어떤 사회적 문제가 발생할 수 있는가?'],\n",
              " ['한국 사회에서 결혼과 출산의 관계는 어떻게 변화하고 있나요?',\n",
              "  '자녀 양육에 대한 부담은 어떤 요소들로 인해 발생하나요?',\n",
              "  '저출산 현상을 극복하기 위한 대책은 무엇인가요?'],\n",
              " ['서울대 아시아 센터3에서는 어떤 불합리한 차별을 없애기 위한 방안을 제시하고 있나요?',\n",
              "  '주택가격을 안정화하고, 초장기 저리 공공주택의 공급을 늘리는 이유는 무엇인가요?',\n",
              "  '자녀 양육 지원은 어떠한 방식으로 제공되어야 한다고 서울대 아시아 센터3에서는 주장하고 있나요?'],\n",
              " ['우리나라는 얼마나 오랫동안 초저출산현상을 겪고 있나요?',\n",
              "  '저출산 현상으로 인해 어떤 부분들이 파장을 받아야 하나요?',\n",
              "  '노동력 부족에 대응하기 위해 어떤 전략들이 필요한가요?'],\n",
              " ['서울대학교 아시아연구소에서 발행하는 아시아 브리프의 목표는 무엇인가요?',\n",
              "  '이삼식 교수는 어떤 직위를 가지고 있나요?',\n",
              "  '출산율 회복과 인구구조 변화 대응 중 어느 것을 우선해야 하는가?']]"
            ]
          },
          "metadata": {},
          "execution_count": 108
        }
      ]
    },
    {
      "cell_type": "code",
      "source": [
        "# The vectorstore to use to index the child chunks\n",
        "vectorstore = Chroma(\n",
        "    collection_name=\"hypo-questions\", embedding_function=OpenAIEmbeddings(openai_api_key=OPENAI_KEY)\n",
        ")\n",
        "# The storage layer for the parent documents\n",
        "store = InMemoryByteStore()\n",
        "id_key = \"doc_id\"\n",
        "# The retriever (empty to start)\n",
        "retriever = MultiVectorRetriever(\n",
        "    vectorstore=vectorstore,\n",
        "    byte_store=store,\n",
        "    id_key=id_key,\n",
        ")"
      ],
      "metadata": {
        "id": "ycInK_1iw8IP"
      },
      "execution_count": null,
      "outputs": []
    },
    {
      "cell_type": "code",
      "source": [
        "doc_ids = [str(uuid.uuid4()) for _ in docs]\n",
        "doc_ids"
      ],
      "metadata": {
        "colab": {
          "base_uri": "https://localhost:8080/"
        },
        "id": "PntRjI9iKl1a",
        "outputId": "b2b0f83c-c9e2-4e9d-b4b1-f2bd83abc788"
      },
      "execution_count": null,
      "outputs": [
        {
          "output_type": "execute_result",
          "data": {
            "text/plain": [
              "['9d2ac0d3-0f90-4012-bb88-ed194fb4e4cb',\n",
              " '37444758-5309-4f13-a4c1-d4d7482932ad',\n",
              " '078bd8ad-62a1-441f-a79d-ab035528ef64',\n",
              " '339779dd-81a5-4d00-b495-de6cdb490103',\n",
              " '75a1e36b-5f66-4668-ac40-d63e4c15677b']"
            ]
          },
          "metadata": {},
          "execution_count": 110
        }
      ]
    },
    {
      "cell_type": "code",
      "source": [
        "docs[3]"
      ],
      "metadata": {
        "colab": {
          "base_uri": "https://localhost:8080/"
        },
        "id": "fKwhwjONLzxc",
        "outputId": "6016a016-3a32-4f7a-c17b-a73e0f6d0951"
      },
      "execution_count": null,
      "outputs": [
        {
          "output_type": "execute_result",
          "data": {
            "text/plain": [
              "Document(page_content='세계를 잇다, 미래를 빚다!4지대를 없애도록 한다. 무엇보다도 출산과 양육에 친화적인 직장문\\n화를 조성하여야 한다. \\n인구구조 변화에 대응해야\\n우리나라는 이미 20년 이상 동안 초저출산현상(합계출산율 1.3명 \\n이하)을 겪고 있다. 적어도 당분간 ‘저출산의 덫’에서 빠져나올 수 있\\n을 것으로 기대하기 어렵다. 저출산 대책들이 실효성을 거두기 시작\\n할지라도 언제부터 얼마나 빠른 속도로 어느 수준까지 출산율이 높\\n아질 것으로 예상하기도 어렵다. 결국 우리나라 인구는 급속하게 감\\n소하고, 고령화될 것이다. 따라서 저출산 대책을 더욱 강화하는 동시\\n에 인구감소 및 고령화에 대해서도 철저하게 대응하여야 한다. 인구\\n감소 및 고령화가 사회에 미치는 파장은 크게 학교 붕괴, 병력자원 부\\n족, 노동력 부족, 사회보장 부담 증가 등을 들 수 있다. \\n학령인구 감소에 따른 학생 수 감소는 초등학교, 중학교, 고등학교 및 \\n대학교에까지 영향을 미치고 있다. 과거 고출산 시기에 태어난 세대\\n를 위해 건립하였던 학교 시설과 교사 양성 인프라(교육대학 등)는 과\\n잉 시설이 되면서 통폐합이 진행되고 있다. 폐교는 단순하게 잉여 시\\n설의 처분만을 의미하지 않는다. 폐교로 아동이 있는 가족은 그 지역\\n으로 이주해오지 않을 것이며, 아동들을 상대로 하는 가게나 시설 역\\n시 폐쇄하거나 다른 지역으로 떠날 수밖에 없다. 이와 같이 폐교는 지\\n방소멸을 유발하고 가속화시키는 주요한 요인이 된다. 학생들의 사\\n회성 발달, 교육행정 효율성 등에 불리한 학생희소학교의 문제를 최\\n소화하기 위해 초·중 또는 중·고 통합학교나 학교 간 통합수업을 활\\n성화해야 한다. 지방대학의 경쟁력을 확보하기 위해 교육부의 권한\\n을 지자체에 이양하는 동시에 중앙정부 차원에서 지방대학과 산업 \\n간 연계를 강화하기 위한 투자를 과감하게 늘릴 필요가 있다. 종합대\\n학이 보편적인 대학 체계를 일부 단과대학 중심의 특성화 대학으로 \\n전환하여 학생 수가 적으나 강한 대학들이 지역적으로 균등하게 배\\n치될 필요가 있다. \\n출생아 수 감소는 징병 대상 인구의 감소를 가져와 병력자원 부족을 \\n초래한다. 이에 대응하기 위하여 4차 산업혁명 핵심기술 등을 이용\\n하여 병력 대체용 첨단 무기(전방 감시 등)를 개발하고, 기술병 등 일\\n정한 자원에 대해서는 모병제를 도입하는 이른바 혼합병제를 채택할 \\n필요가 있다. \\n생산가능인구(15~49세)가 감소하여도 베이비붐세대(1955~1974\\n년 출생 인구)가 여전히 노동시장에서 활동하고 있어 당분간 노동력\\n은 공급과잉 상태를 유지할 것이다. 그러나 베이비붐세대 대부분이 노동시장에 이탈하는 2030년대 중반경부터 수요에 비해 노동력 공\\n급이 본격적으로 부족하기 시작할 것이다. 노동인구의 구매력이 노\\n인인구에 비해 상대적으로 높다는 점에서 노동력 부족은 생산 인구 \\n부족뿐 아니라 소비 인구 부족 즉, 내수 위축으로도 이어져 경제성장\\n을 둔화시킬 것이다. 노동력 부족에 대응하기 위해서는 근본적으로 \\n출산율 회복이 필수적이다. 다른 한편으로 잠재 인력의 활용을 극대\\n화할 필요가 있다. 50%대에 머물고 있는 여성 고용률을 스웨덴 등 \\n선진국의 수준(70~80%대)으로 높이도록 한다. 이를 위해서는 노동\\n시장에서의 젠더 차별 불식, 일가정양립 환경 조성 등이 선결되어야 \\n할 것이다. 고령화가 빠르게 진행되고 있으나 고령인구의 학력과 직\\n업력이 높아지고 건강이 개선되고 있다는 점에서 정년 연장 내지 폐\\n지를 통해 고령인구가 보다 오랫동안 노동시장에 남아서 역할을 하\\n도록 한다. 외국인 노동력 유입도 노동력 부족에 대처하기 위한 중요\\n한 전략이 될 수 있다. 이미 중소기업, 농업 등에서는 내국인의 3D 업\\n종 기피 등으로 인하여 노동력이 부족하며, 이러한 빈자리를 단기 외\\n국인 노동자로 해소하고 있다. 미래에는 단기 외국인 노동자들도 확\\n보하기 어려울 수 있다. 동남아 국가 등도 이미 저출산과 고령화가 시\\n작되어 장기적으로 우리나라에 자국의 노동자들을 보낼 수 있는 여\\n력이 없어질 것이기 때문이다. 일부에서는 영주 목적의 장기 이민자\\n의 유입이 필요하다는 주장이 제기되기도 한다. 최근의 초저출산현\\n상이 장기적으로 지속된다면 여성인력이나 고령인력만으로 필요 인\\n력 내지 안정적인 인구구조를 유지하기 어려울 것이기 때문에 일면 \\n타당하다고 할 수 있다. 그러나 미래로 갈수록 노동집약적 산업 중심\\n에서 지식기반 산업 중심으로 산업구조가 변화할 것이라는 사실이\\n다. 이민자들도 한국 사회의 저출산현상에 편승하고 자신들은 고령\\n화된다면 오히려 인구구조에 부정적인 영향을 미친다는 점이다. 그\\n리고 사회통합 비용이 높을 수 있다는 점에서 인구감소 및 고령화에\\n의 대응을 목적으로 하는 장기 이민자 유입에 대해서는 신중할 필요\\n가 있다. 서구의 많은 연구들은 인구 고령화에 대응하기 위한 이민정\\n책은 실효성이 높지 않음을 지적해왔다. 실제 서구 국가들은 제조업 \\n중심의 외국인 노동력 유입을 억제하고, 우수 인력 중심으로 이민을 \\n선별적으로 허용하고 있다. \\n생산가능인구는 감소하나 이들이 부양해야 할 노인인구는 급격하게 \\n증가하여 사회보장 부담이 크게 높아질 것이다. 대표적으로 노인인\\n구 증가로 연금 수령 인구는 증가하나 연금보험료를 납부할 인구는 \\n줄어들어 장기적으로 연금기금은 고갈될 것이다. 건강보험이나 장기\\n요양보험 역시 보험료 이용자는 증가하나 납부자는 감소하여 보험재\\n정의 지속가능성이 약화될 것이다. 이러한 문제를 극복하기 위하여 \\n보험료율과 소득대체율 등을 조정하여야 하나, 보다 근본적인 방법', metadata={'source': 'https://snuac.snu.ac.kr/2015_snuac/wp-content/uploads/2015/07/asiabrief_3-26.pdf', 'page': 3})"
            ]
          },
          "metadata": {},
          "execution_count": 127
        }
      ]
    },
    {
      "cell_type": "code",
      "source": [
        "question_docs = []\n",
        "for i, question_list in enumerate(hypothetical_questions):\n",
        "    question_docs.extend(\n",
        "        [Document(page_content=s, metadata={id_key: doc_ids[i]}) for s in question_list]\n",
        "    )"
      ],
      "metadata": {
        "id": "M1p5TVb3yxob"
      },
      "execution_count": null,
      "outputs": []
    },
    {
      "cell_type": "code",
      "source": [
        "question_docs"
      ],
      "metadata": {
        "colab": {
          "base_uri": "https://localhost:8080/"
        },
        "id": "IKs-SmyiKzJ7",
        "outputId": "af611cad-8abb-4a8a-c835-8fa41fc3d769"
      },
      "execution_count": null,
      "outputs": [
        {
          "output_type": "execute_result",
          "data": {
            "text/plain": [
              "[Document(page_content='2022년 대한민국의 합계출산율은 얼마인가?', metadata={'doc_id': '9d2ac0d3-0f90-4012-bb88-ed194fb4e4cb'}),\n",
              " Document(page_content='인구가 안정적으로 유지되려면 어느 정도의 합계출산율이 필요한가?', metadata={'doc_id': '9d2ac0d3-0f90-4012-bb88-ed194fb4e4cb'}),\n",
              " Document(page_content='한국의 초저출산현상이 지속된다면 어떤 사회적 문제가 발생할 수 있는가?', metadata={'doc_id': '9d2ac0d3-0f90-4012-bb88-ed194fb4e4cb'}),\n",
              " Document(page_content='한국 사회에서 결혼과 출산의 관계는 어떻게 변화하고 있나요?', metadata={'doc_id': '37444758-5309-4f13-a4c1-d4d7482932ad'}),\n",
              " Document(page_content='자녀 양육에 대한 부담은 어떤 요소들로 인해 발생하나요?', metadata={'doc_id': '37444758-5309-4f13-a4c1-d4d7482932ad'}),\n",
              " Document(page_content='저출산 현상을 극복하기 위한 대책은 무엇인가요?', metadata={'doc_id': '37444758-5309-4f13-a4c1-d4d7482932ad'}),\n",
              " Document(page_content='서울대 아시아 센터3에서는 어떤 불합리한 차별을 없애기 위한 방안을 제시하고 있나요?', metadata={'doc_id': '078bd8ad-62a1-441f-a79d-ab035528ef64'}),\n",
              " Document(page_content='주택가격을 안정화하고, 초장기 저리 공공주택의 공급을 늘리는 이유는 무엇인가요?', metadata={'doc_id': '078bd8ad-62a1-441f-a79d-ab035528ef64'}),\n",
              " Document(page_content='자녀 양육 지원은 어떠한 방식으로 제공되어야 한다고 서울대 아시아 센터3에서는 주장하고 있나요?', metadata={'doc_id': '078bd8ad-62a1-441f-a79d-ab035528ef64'}),\n",
              " Document(page_content='우리나라는 얼마나 오랫동안 초저출산현상을 겪고 있나요?', metadata={'doc_id': '339779dd-81a5-4d00-b495-de6cdb490103'}),\n",
              " Document(page_content='저출산 현상으로 인해 어떤 부분들이 파장을 받아야 하나요?', metadata={'doc_id': '339779dd-81a5-4d00-b495-de6cdb490103'}),\n",
              " Document(page_content='노동력 부족에 대응하기 위해 어떤 전략들이 필요한가요?', metadata={'doc_id': '339779dd-81a5-4d00-b495-de6cdb490103'}),\n",
              " Document(page_content='서울대학교 아시아연구소에서 발행하는 아시아 브리프의 목표는 무엇인가요?', metadata={'doc_id': '75a1e36b-5f66-4668-ac40-d63e4c15677b'}),\n",
              " Document(page_content='이삼식 교수는 어떤 직위를 가지고 있나요?', metadata={'doc_id': '75a1e36b-5f66-4668-ac40-d63e4c15677b'}),\n",
              " Document(page_content='출산율 회복과 인구구조 변화 대응 중 어느 것을 우선해야 하는가?', metadata={'doc_id': '75a1e36b-5f66-4668-ac40-d63e4c15677b'})]"
            ]
          },
          "metadata": {},
          "execution_count": 112
        }
      ]
    },
    {
      "cell_type": "code",
      "source": [
        "retriever.vectorstore.add_documents(question_docs)\n",
        "retriever.docstore.mset(list(zip(doc_ids, docs)))"
      ],
      "metadata": {
        "id": "m6sU2fp9yzrt"
      },
      "execution_count": null,
      "outputs": []
    },
    {
      "cell_type": "code",
      "source": [
        "sub_docs = vectorstore.similarity_search(\"한국 저출산의 원인이 뭐야?\")"
      ],
      "metadata": {
        "id": "YC0s9Afxyzo7"
      },
      "execution_count": null,
      "outputs": []
    },
    {
      "cell_type": "code",
      "source": [
        "sub_docs"
      ],
      "metadata": {
        "colab": {
          "base_uri": "https://localhost:8080/"
        },
        "id": "68xfZQYbyzlz",
        "outputId": "8749aaac-e68e-428e-c54a-8857fa58adb1"
      },
      "execution_count": null,
      "outputs": [
        {
          "output_type": "execute_result",
          "data": {
            "text/plain": [
              "[Document(page_content='저출산 현상을 극복하기 위한 대책은 무엇인가요?', metadata={'doc_id': '37444758-5309-4f13-a4c1-d4d7482932ad'}),\n",
              " Document(page_content='한국의 초저출산현상이 지속된다면 어떤 사회적 문제가 발생할 수 있는가?', metadata={'doc_id': '9d2ac0d3-0f90-4012-bb88-ed194fb4e4cb'}),\n",
              " Document(page_content='저출산 현상으로 인해 어떤 부분들이 파장을 받아야 하나요?', metadata={'doc_id': '339779dd-81a5-4d00-b495-de6cdb490103'}),\n",
              " Document(page_content='한국 사회에서 결혼과 출산의 관계는 어떻게 변화하고 있나요?', metadata={'doc_id': '37444758-5309-4f13-a4c1-d4d7482932ad'})]"
            ]
          },
          "metadata": {},
          "execution_count": 115
        }
      ]
    },
    {
      "cell_type": "code",
      "source": [
        "larger_chunks = retriever.invoke(\"한국 저출산의 원인이 뭐야?\")\n",
        "larger_chunks"
      ],
      "metadata": {
        "colab": {
          "base_uri": "https://localhost:8080/"
        },
        "id": "e9UF-UMYy--U",
        "outputId": "bebb9444-0d4b-43ca-fe90-6c45a3f70ede"
      },
      "execution_count": null,
      "outputs": [
        {
          "output_type": "execute_result",
          "data": {
            "text/plain": [
              "[Document(page_content='세계를 잇다, 미래를 빚다!2전통적인 가부장적 유교문화의 영향이 지속되고 있어 법률에 따르지 \\n않는 가족 형성은 인정되지 않고 있다. 따라서 출산은 법률혼을 전제\\n로 발생한다. 그런데 한국 사회에서 결혼은 각종 조건을 충족시킬 때 \\n가능하다. 학력, 학벌, 안정적 직장, 주거 등이 갖추어져야 결혼을 할 \\n수 있고, 결혼 후에도 안정적인 가족생활이 가능하다. 그만큼 청년들\\n은 ‘출산’에 앞서 ‘결혼’의 어려움을 직면하고 있다. 결혼의 관문을 통\\n과하기 어려워지면서 만혼 경향이 증가하고, 결혼 자체를 기피하는 \\n비혼도 증가하고 있다. \\n과거와 달리 결혼과 출산 간 연계도 점차 약화되고 있다. 결혼이 반\\n드시 출산으로 이어지지 않고 있는 것이다. 딩크족(Double Income \\nNot Kids)과 같이 결혼생활이 자녀 중심에서 부부 중심으로 변화하\\n는 경향도 있지만, 무엇보다도 자녀 양육에 비용이 발생하여 큰 부담\\n으로 인식되고 있기 때문이다. 자녀 양육 비용은 의료·보육·(사)교육 \\n등에 관한 서비스를 구매하기 위한 경제적 비용, 돌봄, 일-가정 양립 \\n등을 위한 시간 비용, 출산·양육으로 인한 고용 등에서 기회비용 등\\n을 포함한다. 이러한 미시적인 원인들은 개인 또는 부부가 출산을 결\\n정하는 데 직접적인 영향을 미친다. 출산은 미시적인 원인들 뿐 아니\\n라 거시적인 사회구조에 의해서도 영향을 받는다. 일자리 부족과 고\\n용 불안정, 높은 주거비용, 과도한 교육 경쟁(학력주의와 학벌주의 만\\n연), 양성 불평등, 사회규범 및 가치관의 변화 등이 출산에 영향을 미\\n치는 거시적인 요소들이다. 미시적인 요인들 대부분 거시적 요인들\\n에 의해 영향을 받는다. 예를 들어, 고용에서 학력주의와 학벌주의 만\\n연은 사교육비를 증가시켜 자녀 양육의 경제적 부담을 높이고 있다. 출산율 회복에 성공한 국가로부터의 교훈\\n이와 같이 저출산의 원인들이 명백하게 규명되고 있다는 점에서 저\\n출산은 극복이 가능한 현상으로 간주할 수 있다. 실례로 서구 국가들 \\n중 프랑스, 스웨덴, 영국 등은 저출산 현상을 극복한 국가들로 알려져 \\n있다. 우리나라는 15년 이상 저출산 대책이 추진되고 있음에도 불구\\n하고 출산율은 오히려 더 낮아져 최근에는 0명대를 기록하고 있다. \\n저출산 대책은 다양한 복합적인 원인들을 해소할 수 있도록 종합적\\n으로 그리고 장기간에 걸쳐 일관성 있게 추진되어야 한다. 그러나 우\\n리나라 저출산 대책에는 반드시 필요한 정책들이 누락되어 있는 문\\n제, 필요한 정책들이 포함되고 있을지라도 사각지대가 크거나 급여 \\n등이 충분하지 않은 문제들을 가지고 있다. \\n이와 관련, 초저출산현상을 멈추기 위해서는 세 가지의 근본적인 노\\n력이 긴요하다. \\n첫 번째로 과도한 경쟁사회를 지양하기 위하여 노동시장을 개혁하여\\n야 한다. 사실 한국 사회에서 만연하는 저출산 원인들은 다소 차이가 \\n있을지라도 OECD 국가나 동유럽 국가들 일부도 직면하고 있다. 그\\n럼에도 불구하고, 유독 한국 사회에서 합계출산율이 0명대로 치닫고 \\n있는 점은 직접적인 저출산 원인들 이외의 요소가 작동하고 있는 것\\n으로 설명할 수 있다. 대표적으로 단기간에 이룩하였던 고도 경제성\\n장의 후유증으로 삶의 목표가 성공이나 물질적인 것을 추구하는 데 \\n집중되었으며, 이를 위해 어린 시절부터 무한 경쟁사회 속에서 살아\\n가면서 여유 없이 쫓기고 있다. 이로 인해 자녀 양육은 무한 경쟁의 \\n연속선상에서 막대한 비용을 들여야 한다는 강박관념 때문에 행복보\\n다는 부담으로 인식되고 있다. 따라서 노동 개혁을 통해 그간 관행으\\n<그림 2> OECD 국가의 합계출산율 추이 \\n출처; OECD (2023). Fertility rates (indicator). doi: 10.1 787/8272fb01-en (Accessed on 09 May 2023) \\n주) 한국은 합계출산율을 2022년까지 발표하였으나, OECD 국가 대부분 2020년까지 발표하였음. 따라서, 2020년 OECD 기준 한국의 합계출산율은 0.84임.', metadata={'source': 'https://snuac.snu.ac.kr/2015_snuac/wp-content/uploads/2015/07/asiabrief_3-26.pdf', 'page': 1}),\n",
              " Document(page_content='Seoul National University Asia Center1\\n2023년 5월 22일, 3권 26호 (통권 116호)\\n한국의 출산율은 어디가 바닥인가? \\n0.78명! 2022년 대한민국의 합계출산율이다. 인구가 증가나 감소하\\n지 않고 고령화도 되지 않는 이른바 안정인구(Stable Population)를 \\n보유하기 위해서는 합계출산율이 인구대체수준인 2.1명에서 장기적\\n으로 유지되어야 한다. 그런데 1/3 정도만 인구를 대체할 수 있는 출\\n산율이 장기적으로 지속된다면 그만큼 우리나라 인구는 급속하게 감\\n소하고 고령화될 것이다. \\n이와 같은 인구학적 재생산(Reproduction) 붕괴는 저절로 회복되지 \\n않는다. 이론들에 따르면 출산율이 0명에 이를 수도 있다. 대표적으\\n로 이스터린(Easterlin, 1978)의 상대적 소득가설(Relative Income \\nHypothesis)에 의하면, 부부가 충분한 자원을 가지고 있지 못한 경우 출산을 주저하게 되는데, 기대되는 상대적인 소득과 자원에 따라 \\n출산율은 0명까지 감소할 가능성을 배제할 수 없다. 베커의 신가정경\\n제출산력모형(New Home Economics Model of Fertility)에 따르면, \\n자녀에 대한 만족은 자녀의 수가 아닌 자녀의 질을 통해 추구하는데 \\n자녀  양육에는 보다 많은 시간 투입이 요구된다. 인적자본이 중시되\\n는 현대사회에서 개인은 시간가치를 증가시키기 위해 자녀 양육보다 \\n시간이 덜 소요되는 것들을 선호하게 된다. \\n한국 초저출산의 원인구조\\n한국에서 재생산 위기는 ‘결혼’에서부터 시작된다. 한국은 세계 경제 \\n10위권, IT(Information Technology) 강국 등으로 알려져 있지만, \\n<그림 1> 출산율 감소와 신생아 수를 넘어선 고령인구\\n초저출산현상 극복과 인구구조 변화 대응\\n# 이삼식    한양대학교\\n한국의 합계출산율은 2022년 0.78명으로 장기간 초저출산현상 지속은 인구의 지속가능성에 위협이 되고 있다. 저출산 대책은 다양\\n한 복합적인 원인들을 해소할 수 있도록 종합적으로 장기간 일관성 있게 추진되어야 한다. 학령인구 감소, 노동력 부족, 사회보장 부담 \\n증가 등 인구구조 변화에 대한 철저한 대응이 필요하다. 출산율 회복과 인구구조 변화에 대한 적응은 양자택일의 문제가 아니라 동시에 \\n추구하여야 할 사회 목표들인 것이다. Summary Of Article', metadata={'source': 'https://snuac.snu.ac.kr/2015_snuac/wp-content/uploads/2015/07/asiabrief_3-26.pdf', 'page': 0}),\n",
              " Document(page_content='세계를 잇다, 미래를 빚다!4지대를 없애도록 한다. 무엇보다도 출산과 양육에 친화적인 직장문\\n화를 조성하여야 한다. \\n인구구조 변화에 대응해야\\n우리나라는 이미 20년 이상 동안 초저출산현상(합계출산율 1.3명 \\n이하)을 겪고 있다. 적어도 당분간 ‘저출산의 덫’에서 빠져나올 수 있\\n을 것으로 기대하기 어렵다. 저출산 대책들이 실효성을 거두기 시작\\n할지라도 언제부터 얼마나 빠른 속도로 어느 수준까지 출산율이 높\\n아질 것으로 예상하기도 어렵다. 결국 우리나라 인구는 급속하게 감\\n소하고, 고령화될 것이다. 따라서 저출산 대책을 더욱 강화하는 동시\\n에 인구감소 및 고령화에 대해서도 철저하게 대응하여야 한다. 인구\\n감소 및 고령화가 사회에 미치는 파장은 크게 학교 붕괴, 병력자원 부\\n족, 노동력 부족, 사회보장 부담 증가 등을 들 수 있다. \\n학령인구 감소에 따른 학생 수 감소는 초등학교, 중학교, 고등학교 및 \\n대학교에까지 영향을 미치고 있다. 과거 고출산 시기에 태어난 세대\\n를 위해 건립하였던 학교 시설과 교사 양성 인프라(교육대학 등)는 과\\n잉 시설이 되면서 통폐합이 진행되고 있다. 폐교는 단순하게 잉여 시\\n설의 처분만을 의미하지 않는다. 폐교로 아동이 있는 가족은 그 지역\\n으로 이주해오지 않을 것이며, 아동들을 상대로 하는 가게나 시설 역\\n시 폐쇄하거나 다른 지역으로 떠날 수밖에 없다. 이와 같이 폐교는 지\\n방소멸을 유발하고 가속화시키는 주요한 요인이 된다. 학생들의 사\\n회성 발달, 교육행정 효율성 등에 불리한 학생희소학교의 문제를 최\\n소화하기 위해 초·중 또는 중·고 통합학교나 학교 간 통합수업을 활\\n성화해야 한다. 지방대학의 경쟁력을 확보하기 위해 교육부의 권한\\n을 지자체에 이양하는 동시에 중앙정부 차원에서 지방대학과 산업 \\n간 연계를 강화하기 위한 투자를 과감하게 늘릴 필요가 있다. 종합대\\n학이 보편적인 대학 체계를 일부 단과대학 중심의 특성화 대학으로 \\n전환하여 학생 수가 적으나 강한 대학들이 지역적으로 균등하게 배\\n치될 필요가 있다. \\n출생아 수 감소는 징병 대상 인구의 감소를 가져와 병력자원 부족을 \\n초래한다. 이에 대응하기 위하여 4차 산업혁명 핵심기술 등을 이용\\n하여 병력 대체용 첨단 무기(전방 감시 등)를 개발하고, 기술병 등 일\\n정한 자원에 대해서는 모병제를 도입하는 이른바 혼합병제를 채택할 \\n필요가 있다. \\n생산가능인구(15~49세)가 감소하여도 베이비붐세대(1955~1974\\n년 출생 인구)가 여전히 노동시장에서 활동하고 있어 당분간 노동력\\n은 공급과잉 상태를 유지할 것이다. 그러나 베이비붐세대 대부분이 노동시장에 이탈하는 2030년대 중반경부터 수요에 비해 노동력 공\\n급이 본격적으로 부족하기 시작할 것이다. 노동인구의 구매력이 노\\n인인구에 비해 상대적으로 높다는 점에서 노동력 부족은 생산 인구 \\n부족뿐 아니라 소비 인구 부족 즉, 내수 위축으로도 이어져 경제성장\\n을 둔화시킬 것이다. 노동력 부족에 대응하기 위해서는 근본적으로 \\n출산율 회복이 필수적이다. 다른 한편으로 잠재 인력의 활용을 극대\\n화할 필요가 있다. 50%대에 머물고 있는 여성 고용률을 스웨덴 등 \\n선진국의 수준(70~80%대)으로 높이도록 한다. 이를 위해서는 노동\\n시장에서의 젠더 차별 불식, 일가정양립 환경 조성 등이 선결되어야 \\n할 것이다. 고령화가 빠르게 진행되고 있으나 고령인구의 학력과 직\\n업력이 높아지고 건강이 개선되고 있다는 점에서 정년 연장 내지 폐\\n지를 통해 고령인구가 보다 오랫동안 노동시장에 남아서 역할을 하\\n도록 한다. 외국인 노동력 유입도 노동력 부족에 대처하기 위한 중요\\n한 전략이 될 수 있다. 이미 중소기업, 농업 등에서는 내국인의 3D 업\\n종 기피 등으로 인하여 노동력이 부족하며, 이러한 빈자리를 단기 외\\n국인 노동자로 해소하고 있다. 미래에는 단기 외국인 노동자들도 확\\n보하기 어려울 수 있다. 동남아 국가 등도 이미 저출산과 고령화가 시\\n작되어 장기적으로 우리나라에 자국의 노동자들을 보낼 수 있는 여\\n력이 없어질 것이기 때문이다. 일부에서는 영주 목적의 장기 이민자\\n의 유입이 필요하다는 주장이 제기되기도 한다. 최근의 초저출산현\\n상이 장기적으로 지속된다면 여성인력이나 고령인력만으로 필요 인\\n력 내지 안정적인 인구구조를 유지하기 어려울 것이기 때문에 일면 \\n타당하다고 할 수 있다. 그러나 미래로 갈수록 노동집약적 산업 중심\\n에서 지식기반 산업 중심으로 산업구조가 변화할 것이라는 사실이\\n다. 이민자들도 한국 사회의 저출산현상에 편승하고 자신들은 고령\\n화된다면 오히려 인구구조에 부정적인 영향을 미친다는 점이다. 그\\n리고 사회통합 비용이 높을 수 있다는 점에서 인구감소 및 고령화에\\n의 대응을 목적으로 하는 장기 이민자 유입에 대해서는 신중할 필요\\n가 있다. 서구의 많은 연구들은 인구 고령화에 대응하기 위한 이민정\\n책은 실효성이 높지 않음을 지적해왔다. 실제 서구 국가들은 제조업 \\n중심의 외국인 노동력 유입을 억제하고, 우수 인력 중심으로 이민을 \\n선별적으로 허용하고 있다. \\n생산가능인구는 감소하나 이들이 부양해야 할 노인인구는 급격하게 \\n증가하여 사회보장 부담이 크게 높아질 것이다. 대표적으로 노인인\\n구 증가로 연금 수령 인구는 증가하나 연금보험료를 납부할 인구는 \\n줄어들어 장기적으로 연금기금은 고갈될 것이다. 건강보험이나 장기\\n요양보험 역시 보험료 이용자는 증가하나 납부자는 감소하여 보험재\\n정의 지속가능성이 약화될 것이다. 이러한 문제를 극복하기 위하여 \\n보험료율과 소득대체율 등을 조정하여야 하나, 보다 근본적인 방법', metadata={'source': 'https://snuac.snu.ac.kr/2015_snuac/wp-content/uploads/2015/07/asiabrief_3-26.pdf', 'page': 3})]"
            ]
          },
          "metadata": {},
          "execution_count": 116
        }
      ]
    },
    {
      "cell_type": "code",
      "source": [
        "len(larger_chunks[0].page_content)"
      ],
      "metadata": {
        "colab": {
          "base_uri": "https://localhost:8080/"
        },
        "id": "VZQphIyPy--V",
        "outputId": "f7b496fb-a416-4211-9433-1ccb6a1aad21"
      },
      "execution_count": null,
      "outputs": [
        {
          "output_type": "execute_result",
          "data": {
            "text/plain": [
              "1944"
            ]
          },
          "metadata": {},
          "execution_count": 117
        }
      ]
    },
    {
      "cell_type": "code",
      "source": [
        "sub_docs = vectorstore.similarity_search(\"저출산으로 인한 노동력 부족에 대응하기 위해 어떤 전략들이 필요해?\")\n",
        "sub_docs"
      ],
      "metadata": {
        "colab": {
          "base_uri": "https://localhost:8080/"
        },
        "id": "Vu7GUiRLLdMA",
        "outputId": "016a8993-876c-4b02-e6e3-68c6c8ea9d44"
      },
      "execution_count": null,
      "outputs": [
        {
          "output_type": "execute_result",
          "data": {
            "text/plain": [
              "[Document(page_content='노동력 부족에 대응하기 위해 어떤 전략들이 필요한가요?', metadata={'doc_id': '339779dd-81a5-4d00-b495-de6cdb490103'}),\n",
              " Document(page_content='저출산 현상을 극복하기 위한 대책은 무엇인가요?', metadata={'doc_id': '37444758-5309-4f13-a4c1-d4d7482932ad'}),\n",
              " Document(page_content='출산율 회복과 인구구조 변화 대응 중 어느 것을 우선해야 하는가?', metadata={'doc_id': '75a1e36b-5f66-4668-ac40-d63e4c15677b'}),\n",
              " Document(page_content='한국의 초저출산현상이 지속된다면 어떤 사회적 문제가 발생할 수 있는가?', metadata={'doc_id': '9d2ac0d3-0f90-4012-bb88-ed194fb4e4cb'})]"
            ]
          },
          "metadata": {},
          "execution_count": 123
        }
      ]
    },
    {
      "cell_type": "code",
      "source": [
        "larger_chunks = retriever.invoke(\"저출산으로 인한 노동력 부족에 대응하기 위해 어떤 전략들이 필요해?\")\n",
        "larger_chunks[0].page_content"
      ],
      "metadata": {
        "colab": {
          "base_uri": "https://localhost:8080/",
          "height": 348
        },
        "id": "5IDhqv5lyxgT",
        "outputId": "c3829601-cb74-4adb-b2a8-d72fd80f252c"
      },
      "execution_count": null,
      "outputs": [
        {
          "output_type": "execute_result",
          "data": {
            "text/plain": [
              "'세계를 잇다, 미래를 빚다!4지대를 없애도록 한다. 무엇보다도 출산과 양육에 친화적인 직장문\\n화를 조성하여야 한다. \\n인구구조 변화에 대응해야\\n우리나라는 이미 20년 이상 동안 초저출산현상(합계출산율 1.3명 \\n이하)을 겪고 있다. 적어도 당분간 ‘저출산의 덫’에서 빠져나올 수 있\\n을 것으로 기대하기 어렵다. 저출산 대책들이 실효성을 거두기 시작\\n할지라도 언제부터 얼마나 빠른 속도로 어느 수준까지 출산율이 높\\n아질 것으로 예상하기도 어렵다. 결국 우리나라 인구는 급속하게 감\\n소하고, 고령화될 것이다. 따라서 저출산 대책을 더욱 강화하는 동시\\n에 인구감소 및 고령화에 대해서도 철저하게 대응하여야 한다. 인구\\n감소 및 고령화가 사회에 미치는 파장은 크게 학교 붕괴, 병력자원 부\\n족, 노동력 부족, 사회보장 부담 증가 등을 들 수 있다. \\n학령인구 감소에 따른 학생 수 감소는 초등학교, 중학교, 고등학교 및 \\n대학교에까지 영향을 미치고 있다. 과거 고출산 시기에 태어난 세대\\n를 위해 건립하였던 학교 시설과 교사 양성 인프라(교육대학 등)는 과\\n잉 시설이 되면서 통폐합이 진행되고 있다. 폐교는 단순하게 잉여 시\\n설의 처분만을 의미하지 않는다. 폐교로 아동이 있는 가족은 그 지역\\n으로 이주해오지 않을 것이며, 아동들을 상대로 하는 가게나 시설 역\\n시 폐쇄하거나 다른 지역으로 떠날 수밖에 없다. 이와 같이 폐교는 지\\n방소멸을 유발하고 가속화시키는 주요한 요인이 된다. 학생들의 사\\n회성 발달, 교육행정 효율성 등에 불리한 학생희소학교의 문제를 최\\n소화하기 위해 초·중 또는 중·고 통합학교나 학교 간 통합수업을 활\\n성화해야 한다. 지방대학의 경쟁력을 확보하기 위해 교육부의 권한\\n을 지자체에 이양하는 동시에 중앙정부 차원에서 지방대학과 산업 \\n간 연계를 강화하기 위한 투자를 과감하게 늘릴 필요가 있다. 종합대\\n학이 보편적인 대학 체계를 일부 단과대학 중심의 특성화 대학으로 \\n전환하여 학생 수가 적으나 강한 대학들이 지역적으로 균등하게 배\\n치될 필요가 있다. \\n출생아 수 감소는 징병 대상 인구의 감소를 가져와 병력자원 부족을 \\n초래한다. 이에 대응하기 위하여 4차 산업혁명 핵심기술 등을 이용\\n하여 병력 대체용 첨단 무기(전방 감시 등)를 개발하고, 기술병 등 일\\n정한 자원에 대해서는 모병제를 도입하는 이른바 혼합병제를 채택할 \\n필요가 있다. \\n생산가능인구(15~49세)가 감소하여도 베이비붐세대(1955~1974\\n년 출생 인구)가 여전히 노동시장에서 활동하고 있어 당분간 노동력\\n은 공급과잉 상태를 유지할 것이다. 그러나 베이비붐세대 대부분이 노동시장에 이탈하는 2030년대 중반경부터 수요에 비해 노동력 공\\n급이 본격적으로 부족하기 시작할 것이다. 노동인구의 구매력이 노\\n인인구에 비해 상대적으로 높다는 점에서 노동력 부족은 생산 인구 \\n부족뿐 아니라 소비 인구 부족 즉, 내수 위축으로도 이어져 경제성장\\n을 둔화시킬 것이다. 노동력 부족에 대응하기 위해서는 근본적으로 \\n출산율 회복이 필수적이다. 다른 한편으로 잠재 인력의 활용을 극대\\n화할 필요가 있다. 50%대에 머물고 있는 여성 고용률을 스웨덴 등 \\n선진국의 수준(70~80%대)으로 높이도록 한다. 이를 위해서는 노동\\n시장에서의 젠더 차별 불식, 일가정양립 환경 조성 등이 선결되어야 \\n할 것이다. 고령화가 빠르게 진행되고 있으나 고령인구의 학력과 직\\n업력이 높아지고 건강이 개선되고 있다는 점에서 정년 연장 내지 폐\\n지를 통해 고령인구가 보다 오랫동안 노동시장에 남아서 역할을 하\\n도록 한다. 외국인 노동력 유입도 노동력 부족에 대처하기 위한 중요\\n한 전략이 될 수 있다. 이미 중소기업, 농업 등에서는 내국인의 3D 업\\n종 기피 등으로 인하여 노동력이 부족하며, 이러한 빈자리를 단기 외\\n국인 노동자로 해소하고 있다. 미래에는 단기 외국인 노동자들도 확\\n보하기 어려울 수 있다. 동남아 국가 등도 이미 저출산과 고령화가 시\\n작되어 장기적으로 우리나라에 자국의 노동자들을 보낼 수 있는 여\\n력이 없어질 것이기 때문이다. 일부에서는 영주 목적의 장기 이민자\\n의 유입이 필요하다는 주장이 제기되기도 한다. 최근의 초저출산현\\n상이 장기적으로 지속된다면 여성인력이나 고령인력만으로 필요 인\\n력 내지 안정적인 인구구조를 유지하기 어려울 것이기 때문에 일면 \\n타당하다고 할 수 있다. 그러나 미래로 갈수록 노동집약적 산업 중심\\n에서 지식기반 산업 중심으로 산업구조가 변화할 것이라는 사실이\\n다. 이민자들도 한국 사회의 저출산현상에 편승하고 자신들은 고령\\n화된다면 오히려 인구구조에 부정적인 영향을 미친다는 점이다. 그\\n리고 사회통합 비용이 높을 수 있다는 점에서 인구감소 및 고령화에\\n의 대응을 목적으로 하는 장기 이민자 유입에 대해서는 신중할 필요\\n가 있다. 서구의 많은 연구들은 인구 고령화에 대응하기 위한 이민정\\n책은 실효성이 높지 않음을 지적해왔다. 실제 서구 국가들은 제조업 \\n중심의 외국인 노동력 유입을 억제하고, 우수 인력 중심으로 이민을 \\n선별적으로 허용하고 있다. \\n생산가능인구는 감소하나 이들이 부양해야 할 노인인구는 급격하게 \\n증가하여 사회보장 부담이 크게 높아질 것이다. 대표적으로 노인인\\n구 증가로 연금 수령 인구는 증가하나 연금보험료를 납부할 인구는 \\n줄어들어 장기적으로 연금기금은 고갈될 것이다. 건강보험이나 장기\\n요양보험 역시 보험료 이용자는 증가하나 납부자는 감소하여 보험재\\n정의 지속가능성이 약화될 것이다. 이러한 문제를 극복하기 위하여 \\n보험료율과 소득대체율 등을 조정하여야 하나, 보다 근본적인 방법'"
            ],
            "application/vnd.google.colaboratory.intrinsic+json": {
              "type": "string"
            }
          },
          "metadata": {},
          "execution_count": 125
        }
      ]
    },
    {
      "cell_type": "code",
      "source": [],
      "metadata": {
        "id": "sPpusnC4ywf-"
      },
      "execution_count": null,
      "outputs": []
    },
    {
      "cell_type": "code",
      "source": [],
      "metadata": {
        "id": "j72-aU5cywbe"
      },
      "execution_count": null,
      "outputs": []
    },
    {
      "cell_type": "code",
      "source": [],
      "metadata": {
        "id": "CbODGpzeywYT"
      },
      "execution_count": null,
      "outputs": []
    },
    {
      "cell_type": "code",
      "source": [],
      "metadata": {
        "id": "iOwp_7Y_y_-N"
      },
      "execution_count": null,
      "outputs": []
    },
    {
      "cell_type": "code",
      "source": [],
      "metadata": {
        "id": "41w1fJVBy_73"
      },
      "execution_count": null,
      "outputs": []
    },
    {
      "cell_type": "code",
      "source": [],
      "metadata": {
        "id": "dm8ZsS3HtUBO"
      },
      "execution_count": null,
      "outputs": []
    }
  ]
}