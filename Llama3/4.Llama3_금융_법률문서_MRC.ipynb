{
  "cells": [
    {
      "cell_type": "markdown",
      "metadata": {
        "id": "zkdqRd-M9-mt"
      },
      "source": [
        "# Llama 3 한국어 성능 테스트하기 (금융, 법률 문서 기계독해 데이터셋)\n",
        "## 작성자 : AISchool ( http://aischool.ai/%ec%98%a8%eb%9d%bc%ec%9d%b8-%ea%b0%95%ec%9d%98-%ec%b9%b4%ed%85%8c%ea%b3%a0%eb%a6%ac/ )\n",
        "## Reference : https://huggingface.co/meta-llama/Meta-Llama-3-8B-Instruct\n",
        "## 금융, 법률 문서 기계독해 데이터 : https://www.aihub.or.kr/aihubdata/data/view.do?currMenu=115&topMenu=100&aihubDataSe=data&dataSetSn=71610"
      ]
    },
    {
      "cell_type": "markdown",
      "source": [
        "# 라이브러리 설치"
      ],
      "metadata": {
        "id": "Par7U0zT9-mu"
      }
    },
    {
      "cell_type": "code",
      "execution_count": null,
      "metadata": {
        "colab": {
          "base_uri": "https://localhost:8080/"
        },
        "outputId": "aa22849e-bcbf-4242-eb74-b12413e1d3fc",
        "id": "8oL73tFk9-mu"
      },
      "outputs": [
        {
          "output_type": "stream",
          "name": "stdout",
          "text": [
            "Collecting accelerate\n",
            "  Downloading accelerate-0.30.0-py3-none-any.whl (302 kB)\n",
            "\u001b[?25l     \u001b[90m━━━━━━━━━━━━━━━━━━━━━━━━━━━━━━━━━━━━━━━━\u001b[0m \u001b[32m0.0/302.4 kB\u001b[0m \u001b[31m?\u001b[0m eta \u001b[36m-:--:--\u001b[0m\r\u001b[2K     \u001b[91m━━━━━━━━━━━━━━━━━━\u001b[0m\u001b[91m╸\u001b[0m\u001b[90m━━━━━━━━━━━━━━━━━━━━━\u001b[0m \u001b[32m143.4/302.4 kB\u001b[0m \u001b[31m4.2 MB/s\u001b[0m eta \u001b[36m0:00:01\u001b[0m\r\u001b[2K     \u001b[90m━━━━━━━━━━━━━━━━━━━━━━━━━━━━━━━━━━━━━━━━\u001b[0m \u001b[32m302.4/302.4 kB\u001b[0m \u001b[31m5.1 MB/s\u001b[0m eta \u001b[36m0:00:00\u001b[0m\n",
            "\u001b[?25hRequirement already satisfied: numpy>=1.17 in /usr/local/lib/python3.10/dist-packages (from accelerate) (1.25.2)\n",
            "Requirement already satisfied: packaging>=20.0 in /usr/local/lib/python3.10/dist-packages (from accelerate) (24.0)\n",
            "Requirement already satisfied: psutil in /usr/local/lib/python3.10/dist-packages (from accelerate) (5.9.5)\n",
            "Requirement already satisfied: pyyaml in /usr/local/lib/python3.10/dist-packages (from accelerate) (6.0.1)\n",
            "Requirement already satisfied: torch>=1.10.0 in /usr/local/lib/python3.10/dist-packages (from accelerate) (2.2.1+cu121)\n",
            "Requirement already satisfied: huggingface-hub in /usr/local/lib/python3.10/dist-packages (from accelerate) (0.20.3)\n",
            "Requirement already satisfied: safetensors>=0.3.1 in /usr/local/lib/python3.10/dist-packages (from accelerate) (0.4.3)\n",
            "Requirement already satisfied: filelock in /usr/local/lib/python3.10/dist-packages (from torch>=1.10.0->accelerate) (3.14.0)\n",
            "Requirement already satisfied: typing-extensions>=4.8.0 in /usr/local/lib/python3.10/dist-packages (from torch>=1.10.0->accelerate) (4.11.0)\n",
            "Requirement already satisfied: sympy in /usr/local/lib/python3.10/dist-packages (from torch>=1.10.0->accelerate) (1.12)\n",
            "Requirement already satisfied: networkx in /usr/local/lib/python3.10/dist-packages (from torch>=1.10.0->accelerate) (3.3)\n",
            "Requirement already satisfied: jinja2 in /usr/local/lib/python3.10/dist-packages (from torch>=1.10.0->accelerate) (3.1.3)\n",
            "Requirement already satisfied: fsspec in /usr/local/lib/python3.10/dist-packages (from torch>=1.10.0->accelerate) (2023.6.0)\n",
            "Collecting nvidia-cuda-nvrtc-cu12==12.1.105 (from torch>=1.10.0->accelerate)\n",
            "  Using cached nvidia_cuda_nvrtc_cu12-12.1.105-py3-none-manylinux1_x86_64.whl (23.7 MB)\n",
            "Collecting nvidia-cuda-runtime-cu12==12.1.105 (from torch>=1.10.0->accelerate)\n",
            "  Using cached nvidia_cuda_runtime_cu12-12.1.105-py3-none-manylinux1_x86_64.whl (823 kB)\n",
            "Collecting nvidia-cuda-cupti-cu12==12.1.105 (from torch>=1.10.0->accelerate)\n",
            "  Using cached nvidia_cuda_cupti_cu12-12.1.105-py3-none-manylinux1_x86_64.whl (14.1 MB)\n",
            "Collecting nvidia-cudnn-cu12==8.9.2.26 (from torch>=1.10.0->accelerate)\n",
            "  Using cached nvidia_cudnn_cu12-8.9.2.26-py3-none-manylinux1_x86_64.whl (731.7 MB)\n",
            "Collecting nvidia-cublas-cu12==12.1.3.1 (from torch>=1.10.0->accelerate)\n",
            "  Using cached nvidia_cublas_cu12-12.1.3.1-py3-none-manylinux1_x86_64.whl (410.6 MB)\n",
            "Collecting nvidia-cufft-cu12==11.0.2.54 (from torch>=1.10.0->accelerate)\n",
            "  Using cached nvidia_cufft_cu12-11.0.2.54-py3-none-manylinux1_x86_64.whl (121.6 MB)\n",
            "Collecting nvidia-curand-cu12==10.3.2.106 (from torch>=1.10.0->accelerate)\n",
            "  Using cached nvidia_curand_cu12-10.3.2.106-py3-none-manylinux1_x86_64.whl (56.5 MB)\n",
            "Collecting nvidia-cusolver-cu12==11.4.5.107 (from torch>=1.10.0->accelerate)\n",
            "  Using cached nvidia_cusolver_cu12-11.4.5.107-py3-none-manylinux1_x86_64.whl (124.2 MB)\n",
            "Collecting nvidia-cusparse-cu12==12.1.0.106 (from torch>=1.10.0->accelerate)\n",
            "  Using cached nvidia_cusparse_cu12-12.1.0.106-py3-none-manylinux1_x86_64.whl (196.0 MB)\n",
            "Collecting nvidia-nccl-cu12==2.19.3 (from torch>=1.10.0->accelerate)\n",
            "  Using cached nvidia_nccl_cu12-2.19.3-py3-none-manylinux1_x86_64.whl (166.0 MB)\n",
            "Collecting nvidia-nvtx-cu12==12.1.105 (from torch>=1.10.0->accelerate)\n",
            "  Using cached nvidia_nvtx_cu12-12.1.105-py3-none-manylinux1_x86_64.whl (99 kB)\n",
            "Requirement already satisfied: triton==2.2.0 in /usr/local/lib/python3.10/dist-packages (from torch>=1.10.0->accelerate) (2.2.0)\n",
            "Collecting nvidia-nvjitlink-cu12 (from nvidia-cusolver-cu12==11.4.5.107->torch>=1.10.0->accelerate)\n",
            "  Using cached nvidia_nvjitlink_cu12-12.4.127-py3-none-manylinux2014_x86_64.whl (21.1 MB)\n",
            "Requirement already satisfied: requests in /usr/local/lib/python3.10/dist-packages (from huggingface-hub->accelerate) (2.31.0)\n",
            "Requirement already satisfied: tqdm>=4.42.1 in /usr/local/lib/python3.10/dist-packages (from huggingface-hub->accelerate) (4.66.2)\n",
            "Requirement already satisfied: MarkupSafe>=2.0 in /usr/local/lib/python3.10/dist-packages (from jinja2->torch>=1.10.0->accelerate) (2.1.5)\n",
            "Requirement already satisfied: charset-normalizer<4,>=2 in /usr/local/lib/python3.10/dist-packages (from requests->huggingface-hub->accelerate) (3.3.2)\n",
            "Requirement already satisfied: idna<4,>=2.5 in /usr/local/lib/python3.10/dist-packages (from requests->huggingface-hub->accelerate) (3.7)\n",
            "Requirement already satisfied: urllib3<3,>=1.21.1 in /usr/local/lib/python3.10/dist-packages (from requests->huggingface-hub->accelerate) (2.0.7)\n",
            "Requirement already satisfied: certifi>=2017.4.17 in /usr/local/lib/python3.10/dist-packages (from requests->huggingface-hub->accelerate) (2024.2.2)\n",
            "Requirement already satisfied: mpmath>=0.19 in /usr/local/lib/python3.10/dist-packages (from sympy->torch>=1.10.0->accelerate) (1.3.0)\n",
            "Installing collected packages: nvidia-nvtx-cu12, nvidia-nvjitlink-cu12, nvidia-nccl-cu12, nvidia-curand-cu12, nvidia-cufft-cu12, nvidia-cuda-runtime-cu12, nvidia-cuda-nvrtc-cu12, nvidia-cuda-cupti-cu12, nvidia-cublas-cu12, nvidia-cusparse-cu12, nvidia-cudnn-cu12, nvidia-cusolver-cu12, accelerate\n",
            "Successfully installed accelerate-0.30.0 nvidia-cublas-cu12-12.1.3.1 nvidia-cuda-cupti-cu12-12.1.105 nvidia-cuda-nvrtc-cu12-12.1.105 nvidia-cuda-runtime-cu12-12.1.105 nvidia-cudnn-cu12-8.9.2.26 nvidia-cufft-cu12-11.0.2.54 nvidia-curand-cu12-10.3.2.106 nvidia-cusolver-cu12-11.4.5.107 nvidia-cusparse-cu12-12.1.0.106 nvidia-nccl-cu12-2.19.3 nvidia-nvjitlink-cu12-12.4.127 nvidia-nvtx-cu12-12.1.105\n"
          ]
        }
      ],
      "source": [
        "!pip install accelerate"
      ]
    },
    {
      "cell_type": "markdown",
      "metadata": {
        "id": "4f99ghl_9-mv"
      },
      "source": [
        "## 금융, 법률 문서 기계독해 데이터 불러오기"
      ]
    },
    {
      "cell_type": "code",
      "source": [
        "# Sample/02.라벨링데이터/1.정답경계 추출형/TeL_정답경계_2022_sample.json"
      ],
      "metadata": {
        "id": "LP1oygnk9-mw"
      },
      "execution_count": null,
      "outputs": []
    },
    {
      "cell_type": "code",
      "source": [
        "import json\n",
        "\n",
        "# JSON 파일을 열고 데이터를 로드합니다.\n",
        "with open('TeL_정답경계_2022_sample.json', 'r', encoding='utf-8-sig') as file:\n",
        "    data = json.load(file)"
      ],
      "metadata": {
        "id": "y2p8U5emV_qS"
      },
      "execution_count": null,
      "outputs": []
    },
    {
      "cell_type": "code",
      "source": [
        "data"
      ],
      "metadata": {
        "colab": {
          "base_uri": "https://localhost:8080/"
        },
        "id": "98HGaRGvWBS8",
        "outputId": "c0fe20ad-9096-40c4-9622-b034d5e8be8f"
      },
      "execution_count": null,
      "outputs": [
        {
          "output_type": "execute_result",
          "data": {
            "text/plain": [
              "{'Dataset': {'Identifier': 'TEXT_QnA_FinancialLaw_01',\n",
              "  'name': '금융법률 문서 기계독해 데이터',\n",
              "  'src_path': '/dataSet/text/',\n",
              "  'label_path': '/dataSet/text/',\n",
              "  'category': 2,\n",
              "  'type': 0},\n",
              " 'data': [{'doc_id': 'TNL041227',\n",
              "   'doc_title': '신 미·일방위협력지침의 주요내용 및 쟁점과 한국의 대응과제',\n",
              "   'doc_source': '국회입법조사처',\n",
              "   'doc_published': 20150603,\n",
              "   'created': '20221219143503',\n",
              "   'doc_class': {'class': '법률/사회과학/법학일반', 'code': '연구보고서'},\n",
              "   'paragraphs': [{'context_id': '2356574',\n",
              "     'context': '1. 들어가며\\n지난 2015년 4월 27일 아베신조(安倍晋三) 총리의 방미를 계기로 미·일 양국은 ‘신 미·일방위협력지침’에 합의하였다. 이는 미·일 간의 안보협력관계를 체계적으로 실행하기 위해 1978년에 마련되고, 1997년에 개정된 ‘미·일방위협력지침’을 대체하는 것으로 미·일 동맹의 군사적 활동 공간을 전 세계로 확장하는 내용을 담고 있다.\\n이에 대해서 중국은 자국의 이익을 훼손할 수 있다는 점에서 비판적인 입장을 피력했는데, 실제로 아베 총리는 미·일 동맹 강화가 북한뿐만 아니라 중국의 위협에 대응하기 위한 것이라고 발언함으로써 동북아의 평화안보질서에 부정적인 영향을 미치게 될 것이라는 주장에 힘이 실리고 있다.',\n",
              "     'tbs': None,\n",
              "     'qas': [{'qa_type': 1,\n",
              "       'question_id': '6379347',\n",
              "       'question': '처음으로 미·일방위협력지침이 정해진 건 언제야',\n",
              "       'answer': {'source': '2356574',\n",
              "        'text': '1978년',\n",
              "        'answer_start': 109,\n",
              "        'answer_end': 113,\n",
              "        'cell_text': None,\n",
              "        'cell_coordinates': None,\n",
              "        'clue_start': None,\n",
              "        'clue_text': None,\n",
              "        'options': None}},\n",
              "      {'qa_type': 1,\n",
              "       'question_id': '6379348',\n",
              "       'question': '언제 최초로 미국과 일본의 방위협력지침이 만들어졌어',\n",
              "       'answer': {'source': '2356574',\n",
              "        'text': '1978년',\n",
              "        'answer_start': 109,\n",
              "        'answer_end': 113,\n",
              "        'cell_text': None,\n",
              "        'cell_coordinates': None,\n",
              "        'clue_start': None,\n",
              "        'clue_text': None,\n",
              "        'options': None}}]}]},\n",
              "  {'doc_id': 'TNL041227',\n",
              "   'doc_title': '신 미·일방위협력지침의 주요내용 및 쟁점과 한국의 대응과제',\n",
              "   'doc_source': '국회입법조사처',\n",
              "   'doc_published': 20150603,\n",
              "   'created': '20221219143503',\n",
              "   'doc_class': {'class': '법률/사회과학/법학일반', 'code': '연구보고서'},\n",
              "   'paragraphs': [{'context_id': '2356575',\n",
              "     'context': '한국의 경우에도 한국 정부의 동의 없이도 한반도 유사시 일본의 군사적 개입이 가능할 수도 있다는 해석이 제기되면서 이에 대한 비판적인 입장이 부각되고 있다. 특히 이번 신 미·일방위협력지침은 아베 총리 집권이후 진행되고 있는 일본의 우경화행보와 맞물려 있기 때문에 매우 우려스럽지 않을 수 없다.\\n그러나 상황에 따라 힘의 논리가 지배하는 현실 국제질서를 감안할 때 신 미·일방위협력지침이 한반도 평화질서에 어떻게 영향을 미치게 될 지에 대해서 선험적으로 속단하기 어려운 측면도 있다는 일부의 주장도 무시할 수는 없다.\\n이 글에서는 미·일방위협력지침의 제정 및 개정, 그리고 ‘신 미·일방위협력지침’의주요 내용을 개관한다. 그리고 이를 둘러싼 주요 쟁점을 정리하고, 이를 토대로 한국의 대응과제를 제시하고자 한다.',\n",
              "     'tbs': None,\n",
              "     'qas': [{'qa_type': 1,\n",
              "       'question_id': '6379354',\n",
              "       'question': '한반도에 일본의 군사적 개입 가능성을 열어두어 논란이 제기된 것은 뭐야',\n",
              "       'answer': {'source': '2356575',\n",
              "        'text': '신 미·일방위협력지침',\n",
              "        'answer_start': 94,\n",
              "        'answer_end': 104,\n",
              "        'cell_text': None,\n",
              "        'cell_coordinates': None,\n",
              "        'clue_start': None,\n",
              "        'clue_text': None,\n",
              "        'options': None}},\n",
              "      {'qa_type': 1,\n",
              "       'question_id': '6379355',\n",
              "       'question': '일본이 한반도에 군사력을 행사할 수도 있게 해서 문제가 된 건 뭐야',\n",
              "       'answer': {'source': '2356575',\n",
              "        'text': '신 미·일방위협력지침',\n",
              "        'answer_start': 94,\n",
              "        'answer_end': 104,\n",
              "        'cell_text': None,\n",
              "        'cell_coordinates': None,\n",
              "        'clue_start': None,\n",
              "        'clue_text': None,\n",
              "        'options': None}}]}]},\n",
              "  {'doc_id': 'TNL041227',\n",
              "   'doc_title': '신 미·일방위협력지침의 주요내용 및 쟁점과 한국의 대응과제',\n",
              "   'doc_source': '국회입법조사처',\n",
              "   'doc_published': 20150603,\n",
              "   'created': '20221219143503',\n",
              "   'doc_class': {'class': '법률/사회과학/법학일반', 'code': '연구보고서'},\n",
              "   'paragraphs': [{'context_id': '2356576',\n",
              "     'context': '2. 미·일 동맹과 미·일방위협력지침\\n현재의 미·일 동맹은 1960년 1월에 체결된 ‘미·일 상호협력 및 안전보장조약(미·일 신안보조약)’을 토대로 한다.\\n이를 체계적으로 실행하기 위해서 1976년과 1978년에 각각 ‘미·일 안전보장협의위원회’와 ‘미·일방위협력지침’을 마련하였다.\\n이후 미·일 동맹의 안보 영역이 일본영토에서 일본 주변지역으로 확대되면서 1997년에 ‘미·일방위협력지침’을 개정하였다. 그리고 최근 미일 동맹의 안보영역이 전 세계로 확대되면서 기존 미·일방위협력지침을 개정한 ‘신 미·일방위협력지침’을 마련하게 된 것이다.',\n",
              "     'tbs': None,\n",
              "     'qas': [{'qa_type': 1,\n",
              "       'question_id': '6379356',\n",
              "       'question': '미국과 일본이 맺은 동맹의 바탕이 되는 협약은 뭐야',\n",
              "       'answer': {'source': '2356576',\n",
              "        'text': '미·일 상호협력 및 안전보장조약',\n",
              "        'answer_start': 48,\n",
              "        'answer_end': 64,\n",
              "        'cell_text': None,\n",
              "        'cell_coordinates': None,\n",
              "        'clue_start': None,\n",
              "        'clue_text': None,\n",
              "        'options': None}},\n",
              "      {'qa_type': 1,\n",
              "       'question_id': '6379357',\n",
              "       'question': '무슨 협약을 근간으로 미국과 일본 사이의 동맹이 이루어졌어',\n",
              "       'answer': {'source': '2356576',\n",
              "        'text': '미·일 상호협력 및 안전보장조약',\n",
              "        'answer_start': 48,\n",
              "        'answer_end': 64,\n",
              "        'cell_text': None,\n",
              "        'cell_coordinates': None,\n",
              "        'clue_start': None,\n",
              "        'clue_text': None,\n",
              "        'options': None}}]}]},\n",
              "  {'doc_id': 'TNL041227',\n",
              "   'doc_title': '신 미·일방위협력지침의 주요내용 및 쟁점과 한국의 대응과제',\n",
              "   'doc_source': '국회입법조사처',\n",
              "   'doc_published': 20150603,\n",
              "   'created': '20221219143503',\n",
              "   'doc_class': {'class': '법률/사회과학/법학일반', 'code': '연구보고서'},\n",
              "   'paragraphs': [{'context_id': '2356577',\n",
              "     'context': '3. 신 미·일방위협력지침의 주요내용\\n신 미·일방위협력지침은 다음과 같은 측면에서 1997년의 미·일방위협력지침과 차이가 있다.\\n첫째, 미·일 동맹의 활동범위가 기존의 방위협력지침에서 설정한 일본과 주변지역은 물론 아·태지역 및 전 세계로 확대되었다.\\n둘째, 안보협력상황을 ‘평화시’, ‘일본의 평화와 안보에 대한 중대한 위협상황’, ‘일본이 군사적 외침을 받는 상황’, ‘일본이 아닌 미국과 다른 나라가 군사적 외침을 받는 상황 ’, ‘일본에서 대규모 재해가 발생한 상황’ 등 5가지로 확대하였다.\\n셋째, 미·일 동맹 협력추진체계를 확대하고 통합성을 강화하였다. 이를 위해 미·일 동맹 협력을 범정부적 접근법이라고 명시하고 상설‘동맹협력메카니즘’(Alliance Coordination Mechanism)을 구축하기로 하였다.\\n넷째, 평시의 안보협력 범주를 확대하였다. 이 전과 달리 정보와 감시활동은 물론 탐지(ISR: Intelligence, Suveillance, Reconnaissance) 활동까지 통합적으로 협력하기로 하였다. 또한 평시에 탄도미사일을 포함하는 공중방어와 해상안보까지 양자 간의 안보협력 범주에 포함하였다.',\n",
              "     'tbs': None,\n",
              "     'qas': [{'qa_type': 1,\n",
              "       'question_id': '6379358',\n",
              "       'question': '새로 만든 미·일방위협력지침에서 미·일 동맹 협력추진체계를 증대하기 위해 구축하려는 게 뭐야',\n",
              "       'answer': {'source': '2356577',\n",
              "        'text': '동맹협력메카니즘',\n",
              "        'answer_start': 353,\n",
              "        'answer_end': 360,\n",
              "        'cell_text': None,\n",
              "        'cell_coordinates': None,\n",
              "        'clue_start': None,\n",
              "        'clue_text': None,\n",
              "        'options': None}},\n",
              "      {'qa_type': 1,\n",
              "       'question_id': '6379359',\n",
              "       'question': '새로운 미·일방위협력지침에 따르면 무엇을 통해 미국과 일본의 동맹 협력추진체계를 확대하려고 해',\n",
              "       'answer': {'source': '2356577',\n",
              "        'text': '동맹협력메카니즘',\n",
              "        'answer_start': 353,\n",
              "        'answer_end': 360,\n",
              "        'cell_text': None,\n",
              "        'cell_coordinates': None,\n",
              "        'clue_start': None,\n",
              "        'clue_text': None,\n",
              "        'options': None}}]}]},\n",
              "  {'doc_id': 'TNL041227',\n",
              "   'doc_title': '신 미·일방위협력지침의 주요내용 및 쟁점과 한국의 대응과제',\n",
              "   'doc_source': '국회입법조사처',\n",
              "   'doc_published': 20150603,\n",
              "   'created': '20221219143503',\n",
              "   'doc_class': {'class': '법률/사회과학/법학일반', 'code': '연구보고서'},\n",
              "   'paragraphs': [{'context_id': '2356578',\n",
              "     'context': '4. 신 미·일방위협력지침의 주요쟁점\\n(1) 한국의 외교적 고립화\\n신 미·일방위협력지침에 대해 국내 일각에서는 한국의 외교적 고립화를 주장하고 있다. 이러한 주장은 지난 2015년 4월 22일 인도네시아 자카르타에서 개최된 반둥회의를 계기로 중·일 정상회담이 개최되는 등 중·일관계도 정상화되는 듯한 분위기가 형성되면서 더욱 부각되고 있는데, 이는 한국이 일본과의 갈등관계를 유지하면서도 실제적인 성과가 없다는 판단에 따른 것이다. 즉 외교전략의 부재로 인해 대 미국과 대 중국 및 대 일본관계에서 한국의 국익을 제대로 챙기지 못하고 있다는 주장이다.\\n',\n",
              "     'tbs': None,\n",
              "     'qas': [{'qa_type': 1,\n",
              "       'question_id': '6379360',\n",
              "       'question': '한국의 외교적 고립에 대한 염려를 더 크게 한 중일 정상회담은 무엇으로 인해 성사됐어',\n",
              "       'answer': {'source': '2356578',\n",
              "        'text': '반둥회의',\n",
              "        'answer_start': 125,\n",
              "        'answer_end': 128,\n",
              "        'cell_text': None,\n",
              "        'cell_coordinates': None,\n",
              "        'clue_start': None,\n",
              "        'clue_text': None,\n",
              "        'options': None}},\n",
              "      {'qa_type': 1,\n",
              "       'question_id': '6379361',\n",
              "       'question': '뭘 계기로 이루어진 중일 정상회담으로 대한민국은 외교적인 소외를 걱정하게 됐어',\n",
              "       'answer': {'source': '2356578',\n",
              "        'text': '반둥회의',\n",
              "        'answer_start': 125,\n",
              "        'answer_end': 128,\n",
              "        'cell_text': None,\n",
              "        'cell_coordinates': None,\n",
              "        'clue_start': None,\n",
              "        'clue_text': None,\n",
              "        'options': None}}]}]}]}"
            ]
          },
          "metadata": {},
          "execution_count": 3
        }
      ]
    },
    {
      "cell_type": "code",
      "source": [
        "# 추출할 데이터를 저장할 리스트\n",
        "extracted_data = []\n",
        "\n",
        "# 데이터 내에서 각 문단과 질문, 답변 텍스트를 추출하여 딕셔너리로 저장\n",
        "for item in data[\"data\"]:\n",
        "    for paragraph in item[\"paragraphs\"]:\n",
        "        context = paragraph[\"context\"]\n",
        "        for qa in paragraph[\"qas\"]:\n",
        "            question = qa[\"question\"]\n",
        "            answer_text = qa[\"answer\"][\"text\"]\n",
        "            # 딕셔너리 생성 및 리스트에 추가\n",
        "            extracted_data.append({\n",
        "                \"context\": context,\n",
        "                \"question\": question,\n",
        "                \"answer\": answer_text\n",
        "            })"
      ],
      "metadata": {
        "id": "3-BaCHYEZnVc"
      },
      "execution_count": null,
      "outputs": []
    },
    {
      "cell_type": "code",
      "source": [
        "extracted_data[0]"
      ],
      "metadata": {
        "colab": {
          "base_uri": "https://localhost:8080/"
        },
        "id": "m_0lvW0HZnTm",
        "outputId": "80ead138-64ee-4ef7-d123-db8420b0b318"
      },
      "execution_count": null,
      "outputs": [
        {
          "output_type": "execute_result",
          "data": {
            "text/plain": [
              "{'context': '1. 들어가며\\n지난 2015년 4월 27일 아베신조(安倍晋三) 총리의 방미를 계기로 미·일 양국은 ‘신 미·일방위협력지침’에 합의하였다. 이는 미·일 간의 안보협력관계를 체계적으로 실행하기 위해 1978년에 마련되고, 1997년에 개정된 ‘미·일방위협력지침’을 대체하는 것으로 미·일 동맹의 군사적 활동 공간을 전 세계로 확장하는 내용을 담고 있다.\\n이에 대해서 중국은 자국의 이익을 훼손할 수 있다는 점에서 비판적인 입장을 피력했는데, 실제로 아베 총리는 미·일 동맹 강화가 북한뿐만 아니라 중국의 위협에 대응하기 위한 것이라고 발언함으로써 동북아의 평화안보질서에 부정적인 영향을 미치게 될 것이라는 주장에 힘이 실리고 있다.',\n",
              " 'question': '처음으로 미·일방위협력지침이 정해진 건 언제야',\n",
              " 'answer': '1978년'}"
            ]
          },
          "metadata": {},
          "execution_count": 5
        }
      ]
    },
    {
      "cell_type": "code",
      "source": [
        "print('전체 Question-Answer 개수 :', len(extracted_data))"
      ],
      "metadata": {
        "colab": {
          "base_uri": "https://localhost:8080/"
        },
        "id": "mwtEWLkrZnRK",
        "outputId": "56a13fb1-7603-497e-a09f-316a01c2cb90"
      },
      "execution_count": null,
      "outputs": [
        {
          "output_type": "stream",
          "name": "stdout",
          "text": [
            "전체 Question-Answer 개수 : 10\n"
          ]
        }
      ]
    },
    {
      "cell_type": "code",
      "source": [
        "extracted_data[0]['context']"
      ],
      "metadata": {
        "colab": {
          "base_uri": "https://localhost:8080/",
          "height": 70
        },
        "outputId": "41a8dba9-0ffb-4bc0-fecf-e3309d157a43",
        "id": "wyQzcyQV9-m0"
      },
      "execution_count": null,
      "outputs": [
        {
          "output_type": "execute_result",
          "data": {
            "text/plain": [
              "'1. 들어가며\\n지난 2015년 4월 27일 아베신조(安倍晋三) 총리의 방미를 계기로 미·일 양국은 ‘신 미·일방위협력지침’에 합의하였다. 이는 미·일 간의 안보협력관계를 체계적으로 실행하기 위해 1978년에 마련되고, 1997년에 개정된 ‘미·일방위협력지침’을 대체하는 것으로 미·일 동맹의 군사적 활동 공간을 전 세계로 확장하는 내용을 담고 있다.\\n이에 대해서 중국은 자국의 이익을 훼손할 수 있다는 점에서 비판적인 입장을 피력했는데, 실제로 아베 총리는 미·일 동맹 강화가 북한뿐만 아니라 중국의 위협에 대응하기 위한 것이라고 발언함으로써 동북아의 평화안보질서에 부정적인 영향을 미치게 될 것이라는 주장에 힘이 실리고 있다.'"
            ],
            "application/vnd.google.colaboratory.intrinsic+json": {
              "type": "string"
            }
          },
          "metadata": {},
          "execution_count": 7
        }
      ]
    },
    {
      "cell_type": "code",
      "source": [
        "extracted_data[0]['question']"
      ],
      "metadata": {
        "colab": {
          "base_uri": "https://localhost:8080/",
          "height": 35
        },
        "outputId": "4ab32acf-2e89-4063-842b-f9ab5f384b74",
        "id": "N6jKG4Fz9-m1"
      },
      "execution_count": null,
      "outputs": [
        {
          "output_type": "execute_result",
          "data": {
            "text/plain": [
              "'처음으로 미·일방위협력지침이 정해진 건 언제야'"
            ],
            "application/vnd.google.colaboratory.intrinsic+json": {
              "type": "string"
            }
          },
          "metadata": {},
          "execution_count": 8
        }
      ]
    },
    {
      "cell_type": "code",
      "source": [
        "extracted_data[0]['answer']"
      ],
      "metadata": {
        "id": "lpeYmPxE9-m1",
        "colab": {
          "base_uri": "https://localhost:8080/",
          "height": 35
        },
        "outputId": "bee5d94f-9fa3-42f2-89e8-ecb36aca7564"
      },
      "execution_count": null,
      "outputs": [
        {
          "output_type": "execute_result",
          "data": {
            "text/plain": [
              "'1978년'"
            ],
            "application/vnd.google.colaboratory.intrinsic+json": {
              "type": "string"
            }
          },
          "metadata": {},
          "execution_count": 9
        }
      ]
    },
    {
      "cell_type": "code",
      "source": [
        "extracted_data[0]"
      ],
      "metadata": {
        "colab": {
          "base_uri": "https://localhost:8080/"
        },
        "id": "caVToBR-fBnc",
        "outputId": "d1b8b9f3-f79a-46b2-f805-f7569576549d"
      },
      "execution_count": null,
      "outputs": [
        {
          "output_type": "execute_result",
          "data": {
            "text/plain": [
              "{'context': '1. 들어가며\\n지난 2015년 4월 27일 아베신조(安倍晋三) 총리의 방미를 계기로 미·일 양국은 ‘신 미·일방위협력지침’에 합의하였다. 이는 미·일 간의 안보협력관계를 체계적으로 실행하기 위해 1978년에 마련되고, 1997년에 개정된 ‘미·일방위협력지침’을 대체하는 것으로 미·일 동맹의 군사적 활동 공간을 전 세계로 확장하는 내용을 담고 있다.\\n이에 대해서 중국은 자국의 이익을 훼손할 수 있다는 점에서 비판적인 입장을 피력했는데, 실제로 아베 총리는 미·일 동맹 강화가 북한뿐만 아니라 중국의 위협에 대응하기 위한 것이라고 발언함으로써 동북아의 평화안보질서에 부정적인 영향을 미치게 될 것이라는 주장에 힘이 실리고 있다.',\n",
              " 'question': '처음으로 미·일방위협력지침이 정해진 건 언제야',\n",
              " 'answer': '1978년'}"
            ]
          },
          "metadata": {},
          "execution_count": 10
        }
      ]
    },
    {
      "cell_type": "code",
      "source": [
        "def format_context_question(data):\n",
        "    \"\"\"\n",
        "    Extracts 'context' and 'question' from a dictionary and formats them into a string.\n",
        "\n",
        "    Parameters:\n",
        "    data (dict): The dictionary containing 'context', 'question', and 'answer'.\n",
        "\n",
        "    Returns:\n",
        "    str: A formatted string containing the 'context' and 'question'.\n",
        "    \"\"\"\n",
        "    # 'context'와 'question'을 추출하여 문자열로 반환\n",
        "    return f\"Context: {data['context']}\\nQuestion: {data['question']}\""
      ],
      "metadata": {
        "id": "gJcTKb9Vhb97"
      },
      "execution_count": null,
      "outputs": []
    },
    {
      "cell_type": "code",
      "source": [
        "print(format_context_question(extracted_data[0]))"
      ],
      "metadata": {
        "colab": {
          "base_uri": "https://localhost:8080/"
        },
        "id": "jkzPd0Dqg2Kc",
        "outputId": "5b0ebcc0-0727-4ab7-fd6d-57eba2047c92"
      },
      "execution_count": null,
      "outputs": [
        {
          "output_type": "stream",
          "name": "stdout",
          "text": [
            "Context: 1. 들어가며\n",
            "지난 2015년 4월 27일 아베신조(安倍晋三) 총리의 방미를 계기로 미·일 양국은 ‘신 미·일방위협력지침’에 합의하였다. 이는 미·일 간의 안보협력관계를 체계적으로 실행하기 위해 1978년에 마련되고, 1997년에 개정된 ‘미·일방위협력지침’을 대체하는 것으로 미·일 동맹의 군사적 활동 공간을 전 세계로 확장하는 내용을 담고 있다.\n",
            "이에 대해서 중국은 자국의 이익을 훼손할 수 있다는 점에서 비판적인 입장을 피력했는데, 실제로 아베 총리는 미·일 동맹 강화가 북한뿐만 아니라 중국의 위협에 대응하기 위한 것이라고 발언함으로써 동북아의 평화안보질서에 부정적인 영향을 미치게 될 것이라는 주장에 힘이 실리고 있다.\n",
            "Question: 처음으로 미·일방위협력지침이 정해진 건 언제야\n"
          ]
        }
      ]
    },
    {
      "cell_type": "markdown",
      "metadata": {
        "id": "MQ0G4d169-m2"
      },
      "source": [
        "# Llama 3 모델 불러오기"
      ]
    },
    {
      "cell_type": "code",
      "source": [
        "import os\n",
        "os.environ['HF_TOKEN']=\"여러분의 HuggingFace Access Token값\""
      ],
      "metadata": {
        "id": "I9vNOZOq9-m2"
      },
      "execution_count": null,
      "outputs": []
    },
    {
      "cell_type": "code",
      "execution_count": null,
      "metadata": {
        "colab": {
          "base_uri": "https://localhost:8080/",
          "height": 560,
          "referenced_widgets": [
            "947fd0d48a664d1f828637596e197fe3",
            "25206726de414aeea16a431b000d7679",
            "26112c695f7540bc9e3174989e799b92",
            "c4ef89e810ee4765bf430386cdaea2ac",
            "a3f74a445812481fb48562facabfcf16",
            "f15d7c2bae154b919623bc72f3c5d54a",
            "4208413c32974fd4a90e7ab0602290c4",
            "228d24d538164fc98df9fa3e1707d37a",
            "b612bc94f68849fc958adc61853dab44",
            "93dedb2b0e1c48089f5d778042944c36",
            "c820f63e25274391913268296daaeb3c",
            "6431876709354e65be2d234431c899a7",
            "9cb6e02b58c94abeb679b2654c8a6fa1",
            "86c6d86e83f24d4fa96113d1301ec2c7",
            "98a48f08ffb94cbe999ce5a6c3152ae0",
            "1c6fd11e4b054533826c744650140986",
            "7e268753c24941ad92a021a54da96c55",
            "b6f0fecd4cde40d2a99c68b6c5c7d656",
            "5d0c452cc6eb42d59c51fc954ca712cf",
            "ef91ed5bc6fa4ac4a11c53fb93a572c8",
            "3f73e219c6134cf9a228653c998f9015",
            "759e4f92683a4721a1f30e0dd8ff7a1c",
            "95e2d76329d84e03bc18cf5bb8d5ef5f",
            "bcc8db06041344fdbe637b7005c9c8aa",
            "f5383bf700934b0195172fb3d0dc04a7",
            "03afe4d0d1e34b469e45bbbf9c720bb4",
            "481ee7cd8fdf444eb1ecec5f3783307f",
            "ebeb396d30e0423894d9ec46423fc9f5",
            "61a60ef2a4c749e29fa7f583b3e1742b",
            "ac4e1286332c4beb83985aa8377a6bd9",
            "013d7a7a74d94616aba576a5e88a0205",
            "2e360491a8aa4652b279f4a10a6b2566",
            "0305adad13eb4c46add4bcf6922fb7f5",
            "d98f4dba73274053968a027875804686",
            "432dd21c66754143b70983672f7317cb",
            "facdd87364ed4d8db0ea566ac74acd5d",
            "e276deb458ad478288d850e69978e784",
            "74badb42bc9a441aa66062643a1906de",
            "a47de2fcf83746019c8d0e2e43b24c7c",
            "a79ca9d05f2f497cb5aac2a314b82109",
            "70ca5e9fe71144d29bbbe7f8177b034e",
            "7d0039284f0b4551a843e0990033c43c",
            "f71cf579870342d0be88274617a8bce8",
            "8cde8a1a87b74a3f88fab2bc17ac75aa",
            "55e0fed2194f49478a356ecda6d5d5b1",
            "326812ad95d64b479b81cb6d892e434f",
            "242be55f527640d98fa90571a7d0c0a3",
            "abdf0fa1420f42938ac675b82f1ee5b7",
            "1517b69fb3f9424a8f94a22610237524",
            "4004505f83b04014b2ae92fd31bcaf71",
            "bffcc813eb744b2b836ffca768a6eded",
            "3fcd26a85e4a4e9abd5db2b08ebad2ea",
            "a471217812cd4d4783d4135fc60ad48b",
            "768c7ee97a7a4f10ad665d814fbe0cab",
            "07350d95bada46ee983f58623aa1d3aa",
            "9bb6e66bd37c4bf78ab8aac5ad0b7991",
            "46c3e93ed8ce44cb929b963801871067",
            "b143fa6e2e474b20b6e43abf8131bbe1",
            "204a617b92044a329fe32150a60bf467",
            "66937dc1232f416ca90a24a6622300b7",
            "d5c2dce7f8ad49a9bf56082215a8ad6d",
            "01060aa01a4248b685fc031ce4d8f928",
            "2dc02cbab10b4777aafebb1a0712e625",
            "8f91ffcd475a4a7ebb832e2013093817",
            "86c9b11543ed40d5a370085b723ea919",
            "cf252e607515405199559ac0a16bc495",
            "a64dcaa2829e4c98a6494002c88f66f2",
            "59016cc1525b4def9332c3e237f6d306",
            "ceb7ef6cdd754c999b610785845dd979",
            "cf00d0b4c4b84ece8ccdd2d501527ad9",
            "8ad65320a4ae48f39cf75387a2348ac2",
            "1e0da663cc1d454cb70fa2c592c37258",
            "0cd39bb0497e4e98b4007be2cd6d83f2",
            "eb2b11e0c3044d4aaf43184e65d2bce7",
            "d8e0c3e380d94ffdb27f4a4382ce1d6e",
            "317b33a78b784fc197925e30478c522b",
            "99b4973a5a7f470ebcc7bf25aeff4c24",
            "21cbe4d193c94362b41643bf42db0265",
            "2ebf296528ff4e1fae917d5ab404598a",
            "42342d6bf16d44218d312fcf6e68c6d2",
            "5dc8d9db7e8b402b873e4ceda47efc68",
            "95438a751cf94f0184dd1f95a1ab6403",
            "7cf765d850bc4dcbaf31cb56f27d6934",
            "4159cafa066d40b5b40fb91fe4bfea40",
            "45e72b495c504aa89541830fe8db1f33",
            "928c161b52d3412e8f4fcc60f23087cb",
            "7898af3036db446da18888bae24553f3",
            "4e32d0aee2724a139f15f50469ec0c53",
            "211f2bda289e4e189ee0d5109eb22e74",
            "5c73cf7e628346f6a84347e285db5690",
            "04e2ba0d3bad4702b56e93ae3aaf5f68",
            "e3c67f0e36f54374bb37ce12583babd1",
            "7d8da6b52df649beabc91b539b8e6d76",
            "5a4dcef40c364e9b8f82b6916605b7fa",
            "e1140de25e5b432b8f12628016a4a9d3",
            "fd5b1cdb50fc48dc9e08ca6c957183f1",
            "1457539e0bae4b2887855c7990058026",
            "c5fd7fa4328e4210bbf5acf2a1cef6fa",
            "2e3da1452bc94084a785a86d8e3efe89",
            "8a92610f657944f2947e72f06aed17bc",
            "b6026e36702040fd942a718dbc2636b3",
            "6f2c22b31e4948cb9c1972ca68ba0a55",
            "52c11b4416bc49f18907f3d4ec704aa6",
            "ce7b11cf775347b397820f61bbad25c4",
            "1782332aefbc431ca8365d85e1bdaee3",
            "728a0a3c74954e658023c43d6e2d0216",
            "d01ff13934354f1280e98d55a7afc7c0",
            "6ebd3ae0e0634c2bbcaa3a9ec12e3f88",
            "1febc3642a27438cb5e1ebb061849a62",
            "17b2e606e25f4af2b990cdbf700fda7c",
            "62b384b29c234da0b6069283cd773316",
            "2c659c7c49594ef68ccd7a6a88929f5b",
            "abf6efb9a7ec43f2bb396b308de0dd29",
            "5d6721b368f146938c38e23370a6f1f8",
            "1e9faf801ba641fb8a6697e7ad4d6ecb",
            "5dd6de151f51443cad626e7abcef2461",
            "9f9f6d1b702e47ff919a8e57d43dd986",
            "f03dc2e498624990b7f9d906f2bb6daf",
            "0914c49ec0124e759db33d29cbce2674",
            "944dd0681007420882353c6d3c9cee6e",
            "5afb4474ed714d5dbe53100a06029700",
            "f7cbe5a47ade4693bbc2dbd5695bf6ad",
            "552f31cfc8b44113b59725781854d318",
            "6f7152d2377d4139b07dd3922d223730",
            "ecaeac955c5f4a77a31d211a53f85a78",
            "d5a8e5a184e74e179c62baaedb5b19cd",
            "ebac8ffbbb0b498f9948d8d42b3796f5",
            "83b53d7f61134d308170b8c5355aa74e",
            "8029f9dc818d48b8aaa3c9070297ea05",
            "9507d5005c83487da7234b89e3c4ad6e",
            "f58db6504d7940a49198d970dcd63c92",
            "0bbde3642a0e429ca69c9141132640ea"
          ]
        },
        "outputId": "d505d346-e55e-416f-9b03-63c5bcc826cb",
        "id": "_NMyZJ2w9-m2"
      },
      "outputs": [
        {
          "output_type": "stream",
          "name": "stderr",
          "text": [
            "/usr/local/lib/python3.10/dist-packages/huggingface_hub/utils/_token.py:88: UserWarning: \n",
            "The secret `HF_TOKEN` does not exist in your Colab secrets.\n",
            "To authenticate with the Hugging Face Hub, create a token in your settings tab (https://huggingface.co/settings/tokens), set it as secret in your Google Colab and restart your session.\n",
            "You will be able to reuse this secret in all of your notebooks.\n",
            "Please note that authentication is recommended but still optional to access public models or datasets.\n",
            "  warnings.warn(\n"
          ]
        },
        {
          "output_type": "display_data",
          "data": {
            "text/plain": [
              "tokenizer_config.json:   0%|          | 0.00/51.0k [00:00<?, ?B/s]"
            ],
            "application/vnd.jupyter.widget-view+json": {
              "version_major": 2,
              "version_minor": 0,
              "model_id": "947fd0d48a664d1f828637596e197fe3"
            }
          },
          "metadata": {}
        },
        {
          "output_type": "display_data",
          "data": {
            "text/plain": [
              "tokenizer.json:   0%|          | 0.00/9.09M [00:00<?, ?B/s]"
            ],
            "application/vnd.jupyter.widget-view+json": {
              "version_major": 2,
              "version_minor": 0,
              "model_id": "6431876709354e65be2d234431c899a7"
            }
          },
          "metadata": {}
        },
        {
          "output_type": "display_data",
          "data": {
            "text/plain": [
              "special_tokens_map.json:   0%|          | 0.00/73.0 [00:00<?, ?B/s]"
            ],
            "application/vnd.jupyter.widget-view+json": {
              "version_major": 2,
              "version_minor": 0,
              "model_id": "95e2d76329d84e03bc18cf5bb8d5ef5f"
            }
          },
          "metadata": {}
        },
        {
          "output_type": "stream",
          "name": "stderr",
          "text": [
            "Special tokens have been added in the vocabulary, make sure the associated word embeddings are fine-tuned or trained.\n"
          ]
        },
        {
          "output_type": "display_data",
          "data": {
            "text/plain": [
              "config.json:   0%|          | 0.00/654 [00:00<?, ?B/s]"
            ],
            "application/vnd.jupyter.widget-view+json": {
              "version_major": 2,
              "version_minor": 0,
              "model_id": "d98f4dba73274053968a027875804686"
            }
          },
          "metadata": {}
        },
        {
          "output_type": "display_data",
          "data": {
            "text/plain": [
              "model.safetensors.index.json:   0%|          | 0.00/23.9k [00:00<?, ?B/s]"
            ],
            "application/vnd.jupyter.widget-view+json": {
              "version_major": 2,
              "version_minor": 0,
              "model_id": "55e0fed2194f49478a356ecda6d5d5b1"
            }
          },
          "metadata": {}
        },
        {
          "output_type": "display_data",
          "data": {
            "text/plain": [
              "Downloading shards:   0%|          | 0/4 [00:00<?, ?it/s]"
            ],
            "application/vnd.jupyter.widget-view+json": {
              "version_major": 2,
              "version_minor": 0,
              "model_id": "9bb6e66bd37c4bf78ab8aac5ad0b7991"
            }
          },
          "metadata": {}
        },
        {
          "output_type": "display_data",
          "data": {
            "text/plain": [
              "model-00001-of-00004.safetensors:   0%|          | 0.00/4.98G [00:00<?, ?B/s]"
            ],
            "application/vnd.jupyter.widget-view+json": {
              "version_major": 2,
              "version_minor": 0,
              "model_id": "a64dcaa2829e4c98a6494002c88f66f2"
            }
          },
          "metadata": {}
        },
        {
          "output_type": "display_data",
          "data": {
            "text/plain": [
              "model-00002-of-00004.safetensors:   0%|          | 0.00/5.00G [00:00<?, ?B/s]"
            ],
            "application/vnd.jupyter.widget-view+json": {
              "version_major": 2,
              "version_minor": 0,
              "model_id": "21cbe4d193c94362b41643bf42db0265"
            }
          },
          "metadata": {}
        },
        {
          "output_type": "display_data",
          "data": {
            "text/plain": [
              "model-00003-of-00004.safetensors:   0%|          | 0.00/4.92G [00:00<?, ?B/s]"
            ],
            "application/vnd.jupyter.widget-view+json": {
              "version_major": 2,
              "version_minor": 0,
              "model_id": "211f2bda289e4e189ee0d5109eb22e74"
            }
          },
          "metadata": {}
        },
        {
          "output_type": "display_data",
          "data": {
            "text/plain": [
              "model-00004-of-00004.safetensors:   0%|          | 0.00/1.17G [00:00<?, ?B/s]"
            ],
            "application/vnd.jupyter.widget-view+json": {
              "version_major": 2,
              "version_minor": 0,
              "model_id": "8a92610f657944f2947e72f06aed17bc"
            }
          },
          "metadata": {}
        },
        {
          "output_type": "display_data",
          "data": {
            "text/plain": [
              "Loading checkpoint shards:   0%|          | 0/4 [00:00<?, ?it/s]"
            ],
            "application/vnd.jupyter.widget-view+json": {
              "version_major": 2,
              "version_minor": 0,
              "model_id": "62b384b29c234da0b6069283cd773316"
            }
          },
          "metadata": {}
        },
        {
          "output_type": "display_data",
          "data": {
            "text/plain": [
              "generation_config.json:   0%|          | 0.00/187 [00:00<?, ?B/s]"
            ],
            "application/vnd.jupyter.widget-view+json": {
              "version_major": 2,
              "version_minor": 0,
              "model_id": "f7cbe5a47ade4693bbc2dbd5695bf6ad"
            }
          },
          "metadata": {}
        },
        {
          "output_type": "stream",
          "name": "stderr",
          "text": [
            "WARNING:root:Some parameters are on the meta device device because they were offloaded to the cpu.\n"
          ]
        }
      ],
      "source": [
        "from transformers import AutoTokenizer, AutoModelForCausalLM\n",
        "import torch\n",
        "\n",
        "model_id = \"meta-llama/Meta-Llama-3-8B-Instruct\"\n",
        "\n",
        "tokenizer = AutoTokenizer.from_pretrained(model_id)\n",
        "model = AutoModelForCausalLM.from_pretrained(\n",
        "    model_id,\n",
        "    torch_dtype=torch.bfloat16,\n",
        "    device_map=\"auto\",\n",
        ")"
      ]
    },
    {
      "cell_type": "code",
      "execution_count": null,
      "metadata": {
        "id": "vGejUDp29-m3"
      },
      "outputs": [],
      "source": [
        "def generate_response(system_message, user_message):\n",
        "    messages = [\n",
        "        {\"role\": \"system\", \"content\": system_message},\n",
        "        {\"role\": \"user\", \"content\": user_message},\n",
        "    ]\n",
        "\n",
        "    input_ids = tokenizer.apply_chat_template(\n",
        "        messages,\n",
        "        add_generation_prompt=True,\n",
        "        return_tensors=\"pt\"\n",
        "    ).to(model.device)\n",
        "\n",
        "    terminators = [\n",
        "        tokenizer.eos_token_id,\n",
        "        tokenizer.convert_tokens_to_ids(\"<|eot_id|>\")\n",
        "    ]\n",
        "\n",
        "    outputs = model.generate(\n",
        "        input_ids,\n",
        "        max_new_tokens=256,\n",
        "        eos_token_id=terminators,\n",
        "        do_sample=True,\n",
        "        temperature=0.6,\n",
        "        top_p=0.9\n",
        "    )\n",
        "    response = outputs[0][input_ids.shape[-1]:]\n",
        "\n",
        "    return tokenizer.decode(response, skip_special_tokens=True)"
      ]
    },
    {
      "cell_type": "code",
      "execution_count": null,
      "metadata": {
        "colab": {
          "base_uri": "https://localhost:8080/"
        },
        "outputId": "f3abff8e-2c45-4deb-b4e8-a1eca61bca3d",
        "id": "wcBOonCn9-m4"
      },
      "outputs": [
        {
          "output_type": "stream",
          "name": "stdout",
          "text": [
            "cuda:0\n"
          ]
        }
      ],
      "source": [
        "print(model.device)"
      ]
    },
    {
      "cell_type": "markdown",
      "source": [
        "# Llama 3의 금융, 법률 문서 기계독해 성능을 정성적으로 측정해보기"
      ],
      "metadata": {
        "id": "pKRNCsUK9-m4"
      }
    },
    {
      "cell_type": "code",
      "source": [
        "extracted_data[0]"
      ],
      "metadata": {
        "colab": {
          "base_uri": "https://localhost:8080/"
        },
        "id": "Of19T9vwh6z6",
        "outputId": "4b603c32-91b6-4c23-9621-36179caae264"
      },
      "execution_count": null,
      "outputs": [
        {
          "output_type": "execute_result",
          "data": {
            "text/plain": [
              "{'context': '1. 들어가며\\n지난 2015년 4월 27일 아베신조(安倍晋三) 총리의 방미를 계기로 미·일 양국은 ‘신 미·일방위협력지침’에 합의하였다. 이는 미·일 간의 안보협력관계를 체계적으로 실행하기 위해 1978년에 마련되고, 1997년에 개정된 ‘미·일방위협력지침’을 대체하는 것으로 미·일 동맹의 군사적 활동 공간을 전 세계로 확장하는 내용을 담고 있다.\\n이에 대해서 중국은 자국의 이익을 훼손할 수 있다는 점에서 비판적인 입장을 피력했는데, 실제로 아베 총리는 미·일 동맹 강화가 북한뿐만 아니라 중국의 위협에 대응하기 위한 것이라고 발언함으로써 동북아의 평화안보질서에 부정적인 영향을 미치게 될 것이라는 주장에 힘이 실리고 있다.',\n",
              " 'question': '처음으로 미·일방위협력지침이 정해진 건 언제야',\n",
              " 'answer': '1978년'}"
            ]
          },
          "metadata": {},
          "execution_count": 17
        }
      ]
    },
    {
      "cell_type": "code",
      "source": [
        "질문_prompt = format_context_question(extracted_data[0])\n",
        "질문_prompt"
      ],
      "metadata": {
        "colab": {
          "base_uri": "https://localhost:8080/",
          "height": 87
        },
        "id": "hhGXthyWajHt",
        "outputId": "2269e7d2-491c-412e-87ce-9afa9db494a5"
      },
      "execution_count": null,
      "outputs": [
        {
          "output_type": "execute_result",
          "data": {
            "text/plain": [
              "'Context: 1. 들어가며\\n지난 2015년 4월 27일 아베신조(安倍晋三) 총리의 방미를 계기로 미·일 양국은 ‘신 미·일방위협력지침’에 합의하였다. 이는 미·일 간의 안보협력관계를 체계적으로 실행하기 위해 1978년에 마련되고, 1997년에 개정된 ‘미·일방위협력지침’을 대체하는 것으로 미·일 동맹의 군사적 활동 공간을 전 세계로 확장하는 내용을 담고 있다.\\n이에 대해서 중국은 자국의 이익을 훼손할 수 있다는 점에서 비판적인 입장을 피력했는데, 실제로 아베 총리는 미·일 동맹 강화가 북한뿐만 아니라 중국의 위협에 대응하기 위한 것이라고 발언함으로써 동북아의 평화안보질서에 부정적인 영향을 미치게 될 것이라는 주장에 힘이 실리고 있다.\\nQuestion: 처음으로 미·일방위협력지침이 정해진 건 언제야'"
            ],
            "application/vnd.google.colaboratory.intrinsic+json": {
              "type": "string"
            }
          },
          "metadata": {},
          "execution_count": 18
        }
      ]
    },
    {
      "cell_type": "code",
      "execution_count": null,
      "metadata": {
        "colab": {
          "base_uri": "https://localhost:8080/"
        },
        "outputId": "19b81901-8709-4443-e3d4-62219e5cb0d4",
        "id": "sTq6p4MJ9-m6"
      },
      "outputs": [
        {
          "output_type": "stream",
          "name": "stderr",
          "text": [
            "The attention mask and the pad token id were not set. As a consequence, you may observe unexpected behavior. Please pass your input's `attention_mask` to obtain reliable results.\n",
            "Setting `pad_token_id` to `eos_token_id`:128001 for open-end generation.\n"
          ]
        },
        {
          "output_type": "stream",
          "name": "stdout",
          "text": [
            "1978년에 미·일방위협력지침이 처음으로 정해졌습니다.\n"
          ]
        }
      ],
      "source": [
        "llama3_inference_result = generate_response(system_message=\"너는 주어진 Context를 토대로 Question에 답변하는 챗봇이야. Question에 대한 답변을 한국어로 답해줘.\",\n",
        "                             user_message=질문_prompt)\n",
        "print(llama3_inference_result)"
      ]
    },
    {
      "cell_type": "code",
      "source": [
        "def print_text_comparison(ground_truth, llama, gpt4, gpt35, clova, gemini):\n",
        "    # 각 소스와 텍스트를 출력합니다.\n",
        "    print(\"Ground Truth:\")\n",
        "    print(ground_truth)\n",
        "    print(\"\\nLlama:\")\n",
        "    print(llama)\n",
        "    print(\"\\nGPT-4:\")\n",
        "    print(gpt4)\n",
        "    print(\"\\nGPT-3.5:\")\n",
        "    print(gpt35)\n",
        "    print(\"\\nClova:\")\n",
        "    print(clova)\n",
        "    print(\"\\nGemini:\")\n",
        "    print(gemini)"
      ],
      "metadata": {
        "id": "aVW6tyMlV_Ij"
      },
      "execution_count": null,
      "outputs": []
    },
    {
      "cell_type": "code",
      "source": [
        "# 대표 LLM별 번역 추론 성능 비교\n",
        "ground_truth_text = extracted_data[0]['answer']\n",
        "llama_text = llama3_inference_result\n",
        "gpt4_text = \"처음으로 미·일방위협력지침이 정해진 건 1978년이야.\"\n",
        "gpt35_text = \"미·일방위협력지침이 처음으로 정해진 건 1978년이야.\"\n",
        "clova_text = \"미·일방위협력지침이 처음으로 정해진 것은 1978년입니다. 이후 1997년에 개정되었고, 2015년에 '신 미·일방위협력지침'에 합의하여 미·일 동맹의 군사적 활동 공간을 전 세계로 확장하였습니다.\"\n",
        "gemini_text = \"처음으로 미·일 방위협력지침이 정해진 것은 1978년입니다.\"\n",
        "\n",
        "# Call the function to display the example texts\n",
        "print_text_comparison(ground_truth_text, llama_text, gpt4_text, gpt35_text, clova_text, gemini_text)"
      ],
      "metadata": {
        "colab": {
          "base_uri": "https://localhost:8080/"
        },
        "id": "3M3MjO9DV3Ul",
        "outputId": "0061ee19-dcd7-4e4c-e110-7418c9bdb11f"
      },
      "execution_count": null,
      "outputs": [
        {
          "output_type": "stream",
          "name": "stdout",
          "text": [
            "Ground Truth:\n",
            "1978년\n",
            "\n",
            "Llama:\n",
            "1978년에 미·일방위협력지침이 처음으로 정해졌습니다.\n",
            "\n",
            "GPT-4:\n",
            "처음으로 미·일방위협력지침이 정해진 건 1978년이야.\n",
            "\n",
            "GPT-3.5:\n",
            "미·일방위협력지침이 처음으로 정해진 건 1978년이야.\n",
            "\n",
            "Clova:\n",
            "미·일방위협력지침이 처음으로 정해진 것은 1978년입니다. 이후 1997년에 개정되었고, 2015년에 '신 미·일방위협력지침'에 합의하여 미·일 동맹의 군사적 활동 공간을 전 세계로 확장하였습니다.\n",
            "\n",
            "Gemini:\n",
            "처음으로 미·일 방위협력지침이 정해진 것은 1978년입니다.\n"
          ]
        }
      ]
    },
    {
      "cell_type": "code",
      "source": [
        "extracted_data[1]"
      ],
      "metadata": {
        "colab": {
          "base_uri": "https://localhost:8080/"
        },
        "outputId": "d2595773-6059-4172-8334-93b1da0effc9",
        "id": "F-yZvnLxlLex"
      },
      "execution_count": null,
      "outputs": [
        {
          "output_type": "execute_result",
          "data": {
            "text/plain": [
              "{'context': '1. 들어가며\\n지난 2015년 4월 27일 아베신조(安倍晋三) 총리의 방미를 계기로 미·일 양국은 ‘신 미·일방위협력지침’에 합의하였다. 이는 미·일 간의 안보협력관계를 체계적으로 실행하기 위해 1978년에 마련되고, 1997년에 개정된 ‘미·일방위협력지침’을 대체하는 것으로 미·일 동맹의 군사적 활동 공간을 전 세계로 확장하는 내용을 담고 있다.\\n이에 대해서 중국은 자국의 이익을 훼손할 수 있다는 점에서 비판적인 입장을 피력했는데, 실제로 아베 총리는 미·일 동맹 강화가 북한뿐만 아니라 중국의 위협에 대응하기 위한 것이라고 발언함으로써 동북아의 평화안보질서에 부정적인 영향을 미치게 될 것이라는 주장에 힘이 실리고 있다.',\n",
              " 'question': '언제 최초로 미국과 일본의 방위협력지침이 만들어졌어',\n",
              " 'answer': '1978년'}"
            ]
          },
          "metadata": {},
          "execution_count": 26
        }
      ]
    },
    {
      "cell_type": "code",
      "source": [
        "질문_prompt = format_context_question(extracted_data[1])\n",
        "질문_prompt"
      ],
      "metadata": {
        "colab": {
          "base_uri": "https://localhost:8080/",
          "height": 87
        },
        "outputId": "09c69bd9-201b-44ff-9c7f-11cc2bcb9f6a",
        "id": "72DG8AbXlLez"
      },
      "execution_count": null,
      "outputs": [
        {
          "output_type": "execute_result",
          "data": {
            "text/plain": [
              "'Context: 1. 들어가며\\n지난 2015년 4월 27일 아베신조(安倍晋三) 총리의 방미를 계기로 미·일 양국은 ‘신 미·일방위협력지침’에 합의하였다. 이는 미·일 간의 안보협력관계를 체계적으로 실행하기 위해 1978년에 마련되고, 1997년에 개정된 ‘미·일방위협력지침’을 대체하는 것으로 미·일 동맹의 군사적 활동 공간을 전 세계로 확장하는 내용을 담고 있다.\\n이에 대해서 중국은 자국의 이익을 훼손할 수 있다는 점에서 비판적인 입장을 피력했는데, 실제로 아베 총리는 미·일 동맹 강화가 북한뿐만 아니라 중국의 위협에 대응하기 위한 것이라고 발언함으로써 동북아의 평화안보질서에 부정적인 영향을 미치게 될 것이라는 주장에 힘이 실리고 있다.\\nQuestion: 언제 최초로 미국과 일본의 방위협력지침이 만들어졌어'"
            ],
            "application/vnd.google.colaboratory.intrinsic+json": {
              "type": "string"
            }
          },
          "metadata": {},
          "execution_count": 27
        }
      ]
    },
    {
      "cell_type": "code",
      "source": [
        "llama3_inference_result = generate_response(system_message=\"너는 주어진 Context를 토대로 Question에 답변하는 챗봇이야. Question에 대한 답변을 한국어로 답해줘.\",\n",
        "                             user_message=질문_prompt)\n",
        "print(llama3_inference_result)"
      ],
      "metadata": {
        "colab": {
          "base_uri": "https://localhost:8080/"
        },
        "id": "nAg-hH3blQXj",
        "outputId": "7d9f59d7-1d67-45c8-91e2-e7d8959124fa"
      },
      "execution_count": null,
      "outputs": [
        {
          "output_type": "stream",
          "name": "stderr",
          "text": [
            "The attention mask and the pad token id were not set. As a consequence, you may observe unexpected behavior. Please pass your input's `attention_mask` to obtain reliable results.\n",
            "Setting `pad_token_id` to `eos_token_id`:128001 for open-end generation.\n"
          ]
        },
        {
          "output_type": "stream",
          "name": "stdout",
          "text": [
            "1978년에 최초로 미국과 일본의 방위협력지침이 만들어졌습니다.\n"
          ]
        }
      ]
    },
    {
      "cell_type": "code",
      "source": [
        "# 대표 LLM별 번역 추론 성능 비교\n",
        "ground_truth_text = extracted_data[1]['answer']\n",
        "llama_text = llama3_inference_result\n",
        "gpt4_text = \"최초로 미국과 일본의 방위협력지침이 만들어진 시기는 1978년입니다.\"\n",
        "gpt35_text = \"미국과 일본의 최초 방위협력지침은 1978년에 마련되었어요.\"\n",
        "clova_text = \"최초로 미국과 일본의 방위협력지침이 만들어진 것은 1978년입니다. 이후 1997년에 개정되었고, 2015년에 '신 미·일방위협력지침'에 합의하여 미·일 동맹의 군사적 활동 공간을 전 세계로 확장하였습니다.\"\n",
        "gemini_text = \"최초의 미국-일본 방위협력지침은 1978년에 만들어졌습니다.\"\n",
        "\n",
        "# Call the function to display the example texts\n",
        "print_text_comparison(ground_truth_text, llama_text, gpt4_text, gpt35_text, clova_text, gemini_text)"
      ],
      "metadata": {
        "colab": {
          "base_uri": "https://localhost:8080/"
        },
        "id": "zlBvOEI7lQVl",
        "outputId": "33a2e897-21de-4ceb-8eca-bc3b2e02d180"
      },
      "execution_count": null,
      "outputs": [
        {
          "output_type": "stream",
          "name": "stdout",
          "text": [
            "Ground Truth:\n",
            "1978년\n",
            "\n",
            "Llama:\n",
            "1978년에 최초로 미국과 일본의 방위협력지침이 만들어졌습니다.\n",
            "\n",
            "GPT-4:\n",
            "최초로 미국과 일본의 방위협력지침이 만들어진 시기는 1978년입니다.\n",
            "\n",
            "GPT-3.5:\n",
            "미국과 일본의 최초 방위협력지침은 1978년에 마련되었어요.\n",
            "\n",
            "Clova:\n",
            "최초로 미국과 일본의 방위협력지침이 만들어진 것은 1978년입니다. 이후 1997년에 개정되었고, 2015년에 '신 미·일방위협력지침'에 합의하여 미·일 동맹의 군사적 활동 공간을 전 세계로 확장하였습니다.\n",
            "\n",
            "Gemini:\n",
            "최초의 미국-일본 방위협력지침은 1978년에 만들어졌습니다.\n"
          ]
        }
      ]
    },
    {
      "cell_type": "code",
      "source": [
        "extracted_data[2]"
      ],
      "metadata": {
        "colab": {
          "base_uri": "https://localhost:8080/"
        },
        "outputId": "1e2fbdbb-7a12-4a18-ee6d-b7f8bf55e2fb",
        "id": "cOIQr1OXqkz2"
      },
      "execution_count": null,
      "outputs": [
        {
          "output_type": "execute_result",
          "data": {
            "text/plain": [
              "{'context': '한국의 경우에도 한국 정부의 동의 없이도 한반도 유사시 일본의 군사적 개입이 가능할 수도 있다는 해석이 제기되면서 이에 대한 비판적인 입장이 부각되고 있다. 특히 이번 신 미·일방위협력지침은 아베 총리 집권이후 진행되고 있는 일본의 우경화행보와 맞물려 있기 때문에 매우 우려스럽지 않을 수 없다.\\n그러나 상황에 따라 힘의 논리가 지배하는 현실 국제질서를 감안할 때 신 미·일방위협력지침이 한반도 평화질서에 어떻게 영향을 미치게 될 지에 대해서 선험적으로 속단하기 어려운 측면도 있다는 일부의 주장도 무시할 수는 없다.\\n이 글에서는 미·일방위협력지침의 제정 및 개정, 그리고 ‘신 미·일방위협력지침’의주요 내용을 개관한다. 그리고 이를 둘러싼 주요 쟁점을 정리하고, 이를 토대로 한국의 대응과제를 제시하고자 한다.',\n",
              " 'question': '한반도에 일본의 군사적 개입 가능성을 열어두어 논란이 제기된 것은 뭐야',\n",
              " 'answer': '신 미·일방위협력지침'}"
            ]
          },
          "metadata": {},
          "execution_count": 19
        }
      ]
    },
    {
      "cell_type": "code",
      "source": [
        "질문_prompt = format_context_question(extracted_data[2])\n",
        "질문_prompt"
      ],
      "metadata": {
        "colab": {
          "base_uri": "https://localhost:8080/",
          "height": 87
        },
        "outputId": "f02ec42e-07df-4880-b92f-059f25a3a79d",
        "id": "ZswRj6r8qkz4"
      },
      "execution_count": null,
      "outputs": [
        {
          "output_type": "execute_result",
          "data": {
            "text/plain": [
              "'Context: 한국의 경우에도 한국 정부의 동의 없이도 한반도 유사시 일본의 군사적 개입이 가능할 수도 있다는 해석이 제기되면서 이에 대한 비판적인 입장이 부각되고 있다. 특히 이번 신 미·일방위협력지침은 아베 총리 집권이후 진행되고 있는 일본의 우경화행보와 맞물려 있기 때문에 매우 우려스럽지 않을 수 없다.\\n그러나 상황에 따라 힘의 논리가 지배하는 현실 국제질서를 감안할 때 신 미·일방위협력지침이 한반도 평화질서에 어떻게 영향을 미치게 될 지에 대해서 선험적으로 속단하기 어려운 측면도 있다는 일부의 주장도 무시할 수는 없다.\\n이 글에서는 미·일방위협력지침의 제정 및 개정, 그리고 ‘신 미·일방위협력지침’의주요 내용을 개관한다. 그리고 이를 둘러싼 주요 쟁점을 정리하고, 이를 토대로 한국의 대응과제를 제시하고자 한다.\\nQuestion: 한반도에 일본의 군사적 개입 가능성을 열어두어 논란이 제기된 것은 뭐야'"
            ],
            "application/vnd.google.colaboratory.intrinsic+json": {
              "type": "string"
            }
          },
          "metadata": {},
          "execution_count": 20
        }
      ]
    },
    {
      "cell_type": "code",
      "source": [
        "llama3_inference_result = generate_response(system_message=\"너는 주어진 Context를 토대로 Question에 답변하는 챗봇이야. Question에 대한 답변을 한국어로 답해줘.\",\n",
        "                             user_message=질문_prompt)\n",
        "print(llama3_inference_result)"
      ],
      "metadata": {
        "colab": {
          "base_uri": "https://localhost:8080/"
        },
        "outputId": "614834f9-189b-4510-eee7-d72325fcdffb",
        "id": "pY6K8sq4qkz5"
      },
      "execution_count": null,
      "outputs": [
        {
          "output_type": "stream",
          "name": "stderr",
          "text": [
            "The attention mask and the pad token id were not set. As a consequence, you may observe unexpected behavior. Please pass your input's `attention_mask` to obtain reliable results.\n",
            "Setting `pad_token_id` to `eos_token_id`:128001 for open-end generation.\n"
          ]
        },
        {
          "output_type": "stream",
          "name": "stdout",
          "text": [
            "한반도에 일본의 군사적 개입 가능성을 열어두어 논란이 제기된 것은 신 미·일방위협력지침입니다. 이 지침은 한국 정부의 동의 없이도 한반도에 일본의 군사적 개입이 가능할 수 있다는 해석이 제기되면서 논란이 제기된 것입니다.\n"
          ]
        }
      ]
    },
    {
      "cell_type": "code",
      "source": [
        "# 대표 LLM별 번역 추론 성능 비교\n",
        "ground_truth_text = extracted_data[2]['answer']\n",
        "llama_text = llama3_inference_result\n",
        "gpt4_text = \"\"\"한반도에 일본의 군사적 개입 가능성을 열어두어 논란이 제기된 것은 \"신 미·일방위협력지침\"입니다. 이 지침은 아베 총리 집권 이후 일본의 우경화 정책과 연결되어 있으며, 한국 정부의 동의 없이도 일본의 군사적 개입이 가능할 수 있다는 해석이 나오면서 비판적인 입장이 부각되었습니다. 이러한 지침이 한반도의 평화 질서에 어떤 영향을 미칠지에 대한 논의는 여전히 진행 중이며, 국제 질서의 현실을 감안한 다양한 의견이 존재합니다.\"\"\"\n",
        "gpt35_text = \"한반도에 일본의 군사적 개입 가능성이 제기된 것은, 한국 정부의 동의 없이도 한반도에 대한 군사적 개입이 가능할 수 있다는 해석이 제기되었기 때문입니다. 특히 신 미·일방위협력지침이 이러한 가능성을 열어둘 수 있다는 우려가 있습니다.\"\n",
        "clova_text = \"최초로 미국과 일본의 방위협력지침이 만들어진 것은 1978년입니다. 이후 1997년에 개정되었고, 2015년에 '신 미·일방위협력지침'에 합의하여 미·일 동맹의 군사적 활동 공간을 전 세계로 확장하였습니다.\"\n",
        "gemini_text = \"\"\"한반도에 일본의 군사적 개입 가능성을 열어두어 논란이 제기된 이유는 다음과 같습니다.\n",
        "1. 한국 정부의 동의 없이도 가능한 개입:\n",
        "\n",
        "신 미일 방위협력지침은 한반도 유사시 일본의 군사적 개입을 명시적으로 규정하지는 않지만, '지역 공동의 안보 위협'에 대한 협력을 강조하면서 이를 해석에 따라 일본의 개입 가능성으로 연결할 수 있다는 우려가 제기되고 있습니다.\n",
        "특히, '지역 공동의 안보 위협'이라는 개념이 명확하게 정의되지 않아 상황에 따라 일본이 자의적으로 해석하여 개입할 수 있다는 우려가 있습니다.\n",
        "또한, 한반도 유사 발생 시 한국 정부의 동의 없이도 미국과의 협력 하에 일본이 개입할 수 있다는 해석도 가능합니다.\n",
        "2. 아베 총리의 우경화 행보와 연관성:\n",
        "\n",
        "아베 신조 일본 총리는 집권 이후 역사 인식 개선, 헌법 개정 등 우경화 행보를 지속해 왔습니다.\n",
        "이러한 행보는 과거 일본의 식민지 침략과 범죄를 미화하고, 군사력을 강화하려는 의도로 해석될 수 있습니다.\n",
        "따라서 신 미일 방위협력지침이 아베 총리의 우경화 행보와 맞물려 일본의 군사적 야욕을 실현하는 데 악용될 수 있다는 우려가 제기되고 있습니다.\n",
        "3. 한반도 평화 질서에 미치는 영향:\n",
        "\n",
        "일본의 군사적 개입 가능성은 한반도의 긴장을 고조시키고, 남북 대화와 협력을 저해할 수 있습니다.\n",
        "또한, 동북아 지역의 군비 경쟁을 심화시키고, 새로운 안보 위협을 야기할 수 있다는 우려도 있습니다.\n",
        "특히, 일본이 과거 식민지 지배 경험을 바탕으로 한반도에 영향력을 행사하려는 의도를 드러낼 경우, 이는 한반도 주민들의 반발과 갈등을 야기할 수 있습니다.\n",
        "4. 기타 우려 사항:\n",
        "\n",
        "일본의 군사 참여는 한반도 내 주민들의 안전을 위협할 수 있습니다.\n",
        "또한, 일본의 군사 작전으로 인한 민간인 피해 발생 가능성도 배제할 수 없습니다.\n",
        "더욱이, 일본의 군사 개입은 한반도의 비핵화 노력에도 부정적인 영향을 미칠 수 있습니다.\n",
        "이처럼 신 미일 방위협력지침에 담긴 일본의 군사적 개입 가능성은 다양한 우려를 불러일으키고 있으며, 한반도 평화와 안정에 심각한 위협을 초래할 수 있다는 지적이 많습니다. 따라서 한국 정부는 이에 대해 명확한 입장을 밝히고, 적극적인 외교 노력을 통해 일본의 군사적 개입을 막아야 할 것입니다. 또한, 국민들의 안보 인식을 제고하고, 평화를 위한 노력을 지속해야 합니다.\n",
        "\"\"\"\n",
        "\n",
        "# Call the function to display the example texts\n",
        "print_text_comparison(ground_truth_text, llama_text, gpt4_text, gpt35_text, clova_text, gemini_text)"
      ],
      "metadata": {
        "colab": {
          "base_uri": "https://localhost:8080/"
        },
        "outputId": "100c54c0-5cf4-45a1-fc49-d5658d2355e4",
        "id": "n32dFJIeqkz6"
      },
      "execution_count": null,
      "outputs": [
        {
          "output_type": "stream",
          "name": "stdout",
          "text": [
            "Ground Truth:\n",
            "신 미·일방위협력지침\n",
            "\n",
            "Llama:\n",
            "한반도에 일본의 군사적 개입 가능성을 열어두어 논란이 제기된 것은 신 미·일방위협력지침입니다. 이 지침은 한국 정부의 동의 없이도 한반도에 일본의 군사적 개입이 가능할 수 있다는 해석이 제기되면서 논란이 제기된 것입니다.\n",
            "\n",
            "GPT-4:\n",
            "한반도에 일본의 군사적 개입 가능성을 열어두어 논란이 제기된 것은 \"신 미·일방위협력지침\"입니다. 이 지침은 아베 총리 집권 이후 일본의 우경화 정책과 연결되어 있으며, 한국 정부의 동의 없이도 일본의 군사적 개입이 가능할 수 있다는 해석이 나오면서 비판적인 입장이 부각되었습니다. 이러한 지침이 한반도의 평화 질서에 어떤 영향을 미칠지에 대한 논의는 여전히 진행 중이며, 국제 질서의 현실을 감안한 다양한 의견이 존재합니다.\n",
            "\n",
            "GPT-3.5:\n",
            "한반도에 일본의 군사적 개입 가능성이 제기된 것은, 한국 정부의 동의 없이도 한반도에 대한 군사적 개입이 가능할 수 있다는 해석이 제기되었기 때문입니다. 특히 신 미·일방위협력지침이 이러한 가능성을 열어둘 수 있다는 우려가 있습니다.\n",
            "\n",
            "Clova:\n",
            "최초로 미국과 일본의 방위협력지침이 만들어진 것은 1978년입니다. 이후 1997년에 개정되었고, 2015년에 '신 미·일방위협력지침'에 합의하여 미·일 동맹의 군사적 활동 공간을 전 세계로 확장하였습니다.\n",
            "\n",
            "Gemini:\n",
            "한반도에 일본의 군사적 개입 가능성을 열어두어 논란이 제기된 이유는 다음과 같습니다.\n",
            "1. 한국 정부의 동의 없이도 가능한 개입:\n",
            "\n",
            "신 미일 방위협력지침은 한반도 유사시 일본의 군사적 개입을 명시적으로 규정하지는 않지만, '지역 공동의 안보 위협'에 대한 협력을 강조하면서 이를 해석에 따라 일본의 개입 가능성으로 연결할 수 있다는 우려가 제기되고 있습니다.\n",
            "특히, '지역 공동의 안보 위협'이라는 개념이 명확하게 정의되지 않아 상황에 따라 일본이 자의적으로 해석하여 개입할 수 있다는 우려가 있습니다.\n",
            "또한, 한반도 유사 발생 시 한국 정부의 동의 없이도 미국과의 협력 하에 일본이 개입할 수 있다는 해석도 가능합니다.\n",
            "2. 아베 총리의 우경화 행보와 연관성:\n",
            "\n",
            "아베 신조 일본 총리는 집권 이후 역사 인식 개선, 헌법 개정 등 우경화 행보를 지속해 왔습니다.\n",
            "이러한 행보는 과거 일본의 식민지 침략과 범죄를 미화하고, 군사력을 강화하려는 의도로 해석될 수 있습니다.\n",
            "따라서 신 미일 방위협력지침이 아베 총리의 우경화 행보와 맞물려 일본의 군사적 야욕을 실현하는 데 악용될 수 있다는 우려가 제기되고 있습니다.\n",
            "3. 한반도 평화 질서에 미치는 영향:\n",
            "\n",
            "일본의 군사적 개입 가능성은 한반도의 긴장을 고조시키고, 남북 대화와 협력을 저해할 수 있습니다.\n",
            "또한, 동북아 지역의 군비 경쟁을 심화시키고, 새로운 안보 위협을 야기할 수 있다는 우려도 있습니다.\n",
            "특히, 일본이 과거 식민지 지배 경험을 바탕으로 한반도에 영향력을 행사하려는 의도를 드러낼 경우, 이는 한반도 주민들의 반발과 갈등을 야기할 수 있습니다.\n",
            "4. 기타 우려 사항:\n",
            "\n",
            "일본의 군사 참여는 한반도 내 주민들의 안전을 위협할 수 있습니다.\n",
            "또한, 일본의 군사 작전으로 인한 민간인 피해 발생 가능성도 배제할 수 없습니다.\n",
            "더욱이, 일본의 군사 개입은 한반도의 비핵화 노력에도 부정적인 영향을 미칠 수 있습니다.\n",
            "이처럼 신 미일 방위협력지침에 담긴 일본의 군사적 개입 가능성은 다양한 우려를 불러일으키고 있으며, 한반도 평화와 안정에 심각한 위협을 초래할 수 있다는 지적이 많습니다. 따라서 한국 정부는 이에 대해 명확한 입장을 밝히고, 적극적인 외교 노력을 통해 일본의 군사적 개입을 막아야 할 것입니다. 또한, 국민들의 안보 인식을 제고하고, 평화를 위한 노력을 지속해야 합니다.\n",
            "\n"
          ]
        }
      ]
    },
    {
      "cell_type": "code",
      "source": [
        "extracted_data[3]"
      ],
      "metadata": {
        "colab": {
          "base_uri": "https://localhost:8080/"
        },
        "outputId": "13a272fd-fc2d-462e-8627-0184707e45aa",
        "id": "8Z6rXvxlJ0UI"
      },
      "execution_count": null,
      "outputs": [
        {
          "output_type": "execute_result",
          "data": {
            "text/plain": [
              "{'context': '한국의 경우에도 한국 정부의 동의 없이도 한반도 유사시 일본의 군사적 개입이 가능할 수도 있다는 해석이 제기되면서 이에 대한 비판적인 입장이 부각되고 있다. 특히 이번 신 미·일방위협력지침은 아베 총리 집권이후 진행되고 있는 일본의 우경화행보와 맞물려 있기 때문에 매우 우려스럽지 않을 수 없다.\\n그러나 상황에 따라 힘의 논리가 지배하는 현실 국제질서를 감안할 때 신 미·일방위협력지침이 한반도 평화질서에 어떻게 영향을 미치게 될 지에 대해서 선험적으로 속단하기 어려운 측면도 있다는 일부의 주장도 무시할 수는 없다.\\n이 글에서는 미·일방위협력지침의 제정 및 개정, 그리고 ‘신 미·일방위협력지침’의주요 내용을 개관한다. 그리고 이를 둘러싼 주요 쟁점을 정리하고, 이를 토대로 한국의 대응과제를 제시하고자 한다.',\n",
              " 'question': '일본이 한반도에 군사력을 행사할 수도 있게 해서 문제가 된 건 뭐야',\n",
              " 'answer': '신 미·일방위협력지침'}"
            ]
          },
          "metadata": {},
          "execution_count": 25
        }
      ]
    },
    {
      "cell_type": "code",
      "source": [
        "질문_prompt = format_context_question(extracted_data[3])\n",
        "질문_prompt"
      ],
      "metadata": {
        "colab": {
          "base_uri": "https://localhost:8080/",
          "height": 87
        },
        "outputId": "86177839-4a3e-4c27-97eb-10241809994c",
        "id": "LfSG3ciJJ0Ud"
      },
      "execution_count": null,
      "outputs": [
        {
          "output_type": "execute_result",
          "data": {
            "text/plain": [
              "'Context: 한국의 경우에도 한국 정부의 동의 없이도 한반도 유사시 일본의 군사적 개입이 가능할 수도 있다는 해석이 제기되면서 이에 대한 비판적인 입장이 부각되고 있다. 특히 이번 신 미·일방위협력지침은 아베 총리 집권이후 진행되고 있는 일본의 우경화행보와 맞물려 있기 때문에 매우 우려스럽지 않을 수 없다.\\n그러나 상황에 따라 힘의 논리가 지배하는 현실 국제질서를 감안할 때 신 미·일방위협력지침이 한반도 평화질서에 어떻게 영향을 미치게 될 지에 대해서 선험적으로 속단하기 어려운 측면도 있다는 일부의 주장도 무시할 수는 없다.\\n이 글에서는 미·일방위협력지침의 제정 및 개정, 그리고 ‘신 미·일방위협력지침’의주요 내용을 개관한다. 그리고 이를 둘러싼 주요 쟁점을 정리하고, 이를 토대로 한국의 대응과제를 제시하고자 한다.\\nQuestion: 일본이 한반도에 군사력을 행사할 수도 있게 해서 문제가 된 건 뭐야'"
            ],
            "application/vnd.google.colaboratory.intrinsic+json": {
              "type": "string"
            }
          },
          "metadata": {},
          "execution_count": 26
        }
      ]
    },
    {
      "cell_type": "code",
      "source": [
        "llama3_inference_result = generate_response(system_message=\"너는 주어진 Context를 토대로 Question에 답변하는 챗봇이야. Question에 대한 답변을 한국어로 답해줘.\",\n",
        "                             user_message=질문_prompt)\n",
        "print(llama3_inference_result)"
      ],
      "metadata": {
        "colab": {
          "base_uri": "https://localhost:8080/"
        },
        "outputId": "216faee2-df81-4260-fe66-712396d0516b",
        "id": "-sTjMbOXJ0Ud"
      },
      "execution_count": null,
      "outputs": [
        {
          "output_type": "stream",
          "name": "stderr",
          "text": [
            "The attention mask and the pad token id were not set. As a consequence, you may observe unexpected behavior. Please pass your input's `attention_mask` to obtain reliable results.\n",
            "Setting `pad_token_id` to `eos_token_id`:128001 for open-end generation.\n"
          ]
        },
        {
          "output_type": "stream",
          "name": "stdout",
          "text": [
            "일본이 한반도에 군사력을 행사할 수 있게 해주는 신 미·일방위협력지침이 문제가 된 것입니다. 이 지침은 한국 정부의 동의 없이도 일본의 군사적 개입을 가능하게 할 수 있습니다.\n"
          ]
        }
      ]
    },
    {
      "cell_type": "code",
      "source": [
        "# 대표 LLM별 번역 추론 성능 비교\n",
        "ground_truth_text = extracted_data[3]['answer']\n",
        "llama_text = llama3_inference_result\n",
        "gpt4_text = \"일본이 한반도에서 군사력을 행사할 수 있게 한 주된 문제는 한국 정부의 동의 없이도 일본의 군사적 개입이 가능할 수 있다는 점입니다. 이는 신 미·일방위협력지침에 따라 제기된 해석이며, 특히 이 지침이 일본의 우경화 행보와 연계되어 있다는 점에서 더욱 우려를 낳고 있습니다. 이러한 배경은 한반도의 안보 상황에 대한 주권적 결정권을 침해할 수 있으며, 지역 안정성에 대한 불확실성을 증가시킬 수 있습니다.\"\n",
        "gpt35_text = \"한반도에 군사력을 행사할 수 있는 가능성은 한국 정부 내외에서 큰 문제로 여겨지고 있어요. 특히 한국 정부의 동의 없이도 일본의 군사적 개입이 가능하다는 해석이 나오면서 비판적인 시각이 부각되고 있어요. 이는 아베 총리 집권 이후 진행되는 일본의 우국화 행보와 관련돼 있는데요, 이로 인해 우려가 커지고 있습니다.\"\n",
        "clova_text = \"\"\"일본이 한반도에 군사력을 행사할 수도 있게 해서 문제가 된 것은 다음과 같습니다.\n",
        "\n",
        "1.한반도의 평화와 안정 저해: 일본의 군사적 개입은 한반도의 평화와 안정을 저해할 수 있습니다. 한반도 유사시 일본의 군사적 개입은 북한의 도발을 자극할 수 있으며, 이는 한반도의 긴장을 고조시킬 수 있습니다.\n",
        "\n",
        "2.한국의 주권 침해: 일본의 군사적 개입은 한국의 주권을 침해할 수 있습니다. 한국 정부의 동의 없이 일본이 한반도에 군사력을 행사하는 것은 국제법상 문제가 될 수 있으며, 이는 한국의 주권을 침해하는 것으로 간주될 수 있습니다.\n",
        "\n",
        "3.일본의 우경화 행보와 연관: 이번 신 미·일방위협력지침은 아베 총리 집권 이후 진행되고 있는 일본의 우경화 행보와 맞물려 있기 때문에 매우 우려스럽지 않을 수 없습니다. 일본의 군사적 개입은 일본의 군사 대국화를 촉진할 수 있으며, 이는 동아시아의 평화와 안정을 저해할 수 있습니다.\n",
        "\n",
        "4.선험적으로 속단하기 어려운 측면: 상황에 따라 힘의 논리가 지배하는 현실 국제질서를 감안할 때 신 미·일방위협력지침이 한반도 평화질서에 어떻게 영향을 미치게 될 지에 대해서 선험적으로 속단하기 어려운 측면도 있습니다.\n",
        "\n",
        "이러한 문제들은 한국의 안보와 국익에 직접적인 영향을 미칠 수 있으므로, 한국 정부는 일본의 군사적 개입에 대한 대응책을 마련해야 합니다.\n",
        "\"\"\"\n",
        "gemini_text = \"\"\"신 미일 방위협력지침에서 일본의 한반도 군사 개입 가능성이 문제가 된 이유는 다음과 같습니다.\n",
        "1. 한국 정부의 동의 없이 일본의 군사 개입 가능성:\n",
        "\n",
        "문제점: 신 지침은 한반도 유사 발생 시 일본이 한국 정부의 동의 없이도 군사력을 행사할 수 있도록 해석될 수 있습니다. 이는 한국의 방위권 침해와 주권 침해 우려를 야기합니다.\n",
        "근거:\n",
        "지침 내용: 신 지침은 \"지역 중요사태\" 발생 시 미·일 양국이 협력하여 대응하도록 규정하고 있습니다. 여기에는 \"한반도 유사\"도 포함됩니다. 또한, \"지역 중요사태\"에 대한 명확한 정의가 없어 상황에 따라 일본이 자의적으로 해석하여 개입할 가능성이 있습니다.\n",
        "역사적 경험: 과거 일본의 식민지 지배와 침략 역사를 고려할 때, 한국 국민들은 일본의 군사 개입에 대해 강한 우려를 가지고 있습니다.\n",
        "2. 아베 총리 집권 이후 일본의 우경화 행보:\n",
        "\n",
        "문제점: 아베 총리 집권 이후 일본은 과거 식민지 침략을 미화하고 군사력을 강화하는 등 우경화 행보를 보이고 있습니다. 이러한 일본의 행보는 한반도의 평화와 안정을 위협하는 요소로 작용하고 있습니다.\n",
        "근거:\n",
        "아베 정권의 주요 정책:\n",
        "역사인식 개선: 아베 정권은 과거 식민지 침략을 미화하고 일본군의 역사를 왜곡하는 발언과 행동을 반복했습니다. 또한, '위안부' 문제 해결에도 소극적인 태도를 보이고 있습니다.\n",
        "군사력 강화: 아베 정권은 집단적 자위권 행사容認, 방위비 대폭 증액, 첨단 무기 개발 등을 통해 군사력을 강화하고 있습니다. 또한, 해상 경비 및 영토 분쟁에서 강경한 입장을 취하고 있습니다.\n",
        "3. 한반도 평화 질서에 대한 영향:\n",
        "\n",
        "문제점: 일본의 한반도 군사 개입 가능성은 한반도의 긴장을 고조시키고, 남북 대화와 협력을 저해할 수 있습니다. 또한, 동북아 지역의 불안정을 야기할 수 있습니다.\n",
        "근거:\n",
        "한반도 긴장 고조: 일본의 군사 개입 가능성은 남북간의 군사적 대치를 심화시키고,偶発적인 군사적 충돌 위험을 높일 수 있습니다. 이는 한반도의 평화와 안정에 심각한 위협이 될 것입니다.\n",
        "남북 대화 및 협력 저해: 일본의 군사 개입 가능성은 남북간의 불신을 심화시키고, 대화와 협력을 위한 분위기를 악화시킬 수 있습니다. 이는 한반도 평화 통일의 과정을 저해하는 요소가 될 것입니다.\n",
        "동북아 불안정: 일본의 군사 개입 가능성은 동북아 지역의 군사적 균형을 깨뜨리고, 새로운 군사적 갈등을 야기할 수 있습니다. 이는 동북아 전체의 평화와 안정에 위협이 될 것입니다.\n",
        "결론적으로, 일본이 한반도에 군사력을 행사할 수도 있게 해서 문제가 된 것은 한국의 방위권 침해, 역사적 경험, 아베 정권의 우경화 행보, 한반도 평화 질서에 대한 부정적 영향 등의 이유 때문입니다.\n",
        "\"\"\"\n",
        "\n",
        "# Call the function to display the example texts\n",
        "print_text_comparison(ground_truth_text, llama_text, gpt4_text, gpt35_text, clova_text, gemini_text)"
      ],
      "metadata": {
        "colab": {
          "base_uri": "https://localhost:8080/"
        },
        "id": "uhl31OVpriGL",
        "outputId": "d7063a19-9ea4-4bc4-9d22-3a5b90586f0f"
      },
      "execution_count": null,
      "outputs": [
        {
          "output_type": "stream",
          "name": "stdout",
          "text": [
            "Ground Truth:\n",
            "신 미·일방위협력지침\n",
            "\n",
            "Llama:\n",
            "일본이 한반도에 군사력을 행사할 수 있게 해주는 신 미·일방위협력지침이 문제가 된 것입니다. 이 지침은 한국 정부의 동의 없이도 일본의 군사적 개입을 가능하게 할 수 있습니다.\n",
            "\n",
            "GPT-4:\n",
            "일본이 한반도에서 군사력을 행사할 수 있게 한 주된 문제는 한국 정부의 동의 없이도 일본의 군사적 개입이 가능할 수 있다는 점입니다. 이는 신 미·일방위협력지침에 따라 제기된 해석이며, 특히 이 지침이 일본의 우경화 행보와 연계되어 있다는 점에서 더욱 우려를 낳고 있습니다. 이러한 배경은 한반도의 안보 상황에 대한 주권적 결정권을 침해할 수 있으며, 지역 안정성에 대한 불확실성을 증가시킬 수 있습니다.\n",
            "\n",
            "GPT-3.5:\n",
            "한반도에 군사력을 행사할 수 있는 가능성은 한국 정부 내외에서 큰 문제로 여겨지고 있어요. 특히 한국 정부의 동의 없이도 일본의 군사적 개입이 가능하다는 해석이 나오면서 비판적인 시각이 부각되고 있어요. 이는 아베 총리 집권 이후 진행되는 일본의 우국화 행보와 관련돼 있는데요, 이로 인해 우려가 커지고 있습니다.\n",
            "\n",
            "Clova:\n",
            "일본이 한반도에 군사력을 행사할 수도 있게 해서 문제가 된 것은 다음과 같습니다.\n",
            "\n",
            "1.한반도의 평화와 안정 저해: 일본의 군사적 개입은 한반도의 평화와 안정을 저해할 수 있습니다. 한반도 유사시 일본의 군사적 개입은 북한의 도발을 자극할 수 있으며, 이는 한반도의 긴장을 고조시킬 수 있습니다.\n",
            "\n",
            "2.한국의 주권 침해: 일본의 군사적 개입은 한국의 주권을 침해할 수 있습니다. 한국 정부의 동의 없이 일본이 한반도에 군사력을 행사하는 것은 국제법상 문제가 될 수 있으며, 이는 한국의 주권을 침해하는 것으로 간주될 수 있습니다.\n",
            "\n",
            "3.일본의 우경화 행보와 연관: 이번 신 미·일방위협력지침은 아베 총리 집권 이후 진행되고 있는 일본의 우경화 행보와 맞물려 있기 때문에 매우 우려스럽지 않을 수 없습니다. 일본의 군사적 개입은 일본의 군사 대국화를 촉진할 수 있으며, 이는 동아시아의 평화와 안정을 저해할 수 있습니다.\n",
            "\n",
            "4.선험적으로 속단하기 어려운 측면: 상황에 따라 힘의 논리가 지배하는 현실 국제질서를 감안할 때 신 미·일방위협력지침이 한반도 평화질서에 어떻게 영향을 미치게 될 지에 대해서 선험적으로 속단하기 어려운 측면도 있습니다.\n",
            "\n",
            "이러한 문제들은 한국의 안보와 국익에 직접적인 영향을 미칠 수 있으므로, 한국 정부는 일본의 군사적 개입에 대한 대응책을 마련해야 합니다.\n",
            "\n",
            "\n",
            "Gemini:\n",
            "신 미일 방위협력지침에서 일본의 한반도 군사 개입 가능성이 문제가 된 이유는 다음과 같습니다.\n",
            "1. 한국 정부의 동의 없이 일본의 군사 개입 가능성:\n",
            "\n",
            "문제점: 신 지침은 한반도 유사 발생 시 일본이 한국 정부의 동의 없이도 군사력을 행사할 수 있도록 해석될 수 있습니다. 이는 한국의 방위권 침해와 주권 침해 우려를 야기합니다.\n",
            "근거:\n",
            "지침 내용: 신 지침은 \"지역 중요사태\" 발생 시 미·일 양국이 협력하여 대응하도록 규정하고 있습니다. 여기에는 \"한반도 유사\"도 포함됩니다. 또한, \"지역 중요사태\"에 대한 명확한 정의가 없어 상황에 따라 일본이 자의적으로 해석하여 개입할 가능성이 있습니다.\n",
            "역사적 경험: 과거 일본의 식민지 지배와 침략 역사를 고려할 때, 한국 국민들은 일본의 군사 개입에 대해 강한 우려를 가지고 있습니다.\n",
            "2. 아베 총리 집권 이후 일본의 우경화 행보:\n",
            "\n",
            "문제점: 아베 총리 집권 이후 일본은 과거 식민지 침략을 미화하고 군사력을 강화하는 등 우경화 행보를 보이고 있습니다. 이러한 일본의 행보는 한반도의 평화와 안정을 위협하는 요소로 작용하고 있습니다.\n",
            "근거:\n",
            "아베 정권의 주요 정책:\n",
            "역사인식 개선: 아베 정권은 과거 식민지 침략을 미화하고 일본군의 역사를 왜곡하는 발언과 행동을 반복했습니다. 또한, '위안부' 문제 해결에도 소극적인 태도를 보이고 있습니다.\n",
            "군사력 강화: 아베 정권은 집단적 자위권 행사容認, 방위비 대폭 증액, 첨단 무기 개발 등을 통해 군사력을 강화하고 있습니다. 또한, 해상 경비 및 영토 분쟁에서 강경한 입장을 취하고 있습니다.\n",
            "3. 한반도 평화 질서에 대한 영향:\n",
            "\n",
            "문제점: 일본의 한반도 군사 개입 가능성은 한반도의 긴장을 고조시키고, 남북 대화와 협력을 저해할 수 있습니다. 또한, 동북아 지역의 불안정을 야기할 수 있습니다.\n",
            "근거:\n",
            "한반도 긴장 고조: 일본의 군사 개입 가능성은 남북간의 군사적 대치를 심화시키고,偶発적인 군사적 충돌 위험을 높일 수 있습니다. 이는 한반도의 평화와 안정에 심각한 위협이 될 것입니다.\n",
            "남북 대화 및 협력 저해: 일본의 군사 개입 가능성은 남북간의 불신을 심화시키고, 대화와 협력을 위한 분위기를 악화시킬 수 있습니다. 이는 한반도 평화 통일의 과정을 저해하는 요소가 될 것입니다.\n",
            "동북아 불안정: 일본의 군사 개입 가능성은 동북아 지역의 군사적 균형을 깨뜨리고, 새로운 군사적 갈등을 야기할 수 있습니다. 이는 동북아 전체의 평화와 안정에 위협이 될 것입니다.\n",
            "결론적으로, 일본이 한반도에 군사력을 행사할 수도 있게 해서 문제가 된 것은 한국의 방위권 침해, 역사적 경험, 아베 정권의 우경화 행보, 한반도 평화 질서에 대한 부정적 영향 등의 이유 때문입니다.\n",
            "\n"
          ]
        }
      ]
    },
    {
      "cell_type": "code",
      "source": [
        "extracted_data[4]"
      ],
      "metadata": {
        "colab": {
          "base_uri": "https://localhost:8080/"
        },
        "outputId": "72aa0ec3-dcc6-463b-f2ed-b79a08042913",
        "id": "TzmzV84qLReT"
      },
      "execution_count": null,
      "outputs": [
        {
          "output_type": "execute_result",
          "data": {
            "text/plain": [
              "{'context': '2. 미·일 동맹과 미·일방위협력지침\\n현재의 미·일 동맹은 1960년 1월에 체결된 ‘미·일 상호협력 및 안전보장조약(미·일 신안보조약)’을 토대로 한다.\\n이를 체계적으로 실행하기 위해서 1976년과 1978년에 각각 ‘미·일 안전보장협의위원회’와 ‘미·일방위협력지침’을 마련하였다.\\n이후 미·일 동맹의 안보 영역이 일본영토에서 일본 주변지역으로 확대되면서 1997년에 ‘미·일방위협력지침’을 개정하였다. 그리고 최근 미일 동맹의 안보영역이 전 세계로 확대되면서 기존 미·일방위협력지침을 개정한 ‘신 미·일방위협력지침’을 마련하게 된 것이다.',\n",
              " 'question': '미국과 일본이 맺은 동맹의 바탕이 되는 협약은 뭐야',\n",
              " 'answer': '미·일 상호협력 및 안전보장조약'}"
            ]
          },
          "metadata": {},
          "execution_count": 34
        }
      ]
    },
    {
      "cell_type": "code",
      "source": [
        "질문_prompt = format_context_question(extracted_data[4])\n",
        "질문_prompt"
      ],
      "metadata": {
        "colab": {
          "base_uri": "https://localhost:8080/",
          "height": 70
        },
        "outputId": "aab94648-b41e-4796-ad1e-f42fa86d1de3",
        "id": "-oJq2UJKLReU"
      },
      "execution_count": null,
      "outputs": [
        {
          "output_type": "execute_result",
          "data": {
            "text/plain": [
              "'Context: 2. 미·일 동맹과 미·일방위협력지침\\n현재의 미·일 동맹은 1960년 1월에 체결된 ‘미·일 상호협력 및 안전보장조약(미·일 신안보조약)’을 토대로 한다.\\n이를 체계적으로 실행하기 위해서 1976년과 1978년에 각각 ‘미·일 안전보장협의위원회’와 ‘미·일방위협력지침’을 마련하였다.\\n이후 미·일 동맹의 안보 영역이 일본영토에서 일본 주변지역으로 확대되면서 1997년에 ‘미·일방위협력지침’을 개정하였다. 그리고 최근 미일 동맹의 안보영역이 전 세계로 확대되면서 기존 미·일방위협력지침을 개정한 ‘신 미·일방위협력지침’을 마련하게 된 것이다.\\nQuestion: 미국과 일본이 맺은 동맹의 바탕이 되는 협약은 뭐야'"
            ],
            "application/vnd.google.colaboratory.intrinsic+json": {
              "type": "string"
            }
          },
          "metadata": {},
          "execution_count": 35
        }
      ]
    },
    {
      "cell_type": "code",
      "source": [
        "llama3_inference_result = generate_response(system_message=\"너는 주어진 Context를 토대로 Question에 답변하는 챗봇이야. Question에 대한 답변을 한국어로 답해줘.\",\n",
        "                             user_message=질문_prompt)\n",
        "print(llama3_inference_result)"
      ],
      "metadata": {
        "colab": {
          "base_uri": "https://localhost:8080/"
        },
        "outputId": "18027c13-547b-4f55-e225-c04dd03f4afb",
        "id": "uGjRATF6LReV"
      },
      "execution_count": null,
      "outputs": [
        {
          "output_type": "stream",
          "name": "stderr",
          "text": [
            "The attention mask and the pad token id were not set. As a consequence, you may observe unexpected behavior. Please pass your input's `attention_mask` to obtain reliable results.\n",
            "Setting `pad_token_id` to `eos_token_id`:128001 for open-end generation.\n"
          ]
        },
        {
          "output_type": "stream",
          "name": "stdout",
          "text": [
            "미·일 동맹의 바탕이 되는 협약은 '미·일 상호협력 및 안전보장조약(미·일 신안보조약)'입니다.\n"
          ]
        }
      ]
    },
    {
      "cell_type": "code",
      "source": [
        "# 대표 LLM별 번역 추론 성능 비교\n",
        "ground_truth_text = extracted_data[4]['answer']\n",
        "llama_text = llama3_inference_result\n",
        "gpt4_text = \"미국과 일본이 맺은 동맹의 바탕이 되는 협약은 ‘미·일 상호협력 및 안전보장조약(미·일 신안보조약)’입니다. 이 조약은 1960년 1월에 체결되었습니다.\"\n",
        "gpt35_text = \"미국과 일본이 맺은 동맹의 바탕이 되는 협약은 '미·일 상호협력 및 안전보장조약(미·일 신안보조약)'이다.\"\n",
        "clova_text = \"미국과 일본이 맺은 동맹의 바탕이 되는 협약은 1960년 1월에 체결된 ‘미·일 상호협력 및 안전보장조약(미·일 신안보조약)’입니다.\"\n",
        "gemini_text = \"\"\"미국과 일본이 맺은 동맹의 바탕이 되는 협약은 **미·일 상호협력 및 안전보장조약(미·일 신안보조약)**입니다.\n",
        "1960년 1월에 체결된 이 조약은 다음과 같은 내용을 담고 있습니다.\n",
        "\n",
        "양국은 공격에 대비하여 공동으로 방위한다.\n",
        "일본의 안전은 미국의 안전에 필수적이다.\n",
        "양국은 긴밀한 정치적, 경제적 협력을 한다.\n",
        "이 조약은 미·일 동맹의 기반으로 작용하며, 양국의 안보 협력을 강화하는 데 중요한 역할을 하고 있습니다.\n",
        "\n",
        "참고:\n",
        "\n",
        "미·일 안전보장협의위원회: 미·일 양국이 안보 문제를 논의하는 위원회\n",
        "미·일방위협력지침: 미·일 동맹의 구체적인 운영 방식을 정한 지침\n",
        "\"\"\"\n",
        "\n",
        "# Call the function to display the example texts\n",
        "print_text_comparison(ground_truth_text, llama_text, gpt4_text, gpt35_text, clova_text, gemini_text)"
      ],
      "metadata": {
        "colab": {
          "base_uri": "https://localhost:8080/"
        },
        "id": "0xhmjL_3riBP",
        "outputId": "a325edbf-ce5d-47f7-aa3a-e00990c9f849"
      },
      "execution_count": null,
      "outputs": [
        {
          "output_type": "stream",
          "name": "stdout",
          "text": [
            "Ground Truth:\n",
            "미·일 상호협력 및 안전보장조약\n",
            "\n",
            "Llama:\n",
            "미·일 동맹의 바탕이 되는 협약은 '미·일 상호협력 및 안전보장조약(미·일 신안보조약)'입니다.\n",
            "\n",
            "GPT-4:\n",
            "미국과 일본이 맺은 동맹의 바탕이 되는 협약은 ‘미·일 상호협력 및 안전보장조약(미·일 신안보조약)’입니다. 이 조약은 1960년 1월에 체결되었습니다.\n",
            "\n",
            "GPT-3.5:\n",
            "미국과 일본이 맺은 동맹의 바탕이 되는 협약은 '미·일 상호협력 및 안전보장조약(미·일 신안보조약)'이다.\n",
            "\n",
            "Clova:\n",
            "미국과 일본이 맺은 동맹의 바탕이 되는 협약은 1960년 1월에 체결된 ‘미·일 상호협력 및 안전보장조약(미·일 신안보조약)’입니다.\n",
            "\n",
            "Gemini:\n",
            "미국과 일본이 맺은 동맹의 바탕이 되는 협약은 **미·일 상호협력 및 안전보장조약(미·일 신안보조약)**입니다.\n",
            "1960년 1월에 체결된 이 조약은 다음과 같은 내용을 담고 있습니다.\n",
            "\n",
            "양국은 공격에 대비하여 공동으로 방위한다.\n",
            "일본의 안전은 미국의 안전에 필수적이다.\n",
            "양국은 긴밀한 정치적, 경제적 협력을 한다.\n",
            "이 조약은 미·일 동맹의 기반으로 작용하며, 양국의 안보 협력을 강화하는 데 중요한 역할을 하고 있습니다.\n",
            "\n",
            "참고:\n",
            "\n",
            "미·일 안전보장협의위원회: 미·일 양국이 안보 문제를 논의하는 위원회\n",
            "미·일방위협력지침: 미·일 동맹의 구체적인 운영 방식을 정한 지침\n",
            "\n"
          ]
        }
      ]
    },
    {
      "cell_type": "code",
      "source": [
        "extracted_data[5]"
      ],
      "metadata": {
        "colab": {
          "base_uri": "https://localhost:8080/"
        },
        "outputId": "0dd4ef1d-9cf8-4943-bfe4-f65ff0c0f1df",
        "id": "DTKwCyfRMd9t"
      },
      "execution_count": null,
      "outputs": [
        {
          "output_type": "execute_result",
          "data": {
            "text/plain": [
              "{'context': '2. 미·일 동맹과 미·일방위협력지침\\n현재의 미·일 동맹은 1960년 1월에 체결된 ‘미·일 상호협력 및 안전보장조약(미·일 신안보조약)’을 토대로 한다.\\n이를 체계적으로 실행하기 위해서 1976년과 1978년에 각각 ‘미·일 안전보장협의위원회’와 ‘미·일방위협력지침’을 마련하였다.\\n이후 미·일 동맹의 안보 영역이 일본영토에서 일본 주변지역으로 확대되면서 1997년에 ‘미·일방위협력지침’을 개정하였다. 그리고 최근 미일 동맹의 안보영역이 전 세계로 확대되면서 기존 미·일방위협력지침을 개정한 ‘신 미·일방위협력지침’을 마련하게 된 것이다.',\n",
              " 'question': '무슨 협약을 근간으로 미국과 일본 사이의 동맹이 이루어졌어',\n",
              " 'answer': '미·일 상호협력 및 안전보장조약'}"
            ]
          },
          "metadata": {},
          "execution_count": 41
        }
      ]
    },
    {
      "cell_type": "code",
      "source": [
        "질문_prompt = format_context_question(extracted_data[5])\n",
        "질문_prompt"
      ],
      "metadata": {
        "colab": {
          "base_uri": "https://localhost:8080/",
          "height": 70
        },
        "outputId": "00c02478-7427-479f-ecda-47910f61002f",
        "id": "1yjcbLqOMd9v"
      },
      "execution_count": null,
      "outputs": [
        {
          "output_type": "execute_result",
          "data": {
            "text/plain": [
              "'Context: 2. 미·일 동맹과 미·일방위협력지침\\n현재의 미·일 동맹은 1960년 1월에 체결된 ‘미·일 상호협력 및 안전보장조약(미·일 신안보조약)’을 토대로 한다.\\n이를 체계적으로 실행하기 위해서 1976년과 1978년에 각각 ‘미·일 안전보장협의위원회’와 ‘미·일방위협력지침’을 마련하였다.\\n이후 미·일 동맹의 안보 영역이 일본영토에서 일본 주변지역으로 확대되면서 1997년에 ‘미·일방위협력지침’을 개정하였다. 그리고 최근 미일 동맹의 안보영역이 전 세계로 확대되면서 기존 미·일방위협력지침을 개정한 ‘신 미·일방위협력지침’을 마련하게 된 것이다.\\nQuestion: 무슨 협약을 근간으로 미국과 일본 사이의 동맹이 이루어졌어'"
            ],
            "application/vnd.google.colaboratory.intrinsic+json": {
              "type": "string"
            }
          },
          "metadata": {},
          "execution_count": 42
        }
      ]
    },
    {
      "cell_type": "code",
      "source": [
        "llama3_inference_result = generate_response(system_message=\"너는 주어진 Context를 토대로 Question에 답변하는 챗봇이야. Question에 대한 답변을 한국어로 답해줘.\",\n",
        "                             user_message=질문_prompt)\n",
        "print(llama3_inference_result)"
      ],
      "metadata": {
        "colab": {
          "base_uri": "https://localhost:8080/"
        },
        "outputId": "e26c53be-74a3-4c07-810c-98fcea8138e4",
        "id": "15NsYC39Md9w"
      },
      "execution_count": null,
      "outputs": [
        {
          "output_type": "stream",
          "name": "stderr",
          "text": [
            "The attention mask and the pad token id were not set. As a consequence, you may observe unexpected behavior. Please pass your input's `attention_mask` to obtain reliable results.\n",
            "Setting `pad_token_id` to `eos_token_id`:128001 for open-end generation.\n"
          ]
        },
        {
          "output_type": "stream",
          "name": "stdout",
          "text": [
            "미국과 일본 사이의 동맹은 1960년 1월에 체결된 '미·일 상호협력 및 안전보장조약(미·일 신안보조약)'을 근간으로 이루어졌습니다.\n"
          ]
        }
      ]
    },
    {
      "cell_type": "code",
      "source": [
        "# 대표 LLM별 번역 추론 성능 비교\n",
        "ground_truth_text = extracted_data[5]['answer']\n",
        "llama_text = llama3_inference_result\n",
        "gpt4_text = \"미국과 일본 사이의 동맹은 1960년 1월에 체결된 '미·일 상호협력 및 안전보장조약(미·일 신안보조약)'을 근간으로 이루어졌습니다.\"\n",
        "gpt35_text = \"미국과 일본 사이의 동맹은 1960년 1월에 체결된 '미·일 상호협력 및 안전보장조약(미·일 신안보조약)'을 근간으로 합니다.\"\n",
        "clova_text = \"미국과 일본 사이의 동맹은 1960년 1월에 체결된 ‘미·일 상호협력 및 안전보장조약(미·일 신안보조약)’을 근간으로 이루어졌습니다.\"\n",
        "gemini_text = \"\"\"**미국과 일본 사이의 동맹은 1960년 1월 19일에 체결된 **미일 상호협력 및 안전보장 조약(미일 신안보조약)을 근간으로 이루어졌습니다.\n",
        "\n",
        "이 조약은 제2차 세계 대전 이후 일본의 안전을 보장하기 위해 미국이 일본을 방위할 의무를 규정하고 있으며, 일본은 미국과 협력하여 공동의 안보를 유지할 것을 의무지고 있습니다.\n",
        "\n",
        "미일 신안보조약은 미일 안전보장 협의위원회와 미일 방위협력지침이라는 두 가지 보조적인 합의를 통해 구체화되고 있습니다.\n",
        "\n",
        "미일 안전보장 협의위원회: 양국 외교·국방장관급으로 구성된 위원회로서, 동맹관련 주요 사안을 협의하고 결정하는 역할을 합니다.\n",
        "미일 방위협력지침: 양국의 군사력을 어떻게 통합하여 운영할지를 구체적으로 규정한 지침입니다. 1997년과 2017년에 개정되었으며, 최근 개정된 신 미일 방위협력지침에서는 우주, 사이버, 전자공격 등 새로운 안보 위협에 대응하기 위한 협력 강화를 중점적으로 다루고 있습니다.\n",
        "미일 동맹은 동아시아 지역의 평화와 안정에 중요한 역할을 하고 있으며, 최근에는 중국의 군사적 성장에 대응하기 위한 양국 간 협력이 더욱 강화되고 있습니다.\n",
        "\"\"\"\n",
        "\n",
        "# Call the function to display the example texts\n",
        "print_text_comparison(ground_truth_text, llama_text, gpt4_text, gpt35_text, clova_text, gemini_text)"
      ],
      "metadata": {
        "colab": {
          "base_uri": "https://localhost:8080/"
        },
        "id": "uFNeqljZlIPU",
        "outputId": "195ed5d5-938b-447a-e2e6-8d61c44ff252"
      },
      "execution_count": null,
      "outputs": [
        {
          "output_type": "stream",
          "name": "stdout",
          "text": [
            "Ground Truth:\n",
            "미·일 상호협력 및 안전보장조약\n",
            "\n",
            "Llama:\n",
            "미국과 일본 사이의 동맹은 1960년 1월에 체결된 '미·일 상호협력 및 안전보장조약(미·일 신안보조약)'을 근간으로 이루어졌습니다.\n",
            "\n",
            "GPT-4:\n",
            "미국과 일본 사이의 동맹은 1960년 1월에 체결된 '미·일 상호협력 및 안전보장조약(미·일 신안보조약)'을 근간으로 이루어졌습니다.\n",
            "\n",
            "GPT-3.5:\n",
            "미국과 일본 사이의 동맹은 1960년 1월에 체결된 '미·일 상호협력 및 안전보장조약(미·일 신안보조약)'을 근간으로 합니다.\n",
            "\n",
            "Clova:\n",
            "미국과 일본 사이의 동맹은 1960년 1월에 체결된 ‘미·일 상호협력 및 안전보장조약(미·일 신안보조약)’을 근간으로 이루어졌습니다.\n",
            "\n",
            "Gemini:\n",
            "**미국과 일본 사이의 동맹은 1960년 1월 19일에 체결된 **미일 상호협력 및 안전보장 조약(미일 신안보조약)을 근간으로 이루어졌습니다.\n",
            "\n",
            "이 조약은 제2차 세계 대전 이후 일본의 안전을 보장하기 위해 미국이 일본을 방위할 의무를 규정하고 있으며, 일본은 미국과 협력하여 공동의 안보를 유지할 것을 의무지고 있습니다.\n",
            "\n",
            "미일 신안보조약은 미일 안전보장 협의위원회와 미일 방위협력지침이라는 두 가지 보조적인 합의를 통해 구체화되고 있습니다.\n",
            "\n",
            "미일 안전보장 협의위원회: 양국 외교·국방장관급으로 구성된 위원회로서, 동맹관련 주요 사안을 협의하고 결정하는 역할을 합니다.\n",
            "미일 방위협력지침: 양국의 군사력을 어떻게 통합하여 운영할지를 구체적으로 규정한 지침입니다. 1997년과 2017년에 개정되었으며, 최근 개정된 신 미일 방위협력지침에서는 우주, 사이버, 전자공격 등 새로운 안보 위협에 대응하기 위한 협력 강화를 중점적으로 다루고 있습니다.\n",
            "미일 동맹은 동아시아 지역의 평화와 안정에 중요한 역할을 하고 있으며, 최근에는 중국의 군사적 성장에 대응하기 위한 양국 간 협력이 더욱 강화되고 있습니다.\n",
            "\n"
          ]
        }
      ]
    },
    {
      "cell_type": "code",
      "source": [
        "extracted_data[6]"
      ],
      "metadata": {
        "colab": {
          "base_uri": "https://localhost:8080/"
        },
        "outputId": "089630b8-0d7f-418c-91b7-08269aa2066d",
        "id": "QDtjARWCOgms"
      },
      "execution_count": null,
      "outputs": [
        {
          "output_type": "execute_result",
          "data": {
            "text/plain": [
              "{'context': '3. 신 미·일방위협력지침의 주요내용\\n신 미·일방위협력지침은 다음과 같은 측면에서 1997년의 미·일방위협력지침과 차이가 있다.\\n첫째, 미·일 동맹의 활동범위가 기존의 방위협력지침에서 설정한 일본과 주변지역은 물론 아·태지역 및 전 세계로 확대되었다.\\n둘째, 안보협력상황을 ‘평화시’, ‘일본의 평화와 안보에 대한 중대한 위협상황’, ‘일본이 군사적 외침을 받는 상황’, ‘일본이 아닌 미국과 다른 나라가 군사적 외침을 받는 상황 ’, ‘일본에서 대규모 재해가 발생한 상황’ 등 5가지로 확대하였다.\\n셋째, 미·일 동맹 협력추진체계를 확대하고 통합성을 강화하였다. 이를 위해 미·일 동맹 협력을 범정부적 접근법이라고 명시하고 상설‘동맹협력메카니즘’(Alliance Coordination Mechanism)을 구축하기로 하였다.\\n넷째, 평시의 안보협력 범주를 확대하였다. 이 전과 달리 정보와 감시활동은 물론 탐지(ISR: Intelligence, Suveillance, Reconnaissance) 활동까지 통합적으로 협력하기로 하였다. 또한 평시에 탄도미사일을 포함하는 공중방어와 해상안보까지 양자 간의 안보협력 범주에 포함하였다.',\n",
              " 'question': '새로 만든 미·일방위협력지침에서 미·일 동맹 협력추진체계를 증대하기 위해 구축하려는 게 뭐야',\n",
              " 'answer': '동맹협력메카니즘'}"
            ]
          },
          "metadata": {},
          "execution_count": 47
        }
      ]
    },
    {
      "cell_type": "code",
      "source": [
        "질문_prompt = format_context_question(extracted_data[6])\n",
        "질문_prompt"
      ],
      "metadata": {
        "colab": {
          "base_uri": "https://localhost:8080/",
          "height": 122
        },
        "outputId": "ddc40f02-95d5-4bff-96be-4b147eed9ff3",
        "id": "Df5MGV2VOgm_"
      },
      "execution_count": null,
      "outputs": [
        {
          "output_type": "execute_result",
          "data": {
            "text/plain": [
              "'Context: 3. 신 미·일방위협력지침의 주요내용\\n신 미·일방위협력지침은 다음과 같은 측면에서 1997년의 미·일방위협력지침과 차이가 있다.\\n첫째, 미·일 동맹의 활동범위가 기존의 방위협력지침에서 설정한 일본과 주변지역은 물론 아·태지역 및 전 세계로 확대되었다.\\n둘째, 안보협력상황을 ‘평화시’, ‘일본의 평화와 안보에 대한 중대한 위협상황’, ‘일본이 군사적 외침을 받는 상황’, ‘일본이 아닌 미국과 다른 나라가 군사적 외침을 받는 상황 ’, ‘일본에서 대규모 재해가 발생한 상황’ 등 5가지로 확대하였다.\\n셋째, 미·일 동맹 협력추진체계를 확대하고 통합성을 강화하였다. 이를 위해 미·일 동맹 협력을 범정부적 접근법이라고 명시하고 상설‘동맹협력메카니즘’(Alliance Coordination Mechanism)을 구축하기로 하였다.\\n넷째, 평시의 안보협력 범주를 확대하였다. 이 전과 달리 정보와 감시활동은 물론 탐지(ISR: Intelligence, Suveillance, Reconnaissance) 활동까지 통합적으로 협력하기로 하였다. 또한 평시에 탄도미사일을 포함하는 공중방어와 해상안보까지 양자 간의 안보협력 범주에 포함하였다.\\nQuestion: 새로 만든 미·일방위협력지침에서 미·일 동맹 협력추진체계를 증대하기 위해 구축하려는 게 뭐야'"
            ],
            "application/vnd.google.colaboratory.intrinsic+json": {
              "type": "string"
            }
          },
          "metadata": {},
          "execution_count": 48
        }
      ]
    },
    {
      "cell_type": "code",
      "source": [
        "llama3_inference_result = generate_response(system_message=\"너는 주어진 Context를 토대로 Question에 답변하는 챗봇이야. Question에 대한 답변을 한국어로 답해줘.\",\n",
        "                             user_message=질문_prompt)\n",
        "print(llama3_inference_result)"
      ],
      "metadata": {
        "colab": {
          "base_uri": "https://localhost:8080/"
        },
        "outputId": "9b2babf1-a8d3-4259-c33c-e154eb80f31e",
        "id": "_oZVWpOIOgnA"
      },
      "execution_count": null,
      "outputs": [
        {
          "output_type": "stream",
          "name": "stderr",
          "text": [
            "The attention mask and the pad token id were not set. As a consequence, you may observe unexpected behavior. Please pass your input's `attention_mask` to obtain reliable results.\n",
            "Setting `pad_token_id` to `eos_token_id`:128001 for open-end generation.\n"
          ]
        },
        {
          "output_type": "stream",
          "name": "stdout",
          "text": [
            "신 미·일방위협력지침에서 미·일 동맹 협력추진체계를 증대하기 위해 구축하려는 것은 '상설‘동맹협력메카니즘’(Alliance Coordination Mechanism)'입니다. 이 메카니즘은 미·일 동맹 협력을 범정부적 접근법으로 명시하고, 이를 통해 미·일 동맹의 통합성을 강화하고 협력추진체계를 확대하고자 하는 것입니다.\n"
          ]
        }
      ]
    },
    {
      "cell_type": "code",
      "source": [
        "# 대표 LLM별 번역 추론 성능 비교\n",
        "ground_truth_text = extracted_data[6]['answer']\n",
        "llama_text = llama3_inference_result\n",
        "gpt4_text = \"새로 만든 미·일방위협력지침에서 미·일 동맹 협력추진체계를 증대하기 위해 구축하려는 것은 상설 '동맹협력메카니즘' (Alliance Coordination Mechanism)이다. 이는 미국과 일본간의 동맹 협력을 범정부적 접근법으로 강화하고 통합성을 높이기 위한 조치로 명시되어 있다.\"\n",
        "gpt35_text = \"미·일 동맹 협력추진체계를 증대하기 위해 구축하려는 것은 상설 '동맹협력메카니즘'입니다.\"\n",
        "clova_text = \"새로 만든 미·일방위협력지침에서 미·일 동맹 협력추진체계를 증대하기 위해 구축하려는 것은 상설 '동맹협력메카니즘'(Alliance Coordination Mechanism)입니다.\"\n",
        "gemini_text = \"\"\"새로 만든 미·일 방위협력지침에서 미·일 동맹 협력추진체계를 증대하기 위해 구축하려는 것은 **상설 '동맹협력메카니즘'(Alliance Coordination Mechanism)**입니다.\n",
        "\n",
        "이 메커니즘은 미·일 양국의 외교, 국방, 해양안보 등 각 부처의 고위 관료들로 구성된 합동기구로서, 다음과 같은 역할을 수행하게 됩니다.\n",
        "\n",
        "**미·일 동맹 협력 정책 및 계획의 **협의 및 조율\n",
        "**양국 군사력의 연합훈련 및 운영 협력\n",
        "**정보 및 정찰 활동 공동 수행\n",
        "**미·일 간의 군사기술 및 장비 호환성 향상 협력\n",
        "**지역 및 국제 안보 문제에 대한 협의 협력\n",
        "핵심 목표는 다음과 같습니다.\n",
        "\n",
        "**미·일 동맹의 효율성 및 효과성 극대화\n",
        "**양국 간의 **군사적 협력 강화\n",
        "**아시아태평양 지역의 평화 및 안정 유지\n",
        "동맹협력메카니즘은 다음과 같은 구성원으로 구성됩니다.\n",
        "\n",
        "외교, 국방, 해양안보 각 부처의 고위 관료\n",
        "합동참모본부 기획 참모\n",
        "각 군 사령관\n",
        "**필요에 따라 전문가\n",
        "운영 방식은 다음과 같습니다.\n",
        "\n",
        "**정기적인 회의 개최\n",
        "**비상시 긴급 연락 체계 구축\n",
        "**영구적인 사무실 운영\n",
        "기대 효과는 다음과 같습니다.\n",
        "\n",
        "**미·일 동맹의 강화\n",
        "**아시아태평양 지역의 안보 환경 개선\n",
        "**국제 사회의 평화 및 안정 에 기여\n",
        "동맹협력메카니즘은 아직 구체적인 운영 방식이 결정되지 않은 부분도 있지만, 미·일 동맹 협력 강화에 중추적인 역할을 할 것으로 기대됩니다.\n",
        "\"\"\"\n",
        "\n",
        "# Call the function to display the example texts\n",
        "print_text_comparison(ground_truth_text, llama_text, gpt4_text, gpt35_text, clova_text, gemini_text)"
      ],
      "metadata": {
        "id": "V5BeYVD09-VN",
        "colab": {
          "base_uri": "https://localhost:8080/"
        },
        "outputId": "77568b78-80e5-4379-edde-ec15138427c3"
      },
      "execution_count": null,
      "outputs": [
        {
          "output_type": "stream",
          "name": "stdout",
          "text": [
            "Ground Truth:\n",
            "동맹협력메카니즘\n",
            "\n",
            "Llama:\n",
            "신 미·일방위협력지침에서 미·일 동맹 협력추진체계를 증대하기 위해 구축하려는 것은 '상설‘동맹협력메카니즘’(Alliance Coordination Mechanism)'입니다. 이 메카니즘은 미·일 동맹 협력을 범정부적 접근법으로 명시하고, 이를 통해 미·일 동맹의 통합성을 강화하고 협력추진체계를 확대하고자 하는 것입니다.\n",
            "\n",
            "GPT-4:\n",
            "새로 만든 미·일방위협력지침에서 미·일 동맹 협력추진체계를 증대하기 위해 구축하려는 것은 상설 '동맹협력메카니즘' (Alliance Coordination Mechanism)이다. 이는 미국과 일본간의 동맹 협력을 범정부적 접근법으로 강화하고 통합성을 높이기 위한 조치로 명시되어 있다.\n",
            "\n",
            "GPT-3.5:\n",
            "미·일 동맹 협력추진체계를 증대하기 위해 구축하려는 것은 상설 '동맹협력메카니즘'입니다.\n",
            "\n",
            "Clova:\n",
            "새로 만든 미·일방위협력지침에서 미·일 동맹 협력추진체계를 증대하기 위해 구축하려는 것은 상설 '동맹협력메카니즘'(Alliance Coordination Mechanism)입니다.\n",
            "\n",
            "Gemini:\n",
            "새로 만든 미·일 방위협력지침에서 미·일 동맹 협력추진체계를 증대하기 위해 구축하려는 것은 **상설 '동맹협력메카니즘'(Alliance Coordination Mechanism)**입니다.\n",
            "\n",
            "이 메커니즘은 미·일 양국의 외교, 국방, 해양안보 등 각 부처의 고위 관료들로 구성된 합동기구로서, 다음과 같은 역할을 수행하게 됩니다.\n",
            "\n",
            "**미·일 동맹 협력 정책 및 계획의 **협의 및 조율\n",
            "**양국 군사력의 연합훈련 및 운영 협력\n",
            "**정보 및 정찰 활동 공동 수행\n",
            "**미·일 간의 군사기술 및 장비 호환성 향상 협력\n",
            "**지역 및 국제 안보 문제에 대한 협의 협력\n",
            "핵심 목표는 다음과 같습니다.\n",
            "\n",
            "**미·일 동맹의 효율성 및 효과성 극대화\n",
            "**양국 간의 **군사적 협력 강화\n",
            "**아시아태평양 지역의 평화 및 안정 유지\n",
            "동맹협력메카니즘은 다음과 같은 구성원으로 구성됩니다.\n",
            "\n",
            "외교, 국방, 해양안보 각 부처의 고위 관료\n",
            "합동참모본부 기획 참모\n",
            "각 군 사령관\n",
            "**필요에 따라 전문가\n",
            "운영 방식은 다음과 같습니다.\n",
            "\n",
            "**정기적인 회의 개최\n",
            "**비상시 긴급 연락 체계 구축\n",
            "**영구적인 사무실 운영\n",
            "기대 효과는 다음과 같습니다.\n",
            "\n",
            "**미·일 동맹의 강화\n",
            "**아시아태평양 지역의 안보 환경 개선\n",
            "**국제 사회의 평화 및 안정 에 기여\n",
            "동맹협력메카니즘은 아직 구체적인 운영 방식이 결정되지 않은 부분도 있지만, 미·일 동맹 협력 강화에 중추적인 역할을 할 것으로 기대됩니다.\n",
            "\n"
          ]
        }
      ]
    },
    {
      "cell_type": "code",
      "source": [
        "extracted_data[7]"
      ],
      "metadata": {
        "colab": {
          "base_uri": "https://localhost:8080/"
        },
        "outputId": "b967a59d-5021-46e4-d292-7a0ebb224c72",
        "id": "4W-jCliAP_NV"
      },
      "execution_count": null,
      "outputs": [
        {
          "output_type": "execute_result",
          "data": {
            "text/plain": [
              "{'context': '3. 신 미·일방위협력지침의 주요내용\\n신 미·일방위협력지침은 다음과 같은 측면에서 1997년의 미·일방위협력지침과 차이가 있다.\\n첫째, 미·일 동맹의 활동범위가 기존의 방위협력지침에서 설정한 일본과 주변지역은 물론 아·태지역 및 전 세계로 확대되었다.\\n둘째, 안보협력상황을 ‘평화시’, ‘일본의 평화와 안보에 대한 중대한 위협상황’, ‘일본이 군사적 외침을 받는 상황’, ‘일본이 아닌 미국과 다른 나라가 군사적 외침을 받는 상황 ’, ‘일본에서 대규모 재해가 발생한 상황’ 등 5가지로 확대하였다.\\n셋째, 미·일 동맹 협력추진체계를 확대하고 통합성을 강화하였다. 이를 위해 미·일 동맹 협력을 범정부적 접근법이라고 명시하고 상설‘동맹협력메카니즘’(Alliance Coordination Mechanism)을 구축하기로 하였다.\\n넷째, 평시의 안보협력 범주를 확대하였다. 이 전과 달리 정보와 감시활동은 물론 탐지(ISR: Intelligence, Suveillance, Reconnaissance) 활동까지 통합적으로 협력하기로 하였다. 또한 평시에 탄도미사일을 포함하는 공중방어와 해상안보까지 양자 간의 안보협력 범주에 포함하였다.',\n",
              " 'question': '새로운 미·일방위협력지침에 따르면 무엇을 통해 미국과 일본의 동맹 협력추진체계를 확대하려고 해',\n",
              " 'answer': '동맹협력메카니즘'}"
            ]
          },
          "metadata": {},
          "execution_count": 54
        }
      ]
    },
    {
      "cell_type": "code",
      "source": [
        "질문_prompt = format_context_question(extracted_data[7])\n",
        "질문_prompt"
      ],
      "metadata": {
        "colab": {
          "base_uri": "https://localhost:8080/",
          "height": 122
        },
        "outputId": "5cf17fbe-95df-4474-94d2-2b834efbb2ac",
        "id": "3ZwrJwesP_No"
      },
      "execution_count": null,
      "outputs": [
        {
          "output_type": "execute_result",
          "data": {
            "text/plain": [
              "'Context: 3. 신 미·일방위협력지침의 주요내용\\n신 미·일방위협력지침은 다음과 같은 측면에서 1997년의 미·일방위협력지침과 차이가 있다.\\n첫째, 미·일 동맹의 활동범위가 기존의 방위협력지침에서 설정한 일본과 주변지역은 물론 아·태지역 및 전 세계로 확대되었다.\\n둘째, 안보협력상황을 ‘평화시’, ‘일본의 평화와 안보에 대한 중대한 위협상황’, ‘일본이 군사적 외침을 받는 상황’, ‘일본이 아닌 미국과 다른 나라가 군사적 외침을 받는 상황 ’, ‘일본에서 대규모 재해가 발생한 상황’ 등 5가지로 확대하였다.\\n셋째, 미·일 동맹 협력추진체계를 확대하고 통합성을 강화하였다. 이를 위해 미·일 동맹 협력을 범정부적 접근법이라고 명시하고 상설‘동맹협력메카니즘’(Alliance Coordination Mechanism)을 구축하기로 하였다.\\n넷째, 평시의 안보협력 범주를 확대하였다. 이 전과 달리 정보와 감시활동은 물론 탐지(ISR: Intelligence, Suveillance, Reconnaissance) 활동까지 통합적으로 협력하기로 하였다. 또한 평시에 탄도미사일을 포함하는 공중방어와 해상안보까지 양자 간의 안보협력 범주에 포함하였다.\\nQuestion: 새로운 미·일방위협력지침에 따르면 무엇을 통해 미국과 일본의 동맹 협력추진체계를 확대하려고 해'"
            ],
            "application/vnd.google.colaboratory.intrinsic+json": {
              "type": "string"
            }
          },
          "metadata": {},
          "execution_count": 55
        }
      ]
    },
    {
      "cell_type": "code",
      "source": [
        "llama3_inference_result = generate_response(system_message=\"너는 주어진 Context를 토대로 Question에 답변하는 챗봇이야. Question에 대한 답변을 한국어로 답해줘.\",\n",
        "                             user_message=질문_prompt)\n",
        "print(llama3_inference_result)"
      ],
      "metadata": {
        "colab": {
          "base_uri": "https://localhost:8080/"
        },
        "outputId": "42644234-541b-402b-afbb-2e9b64c7085a",
        "id": "fPwLxgTZP_No"
      },
      "execution_count": null,
      "outputs": [
        {
          "output_type": "stream",
          "name": "stderr",
          "text": [
            "The attention mask and the pad token id were not set. As a consequence, you may observe unexpected behavior. Please pass your input's `attention_mask` to obtain reliable results.\n",
            "Setting `pad_token_id` to `eos_token_id`:128001 for open-end generation.\n"
          ]
        },
        {
          "output_type": "stream",
          "name": "stdout",
          "text": [
            "신 미·일방위협력지침에 따르면, 미국과 일본의 동맹 협력추진체계를 확대하기 위해 상설 '동맹협력메카니즘'(Alliance Coordination Mechanism)을 구축하기로 하였다.\n"
          ]
        }
      ]
    },
    {
      "cell_type": "code",
      "source": [
        "# 대표 LLM별 번역 추론 성능 비교\n",
        "ground_truth_text = extracted_data[7]['answer']\n",
        "llama_text = llama3_inference_result\n",
        "gpt4_text = \"새로운 미·일방위협력지침에 따르면 미국과 일본은 '동맹협력메카니즘'(Alliance Coordination Mechanism)을 구축하여 동맹 협력추진체계를 확대하려고 합니다. 이 메카니즘은 범정부적 접근법을 기반으로 하며, 동맹 간의 협력 통합성을 강화하는 데 목적을 두고 있습니다.\"\n",
        "gpt35_text = \"새로운 미·일방위협력지침에 따르면 미국과 일본의 동맹 협력추진체계를 확대하기 위해 상설 '동맹협력메카니즘'을 구축하고, 미·일 동맹 협력을 범정부적으로 접근하는 방법을 명시했습니다.\"\n",
        "clova_text = \"새로운 미·일방위협력지침에 따르면, 미국과 일본의 동맹 협력추진체계를 확대하고 통합성을 강화하기 위해 '동맹협력메카니즘'(Alliance Coordination Mechanism)을 구축하기로 하였습니다.\"\n",
        "gemini_text = \"\"\"새로운 미·일방위협력지침에 따르면 미국과 일본은 다음과 같은 방식으로 동맹 협력 추진 체계를 확대하려고 합니다.\n",
        "\n",
        "1. 범정부적 접근법 도입:\n",
        "\n",
        "양국 정부의 모든 부처와 기관이 동맹 협력에 참여하도록 하여 협력의 범위와 심도를 확대합니다.\n",
        "외교, 국방, 경제, 과학기술 등 모든 분야에서 상호 협력을 강화합니다.\n",
        "2. 상설 '동맹협력메카니즘' 구축:\n",
        "\n",
        "양국 정부 고위 관료로 구성된 '동맹협력메카니즘'을 설립하여 정기적인 협의와 협력을 진행합니다.\n",
        "각 부처 및 기관 간의 정보 공유와 협력을 활성화하고, 정책을 조율합니다.\n",
        "동맹 협력 관련 현안을 신속かつ 효율적으로 처리합니다.\n",
        "3. 정보 공유 및 협력 강화:\n",
        "\n",
        "정보와 감시 활동, 탐지 활동 등을 통합적으로 협력하여 상호 안보 위협에 대한 인지 능력을 강화합니다.\n",
        "사이버 공격, 테러, 해양 안보 위협 등 다양한 분야에서 정보를 공유하고 협력하여 대응합니다.\n",
        "우주, 전자전 등 신기술 분야의 정보 공유도 적극적으로 추진합니다.\n",
        "4. 평시 안보 협력 확대:\n",
        "\n",
        "탄도 미사일 방어, 해상 안보 등 평시에도 발생할 수 있는 안보 위협에 대비하여 협력합니다.\n",
        "공동 군사 훈련, 연합 작전 등을 통해 상호 운영 능력을 강화합니다.\n",
        "재난 발생 시, 인도주의적 지원 및 구조 활동에서도 협력합니다.\n",
        "5. 아태지역 및 전 세계 협력:\n",
        "\n",
        "동맹 협력 범위를 기존의 일본과 주변 지역에서 아태지역 및 전 세계로 확대합니다.\n",
        "인도-태평양 지역의 자유로운 항해, 질서 유지, 경제 번영을 위해 협력합니다.\n",
        "국제 사회의 평화와 안정에 기여하기 위해 공동으로 노력합니다.\n",
        "이처럼 새로운 미·일방위협력지침은 다양한 분야에서의 협력을 강화하고, 동맹 협력 체계를 보다 체계적이고 효율적으로 구축하기 위한 구체적인 방안을 제시하고 있습니다. 이는 양국의 안보를 강화하고, 아태지역 및 전 세계의 평화와 안정에 기여하는 데 중요한 역할을 할 것으로 기대됩니다.\n",
        "\"\"\"\n",
        "\n",
        "# Call the function to display the example texts\n",
        "print_text_comparison(ground_truth_text, llama_text, gpt4_text, gpt35_text, clova_text, gemini_text)"
      ],
      "metadata": {
        "colab": {
          "base_uri": "https://localhost:8080/"
        },
        "id": "kUWXby12PFk0",
        "outputId": "108bd6d2-8031-4038-977a-23751baf5286"
      },
      "execution_count": null,
      "outputs": [
        {
          "output_type": "stream",
          "name": "stdout",
          "text": [
            "Ground Truth:\n",
            "동맹협력메카니즘\n",
            "\n",
            "Llama:\n",
            "신 미·일방위협력지침에 따르면, 미국과 일본의 동맹 협력추진체계를 확대하기 위해 상설 '동맹협력메카니즘'(Alliance Coordination Mechanism)을 구축하기로 하였다.\n",
            "\n",
            "GPT-4:\n",
            "새로운 미·일방위협력지침에 따르면 미국과 일본은 '동맹협력메카니즘'(Alliance Coordination Mechanism)을 구축하여 동맹 협력추진체계를 확대하려고 합니다. 이 메카니즘은 범정부적 접근법을 기반으로 하며, 동맹 간의 협력 통합성을 강화하는 데 목적을 두고 있습니다.\n",
            "\n",
            "GPT-3.5:\n",
            "새로운 미·일방위협력지침에 따르면 미국과 일본의 동맹 협력추진체계를 확대하기 위해 상설 '동맹협력메카니즘'을 구축하고, 미·일 동맹 협력을 범정부적으로 접근하는 방법을 명시했습니다.\n",
            "\n",
            "Clova:\n",
            "새로운 미·일방위협력지침에 따르면, 미국과 일본의 동맹 협력추진체계를 확대하고 통합성을 강화하기 위해 '동맹협력메카니즘'(Alliance Coordination Mechanism)을 구축하기로 하였습니다.\n",
            "\n",
            "Gemini:\n",
            "새로운 미·일방위협력지침에 따르면 미국과 일본은 다음과 같은 방식으로 동맹 협력 추진 체계를 확대하려고 합니다.\n",
            "\n",
            "1. 범정부적 접근법 도입:\n",
            "\n",
            "양국 정부의 모든 부처와 기관이 동맹 협력에 참여하도록 하여 협력의 범위와 심도를 확대합니다.\n",
            "외교, 국방, 경제, 과학기술 등 모든 분야에서 상호 협력을 강화합니다.\n",
            "2. 상설 '동맹협력메카니즘' 구축:\n",
            "\n",
            "양국 정부 고위 관료로 구성된 '동맹협력메카니즘'을 설립하여 정기적인 협의와 협력을 진행합니다.\n",
            "각 부처 및 기관 간의 정보 공유와 협력을 활성화하고, 정책을 조율합니다.\n",
            "동맹 협력 관련 현안을 신속かつ 효율적으로 처리합니다.\n",
            "3. 정보 공유 및 협력 강화:\n",
            "\n",
            "정보와 감시 활동, 탐지 활동 등을 통합적으로 협력하여 상호 안보 위협에 대한 인지 능력을 강화합니다.\n",
            "사이버 공격, 테러, 해양 안보 위협 등 다양한 분야에서 정보를 공유하고 협력하여 대응합니다.\n",
            "우주, 전자전 등 신기술 분야의 정보 공유도 적극적으로 추진합니다.\n",
            "4. 평시 안보 협력 확대:\n",
            "\n",
            "탄도 미사일 방어, 해상 안보 등 평시에도 발생할 수 있는 안보 위협에 대비하여 협력합니다.\n",
            "공동 군사 훈련, 연합 작전 등을 통해 상호 운영 능력을 강화합니다.\n",
            "재난 발생 시, 인도주의적 지원 및 구조 활동에서도 협력합니다.\n",
            "5. 아태지역 및 전 세계 협력:\n",
            "\n",
            "동맹 협력 범위를 기존의 일본과 주변 지역에서 아태지역 및 전 세계로 확대합니다.\n",
            "인도-태평양 지역의 자유로운 항해, 질서 유지, 경제 번영을 위해 협력합니다.\n",
            "국제 사회의 평화와 안정에 기여하기 위해 공동으로 노력합니다.\n",
            "이처럼 새로운 미·일방위협력지침은 다양한 분야에서의 협력을 강화하고, 동맹 협력 체계를 보다 체계적이고 효율적으로 구축하기 위한 구체적인 방안을 제시하고 있습니다. 이는 양국의 안보를 강화하고, 아태지역 및 전 세계의 평화와 안정에 기여하는 데 중요한 역할을 할 것으로 기대됩니다.\n",
            "\n"
          ]
        }
      ]
    },
    {
      "cell_type": "code",
      "source": [
        "extracted_data[8]"
      ],
      "metadata": {
        "colab": {
          "base_uri": "https://localhost:8080/"
        },
        "outputId": "a3068090-dfe4-4733-b54a-2127ca6dee9e",
        "id": "fx6hPLmgRPCo"
      },
      "execution_count": null,
      "outputs": [
        {
          "output_type": "execute_result",
          "data": {
            "text/plain": [
              "{'context': '4. 신 미·일방위협력지침의 주요쟁점\\n(1) 한국의 외교적 고립화\\n신 미·일방위협력지침에 대해 국내 일각에서는 한국의 외교적 고립화를 주장하고 있다. 이러한 주장은 지난 2015년 4월 22일 인도네시아 자카르타에서 개최된 반둥회의를 계기로 중·일 정상회담이 개최되는 등 중·일관계도 정상화되는 듯한 분위기가 형성되면서 더욱 부각되고 있는데, 이는 한국이 일본과의 갈등관계를 유지하면서도 실제적인 성과가 없다는 판단에 따른 것이다. 즉 외교전략의 부재로 인해 대 미국과 대 중국 및 대 일본관계에서 한국의 국익을 제대로 챙기지 못하고 있다는 주장이다.\\n',\n",
              " 'question': '한국의 외교적 고립에 대한 염려를 더 크게 한 중일 정상회담은 무엇으로 인해 성사됐어',\n",
              " 'answer': '반둥회의'}"
            ]
          },
          "metadata": {},
          "execution_count": 61
        }
      ]
    },
    {
      "cell_type": "code",
      "source": [
        "질문_prompt = format_context_question(extracted_data[8])\n",
        "질문_prompt"
      ],
      "metadata": {
        "colab": {
          "base_uri": "https://localhost:8080/",
          "height": 87
        },
        "outputId": "83ef9faa-7c41-4f9c-8323-4ff647b866d9",
        "id": "YI6ii2rtRPDC"
      },
      "execution_count": null,
      "outputs": [
        {
          "output_type": "execute_result",
          "data": {
            "text/plain": [
              "'Context: 4. 신 미·일방위협력지침의 주요쟁점\\n(1) 한국의 외교적 고립화\\n신 미·일방위협력지침에 대해 국내 일각에서는 한국의 외교적 고립화를 주장하고 있다. 이러한 주장은 지난 2015년 4월 22일 인도네시아 자카르타에서 개최된 반둥회의를 계기로 중·일 정상회담이 개최되는 등 중·일관계도 정상화되는 듯한 분위기가 형성되면서 더욱 부각되고 있는데, 이는 한국이 일본과의 갈등관계를 유지하면서도 실제적인 성과가 없다는 판단에 따른 것이다. 즉 외교전략의 부재로 인해 대 미국과 대 중국 및 대 일본관계에서 한국의 국익을 제대로 챙기지 못하고 있다는 주장이다.\\n\\nQuestion: 한국의 외교적 고립에 대한 염려를 더 크게 한 중일 정상회담은 무엇으로 인해 성사됐어'"
            ],
            "application/vnd.google.colaboratory.intrinsic+json": {
              "type": "string"
            }
          },
          "metadata": {},
          "execution_count": 62
        }
      ]
    },
    {
      "cell_type": "code",
      "source": [
        "llama3_inference_result = generate_response(system_message=\"너는 주어진 Context를 토대로 Question에 답변하는 챗봇이야. Question에 대한 답변을 한국어로 답해줘.\",\n",
        "                             user_message=질문_prompt)\n",
        "print(llama3_inference_result)"
      ],
      "metadata": {
        "colab": {
          "base_uri": "https://localhost:8080/"
        },
        "outputId": "6c0fd4ab-f8f4-48fb-a952-7e8adb2b3b06",
        "id": "m54vwBcERPDD"
      },
      "execution_count": null,
      "outputs": [
        {
          "output_type": "stream",
          "name": "stderr",
          "text": [
            "The attention mask and the pad token id were not set. As a consequence, you may observe unexpected behavior. Please pass your input's `attention_mask` to obtain reliable results.\n",
            "Setting `pad_token_id` to `eos_token_id`:128001 for open-end generation.\n"
          ]
        },
        {
          "output_type": "stream",
          "name": "stdout",
          "text": [
            "중일 정상회담이 성사된 것은 2015년 4월 22일 인도네시아 자카르타에서 개최된 반둥회의를 계기로 발생한 중일관계의 정상화 분위기 때문입니다.\n"
          ]
        }
      ]
    },
    {
      "cell_type": "code",
      "source": [
        "# 대표 LLM별 번역 추론 성능 비교\n",
        "ground_truth_text = extracted_data[8]['answer']\n",
        "llama_text = llama3_inference_result\n",
        "gpt4_text = \"한국의 외교적 고립에 대한 염려를 더 크게 한 중일 정상회담은 2015년 4월 22일 인도네시아 자카르타에서 개최된 반둥회의를 계기로 성사되었습니다. 이 회의를 통해 중·일 간의 관계가 정상화되는 분위기가 형성되었고, 이는 한국이 일본과의 갈등을 유지하고 있음에도 불구하고 외교적으로 실질적인 성과를 보지 못하는 상황과 맞물려 한국의 외교적 고립화에 대한 우려를 증폭시켰습니다.\"\n",
        "gpt35_text = \"중일 정상회담은 2015년 4월 22일에 개최된 반둥회의를 계기로 이루어졌어요. 이 회의를 통해 중일 관계가 일부 정상화되는 분위기가 형성되면서 정상회담이 이루어졌습니다.\"\n",
        "clova_text = \"한국의 외교적 고립에 대한 염려를 더 크게 한 중일 정상회담은 2015년 4월 22일 인도네시아 자카르타에서 개최된 반둥회의를 계기로 성사되었습니다. 이 회담은 중·일관계가 정상화되는 듯한 분위기가 형성되면서 주목을 받았습니다.\"\n",
        "gemini_text = \"\"\"4. 신 미·일방위협력지침의 주요 쟁점\n",
        "\n",
        "(1) 한국의 외교적 고립화\n",
        "\n",
        "신 미·일방위협력지침에 대한 국내 논쟁 중 하나는 한국의 외교적 고립화 가능성입니다. 일부에서는 이 지침이 한국을 미국과 일본의 전략적 이익에 종속시키고, 중국과의 관계 악화를 초래하여 한국을 외교적으로 고립시킬 수 있다고 우려합니다.\n",
        "\n",
        "이러한 우려는 특히 2015년 4월 22일 인도네시아 자카르타에서 열린 반둥회의를 계기로 더욱 강화되었습니다. 이 회의에서 중국과 일본은 정상회담을 개최하며 관계 개선의 모습을 보였습니다. 반면, 한국은 일본과의 갈등 관계를 유지하면서도 실질적인 성과를 거두지 못하고 있다는 평가를 받았습니다.\n",
        "\n",
        "결과적으로, 신 미·일방위협력지침이 한국의 외교적 고립화를 초래할 수 있다는 우려는 다음과 같은 요인들에 근거합니다.\n",
        "\n",
        "중·일 관계 개선: 2015년 반둥회의를皮切り로 중국과 일본은 관계 개선 움직임을 보이고 있습니다. 이는 한국이 미국과 일본 편에 서면서 중국과의 관계 악화를 초래할 수 있다는 우려를 불러일으켰습니다.\n",
        "외교 전략 부재: 일부에서는 한국 정부가 미국, 일본, 중국과의 관계를 효과적으로 관리할 수 있는 명확한 외교 전략을 가지고 있지 못하다는 지적을 합니다. 이는 한국이 국익을 제대로 챙기지 못하고 외교적으로 고립될 수 있다는 우려로 이어집니다.\n",
        "미·일과의 갈등 심화: 신 미·일방위협력지침이 실행될 경우, 한국은 미국과 일본과의 군사 협력을 강화하게 됩니다. 하지만 이는 중국과의 관계를 더욱 악화시키고, 한반도의 긴장을 고조시킬 수 있다는 우려가 있습니다.\n",
        "따라서 신 미·일방위협력지침은 한국의 외교적 안보에 중요한 영향을 미칠 수 있는 정책으로서, 국내에서는 다양한 논의와 우려가 제기되고 있습니다.\n",
        "\"\"\"\n",
        "\n",
        "# Call the function to display the example texts\n",
        "print_text_comparison(ground_truth_text, llama_text, gpt4_text, gpt35_text, clova_text, gemini_text)"
      ],
      "metadata": {
        "colab": {
          "base_uri": "https://localhost:8080/"
        },
        "id": "GhT_oZiBRRyv",
        "outputId": "4aaa7abe-7512-4801-99b6-428f57332963"
      },
      "execution_count": null,
      "outputs": [
        {
          "output_type": "stream",
          "name": "stdout",
          "text": [
            "Ground Truth:\n",
            "반둥회의\n",
            "\n",
            "Llama:\n",
            "중일 정상회담이 성사된 것은 2015년 4월 22일 인도네시아 자카르타에서 개최된 반둥회의를 계기로 발생한 중일관계의 정상화 분위기 때문입니다.\n",
            "\n",
            "GPT-4:\n",
            "한국의 외교적 고립에 대한 염려를 더 크게 한 중일 정상회담은 2015년 4월 22일 인도네시아 자카르타에서 개최된 반둥회의를 계기로 성사되었습니다. 이 회의를 통해 중·일 간의 관계가 정상화되는 분위기가 형성되었고, 이는 한국이 일본과의 갈등을 유지하고 있음에도 불구하고 외교적으로 실질적인 성과를 보지 못하는 상황과 맞물려 한국의 외교적 고립화에 대한 우려를 증폭시켰습니다.\n",
            "\n",
            "GPT-3.5:\n",
            "중일 정상회담은 2015년 4월 22일에 개최된 반둥회의를 계기로 이루어졌어요. 이 회의를 통해 중일 관계가 일부 정상화되는 분위기가 형성되면서 정상회담이 이루어졌습니다.\n",
            "\n",
            "Clova:\n",
            "한국의 외교적 고립에 대한 염려를 더 크게 한 중일 정상회담은 2015년 4월 22일 인도네시아 자카르타에서 개최된 반둥회의를 계기로 성사되었습니다. 이 회담은 중·일관계가 정상화되는 듯한 분위기가 형성되면서 주목을 받았습니다.\n",
            "\n",
            "Gemini:\n",
            "4. 신 미·일방위협력지침의 주요 쟁점\n",
            "\n",
            "(1) 한국의 외교적 고립화\n",
            "\n",
            "신 미·일방위협력지침에 대한 국내 논쟁 중 하나는 한국의 외교적 고립화 가능성입니다. 일부에서는 이 지침이 한국을 미국과 일본의 전략적 이익에 종속시키고, 중국과의 관계 악화를 초래하여 한국을 외교적으로 고립시킬 수 있다고 우려합니다.\n",
            "\n",
            "이러한 우려는 특히 2015년 4월 22일 인도네시아 자카르타에서 열린 반둥회의를 계기로 더욱 강화되었습니다. 이 회의에서 중국과 일본은 정상회담을 개최하며 관계 개선의 모습을 보였습니다. 반면, 한국은 일본과의 갈등 관계를 유지하면서도 실질적인 성과를 거두지 못하고 있다는 평가를 받았습니다.\n",
            "\n",
            "결과적으로, 신 미·일방위협력지침이 한국의 외교적 고립화를 초래할 수 있다는 우려는 다음과 같은 요인들에 근거합니다.\n",
            "\n",
            "중·일 관계 개선: 2015년 반둥회의를皮切り로 중국과 일본은 관계 개선 움직임을 보이고 있습니다. 이는 한국이 미국과 일본 편에 서면서 중국과의 관계 악화를 초래할 수 있다는 우려를 불러일으켰습니다.\n",
            "외교 전략 부재: 일부에서는 한국 정부가 미국, 일본, 중국과의 관계를 효과적으로 관리할 수 있는 명확한 외교 전략을 가지고 있지 못하다는 지적을 합니다. 이는 한국이 국익을 제대로 챙기지 못하고 외교적으로 고립될 수 있다는 우려로 이어집니다.\n",
            "미·일과의 갈등 심화: 신 미·일방위협력지침이 실행될 경우, 한국은 미국과 일본과의 군사 협력을 강화하게 됩니다. 하지만 이는 중국과의 관계를 더욱 악화시키고, 한반도의 긴장을 고조시킬 수 있다는 우려가 있습니다.\n",
            "따라서 신 미·일방위협력지침은 한국의 외교적 안보에 중요한 영향을 미칠 수 있는 정책으로서, 국내에서는 다양한 논의와 우려가 제기되고 있습니다.\n",
            "\n"
          ]
        }
      ]
    },
    {
      "cell_type": "code",
      "source": [
        "extracted_data[9]"
      ],
      "metadata": {
        "colab": {
          "base_uri": "https://localhost:8080/"
        },
        "outputId": "13b33aec-ea10-4727-89e2-38df5a4a305a",
        "id": "p81SntL8SUS4"
      },
      "execution_count": null,
      "outputs": [
        {
          "output_type": "execute_result",
          "data": {
            "text/plain": [
              "{'context': '4. 신 미·일방위협력지침의 주요쟁점\\n(1) 한국의 외교적 고립화\\n신 미·일방위협력지침에 대해 국내 일각에서는 한국의 외교적 고립화를 주장하고 있다. 이러한 주장은 지난 2015년 4월 22일 인도네시아 자카르타에서 개최된 반둥회의를 계기로 중·일 정상회담이 개최되는 등 중·일관계도 정상화되는 듯한 분위기가 형성되면서 더욱 부각되고 있는데, 이는 한국이 일본과의 갈등관계를 유지하면서도 실제적인 성과가 없다는 판단에 따른 것이다. 즉 외교전략의 부재로 인해 대 미국과 대 중국 및 대 일본관계에서 한국의 국익을 제대로 챙기지 못하고 있다는 주장이다.\\n',\n",
              " 'question': '뭘 계기로 이루어진 중일 정상회담으로 대한민국은 외교적인 소외를 걱정하게 됐어',\n",
              " 'answer': '반둥회의'}"
            ]
          },
          "metadata": {},
          "execution_count": 67
        }
      ]
    },
    {
      "cell_type": "code",
      "source": [
        "질문_prompt = format_context_question(extracted_data[9])\n",
        "질문_prompt"
      ],
      "metadata": {
        "colab": {
          "base_uri": "https://localhost:8080/",
          "height": 87
        },
        "outputId": "a712abf9-34ef-489f-d8c7-5cd53af43dd2",
        "id": "-9AlKRnaSUS6"
      },
      "execution_count": null,
      "outputs": [
        {
          "output_type": "execute_result",
          "data": {
            "text/plain": [
              "'Context: 4. 신 미·일방위협력지침의 주요쟁점\\n(1) 한국의 외교적 고립화\\n신 미·일방위협력지침에 대해 국내 일각에서는 한국의 외교적 고립화를 주장하고 있다. 이러한 주장은 지난 2015년 4월 22일 인도네시아 자카르타에서 개최된 반둥회의를 계기로 중·일 정상회담이 개최되는 등 중·일관계도 정상화되는 듯한 분위기가 형성되면서 더욱 부각되고 있는데, 이는 한국이 일본과의 갈등관계를 유지하면서도 실제적인 성과가 없다는 판단에 따른 것이다. 즉 외교전략의 부재로 인해 대 미국과 대 중국 및 대 일본관계에서 한국의 국익을 제대로 챙기지 못하고 있다는 주장이다.\\n\\nQuestion: 뭘 계기로 이루어진 중일 정상회담으로 대한민국은 외교적인 소외를 걱정하게 됐어'"
            ],
            "application/vnd.google.colaboratory.intrinsic+json": {
              "type": "string"
            }
          },
          "metadata": {},
          "execution_count": 69
        }
      ]
    },
    {
      "cell_type": "code",
      "source": [
        "llama3_inference_result = generate_response(system_message=\"너는 주어진 Context를 토대로 Question에 답변하는 챗봇이야. Question에 대한 답변을 한국어로 답해줘.\",\n",
        "                             user_message=질문_prompt)\n",
        "print(llama3_inference_result)"
      ],
      "metadata": {
        "colab": {
          "base_uri": "https://localhost:8080/"
        },
        "outputId": "0283c747-b60d-4773-e9c5-dcf070e1a997",
        "id": "DUUJmYTySUS6"
      },
      "execution_count": null,
      "outputs": [
        {
          "output_type": "stream",
          "name": "stderr",
          "text": [
            "The attention mask and the pad token id were not set. As a consequence, you may observe unexpected behavior. Please pass your input's `attention_mask` to obtain reliable results.\n",
            "Setting `pad_token_id` to `eos_token_id`:128001 for open-end generation.\n"
          ]
        },
        {
          "output_type": "stream",
          "name": "stdout",
          "text": [
            "인도네시아 자카르타에서 개최된 반둥회의를 계기로 중·일 정상회담이 개최되는 듯한 분위기가 형성되었습니다.\n"
          ]
        }
      ]
    },
    {
      "cell_type": "code",
      "source": [
        "# 대표 LLM별 번역 추론 성능 비교\n",
        "ground_truth_text = extracted_data[9]['answer']\n",
        "llama_text = llama3_inference_result\n",
        "gpt4_text = \"중일 정상회담은 2015년 4월 22일 인도네시아 자카르타에서 개최된 반둥회의를 계기로 이루어졌습니다. 이로 인해 중·일관계가 정상화되는 분위기가 형성되면서 대한민국은 외교적인 소외를 걱정하게 되었습니다.\"\n",
        "gpt35_text = \"대한민국이 외교적인 소외를 걱정하게 된 계기는 중일 정상회담이 이루어진 후였어요. 이 회담은 2015년 4월 22일 인도네시아 자카르타에서 반둥회의를 계기로 진행되었고, 이때 중일 관계가 일부 정상화되는 분위기가 형성되었어요. 그런데 이런 과정에서 대한민국은 자신의 외교전략이 부족하다는 인식을 하게 되었고, 일본과의 갈등 관계 속에서도 실질적인 성과를 이루지 못한다는 판단이 나타났어요. 그 결과, 대한민국은 미국과 중국, 그리고 일본과의 관계에서 외교적으로 소외되는 상황에 대해 우려하게 되었죠.\"\n",
        "clova_text = \"중·일 정상회담은 지난 2015년 4월 22일 인도네시아 자카르타에서 개최된 반둥회의를 계기로 이루어졌습니다. 이 회담을 계기로 중·일관계가 정상화되는 듯한 분위기가 형성되면서 한국의 외교적 고립화에 대한 우려가 제기되었습니다. 이는 한국이 일본과의 갈등관계를 유지하면서도 실제적인 성과가 없다는 판단에 따른 것으로, 외교전략의 부재로 인해 대 미국과 대 중국 및 대 일본관계에서 한국의 국익을 제대로 챙기지 못하고 있다는 주장이 제기되었습니다.\"\n",
        "gemini_text = \"\"\"신 미·일 방위협력지침과 대한민국 외교적 고립화: 중일 정상회담이 촉발한 우려\n",
        "1. 배경: 2015년 반둥회의와 중·일 관계 정상화 분위기\n",
        "\n",
        "2015년 4월 22일 인도네시아 자카르타에서 개최된 반둥회의를 계기로 중·일 정상회담이 개최되었습니다. 이는 중·일 관계 정상화를 향한 움직임으로 해석되었으며, 이후 양국은 협력을 강화하는 모습을 보였습니다.\n",
        "\n",
        "2. 한국의 우려: 외교적 고립화 가능성\n",
        "\n",
        "이러한 상황 속에서 한국 일각에서는 신 미·일 방위협력지침으로 인해 한국이 외교적으로 고립될 가능성을 우려하기 시작했습니다. 특히, 다음과 같은 두 가지 요인이 주요 쟁점으로 떠올랐습니다.\n",
        "\n",
        "한·미·일 삼각 동맹 구축 논의: 일부에서는 신 지침이 한·미·일 삼각 동맹 구축으로 이어져 한국이 미국과 일본의 전략에 종속될 수 있다고 우려했습니다. 이는 한국의 외교적 자율성을 제한하고, 중국과의 관계 악화로 이어질 수 있다는 주장입니다.\n",
        "역사 문제: 과거 역사 문제로 인해 한국과 일본 간에는 갈등이 지속되고 있습니다. 신 지침이 일본의 군사적 역할 강화를 초래할 경우, 한반도의 긴장 고조와 역사 문제 해결의 어려움을 야기할 수 있다는 우려가 제기되었습니다.\n",
        "3. 한국 정부의 입장: 균형 외교 노력 강조\n",
        "\n",
        "이러한 우려에 대해 한국 정부는 균형 외교를 통해 미국, 일본, 중국과의 관계를 모두 유지하면서 국익을 추구할 것이라고 입장을 밝혔습니다. 또한, 신 지침은 한반도의 평화와 안정을 위한 방위 협력을 강화하는 데 기여한다고 강조했습니다.\n",
        "\n",
        "4. 지속적인 논의와 평가 필요\n",
        "\n",
        "신 미·일 방위협력지침이 한국의 외교적 입장에 미치는 영향은 아직 명확하게 드러나지 않았습니다. 향후 양국 관계와 한반도 상황 변화에 따라 지속적인 논의와 평가가 필요할 것으로 예상됩니다.\n",
        "\"\"\"\n",
        "\n",
        "# Call the function to display the example texts\n",
        "print_text_comparison(ground_truth_text, llama_text, gpt4_text, gpt35_text, clova_text, gemini_text)"
      ],
      "metadata": {
        "colab": {
          "base_uri": "https://localhost:8080/"
        },
        "id": "F6lHQwEVSWWX",
        "outputId": "7f3f55a5-5f61-4f55-ec8b-da5c43d40e73"
      },
      "execution_count": null,
      "outputs": [
        {
          "output_type": "stream",
          "name": "stdout",
          "text": [
            "Ground Truth:\n",
            "반둥회의\n",
            "\n",
            "Llama:\n",
            "인도네시아 자카르타에서 개최된 반둥회의를 계기로 중·일 정상회담이 개최되는 듯한 분위기가 형성되었습니다.\n",
            "\n",
            "GPT-4:\n",
            "중일 정상회담은 2015년 4월 22일 인도네시아 자카르타에서 개최된 반둥회의를 계기로 이루어졌습니다. 이로 인해 중·일관계가 정상화되는 분위기가 형성되면서 대한민국은 외교적인 소외를 걱정하게 되었습니다.\n",
            "\n",
            "GPT-3.5:\n",
            "대한민국이 외교적인 소외를 걱정하게 된 계기는 중일 정상회담이 이루어진 후였어요. 이 회담은 2015년 4월 22일 인도네시아 자카르타에서 반둥회의를 계기로 진행되었고, 이때 중일 관계가 일부 정상화되는 분위기가 형성되었어요. 그런데 이런 과정에서 대한민국은 자신의 외교전략이 부족하다는 인식을 하게 되었고, 일본과의 갈등 관계 속에서도 실질적인 성과를 이루지 못한다는 판단이 나타났어요. 그 결과, 대한민국은 미국과 중국, 그리고 일본과의 관계에서 외교적으로 소외되는 상황에 대해 우려하게 되었죠.\n",
            "\n",
            "Clova:\n",
            "중·일 정상회담은 지난 2015년 4월 22일 인도네시아 자카르타에서 개최된 반둥회의를 계기로 이루어졌습니다. 이 회담을 계기로 중·일관계가 정상화되는 듯한 분위기가 형성되면서 한국의 외교적 고립화에 대한 우려가 제기되었습니다. 이는 한국이 일본과의 갈등관계를 유지하면서도 실제적인 성과가 없다는 판단에 따른 것으로, 외교전략의 부재로 인해 대 미국과 대 중국 및 대 일본관계에서 한국의 국익을 제대로 챙기지 못하고 있다는 주장이 제기되었습니다.\n",
            "\n",
            "Gemini:\n",
            "신 미·일 방위협력지침과 대한민국 외교적 고립화: 중일 정상회담이 촉발한 우려\n",
            "1. 배경: 2015년 반둥회의와 중·일 관계 정상화 분위기\n",
            "\n",
            "2015년 4월 22일 인도네시아 자카르타에서 개최된 반둥회의를 계기로 중·일 정상회담이 개최되었습니다. 이는 중·일 관계 정상화를 향한 움직임으로 해석되었으며, 이후 양국은 협력을 강화하는 모습을 보였습니다.\n",
            "\n",
            "2. 한국의 우려: 외교적 고립화 가능성\n",
            "\n",
            "이러한 상황 속에서 한국 일각에서는 신 미·일 방위협력지침으로 인해 한국이 외교적으로 고립될 가능성을 우려하기 시작했습니다. 특히, 다음과 같은 두 가지 요인이 주요 쟁점으로 떠올랐습니다.\n",
            "\n",
            "한·미·일 삼각 동맹 구축 논의: 일부에서는 신 지침이 한·미·일 삼각 동맹 구축으로 이어져 한국이 미국과 일본의 전략에 종속될 수 있다고 우려했습니다. 이는 한국의 외교적 자율성을 제한하고, 중국과의 관계 악화로 이어질 수 있다는 주장입니다.\n",
            "역사 문제: 과거 역사 문제로 인해 한국과 일본 간에는 갈등이 지속되고 있습니다. 신 지침이 일본의 군사적 역할 강화를 초래할 경우, 한반도의 긴장 고조와 역사 문제 해결의 어려움을 야기할 수 있다는 우려가 제기되었습니다.\n",
            "3. 한국 정부의 입장: 균형 외교 노력 강조\n",
            "\n",
            "이러한 우려에 대해 한국 정부는 균형 외교를 통해 미국, 일본, 중국과의 관계를 모두 유지하면서 국익을 추구할 것이라고 입장을 밝혔습니다. 또한, 신 지침은 한반도의 평화와 안정을 위한 방위 협력을 강화하는 데 기여한다고 강조했습니다.\n",
            "\n",
            "4. 지속적인 논의와 평가 필요\n",
            "\n",
            "신 미·일 방위협력지침이 한국의 외교적 입장에 미치는 영향은 아직 명확하게 드러나지 않았습니다. 향후 양국 관계와 한반도 상황 변화에 따라 지속적인 논의와 평가가 필요할 것으로 예상됩니다.\n",
            "\n"
          ]
        }
      ]
    },
    {
      "cell_type": "code",
      "source": [],
      "metadata": {
        "id": "M8HJvlBjSn94"
      },
      "execution_count": null,
      "outputs": []
    },
    {
      "cell_type": "markdown",
      "source": [
        "# 추론 정확도에 대한 정량적 분석"
      ],
      "metadata": {
        "id": "IZNLJSzVRPZ2"
      }
    },
    {
      "cell_type": "code",
      "source": [
        "# LLama 3 : 100% (10/10)\n",
        "# GPT-4 : 100% (10/10)\n",
        "# GPT-3.5 : 90% (9/10)\n",
        "# Clova : 100% (10/10)\n",
        "# Gemini : 100% (10/10)"
      ],
      "metadata": {
        "id": "l1VKMyXsRN-5"
      },
      "execution_count": null,
      "outputs": []
    }
  ],
  "metadata": {
    "accelerator": "GPU",
    "colab": {
      "gpuType": "T4",
      "provenance": []
    },
    "kernelspec": {
      "display_name": "Python 3",
      "name": "python3"
    },
    "language_info": {
      "name": "python"
    },
    "widgets": {
      "application/vnd.jupyter.widget-state+json": {
        "947fd0d48a664d1f828637596e197fe3": {
          "model_module": "@jupyter-widgets/controls",
          "model_name": "HBoxModel",
          "model_module_version": "1.5.0",
          "state": {
            "_dom_classes": [],
            "_model_module": "@jupyter-widgets/controls",
            "_model_module_version": "1.5.0",
            "_model_name": "HBoxModel",
            "_view_count": null,
            "_view_module": "@jupyter-widgets/controls",
            "_view_module_version": "1.5.0",
            "_view_name": "HBoxView",
            "box_style": "",
            "children": [
              "IPY_MODEL_25206726de414aeea16a431b000d7679",
              "IPY_MODEL_26112c695f7540bc9e3174989e799b92",
              "IPY_MODEL_c4ef89e810ee4765bf430386cdaea2ac"
            ],
            "layout": "IPY_MODEL_a3f74a445812481fb48562facabfcf16"
          }
        },
        "25206726de414aeea16a431b000d7679": {
          "model_module": "@jupyter-widgets/controls",
          "model_name": "HTMLModel",
          "model_module_version": "1.5.0",
          "state": {
            "_dom_classes": [],
            "_model_module": "@jupyter-widgets/controls",
            "_model_module_version": "1.5.0",
            "_model_name": "HTMLModel",
            "_view_count": null,
            "_view_module": "@jupyter-widgets/controls",
            "_view_module_version": "1.5.0",
            "_view_name": "HTMLView",
            "description": "",
            "description_tooltip": null,
            "layout": "IPY_MODEL_f15d7c2bae154b919623bc72f3c5d54a",
            "placeholder": "​",
            "style": "IPY_MODEL_4208413c32974fd4a90e7ab0602290c4",
            "value": "tokenizer_config.json: 100%"
          }
        },
        "26112c695f7540bc9e3174989e799b92": {
          "model_module": "@jupyter-widgets/controls",
          "model_name": "FloatProgressModel",
          "model_module_version": "1.5.0",
          "state": {
            "_dom_classes": [],
            "_model_module": "@jupyter-widgets/controls",
            "_model_module_version": "1.5.0",
            "_model_name": "FloatProgressModel",
            "_view_count": null,
            "_view_module": "@jupyter-widgets/controls",
            "_view_module_version": "1.5.0",
            "_view_name": "ProgressView",
            "bar_style": "success",
            "description": "",
            "description_tooltip": null,
            "layout": "IPY_MODEL_228d24d538164fc98df9fa3e1707d37a",
            "max": 50982,
            "min": 0,
            "orientation": "horizontal",
            "style": "IPY_MODEL_b612bc94f68849fc958adc61853dab44",
            "value": 50982
          }
        },
        "c4ef89e810ee4765bf430386cdaea2ac": {
          "model_module": "@jupyter-widgets/controls",
          "model_name": "HTMLModel",
          "model_module_version": "1.5.0",
          "state": {
            "_dom_classes": [],
            "_model_module": "@jupyter-widgets/controls",
            "_model_module_version": "1.5.0",
            "_model_name": "HTMLModel",
            "_view_count": null,
            "_view_module": "@jupyter-widgets/controls",
            "_view_module_version": "1.5.0",
            "_view_name": "HTMLView",
            "description": "",
            "description_tooltip": null,
            "layout": "IPY_MODEL_93dedb2b0e1c48089f5d778042944c36",
            "placeholder": "​",
            "style": "IPY_MODEL_c820f63e25274391913268296daaeb3c",
            "value": " 51.0k/51.0k [00:00&lt;00:00, 2.67MB/s]"
          }
        },
        "a3f74a445812481fb48562facabfcf16": {
          "model_module": "@jupyter-widgets/base",
          "model_name": "LayoutModel",
          "model_module_version": "1.2.0",
          "state": {
            "_model_module": "@jupyter-widgets/base",
            "_model_module_version": "1.2.0",
            "_model_name": "LayoutModel",
            "_view_count": null,
            "_view_module": "@jupyter-widgets/base",
            "_view_module_version": "1.2.0",
            "_view_name": "LayoutView",
            "align_content": null,
            "align_items": null,
            "align_self": null,
            "border": null,
            "bottom": null,
            "display": null,
            "flex": null,
            "flex_flow": null,
            "grid_area": null,
            "grid_auto_columns": null,
            "grid_auto_flow": null,
            "grid_auto_rows": null,
            "grid_column": null,
            "grid_gap": null,
            "grid_row": null,
            "grid_template_areas": null,
            "grid_template_columns": null,
            "grid_template_rows": null,
            "height": null,
            "justify_content": null,
            "justify_items": null,
            "left": null,
            "margin": null,
            "max_height": null,
            "max_width": null,
            "min_height": null,
            "min_width": null,
            "object_fit": null,
            "object_position": null,
            "order": null,
            "overflow": null,
            "overflow_x": null,
            "overflow_y": null,
            "padding": null,
            "right": null,
            "top": null,
            "visibility": null,
            "width": null
          }
        },
        "f15d7c2bae154b919623bc72f3c5d54a": {
          "model_module": "@jupyter-widgets/base",
          "model_name": "LayoutModel",
          "model_module_version": "1.2.0",
          "state": {
            "_model_module": "@jupyter-widgets/base",
            "_model_module_version": "1.2.0",
            "_model_name": "LayoutModel",
            "_view_count": null,
            "_view_module": "@jupyter-widgets/base",
            "_view_module_version": "1.2.0",
            "_view_name": "LayoutView",
            "align_content": null,
            "align_items": null,
            "align_self": null,
            "border": null,
            "bottom": null,
            "display": null,
            "flex": null,
            "flex_flow": null,
            "grid_area": null,
            "grid_auto_columns": null,
            "grid_auto_flow": null,
            "grid_auto_rows": null,
            "grid_column": null,
            "grid_gap": null,
            "grid_row": null,
            "grid_template_areas": null,
            "grid_template_columns": null,
            "grid_template_rows": null,
            "height": null,
            "justify_content": null,
            "justify_items": null,
            "left": null,
            "margin": null,
            "max_height": null,
            "max_width": null,
            "min_height": null,
            "min_width": null,
            "object_fit": null,
            "object_position": null,
            "order": null,
            "overflow": null,
            "overflow_x": null,
            "overflow_y": null,
            "padding": null,
            "right": null,
            "top": null,
            "visibility": null,
            "width": null
          }
        },
        "4208413c32974fd4a90e7ab0602290c4": {
          "model_module": "@jupyter-widgets/controls",
          "model_name": "DescriptionStyleModel",
          "model_module_version": "1.5.0",
          "state": {
            "_model_module": "@jupyter-widgets/controls",
            "_model_module_version": "1.5.0",
            "_model_name": "DescriptionStyleModel",
            "_view_count": null,
            "_view_module": "@jupyter-widgets/base",
            "_view_module_version": "1.2.0",
            "_view_name": "StyleView",
            "description_width": ""
          }
        },
        "228d24d538164fc98df9fa3e1707d37a": {
          "model_module": "@jupyter-widgets/base",
          "model_name": "LayoutModel",
          "model_module_version": "1.2.0",
          "state": {
            "_model_module": "@jupyter-widgets/base",
            "_model_module_version": "1.2.0",
            "_model_name": "LayoutModel",
            "_view_count": null,
            "_view_module": "@jupyter-widgets/base",
            "_view_module_version": "1.2.0",
            "_view_name": "LayoutView",
            "align_content": null,
            "align_items": null,
            "align_self": null,
            "border": null,
            "bottom": null,
            "display": null,
            "flex": null,
            "flex_flow": null,
            "grid_area": null,
            "grid_auto_columns": null,
            "grid_auto_flow": null,
            "grid_auto_rows": null,
            "grid_column": null,
            "grid_gap": null,
            "grid_row": null,
            "grid_template_areas": null,
            "grid_template_columns": null,
            "grid_template_rows": null,
            "height": null,
            "justify_content": null,
            "justify_items": null,
            "left": null,
            "margin": null,
            "max_height": null,
            "max_width": null,
            "min_height": null,
            "min_width": null,
            "object_fit": null,
            "object_position": null,
            "order": null,
            "overflow": null,
            "overflow_x": null,
            "overflow_y": null,
            "padding": null,
            "right": null,
            "top": null,
            "visibility": null,
            "width": null
          }
        },
        "b612bc94f68849fc958adc61853dab44": {
          "model_module": "@jupyter-widgets/controls",
          "model_name": "ProgressStyleModel",
          "model_module_version": "1.5.0",
          "state": {
            "_model_module": "@jupyter-widgets/controls",
            "_model_module_version": "1.5.0",
            "_model_name": "ProgressStyleModel",
            "_view_count": null,
            "_view_module": "@jupyter-widgets/base",
            "_view_module_version": "1.2.0",
            "_view_name": "StyleView",
            "bar_color": null,
            "description_width": ""
          }
        },
        "93dedb2b0e1c48089f5d778042944c36": {
          "model_module": "@jupyter-widgets/base",
          "model_name": "LayoutModel",
          "model_module_version": "1.2.0",
          "state": {
            "_model_module": "@jupyter-widgets/base",
            "_model_module_version": "1.2.0",
            "_model_name": "LayoutModel",
            "_view_count": null,
            "_view_module": "@jupyter-widgets/base",
            "_view_module_version": "1.2.0",
            "_view_name": "LayoutView",
            "align_content": null,
            "align_items": null,
            "align_self": null,
            "border": null,
            "bottom": null,
            "display": null,
            "flex": null,
            "flex_flow": null,
            "grid_area": null,
            "grid_auto_columns": null,
            "grid_auto_flow": null,
            "grid_auto_rows": null,
            "grid_column": null,
            "grid_gap": null,
            "grid_row": null,
            "grid_template_areas": null,
            "grid_template_columns": null,
            "grid_template_rows": null,
            "height": null,
            "justify_content": null,
            "justify_items": null,
            "left": null,
            "margin": null,
            "max_height": null,
            "max_width": null,
            "min_height": null,
            "min_width": null,
            "object_fit": null,
            "object_position": null,
            "order": null,
            "overflow": null,
            "overflow_x": null,
            "overflow_y": null,
            "padding": null,
            "right": null,
            "top": null,
            "visibility": null,
            "width": null
          }
        },
        "c820f63e25274391913268296daaeb3c": {
          "model_module": "@jupyter-widgets/controls",
          "model_name": "DescriptionStyleModel",
          "model_module_version": "1.5.0",
          "state": {
            "_model_module": "@jupyter-widgets/controls",
            "_model_module_version": "1.5.0",
            "_model_name": "DescriptionStyleModel",
            "_view_count": null,
            "_view_module": "@jupyter-widgets/base",
            "_view_module_version": "1.2.0",
            "_view_name": "StyleView",
            "description_width": ""
          }
        },
        "6431876709354e65be2d234431c899a7": {
          "model_module": "@jupyter-widgets/controls",
          "model_name": "HBoxModel",
          "model_module_version": "1.5.0",
          "state": {
            "_dom_classes": [],
            "_model_module": "@jupyter-widgets/controls",
            "_model_module_version": "1.5.0",
            "_model_name": "HBoxModel",
            "_view_count": null,
            "_view_module": "@jupyter-widgets/controls",
            "_view_module_version": "1.5.0",
            "_view_name": "HBoxView",
            "box_style": "",
            "children": [
              "IPY_MODEL_9cb6e02b58c94abeb679b2654c8a6fa1",
              "IPY_MODEL_86c6d86e83f24d4fa96113d1301ec2c7",
              "IPY_MODEL_98a48f08ffb94cbe999ce5a6c3152ae0"
            ],
            "layout": "IPY_MODEL_1c6fd11e4b054533826c744650140986"
          }
        },
        "9cb6e02b58c94abeb679b2654c8a6fa1": {
          "model_module": "@jupyter-widgets/controls",
          "model_name": "HTMLModel",
          "model_module_version": "1.5.0",
          "state": {
            "_dom_classes": [],
            "_model_module": "@jupyter-widgets/controls",
            "_model_module_version": "1.5.0",
            "_model_name": "HTMLModel",
            "_view_count": null,
            "_view_module": "@jupyter-widgets/controls",
            "_view_module_version": "1.5.0",
            "_view_name": "HTMLView",
            "description": "",
            "description_tooltip": null,
            "layout": "IPY_MODEL_7e268753c24941ad92a021a54da96c55",
            "placeholder": "​",
            "style": "IPY_MODEL_b6f0fecd4cde40d2a99c68b6c5c7d656",
            "value": "tokenizer.json: 100%"
          }
        },
        "86c6d86e83f24d4fa96113d1301ec2c7": {
          "model_module": "@jupyter-widgets/controls",
          "model_name": "FloatProgressModel",
          "model_module_version": "1.5.0",
          "state": {
            "_dom_classes": [],
            "_model_module": "@jupyter-widgets/controls",
            "_model_module_version": "1.5.0",
            "_model_name": "FloatProgressModel",
            "_view_count": null,
            "_view_module": "@jupyter-widgets/controls",
            "_view_module_version": "1.5.0",
            "_view_name": "ProgressView",
            "bar_style": "success",
            "description": "",
            "description_tooltip": null,
            "layout": "IPY_MODEL_5d0c452cc6eb42d59c51fc954ca712cf",
            "max": 9085698,
            "min": 0,
            "orientation": "horizontal",
            "style": "IPY_MODEL_ef91ed5bc6fa4ac4a11c53fb93a572c8",
            "value": 9085698
          }
        },
        "98a48f08ffb94cbe999ce5a6c3152ae0": {
          "model_module": "@jupyter-widgets/controls",
          "model_name": "HTMLModel",
          "model_module_version": "1.5.0",
          "state": {
            "_dom_classes": [],
            "_model_module": "@jupyter-widgets/controls",
            "_model_module_version": "1.5.0",
            "_model_name": "HTMLModel",
            "_view_count": null,
            "_view_module": "@jupyter-widgets/controls",
            "_view_module_version": "1.5.0",
            "_view_name": "HTMLView",
            "description": "",
            "description_tooltip": null,
            "layout": "IPY_MODEL_3f73e219c6134cf9a228653c998f9015",
            "placeholder": "​",
            "style": "IPY_MODEL_759e4f92683a4721a1f30e0dd8ff7a1c",
            "value": " 9.09M/9.09M [00:00&lt;00:00, 13.2MB/s]"
          }
        },
        "1c6fd11e4b054533826c744650140986": {
          "model_module": "@jupyter-widgets/base",
          "model_name": "LayoutModel",
          "model_module_version": "1.2.0",
          "state": {
            "_model_module": "@jupyter-widgets/base",
            "_model_module_version": "1.2.0",
            "_model_name": "LayoutModel",
            "_view_count": null,
            "_view_module": "@jupyter-widgets/base",
            "_view_module_version": "1.2.0",
            "_view_name": "LayoutView",
            "align_content": null,
            "align_items": null,
            "align_self": null,
            "border": null,
            "bottom": null,
            "display": null,
            "flex": null,
            "flex_flow": null,
            "grid_area": null,
            "grid_auto_columns": null,
            "grid_auto_flow": null,
            "grid_auto_rows": null,
            "grid_column": null,
            "grid_gap": null,
            "grid_row": null,
            "grid_template_areas": null,
            "grid_template_columns": null,
            "grid_template_rows": null,
            "height": null,
            "justify_content": null,
            "justify_items": null,
            "left": null,
            "margin": null,
            "max_height": null,
            "max_width": null,
            "min_height": null,
            "min_width": null,
            "object_fit": null,
            "object_position": null,
            "order": null,
            "overflow": null,
            "overflow_x": null,
            "overflow_y": null,
            "padding": null,
            "right": null,
            "top": null,
            "visibility": null,
            "width": null
          }
        },
        "7e268753c24941ad92a021a54da96c55": {
          "model_module": "@jupyter-widgets/base",
          "model_name": "LayoutModel",
          "model_module_version": "1.2.0",
          "state": {
            "_model_module": "@jupyter-widgets/base",
            "_model_module_version": "1.2.0",
            "_model_name": "LayoutModel",
            "_view_count": null,
            "_view_module": "@jupyter-widgets/base",
            "_view_module_version": "1.2.0",
            "_view_name": "LayoutView",
            "align_content": null,
            "align_items": null,
            "align_self": null,
            "border": null,
            "bottom": null,
            "display": null,
            "flex": null,
            "flex_flow": null,
            "grid_area": null,
            "grid_auto_columns": null,
            "grid_auto_flow": null,
            "grid_auto_rows": null,
            "grid_column": null,
            "grid_gap": null,
            "grid_row": null,
            "grid_template_areas": null,
            "grid_template_columns": null,
            "grid_template_rows": null,
            "height": null,
            "justify_content": null,
            "justify_items": null,
            "left": null,
            "margin": null,
            "max_height": null,
            "max_width": null,
            "min_height": null,
            "min_width": null,
            "object_fit": null,
            "object_position": null,
            "order": null,
            "overflow": null,
            "overflow_x": null,
            "overflow_y": null,
            "padding": null,
            "right": null,
            "top": null,
            "visibility": null,
            "width": null
          }
        },
        "b6f0fecd4cde40d2a99c68b6c5c7d656": {
          "model_module": "@jupyter-widgets/controls",
          "model_name": "DescriptionStyleModel",
          "model_module_version": "1.5.0",
          "state": {
            "_model_module": "@jupyter-widgets/controls",
            "_model_module_version": "1.5.0",
            "_model_name": "DescriptionStyleModel",
            "_view_count": null,
            "_view_module": "@jupyter-widgets/base",
            "_view_module_version": "1.2.0",
            "_view_name": "StyleView",
            "description_width": ""
          }
        },
        "5d0c452cc6eb42d59c51fc954ca712cf": {
          "model_module": "@jupyter-widgets/base",
          "model_name": "LayoutModel",
          "model_module_version": "1.2.0",
          "state": {
            "_model_module": "@jupyter-widgets/base",
            "_model_module_version": "1.2.0",
            "_model_name": "LayoutModel",
            "_view_count": null,
            "_view_module": "@jupyter-widgets/base",
            "_view_module_version": "1.2.0",
            "_view_name": "LayoutView",
            "align_content": null,
            "align_items": null,
            "align_self": null,
            "border": null,
            "bottom": null,
            "display": null,
            "flex": null,
            "flex_flow": null,
            "grid_area": null,
            "grid_auto_columns": null,
            "grid_auto_flow": null,
            "grid_auto_rows": null,
            "grid_column": null,
            "grid_gap": null,
            "grid_row": null,
            "grid_template_areas": null,
            "grid_template_columns": null,
            "grid_template_rows": null,
            "height": null,
            "justify_content": null,
            "justify_items": null,
            "left": null,
            "margin": null,
            "max_height": null,
            "max_width": null,
            "min_height": null,
            "min_width": null,
            "object_fit": null,
            "object_position": null,
            "order": null,
            "overflow": null,
            "overflow_x": null,
            "overflow_y": null,
            "padding": null,
            "right": null,
            "top": null,
            "visibility": null,
            "width": null
          }
        },
        "ef91ed5bc6fa4ac4a11c53fb93a572c8": {
          "model_module": "@jupyter-widgets/controls",
          "model_name": "ProgressStyleModel",
          "model_module_version": "1.5.0",
          "state": {
            "_model_module": "@jupyter-widgets/controls",
            "_model_module_version": "1.5.0",
            "_model_name": "ProgressStyleModel",
            "_view_count": null,
            "_view_module": "@jupyter-widgets/base",
            "_view_module_version": "1.2.0",
            "_view_name": "StyleView",
            "bar_color": null,
            "description_width": ""
          }
        },
        "3f73e219c6134cf9a228653c998f9015": {
          "model_module": "@jupyter-widgets/base",
          "model_name": "LayoutModel",
          "model_module_version": "1.2.0",
          "state": {
            "_model_module": "@jupyter-widgets/base",
            "_model_module_version": "1.2.0",
            "_model_name": "LayoutModel",
            "_view_count": null,
            "_view_module": "@jupyter-widgets/base",
            "_view_module_version": "1.2.0",
            "_view_name": "LayoutView",
            "align_content": null,
            "align_items": null,
            "align_self": null,
            "border": null,
            "bottom": null,
            "display": null,
            "flex": null,
            "flex_flow": null,
            "grid_area": null,
            "grid_auto_columns": null,
            "grid_auto_flow": null,
            "grid_auto_rows": null,
            "grid_column": null,
            "grid_gap": null,
            "grid_row": null,
            "grid_template_areas": null,
            "grid_template_columns": null,
            "grid_template_rows": null,
            "height": null,
            "justify_content": null,
            "justify_items": null,
            "left": null,
            "margin": null,
            "max_height": null,
            "max_width": null,
            "min_height": null,
            "min_width": null,
            "object_fit": null,
            "object_position": null,
            "order": null,
            "overflow": null,
            "overflow_x": null,
            "overflow_y": null,
            "padding": null,
            "right": null,
            "top": null,
            "visibility": null,
            "width": null
          }
        },
        "759e4f92683a4721a1f30e0dd8ff7a1c": {
          "model_module": "@jupyter-widgets/controls",
          "model_name": "DescriptionStyleModel",
          "model_module_version": "1.5.0",
          "state": {
            "_model_module": "@jupyter-widgets/controls",
            "_model_module_version": "1.5.0",
            "_model_name": "DescriptionStyleModel",
            "_view_count": null,
            "_view_module": "@jupyter-widgets/base",
            "_view_module_version": "1.2.0",
            "_view_name": "StyleView",
            "description_width": ""
          }
        },
        "95e2d76329d84e03bc18cf5bb8d5ef5f": {
          "model_module": "@jupyter-widgets/controls",
          "model_name": "HBoxModel",
          "model_module_version": "1.5.0",
          "state": {
            "_dom_classes": [],
            "_model_module": "@jupyter-widgets/controls",
            "_model_module_version": "1.5.0",
            "_model_name": "HBoxModel",
            "_view_count": null,
            "_view_module": "@jupyter-widgets/controls",
            "_view_module_version": "1.5.0",
            "_view_name": "HBoxView",
            "box_style": "",
            "children": [
              "IPY_MODEL_bcc8db06041344fdbe637b7005c9c8aa",
              "IPY_MODEL_f5383bf700934b0195172fb3d0dc04a7",
              "IPY_MODEL_03afe4d0d1e34b469e45bbbf9c720bb4"
            ],
            "layout": "IPY_MODEL_481ee7cd8fdf444eb1ecec5f3783307f"
          }
        },
        "bcc8db06041344fdbe637b7005c9c8aa": {
          "model_module": "@jupyter-widgets/controls",
          "model_name": "HTMLModel",
          "model_module_version": "1.5.0",
          "state": {
            "_dom_classes": [],
            "_model_module": "@jupyter-widgets/controls",
            "_model_module_version": "1.5.0",
            "_model_name": "HTMLModel",
            "_view_count": null,
            "_view_module": "@jupyter-widgets/controls",
            "_view_module_version": "1.5.0",
            "_view_name": "HTMLView",
            "description": "",
            "description_tooltip": null,
            "layout": "IPY_MODEL_ebeb396d30e0423894d9ec46423fc9f5",
            "placeholder": "​",
            "style": "IPY_MODEL_61a60ef2a4c749e29fa7f583b3e1742b",
            "value": "special_tokens_map.json: 100%"
          }
        },
        "f5383bf700934b0195172fb3d0dc04a7": {
          "model_module": "@jupyter-widgets/controls",
          "model_name": "FloatProgressModel",
          "model_module_version": "1.5.0",
          "state": {
            "_dom_classes": [],
            "_model_module": "@jupyter-widgets/controls",
            "_model_module_version": "1.5.0",
            "_model_name": "FloatProgressModel",
            "_view_count": null,
            "_view_module": "@jupyter-widgets/controls",
            "_view_module_version": "1.5.0",
            "_view_name": "ProgressView",
            "bar_style": "success",
            "description": "",
            "description_tooltip": null,
            "layout": "IPY_MODEL_ac4e1286332c4beb83985aa8377a6bd9",
            "max": 73,
            "min": 0,
            "orientation": "horizontal",
            "style": "IPY_MODEL_013d7a7a74d94616aba576a5e88a0205",
            "value": 73
          }
        },
        "03afe4d0d1e34b469e45bbbf9c720bb4": {
          "model_module": "@jupyter-widgets/controls",
          "model_name": "HTMLModel",
          "model_module_version": "1.5.0",
          "state": {
            "_dom_classes": [],
            "_model_module": "@jupyter-widgets/controls",
            "_model_module_version": "1.5.0",
            "_model_name": "HTMLModel",
            "_view_count": null,
            "_view_module": "@jupyter-widgets/controls",
            "_view_module_version": "1.5.0",
            "_view_name": "HTMLView",
            "description": "",
            "description_tooltip": null,
            "layout": "IPY_MODEL_2e360491a8aa4652b279f4a10a6b2566",
            "placeholder": "​",
            "style": "IPY_MODEL_0305adad13eb4c46add4bcf6922fb7f5",
            "value": " 73.0/73.0 [00:00&lt;00:00, 4.73kB/s]"
          }
        },
        "481ee7cd8fdf444eb1ecec5f3783307f": {
          "model_module": "@jupyter-widgets/base",
          "model_name": "LayoutModel",
          "model_module_version": "1.2.0",
          "state": {
            "_model_module": "@jupyter-widgets/base",
            "_model_module_version": "1.2.0",
            "_model_name": "LayoutModel",
            "_view_count": null,
            "_view_module": "@jupyter-widgets/base",
            "_view_module_version": "1.2.0",
            "_view_name": "LayoutView",
            "align_content": null,
            "align_items": null,
            "align_self": null,
            "border": null,
            "bottom": null,
            "display": null,
            "flex": null,
            "flex_flow": null,
            "grid_area": null,
            "grid_auto_columns": null,
            "grid_auto_flow": null,
            "grid_auto_rows": null,
            "grid_column": null,
            "grid_gap": null,
            "grid_row": null,
            "grid_template_areas": null,
            "grid_template_columns": null,
            "grid_template_rows": null,
            "height": null,
            "justify_content": null,
            "justify_items": null,
            "left": null,
            "margin": null,
            "max_height": null,
            "max_width": null,
            "min_height": null,
            "min_width": null,
            "object_fit": null,
            "object_position": null,
            "order": null,
            "overflow": null,
            "overflow_x": null,
            "overflow_y": null,
            "padding": null,
            "right": null,
            "top": null,
            "visibility": null,
            "width": null
          }
        },
        "ebeb396d30e0423894d9ec46423fc9f5": {
          "model_module": "@jupyter-widgets/base",
          "model_name": "LayoutModel",
          "model_module_version": "1.2.0",
          "state": {
            "_model_module": "@jupyter-widgets/base",
            "_model_module_version": "1.2.0",
            "_model_name": "LayoutModel",
            "_view_count": null,
            "_view_module": "@jupyter-widgets/base",
            "_view_module_version": "1.2.0",
            "_view_name": "LayoutView",
            "align_content": null,
            "align_items": null,
            "align_self": null,
            "border": null,
            "bottom": null,
            "display": null,
            "flex": null,
            "flex_flow": null,
            "grid_area": null,
            "grid_auto_columns": null,
            "grid_auto_flow": null,
            "grid_auto_rows": null,
            "grid_column": null,
            "grid_gap": null,
            "grid_row": null,
            "grid_template_areas": null,
            "grid_template_columns": null,
            "grid_template_rows": null,
            "height": null,
            "justify_content": null,
            "justify_items": null,
            "left": null,
            "margin": null,
            "max_height": null,
            "max_width": null,
            "min_height": null,
            "min_width": null,
            "object_fit": null,
            "object_position": null,
            "order": null,
            "overflow": null,
            "overflow_x": null,
            "overflow_y": null,
            "padding": null,
            "right": null,
            "top": null,
            "visibility": null,
            "width": null
          }
        },
        "61a60ef2a4c749e29fa7f583b3e1742b": {
          "model_module": "@jupyter-widgets/controls",
          "model_name": "DescriptionStyleModel",
          "model_module_version": "1.5.0",
          "state": {
            "_model_module": "@jupyter-widgets/controls",
            "_model_module_version": "1.5.0",
            "_model_name": "DescriptionStyleModel",
            "_view_count": null,
            "_view_module": "@jupyter-widgets/base",
            "_view_module_version": "1.2.0",
            "_view_name": "StyleView",
            "description_width": ""
          }
        },
        "ac4e1286332c4beb83985aa8377a6bd9": {
          "model_module": "@jupyter-widgets/base",
          "model_name": "LayoutModel",
          "model_module_version": "1.2.0",
          "state": {
            "_model_module": "@jupyter-widgets/base",
            "_model_module_version": "1.2.0",
            "_model_name": "LayoutModel",
            "_view_count": null,
            "_view_module": "@jupyter-widgets/base",
            "_view_module_version": "1.2.0",
            "_view_name": "LayoutView",
            "align_content": null,
            "align_items": null,
            "align_self": null,
            "border": null,
            "bottom": null,
            "display": null,
            "flex": null,
            "flex_flow": null,
            "grid_area": null,
            "grid_auto_columns": null,
            "grid_auto_flow": null,
            "grid_auto_rows": null,
            "grid_column": null,
            "grid_gap": null,
            "grid_row": null,
            "grid_template_areas": null,
            "grid_template_columns": null,
            "grid_template_rows": null,
            "height": null,
            "justify_content": null,
            "justify_items": null,
            "left": null,
            "margin": null,
            "max_height": null,
            "max_width": null,
            "min_height": null,
            "min_width": null,
            "object_fit": null,
            "object_position": null,
            "order": null,
            "overflow": null,
            "overflow_x": null,
            "overflow_y": null,
            "padding": null,
            "right": null,
            "top": null,
            "visibility": null,
            "width": null
          }
        },
        "013d7a7a74d94616aba576a5e88a0205": {
          "model_module": "@jupyter-widgets/controls",
          "model_name": "ProgressStyleModel",
          "model_module_version": "1.5.0",
          "state": {
            "_model_module": "@jupyter-widgets/controls",
            "_model_module_version": "1.5.0",
            "_model_name": "ProgressStyleModel",
            "_view_count": null,
            "_view_module": "@jupyter-widgets/base",
            "_view_module_version": "1.2.0",
            "_view_name": "StyleView",
            "bar_color": null,
            "description_width": ""
          }
        },
        "2e360491a8aa4652b279f4a10a6b2566": {
          "model_module": "@jupyter-widgets/base",
          "model_name": "LayoutModel",
          "model_module_version": "1.2.0",
          "state": {
            "_model_module": "@jupyter-widgets/base",
            "_model_module_version": "1.2.0",
            "_model_name": "LayoutModel",
            "_view_count": null,
            "_view_module": "@jupyter-widgets/base",
            "_view_module_version": "1.2.0",
            "_view_name": "LayoutView",
            "align_content": null,
            "align_items": null,
            "align_self": null,
            "border": null,
            "bottom": null,
            "display": null,
            "flex": null,
            "flex_flow": null,
            "grid_area": null,
            "grid_auto_columns": null,
            "grid_auto_flow": null,
            "grid_auto_rows": null,
            "grid_column": null,
            "grid_gap": null,
            "grid_row": null,
            "grid_template_areas": null,
            "grid_template_columns": null,
            "grid_template_rows": null,
            "height": null,
            "justify_content": null,
            "justify_items": null,
            "left": null,
            "margin": null,
            "max_height": null,
            "max_width": null,
            "min_height": null,
            "min_width": null,
            "object_fit": null,
            "object_position": null,
            "order": null,
            "overflow": null,
            "overflow_x": null,
            "overflow_y": null,
            "padding": null,
            "right": null,
            "top": null,
            "visibility": null,
            "width": null
          }
        },
        "0305adad13eb4c46add4bcf6922fb7f5": {
          "model_module": "@jupyter-widgets/controls",
          "model_name": "DescriptionStyleModel",
          "model_module_version": "1.5.0",
          "state": {
            "_model_module": "@jupyter-widgets/controls",
            "_model_module_version": "1.5.0",
            "_model_name": "DescriptionStyleModel",
            "_view_count": null,
            "_view_module": "@jupyter-widgets/base",
            "_view_module_version": "1.2.0",
            "_view_name": "StyleView",
            "description_width": ""
          }
        },
        "d98f4dba73274053968a027875804686": {
          "model_module": "@jupyter-widgets/controls",
          "model_name": "HBoxModel",
          "model_module_version": "1.5.0",
          "state": {
            "_dom_classes": [],
            "_model_module": "@jupyter-widgets/controls",
            "_model_module_version": "1.5.0",
            "_model_name": "HBoxModel",
            "_view_count": null,
            "_view_module": "@jupyter-widgets/controls",
            "_view_module_version": "1.5.0",
            "_view_name": "HBoxView",
            "box_style": "",
            "children": [
              "IPY_MODEL_432dd21c66754143b70983672f7317cb",
              "IPY_MODEL_facdd87364ed4d8db0ea566ac74acd5d",
              "IPY_MODEL_e276deb458ad478288d850e69978e784"
            ],
            "layout": "IPY_MODEL_74badb42bc9a441aa66062643a1906de"
          }
        },
        "432dd21c66754143b70983672f7317cb": {
          "model_module": "@jupyter-widgets/controls",
          "model_name": "HTMLModel",
          "model_module_version": "1.5.0",
          "state": {
            "_dom_classes": [],
            "_model_module": "@jupyter-widgets/controls",
            "_model_module_version": "1.5.0",
            "_model_name": "HTMLModel",
            "_view_count": null,
            "_view_module": "@jupyter-widgets/controls",
            "_view_module_version": "1.5.0",
            "_view_name": "HTMLView",
            "description": "",
            "description_tooltip": null,
            "layout": "IPY_MODEL_a47de2fcf83746019c8d0e2e43b24c7c",
            "placeholder": "​",
            "style": "IPY_MODEL_a79ca9d05f2f497cb5aac2a314b82109",
            "value": "config.json: 100%"
          }
        },
        "facdd87364ed4d8db0ea566ac74acd5d": {
          "model_module": "@jupyter-widgets/controls",
          "model_name": "FloatProgressModel",
          "model_module_version": "1.5.0",
          "state": {
            "_dom_classes": [],
            "_model_module": "@jupyter-widgets/controls",
            "_model_module_version": "1.5.0",
            "_model_name": "FloatProgressModel",
            "_view_count": null,
            "_view_module": "@jupyter-widgets/controls",
            "_view_module_version": "1.5.0",
            "_view_name": "ProgressView",
            "bar_style": "success",
            "description": "",
            "description_tooltip": null,
            "layout": "IPY_MODEL_70ca5e9fe71144d29bbbe7f8177b034e",
            "max": 654,
            "min": 0,
            "orientation": "horizontal",
            "style": "IPY_MODEL_7d0039284f0b4551a843e0990033c43c",
            "value": 654
          }
        },
        "e276deb458ad478288d850e69978e784": {
          "model_module": "@jupyter-widgets/controls",
          "model_name": "HTMLModel",
          "model_module_version": "1.5.0",
          "state": {
            "_dom_classes": [],
            "_model_module": "@jupyter-widgets/controls",
            "_model_module_version": "1.5.0",
            "_model_name": "HTMLModel",
            "_view_count": null,
            "_view_module": "@jupyter-widgets/controls",
            "_view_module_version": "1.5.0",
            "_view_name": "HTMLView",
            "description": "",
            "description_tooltip": null,
            "layout": "IPY_MODEL_f71cf579870342d0be88274617a8bce8",
            "placeholder": "​",
            "style": "IPY_MODEL_8cde8a1a87b74a3f88fab2bc17ac75aa",
            "value": " 654/654 [00:00&lt;00:00, 47.8kB/s]"
          }
        },
        "74badb42bc9a441aa66062643a1906de": {
          "model_module": "@jupyter-widgets/base",
          "model_name": "LayoutModel",
          "model_module_version": "1.2.0",
          "state": {
            "_model_module": "@jupyter-widgets/base",
            "_model_module_version": "1.2.0",
            "_model_name": "LayoutModel",
            "_view_count": null,
            "_view_module": "@jupyter-widgets/base",
            "_view_module_version": "1.2.0",
            "_view_name": "LayoutView",
            "align_content": null,
            "align_items": null,
            "align_self": null,
            "border": null,
            "bottom": null,
            "display": null,
            "flex": null,
            "flex_flow": null,
            "grid_area": null,
            "grid_auto_columns": null,
            "grid_auto_flow": null,
            "grid_auto_rows": null,
            "grid_column": null,
            "grid_gap": null,
            "grid_row": null,
            "grid_template_areas": null,
            "grid_template_columns": null,
            "grid_template_rows": null,
            "height": null,
            "justify_content": null,
            "justify_items": null,
            "left": null,
            "margin": null,
            "max_height": null,
            "max_width": null,
            "min_height": null,
            "min_width": null,
            "object_fit": null,
            "object_position": null,
            "order": null,
            "overflow": null,
            "overflow_x": null,
            "overflow_y": null,
            "padding": null,
            "right": null,
            "top": null,
            "visibility": null,
            "width": null
          }
        },
        "a47de2fcf83746019c8d0e2e43b24c7c": {
          "model_module": "@jupyter-widgets/base",
          "model_name": "LayoutModel",
          "model_module_version": "1.2.0",
          "state": {
            "_model_module": "@jupyter-widgets/base",
            "_model_module_version": "1.2.0",
            "_model_name": "LayoutModel",
            "_view_count": null,
            "_view_module": "@jupyter-widgets/base",
            "_view_module_version": "1.2.0",
            "_view_name": "LayoutView",
            "align_content": null,
            "align_items": null,
            "align_self": null,
            "border": null,
            "bottom": null,
            "display": null,
            "flex": null,
            "flex_flow": null,
            "grid_area": null,
            "grid_auto_columns": null,
            "grid_auto_flow": null,
            "grid_auto_rows": null,
            "grid_column": null,
            "grid_gap": null,
            "grid_row": null,
            "grid_template_areas": null,
            "grid_template_columns": null,
            "grid_template_rows": null,
            "height": null,
            "justify_content": null,
            "justify_items": null,
            "left": null,
            "margin": null,
            "max_height": null,
            "max_width": null,
            "min_height": null,
            "min_width": null,
            "object_fit": null,
            "object_position": null,
            "order": null,
            "overflow": null,
            "overflow_x": null,
            "overflow_y": null,
            "padding": null,
            "right": null,
            "top": null,
            "visibility": null,
            "width": null
          }
        },
        "a79ca9d05f2f497cb5aac2a314b82109": {
          "model_module": "@jupyter-widgets/controls",
          "model_name": "DescriptionStyleModel",
          "model_module_version": "1.5.0",
          "state": {
            "_model_module": "@jupyter-widgets/controls",
            "_model_module_version": "1.5.0",
            "_model_name": "DescriptionStyleModel",
            "_view_count": null,
            "_view_module": "@jupyter-widgets/base",
            "_view_module_version": "1.2.0",
            "_view_name": "StyleView",
            "description_width": ""
          }
        },
        "70ca5e9fe71144d29bbbe7f8177b034e": {
          "model_module": "@jupyter-widgets/base",
          "model_name": "LayoutModel",
          "model_module_version": "1.2.0",
          "state": {
            "_model_module": "@jupyter-widgets/base",
            "_model_module_version": "1.2.0",
            "_model_name": "LayoutModel",
            "_view_count": null,
            "_view_module": "@jupyter-widgets/base",
            "_view_module_version": "1.2.0",
            "_view_name": "LayoutView",
            "align_content": null,
            "align_items": null,
            "align_self": null,
            "border": null,
            "bottom": null,
            "display": null,
            "flex": null,
            "flex_flow": null,
            "grid_area": null,
            "grid_auto_columns": null,
            "grid_auto_flow": null,
            "grid_auto_rows": null,
            "grid_column": null,
            "grid_gap": null,
            "grid_row": null,
            "grid_template_areas": null,
            "grid_template_columns": null,
            "grid_template_rows": null,
            "height": null,
            "justify_content": null,
            "justify_items": null,
            "left": null,
            "margin": null,
            "max_height": null,
            "max_width": null,
            "min_height": null,
            "min_width": null,
            "object_fit": null,
            "object_position": null,
            "order": null,
            "overflow": null,
            "overflow_x": null,
            "overflow_y": null,
            "padding": null,
            "right": null,
            "top": null,
            "visibility": null,
            "width": null
          }
        },
        "7d0039284f0b4551a843e0990033c43c": {
          "model_module": "@jupyter-widgets/controls",
          "model_name": "ProgressStyleModel",
          "model_module_version": "1.5.0",
          "state": {
            "_model_module": "@jupyter-widgets/controls",
            "_model_module_version": "1.5.0",
            "_model_name": "ProgressStyleModel",
            "_view_count": null,
            "_view_module": "@jupyter-widgets/base",
            "_view_module_version": "1.2.0",
            "_view_name": "StyleView",
            "bar_color": null,
            "description_width": ""
          }
        },
        "f71cf579870342d0be88274617a8bce8": {
          "model_module": "@jupyter-widgets/base",
          "model_name": "LayoutModel",
          "model_module_version": "1.2.0",
          "state": {
            "_model_module": "@jupyter-widgets/base",
            "_model_module_version": "1.2.0",
            "_model_name": "LayoutModel",
            "_view_count": null,
            "_view_module": "@jupyter-widgets/base",
            "_view_module_version": "1.2.0",
            "_view_name": "LayoutView",
            "align_content": null,
            "align_items": null,
            "align_self": null,
            "border": null,
            "bottom": null,
            "display": null,
            "flex": null,
            "flex_flow": null,
            "grid_area": null,
            "grid_auto_columns": null,
            "grid_auto_flow": null,
            "grid_auto_rows": null,
            "grid_column": null,
            "grid_gap": null,
            "grid_row": null,
            "grid_template_areas": null,
            "grid_template_columns": null,
            "grid_template_rows": null,
            "height": null,
            "justify_content": null,
            "justify_items": null,
            "left": null,
            "margin": null,
            "max_height": null,
            "max_width": null,
            "min_height": null,
            "min_width": null,
            "object_fit": null,
            "object_position": null,
            "order": null,
            "overflow": null,
            "overflow_x": null,
            "overflow_y": null,
            "padding": null,
            "right": null,
            "top": null,
            "visibility": null,
            "width": null
          }
        },
        "8cde8a1a87b74a3f88fab2bc17ac75aa": {
          "model_module": "@jupyter-widgets/controls",
          "model_name": "DescriptionStyleModel",
          "model_module_version": "1.5.0",
          "state": {
            "_model_module": "@jupyter-widgets/controls",
            "_model_module_version": "1.5.0",
            "_model_name": "DescriptionStyleModel",
            "_view_count": null,
            "_view_module": "@jupyter-widgets/base",
            "_view_module_version": "1.2.0",
            "_view_name": "StyleView",
            "description_width": ""
          }
        },
        "55e0fed2194f49478a356ecda6d5d5b1": {
          "model_module": "@jupyter-widgets/controls",
          "model_name": "HBoxModel",
          "model_module_version": "1.5.0",
          "state": {
            "_dom_classes": [],
            "_model_module": "@jupyter-widgets/controls",
            "_model_module_version": "1.5.0",
            "_model_name": "HBoxModel",
            "_view_count": null,
            "_view_module": "@jupyter-widgets/controls",
            "_view_module_version": "1.5.0",
            "_view_name": "HBoxView",
            "box_style": "",
            "children": [
              "IPY_MODEL_326812ad95d64b479b81cb6d892e434f",
              "IPY_MODEL_242be55f527640d98fa90571a7d0c0a3",
              "IPY_MODEL_abdf0fa1420f42938ac675b82f1ee5b7"
            ],
            "layout": "IPY_MODEL_1517b69fb3f9424a8f94a22610237524"
          }
        },
        "326812ad95d64b479b81cb6d892e434f": {
          "model_module": "@jupyter-widgets/controls",
          "model_name": "HTMLModel",
          "model_module_version": "1.5.0",
          "state": {
            "_dom_classes": [],
            "_model_module": "@jupyter-widgets/controls",
            "_model_module_version": "1.5.0",
            "_model_name": "HTMLModel",
            "_view_count": null,
            "_view_module": "@jupyter-widgets/controls",
            "_view_module_version": "1.5.0",
            "_view_name": "HTMLView",
            "description": "",
            "description_tooltip": null,
            "layout": "IPY_MODEL_4004505f83b04014b2ae92fd31bcaf71",
            "placeholder": "​",
            "style": "IPY_MODEL_bffcc813eb744b2b836ffca768a6eded",
            "value": "model.safetensors.index.json: 100%"
          }
        },
        "242be55f527640d98fa90571a7d0c0a3": {
          "model_module": "@jupyter-widgets/controls",
          "model_name": "FloatProgressModel",
          "model_module_version": "1.5.0",
          "state": {
            "_dom_classes": [],
            "_model_module": "@jupyter-widgets/controls",
            "_model_module_version": "1.5.0",
            "_model_name": "FloatProgressModel",
            "_view_count": null,
            "_view_module": "@jupyter-widgets/controls",
            "_view_module_version": "1.5.0",
            "_view_name": "ProgressView",
            "bar_style": "success",
            "description": "",
            "description_tooltip": null,
            "layout": "IPY_MODEL_3fcd26a85e4a4e9abd5db2b08ebad2ea",
            "max": 23950,
            "min": 0,
            "orientation": "horizontal",
            "style": "IPY_MODEL_a471217812cd4d4783d4135fc60ad48b",
            "value": 23950
          }
        },
        "abdf0fa1420f42938ac675b82f1ee5b7": {
          "model_module": "@jupyter-widgets/controls",
          "model_name": "HTMLModel",
          "model_module_version": "1.5.0",
          "state": {
            "_dom_classes": [],
            "_model_module": "@jupyter-widgets/controls",
            "_model_module_version": "1.5.0",
            "_model_name": "HTMLModel",
            "_view_count": null,
            "_view_module": "@jupyter-widgets/controls",
            "_view_module_version": "1.5.0",
            "_view_name": "HTMLView",
            "description": "",
            "description_tooltip": null,
            "layout": "IPY_MODEL_768c7ee97a7a4f10ad665d814fbe0cab",
            "placeholder": "​",
            "style": "IPY_MODEL_07350d95bada46ee983f58623aa1d3aa",
            "value": " 23.9k/23.9k [00:00&lt;00:00, 1.63MB/s]"
          }
        },
        "1517b69fb3f9424a8f94a22610237524": {
          "model_module": "@jupyter-widgets/base",
          "model_name": "LayoutModel",
          "model_module_version": "1.2.0",
          "state": {
            "_model_module": "@jupyter-widgets/base",
            "_model_module_version": "1.2.0",
            "_model_name": "LayoutModel",
            "_view_count": null,
            "_view_module": "@jupyter-widgets/base",
            "_view_module_version": "1.2.0",
            "_view_name": "LayoutView",
            "align_content": null,
            "align_items": null,
            "align_self": null,
            "border": null,
            "bottom": null,
            "display": null,
            "flex": null,
            "flex_flow": null,
            "grid_area": null,
            "grid_auto_columns": null,
            "grid_auto_flow": null,
            "grid_auto_rows": null,
            "grid_column": null,
            "grid_gap": null,
            "grid_row": null,
            "grid_template_areas": null,
            "grid_template_columns": null,
            "grid_template_rows": null,
            "height": null,
            "justify_content": null,
            "justify_items": null,
            "left": null,
            "margin": null,
            "max_height": null,
            "max_width": null,
            "min_height": null,
            "min_width": null,
            "object_fit": null,
            "object_position": null,
            "order": null,
            "overflow": null,
            "overflow_x": null,
            "overflow_y": null,
            "padding": null,
            "right": null,
            "top": null,
            "visibility": null,
            "width": null
          }
        },
        "4004505f83b04014b2ae92fd31bcaf71": {
          "model_module": "@jupyter-widgets/base",
          "model_name": "LayoutModel",
          "model_module_version": "1.2.0",
          "state": {
            "_model_module": "@jupyter-widgets/base",
            "_model_module_version": "1.2.0",
            "_model_name": "LayoutModel",
            "_view_count": null,
            "_view_module": "@jupyter-widgets/base",
            "_view_module_version": "1.2.0",
            "_view_name": "LayoutView",
            "align_content": null,
            "align_items": null,
            "align_self": null,
            "border": null,
            "bottom": null,
            "display": null,
            "flex": null,
            "flex_flow": null,
            "grid_area": null,
            "grid_auto_columns": null,
            "grid_auto_flow": null,
            "grid_auto_rows": null,
            "grid_column": null,
            "grid_gap": null,
            "grid_row": null,
            "grid_template_areas": null,
            "grid_template_columns": null,
            "grid_template_rows": null,
            "height": null,
            "justify_content": null,
            "justify_items": null,
            "left": null,
            "margin": null,
            "max_height": null,
            "max_width": null,
            "min_height": null,
            "min_width": null,
            "object_fit": null,
            "object_position": null,
            "order": null,
            "overflow": null,
            "overflow_x": null,
            "overflow_y": null,
            "padding": null,
            "right": null,
            "top": null,
            "visibility": null,
            "width": null
          }
        },
        "bffcc813eb744b2b836ffca768a6eded": {
          "model_module": "@jupyter-widgets/controls",
          "model_name": "DescriptionStyleModel",
          "model_module_version": "1.5.0",
          "state": {
            "_model_module": "@jupyter-widgets/controls",
            "_model_module_version": "1.5.0",
            "_model_name": "DescriptionStyleModel",
            "_view_count": null,
            "_view_module": "@jupyter-widgets/base",
            "_view_module_version": "1.2.0",
            "_view_name": "StyleView",
            "description_width": ""
          }
        },
        "3fcd26a85e4a4e9abd5db2b08ebad2ea": {
          "model_module": "@jupyter-widgets/base",
          "model_name": "LayoutModel",
          "model_module_version": "1.2.0",
          "state": {
            "_model_module": "@jupyter-widgets/base",
            "_model_module_version": "1.2.0",
            "_model_name": "LayoutModel",
            "_view_count": null,
            "_view_module": "@jupyter-widgets/base",
            "_view_module_version": "1.2.0",
            "_view_name": "LayoutView",
            "align_content": null,
            "align_items": null,
            "align_self": null,
            "border": null,
            "bottom": null,
            "display": null,
            "flex": null,
            "flex_flow": null,
            "grid_area": null,
            "grid_auto_columns": null,
            "grid_auto_flow": null,
            "grid_auto_rows": null,
            "grid_column": null,
            "grid_gap": null,
            "grid_row": null,
            "grid_template_areas": null,
            "grid_template_columns": null,
            "grid_template_rows": null,
            "height": null,
            "justify_content": null,
            "justify_items": null,
            "left": null,
            "margin": null,
            "max_height": null,
            "max_width": null,
            "min_height": null,
            "min_width": null,
            "object_fit": null,
            "object_position": null,
            "order": null,
            "overflow": null,
            "overflow_x": null,
            "overflow_y": null,
            "padding": null,
            "right": null,
            "top": null,
            "visibility": null,
            "width": null
          }
        },
        "a471217812cd4d4783d4135fc60ad48b": {
          "model_module": "@jupyter-widgets/controls",
          "model_name": "ProgressStyleModel",
          "model_module_version": "1.5.0",
          "state": {
            "_model_module": "@jupyter-widgets/controls",
            "_model_module_version": "1.5.0",
            "_model_name": "ProgressStyleModel",
            "_view_count": null,
            "_view_module": "@jupyter-widgets/base",
            "_view_module_version": "1.2.0",
            "_view_name": "StyleView",
            "bar_color": null,
            "description_width": ""
          }
        },
        "768c7ee97a7a4f10ad665d814fbe0cab": {
          "model_module": "@jupyter-widgets/base",
          "model_name": "LayoutModel",
          "model_module_version": "1.2.0",
          "state": {
            "_model_module": "@jupyter-widgets/base",
            "_model_module_version": "1.2.0",
            "_model_name": "LayoutModel",
            "_view_count": null,
            "_view_module": "@jupyter-widgets/base",
            "_view_module_version": "1.2.0",
            "_view_name": "LayoutView",
            "align_content": null,
            "align_items": null,
            "align_self": null,
            "border": null,
            "bottom": null,
            "display": null,
            "flex": null,
            "flex_flow": null,
            "grid_area": null,
            "grid_auto_columns": null,
            "grid_auto_flow": null,
            "grid_auto_rows": null,
            "grid_column": null,
            "grid_gap": null,
            "grid_row": null,
            "grid_template_areas": null,
            "grid_template_columns": null,
            "grid_template_rows": null,
            "height": null,
            "justify_content": null,
            "justify_items": null,
            "left": null,
            "margin": null,
            "max_height": null,
            "max_width": null,
            "min_height": null,
            "min_width": null,
            "object_fit": null,
            "object_position": null,
            "order": null,
            "overflow": null,
            "overflow_x": null,
            "overflow_y": null,
            "padding": null,
            "right": null,
            "top": null,
            "visibility": null,
            "width": null
          }
        },
        "07350d95bada46ee983f58623aa1d3aa": {
          "model_module": "@jupyter-widgets/controls",
          "model_name": "DescriptionStyleModel",
          "model_module_version": "1.5.0",
          "state": {
            "_model_module": "@jupyter-widgets/controls",
            "_model_module_version": "1.5.0",
            "_model_name": "DescriptionStyleModel",
            "_view_count": null,
            "_view_module": "@jupyter-widgets/base",
            "_view_module_version": "1.2.0",
            "_view_name": "StyleView",
            "description_width": ""
          }
        },
        "9bb6e66bd37c4bf78ab8aac5ad0b7991": {
          "model_module": "@jupyter-widgets/controls",
          "model_name": "HBoxModel",
          "model_module_version": "1.5.0",
          "state": {
            "_dom_classes": [],
            "_model_module": "@jupyter-widgets/controls",
            "_model_module_version": "1.5.0",
            "_model_name": "HBoxModel",
            "_view_count": null,
            "_view_module": "@jupyter-widgets/controls",
            "_view_module_version": "1.5.0",
            "_view_name": "HBoxView",
            "box_style": "",
            "children": [
              "IPY_MODEL_46c3e93ed8ce44cb929b963801871067",
              "IPY_MODEL_b143fa6e2e474b20b6e43abf8131bbe1",
              "IPY_MODEL_204a617b92044a329fe32150a60bf467"
            ],
            "layout": "IPY_MODEL_66937dc1232f416ca90a24a6622300b7"
          }
        },
        "46c3e93ed8ce44cb929b963801871067": {
          "model_module": "@jupyter-widgets/controls",
          "model_name": "HTMLModel",
          "model_module_version": "1.5.0",
          "state": {
            "_dom_classes": [],
            "_model_module": "@jupyter-widgets/controls",
            "_model_module_version": "1.5.0",
            "_model_name": "HTMLModel",
            "_view_count": null,
            "_view_module": "@jupyter-widgets/controls",
            "_view_module_version": "1.5.0",
            "_view_name": "HTMLView",
            "description": "",
            "description_tooltip": null,
            "layout": "IPY_MODEL_d5c2dce7f8ad49a9bf56082215a8ad6d",
            "placeholder": "​",
            "style": "IPY_MODEL_01060aa01a4248b685fc031ce4d8f928",
            "value": "Downloading shards: 100%"
          }
        },
        "b143fa6e2e474b20b6e43abf8131bbe1": {
          "model_module": "@jupyter-widgets/controls",
          "model_name": "FloatProgressModel",
          "model_module_version": "1.5.0",
          "state": {
            "_dom_classes": [],
            "_model_module": "@jupyter-widgets/controls",
            "_model_module_version": "1.5.0",
            "_model_name": "FloatProgressModel",
            "_view_count": null,
            "_view_module": "@jupyter-widgets/controls",
            "_view_module_version": "1.5.0",
            "_view_name": "ProgressView",
            "bar_style": "success",
            "description": "",
            "description_tooltip": null,
            "layout": "IPY_MODEL_2dc02cbab10b4777aafebb1a0712e625",
            "max": 4,
            "min": 0,
            "orientation": "horizontal",
            "style": "IPY_MODEL_8f91ffcd475a4a7ebb832e2013093817",
            "value": 4
          }
        },
        "204a617b92044a329fe32150a60bf467": {
          "model_module": "@jupyter-widgets/controls",
          "model_name": "HTMLModel",
          "model_module_version": "1.5.0",
          "state": {
            "_dom_classes": [],
            "_model_module": "@jupyter-widgets/controls",
            "_model_module_version": "1.5.0",
            "_model_name": "HTMLModel",
            "_view_count": null,
            "_view_module": "@jupyter-widgets/controls",
            "_view_module_version": "1.5.0",
            "_view_name": "HTMLView",
            "description": "",
            "description_tooltip": null,
            "layout": "IPY_MODEL_86c9b11543ed40d5a370085b723ea919",
            "placeholder": "​",
            "style": "IPY_MODEL_cf252e607515405199559ac0a16bc495",
            "value": " 4/4 [01:58&lt;00:00, 25.37s/it]"
          }
        },
        "66937dc1232f416ca90a24a6622300b7": {
          "model_module": "@jupyter-widgets/base",
          "model_name": "LayoutModel",
          "model_module_version": "1.2.0",
          "state": {
            "_model_module": "@jupyter-widgets/base",
            "_model_module_version": "1.2.0",
            "_model_name": "LayoutModel",
            "_view_count": null,
            "_view_module": "@jupyter-widgets/base",
            "_view_module_version": "1.2.0",
            "_view_name": "LayoutView",
            "align_content": null,
            "align_items": null,
            "align_self": null,
            "border": null,
            "bottom": null,
            "display": null,
            "flex": null,
            "flex_flow": null,
            "grid_area": null,
            "grid_auto_columns": null,
            "grid_auto_flow": null,
            "grid_auto_rows": null,
            "grid_column": null,
            "grid_gap": null,
            "grid_row": null,
            "grid_template_areas": null,
            "grid_template_columns": null,
            "grid_template_rows": null,
            "height": null,
            "justify_content": null,
            "justify_items": null,
            "left": null,
            "margin": null,
            "max_height": null,
            "max_width": null,
            "min_height": null,
            "min_width": null,
            "object_fit": null,
            "object_position": null,
            "order": null,
            "overflow": null,
            "overflow_x": null,
            "overflow_y": null,
            "padding": null,
            "right": null,
            "top": null,
            "visibility": null,
            "width": null
          }
        },
        "d5c2dce7f8ad49a9bf56082215a8ad6d": {
          "model_module": "@jupyter-widgets/base",
          "model_name": "LayoutModel",
          "model_module_version": "1.2.0",
          "state": {
            "_model_module": "@jupyter-widgets/base",
            "_model_module_version": "1.2.0",
            "_model_name": "LayoutModel",
            "_view_count": null,
            "_view_module": "@jupyter-widgets/base",
            "_view_module_version": "1.2.0",
            "_view_name": "LayoutView",
            "align_content": null,
            "align_items": null,
            "align_self": null,
            "border": null,
            "bottom": null,
            "display": null,
            "flex": null,
            "flex_flow": null,
            "grid_area": null,
            "grid_auto_columns": null,
            "grid_auto_flow": null,
            "grid_auto_rows": null,
            "grid_column": null,
            "grid_gap": null,
            "grid_row": null,
            "grid_template_areas": null,
            "grid_template_columns": null,
            "grid_template_rows": null,
            "height": null,
            "justify_content": null,
            "justify_items": null,
            "left": null,
            "margin": null,
            "max_height": null,
            "max_width": null,
            "min_height": null,
            "min_width": null,
            "object_fit": null,
            "object_position": null,
            "order": null,
            "overflow": null,
            "overflow_x": null,
            "overflow_y": null,
            "padding": null,
            "right": null,
            "top": null,
            "visibility": null,
            "width": null
          }
        },
        "01060aa01a4248b685fc031ce4d8f928": {
          "model_module": "@jupyter-widgets/controls",
          "model_name": "DescriptionStyleModel",
          "model_module_version": "1.5.0",
          "state": {
            "_model_module": "@jupyter-widgets/controls",
            "_model_module_version": "1.5.0",
            "_model_name": "DescriptionStyleModel",
            "_view_count": null,
            "_view_module": "@jupyter-widgets/base",
            "_view_module_version": "1.2.0",
            "_view_name": "StyleView",
            "description_width": ""
          }
        },
        "2dc02cbab10b4777aafebb1a0712e625": {
          "model_module": "@jupyter-widgets/base",
          "model_name": "LayoutModel",
          "model_module_version": "1.2.0",
          "state": {
            "_model_module": "@jupyter-widgets/base",
            "_model_module_version": "1.2.0",
            "_model_name": "LayoutModel",
            "_view_count": null,
            "_view_module": "@jupyter-widgets/base",
            "_view_module_version": "1.2.0",
            "_view_name": "LayoutView",
            "align_content": null,
            "align_items": null,
            "align_self": null,
            "border": null,
            "bottom": null,
            "display": null,
            "flex": null,
            "flex_flow": null,
            "grid_area": null,
            "grid_auto_columns": null,
            "grid_auto_flow": null,
            "grid_auto_rows": null,
            "grid_column": null,
            "grid_gap": null,
            "grid_row": null,
            "grid_template_areas": null,
            "grid_template_columns": null,
            "grid_template_rows": null,
            "height": null,
            "justify_content": null,
            "justify_items": null,
            "left": null,
            "margin": null,
            "max_height": null,
            "max_width": null,
            "min_height": null,
            "min_width": null,
            "object_fit": null,
            "object_position": null,
            "order": null,
            "overflow": null,
            "overflow_x": null,
            "overflow_y": null,
            "padding": null,
            "right": null,
            "top": null,
            "visibility": null,
            "width": null
          }
        },
        "8f91ffcd475a4a7ebb832e2013093817": {
          "model_module": "@jupyter-widgets/controls",
          "model_name": "ProgressStyleModel",
          "model_module_version": "1.5.0",
          "state": {
            "_model_module": "@jupyter-widgets/controls",
            "_model_module_version": "1.5.0",
            "_model_name": "ProgressStyleModel",
            "_view_count": null,
            "_view_module": "@jupyter-widgets/base",
            "_view_module_version": "1.2.0",
            "_view_name": "StyleView",
            "bar_color": null,
            "description_width": ""
          }
        },
        "86c9b11543ed40d5a370085b723ea919": {
          "model_module": "@jupyter-widgets/base",
          "model_name": "LayoutModel",
          "model_module_version": "1.2.0",
          "state": {
            "_model_module": "@jupyter-widgets/base",
            "_model_module_version": "1.2.0",
            "_model_name": "LayoutModel",
            "_view_count": null,
            "_view_module": "@jupyter-widgets/base",
            "_view_module_version": "1.2.0",
            "_view_name": "LayoutView",
            "align_content": null,
            "align_items": null,
            "align_self": null,
            "border": null,
            "bottom": null,
            "display": null,
            "flex": null,
            "flex_flow": null,
            "grid_area": null,
            "grid_auto_columns": null,
            "grid_auto_flow": null,
            "grid_auto_rows": null,
            "grid_column": null,
            "grid_gap": null,
            "grid_row": null,
            "grid_template_areas": null,
            "grid_template_columns": null,
            "grid_template_rows": null,
            "height": null,
            "justify_content": null,
            "justify_items": null,
            "left": null,
            "margin": null,
            "max_height": null,
            "max_width": null,
            "min_height": null,
            "min_width": null,
            "object_fit": null,
            "object_position": null,
            "order": null,
            "overflow": null,
            "overflow_x": null,
            "overflow_y": null,
            "padding": null,
            "right": null,
            "top": null,
            "visibility": null,
            "width": null
          }
        },
        "cf252e607515405199559ac0a16bc495": {
          "model_module": "@jupyter-widgets/controls",
          "model_name": "DescriptionStyleModel",
          "model_module_version": "1.5.0",
          "state": {
            "_model_module": "@jupyter-widgets/controls",
            "_model_module_version": "1.5.0",
            "_model_name": "DescriptionStyleModel",
            "_view_count": null,
            "_view_module": "@jupyter-widgets/base",
            "_view_module_version": "1.2.0",
            "_view_name": "StyleView",
            "description_width": ""
          }
        },
        "a64dcaa2829e4c98a6494002c88f66f2": {
          "model_module": "@jupyter-widgets/controls",
          "model_name": "HBoxModel",
          "model_module_version": "1.5.0",
          "state": {
            "_dom_classes": [],
            "_model_module": "@jupyter-widgets/controls",
            "_model_module_version": "1.5.0",
            "_model_name": "HBoxModel",
            "_view_count": null,
            "_view_module": "@jupyter-widgets/controls",
            "_view_module_version": "1.5.0",
            "_view_name": "HBoxView",
            "box_style": "",
            "children": [
              "IPY_MODEL_59016cc1525b4def9332c3e237f6d306",
              "IPY_MODEL_ceb7ef6cdd754c999b610785845dd979",
              "IPY_MODEL_cf00d0b4c4b84ece8ccdd2d501527ad9"
            ],
            "layout": "IPY_MODEL_8ad65320a4ae48f39cf75387a2348ac2"
          }
        },
        "59016cc1525b4def9332c3e237f6d306": {
          "model_module": "@jupyter-widgets/controls",
          "model_name": "HTMLModel",
          "model_module_version": "1.5.0",
          "state": {
            "_dom_classes": [],
            "_model_module": "@jupyter-widgets/controls",
            "_model_module_version": "1.5.0",
            "_model_name": "HTMLModel",
            "_view_count": null,
            "_view_module": "@jupyter-widgets/controls",
            "_view_module_version": "1.5.0",
            "_view_name": "HTMLView",
            "description": "",
            "description_tooltip": null,
            "layout": "IPY_MODEL_1e0da663cc1d454cb70fa2c592c37258",
            "placeholder": "​",
            "style": "IPY_MODEL_0cd39bb0497e4e98b4007be2cd6d83f2",
            "value": "model-00001-of-00004.safetensors: 100%"
          }
        },
        "ceb7ef6cdd754c999b610785845dd979": {
          "model_module": "@jupyter-widgets/controls",
          "model_name": "FloatProgressModel",
          "model_module_version": "1.5.0",
          "state": {
            "_dom_classes": [],
            "_model_module": "@jupyter-widgets/controls",
            "_model_module_version": "1.5.0",
            "_model_name": "FloatProgressModel",
            "_view_count": null,
            "_view_module": "@jupyter-widgets/controls",
            "_view_module_version": "1.5.0",
            "_view_name": "ProgressView",
            "bar_style": "success",
            "description": "",
            "description_tooltip": null,
            "layout": "IPY_MODEL_eb2b11e0c3044d4aaf43184e65d2bce7",
            "max": 4976698672,
            "min": 0,
            "orientation": "horizontal",
            "style": "IPY_MODEL_d8e0c3e380d94ffdb27f4a4382ce1d6e",
            "value": 4976698672
          }
        },
        "cf00d0b4c4b84ece8ccdd2d501527ad9": {
          "model_module": "@jupyter-widgets/controls",
          "model_name": "HTMLModel",
          "model_module_version": "1.5.0",
          "state": {
            "_dom_classes": [],
            "_model_module": "@jupyter-widgets/controls",
            "_model_module_version": "1.5.0",
            "_model_name": "HTMLModel",
            "_view_count": null,
            "_view_module": "@jupyter-widgets/controls",
            "_view_module_version": "1.5.0",
            "_view_name": "HTMLView",
            "description": "",
            "description_tooltip": null,
            "layout": "IPY_MODEL_317b33a78b784fc197925e30478c522b",
            "placeholder": "​",
            "style": "IPY_MODEL_99b4973a5a7f470ebcc7bf25aeff4c24",
            "value": " 4.98G/4.98G [00:37&lt;00:00, 153MB/s]"
          }
        },
        "8ad65320a4ae48f39cf75387a2348ac2": {
          "model_module": "@jupyter-widgets/base",
          "model_name": "LayoutModel",
          "model_module_version": "1.2.0",
          "state": {
            "_model_module": "@jupyter-widgets/base",
            "_model_module_version": "1.2.0",
            "_model_name": "LayoutModel",
            "_view_count": null,
            "_view_module": "@jupyter-widgets/base",
            "_view_module_version": "1.2.0",
            "_view_name": "LayoutView",
            "align_content": null,
            "align_items": null,
            "align_self": null,
            "border": null,
            "bottom": null,
            "display": null,
            "flex": null,
            "flex_flow": null,
            "grid_area": null,
            "grid_auto_columns": null,
            "grid_auto_flow": null,
            "grid_auto_rows": null,
            "grid_column": null,
            "grid_gap": null,
            "grid_row": null,
            "grid_template_areas": null,
            "grid_template_columns": null,
            "grid_template_rows": null,
            "height": null,
            "justify_content": null,
            "justify_items": null,
            "left": null,
            "margin": null,
            "max_height": null,
            "max_width": null,
            "min_height": null,
            "min_width": null,
            "object_fit": null,
            "object_position": null,
            "order": null,
            "overflow": null,
            "overflow_x": null,
            "overflow_y": null,
            "padding": null,
            "right": null,
            "top": null,
            "visibility": null,
            "width": null
          }
        },
        "1e0da663cc1d454cb70fa2c592c37258": {
          "model_module": "@jupyter-widgets/base",
          "model_name": "LayoutModel",
          "model_module_version": "1.2.0",
          "state": {
            "_model_module": "@jupyter-widgets/base",
            "_model_module_version": "1.2.0",
            "_model_name": "LayoutModel",
            "_view_count": null,
            "_view_module": "@jupyter-widgets/base",
            "_view_module_version": "1.2.0",
            "_view_name": "LayoutView",
            "align_content": null,
            "align_items": null,
            "align_self": null,
            "border": null,
            "bottom": null,
            "display": null,
            "flex": null,
            "flex_flow": null,
            "grid_area": null,
            "grid_auto_columns": null,
            "grid_auto_flow": null,
            "grid_auto_rows": null,
            "grid_column": null,
            "grid_gap": null,
            "grid_row": null,
            "grid_template_areas": null,
            "grid_template_columns": null,
            "grid_template_rows": null,
            "height": null,
            "justify_content": null,
            "justify_items": null,
            "left": null,
            "margin": null,
            "max_height": null,
            "max_width": null,
            "min_height": null,
            "min_width": null,
            "object_fit": null,
            "object_position": null,
            "order": null,
            "overflow": null,
            "overflow_x": null,
            "overflow_y": null,
            "padding": null,
            "right": null,
            "top": null,
            "visibility": null,
            "width": null
          }
        },
        "0cd39bb0497e4e98b4007be2cd6d83f2": {
          "model_module": "@jupyter-widgets/controls",
          "model_name": "DescriptionStyleModel",
          "model_module_version": "1.5.0",
          "state": {
            "_model_module": "@jupyter-widgets/controls",
            "_model_module_version": "1.5.0",
            "_model_name": "DescriptionStyleModel",
            "_view_count": null,
            "_view_module": "@jupyter-widgets/base",
            "_view_module_version": "1.2.0",
            "_view_name": "StyleView",
            "description_width": ""
          }
        },
        "eb2b11e0c3044d4aaf43184e65d2bce7": {
          "model_module": "@jupyter-widgets/base",
          "model_name": "LayoutModel",
          "model_module_version": "1.2.0",
          "state": {
            "_model_module": "@jupyter-widgets/base",
            "_model_module_version": "1.2.0",
            "_model_name": "LayoutModel",
            "_view_count": null,
            "_view_module": "@jupyter-widgets/base",
            "_view_module_version": "1.2.0",
            "_view_name": "LayoutView",
            "align_content": null,
            "align_items": null,
            "align_self": null,
            "border": null,
            "bottom": null,
            "display": null,
            "flex": null,
            "flex_flow": null,
            "grid_area": null,
            "grid_auto_columns": null,
            "grid_auto_flow": null,
            "grid_auto_rows": null,
            "grid_column": null,
            "grid_gap": null,
            "grid_row": null,
            "grid_template_areas": null,
            "grid_template_columns": null,
            "grid_template_rows": null,
            "height": null,
            "justify_content": null,
            "justify_items": null,
            "left": null,
            "margin": null,
            "max_height": null,
            "max_width": null,
            "min_height": null,
            "min_width": null,
            "object_fit": null,
            "object_position": null,
            "order": null,
            "overflow": null,
            "overflow_x": null,
            "overflow_y": null,
            "padding": null,
            "right": null,
            "top": null,
            "visibility": null,
            "width": null
          }
        },
        "d8e0c3e380d94ffdb27f4a4382ce1d6e": {
          "model_module": "@jupyter-widgets/controls",
          "model_name": "ProgressStyleModel",
          "model_module_version": "1.5.0",
          "state": {
            "_model_module": "@jupyter-widgets/controls",
            "_model_module_version": "1.5.0",
            "_model_name": "ProgressStyleModel",
            "_view_count": null,
            "_view_module": "@jupyter-widgets/base",
            "_view_module_version": "1.2.0",
            "_view_name": "StyleView",
            "bar_color": null,
            "description_width": ""
          }
        },
        "317b33a78b784fc197925e30478c522b": {
          "model_module": "@jupyter-widgets/base",
          "model_name": "LayoutModel",
          "model_module_version": "1.2.0",
          "state": {
            "_model_module": "@jupyter-widgets/base",
            "_model_module_version": "1.2.0",
            "_model_name": "LayoutModel",
            "_view_count": null,
            "_view_module": "@jupyter-widgets/base",
            "_view_module_version": "1.2.0",
            "_view_name": "LayoutView",
            "align_content": null,
            "align_items": null,
            "align_self": null,
            "border": null,
            "bottom": null,
            "display": null,
            "flex": null,
            "flex_flow": null,
            "grid_area": null,
            "grid_auto_columns": null,
            "grid_auto_flow": null,
            "grid_auto_rows": null,
            "grid_column": null,
            "grid_gap": null,
            "grid_row": null,
            "grid_template_areas": null,
            "grid_template_columns": null,
            "grid_template_rows": null,
            "height": null,
            "justify_content": null,
            "justify_items": null,
            "left": null,
            "margin": null,
            "max_height": null,
            "max_width": null,
            "min_height": null,
            "min_width": null,
            "object_fit": null,
            "object_position": null,
            "order": null,
            "overflow": null,
            "overflow_x": null,
            "overflow_y": null,
            "padding": null,
            "right": null,
            "top": null,
            "visibility": null,
            "width": null
          }
        },
        "99b4973a5a7f470ebcc7bf25aeff4c24": {
          "model_module": "@jupyter-widgets/controls",
          "model_name": "DescriptionStyleModel",
          "model_module_version": "1.5.0",
          "state": {
            "_model_module": "@jupyter-widgets/controls",
            "_model_module_version": "1.5.0",
            "_model_name": "DescriptionStyleModel",
            "_view_count": null,
            "_view_module": "@jupyter-widgets/base",
            "_view_module_version": "1.2.0",
            "_view_name": "StyleView",
            "description_width": ""
          }
        },
        "21cbe4d193c94362b41643bf42db0265": {
          "model_module": "@jupyter-widgets/controls",
          "model_name": "HBoxModel",
          "model_module_version": "1.5.0",
          "state": {
            "_dom_classes": [],
            "_model_module": "@jupyter-widgets/controls",
            "_model_module_version": "1.5.0",
            "_model_name": "HBoxModel",
            "_view_count": null,
            "_view_module": "@jupyter-widgets/controls",
            "_view_module_version": "1.5.0",
            "_view_name": "HBoxView",
            "box_style": "",
            "children": [
              "IPY_MODEL_2ebf296528ff4e1fae917d5ab404598a",
              "IPY_MODEL_42342d6bf16d44218d312fcf6e68c6d2",
              "IPY_MODEL_5dc8d9db7e8b402b873e4ceda47efc68"
            ],
            "layout": "IPY_MODEL_95438a751cf94f0184dd1f95a1ab6403"
          }
        },
        "2ebf296528ff4e1fae917d5ab404598a": {
          "model_module": "@jupyter-widgets/controls",
          "model_name": "HTMLModel",
          "model_module_version": "1.5.0",
          "state": {
            "_dom_classes": [],
            "_model_module": "@jupyter-widgets/controls",
            "_model_module_version": "1.5.0",
            "_model_name": "HTMLModel",
            "_view_count": null,
            "_view_module": "@jupyter-widgets/controls",
            "_view_module_version": "1.5.0",
            "_view_name": "HTMLView",
            "description": "",
            "description_tooltip": null,
            "layout": "IPY_MODEL_7cf765d850bc4dcbaf31cb56f27d6934",
            "placeholder": "​",
            "style": "IPY_MODEL_4159cafa066d40b5b40fb91fe4bfea40",
            "value": "model-00002-of-00004.safetensors: 100%"
          }
        },
        "42342d6bf16d44218d312fcf6e68c6d2": {
          "model_module": "@jupyter-widgets/controls",
          "model_name": "FloatProgressModel",
          "model_module_version": "1.5.0",
          "state": {
            "_dom_classes": [],
            "_model_module": "@jupyter-widgets/controls",
            "_model_module_version": "1.5.0",
            "_model_name": "FloatProgressModel",
            "_view_count": null,
            "_view_module": "@jupyter-widgets/controls",
            "_view_module_version": "1.5.0",
            "_view_name": "ProgressView",
            "bar_style": "success",
            "description": "",
            "description_tooltip": null,
            "layout": "IPY_MODEL_45e72b495c504aa89541830fe8db1f33",
            "max": 4999802720,
            "min": 0,
            "orientation": "horizontal",
            "style": "IPY_MODEL_928c161b52d3412e8f4fcc60f23087cb",
            "value": 4999802720
          }
        },
        "5dc8d9db7e8b402b873e4ceda47efc68": {
          "model_module": "@jupyter-widgets/controls",
          "model_name": "HTMLModel",
          "model_module_version": "1.5.0",
          "state": {
            "_dom_classes": [],
            "_model_module": "@jupyter-widgets/controls",
            "_model_module_version": "1.5.0",
            "_model_name": "HTMLModel",
            "_view_count": null,
            "_view_module": "@jupyter-widgets/controls",
            "_view_module_version": "1.5.0",
            "_view_name": "HTMLView",
            "description": "",
            "description_tooltip": null,
            "layout": "IPY_MODEL_7898af3036db446da18888bae24553f3",
            "placeholder": "​",
            "style": "IPY_MODEL_4e32d0aee2724a139f15f50469ec0c53",
            "value": " 5.00G/5.00G [00:39&lt;00:00, 106MB/s]"
          }
        },
        "95438a751cf94f0184dd1f95a1ab6403": {
          "model_module": "@jupyter-widgets/base",
          "model_name": "LayoutModel",
          "model_module_version": "1.2.0",
          "state": {
            "_model_module": "@jupyter-widgets/base",
            "_model_module_version": "1.2.0",
            "_model_name": "LayoutModel",
            "_view_count": null,
            "_view_module": "@jupyter-widgets/base",
            "_view_module_version": "1.2.0",
            "_view_name": "LayoutView",
            "align_content": null,
            "align_items": null,
            "align_self": null,
            "border": null,
            "bottom": null,
            "display": null,
            "flex": null,
            "flex_flow": null,
            "grid_area": null,
            "grid_auto_columns": null,
            "grid_auto_flow": null,
            "grid_auto_rows": null,
            "grid_column": null,
            "grid_gap": null,
            "grid_row": null,
            "grid_template_areas": null,
            "grid_template_columns": null,
            "grid_template_rows": null,
            "height": null,
            "justify_content": null,
            "justify_items": null,
            "left": null,
            "margin": null,
            "max_height": null,
            "max_width": null,
            "min_height": null,
            "min_width": null,
            "object_fit": null,
            "object_position": null,
            "order": null,
            "overflow": null,
            "overflow_x": null,
            "overflow_y": null,
            "padding": null,
            "right": null,
            "top": null,
            "visibility": null,
            "width": null
          }
        },
        "7cf765d850bc4dcbaf31cb56f27d6934": {
          "model_module": "@jupyter-widgets/base",
          "model_name": "LayoutModel",
          "model_module_version": "1.2.0",
          "state": {
            "_model_module": "@jupyter-widgets/base",
            "_model_module_version": "1.2.0",
            "_model_name": "LayoutModel",
            "_view_count": null,
            "_view_module": "@jupyter-widgets/base",
            "_view_module_version": "1.2.0",
            "_view_name": "LayoutView",
            "align_content": null,
            "align_items": null,
            "align_self": null,
            "border": null,
            "bottom": null,
            "display": null,
            "flex": null,
            "flex_flow": null,
            "grid_area": null,
            "grid_auto_columns": null,
            "grid_auto_flow": null,
            "grid_auto_rows": null,
            "grid_column": null,
            "grid_gap": null,
            "grid_row": null,
            "grid_template_areas": null,
            "grid_template_columns": null,
            "grid_template_rows": null,
            "height": null,
            "justify_content": null,
            "justify_items": null,
            "left": null,
            "margin": null,
            "max_height": null,
            "max_width": null,
            "min_height": null,
            "min_width": null,
            "object_fit": null,
            "object_position": null,
            "order": null,
            "overflow": null,
            "overflow_x": null,
            "overflow_y": null,
            "padding": null,
            "right": null,
            "top": null,
            "visibility": null,
            "width": null
          }
        },
        "4159cafa066d40b5b40fb91fe4bfea40": {
          "model_module": "@jupyter-widgets/controls",
          "model_name": "DescriptionStyleModel",
          "model_module_version": "1.5.0",
          "state": {
            "_model_module": "@jupyter-widgets/controls",
            "_model_module_version": "1.5.0",
            "_model_name": "DescriptionStyleModel",
            "_view_count": null,
            "_view_module": "@jupyter-widgets/base",
            "_view_module_version": "1.2.0",
            "_view_name": "StyleView",
            "description_width": ""
          }
        },
        "45e72b495c504aa89541830fe8db1f33": {
          "model_module": "@jupyter-widgets/base",
          "model_name": "LayoutModel",
          "model_module_version": "1.2.0",
          "state": {
            "_model_module": "@jupyter-widgets/base",
            "_model_module_version": "1.2.0",
            "_model_name": "LayoutModel",
            "_view_count": null,
            "_view_module": "@jupyter-widgets/base",
            "_view_module_version": "1.2.0",
            "_view_name": "LayoutView",
            "align_content": null,
            "align_items": null,
            "align_self": null,
            "border": null,
            "bottom": null,
            "display": null,
            "flex": null,
            "flex_flow": null,
            "grid_area": null,
            "grid_auto_columns": null,
            "grid_auto_flow": null,
            "grid_auto_rows": null,
            "grid_column": null,
            "grid_gap": null,
            "grid_row": null,
            "grid_template_areas": null,
            "grid_template_columns": null,
            "grid_template_rows": null,
            "height": null,
            "justify_content": null,
            "justify_items": null,
            "left": null,
            "margin": null,
            "max_height": null,
            "max_width": null,
            "min_height": null,
            "min_width": null,
            "object_fit": null,
            "object_position": null,
            "order": null,
            "overflow": null,
            "overflow_x": null,
            "overflow_y": null,
            "padding": null,
            "right": null,
            "top": null,
            "visibility": null,
            "width": null
          }
        },
        "928c161b52d3412e8f4fcc60f23087cb": {
          "model_module": "@jupyter-widgets/controls",
          "model_name": "ProgressStyleModel",
          "model_module_version": "1.5.0",
          "state": {
            "_model_module": "@jupyter-widgets/controls",
            "_model_module_version": "1.5.0",
            "_model_name": "ProgressStyleModel",
            "_view_count": null,
            "_view_module": "@jupyter-widgets/base",
            "_view_module_version": "1.2.0",
            "_view_name": "StyleView",
            "bar_color": null,
            "description_width": ""
          }
        },
        "7898af3036db446da18888bae24553f3": {
          "model_module": "@jupyter-widgets/base",
          "model_name": "LayoutModel",
          "model_module_version": "1.2.0",
          "state": {
            "_model_module": "@jupyter-widgets/base",
            "_model_module_version": "1.2.0",
            "_model_name": "LayoutModel",
            "_view_count": null,
            "_view_module": "@jupyter-widgets/base",
            "_view_module_version": "1.2.0",
            "_view_name": "LayoutView",
            "align_content": null,
            "align_items": null,
            "align_self": null,
            "border": null,
            "bottom": null,
            "display": null,
            "flex": null,
            "flex_flow": null,
            "grid_area": null,
            "grid_auto_columns": null,
            "grid_auto_flow": null,
            "grid_auto_rows": null,
            "grid_column": null,
            "grid_gap": null,
            "grid_row": null,
            "grid_template_areas": null,
            "grid_template_columns": null,
            "grid_template_rows": null,
            "height": null,
            "justify_content": null,
            "justify_items": null,
            "left": null,
            "margin": null,
            "max_height": null,
            "max_width": null,
            "min_height": null,
            "min_width": null,
            "object_fit": null,
            "object_position": null,
            "order": null,
            "overflow": null,
            "overflow_x": null,
            "overflow_y": null,
            "padding": null,
            "right": null,
            "top": null,
            "visibility": null,
            "width": null
          }
        },
        "4e32d0aee2724a139f15f50469ec0c53": {
          "model_module": "@jupyter-widgets/controls",
          "model_name": "DescriptionStyleModel",
          "model_module_version": "1.5.0",
          "state": {
            "_model_module": "@jupyter-widgets/controls",
            "_model_module_version": "1.5.0",
            "_model_name": "DescriptionStyleModel",
            "_view_count": null,
            "_view_module": "@jupyter-widgets/base",
            "_view_module_version": "1.2.0",
            "_view_name": "StyleView",
            "description_width": ""
          }
        },
        "211f2bda289e4e189ee0d5109eb22e74": {
          "model_module": "@jupyter-widgets/controls",
          "model_name": "HBoxModel",
          "model_module_version": "1.5.0",
          "state": {
            "_dom_classes": [],
            "_model_module": "@jupyter-widgets/controls",
            "_model_module_version": "1.5.0",
            "_model_name": "HBoxModel",
            "_view_count": null,
            "_view_module": "@jupyter-widgets/controls",
            "_view_module_version": "1.5.0",
            "_view_name": "HBoxView",
            "box_style": "",
            "children": [
              "IPY_MODEL_5c73cf7e628346f6a84347e285db5690",
              "IPY_MODEL_04e2ba0d3bad4702b56e93ae3aaf5f68",
              "IPY_MODEL_e3c67f0e36f54374bb37ce12583babd1"
            ],
            "layout": "IPY_MODEL_7d8da6b52df649beabc91b539b8e6d76"
          }
        },
        "5c73cf7e628346f6a84347e285db5690": {
          "model_module": "@jupyter-widgets/controls",
          "model_name": "HTMLModel",
          "model_module_version": "1.5.0",
          "state": {
            "_dom_classes": [],
            "_model_module": "@jupyter-widgets/controls",
            "_model_module_version": "1.5.0",
            "_model_name": "HTMLModel",
            "_view_count": null,
            "_view_module": "@jupyter-widgets/controls",
            "_view_module_version": "1.5.0",
            "_view_name": "HTMLView",
            "description": "",
            "description_tooltip": null,
            "layout": "IPY_MODEL_5a4dcef40c364e9b8f82b6916605b7fa",
            "placeholder": "​",
            "style": "IPY_MODEL_e1140de25e5b432b8f12628016a4a9d3",
            "value": "model-00003-of-00004.safetensors: 100%"
          }
        },
        "04e2ba0d3bad4702b56e93ae3aaf5f68": {
          "model_module": "@jupyter-widgets/controls",
          "model_name": "FloatProgressModel",
          "model_module_version": "1.5.0",
          "state": {
            "_dom_classes": [],
            "_model_module": "@jupyter-widgets/controls",
            "_model_module_version": "1.5.0",
            "_model_name": "FloatProgressModel",
            "_view_count": null,
            "_view_module": "@jupyter-widgets/controls",
            "_view_module_version": "1.5.0",
            "_view_name": "ProgressView",
            "bar_style": "success",
            "description": "",
            "description_tooltip": null,
            "layout": "IPY_MODEL_fd5b1cdb50fc48dc9e08ca6c957183f1",
            "max": 4915916176,
            "min": 0,
            "orientation": "horizontal",
            "style": "IPY_MODEL_1457539e0bae4b2887855c7990058026",
            "value": 4915916176
          }
        },
        "e3c67f0e36f54374bb37ce12583babd1": {
          "model_module": "@jupyter-widgets/controls",
          "model_name": "HTMLModel",
          "model_module_version": "1.5.0",
          "state": {
            "_dom_classes": [],
            "_model_module": "@jupyter-widgets/controls",
            "_model_module_version": "1.5.0",
            "_model_name": "HTMLModel",
            "_view_count": null,
            "_view_module": "@jupyter-widgets/controls",
            "_view_module_version": "1.5.0",
            "_view_name": "HTMLView",
            "description": "",
            "description_tooltip": null,
            "layout": "IPY_MODEL_c5fd7fa4328e4210bbf5acf2a1cef6fa",
            "placeholder": "​",
            "style": "IPY_MODEL_2e3da1452bc94084a785a86d8e3efe89",
            "value": " 4.92G/4.92G [00:31&lt;00:00, 204MB/s]"
          }
        },
        "7d8da6b52df649beabc91b539b8e6d76": {
          "model_module": "@jupyter-widgets/base",
          "model_name": "LayoutModel",
          "model_module_version": "1.2.0",
          "state": {
            "_model_module": "@jupyter-widgets/base",
            "_model_module_version": "1.2.0",
            "_model_name": "LayoutModel",
            "_view_count": null,
            "_view_module": "@jupyter-widgets/base",
            "_view_module_version": "1.2.0",
            "_view_name": "LayoutView",
            "align_content": null,
            "align_items": null,
            "align_self": null,
            "border": null,
            "bottom": null,
            "display": null,
            "flex": null,
            "flex_flow": null,
            "grid_area": null,
            "grid_auto_columns": null,
            "grid_auto_flow": null,
            "grid_auto_rows": null,
            "grid_column": null,
            "grid_gap": null,
            "grid_row": null,
            "grid_template_areas": null,
            "grid_template_columns": null,
            "grid_template_rows": null,
            "height": null,
            "justify_content": null,
            "justify_items": null,
            "left": null,
            "margin": null,
            "max_height": null,
            "max_width": null,
            "min_height": null,
            "min_width": null,
            "object_fit": null,
            "object_position": null,
            "order": null,
            "overflow": null,
            "overflow_x": null,
            "overflow_y": null,
            "padding": null,
            "right": null,
            "top": null,
            "visibility": null,
            "width": null
          }
        },
        "5a4dcef40c364e9b8f82b6916605b7fa": {
          "model_module": "@jupyter-widgets/base",
          "model_name": "LayoutModel",
          "model_module_version": "1.2.0",
          "state": {
            "_model_module": "@jupyter-widgets/base",
            "_model_module_version": "1.2.0",
            "_model_name": "LayoutModel",
            "_view_count": null,
            "_view_module": "@jupyter-widgets/base",
            "_view_module_version": "1.2.0",
            "_view_name": "LayoutView",
            "align_content": null,
            "align_items": null,
            "align_self": null,
            "border": null,
            "bottom": null,
            "display": null,
            "flex": null,
            "flex_flow": null,
            "grid_area": null,
            "grid_auto_columns": null,
            "grid_auto_flow": null,
            "grid_auto_rows": null,
            "grid_column": null,
            "grid_gap": null,
            "grid_row": null,
            "grid_template_areas": null,
            "grid_template_columns": null,
            "grid_template_rows": null,
            "height": null,
            "justify_content": null,
            "justify_items": null,
            "left": null,
            "margin": null,
            "max_height": null,
            "max_width": null,
            "min_height": null,
            "min_width": null,
            "object_fit": null,
            "object_position": null,
            "order": null,
            "overflow": null,
            "overflow_x": null,
            "overflow_y": null,
            "padding": null,
            "right": null,
            "top": null,
            "visibility": null,
            "width": null
          }
        },
        "e1140de25e5b432b8f12628016a4a9d3": {
          "model_module": "@jupyter-widgets/controls",
          "model_name": "DescriptionStyleModel",
          "model_module_version": "1.5.0",
          "state": {
            "_model_module": "@jupyter-widgets/controls",
            "_model_module_version": "1.5.0",
            "_model_name": "DescriptionStyleModel",
            "_view_count": null,
            "_view_module": "@jupyter-widgets/base",
            "_view_module_version": "1.2.0",
            "_view_name": "StyleView",
            "description_width": ""
          }
        },
        "fd5b1cdb50fc48dc9e08ca6c957183f1": {
          "model_module": "@jupyter-widgets/base",
          "model_name": "LayoutModel",
          "model_module_version": "1.2.0",
          "state": {
            "_model_module": "@jupyter-widgets/base",
            "_model_module_version": "1.2.0",
            "_model_name": "LayoutModel",
            "_view_count": null,
            "_view_module": "@jupyter-widgets/base",
            "_view_module_version": "1.2.0",
            "_view_name": "LayoutView",
            "align_content": null,
            "align_items": null,
            "align_self": null,
            "border": null,
            "bottom": null,
            "display": null,
            "flex": null,
            "flex_flow": null,
            "grid_area": null,
            "grid_auto_columns": null,
            "grid_auto_flow": null,
            "grid_auto_rows": null,
            "grid_column": null,
            "grid_gap": null,
            "grid_row": null,
            "grid_template_areas": null,
            "grid_template_columns": null,
            "grid_template_rows": null,
            "height": null,
            "justify_content": null,
            "justify_items": null,
            "left": null,
            "margin": null,
            "max_height": null,
            "max_width": null,
            "min_height": null,
            "min_width": null,
            "object_fit": null,
            "object_position": null,
            "order": null,
            "overflow": null,
            "overflow_x": null,
            "overflow_y": null,
            "padding": null,
            "right": null,
            "top": null,
            "visibility": null,
            "width": null
          }
        },
        "1457539e0bae4b2887855c7990058026": {
          "model_module": "@jupyter-widgets/controls",
          "model_name": "ProgressStyleModel",
          "model_module_version": "1.5.0",
          "state": {
            "_model_module": "@jupyter-widgets/controls",
            "_model_module_version": "1.5.0",
            "_model_name": "ProgressStyleModel",
            "_view_count": null,
            "_view_module": "@jupyter-widgets/base",
            "_view_module_version": "1.2.0",
            "_view_name": "StyleView",
            "bar_color": null,
            "description_width": ""
          }
        },
        "c5fd7fa4328e4210bbf5acf2a1cef6fa": {
          "model_module": "@jupyter-widgets/base",
          "model_name": "LayoutModel",
          "model_module_version": "1.2.0",
          "state": {
            "_model_module": "@jupyter-widgets/base",
            "_model_module_version": "1.2.0",
            "_model_name": "LayoutModel",
            "_view_count": null,
            "_view_module": "@jupyter-widgets/base",
            "_view_module_version": "1.2.0",
            "_view_name": "LayoutView",
            "align_content": null,
            "align_items": null,
            "align_self": null,
            "border": null,
            "bottom": null,
            "display": null,
            "flex": null,
            "flex_flow": null,
            "grid_area": null,
            "grid_auto_columns": null,
            "grid_auto_flow": null,
            "grid_auto_rows": null,
            "grid_column": null,
            "grid_gap": null,
            "grid_row": null,
            "grid_template_areas": null,
            "grid_template_columns": null,
            "grid_template_rows": null,
            "height": null,
            "justify_content": null,
            "justify_items": null,
            "left": null,
            "margin": null,
            "max_height": null,
            "max_width": null,
            "min_height": null,
            "min_width": null,
            "object_fit": null,
            "object_position": null,
            "order": null,
            "overflow": null,
            "overflow_x": null,
            "overflow_y": null,
            "padding": null,
            "right": null,
            "top": null,
            "visibility": null,
            "width": null
          }
        },
        "2e3da1452bc94084a785a86d8e3efe89": {
          "model_module": "@jupyter-widgets/controls",
          "model_name": "DescriptionStyleModel",
          "model_module_version": "1.5.0",
          "state": {
            "_model_module": "@jupyter-widgets/controls",
            "_model_module_version": "1.5.0",
            "_model_name": "DescriptionStyleModel",
            "_view_count": null,
            "_view_module": "@jupyter-widgets/base",
            "_view_module_version": "1.2.0",
            "_view_name": "StyleView",
            "description_width": ""
          }
        },
        "8a92610f657944f2947e72f06aed17bc": {
          "model_module": "@jupyter-widgets/controls",
          "model_name": "HBoxModel",
          "model_module_version": "1.5.0",
          "state": {
            "_dom_classes": [],
            "_model_module": "@jupyter-widgets/controls",
            "_model_module_version": "1.5.0",
            "_model_name": "HBoxModel",
            "_view_count": null,
            "_view_module": "@jupyter-widgets/controls",
            "_view_module_version": "1.5.0",
            "_view_name": "HBoxView",
            "box_style": "",
            "children": [
              "IPY_MODEL_b6026e36702040fd942a718dbc2636b3",
              "IPY_MODEL_6f2c22b31e4948cb9c1972ca68ba0a55",
              "IPY_MODEL_52c11b4416bc49f18907f3d4ec704aa6"
            ],
            "layout": "IPY_MODEL_ce7b11cf775347b397820f61bbad25c4"
          }
        },
        "b6026e36702040fd942a718dbc2636b3": {
          "model_module": "@jupyter-widgets/controls",
          "model_name": "HTMLModel",
          "model_module_version": "1.5.0",
          "state": {
            "_dom_classes": [],
            "_model_module": "@jupyter-widgets/controls",
            "_model_module_version": "1.5.0",
            "_model_name": "HTMLModel",
            "_view_count": null,
            "_view_module": "@jupyter-widgets/controls",
            "_view_module_version": "1.5.0",
            "_view_name": "HTMLView",
            "description": "",
            "description_tooltip": null,
            "layout": "IPY_MODEL_1782332aefbc431ca8365d85e1bdaee3",
            "placeholder": "​",
            "style": "IPY_MODEL_728a0a3c74954e658023c43d6e2d0216",
            "value": "model-00004-of-00004.safetensors: 100%"
          }
        },
        "6f2c22b31e4948cb9c1972ca68ba0a55": {
          "model_module": "@jupyter-widgets/controls",
          "model_name": "FloatProgressModel",
          "model_module_version": "1.5.0",
          "state": {
            "_dom_classes": [],
            "_model_module": "@jupyter-widgets/controls",
            "_model_module_version": "1.5.0",
            "_model_name": "FloatProgressModel",
            "_view_count": null,
            "_view_module": "@jupyter-widgets/controls",
            "_view_module_version": "1.5.0",
            "_view_name": "ProgressView",
            "bar_style": "success",
            "description": "",
            "description_tooltip": null,
            "layout": "IPY_MODEL_d01ff13934354f1280e98d55a7afc7c0",
            "max": 1168138808,
            "min": 0,
            "orientation": "horizontal",
            "style": "IPY_MODEL_6ebd3ae0e0634c2bbcaa3a9ec12e3f88",
            "value": 1168138808
          }
        },
        "52c11b4416bc49f18907f3d4ec704aa6": {
          "model_module": "@jupyter-widgets/controls",
          "model_name": "HTMLModel",
          "model_module_version": "1.5.0",
          "state": {
            "_dom_classes": [],
            "_model_module": "@jupyter-widgets/controls",
            "_model_module_version": "1.5.0",
            "_model_name": "HTMLModel",
            "_view_count": null,
            "_view_module": "@jupyter-widgets/controls",
            "_view_module_version": "1.5.0",
            "_view_name": "HTMLView",
            "description": "",
            "description_tooltip": null,
            "layout": "IPY_MODEL_1febc3642a27438cb5e1ebb061849a62",
            "placeholder": "​",
            "style": "IPY_MODEL_17b2e606e25f4af2b990cdbf700fda7c",
            "value": " 1.17G/1.17G [00:09&lt;00:00, 219MB/s]"
          }
        },
        "ce7b11cf775347b397820f61bbad25c4": {
          "model_module": "@jupyter-widgets/base",
          "model_name": "LayoutModel",
          "model_module_version": "1.2.0",
          "state": {
            "_model_module": "@jupyter-widgets/base",
            "_model_module_version": "1.2.0",
            "_model_name": "LayoutModel",
            "_view_count": null,
            "_view_module": "@jupyter-widgets/base",
            "_view_module_version": "1.2.0",
            "_view_name": "LayoutView",
            "align_content": null,
            "align_items": null,
            "align_self": null,
            "border": null,
            "bottom": null,
            "display": null,
            "flex": null,
            "flex_flow": null,
            "grid_area": null,
            "grid_auto_columns": null,
            "grid_auto_flow": null,
            "grid_auto_rows": null,
            "grid_column": null,
            "grid_gap": null,
            "grid_row": null,
            "grid_template_areas": null,
            "grid_template_columns": null,
            "grid_template_rows": null,
            "height": null,
            "justify_content": null,
            "justify_items": null,
            "left": null,
            "margin": null,
            "max_height": null,
            "max_width": null,
            "min_height": null,
            "min_width": null,
            "object_fit": null,
            "object_position": null,
            "order": null,
            "overflow": null,
            "overflow_x": null,
            "overflow_y": null,
            "padding": null,
            "right": null,
            "top": null,
            "visibility": null,
            "width": null
          }
        },
        "1782332aefbc431ca8365d85e1bdaee3": {
          "model_module": "@jupyter-widgets/base",
          "model_name": "LayoutModel",
          "model_module_version": "1.2.0",
          "state": {
            "_model_module": "@jupyter-widgets/base",
            "_model_module_version": "1.2.0",
            "_model_name": "LayoutModel",
            "_view_count": null,
            "_view_module": "@jupyter-widgets/base",
            "_view_module_version": "1.2.0",
            "_view_name": "LayoutView",
            "align_content": null,
            "align_items": null,
            "align_self": null,
            "border": null,
            "bottom": null,
            "display": null,
            "flex": null,
            "flex_flow": null,
            "grid_area": null,
            "grid_auto_columns": null,
            "grid_auto_flow": null,
            "grid_auto_rows": null,
            "grid_column": null,
            "grid_gap": null,
            "grid_row": null,
            "grid_template_areas": null,
            "grid_template_columns": null,
            "grid_template_rows": null,
            "height": null,
            "justify_content": null,
            "justify_items": null,
            "left": null,
            "margin": null,
            "max_height": null,
            "max_width": null,
            "min_height": null,
            "min_width": null,
            "object_fit": null,
            "object_position": null,
            "order": null,
            "overflow": null,
            "overflow_x": null,
            "overflow_y": null,
            "padding": null,
            "right": null,
            "top": null,
            "visibility": null,
            "width": null
          }
        },
        "728a0a3c74954e658023c43d6e2d0216": {
          "model_module": "@jupyter-widgets/controls",
          "model_name": "DescriptionStyleModel",
          "model_module_version": "1.5.0",
          "state": {
            "_model_module": "@jupyter-widgets/controls",
            "_model_module_version": "1.5.0",
            "_model_name": "DescriptionStyleModel",
            "_view_count": null,
            "_view_module": "@jupyter-widgets/base",
            "_view_module_version": "1.2.0",
            "_view_name": "StyleView",
            "description_width": ""
          }
        },
        "d01ff13934354f1280e98d55a7afc7c0": {
          "model_module": "@jupyter-widgets/base",
          "model_name": "LayoutModel",
          "model_module_version": "1.2.0",
          "state": {
            "_model_module": "@jupyter-widgets/base",
            "_model_module_version": "1.2.0",
            "_model_name": "LayoutModel",
            "_view_count": null,
            "_view_module": "@jupyter-widgets/base",
            "_view_module_version": "1.2.0",
            "_view_name": "LayoutView",
            "align_content": null,
            "align_items": null,
            "align_self": null,
            "border": null,
            "bottom": null,
            "display": null,
            "flex": null,
            "flex_flow": null,
            "grid_area": null,
            "grid_auto_columns": null,
            "grid_auto_flow": null,
            "grid_auto_rows": null,
            "grid_column": null,
            "grid_gap": null,
            "grid_row": null,
            "grid_template_areas": null,
            "grid_template_columns": null,
            "grid_template_rows": null,
            "height": null,
            "justify_content": null,
            "justify_items": null,
            "left": null,
            "margin": null,
            "max_height": null,
            "max_width": null,
            "min_height": null,
            "min_width": null,
            "object_fit": null,
            "object_position": null,
            "order": null,
            "overflow": null,
            "overflow_x": null,
            "overflow_y": null,
            "padding": null,
            "right": null,
            "top": null,
            "visibility": null,
            "width": null
          }
        },
        "6ebd3ae0e0634c2bbcaa3a9ec12e3f88": {
          "model_module": "@jupyter-widgets/controls",
          "model_name": "ProgressStyleModel",
          "model_module_version": "1.5.0",
          "state": {
            "_model_module": "@jupyter-widgets/controls",
            "_model_module_version": "1.5.0",
            "_model_name": "ProgressStyleModel",
            "_view_count": null,
            "_view_module": "@jupyter-widgets/base",
            "_view_module_version": "1.2.0",
            "_view_name": "StyleView",
            "bar_color": null,
            "description_width": ""
          }
        },
        "1febc3642a27438cb5e1ebb061849a62": {
          "model_module": "@jupyter-widgets/base",
          "model_name": "LayoutModel",
          "model_module_version": "1.2.0",
          "state": {
            "_model_module": "@jupyter-widgets/base",
            "_model_module_version": "1.2.0",
            "_model_name": "LayoutModel",
            "_view_count": null,
            "_view_module": "@jupyter-widgets/base",
            "_view_module_version": "1.2.0",
            "_view_name": "LayoutView",
            "align_content": null,
            "align_items": null,
            "align_self": null,
            "border": null,
            "bottom": null,
            "display": null,
            "flex": null,
            "flex_flow": null,
            "grid_area": null,
            "grid_auto_columns": null,
            "grid_auto_flow": null,
            "grid_auto_rows": null,
            "grid_column": null,
            "grid_gap": null,
            "grid_row": null,
            "grid_template_areas": null,
            "grid_template_columns": null,
            "grid_template_rows": null,
            "height": null,
            "justify_content": null,
            "justify_items": null,
            "left": null,
            "margin": null,
            "max_height": null,
            "max_width": null,
            "min_height": null,
            "min_width": null,
            "object_fit": null,
            "object_position": null,
            "order": null,
            "overflow": null,
            "overflow_x": null,
            "overflow_y": null,
            "padding": null,
            "right": null,
            "top": null,
            "visibility": null,
            "width": null
          }
        },
        "17b2e606e25f4af2b990cdbf700fda7c": {
          "model_module": "@jupyter-widgets/controls",
          "model_name": "DescriptionStyleModel",
          "model_module_version": "1.5.0",
          "state": {
            "_model_module": "@jupyter-widgets/controls",
            "_model_module_version": "1.5.0",
            "_model_name": "DescriptionStyleModel",
            "_view_count": null,
            "_view_module": "@jupyter-widgets/base",
            "_view_module_version": "1.2.0",
            "_view_name": "StyleView",
            "description_width": ""
          }
        },
        "62b384b29c234da0b6069283cd773316": {
          "model_module": "@jupyter-widgets/controls",
          "model_name": "HBoxModel",
          "model_module_version": "1.5.0",
          "state": {
            "_dom_classes": [],
            "_model_module": "@jupyter-widgets/controls",
            "_model_module_version": "1.5.0",
            "_model_name": "HBoxModel",
            "_view_count": null,
            "_view_module": "@jupyter-widgets/controls",
            "_view_module_version": "1.5.0",
            "_view_name": "HBoxView",
            "box_style": "",
            "children": [
              "IPY_MODEL_2c659c7c49594ef68ccd7a6a88929f5b",
              "IPY_MODEL_abf6efb9a7ec43f2bb396b308de0dd29",
              "IPY_MODEL_5d6721b368f146938c38e23370a6f1f8"
            ],
            "layout": "IPY_MODEL_1e9faf801ba641fb8a6697e7ad4d6ecb"
          }
        },
        "2c659c7c49594ef68ccd7a6a88929f5b": {
          "model_module": "@jupyter-widgets/controls",
          "model_name": "HTMLModel",
          "model_module_version": "1.5.0",
          "state": {
            "_dom_classes": [],
            "_model_module": "@jupyter-widgets/controls",
            "_model_module_version": "1.5.0",
            "_model_name": "HTMLModel",
            "_view_count": null,
            "_view_module": "@jupyter-widgets/controls",
            "_view_module_version": "1.5.0",
            "_view_name": "HTMLView",
            "description": "",
            "description_tooltip": null,
            "layout": "IPY_MODEL_5dd6de151f51443cad626e7abcef2461",
            "placeholder": "​",
            "style": "IPY_MODEL_9f9f6d1b702e47ff919a8e57d43dd986",
            "value": "Loading checkpoint shards: 100%"
          }
        },
        "abf6efb9a7ec43f2bb396b308de0dd29": {
          "model_module": "@jupyter-widgets/controls",
          "model_name": "FloatProgressModel",
          "model_module_version": "1.5.0",
          "state": {
            "_dom_classes": [],
            "_model_module": "@jupyter-widgets/controls",
            "_model_module_version": "1.5.0",
            "_model_name": "FloatProgressModel",
            "_view_count": null,
            "_view_module": "@jupyter-widgets/controls",
            "_view_module_version": "1.5.0",
            "_view_name": "ProgressView",
            "bar_style": "success",
            "description": "",
            "description_tooltip": null,
            "layout": "IPY_MODEL_f03dc2e498624990b7f9d906f2bb6daf",
            "max": 4,
            "min": 0,
            "orientation": "horizontal",
            "style": "IPY_MODEL_0914c49ec0124e759db33d29cbce2674",
            "value": 4
          }
        },
        "5d6721b368f146938c38e23370a6f1f8": {
          "model_module": "@jupyter-widgets/controls",
          "model_name": "HTMLModel",
          "model_module_version": "1.5.0",
          "state": {
            "_dom_classes": [],
            "_model_module": "@jupyter-widgets/controls",
            "_model_module_version": "1.5.0",
            "_model_name": "HTMLModel",
            "_view_count": null,
            "_view_module": "@jupyter-widgets/controls",
            "_view_module_version": "1.5.0",
            "_view_name": "HTMLView",
            "description": "",
            "description_tooltip": null,
            "layout": "IPY_MODEL_944dd0681007420882353c6d3c9cee6e",
            "placeholder": "​",
            "style": "IPY_MODEL_5afb4474ed714d5dbe53100a06029700",
            "value": " 4/4 [00:56&lt;00:00, 10.73s/it]"
          }
        },
        "1e9faf801ba641fb8a6697e7ad4d6ecb": {
          "model_module": "@jupyter-widgets/base",
          "model_name": "LayoutModel",
          "model_module_version": "1.2.0",
          "state": {
            "_model_module": "@jupyter-widgets/base",
            "_model_module_version": "1.2.0",
            "_model_name": "LayoutModel",
            "_view_count": null,
            "_view_module": "@jupyter-widgets/base",
            "_view_module_version": "1.2.0",
            "_view_name": "LayoutView",
            "align_content": null,
            "align_items": null,
            "align_self": null,
            "border": null,
            "bottom": null,
            "display": null,
            "flex": null,
            "flex_flow": null,
            "grid_area": null,
            "grid_auto_columns": null,
            "grid_auto_flow": null,
            "grid_auto_rows": null,
            "grid_column": null,
            "grid_gap": null,
            "grid_row": null,
            "grid_template_areas": null,
            "grid_template_columns": null,
            "grid_template_rows": null,
            "height": null,
            "justify_content": null,
            "justify_items": null,
            "left": null,
            "margin": null,
            "max_height": null,
            "max_width": null,
            "min_height": null,
            "min_width": null,
            "object_fit": null,
            "object_position": null,
            "order": null,
            "overflow": null,
            "overflow_x": null,
            "overflow_y": null,
            "padding": null,
            "right": null,
            "top": null,
            "visibility": null,
            "width": null
          }
        },
        "5dd6de151f51443cad626e7abcef2461": {
          "model_module": "@jupyter-widgets/base",
          "model_name": "LayoutModel",
          "model_module_version": "1.2.0",
          "state": {
            "_model_module": "@jupyter-widgets/base",
            "_model_module_version": "1.2.0",
            "_model_name": "LayoutModel",
            "_view_count": null,
            "_view_module": "@jupyter-widgets/base",
            "_view_module_version": "1.2.0",
            "_view_name": "LayoutView",
            "align_content": null,
            "align_items": null,
            "align_self": null,
            "border": null,
            "bottom": null,
            "display": null,
            "flex": null,
            "flex_flow": null,
            "grid_area": null,
            "grid_auto_columns": null,
            "grid_auto_flow": null,
            "grid_auto_rows": null,
            "grid_column": null,
            "grid_gap": null,
            "grid_row": null,
            "grid_template_areas": null,
            "grid_template_columns": null,
            "grid_template_rows": null,
            "height": null,
            "justify_content": null,
            "justify_items": null,
            "left": null,
            "margin": null,
            "max_height": null,
            "max_width": null,
            "min_height": null,
            "min_width": null,
            "object_fit": null,
            "object_position": null,
            "order": null,
            "overflow": null,
            "overflow_x": null,
            "overflow_y": null,
            "padding": null,
            "right": null,
            "top": null,
            "visibility": null,
            "width": null
          }
        },
        "9f9f6d1b702e47ff919a8e57d43dd986": {
          "model_module": "@jupyter-widgets/controls",
          "model_name": "DescriptionStyleModel",
          "model_module_version": "1.5.0",
          "state": {
            "_model_module": "@jupyter-widgets/controls",
            "_model_module_version": "1.5.0",
            "_model_name": "DescriptionStyleModel",
            "_view_count": null,
            "_view_module": "@jupyter-widgets/base",
            "_view_module_version": "1.2.0",
            "_view_name": "StyleView",
            "description_width": ""
          }
        },
        "f03dc2e498624990b7f9d906f2bb6daf": {
          "model_module": "@jupyter-widgets/base",
          "model_name": "LayoutModel",
          "model_module_version": "1.2.0",
          "state": {
            "_model_module": "@jupyter-widgets/base",
            "_model_module_version": "1.2.0",
            "_model_name": "LayoutModel",
            "_view_count": null,
            "_view_module": "@jupyter-widgets/base",
            "_view_module_version": "1.2.0",
            "_view_name": "LayoutView",
            "align_content": null,
            "align_items": null,
            "align_self": null,
            "border": null,
            "bottom": null,
            "display": null,
            "flex": null,
            "flex_flow": null,
            "grid_area": null,
            "grid_auto_columns": null,
            "grid_auto_flow": null,
            "grid_auto_rows": null,
            "grid_column": null,
            "grid_gap": null,
            "grid_row": null,
            "grid_template_areas": null,
            "grid_template_columns": null,
            "grid_template_rows": null,
            "height": null,
            "justify_content": null,
            "justify_items": null,
            "left": null,
            "margin": null,
            "max_height": null,
            "max_width": null,
            "min_height": null,
            "min_width": null,
            "object_fit": null,
            "object_position": null,
            "order": null,
            "overflow": null,
            "overflow_x": null,
            "overflow_y": null,
            "padding": null,
            "right": null,
            "top": null,
            "visibility": null,
            "width": null
          }
        },
        "0914c49ec0124e759db33d29cbce2674": {
          "model_module": "@jupyter-widgets/controls",
          "model_name": "ProgressStyleModel",
          "model_module_version": "1.5.0",
          "state": {
            "_model_module": "@jupyter-widgets/controls",
            "_model_module_version": "1.5.0",
            "_model_name": "ProgressStyleModel",
            "_view_count": null,
            "_view_module": "@jupyter-widgets/base",
            "_view_module_version": "1.2.0",
            "_view_name": "StyleView",
            "bar_color": null,
            "description_width": ""
          }
        },
        "944dd0681007420882353c6d3c9cee6e": {
          "model_module": "@jupyter-widgets/base",
          "model_name": "LayoutModel",
          "model_module_version": "1.2.0",
          "state": {
            "_model_module": "@jupyter-widgets/base",
            "_model_module_version": "1.2.0",
            "_model_name": "LayoutModel",
            "_view_count": null,
            "_view_module": "@jupyter-widgets/base",
            "_view_module_version": "1.2.0",
            "_view_name": "LayoutView",
            "align_content": null,
            "align_items": null,
            "align_self": null,
            "border": null,
            "bottom": null,
            "display": null,
            "flex": null,
            "flex_flow": null,
            "grid_area": null,
            "grid_auto_columns": null,
            "grid_auto_flow": null,
            "grid_auto_rows": null,
            "grid_column": null,
            "grid_gap": null,
            "grid_row": null,
            "grid_template_areas": null,
            "grid_template_columns": null,
            "grid_template_rows": null,
            "height": null,
            "justify_content": null,
            "justify_items": null,
            "left": null,
            "margin": null,
            "max_height": null,
            "max_width": null,
            "min_height": null,
            "min_width": null,
            "object_fit": null,
            "object_position": null,
            "order": null,
            "overflow": null,
            "overflow_x": null,
            "overflow_y": null,
            "padding": null,
            "right": null,
            "top": null,
            "visibility": null,
            "width": null
          }
        },
        "5afb4474ed714d5dbe53100a06029700": {
          "model_module": "@jupyter-widgets/controls",
          "model_name": "DescriptionStyleModel",
          "model_module_version": "1.5.0",
          "state": {
            "_model_module": "@jupyter-widgets/controls",
            "_model_module_version": "1.5.0",
            "_model_name": "DescriptionStyleModel",
            "_view_count": null,
            "_view_module": "@jupyter-widgets/base",
            "_view_module_version": "1.2.0",
            "_view_name": "StyleView",
            "description_width": ""
          }
        },
        "f7cbe5a47ade4693bbc2dbd5695bf6ad": {
          "model_module": "@jupyter-widgets/controls",
          "model_name": "HBoxModel",
          "model_module_version": "1.5.0",
          "state": {
            "_dom_classes": [],
            "_model_module": "@jupyter-widgets/controls",
            "_model_module_version": "1.5.0",
            "_model_name": "HBoxModel",
            "_view_count": null,
            "_view_module": "@jupyter-widgets/controls",
            "_view_module_version": "1.5.0",
            "_view_name": "HBoxView",
            "box_style": "",
            "children": [
              "IPY_MODEL_552f31cfc8b44113b59725781854d318",
              "IPY_MODEL_6f7152d2377d4139b07dd3922d223730",
              "IPY_MODEL_ecaeac955c5f4a77a31d211a53f85a78"
            ],
            "layout": "IPY_MODEL_d5a8e5a184e74e179c62baaedb5b19cd"
          }
        },
        "552f31cfc8b44113b59725781854d318": {
          "model_module": "@jupyter-widgets/controls",
          "model_name": "HTMLModel",
          "model_module_version": "1.5.0",
          "state": {
            "_dom_classes": [],
            "_model_module": "@jupyter-widgets/controls",
            "_model_module_version": "1.5.0",
            "_model_name": "HTMLModel",
            "_view_count": null,
            "_view_module": "@jupyter-widgets/controls",
            "_view_module_version": "1.5.0",
            "_view_name": "HTMLView",
            "description": "",
            "description_tooltip": null,
            "layout": "IPY_MODEL_ebac8ffbbb0b498f9948d8d42b3796f5",
            "placeholder": "​",
            "style": "IPY_MODEL_83b53d7f61134d308170b8c5355aa74e",
            "value": "generation_config.json: 100%"
          }
        },
        "6f7152d2377d4139b07dd3922d223730": {
          "model_module": "@jupyter-widgets/controls",
          "model_name": "FloatProgressModel",
          "model_module_version": "1.5.0",
          "state": {
            "_dom_classes": [],
            "_model_module": "@jupyter-widgets/controls",
            "_model_module_version": "1.5.0",
            "_model_name": "FloatProgressModel",
            "_view_count": null,
            "_view_module": "@jupyter-widgets/controls",
            "_view_module_version": "1.5.0",
            "_view_name": "ProgressView",
            "bar_style": "success",
            "description": "",
            "description_tooltip": null,
            "layout": "IPY_MODEL_8029f9dc818d48b8aaa3c9070297ea05",
            "max": 187,
            "min": 0,
            "orientation": "horizontal",
            "style": "IPY_MODEL_9507d5005c83487da7234b89e3c4ad6e",
            "value": 187
          }
        },
        "ecaeac955c5f4a77a31d211a53f85a78": {
          "model_module": "@jupyter-widgets/controls",
          "model_name": "HTMLModel",
          "model_module_version": "1.5.0",
          "state": {
            "_dom_classes": [],
            "_model_module": "@jupyter-widgets/controls",
            "_model_module_version": "1.5.0",
            "_model_name": "HTMLModel",
            "_view_count": null,
            "_view_module": "@jupyter-widgets/controls",
            "_view_module_version": "1.5.0",
            "_view_name": "HTMLView",
            "description": "",
            "description_tooltip": null,
            "layout": "IPY_MODEL_f58db6504d7940a49198d970dcd63c92",
            "placeholder": "​",
            "style": "IPY_MODEL_0bbde3642a0e429ca69c9141132640ea",
            "value": " 187/187 [00:00&lt;00:00, 12.4kB/s]"
          }
        },
        "d5a8e5a184e74e179c62baaedb5b19cd": {
          "model_module": "@jupyter-widgets/base",
          "model_name": "LayoutModel",
          "model_module_version": "1.2.0",
          "state": {
            "_model_module": "@jupyter-widgets/base",
            "_model_module_version": "1.2.0",
            "_model_name": "LayoutModel",
            "_view_count": null,
            "_view_module": "@jupyter-widgets/base",
            "_view_module_version": "1.2.0",
            "_view_name": "LayoutView",
            "align_content": null,
            "align_items": null,
            "align_self": null,
            "border": null,
            "bottom": null,
            "display": null,
            "flex": null,
            "flex_flow": null,
            "grid_area": null,
            "grid_auto_columns": null,
            "grid_auto_flow": null,
            "grid_auto_rows": null,
            "grid_column": null,
            "grid_gap": null,
            "grid_row": null,
            "grid_template_areas": null,
            "grid_template_columns": null,
            "grid_template_rows": null,
            "height": null,
            "justify_content": null,
            "justify_items": null,
            "left": null,
            "margin": null,
            "max_height": null,
            "max_width": null,
            "min_height": null,
            "min_width": null,
            "object_fit": null,
            "object_position": null,
            "order": null,
            "overflow": null,
            "overflow_x": null,
            "overflow_y": null,
            "padding": null,
            "right": null,
            "top": null,
            "visibility": null,
            "width": null
          }
        },
        "ebac8ffbbb0b498f9948d8d42b3796f5": {
          "model_module": "@jupyter-widgets/base",
          "model_name": "LayoutModel",
          "model_module_version": "1.2.0",
          "state": {
            "_model_module": "@jupyter-widgets/base",
            "_model_module_version": "1.2.0",
            "_model_name": "LayoutModel",
            "_view_count": null,
            "_view_module": "@jupyter-widgets/base",
            "_view_module_version": "1.2.0",
            "_view_name": "LayoutView",
            "align_content": null,
            "align_items": null,
            "align_self": null,
            "border": null,
            "bottom": null,
            "display": null,
            "flex": null,
            "flex_flow": null,
            "grid_area": null,
            "grid_auto_columns": null,
            "grid_auto_flow": null,
            "grid_auto_rows": null,
            "grid_column": null,
            "grid_gap": null,
            "grid_row": null,
            "grid_template_areas": null,
            "grid_template_columns": null,
            "grid_template_rows": null,
            "height": null,
            "justify_content": null,
            "justify_items": null,
            "left": null,
            "margin": null,
            "max_height": null,
            "max_width": null,
            "min_height": null,
            "min_width": null,
            "object_fit": null,
            "object_position": null,
            "order": null,
            "overflow": null,
            "overflow_x": null,
            "overflow_y": null,
            "padding": null,
            "right": null,
            "top": null,
            "visibility": null,
            "width": null
          }
        },
        "83b53d7f61134d308170b8c5355aa74e": {
          "model_module": "@jupyter-widgets/controls",
          "model_name": "DescriptionStyleModel",
          "model_module_version": "1.5.0",
          "state": {
            "_model_module": "@jupyter-widgets/controls",
            "_model_module_version": "1.5.0",
            "_model_name": "DescriptionStyleModel",
            "_view_count": null,
            "_view_module": "@jupyter-widgets/base",
            "_view_module_version": "1.2.0",
            "_view_name": "StyleView",
            "description_width": ""
          }
        },
        "8029f9dc818d48b8aaa3c9070297ea05": {
          "model_module": "@jupyter-widgets/base",
          "model_name": "LayoutModel",
          "model_module_version": "1.2.0",
          "state": {
            "_model_module": "@jupyter-widgets/base",
            "_model_module_version": "1.2.0",
            "_model_name": "LayoutModel",
            "_view_count": null,
            "_view_module": "@jupyter-widgets/base",
            "_view_module_version": "1.2.0",
            "_view_name": "LayoutView",
            "align_content": null,
            "align_items": null,
            "align_self": null,
            "border": null,
            "bottom": null,
            "display": null,
            "flex": null,
            "flex_flow": null,
            "grid_area": null,
            "grid_auto_columns": null,
            "grid_auto_flow": null,
            "grid_auto_rows": null,
            "grid_column": null,
            "grid_gap": null,
            "grid_row": null,
            "grid_template_areas": null,
            "grid_template_columns": null,
            "grid_template_rows": null,
            "height": null,
            "justify_content": null,
            "justify_items": null,
            "left": null,
            "margin": null,
            "max_height": null,
            "max_width": null,
            "min_height": null,
            "min_width": null,
            "object_fit": null,
            "object_position": null,
            "order": null,
            "overflow": null,
            "overflow_x": null,
            "overflow_y": null,
            "padding": null,
            "right": null,
            "top": null,
            "visibility": null,
            "width": null
          }
        },
        "9507d5005c83487da7234b89e3c4ad6e": {
          "model_module": "@jupyter-widgets/controls",
          "model_name": "ProgressStyleModel",
          "model_module_version": "1.5.0",
          "state": {
            "_model_module": "@jupyter-widgets/controls",
            "_model_module_version": "1.5.0",
            "_model_name": "ProgressStyleModel",
            "_view_count": null,
            "_view_module": "@jupyter-widgets/base",
            "_view_module_version": "1.2.0",
            "_view_name": "StyleView",
            "bar_color": null,
            "description_width": ""
          }
        },
        "f58db6504d7940a49198d970dcd63c92": {
          "model_module": "@jupyter-widgets/base",
          "model_name": "LayoutModel",
          "model_module_version": "1.2.0",
          "state": {
            "_model_module": "@jupyter-widgets/base",
            "_model_module_version": "1.2.0",
            "_model_name": "LayoutModel",
            "_view_count": null,
            "_view_module": "@jupyter-widgets/base",
            "_view_module_version": "1.2.0",
            "_view_name": "LayoutView",
            "align_content": null,
            "align_items": null,
            "align_self": null,
            "border": null,
            "bottom": null,
            "display": null,
            "flex": null,
            "flex_flow": null,
            "grid_area": null,
            "grid_auto_columns": null,
            "grid_auto_flow": null,
            "grid_auto_rows": null,
            "grid_column": null,
            "grid_gap": null,
            "grid_row": null,
            "grid_template_areas": null,
            "grid_template_columns": null,
            "grid_template_rows": null,
            "height": null,
            "justify_content": null,
            "justify_items": null,
            "left": null,
            "margin": null,
            "max_height": null,
            "max_width": null,
            "min_height": null,
            "min_width": null,
            "object_fit": null,
            "object_position": null,
            "order": null,
            "overflow": null,
            "overflow_x": null,
            "overflow_y": null,
            "padding": null,
            "right": null,
            "top": null,
            "visibility": null,
            "width": null
          }
        },
        "0bbde3642a0e429ca69c9141132640ea": {
          "model_module": "@jupyter-widgets/controls",
          "model_name": "DescriptionStyleModel",
          "model_module_version": "1.5.0",
          "state": {
            "_model_module": "@jupyter-widgets/controls",
            "_model_module_version": "1.5.0",
            "_model_name": "DescriptionStyleModel",
            "_view_count": null,
            "_view_module": "@jupyter-widgets/base",
            "_view_module_version": "1.2.0",
            "_view_name": "StyleView",
            "description_width": ""
          }
        }
      }
    }
  },
  "nbformat": 4,
  "nbformat_minor": 0
}