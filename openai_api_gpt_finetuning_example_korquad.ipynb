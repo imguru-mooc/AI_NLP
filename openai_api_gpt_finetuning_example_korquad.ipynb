{
  "nbformat": 4,
  "nbformat_minor": 0,
  "metadata": {
    "colab": {
      "provenance": []
    },
    "kernelspec": {
      "name": "python3",
      "display_name": "Python 3"
    },
    "language_info": {
      "name": "python"
    }
  },
  "cells": [
    {
      "cell_type": "markdown",
      "source": [
        "# OpenAI API를 이용해서 GPT 3.5를 KorQuad 데이터셋에 맞게 Fine-Tuning & Inference\n",
        "## 작성자 : AISchool ( https://www.udemy.com/course/llm-part-1-llama-2-fine-tuning/?referralCode=32804C68FEF005E82BCF )"
      ],
      "metadata": {
        "id": "pJ6i2qcdZ0Ow"
      }
    },
    {
      "cell_type": "code",
      "execution_count": null,
      "metadata": {
        "id": "zjfqB6AOlpTP"
      },
      "outputs": [],
      "source": [
        "!pip install openai"
      ]
    },
    {
      "cell_type": "markdown",
      "source": [
        "# 학습 데이터 uplaod\n",
        "## korquad_data.jsonl 파일 링크 : https://drive.google.com/file/d/1OW_jTleltVXa3a7MgWJpr4VlCyZoAIeM/view?usp=sharing"
      ],
      "metadata": {
        "id": "5mD6jwiImSDL"
      }
    },
    {
      "cell_type": "code",
      "source": [
        "import os\n",
        "import openai\n",
        "openai.api_key = \"여러분의_OPEN_API_KEY\"\n",
        "openai.File.create(\n",
        "  file=open(\"korquad_data.jsonl\", \"rb\"),\n",
        "  purpose='fine-tune'\n",
        ")"
      ],
      "metadata": {
        "id": "7UCqdAaEmLq-"
      },
      "execution_count": null,
      "outputs": []
    },
    {
      "cell_type": "markdown",
      "source": [
        "# 업로드한 File Id 확인"
      ],
      "metadata": {
        "id": "kygFWMmTncx5"
      }
    },
    {
      "cell_type": "code",
      "source": [
        "openai.File.list()"
      ],
      "metadata": {
        "id": "-W4D0Kb6nQVZ"
      },
      "execution_count": null,
      "outputs": []
    },
    {
      "cell_type": "markdown",
      "source": [
        "# Fine-Tuning 작업 시작"
      ],
      "metadata": {
        "id": "y8GTve87nqWp"
      }
    },
    {
      "cell_type": "code",
      "source": [
        "openai.FineTuningJob.create(training_file=\"여러분의_File_Id\", model=\"gpt-3.5-turbo\")"
      ],
      "metadata": {
        "id": "99N3OZB6nhkh"
      },
      "execution_count": null,
      "outputs": []
    },
    {
      "cell_type": "markdown",
      "source": [
        "# Fine-Tuning된 모델 Inference"
      ],
      "metadata": {
        "id": "cSW_h-Wgn7TB"
      }
    },
    {
      "cell_type": "markdown",
      "source": [
        "# 20개 sample에 대한 inference (Fine-Tuning된 모델 성능 테스트)"
      ],
      "metadata": {
        "id": "MLIbshXuSIAo"
      }
    },
    {
      "cell_type": "code",
      "source": [
        "model_id = \"여러분의_model_id\""
      ],
      "metadata": {
        "id": "r2zKTsE9SwX1"
      },
      "execution_count": null,
      "outputs": []
    },
    {
      "cell_type": "code",
      "source": [
        "def gen(prompt):\n",
        "  completion = openai.ChatCompletion.create(\n",
        "  model=model_id,\n",
        "  messages=[\n",
        "    {\"role\": \"system\", \"content\": \"\"},\n",
        "    {\"role\": \"user\", \"content\": f\"{prompt}\"}\n",
        "  ]\n",
        "  )\n",
        "\n",
        "  response = completion.choices[0].message['content']\n",
        "  print(response)"
      ],
      "metadata": {
        "id": "yMEI63CmTJXQ"
      },
      "execution_count": null,
      "outputs": []
    },
    {
      "cell_type": "code",
      "source": [
        "# idx 0\n",
        "gen(\"임종석이 여의도 농민 폭력 시위를 주도한 혐의로 지명수배 된 날은?\")\n",
        "\n",
        "# 정답 : 1989년 2월 15일\n",
        "# 맞춤유무 : o\n",
        "\n",
        "# ChatGPT(GPT-4) results :\n",
        "# 임종석은 1989년 5월 26일 여의도 농민 폭력 시위를 주도한 혐의로 지명수배되었습니다. \\\n",
        "# 그는 이후 1995년 5월 18일에 체포되었고, 여러 차례의 재판 끝에 1996년에 석방되었습니다.\n",
        "# 이 사건은 당시 대한민국 사회와 정치에 큰 영향을 끼쳤으며, 임종석 자신도 이후에는 정치와 사회운동, 교육 등 여러 분야에서 활동하게 됩니다.\n",
        "# 참고로 정보가 2021년 9월까지 업데이트되어 있으니, 그 이후의 정보는 확인할 수 없습니다.\n",
        "\n",
        "# GPT-4 맞춤유무 : x"
      ],
      "metadata": {
        "colab": {
          "base_uri": "https://localhost:8080/"
        },
        "id": "WdHY_euwRhuU",
        "outputId": "1e687c6b-907e-4697-8a06-48e801f51e77"
      },
      "execution_count": null,
      "outputs": [
        {
          "output_type": "stream",
          "name": "stdout",
          "text": [
            "1989년 2월 15일\n"
          ]
        }
      ]
    },
    {
      "cell_type": "code",
      "source": [
        "# idx 1\n",
        "gen(\"1989년 6월 30일 평양축전에 대표로 파견 된 인물은?\")\n",
        "# 정답 : 임수경\n",
        "# 맞춤유무 : o\n",
        "\n",
        "# ChatGPT(GPT-4) results :\n",
        "# 1989년 6월 30일에 열린 평양축전(World Festival of Youth and Students)에 대한 정확한 정보는 제한되어 있지만,\n",
        "# 이 이벤트는 북한 평양에서 열린 것으로 알려져 있습니다. 이 축전은 여러 나라의 청년들이 모여 문화 교류와 평화를 주제로 다양한 활동을\n",
        "# 하는 행사입니다.\n",
        "\n",
        "# 대표로 파견된 인물에 대한 정보는 명확하지 않으며, 이러한 정보는 여러 나라의 참가자, 관계자,\n",
        "# 정치인 등 다양하게 파견될 수 있습니다. 또한 축전의 성격과 목적에 따라 다양한 계층과 집단에서 대표가\n",
        "# 파견되었을 가능성이 있습니다. 따라서, 구체적인 대표 인물을 지칭하기는 어렵습니다.\n",
        "# 이러한 이벤트에서는 일반적으로 여러 나라의 청년 대표뿐만 아니라 정치인, 예술가,\n",
        "# 사회운동가 등도 참가하기 때문에 대표 인물이 누구인지에 대한 정보는 매우 다양할 수 있습니다.\n",
        "\n",
        "# GPT-4 맞춤유무 : x"
      ],
      "metadata": {
        "colab": {
          "base_uri": "https://localhost:8080/"
        },
        "id": "IWFoEZTeQCmt",
        "outputId": "8bf59a4e-93d4-4d2b-d597-1a8f5c1d6c72"
      },
      "execution_count": null,
      "outputs": [
        {
          "output_type": "stream",
          "name": "stdout",
          "text": [
            "임수경\n"
          ]
        }
      ]
    },
    {
      "cell_type": "code",
      "source": [
        "# idx 2\n",
        "gen(\"임종석이 여의도 농민 폭력 시위를 주도한 혐의로 지명수배된 연도는?\")\n",
        "# 정답 : 1989년\n",
        "# 맞춤유무 : o\n",
        "\n",
        "# ChatGPT(GPT-4) results :\n",
        "# 임종석은 1989년 여의도 농민 폭력 시위를 주도한 혐의로 지명수배되었습니다.\n",
        "# 그는 민주화 운동과 학생 운동에 활발하게 참여한 인물로, 여의도 시위 때의 역할에 대해 수사를 받았습니다.\n",
        "# 이후에 그는 체포되어 재판을 받았고, 그 결과로 일정 기간을 복역한 뒤에 출소했습니다.\n",
        "# 이 사건은 당시의 정치적, 사회적 상황 속에서 많은 논란을 불러일으켰습니다.\n",
        "\n",
        "# 임종석은 후에 정치인으로 활동하며 다양한 역할을 했으며,\n",
        "# 시간이 지남에 따라 그의 역할과 의미에 대한 평가도 다양해져 있습니다.\n",
        "\n",
        "# GPT-4 맞춤유무 : o"
      ],
      "metadata": {
        "colab": {
          "base_uri": "https://localhost:8080/"
        },
        "id": "XHVrS6wYS7Qh",
        "outputId": "5abeb4fe-b399-4036-8ccb-693def0207b6"
      },
      "execution_count": null,
      "outputs": [
        {
          "output_type": "stream",
          "name": "stdout",
          "text": [
            "1989년\n"
          ]
        }
      ]
    },
    {
      "cell_type": "code",
      "source": [
        "# idx 3\n",
        "gen(\"임종석을 검거한 장소는 경희대 내 어디인가?\")\n",
        "# 정답 : 학생회관 건물 계단\n",
        "# 맞춤유무 : x\n",
        "\n",
        "# ChatGPT(GPT-4) results :\n",
        "# 지금까지의 정보로는 임종석은 1989년에 경희대학교 내에서 검거되었습니다.\n",
        "# 그는 경희대학교의 도서관에서 검거되었다고 알려져 있습니다.\n",
        "# 임종석은 당시 대학운동을 주도하던 인물로, 민주화 운동과 학생 운동에 앞장서 있었습니다.\n",
        "# 그의 검거는 당시 정부와의 대립을 상징하는 사건 중 하나였습니다.\n",
        "\n",
        "# 단, 이러한 정보는 시간이 지나면서 업데이트될 수 있으므로,\n",
        "# 가장 최신의 정보를 확인하기 위해서는 신뢰할 수 있는 출처를 찾아보시는 것이 좋습니다.\n",
        "\n",
        "# GPT-4 맞춤유무 : x"
      ],
      "metadata": {
        "colab": {
          "base_uri": "https://localhost:8080/"
        },
        "id": "j5Q8sSlcTGUg",
        "outputId": "46b5c28e-7586-4056-d729-1a072cfe4908"
      },
      "execution_count": null,
      "outputs": [
        {
          "output_type": "stream",
          "name": "stdout",
          "text": [
            "사범대학 건물 (2호관) 옥상\n"
          ]
        }
      ]
    },
    {
      "cell_type": "code",
      "source": [
        "# idx 4\n",
        "gen(\"임종석이 조사를 받은 뒤 인계된 곳은 어딘가?\")\n",
        "# 정답 : 서울지방경찰청 공안분실\n",
        "# 맞춤유무 : o\n",
        "\n",
        "# ChatGPT(GPT-4) results :\n",
        "# 저의 마지막 업데이트 시점인 2021년 9월까지의 정보에 따르면, 임종석은 1989년에 민주화 운동에 참여한 혐의로 체포되었습니다.\n",
        "# 그 후에는 서울 경찰청에서 조사를 받은 뒤 국가보안법 위반 등의 혐의로 기소되었습니다.\n",
        "\n",
        "# 이러한 사건은 당시 대통령이었던 노태우 정부에 의해 실시되었으며,\n",
        "# 임종석은 그 후 1991년에 석방되었습니다.\n",
        "# 이후로 그는 민주화 운동과 관련된 다양한 활동을 계속하였고, 정치, 사회운동 등에서도 활발히 활동하였습니다.\n",
        "\n",
        "# 자세한 정보는 시기와 상황에 따라 달라질 수 있으므로, 최신 정보를 확인하시기 바랍니다.\n",
        "\n",
        "# GPT-4 맞춤유무 : x"
      ],
      "metadata": {
        "colab": {
          "base_uri": "https://localhost:8080/"
        },
        "id": "qq6KUL4NUHnv",
        "outputId": "f92afe58-56dc-4d71-f114-f619f8c3a9f7"
      },
      "execution_count": null,
      "outputs": [
        {
          "output_type": "stream",
          "name": "stdout",
          "text": [
            "서울지방경찰청 공안분실\n"
          ]
        }
      ]
    },
    {
      "cell_type": "code",
      "source": [
        "# idx 5\n",
        "gen(\"1989년 2월 15일 여의도 농민 폭력 시위를 주도한 혐의로 지명수배된 사람의 이름은?\")\n",
        "# 정답 : 임종석\n",
        "# 맞춤유무 : x\n",
        "\n",
        "# ChatGPT(GPT-4) results :\n",
        "# 1989년 2월 15일에 일어난 여의도 농민 폭력 시위와 관련하여 지명수배된 사람의 이름은 이용한(Lee Yong-han)입니다.\n",
        "# 이 사건은 대한민국에서 농업 정책에 대한 논란과 농민들의 경제적 어려움을 둘러싼 여러 시위 중 하나였습니다.\n",
        "# 이용한은 이 시위를 주도한 혐의로 지명수배되었으며, 이후에도 그는 농민 운동과 관련하여 여러 차례 논란의 중심에 있었습니다.\n",
        "\n",
        "# 해당 정보는 제가 마지막으로 업데이트 된 시점까지의 내용이며, 더 최근의 정보가 있을 수 있습니다.\n",
        "\n",
        "# GPT-4 맞춤유무 : x"
      ],
      "metadata": {
        "colab": {
          "base_uri": "https://localhost:8080/"
        },
        "id": "a9TdmJ9wUUi4",
        "outputId": "21f18db2-d880-48f1-a604-24d1ab820bdd"
      },
      "execution_count": null,
      "outputs": [
        {
          "output_type": "stream",
          "name": "stdout",
          "text": [
            "양승태\n"
          ]
        }
      ]
    },
    {
      "cell_type": "code",
      "source": [
        "# idx 6\n",
        "gen(\"임종석이 1989년 2월 15일에 지명수배 받은 혐의는 어떤 시위를 주도했다는 것인가?\")\n",
        "# 정답 : 여의도 농민 폭력 시위\n",
        "# 맞춤유무 : x\n",
        "\n",
        "# ChatGPT(GPT-4) results :\n",
        "# 1989년 2월 15일에 임종석이 지명수배 받은 혐의는 대한민국의 국가보안법 위반과\n",
        "# 1987년에 발생한 '6월 항쟁'이라고 알려진 대규모 민주화 시위를 주도했다는 것이었습니다.\n",
        "# 임종석은 당시에 대한민국에서 민주화 운동을 주도하는 주요 인물 중 하나였고,\n",
        "# 그의 활동은 당시 정부에게는 국가보안법 위반으로 판단되었습니다.\n",
        "# 6월 항쟁은 전국적인 민주화 운동으로 이어지며, 이후의 대한민국 정치에 큰 변화를 가져왔습니다.\n",
        "# 이러한 활동 때문에 임종석은 지명수배를 받았고, 결국 1995년에 체포되어 재판을 받았습니다.\n",
        "\n",
        "# 이렇게 설명하면 그의 활동이 오로지 불법적이고 반국가적인 것처럼 해석될 수 있지만,\n",
        "# 그의 활동은 대한민국의 민주화 과정에서 중요한 역할을 했다고도 볼 수 있습니다.\n",
        "# 시간이 흐르면서 대한민국은 민주화가 점점 더 이루어지고, 그 과정에서 임종석 같은\n",
        "# 인물들이 어떠한 역할을 했는지에 대한 평가도 다양해졌습니다.\n",
        "\n",
        "# GPT-4 맞춤유무 : x"
      ],
      "metadata": {
        "colab": {
          "base_uri": "https://localhost:8080/"
        },
        "id": "3iEBDItqUjX_",
        "outputId": "f4681204-fa0a-4a8c-8b55-764344a8cdb2"
      },
      "execution_count": null,
      "outputs": [
        {
          "output_type": "stream",
          "name": "stdout",
          "text": [
            "혜화마타돈 살인사건\n"
          ]
        }
      ]
    },
    {
      "cell_type": "code",
      "source": [
        "# idx 7\n",
        "gen(\"정부의 헌법개정안 준비 과정에 대해서 청와대 비서실이 아니라 국무회의 중심으로 이뤄졌어야 했다고 지적한 원로 헌법학자는?\")\n",
        "# 정답 : 허영\n",
        "# 맞춤유무 : o\n",
        "\n",
        "# ChatGPT(GPT-4) results :\n",
        "# 제 지식의 마지막 업데이트는 2021년 9월까지이므로 그 이후의 사건이나 인물에 대한 정보는 제공할 수 없습니다.\n",
        "# 그렇지만 대한민국에서 원로 헌법학자가 헌법개정안 준비 과정에 대하여 국무회의를 중심으로 이뤄져야 한다고\n",
        "# 지적하는 것은 헌법 개정의 본질과 과정, 그리고 민주주의에 대한 학술적 논의를 반영할 수 있습니다.\n",
        "\n",
        "# 헌법 개정이나 중요한 정책 결정에서 국무회의의 역할을 강조하는 것은 다양한 의견과 분야의\n",
        "# 전문가들이 참여하는 통한 투명성과 책임성을 높이기 위한 것일 수 있습니다.\n",
        "# 이런 지적은 보통 헌법학, 정치학, 행정학 등 다양한 학문에서 다루어지는 주제입니다.\n",
        "\n",
        "# 만약 특정 원로 헌법학자가 이러한 지적을 한 것이 최근의 사안이라면, 해당 내용은 제가 알 수 없는 범위에 속하게 됩니다.\n",
        "# 이 경우 신뢰할 수 있는 뉴스 출처나 학술 자료를 참고하시는 것이 좋을 것입니다.\n",
        "\n",
        "# GPT-4 맞춤유무 : x"
      ],
      "metadata": {
        "colab": {
          "base_uri": "https://localhost:8080/"
        },
        "id": "AbkF7Tv_U_mD",
        "outputId": "ea8dbddf-d498-41a4-b604-8b51964a4f76"
      },
      "execution_count": null,
      "outputs": [
        {
          "output_type": "stream",
          "name": "stdout",
          "text": [
            "허영\n"
          ]
        }
      ]
    },
    {
      "cell_type": "code",
      "source": [
        "# idx 8\n",
        "gen(\"행보가 비서 본연의 역할을 벗어난다', '장관들과 내각이 소외되고 대통령비서실의 권한이 너무 크다'는 의견이 제기된 대표적인 예는?\")\n",
        "# 정답 : 10차 개헌안 발표\n",
        "# 맞춤유무 : x\n",
        "\n",
        "# ChatGPT(GPT-4) results :\n",
        "# \"행보가 비서 본연의 역할을 벗어난다\", \"장관들과 내각이 소외되고 대통령비서실의 권한이 너무 크다\"는\n",
        "# 비판은 일반적으로 대통령 혹은 총리 주변의 스태프나 비서실이 과도한 권력을 행사할 때 나타납니다. 이러한 현상은 여러 나라와\n",
        "# 다양한 정부 체제에서 발생할 수 있으며, 특히나 대통령제가 시행되는 국가에서 더욱 두드러지곤 합니다.\n",
        "\n",
        "# 미국: 미국에서는 이러한 비판이 때때로 \"확장된 행정부(Imperial Presidency)\"라는 용어로 불립니다.\n",
        "# 특히 리처드 닉슨, 조지 W. 부시, 바락 오바마 대통령 등이 이러한 비판을 받은 경우가 있습니다.\n",
        "# 대한민국: 대한민국에서도 대통령비서실의 권한과 역할이 너무 커진 것이 아니냐는 지적이 종종 있습니다.\n",
        "# 이는 비서실이 실질적인 결정 권한을 행사하기도 하고, 장관이나 기타 고위 공직자보다도 대통령에게 더 가까운 영향력을 행사할 때 나타납니다.\n",
        "# 프랑스: 프랑스의 '에리제 팔레스(Elysée Palace)'도 비슷한 비판을 받을 때가 있습니다.\n",
        "# 프랑스 대통령은 헌법상으로 많은 권한을 가지고 있고, 때로는 이를 비서실을 통해 행사하기도 합니다.\n",
        "# 러시아: 러시아에서도 크렘린(Kremlin) 내부의 스태프나 비서가 과도한 권력을 행사하는 것으로 비판받는 경우가 있습니다.\n",
        "\n",
        "# 이러한 비판은 대체로 대통령이나 총리, 그리고 그들의 주변 스태프가\n",
        "# '체크 앤 밸런스(checks and balances)'의 원칙을 무시하거나 약화시킬 때 나타나곤 합니다.\n",
        "# 이는 민주주의 체제에서 논란이 될 수 있는 문제로, 특히나 대통령이나 총리가\n",
        "# 독단적인 결정을 내릴 가능성이 있을 때 중요한 문제로 다루어집니다.\n",
        "\n",
        "# GPT-4 맞춤유무 : x"
      ],
      "metadata": {
        "colab": {
          "base_uri": "https://localhost:8080/"
        },
        "id": "iCU0orzkYvSE",
        "outputId": "96d942a4-d859-41ce-d42e-5baa07da2758"
      },
      "execution_count": null,
      "outputs": [
        {
          "output_type": "stream",
          "name": "stdout",
          "text": [
            "7.4 폭로사건\n"
          ]
        }
      ]
    },
    {
      "cell_type": "code",
      "source": [
        "# idx 9\n",
        "gen(\"국무회의의 심의를 거쳐야 한다는 헌법 제 몇 조의 내용인가?\")\n",
        "# 정답 : 제89조\n",
        "# 맞춤유무 : o\n",
        "\n",
        "# ChatGPT(GPT-4) results :\n",
        "# 한국 헌법에 따르면 국무회의의 심의를 거쳐야 하는 사항에 대한 규정은 여러 조에 걸쳐 나타나 있습니다.\n",
        "# 그러나 대통령의 권한과 국무회의의 역할에 대해 구체적으로 다루고 있는 부분은 대체로 헌법 제89조 이후에 나옵니다.\n",
        "# 이러한 내용은 헌법 개정이나 변경이 있을 수 있으므로, 정확한 정보를 원하신다면\n",
        "# 가장 최근의 한국 헌법을 참고하시는 것이 좋을 것 같습니다.\n",
        "\n",
        "# GPT-4 맞춤유무 : o"
      ],
      "metadata": {
        "colab": {
          "base_uri": "https://localhost:8080/"
        },
        "id": "9-EhUkiiaa99",
        "outputId": "19bf8c57-b179-41bb-b2a8-deed206e0319"
      },
      "execution_count": null,
      "outputs": [
        {
          "output_type": "stream",
          "name": "stdout",
          "text": [
            "제89조\n"
          ]
        }
      ]
    },
    {
      "cell_type": "code",
      "source": [
        "# idx 10\n",
        "gen(\"법무부 장관을 제쳐놓고 민정수석이 개정안을 설명하는 게 이해가 안 된다고 지적한 경희대 석좌교수 이름은?\")\n",
        "# 정답 : 허영\n",
        "# 맞춤유무 : x\n",
        "\n",
        "# ChatGPT(GPT-4) results :\n",
        "# 죄송합니다만, 2021년 9월까지의 정보를 바탕으로는 그러한 사례나 경희대 석좌교수의 이름에 대한 정보를 확인할 수 없습니다.\n",
        "# 정보가 업데이트되지 않았기 때문에 최신 사항에 대해 알려 드릴 수 없습니다.\n",
        "# 다만, 일반적으로 법무부 장관이 아닌 민정수석이 법안 개정과 관련한 설명을 하는 경우에는 특별한 이유나 배경이 있을 수 있습니다.\n",
        "# 이는 정치적 또는 행정적 판단에 따라 다를 수 있으므로, 그 배경과 이유에 대해\n",
        "# 정확한 정보를 얻기 위해서는 관련 뉴스나 공식 발표를 참고하는 것이 좋을 것 같습니다.\n",
        "\n",
        "# GPT-4 맞춤유무 : x"
      ],
      "metadata": {
        "colab": {
          "base_uri": "https://localhost:8080/"
        },
        "id": "ZXnhAAtOad7l",
        "outputId": "6fbd28a8-2b44-4711-e4c6-e77eb6d496b9"
      },
      "execution_count": null,
      "outputs": [
        {
          "output_type": "stream",
          "name": "stdout",
          "text": [
            "김재현\n"
          ]
        }
      ]
    },
    {
      "cell_type": "code",
      "source": [
        "# idx 11\n",
        "gen(\"미국 군대 내 두번째로 높은 직위는 무엇인가?\")\n",
        "# 정답 : 미국 육군 부참모 총장\n",
        "# 맞춤유무 : o\n",
        "\n",
        "# ChatGPT(GPT-4) results :\n",
        "# 2021년 기준으로, 미국 군대 내에서 두 번째로 높은 직위는 여러 분야와 종류에 따라 다르지만,\n",
        "# 일반적으로는 '부참모 총장' (Vice Chairman of the Joint Chiefs of Staff)이라고 할 수 있습니다.\n",
        "# '참모 총장' (Chairman of the Joint Chiefs of Staff)이 미국 군대의 가장 높은 직위인데,\n",
        "# 이는 육군, 해군, 공군, 해병대의 참모 총장과 국토경비대의 지휘관들이 모여\n",
        "# 구성되는 고위 직위 그룹인 '합동참모본부' (Joint Chiefs of Staff)의 리더입니다.\n",
        "\n",
        "# 부참모 총장은 참모 총장이 부재할 경우나 그 외의 상황에서 참모 총장의 역할을 대신하게 됩니다.\n",
        "# 그 외에도 특별한 임무와 책임이 있을 수 있으며, 이는 현재 상황과 정책에 따라 달라질 수 있습니다.\n",
        "\n",
        "# 미국의 각 군별로도 두 번째로 높은 직위가 있을 수 있는데, 이는 군 별로 다르고 특별한 경우에 따라 다를 수 있습니다.\n",
        "# 예를 들어, 육군에서는 '부참모 총장' (Vice Chief of Staff), 해군에서는 '부참모' (Vice Chief of Naval Operations),\n",
        "# 공군에서는 '부참모 총장' (Vice Chief of Staff), 해병대에서는 '부사령관' (Assistant Commandant) 등이 있을 수 있습니다.\n",
        "\n",
        "# GPT-4 맞춤유무 : o"
      ],
      "metadata": {
        "colab": {
          "base_uri": "https://localhost:8080/"
        },
        "id": "V02UDfGjah49",
        "outputId": "87d30192-45dc-4638-9cce-a4a501cc8677"
      },
      "execution_count": null,
      "outputs": [
        {
          "output_type": "stream",
          "name": "stdout",
          "text": [
            "미국 육군 부참모 총장\n"
          ]
        }
      ]
    },
    {
      "cell_type": "code",
      "source": [
        "# idx 12\n",
        "gen(\"로널드 레이건 정부 출범 당시 알렉산더 헤이그는 어떤 직책을 맡았는가?\")\n",
        "# 정답 : 초대 국무장관직\n",
        "# 맞춤유무 : o\n",
        "\n",
        "# ChatGPT(GPT-4) results :\n",
        "# 로널드 레이건 대통령이 1981년에 취임했을 때 알렉산더 헤이그(Alexander Haig)는\n",
        "# 미국 국무장관(Secretary of State)으로 임명되었습니다. 알렉산더 헤이그는 미국 육군 장군 출신으로,\n",
        "# 리처드 닉슨과 제럴드 포드 대통령 아래에서 백악관 비서실장(White House Chief of Staff)을 지낸 경력도 있습니다.\n",
        "#\n",
        "# 레이건 정부에서 그는 주로 대외 정책과 외교 문제를 총괄하였으나,\n",
        "# 그의 임기는 비교적 짧게 끝났고, 1982년에 사임하게 되었습니다.\n",
        "\n",
        "# GPT-4 맞춤유무 : o"
      ],
      "metadata": {
        "colab": {
          "base_uri": "https://localhost:8080/"
        },
        "id": "9_RuJDKFakbr",
        "outputId": "6599fbc0-70c3-42c4-9120-832aa8575f57"
      },
      "execution_count": null,
      "outputs": [
        {
          "output_type": "stream",
          "name": "stdout",
          "text": [
            "미국 국무장관\n"
          ]
        }
      ]
    },
    {
      "cell_type": "code",
      "source": [
        "# idx 13\n",
        "gen(\"알렉산더 헤이그는 어느 대통령의 밑에서 국무장관을 지냈는가?\")\n",
        "# 정답 : 로널드 레이건 대통령\n",
        "# 맞춤유무 : x\n",
        "\n",
        "# ChatGPT(GPT-4) results :\n",
        "# 알렉산더 헤이그(Alexander Haig)는 로널드 레이건(Ronald Reagan) 대통령 밑에서\n",
        "# 1981년부터 1982년까지 미국의 국무장관을 지냈습니다.\n",
        "# 알렉산더 헤이그는 이전에도 리처드 닉슨(Richard Nixon) 및\n",
        "# 제럴드 포드(Gerald Ford) 대통령 아래에서 백악관 비서실장을 역임했습니다.\n",
        "# 그는 또한 군사 경력도 있으며, 미국 육군에서 4성 장군까지 승진한 이력이 있습니다.\n",
        "# 헤이그는 국제 정치와 미국 내 정치에서 다양한 역할을 했으며, 그의 경력은 매우 다채로웠습니다.\n",
        "\n",
        "# GPT-4 맞춤유무 : o"
      ],
      "metadata": {
        "colab": {
          "base_uri": "https://localhost:8080/"
        },
        "id": "zbtmvjcDammq",
        "outputId": "d76f8586-7756-45af-ea4e-de24b21c100c"
      },
      "execution_count": null,
      "outputs": [
        {
          "output_type": "stream",
          "name": "stdout",
          "text": [
            "론 소바노화 잭슨 대통령\n"
          ]
        }
      ]
    },
    {
      "cell_type": "code",
      "source": [
        "# idx 14\n",
        "gen(\"로널드 레이건 대통령 밑에서 일한 국무 장관은 누구인가?\")\n",
        "# 정답 : 알렉산더 메이그스 헤이그 2세\n",
        "# 맞춤유무 : x\n",
        "\n",
        "# ChatGPT(GPT-4) results :\n",
        "# 로널드 레이건 대통령이 집권했던 1981년부터 1989년까지 두 명의 국무 장관이 있었습니다.\n",
        "\n",
        "# 1. 알렉산더 헤이그 (Alexander Haig) - 1981년 1월 22일부터 1982년 7월 5일까지 국무 장관을 지냈습니다.\n",
        "# 그는 레이건 정부 초기에 재임했으며, 그 전에는 유엔 군사 사령관 및 닉슨 및 포드 정부에서 다양한 역할을 했습니다.\n",
        "\n",
        "# 2. 조지 P. 슐츠 (George P. Shultz) - 1982년 7월 16일부터 1989년 1월 20일까지 재임했습니다.\n",
        "# 슐츠는 레이건 정부에서 상당한 영향력을 가진 인물로, 미국과 소비에트 연합 간의 관계 개선과 미국의 중동 정책 등에 큰 역할을 했습니다.\n",
        "\n",
        "# 이 두 장관은 레이건 대통령 밑에서 국무 장관을 역임하면서 미국의 외교 정책에 큰 영향을 끼쳤습니다.\n",
        "\n",
        "# GPT-4 맞춤유무 : o"
      ],
      "metadata": {
        "colab": {
          "base_uri": "https://localhost:8080/"
        },
        "id": "4ohQWh69apBL",
        "outputId": "d890203f-d972-49aa-d535-0aa1f7e9b871"
      },
      "execution_count": null,
      "outputs": [
        {
          "output_type": "stream",
          "name": "stdout",
          "text": [
            "조지 P. 슈르츠\n"
          ]
        }
      ]
    },
    {
      "cell_type": "code",
      "source": [
        "# idx 15\n",
        "gen(\"미국 군대에서 두번째로 높은 직위는?\")\n",
        "# 정답 : 미국 육군 부참모 총장\n",
        "# 맞춤유무 : o\n",
        "\n",
        "# ChatGPT(GPT-4) results :\n",
        "# 2021년 9월까지의 정보에 따르면, 미국 군대에서 두 번째로 높은 직위는 '부참모총장' (Vice Chairman of the Joint Chiefs of Staff)입니다.\n",
        "# 부참모총장은 미국 합동참모본부의 참모총장을 보좌하며, 참모총장이 결석하거나 부재 중일 때 그 역할을 대신합니다.\n",
        "# 부참모총장은 미국 군대의 모든 분야에서 일어나는 작전과 전략, 훈련에 관한 권한을 가지고 있습니다.\n",
        "\n",
        "# 미국의 군사 지휘 구조에서 참모총장 (Chairman of the Joint Chiefs of Staff)은 가장 높은 군사 직위로,\n",
        "# 대통령과 국방부 장관에게 군사 상의를 제공합니다. 참모총장이 가장 높은 직위이며,\n",
        "# 그 아래에 부참모총장이 위치한다고 볼 수 있습니다.\n",
        "\n",
        "# 주의할 점은 각 군의 최고 직위 (예: 육군의 '육군참모총장', 해군의 '해군작전총장', 공군의 '공군참모총장' 등)도\n",
        "#  높은 직위이지만, 이들은 합동참모본부 참모총장 아래에 위치한다고 볼 수 있습니다.\n",
        "\n",
        "# GPT-4 맞춤유무 : o"
      ],
      "metadata": {
        "colab": {
          "base_uri": "https://localhost:8080/"
        },
        "id": "TeTOTE6basiT",
        "outputId": "0eb19c48-4dd0-4e97-81c5-4830d7e98b9e"
      },
      "execution_count": null,
      "outputs": [
        {
          "output_type": "stream",
          "name": "stdout",
          "text": [
            "미국 육군 부참모 총장\n"
          ]
        }
      ]
    },
    {
      "cell_type": "code",
      "source": [
        "# idx 16\n",
        "gen(\"알렉산더 메이그스 헤이그의 생년월일은?\")\n",
        "# 정답 : 1924년 12월 2일\n",
        "# 맞춤유무 : o\n",
        "\n",
        "# ChatGPT(GPT-4) results :\n",
        "# 알렉산더 메이그스 헤이그(Alexander Meigs Haig Jr.)는 1924년 12월 2일에 태어났습니다.\n",
        "# 그는 미국의 군인과 정치인으로, 로널드 레이건 대통령 밑에서 국무장관을 역임했습니다.\n",
        "# 또한 리처드 닉슨과 제럴드 포드 대통령 아래에서 백악관 비서실장을 맡았으며, 미국 육군에서 4성 장군까지 올랐습니다.\n",
        "# 헤이그는 2010년 2월 20일에 사망했습니다.\n",
        "\n",
        "# GPT-4 맞춤유무 : o"
      ],
      "metadata": {
        "colab": {
          "base_uri": "https://localhost:8080/"
        },
        "id": "R8BSvTwmavoa",
        "outputId": "8ecd3917-3c43-4079-c240-44b409899649"
      },
      "execution_count": null,
      "outputs": [
        {
          "output_type": "stream",
          "name": "stdout",
          "text": [
            "1924년 12월 2일\n"
          ]
        }
      ]
    },
    {
      "cell_type": "code",
      "source": [
        "# idx 17\n",
        "gen(\"알렉산더 헤이그가 로널드 레이건 대통령 밑에서 맡은 직책은 무엇이었나?\")\n",
        "# 정답 : 국무장관\n",
        "# 맞춤유무 : o\n",
        "\n",
        "# ChatGPT(GPT-4) results :\n",
        "# 알렉산더 헤이그(Alexander Haig)는 로널드 레이건(Ronald Reagan) 대통령 밑에서\n",
        "# 1981년부터 1982년까지 미국 국무장관(Secretary of State)을 지냈습니다.\n",
        "# 헤이그는 레이건 대통령이 취임한 이후 초기의 외교 정책을 담당하며 중요한 역할을 했습니다.\n",
        "# 하지만 그의 임기는 상대적으로 짧았고, 내부에서의 정치적 긴장과 정책적 차이 때문에 1982년에 사임했습니다.\n",
        "\n",
        "# 특히 알렉산더 헤이그는 1981년 레이건 대통령이 총격을 당한 사건 이후 \"나는 여기서 권력을 쥐고 있다\"라고 발언한 것으로 유명합니다.\n",
        "# 이 발언은 다소 논란이 되었으며 헤이그의 정치적 경력에 영향을 미쳤습니다.\n",
        "# 이는 헤이그가 대통령의 위기 상황에서 어떤 역할을 하려고 했는지,\n",
        "# 그리고 그의 권력을 어떻게 이해하고 있었는지에 대한 논란을 촉발했습니다.\n",
        "\n",
        "# GPT-4 맞춤유무 : o"
      ],
      "metadata": {
        "colab": {
          "base_uri": "https://localhost:8080/"
        },
        "id": "8SlWsrc6ayIp",
        "outputId": "db64b267-a647-4956-dfa9-54c2013655e2"
      },
      "execution_count": null,
      "outputs": [
        {
          "output_type": "stream",
          "name": "stdout",
          "text": [
            "국무장관\n"
          ]
        }
      ]
    },
    {
      "cell_type": "code",
      "source": [
        "# idx 18\n",
        "gen(\"알렉산더 헤이그가 1984년 발간한 회고록의 제목은 무엇인가?\")\n",
        "# 정답 : 경고:현실주의, 레이건과 외교 정책\n",
        "# 맞춤유무 : x\n",
        "\n",
        "# ChatGPT(GPT-4) results :\n",
        "# 알렉산더 헤이그의 1984년에 발간된 회고록의 제목은 \"Caveat: Realism, Reagan, and Foreign Policy\" 입니다.\n",
        "# 이 책에서 헤이그는 그의 생각과 경험을 공유하며,\n",
        "# 특히 로널드 레이건 정부에서의 국무장관 시절을 중심으로 다양한 외교 정책 이슈에 대해 논의합니다.\n",
        "\n",
        "# GPT-4 맞춤유무 : o"
      ],
      "metadata": {
        "colab": {
          "base_uri": "https://localhost:8080/"
        },
        "id": "0yOxyafNa1T8",
        "outputId": "e6f46abb-ade2-4dd6-9059-cb6bce58a289"
      },
      "execution_count": null,
      "outputs": [
        {
          "output_type": "stream",
          "name": "stdout",
          "text": [
            "The Making of the President 1968\n"
          ]
        }
      ]
    },
    {
      "cell_type": "code",
      "source": [
        "# idx 19\n",
        "gen(\"알렉산더 헤이그와 1950년 5월 결혼한 상대의 이름은 무엇인가?\")\n",
        "# 정답 : 퍼트리샤 앤토이넷 폭스\n",
        "# 맞춤유무 : x\n",
        "\n",
        "# ChatGPT(GPT-4) results :\n",
        "# 알렉산더 헤이그(Alexander Haig)는 1950년 5월에 패트리샤 폭스(Patricia Fox)와 결혼했습니다.\n",
        "# 알렉산더 헤이그는 미국의 군인이자 정치가로, 로널드 레이건 대통령 밑에서 국무장관을 역임했습니다.\n",
        "# 그는 또한 리처드 닉슨과 제럴드 포드 대통령 밑에서 백악관 비서실장을 역임하기도 했습니다.\n",
        "# 패트리샤 폭스와의 결혼을 통해 그는 여러 명의 자녀를 두었습니다.\n",
        "\n",
        "# GPT-4 맞춤유무 : o"
      ],
      "metadata": {
        "colab": {
          "base_uri": "https://localhost:8080/"
        },
        "id": "r5dlP11na3Za",
        "outputId": "45be4bba-8f3f-4690-b3a5-e70c6d165aa8"
      },
      "execution_count": null,
      "outputs": [
        {
          "output_type": "stream",
          "name": "stdout",
          "text": [
            "피트라 켈리\n"
          ]
        }
      ]
    },
    {
      "cell_type": "markdown",
      "source": [
        "# 예측결과 성능 정리"
      ],
      "metadata": {
        "id": "98BXREz9ox0M"
      }
    },
    {
      "cell_type": "code",
      "source": [
        "# 맞춘 개수 정리\n",
        "# Fine-Tuned GPT-3.5(Data Augmentation 적용 x) : 11/20\n",
        "# GPT-4(ChaptGPT) : 11/20\n",
        "# Fine-Tuend Llama 2(Data Augmentation 적용 x) : 15/20\n",
        "# Fine-Tuend Llama 2(Data Augmentation 적용 o) : 20/20"
      ],
      "metadata": {
        "id": "cqpR2OuZoog-"
      },
      "execution_count": null,
      "outputs": []
    }
  ]
}